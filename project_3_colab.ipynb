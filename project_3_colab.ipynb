{
  "nbformat": 4,
  "nbformat_minor": 0,
  "metadata": {
    "kernelspec": {
      "display_name": "Python 3",
      "language": "python",
      "name": "python3"
    },
    "language_info": {
      "codemirror_mode": {
        "name": "ipython",
        "version": 3
      },
      "file_extension": ".py",
      "mimetype": "text/x-python",
      "name": "python",
      "nbconvert_exporter": "python",
      "pygments_lexer": "ipython3",
      "version": "3.8.8"
    },
    "colab": {
      "name": "project_3.ipynb",
      "provenance": [],
      "collapsed_sections": [],
      "include_colab_link": true
    }
  },
  "cells": [
    {
      "cell_type": "markdown",
      "metadata": {
        "id": "view-in-github",
        "colab_type": "text"
      },
      "source": [
        "<a href=\"https://colab.research.google.com/github/aditya7139/project_cse/blob/main/project_3_colab.ipynb\" target=\"_parent\"><img src=\"https://colab.research.google.com/assets/colab-badge.svg\" alt=\"Open In Colab\"/></a>"
      ]
    },
    {
      "cell_type": "markdown",
      "metadata": {
        "id": "OgtXYThkdfaO"
      },
      "source": [
        "# Machine Learning for the Detection of Network Attacks\n",
        "\n",
        "\n",
        "Analyse the machine learning algorithms on the [CICIDS 2017 Dataset] for clasification of network attacks.\n",
        "(https://www.unb.ca/cic/datasets/ids-2017.html): \n",
        "\n",
        "- Support Vector Machine (SVM)\n",
        "- Decision Tree\n",
        "- Naive Bayes\n",
        "- K Means Clustering \n",
        "- K Nearest Neighbours\n"
      ]
    },
    {
      "cell_type": "code",
      "metadata": {
        "colab": {
          "base_uri": "https://localhost:8080/"
        },
        "id": "Fj6yoH9NdfaO",
        "outputId": "b478dc57-1129-4a13-982e-f25df1688440"
      },
      "source": [
        "from google.colab import drive\n",
        "drive.mount('/content/drive')"
      ],
      "execution_count": 1,
      "outputs": [
        {
          "output_type": "stream",
          "text": [
            "Mounted at /content/drive\n"
          ],
          "name": "stdout"
        }
      ]
    },
    {
      "cell_type": "markdown",
      "metadata": {
        "id": "mTWlkdLbdfaP"
      },
      "source": [
        "# Import required libraries."
      ]
    },
    {
      "cell_type": "code",
      "metadata": {
        "id": "t1LB2j-PdfaP"
      },
      "source": [
        "import glob\n",
        "import matplotlib.pyplot as plt\n",
        "import numpy as np\n",
        "import pandas as pd \n",
        "import seaborn as sn\n",
        "import time\n",
        "\n",
        "from numpy import array\n",
        "\n",
        "from sklearn import preprocessing\n",
        "from sklearn.preprocessing import StandardScaler\n",
        "from sklearn.preprocessing import MinMaxScaler\n",
        "from sklearn.preprocessing import RobustScaler\n",
        "\n",
        "from sklearn.tree import DecisionTreeClassifier\n",
        "from sklearn.svm import LinearSVC\n",
        "from sklearn.naive_bayes import MultinomialNB\n",
        "from sklearn.neighbors import NearestNeighbors\n",
        "from sklearn.neighbors import KNeighborsClassifier\n",
        "from sklearn.cluster import KMeans\n",
        "from sklearn.decomposition import PCA\n",
        "from sklearn.ensemble import RandomForestRegressor\n",
        "from sklearn.ensemble import RandomForestClassifier\n",
        "\n",
        "from sklearn.feature_selection import SelectKBest\n",
        "from sklearn.feature_selection import chi2\n",
        "from sklearn.feature_selection import mutual_info_classif\n",
        "\n",
        "from sklearn import metrics\n",
        "from sklearn.metrics import accuracy_score\n",
        "from sklearn.metrics import confusion_matrix\n",
        "from sklearn.metrics import precision_recall_fscore_support as score\n",
        "from sklearn.metrics import completeness_score, homogeneity_score, v_measure_score\n",
        "\n",
        "from sklearn.model_selection import train_test_split"
      ],
      "execution_count": 2,
      "outputs": []
    },
    {
      "cell_type": "markdown",
      "metadata": {
        "id": "rrTqHO26dfaP"
      },
      "source": [
        "# Loading the dataset"
      ]
    },
    {
      "cell_type": "markdown",
      "metadata": {
        "id": "VG1Uo6m1dfaP"
      },
      "source": [
        "The implemented attacks include Brute Force FTP, Brute Force SSH, DoS, Heartbleed, Web Attack, Infiltration, Botnet and DDoS. \n",
        "\n",
        "Datasets is available in 8 different csv files.\n",
        "\n",
        "- Monday-WorkingHours.pcap_ISCX.csv\n",
        "- Tuesday-WorkingHours.pcap_ISCX.csv\n",
        "- Wednesday-workingHours.pcap_ISCX.csv\n",
        "- Thursday-WorkingHours-Morning-WebAttacks.pcap_ISCX.csv\n",
        "- Thursday-WorkingHours-Afternoon-Infilteration.pcap_ISCX.csv\n",
        "- Friday-WorkingHours-Morning.pcap_ISCX.csv\n",
        "- Friday-WorkingHours-Afternoon-PortScan.pcap_ISCX.csv\n",
        "- Friday-WorkingHours-Afternoon-DDos.pcap_ISCX.csv\n",
        "\n",
        "8 different csv files of cicids dataset needs to be concatenated into a single csv file."
      ]
    },
    {
      "cell_type": "code",
      "metadata": {
        "id": "f49tHBE2dfaQ"
      },
      "source": [
        "# # path to the all 8 files of CICIDS dataset.\n",
        "# path = './datasets'\n",
        "# all_files = glob.glob(path + \"/*.csv\")\n",
        "\n",
        "# # concatenate the 8 files into 1.\n",
        "# dataset = pd.concat((pd.read_csv(f) for f in all_files))"
      ],
      "execution_count": 3,
      "outputs": []
    },
    {
      "cell_type": "code",
      "metadata": {
        "id": "Da5x-qwCdfaQ"
      },
      "source": [
        "# # saving the combined dataset to disk named cicids.csv\n",
        "# dataset.to_csv('cicids')"
      ],
      "execution_count": 4,
      "outputs": []
    },
    {
      "cell_type": "code",
      "metadata": {
        "id": "sNQQUh2PdfaQ"
      },
      "source": [
        "# dataset=pd.read_csv('cicids.csv')\n",
        "dataset=pd.read_csv('drive/MyDrive/datasets/cicids.zip')"
      ],
      "execution_count": 5,
      "outputs": []
    },
    {
      "cell_type": "code",
      "metadata": {
        "colab": {
          "base_uri": "https://localhost:8080/"
        },
        "id": "vm5GKXQrdfaQ",
        "outputId": "7dc4dddc-4507-44d1-9c3f-c6b06469faaf"
      },
      "source": [
        "# Dimenions of dataset.\n",
        "print(dataset.shape)"
      ],
      "execution_count": 6,
      "outputs": [
        {
          "output_type": "stream",
          "text": [
            "(2827876, 79)\n"
          ],
          "name": "stdout"
        }
      ]
    },
    {
      "cell_type": "code",
      "metadata": {
        "id": "ntVCwZ-pdfaR"
      },
      "source": [
        "# column names as per dataset.\n",
        "\n",
        "col_names = [\"Destination_Port\",\n",
        "             \"Flow_Duration\", \n",
        "             \"Total_Fwd_Packets\",\n",
        "             \"Total_Backward_Packets\",\n",
        "             \"Total_Length_of_Fwd_Packets\", \n",
        "             \"Total_Length_of_Bwd_Packets\", \n",
        "             \"Fwd_Packet_Length_Max\", \n",
        "             \"Fwd_Packet_Length_Min\", \n",
        "             \"Fwd_Packet_Length_Mean\", \n",
        "             \"Fwd_Packet_Length_Std\",\n",
        "             \"Bwd_Packet_Length_Max\", \n",
        "             \"Bwd_Packet_Length_Min\", \n",
        "             \"Bwd_Packet_Length_Mean\", \n",
        "             \"Bwd_Packet_Length_Std\",\n",
        "             \"Flow_Bytes_s\", \n",
        "             \"Flow_Packets_s\", \n",
        "             \"Flow_IAT_Mean\", \n",
        "             \"Flow_IAT_Std\", \n",
        "             \"Flow_IAT_Max\", \n",
        "             \"Flow_IAT_Min\",\n",
        "             \"Fwd_IAT_Total\", \n",
        "             \"Fwd_IAT_Mean\", \n",
        "             \"Fwd_IAT_Std\", \n",
        "             \"Fwd_IAT_Max\", \n",
        "             \"Fwd_IAT_Min\",\n",
        "             \"Bwd_IAT_Total\", \n",
        "             \"Bwd_IAT_Mean\", \n",
        "             \"Bwd_IAT_Std\", \n",
        "             \"Bwd_IAT_Max\", \n",
        "             \"Bwd_IAT_Min\",\n",
        "             \"Fwd_PSH_Flags\", \n",
        "             \"Bwd_PSH_Flags\", \n",
        "             \"Fwd_URG_Flags\", \n",
        "             \"Bwd_URG_Flags\", \n",
        "             \"Fwd_Header_Length\", \n",
        "             \"Bwd_Header_Length\",\n",
        "             \"Fwd_Packets_s\", \n",
        "             \"Bwd_Packets_s\", \n",
        "             \"Min_Packet_Length\", \n",
        "             \"Max_Packet_Length\", \n",
        "             \"Packet_Length_Mean\", \n",
        "             \"Packet_Length_Std\", \n",
        "             \"Packet_Length_Variance\",\n",
        "             \"FIN_Flag_Count\", \n",
        "             \"SYN_Flag_Count\", \n",
        "             \"RST_Flag_Count\", \n",
        "             \"PSH_Flag_Count\", \n",
        "             \"ACK_Flag_Count\", \n",
        "             \"URG_Flag_Count\", \n",
        "             \"CWE_Flag_Count\", \n",
        "             \"ECE_Flag_Count\", \n",
        "             \"Down_Up_Ratio\", \n",
        "             \"Average_Packet_Size\", \n",
        "             \"Avg_Fwd_Segment_Size\", \n",
        "             \"Avg_Bwd_Segment_Size\", \n",
        "             \"Fwd_Header_Length\",\n",
        "             \"Fwd_Avg_Bytes_Bulk\", \n",
        "             \"Fwd_Avg_Packets_Bulk\", \n",
        "             \"Fwd_Avg_Bulk_Rate\", \n",
        "             \"Bwd_Avg_Bytes_Bulk\", \n",
        "             \"Bwd_Avg_Packets_Bulk\",\n",
        "             \"Bwd_Avg_Bulk_Rate\",\n",
        "             \"Subflow_Fwd_Packets\", \n",
        "             \"Subflow_Fwd_Bytes\", \n",
        "             \"Subflow_Bwd_Packets\", \n",
        "             \"Subflow_Bwd_Bytes\",\n",
        "             \"Init_Win_bytes_forward\", \n",
        "             \"Init_Win_bytes_backward\", \n",
        "             \"act_data_pkt_fwd\", \n",
        "             \"min_seg_size_forward\",\n",
        "             \"Active_Mean\", \n",
        "             \"Active_Std\", \n",
        "             \"Active_Max\", \n",
        "             \"Active_Min\",\n",
        "             \"Idle_Mean\", \n",
        "             \"Idle_Std\", \n",
        "             \"Idle_Max\", \n",
        "             \"Idle_Min\", \n",
        "             \"Label\"\n",
        "            ]"
      ],
      "execution_count": 7,
      "outputs": []
    },
    {
      "cell_type": "code",
      "metadata": {
        "id": "w1G7DMrodfaR"
      },
      "source": [
        "# Max rows and colummns to be shown in print console\n",
        "\n",
        "pd.options.display.max_columns= 200\n",
        "pd.options.display.max_rows= 200"
      ],
      "execution_count": 8,
      "outputs": []
    },
    {
      "cell_type": "code",
      "metadata": {
        "colab": {
          "base_uri": "https://localhost:8080/",
          "height": 223
        },
        "id": "hcgR_kPPdfaR",
        "outputId": "4e7afce5-2067-4b59-b7e4-59e6e6972961"
      },
      "source": [
        "# Assigning the column names.\n",
        "dataset.columns = col_names\n",
        "\n",
        "# first 5 records in the dataset.\n",
        "dataset.head(5)"
      ],
      "execution_count": 9,
      "outputs": [
        {
          "output_type": "execute_result",
          "data": {
            "text/html": [
              "<div>\n",
              "<style scoped>\n",
              "    .dataframe tbody tr th:only-of-type {\n",
              "        vertical-align: middle;\n",
              "    }\n",
              "\n",
              "    .dataframe tbody tr th {\n",
              "        vertical-align: top;\n",
              "    }\n",
              "\n",
              "    .dataframe thead th {\n",
              "        text-align: right;\n",
              "    }\n",
              "</style>\n",
              "<table border=\"1\" class=\"dataframe\">\n",
              "  <thead>\n",
              "    <tr style=\"text-align: right;\">\n",
              "      <th></th>\n",
              "      <th>Destination_Port</th>\n",
              "      <th>Flow_Duration</th>\n",
              "      <th>Total_Fwd_Packets</th>\n",
              "      <th>Total_Backward_Packets</th>\n",
              "      <th>Total_Length_of_Fwd_Packets</th>\n",
              "      <th>Total_Length_of_Bwd_Packets</th>\n",
              "      <th>Fwd_Packet_Length_Max</th>\n",
              "      <th>Fwd_Packet_Length_Min</th>\n",
              "      <th>Fwd_Packet_Length_Mean</th>\n",
              "      <th>Fwd_Packet_Length_Std</th>\n",
              "      <th>Bwd_Packet_Length_Max</th>\n",
              "      <th>Bwd_Packet_Length_Min</th>\n",
              "      <th>Bwd_Packet_Length_Mean</th>\n",
              "      <th>Bwd_Packet_Length_Std</th>\n",
              "      <th>Flow_Bytes_s</th>\n",
              "      <th>Flow_Packets_s</th>\n",
              "      <th>Flow_IAT_Mean</th>\n",
              "      <th>Flow_IAT_Std</th>\n",
              "      <th>Flow_IAT_Max</th>\n",
              "      <th>Flow_IAT_Min</th>\n",
              "      <th>Fwd_IAT_Total</th>\n",
              "      <th>Fwd_IAT_Mean</th>\n",
              "      <th>Fwd_IAT_Std</th>\n",
              "      <th>Fwd_IAT_Max</th>\n",
              "      <th>Fwd_IAT_Min</th>\n",
              "      <th>Bwd_IAT_Total</th>\n",
              "      <th>Bwd_IAT_Mean</th>\n",
              "      <th>Bwd_IAT_Std</th>\n",
              "      <th>Bwd_IAT_Max</th>\n",
              "      <th>Bwd_IAT_Min</th>\n",
              "      <th>Fwd_PSH_Flags</th>\n",
              "      <th>Bwd_PSH_Flags</th>\n",
              "      <th>Fwd_URG_Flags</th>\n",
              "      <th>Bwd_URG_Flags</th>\n",
              "      <th>Fwd_Header_Length</th>\n",
              "      <th>Bwd_Header_Length</th>\n",
              "      <th>Fwd_Packets_s</th>\n",
              "      <th>Bwd_Packets_s</th>\n",
              "      <th>Min_Packet_Length</th>\n",
              "      <th>Max_Packet_Length</th>\n",
              "      <th>Packet_Length_Mean</th>\n",
              "      <th>Packet_Length_Std</th>\n",
              "      <th>Packet_Length_Variance</th>\n",
              "      <th>FIN_Flag_Count</th>\n",
              "      <th>SYN_Flag_Count</th>\n",
              "      <th>RST_Flag_Count</th>\n",
              "      <th>PSH_Flag_Count</th>\n",
              "      <th>ACK_Flag_Count</th>\n",
              "      <th>URG_Flag_Count</th>\n",
              "      <th>CWE_Flag_Count</th>\n",
              "      <th>ECE_Flag_Count</th>\n",
              "      <th>Down_Up_Ratio</th>\n",
              "      <th>Average_Packet_Size</th>\n",
              "      <th>Avg_Fwd_Segment_Size</th>\n",
              "      <th>Avg_Bwd_Segment_Size</th>\n",
              "      <th>Fwd_Header_Length</th>\n",
              "      <th>Fwd_Avg_Bytes_Bulk</th>\n",
              "      <th>Fwd_Avg_Packets_Bulk</th>\n",
              "      <th>Fwd_Avg_Bulk_Rate</th>\n",
              "      <th>Bwd_Avg_Bytes_Bulk</th>\n",
              "      <th>Bwd_Avg_Packets_Bulk</th>\n",
              "      <th>Bwd_Avg_Bulk_Rate</th>\n",
              "      <th>Subflow_Fwd_Packets</th>\n",
              "      <th>Subflow_Fwd_Bytes</th>\n",
              "      <th>Subflow_Bwd_Packets</th>\n",
              "      <th>Subflow_Bwd_Bytes</th>\n",
              "      <th>Init_Win_bytes_forward</th>\n",
              "      <th>Init_Win_bytes_backward</th>\n",
              "      <th>act_data_pkt_fwd</th>\n",
              "      <th>min_seg_size_forward</th>\n",
              "      <th>Active_Mean</th>\n",
              "      <th>Active_Std</th>\n",
              "      <th>Active_Max</th>\n",
              "      <th>Active_Min</th>\n",
              "      <th>Idle_Mean</th>\n",
              "      <th>Idle_Std</th>\n",
              "      <th>Idle_Max</th>\n",
              "      <th>Idle_Min</th>\n",
              "      <th>Label</th>\n",
              "    </tr>\n",
              "  </thead>\n",
              "  <tbody>\n",
              "    <tr>\n",
              "      <th>0</th>\n",
              "      <td>0</td>\n",
              "      <td>54865</td>\n",
              "      <td>3</td>\n",
              "      <td>2</td>\n",
              "      <td>0</td>\n",
              "      <td>12</td>\n",
              "      <td>0</td>\n",
              "      <td>6</td>\n",
              "      <td>6</td>\n",
              "      <td>6.0</td>\n",
              "      <td>0.0</td>\n",
              "      <td>0</td>\n",
              "      <td>0</td>\n",
              "      <td>0.0</td>\n",
              "      <td>0.0</td>\n",
              "      <td>4.000000e+06</td>\n",
              "      <td>666666.66670</td>\n",
              "      <td>3.0</td>\n",
              "      <td>0.0</td>\n",
              "      <td>3</td>\n",
              "      <td>3</td>\n",
              "      <td>3</td>\n",
              "      <td>3.0</td>\n",
              "      <td>0.0</td>\n",
              "      <td>3</td>\n",
              "      <td>3</td>\n",
              "      <td>0</td>\n",
              "      <td>0.0</td>\n",
              "      <td>0.0</td>\n",
              "      <td>0</td>\n",
              "      <td>0</td>\n",
              "      <td>0</td>\n",
              "      <td>0</td>\n",
              "      <td>0</td>\n",
              "      <td>0</td>\n",
              "      <td>40</td>\n",
              "      <td>0</td>\n",
              "      <td>666666.666700</td>\n",
              "      <td>0.000000</td>\n",
              "      <td>6</td>\n",
              "      <td>6</td>\n",
              "      <td>6.0</td>\n",
              "      <td>0.0</td>\n",
              "      <td>0.0</td>\n",
              "      <td>0</td>\n",
              "      <td>0</td>\n",
              "      <td>0</td>\n",
              "      <td>0</td>\n",
              "      <td>1</td>\n",
              "      <td>0</td>\n",
              "      <td>0</td>\n",
              "      <td>0</td>\n",
              "      <td>0</td>\n",
              "      <td>9.0</td>\n",
              "      <td>6.0</td>\n",
              "      <td>0.0</td>\n",
              "      <td>0</td>\n",
              "      <td>0</td>\n",
              "      <td>0</td>\n",
              "      <td>0</td>\n",
              "      <td>0</td>\n",
              "      <td>0</td>\n",
              "      <td>2</td>\n",
              "      <td>12</td>\n",
              "      <td>0</td>\n",
              "      <td>0</td>\n",
              "      <td>33</td>\n",
              "      <td>-1</td>\n",
              "      <td>1</td>\n",
              "      <td>20</td>\n",
              "      <td>0.0</td>\n",
              "      <td>0.0</td>\n",
              "      <td>0</td>\n",
              "      <td>0</td>\n",
              "      <td>0.0</td>\n",
              "      <td>0.0</td>\n",
              "      <td>0</td>\n",
              "      <td>0</td>\n",
              "      <td>BENIGN</td>\n",
              "    </tr>\n",
              "    <tr>\n",
              "      <th>1</th>\n",
              "      <td>1</td>\n",
              "      <td>55054</td>\n",
              "      <td>109</td>\n",
              "      <td>1</td>\n",
              "      <td>1</td>\n",
              "      <td>6</td>\n",
              "      <td>6</td>\n",
              "      <td>6</td>\n",
              "      <td>6</td>\n",
              "      <td>6.0</td>\n",
              "      <td>0.0</td>\n",
              "      <td>6</td>\n",
              "      <td>6</td>\n",
              "      <td>6.0</td>\n",
              "      <td>0.0</td>\n",
              "      <td>1.100917e+05</td>\n",
              "      <td>18348.62385</td>\n",
              "      <td>109.0</td>\n",
              "      <td>0.0</td>\n",
              "      <td>109</td>\n",
              "      <td>109</td>\n",
              "      <td>0</td>\n",
              "      <td>0.0</td>\n",
              "      <td>0.0</td>\n",
              "      <td>0</td>\n",
              "      <td>0</td>\n",
              "      <td>0</td>\n",
              "      <td>0.0</td>\n",
              "      <td>0.0</td>\n",
              "      <td>0</td>\n",
              "      <td>0</td>\n",
              "      <td>0</td>\n",
              "      <td>0</td>\n",
              "      <td>0</td>\n",
              "      <td>0</td>\n",
              "      <td>20</td>\n",
              "      <td>20</td>\n",
              "      <td>9174.311927</td>\n",
              "      <td>9174.311927</td>\n",
              "      <td>6</td>\n",
              "      <td>6</td>\n",
              "      <td>6.0</td>\n",
              "      <td>0.0</td>\n",
              "      <td>0.0</td>\n",
              "      <td>0</td>\n",
              "      <td>0</td>\n",
              "      <td>0</td>\n",
              "      <td>0</td>\n",
              "      <td>1</td>\n",
              "      <td>1</td>\n",
              "      <td>0</td>\n",
              "      <td>0</td>\n",
              "      <td>1</td>\n",
              "      <td>9.0</td>\n",
              "      <td>6.0</td>\n",
              "      <td>6.0</td>\n",
              "      <td>0</td>\n",
              "      <td>0</td>\n",
              "      <td>0</td>\n",
              "      <td>0</td>\n",
              "      <td>0</td>\n",
              "      <td>0</td>\n",
              "      <td>1</td>\n",
              "      <td>6</td>\n",
              "      <td>1</td>\n",
              "      <td>6</td>\n",
              "      <td>29</td>\n",
              "      <td>256</td>\n",
              "      <td>0</td>\n",
              "      <td>20</td>\n",
              "      <td>0.0</td>\n",
              "      <td>0.0</td>\n",
              "      <td>0</td>\n",
              "      <td>0</td>\n",
              "      <td>0.0</td>\n",
              "      <td>0.0</td>\n",
              "      <td>0</td>\n",
              "      <td>0</td>\n",
              "      <td>BENIGN</td>\n",
              "    </tr>\n",
              "    <tr>\n",
              "      <th>2</th>\n",
              "      <td>2</td>\n",
              "      <td>55055</td>\n",
              "      <td>52</td>\n",
              "      <td>1</td>\n",
              "      <td>1</td>\n",
              "      <td>6</td>\n",
              "      <td>6</td>\n",
              "      <td>6</td>\n",
              "      <td>6</td>\n",
              "      <td>6.0</td>\n",
              "      <td>0.0</td>\n",
              "      <td>6</td>\n",
              "      <td>6</td>\n",
              "      <td>6.0</td>\n",
              "      <td>0.0</td>\n",
              "      <td>2.307692e+05</td>\n",
              "      <td>38461.53846</td>\n",
              "      <td>52.0</td>\n",
              "      <td>0.0</td>\n",
              "      <td>52</td>\n",
              "      <td>52</td>\n",
              "      <td>0</td>\n",
              "      <td>0.0</td>\n",
              "      <td>0.0</td>\n",
              "      <td>0</td>\n",
              "      <td>0</td>\n",
              "      <td>0</td>\n",
              "      <td>0.0</td>\n",
              "      <td>0.0</td>\n",
              "      <td>0</td>\n",
              "      <td>0</td>\n",
              "      <td>0</td>\n",
              "      <td>0</td>\n",
              "      <td>0</td>\n",
              "      <td>0</td>\n",
              "      <td>20</td>\n",
              "      <td>20</td>\n",
              "      <td>19230.769230</td>\n",
              "      <td>19230.769230</td>\n",
              "      <td>6</td>\n",
              "      <td>6</td>\n",
              "      <td>6.0</td>\n",
              "      <td>0.0</td>\n",
              "      <td>0.0</td>\n",
              "      <td>0</td>\n",
              "      <td>0</td>\n",
              "      <td>0</td>\n",
              "      <td>0</td>\n",
              "      <td>1</td>\n",
              "      <td>1</td>\n",
              "      <td>0</td>\n",
              "      <td>0</td>\n",
              "      <td>1</td>\n",
              "      <td>9.0</td>\n",
              "      <td>6.0</td>\n",
              "      <td>6.0</td>\n",
              "      <td>0</td>\n",
              "      <td>0</td>\n",
              "      <td>0</td>\n",
              "      <td>0</td>\n",
              "      <td>0</td>\n",
              "      <td>0</td>\n",
              "      <td>1</td>\n",
              "      <td>6</td>\n",
              "      <td>1</td>\n",
              "      <td>6</td>\n",
              "      <td>29</td>\n",
              "      <td>256</td>\n",
              "      <td>0</td>\n",
              "      <td>20</td>\n",
              "      <td>0.0</td>\n",
              "      <td>0.0</td>\n",
              "      <td>0</td>\n",
              "      <td>0</td>\n",
              "      <td>0.0</td>\n",
              "      <td>0.0</td>\n",
              "      <td>0</td>\n",
              "      <td>0</td>\n",
              "      <td>BENIGN</td>\n",
              "    </tr>\n",
              "    <tr>\n",
              "      <th>3</th>\n",
              "      <td>3</td>\n",
              "      <td>46236</td>\n",
              "      <td>34</td>\n",
              "      <td>1</td>\n",
              "      <td>1</td>\n",
              "      <td>6</td>\n",
              "      <td>6</td>\n",
              "      <td>6</td>\n",
              "      <td>6</td>\n",
              "      <td>6.0</td>\n",
              "      <td>0.0</td>\n",
              "      <td>6</td>\n",
              "      <td>6</td>\n",
              "      <td>6.0</td>\n",
              "      <td>0.0</td>\n",
              "      <td>3.529412e+05</td>\n",
              "      <td>58823.52941</td>\n",
              "      <td>34.0</td>\n",
              "      <td>0.0</td>\n",
              "      <td>34</td>\n",
              "      <td>34</td>\n",
              "      <td>0</td>\n",
              "      <td>0.0</td>\n",
              "      <td>0.0</td>\n",
              "      <td>0</td>\n",
              "      <td>0</td>\n",
              "      <td>0</td>\n",
              "      <td>0.0</td>\n",
              "      <td>0.0</td>\n",
              "      <td>0</td>\n",
              "      <td>0</td>\n",
              "      <td>0</td>\n",
              "      <td>0</td>\n",
              "      <td>0</td>\n",
              "      <td>0</td>\n",
              "      <td>20</td>\n",
              "      <td>20</td>\n",
              "      <td>29411.764710</td>\n",
              "      <td>29411.764710</td>\n",
              "      <td>6</td>\n",
              "      <td>6</td>\n",
              "      <td>6.0</td>\n",
              "      <td>0.0</td>\n",
              "      <td>0.0</td>\n",
              "      <td>0</td>\n",
              "      <td>0</td>\n",
              "      <td>0</td>\n",
              "      <td>0</td>\n",
              "      <td>1</td>\n",
              "      <td>1</td>\n",
              "      <td>0</td>\n",
              "      <td>0</td>\n",
              "      <td>1</td>\n",
              "      <td>9.0</td>\n",
              "      <td>6.0</td>\n",
              "      <td>6.0</td>\n",
              "      <td>0</td>\n",
              "      <td>0</td>\n",
              "      <td>0</td>\n",
              "      <td>0</td>\n",
              "      <td>0</td>\n",
              "      <td>0</td>\n",
              "      <td>1</td>\n",
              "      <td>6</td>\n",
              "      <td>1</td>\n",
              "      <td>6</td>\n",
              "      <td>31</td>\n",
              "      <td>329</td>\n",
              "      <td>0</td>\n",
              "      <td>20</td>\n",
              "      <td>0.0</td>\n",
              "      <td>0.0</td>\n",
              "      <td>0</td>\n",
              "      <td>0</td>\n",
              "      <td>0.0</td>\n",
              "      <td>0.0</td>\n",
              "      <td>0</td>\n",
              "      <td>0</td>\n",
              "      <td>BENIGN</td>\n",
              "    </tr>\n",
              "    <tr>\n",
              "      <th>4</th>\n",
              "      <td>4</td>\n",
              "      <td>54863</td>\n",
              "      <td>3</td>\n",
              "      <td>2</td>\n",
              "      <td>0</td>\n",
              "      <td>12</td>\n",
              "      <td>0</td>\n",
              "      <td>6</td>\n",
              "      <td>6</td>\n",
              "      <td>6.0</td>\n",
              "      <td>0.0</td>\n",
              "      <td>0</td>\n",
              "      <td>0</td>\n",
              "      <td>0.0</td>\n",
              "      <td>0.0</td>\n",
              "      <td>4.000000e+06</td>\n",
              "      <td>666666.66670</td>\n",
              "      <td>3.0</td>\n",
              "      <td>0.0</td>\n",
              "      <td>3</td>\n",
              "      <td>3</td>\n",
              "      <td>3</td>\n",
              "      <td>3.0</td>\n",
              "      <td>0.0</td>\n",
              "      <td>3</td>\n",
              "      <td>3</td>\n",
              "      <td>0</td>\n",
              "      <td>0.0</td>\n",
              "      <td>0.0</td>\n",
              "      <td>0</td>\n",
              "      <td>0</td>\n",
              "      <td>0</td>\n",
              "      <td>0</td>\n",
              "      <td>0</td>\n",
              "      <td>0</td>\n",
              "      <td>40</td>\n",
              "      <td>0</td>\n",
              "      <td>666666.666700</td>\n",
              "      <td>0.000000</td>\n",
              "      <td>6</td>\n",
              "      <td>6</td>\n",
              "      <td>6.0</td>\n",
              "      <td>0.0</td>\n",
              "      <td>0.0</td>\n",
              "      <td>0</td>\n",
              "      <td>0</td>\n",
              "      <td>0</td>\n",
              "      <td>0</td>\n",
              "      <td>1</td>\n",
              "      <td>0</td>\n",
              "      <td>0</td>\n",
              "      <td>0</td>\n",
              "      <td>0</td>\n",
              "      <td>9.0</td>\n",
              "      <td>6.0</td>\n",
              "      <td>0.0</td>\n",
              "      <td>0</td>\n",
              "      <td>0</td>\n",
              "      <td>0</td>\n",
              "      <td>0</td>\n",
              "      <td>0</td>\n",
              "      <td>0</td>\n",
              "      <td>2</td>\n",
              "      <td>12</td>\n",
              "      <td>0</td>\n",
              "      <td>0</td>\n",
              "      <td>32</td>\n",
              "      <td>-1</td>\n",
              "      <td>1</td>\n",
              "      <td>20</td>\n",
              "      <td>0.0</td>\n",
              "      <td>0.0</td>\n",
              "      <td>0</td>\n",
              "      <td>0</td>\n",
              "      <td>0.0</td>\n",
              "      <td>0.0</td>\n",
              "      <td>0</td>\n",
              "      <td>0</td>\n",
              "      <td>BENIGN</td>\n",
              "    </tr>\n",
              "  </tbody>\n",
              "</table>\n",
              "</div>"
            ],
            "text/plain": [
              "   Destination_Port  Flow_Duration  Total_Fwd_Packets  Total_Backward_Packets  \\\n",
              "0                 0          54865                  3                       2   \n",
              "1                 1          55054                109                       1   \n",
              "2                 2          55055                 52                       1   \n",
              "3                 3          46236                 34                       1   \n",
              "4                 4          54863                  3                       2   \n",
              "\n",
              "   Total_Length_of_Fwd_Packets  Total_Length_of_Bwd_Packets  \\\n",
              "0                            0                           12   \n",
              "1                            1                            6   \n",
              "2                            1                            6   \n",
              "3                            1                            6   \n",
              "4                            0                           12   \n",
              "\n",
              "   Fwd_Packet_Length_Max  Fwd_Packet_Length_Min  Fwd_Packet_Length_Mean  \\\n",
              "0                      0                      6                       6   \n",
              "1                      6                      6                       6   \n",
              "2                      6                      6                       6   \n",
              "3                      6                      6                       6   \n",
              "4                      0                      6                       6   \n",
              "\n",
              "   Fwd_Packet_Length_Std  Bwd_Packet_Length_Max  Bwd_Packet_Length_Min  \\\n",
              "0                    6.0                    0.0                      0   \n",
              "1                    6.0                    0.0                      6   \n",
              "2                    6.0                    0.0                      6   \n",
              "3                    6.0                    0.0                      6   \n",
              "4                    6.0                    0.0                      0   \n",
              "\n",
              "   Bwd_Packet_Length_Mean  Bwd_Packet_Length_Std  Flow_Bytes_s  \\\n",
              "0                       0                    0.0           0.0   \n",
              "1                       6                    6.0           0.0   \n",
              "2                       6                    6.0           0.0   \n",
              "3                       6                    6.0           0.0   \n",
              "4                       0                    0.0           0.0   \n",
              "\n",
              "   Flow_Packets_s  Flow_IAT_Mean  Flow_IAT_Std  Flow_IAT_Max  Flow_IAT_Min  \\\n",
              "0    4.000000e+06   666666.66670           3.0           0.0             3   \n",
              "1    1.100917e+05    18348.62385         109.0           0.0           109   \n",
              "2    2.307692e+05    38461.53846          52.0           0.0            52   \n",
              "3    3.529412e+05    58823.52941          34.0           0.0            34   \n",
              "4    4.000000e+06   666666.66670           3.0           0.0             3   \n",
              "\n",
              "   Fwd_IAT_Total  Fwd_IAT_Mean  Fwd_IAT_Std  Fwd_IAT_Max  Fwd_IAT_Min  \\\n",
              "0              3             3          3.0          0.0            3   \n",
              "1            109             0          0.0          0.0            0   \n",
              "2             52             0          0.0          0.0            0   \n",
              "3             34             0          0.0          0.0            0   \n",
              "4              3             3          3.0          0.0            3   \n",
              "\n",
              "   Bwd_IAT_Total  Bwd_IAT_Mean  Bwd_IAT_Std  Bwd_IAT_Max  Bwd_IAT_Min  \\\n",
              "0              3             0          0.0          0.0            0   \n",
              "1              0             0          0.0          0.0            0   \n",
              "2              0             0          0.0          0.0            0   \n",
              "3              0             0          0.0          0.0            0   \n",
              "4              3             0          0.0          0.0            0   \n",
              "\n",
              "   Fwd_PSH_Flags  Bwd_PSH_Flags  Fwd_URG_Flags  Bwd_URG_Flags  \\\n",
              "0              0              0              0              0   \n",
              "1              0              0              0              0   \n",
              "2              0              0              0              0   \n",
              "3              0              0              0              0   \n",
              "4              0              0              0              0   \n",
              "\n",
              "   Fwd_Header_Length  Bwd_Header_Length  Fwd_Packets_s  Bwd_Packets_s  \\\n",
              "0                  0                 40              0  666666.666700   \n",
              "1                  0                 20             20    9174.311927   \n",
              "2                  0                 20             20   19230.769230   \n",
              "3                  0                 20             20   29411.764710   \n",
              "4                  0                 40              0  666666.666700   \n",
              "\n",
              "   Min_Packet_Length  Max_Packet_Length  Packet_Length_Mean  \\\n",
              "0           0.000000                  6                   6   \n",
              "1        9174.311927                  6                   6   \n",
              "2       19230.769230                  6                   6   \n",
              "3       29411.764710                  6                   6   \n",
              "4           0.000000                  6                   6   \n",
              "\n",
              "   Packet_Length_Std  Packet_Length_Variance  FIN_Flag_Count  SYN_Flag_Count  \\\n",
              "0                6.0                     0.0             0.0               0   \n",
              "1                6.0                     0.0             0.0               0   \n",
              "2                6.0                     0.0             0.0               0   \n",
              "3                6.0                     0.0             0.0               0   \n",
              "4                6.0                     0.0             0.0               0   \n",
              "\n",
              "   RST_Flag_Count  PSH_Flag_Count  ACK_Flag_Count  URG_Flag_Count  \\\n",
              "0               0               0               0               1   \n",
              "1               0               0               0               1   \n",
              "2               0               0               0               1   \n",
              "3               0               0               0               1   \n",
              "4               0               0               0               1   \n",
              "\n",
              "   CWE_Flag_Count  ECE_Flag_Count  Down_Up_Ratio  Average_Packet_Size  \\\n",
              "0               0               0              0                    0   \n",
              "1               1               0              0                    1   \n",
              "2               1               0              0                    1   \n",
              "3               1               0              0                    1   \n",
              "4               0               0              0                    0   \n",
              "\n",
              "   Avg_Fwd_Segment_Size  Avg_Bwd_Segment_Size  Fwd_Header_Length  \\\n",
              "0                   9.0                   6.0                0.0   \n",
              "1                   9.0                   6.0                6.0   \n",
              "2                   9.0                   6.0                6.0   \n",
              "3                   9.0                   6.0                6.0   \n",
              "4                   9.0                   6.0                0.0   \n",
              "\n",
              "   Fwd_Avg_Bytes_Bulk  Fwd_Avg_Packets_Bulk  Fwd_Avg_Bulk_Rate  \\\n",
              "0                   0                     0                  0   \n",
              "1                   0                     0                  0   \n",
              "2                   0                     0                  0   \n",
              "3                   0                     0                  0   \n",
              "4                   0                     0                  0   \n",
              "\n",
              "   Bwd_Avg_Bytes_Bulk  Bwd_Avg_Packets_Bulk  Bwd_Avg_Bulk_Rate  \\\n",
              "0                   0                     0                  0   \n",
              "1                   0                     0                  0   \n",
              "2                   0                     0                  0   \n",
              "3                   0                     0                  0   \n",
              "4                   0                     0                  0   \n",
              "\n",
              "   Subflow_Fwd_Packets  Subflow_Fwd_Bytes  Subflow_Bwd_Packets  \\\n",
              "0                    2                 12                    0   \n",
              "1                    1                  6                    1   \n",
              "2                    1                  6                    1   \n",
              "3                    1                  6                    1   \n",
              "4                    2                 12                    0   \n",
              "\n",
              "   Subflow_Bwd_Bytes  Init_Win_bytes_forward  Init_Win_bytes_backward  \\\n",
              "0                  0                      33                       -1   \n",
              "1                  6                      29                      256   \n",
              "2                  6                      29                      256   \n",
              "3                  6                      31                      329   \n",
              "4                  0                      32                       -1   \n",
              "\n",
              "   act_data_pkt_fwd  min_seg_size_forward  Active_Mean  Active_Std  \\\n",
              "0                 1                    20          0.0         0.0   \n",
              "1                 0                    20          0.0         0.0   \n",
              "2                 0                    20          0.0         0.0   \n",
              "3                 0                    20          0.0         0.0   \n",
              "4                 1                    20          0.0         0.0   \n",
              "\n",
              "   Active_Max  Active_Min  Idle_Mean  Idle_Std  Idle_Max  Idle_Min   Label  \n",
              "0           0           0        0.0       0.0         0         0  BENIGN  \n",
              "1           0           0        0.0       0.0         0         0  BENIGN  \n",
              "2           0           0        0.0       0.0         0         0  BENIGN  \n",
              "3           0           0        0.0       0.0         0         0  BENIGN  \n",
              "4           0           0        0.0       0.0         0         0  BENIGN  "
            ]
          },
          "metadata": {
            "tags": []
          },
          "execution_count": 9
        }
      ]
    },
    {
      "cell_type": "code",
      "metadata": {
        "colab": {
          "base_uri": "https://localhost:8080/"
        },
        "id": "24nrvrbPdfaS",
        "outputId": "536ea374-3085-4803-ce87-0cf5cb588ee8"
      },
      "source": [
        "# check whether there is any categorical column are not if it is there it is to be encoded.\n",
        "dataset.dtypes"
      ],
      "execution_count": 10,
      "outputs": [
        {
          "output_type": "execute_result",
          "data": {
            "text/plain": [
              "Destination_Port                 int64\n",
              "Flow_Duration                    int64\n",
              "Total_Fwd_Packets                int64\n",
              "Total_Backward_Packets           int64\n",
              "Total_Length_of_Fwd_Packets      int64\n",
              "Total_Length_of_Bwd_Packets      int64\n",
              "Fwd_Packet_Length_Max            int64\n",
              "Fwd_Packet_Length_Min            int64\n",
              "Fwd_Packet_Length_Mean           int64\n",
              "Fwd_Packet_Length_Std          float64\n",
              "Bwd_Packet_Length_Max          float64\n",
              "Bwd_Packet_Length_Min            int64\n",
              "Bwd_Packet_Length_Mean           int64\n",
              "Bwd_Packet_Length_Std          float64\n",
              "Flow_Bytes_s                   float64\n",
              "Flow_Packets_s                 float64\n",
              "Flow_IAT_Mean                  float64\n",
              "Flow_IAT_Std                   float64\n",
              "Flow_IAT_Max                   float64\n",
              "Flow_IAT_Min                     int64\n",
              "Fwd_IAT_Total                    int64\n",
              "Fwd_IAT_Mean                     int64\n",
              "Fwd_IAT_Std                    float64\n",
              "Fwd_IAT_Max                    float64\n",
              "Fwd_IAT_Min                      int64\n",
              "Bwd_IAT_Total                    int64\n",
              "Bwd_IAT_Mean                     int64\n",
              "Bwd_IAT_Std                    float64\n",
              "Bwd_IAT_Max                    float64\n",
              "Bwd_IAT_Min                      int64\n",
              "Fwd_PSH_Flags                    int64\n",
              "Bwd_PSH_Flags                    int64\n",
              "Fwd_URG_Flags                    int64\n",
              "Bwd_URG_Flags                    int64\n",
              "Fwd_Header_Length                int64\n",
              "Bwd_Header_Length                int64\n",
              "Fwd_Packets_s                    int64\n",
              "Bwd_Packets_s                  float64\n",
              "Min_Packet_Length              float64\n",
              "Max_Packet_Length                int64\n",
              "Packet_Length_Mean               int64\n",
              "Packet_Length_Std              float64\n",
              "Packet_Length_Variance         float64\n",
              "FIN_Flag_Count                 float64\n",
              "SYN_Flag_Count                   int64\n",
              "RST_Flag_Count                   int64\n",
              "PSH_Flag_Count                   int64\n",
              "ACK_Flag_Count                   int64\n",
              "URG_Flag_Count                   int64\n",
              "CWE_Flag_Count                   int64\n",
              "ECE_Flag_Count                   int64\n",
              "Down_Up_Ratio                    int64\n",
              "Average_Packet_Size              int64\n",
              "Avg_Fwd_Segment_Size           float64\n",
              "Avg_Bwd_Segment_Size           float64\n",
              "Fwd_Header_Length              float64\n",
              "Fwd_Avg_Bytes_Bulk               int64\n",
              "Fwd_Avg_Packets_Bulk             int64\n",
              "Fwd_Avg_Bulk_Rate                int64\n",
              "Bwd_Avg_Bytes_Bulk               int64\n",
              "Bwd_Avg_Packets_Bulk             int64\n",
              "Bwd_Avg_Bulk_Rate                int64\n",
              "Subflow_Fwd_Packets              int64\n",
              "Subflow_Fwd_Bytes                int64\n",
              "Subflow_Bwd_Packets              int64\n",
              "Subflow_Bwd_Bytes                int64\n",
              "Init_Win_bytes_forward           int64\n",
              "Init_Win_bytes_backward          int64\n",
              "act_data_pkt_fwd                 int64\n",
              "min_seg_size_forward             int64\n",
              "Active_Mean                    float64\n",
              "Active_Std                     float64\n",
              "Active_Max                       int64\n",
              "Active_Min                       int64\n",
              "Idle_Mean                      float64\n",
              "Idle_Std                       float64\n",
              "Idle_Max                         int64\n",
              "Idle_Min                         int64\n",
              "Label                           object\n",
              "dtype: object"
            ]
          },
          "metadata": {
            "tags": []
          },
          "execution_count": 10
        }
      ]
    },
    {
      "cell_type": "markdown",
      "metadata": {
        "id": "khXq1lybdfaS"
      },
      "source": [
        "# Remove repeated columns, (NaN,Null,Infinite) values."
      ]
    },
    {
      "cell_type": "code",
      "metadata": {
        "colab": {
          "base_uri": "https://localhost:8080/"
        },
        "id": "KtS4c10-dfaS",
        "outputId": "10e6e721-4b99-46a4-c1f3-9dd09e8473b2"
      },
      "source": [
        "# Removing the duplicate columns (Header_length is repeated)\n",
        "dataset = dataset.loc[:, ~dataset.columns.duplicated()]\n",
        "dataset.shape"
      ],
      "execution_count": 11,
      "outputs": [
        {
          "output_type": "execute_result",
          "data": {
            "text/plain": [
              "(2827876, 78)"
            ]
          },
          "metadata": {
            "tags": []
          },
          "execution_count": 11
        }
      ]
    },
    {
      "cell_type": "code",
      "metadata": {
        "colab": {
          "base_uri": "https://localhost:8080/"
        },
        "id": "nCXqHFdfdfaS",
        "outputId": "23676d1e-aa35-4731-9334-b0b1c1993cac"
      },
      "source": [
        "# check if there are any Null values\n",
        "dataset.isnull().any().any()"
      ],
      "execution_count": 12,
      "outputs": [
        {
          "output_type": "execute_result",
          "data": {
            "text/plain": [
              "False"
            ]
          },
          "metadata": {
            "tags": []
          },
          "execution_count": 12
        }
      ]
    },
    {
      "cell_type": "code",
      "metadata": {
        "colab": {
          "base_uri": "https://localhost:8080/"
        },
        "id": "ZtXb-BvwdfaT",
        "outputId": "d8f6c8c0-af71-42d6-9ffa-86affab5a33b"
      },
      "source": [
        "# Replace Inf values with NaN\n",
        "dataset = dataset.replace([np.inf, -np.inf], np.nan)\n",
        "\n",
        "# Drop all occurences of NaN\n",
        "dataset = dataset.dropna()\n",
        "\n",
        "# Double check these are all gone\n",
        "dataset.isnull().any()"
      ],
      "execution_count": 13,
      "outputs": [
        {
          "output_type": "execute_result",
          "data": {
            "text/plain": [
              "Destination_Port               False\n",
              "Flow_Duration                  False\n",
              "Total_Fwd_Packets              False\n",
              "Total_Backward_Packets         False\n",
              "Total_Length_of_Fwd_Packets    False\n",
              "Total_Length_of_Bwd_Packets    False\n",
              "Fwd_Packet_Length_Max          False\n",
              "Fwd_Packet_Length_Min          False\n",
              "Fwd_Packet_Length_Mean         False\n",
              "Fwd_Packet_Length_Std          False\n",
              "Bwd_Packet_Length_Max          False\n",
              "Bwd_Packet_Length_Min          False\n",
              "Bwd_Packet_Length_Mean         False\n",
              "Bwd_Packet_Length_Std          False\n",
              "Flow_Bytes_s                   False\n",
              "Flow_Packets_s                 False\n",
              "Flow_IAT_Mean                  False\n",
              "Flow_IAT_Std                   False\n",
              "Flow_IAT_Max                   False\n",
              "Flow_IAT_Min                   False\n",
              "Fwd_IAT_Total                  False\n",
              "Fwd_IAT_Mean                   False\n",
              "Fwd_IAT_Std                    False\n",
              "Fwd_IAT_Max                    False\n",
              "Fwd_IAT_Min                    False\n",
              "Bwd_IAT_Total                  False\n",
              "Bwd_IAT_Mean                   False\n",
              "Bwd_IAT_Std                    False\n",
              "Bwd_IAT_Max                    False\n",
              "Bwd_IAT_Min                    False\n",
              "Fwd_PSH_Flags                  False\n",
              "Bwd_PSH_Flags                  False\n",
              "Fwd_URG_Flags                  False\n",
              "Bwd_URG_Flags                  False\n",
              "Fwd_Header_Length              False\n",
              "Bwd_Header_Length              False\n",
              "Fwd_Packets_s                  False\n",
              "Bwd_Packets_s                  False\n",
              "Min_Packet_Length              False\n",
              "Max_Packet_Length              False\n",
              "Packet_Length_Mean             False\n",
              "Packet_Length_Std              False\n",
              "Packet_Length_Variance         False\n",
              "FIN_Flag_Count                 False\n",
              "SYN_Flag_Count                 False\n",
              "RST_Flag_Count                 False\n",
              "PSH_Flag_Count                 False\n",
              "ACK_Flag_Count                 False\n",
              "URG_Flag_Count                 False\n",
              "CWE_Flag_Count                 False\n",
              "ECE_Flag_Count                 False\n",
              "Down_Up_Ratio                  False\n",
              "Average_Packet_Size            False\n",
              "Avg_Fwd_Segment_Size           False\n",
              "Avg_Bwd_Segment_Size           False\n",
              "Fwd_Avg_Bytes_Bulk             False\n",
              "Fwd_Avg_Packets_Bulk           False\n",
              "Fwd_Avg_Bulk_Rate              False\n",
              "Bwd_Avg_Bytes_Bulk             False\n",
              "Bwd_Avg_Packets_Bulk           False\n",
              "Bwd_Avg_Bulk_Rate              False\n",
              "Subflow_Fwd_Packets            False\n",
              "Subflow_Fwd_Bytes              False\n",
              "Subflow_Bwd_Packets            False\n",
              "Subflow_Bwd_Bytes              False\n",
              "Init_Win_bytes_forward         False\n",
              "Init_Win_bytes_backward        False\n",
              "act_data_pkt_fwd               False\n",
              "min_seg_size_forward           False\n",
              "Active_Mean                    False\n",
              "Active_Std                     False\n",
              "Active_Max                     False\n",
              "Active_Min                     False\n",
              "Idle_Mean                      False\n",
              "Idle_Std                       False\n",
              "Idle_Max                       False\n",
              "Idle_Min                       False\n",
              "Label                          False\n",
              "dtype: bool"
            ]
          },
          "metadata": {
            "tags": []
          },
          "execution_count": 13
        }
      ]
    },
    {
      "cell_type": "markdown",
      "metadata": {
        "id": "AgnhpWp1dfaT"
      },
      "source": [
        "# Analysing the attacks in dataset"
      ]
    },
    {
      "cell_type": "code",
      "metadata": {
        "colab": {
          "base_uri": "https://localhost:8080/"
        },
        "id": "-25Pcr5ndfaT",
        "outputId": "f3e2a288-d4c3-4fbc-ff3c-8f8e7b90c302"
      },
      "source": [
        "# Distribution of Dataset\n",
        "dataset['Label'].value_counts()"
      ],
      "execution_count": 14,
      "outputs": [
        {
          "output_type": "execute_result",
          "data": {
            "text/plain": [
              "BENIGN                        2271320\n",
              "DoS Hulk                       230124\n",
              "PortScan                       158804\n",
              "DDoS                           128025\n",
              "DoS GoldenEye                   10293\n",
              "FTP-Patator                      7935\n",
              "SSH-Patator                      5897\n",
              "DoS slowloris                    5796\n",
              "DoS Slowhttptest                 5499\n",
              "Bot                              1956\n",
              "Web Attack � Brute Force         1507\n",
              "Web Attack � XSS                  652\n",
              "Infiltration                       36\n",
              "Web Attack � Sql Injection         21\n",
              "Heartbleed                         11\n",
              "Name: Label, dtype: int64"
            ]
          },
          "metadata": {
            "tags": []
          },
          "execution_count": 14
        }
      ]
    },
    {
      "cell_type": "code",
      "metadata": {
        "colab": {
          "base_uri": "https://localhost:8080/",
          "height": 621
        },
        "id": "BesBnlfwdfaT",
        "outputId": "090e7e2a-a0d4-4397-e2b1-3b541f6a87ee"
      },
      "source": [
        "# Plotting the distribution of attacks in the dataset\n",
        "\n",
        "plt.figure(figsize=(15,10))\n",
        "\n",
        "attack = ('DoS Hulk', 'PortScan', 'DDoS', 'DoS GoldenEye', 'FTP-Patator', 'SSH-Patator', 'DoS Slowloris',\n",
        "          'DoS Slowhttptest', 'Bot', 'Web Attack: Brute Force', 'Web Attack: XSS', 'Infiltration', 'Web Attack: SQL Injection', 'Heartbleed')\n",
        "y_pos = np.arange(len(attack)) \n",
        "amount = dataset['Label'].value_counts()[1:]\n",
        "plt.barh(y_pos, amount, align='center', color='blue' )\n",
        "plt.yticks(y_pos, attack)\n",
        "plt.title('Distribution of different types of attacks in the dataset')\n",
        "plt.xlabel('Number of occurences')\n",
        "plt.ylabel('Attack types')\n",
        "for i, v in enumerate(amount):\n",
        "    plt.text(v + 3, i-0.1 , str(v))\n",
        "    \n",
        "plt.show()"
      ],
      "execution_count": 15,
      "outputs": [
        {
          "output_type": "display_data",
          "data": {
            "image/png": "[encoded data removed]",
            "text/plain": [
              "<Figure size 1080x720 with 1 Axes>"
            ]
          },
          "metadata": {
            "tags": [],
            "needs_background": "light"
          }
        }
      ]
    },
    {
      "cell_type": "code",
      "metadata": {
        "colab": {
          "base_uri": "https://localhost:8080/"
        },
        "id": "gqsfhktFdfaT",
        "outputId": "50681634-ea5b-4a4b-e48c-6eafd7cf7489"
      },
      "source": [
        "# There are only 11, 21, and 36 instances of Heartbleed, SQL injection and infiltration respectively. \n",
        "# Remove 'Heartbleed', 'Web attack Sql Injection', 'Infiltration' as it's negligible.\n",
        "\n",
        "dataset = dataset.replace(['Heartbleed', 'Web Attack � Sql Injection', 'Infiltration'], np.nan)\n",
        "dataset = dataset.dropna()\n",
        "dataset['Label'].value_counts()"
      ],
      "execution_count": 16,
      "outputs": [
        {
          "output_type": "execute_result",
          "data": {
            "text/plain": [
              "BENIGN                      2271320\n",
              "DoS Hulk                     230124\n",
              "PortScan                     158804\n",
              "DDoS                         128025\n",
              "DoS GoldenEye                 10293\n",
              "FTP-Patator                    7935\n",
              "SSH-Patator                    5897\n",
              "DoS slowloris                  5796\n",
              "DoS Slowhttptest               5499\n",
              "Bot                            1956\n",
              "Web Attack � Brute Force       1507\n",
              "Web Attack � XSS                652\n",
              "Name: Label, dtype: int64"
            ]
          },
          "metadata": {
            "tags": []
          },
          "execution_count": 16
        }
      ]
    },
    {
      "cell_type": "code",
      "metadata": {
        "id": "XyZofD24dfaU"
      },
      "source": [
        "# Labelling Web Attack � Brute Force as Brute Force\n",
        "# labelling Web Attack � XSS as XSS\n",
        "\n",
        "dataset.loc[dataset.Label == 'Web Attack � Brute Force', ['Label']] = 'Brute Force'\n",
        "dataset.loc[dataset.Label == 'Web Attack � XSS', ['Label']] = 'XSS'"
      ],
      "execution_count": 17,
      "outputs": []
    },
    {
      "cell_type": "code",
      "metadata": {
        "id": "yS_368_sdfaU"
      },
      "source": [
        "# Creating a attack column, containing binary labels for normal and attack to apply binary classsifier\n",
        "\n",
        "dataset['Attack'] = np.where(dataset['Label'] == 'BENIGN','Normal' , 'Attack')"
      ],
      "execution_count": 18,
      "outputs": []
    },
    {
      "cell_type": "code",
      "metadata": {
        "colab": {
          "base_uri": "https://localhost:8080/"
        },
        "id": "d-929tcsdfaU",
        "outputId": "2890a782-5c7c-4a26-e0d9-7fafb4ae5f6f"
      },
      "source": [
        "# Grouping attack labels in attack category as in dataset description for multi-class classifier\n",
        "\n",
        "attack_group = {'BENIGN': 'benign', \n",
        "                'DoS Hulk': 'dos',\n",
        "                'PortScan': 'probe', \n",
        "                'DDoS': 'ddos',\n",
        "                'DoS GoldenEye': 'dos', \n",
        "                'FTP-Patator': 'brute_force',\n",
        "                'SSH-Patator': 'brute_force', \n",
        "                'DoS slowloris': 'dos', \n",
        "                'DoS Slowhttptest': 'dos',\n",
        "                'Bot': 'botnet',\n",
        "                'Brute Force': 'web_attack', \n",
        "                'XSS': 'web_attack'}\n",
        "\n",
        "# Create grouped label column\n",
        "\n",
        "dataset['Label_Category'] = dataset['Label'].map(lambda x: attack_group[x])\n",
        "dataset['Label_Category'].value_counts()"
      ],
      "execution_count": 19,
      "outputs": [
        {
          "output_type": "execute_result",
          "data": {
            "text/plain": [
              "benign         2271320\n",
              "dos             251712\n",
              "probe           158804\n",
              "ddos            128025\n",
              "brute_force      13832\n",
              "web_attack        2159\n",
              "botnet            1956\n",
              "Name: Label_Category, dtype: int64"
            ]
          },
          "metadata": {
            "tags": []
          },
          "execution_count": 19
        }
      ]
    },
    {
      "cell_type": "code",
      "metadata": {
        "colab": {
          "base_uri": "https://localhost:8080/",
          "height": 311
        },
        "id": "hwbDOzljdfaV",
        "outputId": "df6be4b3-9b8d-4428-f223-2840674ca0a5"
      },
      "source": [
        "# Plotting binary grouped column Attack\n",
        "\n",
        "train_attacks = dataset['Attack'].value_counts()\n",
        "train_attacks.plot(kind='barh', color='blue')\n",
        "plt.title('Distribution of Attack Categories (Grouped)')"
      ],
      "execution_count": 20,
      "outputs": [
        {
          "output_type": "execute_result",
          "data": {
            "text/plain": [
              "Text(0.5, 1.0, 'Distribution of Attack Categories (Grouped)')"
            ]
          },
          "metadata": {
            "tags": []
          },
          "execution_count": 20
        },
        {
          "output_type": "display_data",
          "data": {
            "image/png": "[encoded data removed]",
            "text/plain": [
              "<Figure size 432x288 with 1 Axes>"
            ]
          },
          "metadata": {
            "tags": [],
            "needs_background": "light"
          }
        }
      ]
    },
    {
      "cell_type": "code",
      "metadata": {
        "colab": {
          "base_uri": "https://localhost:8080/",
          "height": 311
        },
        "id": "yXQojIwGdfaV",
        "outputId": "2301123e-c3e1-476c-ce5e-40167e73ec51"
      },
      "source": [
        "# Plotting multi-class grouped column Label_Category\n",
        "\n",
        "train_attacks = dataset['Label_Category'].value_counts()\n",
        "train_attacks.plot(kind='barh', color='blue')\n",
        "plt.title('Distribution of Attack Categories (Grouped)')"
      ],
      "execution_count": 21,
      "outputs": [
        {
          "output_type": "execute_result",
          "data": {
            "text/plain": [
              "Text(0.5, 1.0, 'Distribution of Attack Categories (Grouped)')"
            ]
          },
          "metadata": {
            "tags": []
          },
          "execution_count": 21
        },
        {
          "output_type": "display_data",
          "data": {
            "image/png": "[encoded data removed]",
            "text/plain": [
              "<Figure size 432x288 with 1 Axes>"
            ]
          },
          "metadata": {
            "tags": [],
            "needs_background": "light"
          }
        }
      ]
    },
    {
      "cell_type": "code",
      "metadata": {
        "colab": {
          "base_uri": "https://localhost:8080/",
          "height": 311
        },
        "id": "fo2WZIkodfaV",
        "outputId": "5f5a4300-6538-4602-ad9b-f97a8b7ac768"
      },
      "source": [
        "# Plotting multi-label column Label\n",
        "\n",
        "train_attacks = dataset['Label'].value_counts()\n",
        "train_attacks.plot(kind='barh', color='blue')\n",
        "plt.title('Distribution of Attack Categories')"
      ],
      "execution_count": 22,
      "outputs": [
        {
          "output_type": "execute_result",
          "data": {
            "text/plain": [
              "Text(0.5, 1.0, 'Distribution of Attack Categories')"
            ]
          },
          "metadata": {
            "tags": []
          },
          "execution_count": 22
        },
        {
          "output_type": "display_data",
          "data": {
            "image/png": "[encoded data removed]",
            "text/plain": [
              "<Figure size 432x288 with 1 Axes>"
            ]
          },
          "metadata": {
            "tags": [],
            "needs_background": "light"
          }
        }
      ]
    },
    {
      "cell_type": "code",
      "metadata": {
        "colab": {
          "base_uri": "https://localhost:8080/"
        },
        "id": "BJAfafGCdfaV",
        "outputId": "47eabdee-f120-43cd-de52-2ee6008e5223"
      },
      "source": [
        "print('Total number of all attack classes :',len(dataset.Label.unique()))\n",
        "print('Total number of attack categories :',len(dataset.Label_Category.unique()))"
      ],
      "execution_count": 23,
      "outputs": [
        {
          "output_type": "stream",
          "text": [
            "Total number of all attack classes : 12\n",
            "Total number of attack categories : 7\n"
          ],
          "name": "stdout"
        }
      ]
    },
    {
      "cell_type": "markdown",
      "metadata": {
        "id": "CAH5fsVxdfaV"
      },
      "source": [
        "# Splitting the dataset"
      ]
    },
    {
      "cell_type": "markdown",
      "metadata": {
        "id": "Q-nUqimMdfaW"
      },
      "source": [
        "Splitting dataset in 60:20:20 ratio, for training, testing and validation dataset. \n",
        "By stratifying with y label proportions of attacks remain the same throughout the 3 sets. "
      ]
    },
    {
      "cell_type": "code",
      "metadata": {
        "id": "N_V8iECcdfaW"
      },
      "source": [
        "# 3 Different labeling options\n",
        "attacks = ['Label', 'Label_Category', 'Attack']\n",
        "\n",
        "# xs=feature vectors, ys=labels\n",
        "xs = dataset.drop(attacks, axis=1)\n",
        "ys = dataset[attacks]\n",
        "\n",
        "# split dataset - stratified\n",
        "x_train, x_test, y_train, y_test = train_test_split(xs, ys, test_size=0.3, random_state=0, stratify=ys['Label'])"
      ],
      "execution_count": 24,
      "outputs": []
    },
    {
      "cell_type": "markdown",
      "metadata": {
        "id": "09kvdHOWdfaW"
      },
      "source": [
        "# Removing the columns with single unique values as it has no contribution in classification"
      ]
    },
    {
      "cell_type": "code",
      "metadata": {
        "colab": {
          "base_uri": "https://localhost:8080/"
        },
        "id": "MfNaYufmdfaW",
        "outputId": "8a0683fa-f4c0-423b-a03c-7753b7424fa3"
      },
      "source": [
        "column_names = np.array(list(x_train))\n",
        "to_drop = []\n",
        "for x in column_names:\n",
        "    size = x_train.groupby([x]).size()\n",
        "    # check for columns that only take one value\n",
        "    if (len(size.unique()) == 1):\n",
        "        to_drop.append(x)\n",
        "to_drop"
      ],
      "execution_count": 25,
      "outputs": [
        {
          "output_type": "execute_result",
          "data": {
            "text/plain": [
              "['Fwd_URG_Flags',\n",
              " 'Fwd_Header_Length',\n",
              " 'Fwd_Avg_Bytes_Bulk',\n",
              " 'Fwd_Avg_Packets_Bulk',\n",
              " 'Fwd_Avg_Bulk_Rate',\n",
              " 'Bwd_Avg_Bytes_Bulk',\n",
              " 'Bwd_Avg_Packets_Bulk',\n",
              " 'Bwd_Avg_Bulk_Rate']"
            ]
          },
          "metadata": {
            "tags": []
          },
          "execution_count": 25
        }
      ]
    },
    {
      "cell_type": "code",
      "metadata": {
        "id": "3-RQK7iidfaW"
      },
      "source": [
        "x_train = x_train.drop(to_drop, axis=1)\n",
        "x_test = x_test.drop(to_drop, axis=1)\n",
        "dataset_copy = dataset.drop(to_drop, axis=1)"
      ],
      "execution_count": 26,
      "outputs": []
    },
    {
      "cell_type": "code",
      "metadata": {
        "colab": {
          "base_uri": "https://localhost:8080/"
        },
        "id": "GXPe94-ZdfaW",
        "outputId": "e9578b57-e38c-4a38-ded1-da1a3efb8c00"
      },
      "source": [
        "x_train.shape"
      ],
      "execution_count": 27,
      "outputs": [
        {
          "output_type": "execute_result",
          "data": {
            "text/plain": [
              "(1979465, 69)"
            ]
          },
          "metadata": {
            "tags": []
          },
          "execution_count": 27
        }
      ]
    },
    {
      "cell_type": "markdown",
      "metadata": {
        "id": "hp7uh6PhdfaW"
      },
      "source": [
        "# Data Normalization"
      ]
    },
    {
      "cell_type": "markdown",
      "metadata": {
        "id": "m-KoF09MdfaW"
      },
      "source": [
        "Min-max normalization technique is used to normalize the numerical values in dataset."
      ]
    },
    {
      "cell_type": "code",
      "metadata": {
        "id": "1-jHuCPcdfaX"
      },
      "source": [
        "# Normalise\n",
        "min_max_scaler = MinMaxScaler().fit(x_train)\n",
        "\n",
        "# Apply normalisation to dataset\n",
        "x_train = min_max_scaler.transform(x_train)\n",
        "x_test = min_max_scaler.transform(x_test)"
      ],
      "execution_count": 28,
      "outputs": []
    },
    {
      "cell_type": "markdown",
      "metadata": {
        "id": "Hb4qGcbfdfaX"
      },
      "source": [
        "#  Feature Selection"
      ]
    },
    {
      "cell_type": "markdown",
      "metadata": {
        "id": "EIJ7-jqWdfaX"
      },
      "source": [
        "Selecting K-best features by using chi2 scoring function for features"
      ]
    },
    {
      "cell_type": "code",
      "metadata": {
        "id": "AsKW_4sEdfaX"
      },
      "source": [
        "features = SelectKBest(score_func=chi2, k=x_train.shape[1])\n",
        "\n",
        "#fit features to the training dataset\n",
        "fit = features.fit(x_train, y_train.Label)"
      ],
      "execution_count": 29,
      "outputs": []
    },
    {
      "cell_type": "code",
      "metadata": {
        "id": "77G74uDCdfaX"
      },
      "source": [
        "# perform selectkbest with k=40\n",
        "\n",
        "features = SelectKBest(score_func=chi2, k=40)\n",
        "fit = features.fit(x_train, y_train.Label)\n",
        "\n",
        "x_train = fit.transform(x_train)\n",
        "x_test = fit.transform(x_test)"
      ],
      "execution_count": 30,
      "outputs": []
    },
    {
      "cell_type": "code",
      "metadata": {
        "id": "1nSbwec1dfaX"
      },
      "source": [
        "new_features = dataset_copy.columns[features.get_support(indices=True)]"
      ],
      "execution_count": 31,
      "outputs": []
    },
    {
      "cell_type": "code",
      "metadata": {
        "colab": {
          "base_uri": "https://localhost:8080/"
        },
        "id": "_1LX3v1EdfaX",
        "outputId": "4732ac57-9873-4442-f815-0ff1aec4fa2d"
      },
      "source": [
        "print('Number of features selected :',len(new_features))\n",
        "new_features"
      ],
      "execution_count": 32,
      "outputs": [
        {
          "output_type": "stream",
          "text": [
            "Number of features selected : 40\n"
          ],
          "name": "stdout"
        },
        {
          "output_type": "execute_result",
          "data": {
            "text/plain": [
              "Index(['Destination_Port', 'Flow_Duration', 'Total_Fwd_Packets',\n",
              "       'Bwd_Packet_Length_Min', 'Bwd_Packet_Length_Mean',\n",
              "       'Bwd_Packet_Length_Std', 'Flow_Bytes_s', 'Flow_IAT_Std', 'Flow_IAT_Max',\n",
              "       'Flow_IAT_Min', 'Fwd_IAT_Total', 'Fwd_IAT_Mean', 'Fwd_IAT_Std',\n",
              "       'Fwd_IAT_Max', 'Fwd_IAT_Min', 'Bwd_IAT_Total', 'Bwd_IAT_Mean',\n",
              "       'Bwd_IAT_Std', 'Bwd_IAT_Max', 'Bwd_IAT_Min', 'Fwd_PSH_Flags',\n",
              "       'Bwd_PSH_Flags', 'Bwd_Packets_s', 'Packet_Length_Mean',\n",
              "       'Packet_Length_Std', 'Packet_Length_Variance', 'FIN_Flag_Count',\n",
              "       'SYN_Flag_Count', 'RST_Flag_Count', 'ACK_Flag_Count', 'URG_Flag_Count',\n",
              "       'CWE_Flag_Count', 'Avg_Fwd_Segment_Size', 'Init_Win_bytes_forward',\n",
              "       'Init_Win_bytes_backward', 'Active_Min', 'Idle_Mean', 'Idle_Std',\n",
              "       'Idle_Max', 'Idle_Min'],\n",
              "      dtype='object')"
            ]
          },
          "metadata": {
            "tags": []
          },
          "execution_count": 32
        }
      ]
    },
    {
      "cell_type": "code",
      "metadata": {
        "id": "vIIOip98dfaX"
      },
      "source": [
        "attack = np.array(['BENIGN', 'Bot', 'Brute Force', 'DDoS', 'DoS GoldenEye', 'DoS Hulk', 'DoS Slowhttptest',\n",
        "                   'DoS slowloris', 'FTP-Patator', 'PortScan', 'SSH-Patator', 'XSS'])\n",
        "attack_groups = np.array(['benign', 'botnet', 'brute_force', 'ddos', 'dos', 'probe', 'web_attack'])"
      ],
      "execution_count": 33,
      "outputs": []
    },
    {
      "cell_type": "code",
      "metadata": {
        "id": "g8trRUxFdfaY"
      },
      "source": [
        ""
      ],
      "execution_count": 33,
      "outputs": []
    },
    {
      "cell_type": "code",
      "metadata": {
        "id": "07PzqYCIdfaY"
      },
      "source": [
        ""
      ],
      "execution_count": 33,
      "outputs": []
    },
    {
      "cell_type": "code",
      "metadata": {
        "id": "g37fqi-kdfaY"
      },
      "source": [
        ""
      ],
      "execution_count": 33,
      "outputs": []
    },
    {
      "cell_type": "markdown",
      "metadata": {
        "id": "o7ZQ0AwQdfaY"
      },
      "source": [
        "# Applying Machine Learning classifier models"
      ]
    },
    {
      "cell_type": "markdown",
      "metadata": {
        "id": "y2v_bHkTdfaY"
      },
      "source": [
        "Each machine learning algorithm is applied in three different categories :\n",
        "\n",
        "1. On all attack labels (12).\n",
        "2. Binary Classifier (2).\n",
        "3. Multi-class Classifier (7).\n",
        "\n",
        "And then evaluate performance of each algorithm by confusion matrix plot.\n",
        "Evaluate Accuracy, Precision, Recall, F1-score."
      ]
    },
    {
      "cell_type": "markdown",
      "metadata": {
        "id": "YL7lIHqcdfaY"
      },
      "source": [
        "# 1. Support Vector Machine (SVM)"
      ]
    },
    {
      "cell_type": "code",
      "metadata": {
        "id": "XMa4kgwRdfaY"
      },
      "source": [
        "classifier = LinearSVC()"
      ],
      "execution_count": 34,
      "outputs": []
    },
    {
      "cell_type": "markdown",
      "metadata": {
        "id": "1mhBu1gGdfaY"
      },
      "source": [
        "1. a) On all attack labels."
      ]
    },
    {
      "cell_type": "code",
      "metadata": {
        "colab": {
          "base_uri": "https://localhost:8080/"
        },
        "id": "9GTL3k64dfaY",
        "outputId": "257fd486-2009-4ad0-8056-b16dd2e8c27c"
      },
      "source": [
        "# fit the model\n",
        "\n",
        "start = time.time()\n",
        "classifier.fit(x_train, y_train.Label)\n",
        "end = time.time()\n",
        "training_time = end - start\n",
        "\n",
        "print(\"Model Training Time is : \", training_time)"
      ],
      "execution_count": 35,
      "outputs": [
        {
          "output_type": "stream",
          "text": [
            "Model Training Time is :  454.24710726737976\n"
          ],
          "name": "stdout"
        }
      ]
    },
    {
      "cell_type": "code",
      "metadata": {
        "colab": {
          "base_uri": "https://localhost:8080/"
        },
        "id": "Q6qSSpkGdfaY",
        "outputId": "ae916d69-f2ce-4d1e-cee6-21afa4946a73"
      },
      "source": [
        "# predicting test results of SVM classifier on all labels.\n",
        "\n",
        "start = time.time()\n",
        "y_predict = classifier.predict(x_test)\n",
        "end = time.time()\n",
        "testing_time = end  - start\n",
        "\n",
        "print(\"Model Testing Time is : \", testing_time)"
      ],
      "execution_count": 36,
      "outputs": [
        {
          "output_type": "stream",
          "text": [
            "Model Testing Time is :  0.4958357810974121\n"
          ],
          "name": "stdout"
        }
      ]
    },
    {
      "cell_type": "code",
      "metadata": {
        "colab": {
          "base_uri": "https://localhost:8080/",
          "height": 804
        },
        "id": "hFO2w4PedfaZ",
        "outputId": "2afeea8a-01d8-41a4-e5c5-830fee545171"
      },
      "source": [
        "# Creating confusion matrix for SVM classifier on all labels.\n",
        "\n",
        "confusion_svm_1 = pd.crosstab(y_test.Label, y_predict, rownames=['Actual Attacks'], colnames=['Predicted attacks'])\n",
        "\n",
        "print(\"Plotting Confusion Matrix of SVM classifier on all Labels \")\n",
        "\n",
        "sn.heatmap(confusion_svm_1, annot=True, cmap= 'Blues', fmt='d')\n",
        "plt.show()\n",
        "confusion_svm_1"
      ],
      "execution_count": 37,
      "outputs": [
        {
          "output_type": "stream",
          "text": [
            "Plotting Confusion Matrix of SVM classifier on all Labels \n"
          ],
          "name": "stdout"
        },
        {
          "output_type": "display_data",
          "data": {
            "image/png": "[encoded data removed]",
            "text/plain": [
              "<Figure size 432x288 with 2 Axes>"
            ]
          },
          "metadata": {
            "tags": [],
            "needs_background": "light"
          }
        },
        {
          "output_type": "execute_result",
          "data": {
            "text/html": [
              "<div>\n",
              "<style scoped>\n",
              "    .dataframe tbody tr th:only-of-type {\n",
              "        vertical-align: middle;\n",
              "    }\n",
              "\n",
              "    .dataframe tbody tr th {\n",
              "        vertical-align: top;\n",
              "    }\n",
              "\n",
              "    .dataframe thead th {\n",
              "        text-align: right;\n",
              "    }\n",
              "</style>\n",
              "<table border=\"1\" class=\"dataframe\">\n",
              "  <thead>\n",
              "    <tr style=\"text-align: right;\">\n",
              "      <th>Predicted attacks</th>\n",
              "      <th>BENIGN</th>\n",
              "      <th>Bot</th>\n",
              "      <th>DDoS</th>\n",
              "      <th>DoS GoldenEye</th>\n",
              "      <th>DoS Hulk</th>\n",
              "      <th>DoS Slowhttptest</th>\n",
              "      <th>DoS slowloris</th>\n",
              "      <th>FTP-Patator</th>\n",
              "      <th>PortScan</th>\n",
              "      <th>XSS</th>\n",
              "    </tr>\n",
              "    <tr>\n",
              "      <th>Actual Attacks</th>\n",
              "      <th></th>\n",
              "      <th></th>\n",
              "      <th></th>\n",
              "      <th></th>\n",
              "      <th></th>\n",
              "      <th></th>\n",
              "      <th></th>\n",
              "      <th></th>\n",
              "      <th></th>\n",
              "      <th></th>\n",
              "    </tr>\n",
              "  </thead>\n",
              "  <tbody>\n",
              "    <tr>\n",
              "      <th>BENIGN</th>\n",
              "      <td>662092</td>\n",
              "      <td>21</td>\n",
              "      <td>87</td>\n",
              "      <td>68</td>\n",
              "      <td>1760</td>\n",
              "      <td>179</td>\n",
              "      <td>15</td>\n",
              "      <td>115</td>\n",
              "      <td>17026</td>\n",
              "      <td>33</td>\n",
              "    </tr>\n",
              "    <tr>\n",
              "      <th>Bot</th>\n",
              "      <td>452</td>\n",
              "      <td>0</td>\n",
              "      <td>0</td>\n",
              "      <td>0</td>\n",
              "      <td>0</td>\n",
              "      <td>0</td>\n",
              "      <td>0</td>\n",
              "      <td>0</td>\n",
              "      <td>135</td>\n",
              "      <td>0</td>\n",
              "    </tr>\n",
              "    <tr>\n",
              "      <th>Brute Force</th>\n",
              "      <td>452</td>\n",
              "      <td>0</td>\n",
              "      <td>0</td>\n",
              "      <td>0</td>\n",
              "      <td>0</td>\n",
              "      <td>0</td>\n",
              "      <td>0</td>\n",
              "      <td>0</td>\n",
              "      <td>0</td>\n",
              "      <td>0</td>\n",
              "    </tr>\n",
              "    <tr>\n",
              "      <th>DDoS</th>\n",
              "      <td>4652</td>\n",
              "      <td>0</td>\n",
              "      <td>33073</td>\n",
              "      <td>0</td>\n",
              "      <td>675</td>\n",
              "      <td>0</td>\n",
              "      <td>0</td>\n",
              "      <td>0</td>\n",
              "      <td>8</td>\n",
              "      <td>0</td>\n",
              "    </tr>\n",
              "    <tr>\n",
              "      <th>DoS GoldenEye</th>\n",
              "      <td>419</td>\n",
              "      <td>0</td>\n",
              "      <td>0</td>\n",
              "      <td>2668</td>\n",
              "      <td>0</td>\n",
              "      <td>0</td>\n",
              "      <td>0</td>\n",
              "      <td>0</td>\n",
              "      <td>0</td>\n",
              "      <td>1</td>\n",
              "    </tr>\n",
              "    <tr>\n",
              "      <th>DoS Hulk</th>\n",
              "      <td>12077</td>\n",
              "      <td>75</td>\n",
              "      <td>304</td>\n",
              "      <td>1</td>\n",
              "      <td>56577</td>\n",
              "      <td>1</td>\n",
              "      <td>0</td>\n",
              "      <td>0</td>\n",
              "      <td>2</td>\n",
              "      <td>0</td>\n",
              "    </tr>\n",
              "    <tr>\n",
              "      <th>DoS Slowhttptest</th>\n",
              "      <td>440</td>\n",
              "      <td>0</td>\n",
              "      <td>26</td>\n",
              "      <td>0</td>\n",
              "      <td>0</td>\n",
              "      <td>1151</td>\n",
              "      <td>32</td>\n",
              "      <td>0</td>\n",
              "      <td>1</td>\n",
              "      <td>0</td>\n",
              "    </tr>\n",
              "    <tr>\n",
              "      <th>DoS slowloris</th>\n",
              "      <td>848</td>\n",
              "      <td>0</td>\n",
              "      <td>0</td>\n",
              "      <td>0</td>\n",
              "      <td>0</td>\n",
              "      <td>22</td>\n",
              "      <td>867</td>\n",
              "      <td>0</td>\n",
              "      <td>2</td>\n",
              "      <td>0</td>\n",
              "    </tr>\n",
              "    <tr>\n",
              "      <th>FTP-Patator</th>\n",
              "      <td>1186</td>\n",
              "      <td>0</td>\n",
              "      <td>0</td>\n",
              "      <td>0</td>\n",
              "      <td>0</td>\n",
              "      <td>0</td>\n",
              "      <td>0</td>\n",
              "      <td>1194</td>\n",
              "      <td>0</td>\n",
              "      <td>0</td>\n",
              "    </tr>\n",
              "    <tr>\n",
              "      <th>PortScan</th>\n",
              "      <td>741</td>\n",
              "      <td>2</td>\n",
              "      <td>0</td>\n",
              "      <td>4</td>\n",
              "      <td>22</td>\n",
              "      <td>0</td>\n",
              "      <td>4</td>\n",
              "      <td>0</td>\n",
              "      <td>46868</td>\n",
              "      <td>0</td>\n",
              "    </tr>\n",
              "    <tr>\n",
              "      <th>SSH-Patator</th>\n",
              "      <td>1764</td>\n",
              "      <td>0</td>\n",
              "      <td>0</td>\n",
              "      <td>0</td>\n",
              "      <td>0</td>\n",
              "      <td>0</td>\n",
              "      <td>0</td>\n",
              "      <td>0</td>\n",
              "      <td>5</td>\n",
              "      <td>0</td>\n",
              "    </tr>\n",
              "    <tr>\n",
              "      <th>XSS</th>\n",
              "      <td>196</td>\n",
              "      <td>0</td>\n",
              "      <td>0</td>\n",
              "      <td>0</td>\n",
              "      <td>0</td>\n",
              "      <td>0</td>\n",
              "      <td>0</td>\n",
              "      <td>0</td>\n",
              "      <td>0</td>\n",
              "      <td>0</td>\n",
              "    </tr>\n",
              "  </tbody>\n",
              "</table>\n",
              "</div>"
            ],
            "text/plain": [
              "Predicted attacks  BENIGN  Bot   DDoS  DoS GoldenEye  DoS Hulk  \\\n",
              "Actual Attacks                                                   \n",
              "BENIGN             662092   21     87             68      1760   \n",
              "Bot                   452    0      0              0         0   \n",
              "Brute Force           452    0      0              0         0   \n",
              "DDoS                 4652    0  33073              0       675   \n",
              "DoS GoldenEye         419    0      0           2668         0   \n",
              "DoS Hulk            12077   75    304              1     56577   \n",
              "DoS Slowhttptest      440    0     26              0         0   \n",
              "DoS slowloris         848    0      0              0         0   \n",
              "FTP-Patator          1186    0      0              0         0   \n",
              "PortScan              741    2      0              4        22   \n",
              "SSH-Patator          1764    0      0              0         0   \n",
              "XSS                   196    0      0              0         0   \n",
              "\n",
              "Predicted attacks  DoS Slowhttptest  DoS slowloris  FTP-Patator  PortScan  XSS  \n",
              "Actual Attacks                                                                  \n",
              "BENIGN                          179             15          115     17026   33  \n",
              "Bot                               0              0            0       135    0  \n",
              "Brute Force                       0              0            0         0    0  \n",
              "DDoS                              0              0            0         8    0  \n",
              "DoS GoldenEye                     0              0            0         0    1  \n",
              "DoS Hulk                          1              0            0         2    0  \n",
              "DoS Slowhttptest               1151             32            0         1    0  \n",
              "DoS slowloris                    22            867            0         2    0  \n",
              "FTP-Patator                       0              0         1194         0    0  \n",
              "PortScan                          0              4            0     46868    0  \n",
              "SSH-Patator                       0              0            0         5    0  \n",
              "XSS                               0              0            0         0    0  "
            ]
          },
          "metadata": {
            "tags": []
          },
          "execution_count": 37
        }
      ]
    },
    {
      "cell_type": "code",
      "metadata": {
        "colab": {
          "base_uri": "https://localhost:8080/",
          "height": 472
        },
        "id": "pu3QfwZwdfaZ",
        "outputId": "83b4fe2d-ae4c-45fa-c5a1-187e902e9598"
      },
      "source": [
        "# Precision,Recall,F1-score for SVM classifier on all labels.\n",
        "\n",
        "precision, recall, fscore, support = score(y_test.Label, y_predict)\n",
        "\n",
        "d = {'attack': attack, 'precision': precision, 'recall' : recall, 'fscore': fscore}\n",
        "results = pd.DataFrame(data=d)\n",
        "results"
      ],
      "execution_count": 38,
      "outputs": [
        {
          "output_type": "stream",
          "text": [
            "/usr/local/lib/python3.7/dist-packages/sklearn/metrics/_classification.py:1272: UndefinedMetricWarning: Precision and F-score are ill-defined and being set to 0.0 in labels with no predicted samples. Use `zero_division` parameter to control this behavior.\n",
            "  _warn_prf(average, modifier, msg_start, len(result))\n"
          ],
          "name": "stderr"
        },
        {
          "output_type": "execute_result",
          "data": {
            "text/html": [
              "<div>\n",
              "<style scoped>\n",
              "    .dataframe tbody tr th:only-of-type {\n",
              "        vertical-align: middle;\n",
              "    }\n",
              "\n",
              "    .dataframe tbody tr th {\n",
              "        vertical-align: top;\n",
              "    }\n",
              "\n",
              "    .dataframe thead th {\n",
              "        text-align: right;\n",
              "    }\n",
              "</style>\n",
              "<table border=\"1\" class=\"dataframe\">\n",
              "  <thead>\n",
              "    <tr style=\"text-align: right;\">\n",
              "      <th></th>\n",
              "      <th>attack</th>\n",
              "      <th>precision</th>\n",
              "      <th>recall</th>\n",
              "      <th>fscore</th>\n",
              "    </tr>\n",
              "  </thead>\n",
              "  <tbody>\n",
              "    <tr>\n",
              "      <th>0</th>\n",
              "      <td>BENIGN</td>\n",
              "      <td>0.966108</td>\n",
              "      <td>0.971670</td>\n",
              "      <td>0.968881</td>\n",
              "    </tr>\n",
              "    <tr>\n",
              "      <th>1</th>\n",
              "      <td>Bot</td>\n",
              "      <td>0.000000</td>\n",
              "      <td>0.000000</td>\n",
              "      <td>0.000000</td>\n",
              "    </tr>\n",
              "    <tr>\n",
              "      <th>2</th>\n",
              "      <td>Brute Force</td>\n",
              "      <td>0.000000</td>\n",
              "      <td>0.000000</td>\n",
              "      <td>0.000000</td>\n",
              "    </tr>\n",
              "    <tr>\n",
              "      <th>3</th>\n",
              "      <td>DDoS</td>\n",
              "      <td>0.987549</td>\n",
              "      <td>0.861097</td>\n",
              "      <td>0.919998</td>\n",
              "    </tr>\n",
              "    <tr>\n",
              "      <th>4</th>\n",
              "      <td>DoS GoldenEye</td>\n",
              "      <td>0.973367</td>\n",
              "      <td>0.863990</td>\n",
              "      <td>0.915423</td>\n",
              "    </tr>\n",
              "    <tr>\n",
              "      <th>5</th>\n",
              "      <td>DoS Hulk</td>\n",
              "      <td>0.958380</td>\n",
              "      <td>0.819517</td>\n",
              "      <td>0.883526</td>\n",
              "    </tr>\n",
              "    <tr>\n",
              "      <th>6</th>\n",
              "      <td>DoS Slowhttptest</td>\n",
              "      <td>0.850702</td>\n",
              "      <td>0.697576</td>\n",
              "      <td>0.766567</td>\n",
              "    </tr>\n",
              "    <tr>\n",
              "      <th>7</th>\n",
              "      <td>DoS slowloris</td>\n",
              "      <td>0.944444</td>\n",
              "      <td>0.498562</td>\n",
              "      <td>0.652616</td>\n",
              "    </tr>\n",
              "    <tr>\n",
              "      <th>8</th>\n",
              "      <td>FTP-Patator</td>\n",
              "      <td>0.912147</td>\n",
              "      <td>0.501681</td>\n",
              "      <td>0.647330</td>\n",
              "    </tr>\n",
              "    <tr>\n",
              "      <th>9</th>\n",
              "      <td>PortScan</td>\n",
              "      <td>0.731775</td>\n",
              "      <td>0.983774</td>\n",
              "      <td>0.839267</td>\n",
              "    </tr>\n",
              "    <tr>\n",
              "      <th>10</th>\n",
              "      <td>SSH-Patator</td>\n",
              "      <td>0.000000</td>\n",
              "      <td>0.000000</td>\n",
              "      <td>0.000000</td>\n",
              "    </tr>\n",
              "    <tr>\n",
              "      <th>11</th>\n",
              "      <td>XSS</td>\n",
              "      <td>0.000000</td>\n",
              "      <td>0.000000</td>\n",
              "      <td>0.000000</td>\n",
              "    </tr>\n",
              "  </tbody>\n",
              "</table>\n",
              "</div>"
            ],
            "text/plain": [
              "              attack  precision    recall    fscore\n",
              "0             BENIGN   0.966108  0.971670  0.968881\n",
              "1                Bot   0.000000  0.000000  0.000000\n",
              "2        Brute Force   0.000000  0.000000  0.000000\n",
              "3               DDoS   0.987549  0.861097  0.919998\n",
              "4      DoS GoldenEye   0.973367  0.863990  0.915423\n",
              "5           DoS Hulk   0.958380  0.819517  0.883526\n",
              "6   DoS Slowhttptest   0.850702  0.697576  0.766567\n",
              "7      DoS slowloris   0.944444  0.498562  0.652616\n",
              "8        FTP-Patator   0.912147  0.501681  0.647330\n",
              "9           PortScan   0.731775  0.983774  0.839267\n",
              "10       SSH-Patator   0.000000  0.000000  0.000000\n",
              "11               XSS   0.000000  0.000000  0.000000"
            ]
          },
          "metadata": {
            "tags": []
          },
          "execution_count": 38
        }
      ]
    },
    {
      "cell_type": "code",
      "metadata": {
        "colab": {
          "base_uri": "https://localhost:8080/"
        },
        "id": "Nx1mqb2fdfaZ",
        "outputId": "583ac2ff-7e62-4bc1-a742-3bdec9180726"
      },
      "source": [
        "# Average Accuracy,Precision,Recall,F1-score for SVM classifier on all labels.\n",
        "\n",
        "precision_svm_1, recall_svm_1, fscore_svm_1, support = score(y_test.Label, y_predict, average='macro')\n",
        "accuracy_svm_1 = accuracy_score(y_test.Label, y_predict)\n",
        "print(\"Accuracy of SVM classifier on all labels : \", accuracy_svm_1)"
      ],
      "execution_count": 39,
      "outputs": [
        {
          "output_type": "stream",
          "text": [
            "/usr/local/lib/python3.7/dist-packages/sklearn/metrics/_classification.py:1272: UndefinedMetricWarning: Precision and F-score are ill-defined and being set to 0.0 in labels with no predicted samples. Use `zero_division` parameter to control this behavior.\n",
            "  _warn_prf(average, modifier, msg_start, len(result))\n"
          ],
          "name": "stderr"
        },
        {
          "output_type": "stream",
          "text": [
            "Accuracy of SVM classifier on all labels :  0.9483074652587455\n"
          ],
          "name": "stdout"
        }
      ]
    },
    {
      "cell_type": "code",
      "metadata": {
        "id": "fxBk5TKudfaZ"
      },
      "source": [
        ""
      ],
      "execution_count": 39,
      "outputs": []
    },
    {
      "cell_type": "markdown",
      "metadata": {
        "id": "7bAcTig6dfaZ"
      },
      "source": [
        "1. b) Binary Classifier."
      ]
    },
    {
      "cell_type": "code",
      "metadata": {
        "colab": {
          "base_uri": "https://localhost:8080/"
        },
        "id": "Bb5eHOQldfaZ",
        "outputId": "504aa567-a55e-4076-d6f9-6991c560832b"
      },
      "source": [
        "# fit the model\n",
        "\n",
        "start = time.time()\n",
        "classifier.fit(x_train, y_train.Attack)\n",
        "end = time.time()\n",
        "training_time = end - start\n",
        "\n",
        "print(\"Model Training Time is : \", training_time)"
      ],
      "execution_count": 40,
      "outputs": [
        {
          "output_type": "stream",
          "text": [
            "Model Training Time is :  189.12931942939758\n"
          ],
          "name": "stdout"
        }
      ]
    },
    {
      "cell_type": "code",
      "metadata": {
        "colab": {
          "base_uri": "https://localhost:8080/"
        },
        "id": "a0Z25J0hdfaa",
        "outputId": "bdda597b-4e3a-4be8-eb38-6f735e4037bb"
      },
      "source": [
        "# predicting test results of SVM classifier on binary labels.\n",
        "\n",
        "start = time.time()\n",
        "y_predict = classifier.predict(x_test)\n",
        "end = time.time()\n",
        "testing_time = end  - start\n",
        "\n",
        "print(\"Model Testing Time is : \", testing_time)"
      ],
      "execution_count": 41,
      "outputs": [
        {
          "output_type": "stream",
          "text": [
            "Model Testing Time is :  0.07437896728515625\n"
          ],
          "name": "stdout"
        }
      ]
    },
    {
      "cell_type": "code",
      "metadata": {
        "colab": {
          "base_uri": "https://localhost:8080/",
          "height": 420
        },
        "id": "SXZA9N1mdfaa",
        "outputId": "d2f91e88-5afe-45dc-a2be-dfc5b6f28162"
      },
      "source": [
        "# Creating confusion matrix for SVM classifier on binary labels.\n",
        "\n",
        "confusion_svm_2 = pd.crosstab(y_test.Attack, y_predict, rownames=['Actual Attacks'], colnames=['Predicted attacks'])\n",
        "\n",
        "print(\"Plotting Confusion Matrix of SVM classifier on binary Labels \")\n",
        "\n",
        "sn.heatmap(confusion_svm_2, annot=True, cmap= 'Blues', fmt='d')\n",
        "plt.show()\n",
        "confusion_svm_2"
      ],
      "execution_count": 42,
      "outputs": [
        {
          "output_type": "stream",
          "text": [
            "Plotting Confusion Matrix of SVM classifier on binary Labels \n"
          ],
          "name": "stdout"
        },
        {
          "output_type": "display_data",
          "data": {
            "image/png": "[encoded data removed]",
            "text/plain": [
              "<Figure size 432x288 with 2 Axes>"
            ]
          },
          "metadata": {
            "tags": [],
            "needs_background": "light"
          }
        },
        {
          "output_type": "execute_result",
          "data": {
            "text/html": [
              "<div>\n",
              "<style scoped>\n",
              "    .dataframe tbody tr th:only-of-type {\n",
              "        vertical-align: middle;\n",
              "    }\n",
              "\n",
              "    .dataframe tbody tr th {\n",
              "        vertical-align: top;\n",
              "    }\n",
              "\n",
              "    .dataframe thead th {\n",
              "        text-align: right;\n",
              "    }\n",
              "</style>\n",
              "<table border=\"1\" class=\"dataframe\">\n",
              "  <thead>\n",
              "    <tr style=\"text-align: right;\">\n",
              "      <th>Predicted attacks</th>\n",
              "      <th>Attack</th>\n",
              "      <th>Normal</th>\n",
              "    </tr>\n",
              "    <tr>\n",
              "      <th>Actual Attacks</th>\n",
              "      <th></th>\n",
              "      <th></th>\n",
              "    </tr>\n",
              "  </thead>\n",
              "  <tbody>\n",
              "    <tr>\n",
              "      <th>Attack</th>\n",
              "      <td>129956</td>\n",
              "      <td>36991</td>\n",
              "    </tr>\n",
              "    <tr>\n",
              "      <th>Normal</th>\n",
              "      <td>24720</td>\n",
              "      <td>656676</td>\n",
              "    </tr>\n",
              "  </tbody>\n",
              "</table>\n",
              "</div>"
            ],
            "text/plain": [
              "Predicted attacks  Attack  Normal\n",
              "Actual Attacks                   \n",
              "Attack             129956   36991\n",
              "Normal              24720  656676"
            ]
          },
          "metadata": {
            "tags": []
          },
          "execution_count": 42
        }
      ]
    },
    {
      "cell_type": "code",
      "metadata": {
        "colab": {
          "base_uri": "https://localhost:8080/",
          "height": 110
        },
        "id": "eGruJBE4dfaa",
        "outputId": "e251dff1-a9a5-4b4b-87c9-9108c3557cde"
      },
      "source": [
        "# Precision,Recall,F1-score for SVM classifier on binary labels.\n",
        "\n",
        "precision, recall, fscore, support = score(y_test.Attack, y_predict)\n",
        "d = {'attack': [0,1], 'precision': precision, 'recall' : recall, 'fscore': fscore}\n",
        "results = pd.DataFrame(data=d)\n",
        "results"
      ],
      "execution_count": 43,
      "outputs": [
        {
          "output_type": "execute_result",
          "data": {
            "text/html": [
              "<div>\n",
              "<style scoped>\n",
              "    .dataframe tbody tr th:only-of-type {\n",
              "        vertical-align: middle;\n",
              "    }\n",
              "\n",
              "    .dataframe tbody tr th {\n",
              "        vertical-align: top;\n",
              "    }\n",
              "\n",
              "    .dataframe thead th {\n",
              "        text-align: right;\n",
              "    }\n",
              "</style>\n",
              "<table border=\"1\" class=\"dataframe\">\n",
              "  <thead>\n",
              "    <tr style=\"text-align: right;\">\n",
              "      <th></th>\n",
              "      <th>attack</th>\n",
              "      <th>precision</th>\n",
              "      <th>recall</th>\n",
              "      <th>fscore</th>\n",
              "    </tr>\n",
              "  </thead>\n",
              "  <tbody>\n",
              "    <tr>\n",
              "      <th>0</th>\n",
              "      <td>0</td>\n",
              "      <td>0.840182</td>\n",
              "      <td>0.778427</td>\n",
              "      <td>0.808126</td>\n",
              "    </tr>\n",
              "    <tr>\n",
              "      <th>1</th>\n",
              "      <td>1</td>\n",
              "      <td>0.946673</td>\n",
              "      <td>0.963722</td>\n",
              "      <td>0.955121</td>\n",
              "    </tr>\n",
              "  </tbody>\n",
              "</table>\n",
              "</div>"
            ],
            "text/plain": [
              "   attack  precision    recall    fscore\n",
              "0       0   0.840182  0.778427  0.808126\n",
              "1       1   0.946673  0.963722  0.955121"
            ]
          },
          "metadata": {
            "tags": []
          },
          "execution_count": 43
        }
      ]
    },
    {
      "cell_type": "code",
      "metadata": {
        "colab": {
          "base_uri": "https://localhost:8080/"
        },
        "id": "LXxI0vDDdfaa",
        "outputId": "ce91223f-1924-4a5f-ff0f-d2a868ffbcd6"
      },
      "source": [
        "# Average Accuracy,Precision,Recall,F1-score for SVM classifier on binary labels.\n",
        "\n",
        "precision_svm_2, recall_svm_2, fscore_svm_2, n = score(y_test.Attack, y_predict, average='macro')\n",
        "accuracy_svm_2 = accuracy_score(y_test.Attack, y_predict)\n",
        "print(\"Accuracy of SVM classifier on binary labels : \", accuracy_svm_2)"
      ],
      "execution_count": 44,
      "outputs": [
        {
          "output_type": "stream",
          "text": [
            "Accuracy of SVM classifier on binary labels :  0.9272570175035334\n"
          ],
          "name": "stdout"
        }
      ]
    },
    {
      "cell_type": "code",
      "metadata": {
        "id": "LX4hUJ8odfaa"
      },
      "source": [
        ""
      ],
      "execution_count": 44,
      "outputs": []
    },
    {
      "cell_type": "markdown",
      "metadata": {
        "id": "I5m3ohZndfaa"
      },
      "source": [
        "1. c) Multi-class Classifier."
      ]
    },
    {
      "cell_type": "code",
      "metadata": {
        "colab": {
          "base_uri": "https://localhost:8080/"
        },
        "id": "A0xOECsFdfaa",
        "outputId": "f4dc2e2d-0b31-4835-9090-b1d72e200cae"
      },
      "source": [
        "# fit the model\n",
        "\n",
        "start = time.time()\n",
        "classifier.fit(x_train, y_train.Label_Category)\n",
        "end = time.time()\n",
        "training_time = end - start\n",
        "\n",
        "print(\"Model Training Time is : \", training_time)"
      ],
      "execution_count": 45,
      "outputs": [
        {
          "output_type": "stream",
          "text": [
            "Model Training Time is :  405.1454904079437\n"
          ],
          "name": "stdout"
        }
      ]
    },
    {
      "cell_type": "code",
      "metadata": {
        "colab": {
          "base_uri": "https://localhost:8080/"
        },
        "id": "jXYdVNXVdfab",
        "outputId": "8b503e45-2d75-4c40-95d5-6f1d31cfd1af"
      },
      "source": [
        "# predicting test results of SVM classifier on multi-class labels.\n",
        "\n",
        "start = time.time()\n",
        "y_predict = classifier.predict(x_test)\n",
        "end = time.time()\n",
        "testing_time = end  - start\n",
        "\n",
        "print(\"Model Testing Time is : \", testing_time)"
      ],
      "execution_count": 46,
      "outputs": [
        {
          "output_type": "stream",
          "text": [
            "Model Testing Time is :  0.48248934745788574\n"
          ],
          "name": "stdout"
        }
      ]
    },
    {
      "cell_type": "code",
      "metadata": {
        "colab": {
          "base_uri": "https://localhost:8080/",
          "height": 621
        },
        "id": "ba2MVJwOdfab",
        "outputId": "cc1284d7-e8a0-4c7e-c830-2235c5f42f0c"
      },
      "source": [
        "# Creating confusion matrix for SVM classifier on multi-class labels.\n",
        "\n",
        "confusion_svm_3 = pd.crosstab(y_test.Label_Category, y_predict, rownames=['Actual Attacks'], colnames=['Predicted attacks'])\n",
        "\n",
        "print(\"Plotting Confusion Matrix of SVM classifier on multi-class Labels \")\n",
        "\n",
        "sn.heatmap(confusion_svm_3, annot=True, cmap= 'Blues', fmt='d')\n",
        "plt.show()\n",
        "confusion_svm_3"
      ],
      "execution_count": 47,
      "outputs": [
        {
          "output_type": "stream",
          "text": [
            "Plotting Confusion Matrix of SVM classifier on multi-class Labels \n"
          ],
          "name": "stdout"
        },
        {
          "output_type": "display_data",
          "data": {
            "image/png": "[encoded data removed]",
            "text/plain": [
              "<Figure size 432x288 with 2 Axes>"
            ]
          },
          "metadata": {
            "tags": [],
            "needs_background": "light"
          }
        },
        {
          "output_type": "execute_result",
          "data": {
            "text/html": [
              "<div>\n",
              "<style scoped>\n",
              "    .dataframe tbody tr th:only-of-type {\n",
              "        vertical-align: middle;\n",
              "    }\n",
              "\n",
              "    .dataframe tbody tr th {\n",
              "        vertical-align: top;\n",
              "    }\n",
              "\n",
              "    .dataframe thead th {\n",
              "        text-align: right;\n",
              "    }\n",
              "</style>\n",
              "<table border=\"1\" class=\"dataframe\">\n",
              "  <thead>\n",
              "    <tr style=\"text-align: right;\">\n",
              "      <th>Predicted attacks</th>\n",
              "      <th>benign</th>\n",
              "      <th>botnet</th>\n",
              "      <th>brute_force</th>\n",
              "      <th>ddos</th>\n",
              "      <th>dos</th>\n",
              "      <th>probe</th>\n",
              "      <th>web_attack</th>\n",
              "    </tr>\n",
              "    <tr>\n",
              "      <th>Actual Attacks</th>\n",
              "      <th></th>\n",
              "      <th></th>\n",
              "      <th></th>\n",
              "      <th></th>\n",
              "      <th></th>\n",
              "      <th></th>\n",
              "      <th></th>\n",
              "    </tr>\n",
              "  </thead>\n",
              "  <tbody>\n",
              "    <tr>\n",
              "      <th>benign</th>\n",
              "      <td>661950</td>\n",
              "      <td>36</td>\n",
              "      <td>2</td>\n",
              "      <td>82</td>\n",
              "      <td>2293</td>\n",
              "      <td>17027</td>\n",
              "      <td>6</td>\n",
              "    </tr>\n",
              "    <tr>\n",
              "      <th>botnet</th>\n",
              "      <td>452</td>\n",
              "      <td>0</td>\n",
              "      <td>0</td>\n",
              "      <td>0</td>\n",
              "      <td>0</td>\n",
              "      <td>135</td>\n",
              "      <td>0</td>\n",
              "    </tr>\n",
              "    <tr>\n",
              "      <th>brute_force</th>\n",
              "      <td>2915</td>\n",
              "      <td>0</td>\n",
              "      <td>1203</td>\n",
              "      <td>0</td>\n",
              "      <td>26</td>\n",
              "      <td>5</td>\n",
              "      <td>0</td>\n",
              "    </tr>\n",
              "    <tr>\n",
              "      <th>ddos</th>\n",
              "      <td>4647</td>\n",
              "      <td>0</td>\n",
              "      <td>0</td>\n",
              "      <td>32652</td>\n",
              "      <td>1101</td>\n",
              "      <td>8</td>\n",
              "      <td>0</td>\n",
              "    </tr>\n",
              "    <tr>\n",
              "      <th>dos</th>\n",
              "      <td>16669</td>\n",
              "      <td>64</td>\n",
              "      <td>0</td>\n",
              "      <td>359</td>\n",
              "      <td>58417</td>\n",
              "      <td>5</td>\n",
              "      <td>0</td>\n",
              "    </tr>\n",
              "    <tr>\n",
              "      <th>probe</th>\n",
              "      <td>739</td>\n",
              "      <td>0</td>\n",
              "      <td>0</td>\n",
              "      <td>0</td>\n",
              "      <td>30</td>\n",
              "      <td>46872</td>\n",
              "      <td>0</td>\n",
              "    </tr>\n",
              "    <tr>\n",
              "      <th>web_attack</th>\n",
              "      <td>648</td>\n",
              "      <td>0</td>\n",
              "      <td>0</td>\n",
              "      <td>0</td>\n",
              "      <td>0</td>\n",
              "      <td>0</td>\n",
              "      <td>0</td>\n",
              "    </tr>\n",
              "  </tbody>\n",
              "</table>\n",
              "</div>"
            ],
            "text/plain": [
              "Predicted attacks  benign  botnet  brute_force   ddos    dos  probe  \\\n",
              "Actual Attacks                                                        \n",
              "benign             661950      36            2     82   2293  17027   \n",
              "botnet                452       0            0      0      0    135   \n",
              "brute_force          2915       0         1203      0     26      5   \n",
              "ddos                 4647       0            0  32652   1101      8   \n",
              "dos                 16669      64            0    359  58417      5   \n",
              "probe                 739       0            0      0     30  46872   \n",
              "web_attack            648       0            0      0      0      0   \n",
              "\n",
              "Predicted attacks  web_attack  \n",
              "Actual Attacks                 \n",
              "benign                      6  \n",
              "botnet                      0  \n",
              "brute_force                 0  \n",
              "ddos                        0  \n",
              "dos                         0  \n",
              "probe                       0  \n",
              "web_attack                  0  "
            ]
          },
          "metadata": {
            "tags": []
          },
          "execution_count": 47
        }
      ]
    },
    {
      "cell_type": "code",
      "metadata": {
        "colab": {
          "base_uri": "https://localhost:8080/",
          "height": 265
        },
        "id": "f89NY8Y-dfab",
        "outputId": "3de2c684-f436-46d7-a7d1-3a139423a241"
      },
      "source": [
        "# Precision,Recall,F1-score for SVM classifier on multi-class labels.\n",
        "\n",
        "precision, recall, fscore, support = score(y_test.Label_Category, y_predict)\n",
        "d = {'attack': attack_groups, 'precision': precision, 'recall' : recall, 'fscore': fscore}\n",
        "results = pd.DataFrame(data=d)\n",
        "results"
      ],
      "execution_count": 48,
      "outputs": [
        {
          "output_type": "execute_result",
          "data": {
            "text/html": [
              "<div>\n",
              "<style scoped>\n",
              "    .dataframe tbody tr th:only-of-type {\n",
              "        vertical-align: middle;\n",
              "    }\n",
              "\n",
              "    .dataframe tbody tr th {\n",
              "        vertical-align: top;\n",
              "    }\n",
              "\n",
              "    .dataframe thead th {\n",
              "        text-align: right;\n",
              "    }\n",
              "</style>\n",
              "<table border=\"1\" class=\"dataframe\">\n",
              "  <thead>\n",
              "    <tr style=\"text-align: right;\">\n",
              "      <th></th>\n",
              "      <th>attack</th>\n",
              "      <th>precision</th>\n",
              "      <th>recall</th>\n",
              "      <th>fscore</th>\n",
              "    </tr>\n",
              "  </thead>\n",
              "  <tbody>\n",
              "    <tr>\n",
              "      <th>0</th>\n",
              "      <td>benign</td>\n",
              "      <td>0.962109</td>\n",
              "      <td>0.971462</td>\n",
              "      <td>0.966762</td>\n",
              "    </tr>\n",
              "    <tr>\n",
              "      <th>1</th>\n",
              "      <td>botnet</td>\n",
              "      <td>0.000000</td>\n",
              "      <td>0.000000</td>\n",
              "      <td>0.000000</td>\n",
              "    </tr>\n",
              "    <tr>\n",
              "      <th>2</th>\n",
              "      <td>brute_force</td>\n",
              "      <td>0.998340</td>\n",
              "      <td>0.289949</td>\n",
              "      <td>0.449384</td>\n",
              "    </tr>\n",
              "    <tr>\n",
              "      <th>3</th>\n",
              "      <td>ddos</td>\n",
              "      <td>0.986674</td>\n",
              "      <td>0.850135</td>\n",
              "      <td>0.913330</td>\n",
              "    </tr>\n",
              "    <tr>\n",
              "      <th>4</th>\n",
              "      <td>dos</td>\n",
              "      <td>0.944235</td>\n",
              "      <td>0.773592</td>\n",
              "      <td>0.850438</td>\n",
              "    </tr>\n",
              "    <tr>\n",
              "      <th>5</th>\n",
              "      <td>probe</td>\n",
              "      <td>0.731780</td>\n",
              "      <td>0.983858</td>\n",
              "      <td>0.839301</td>\n",
              "    </tr>\n",
              "    <tr>\n",
              "      <th>6</th>\n",
              "      <td>web_attack</td>\n",
              "      <td>0.000000</td>\n",
              "      <td>0.000000</td>\n",
              "      <td>0.000000</td>\n",
              "    </tr>\n",
              "  </tbody>\n",
              "</table>\n",
              "</div>"
            ],
            "text/plain": [
              "        attack  precision    recall    fscore\n",
              "0       benign   0.962109  0.971462  0.966762\n",
              "1       botnet   0.000000  0.000000  0.000000\n",
              "2  brute_force   0.998340  0.289949  0.449384\n",
              "3         ddos   0.986674  0.850135  0.913330\n",
              "4          dos   0.944235  0.773592  0.850438\n",
              "5        probe   0.731780  0.983858  0.839301\n",
              "6   web_attack   0.000000  0.000000  0.000000"
            ]
          },
          "metadata": {
            "tags": []
          },
          "execution_count": 48
        }
      ]
    },
    {
      "cell_type": "code",
      "metadata": {
        "colab": {
          "base_uri": "https://localhost:8080/"
        },
        "id": "TS8PZhT8dfab",
        "outputId": "8308add5-6713-40b2-a7e0-e88db90e0904"
      },
      "source": [
        "# Average Accuracy,Precision,Recall,F1-score for SVM classifier on multi-class labels.\n",
        "\n",
        "precision_svm_3, recall_svm_3, fscore_svm_3, n = score(y_test.Label_Category, y_predict, average='macro')\n",
        "accuracy_svm_3 = accuracy_score(y_test.Label_Category, y_predict)\n",
        "print(\"Accuracy of SVM classifier on multi-class labels : \", accuracy_svm_3)"
      ],
      "execution_count": 49,
      "outputs": [
        {
          "output_type": "stream",
          "text": [
            "Accuracy of SVM classifier on multi-class labels :  0.9443043674551449\n"
          ],
          "name": "stdout"
        }
      ]
    },
    {
      "cell_type": "code",
      "metadata": {
        "id": "Gjf4-CSYdfac"
      },
      "source": [
        ""
      ],
      "execution_count": 49,
      "outputs": []
    },
    {
      "cell_type": "markdown",
      "metadata": {
        "id": "yWdiINl6dfac"
      },
      "source": [
        "### Results for SVM:"
      ]
    },
    {
      "cell_type": "code",
      "metadata": {
        "colab": {
          "base_uri": "https://localhost:8080/"
        },
        "id": "NocSB0BDdfac",
        "outputId": "43866113-5989-4c7c-9763-4f6d12ba59af"
      },
      "source": [
        "print('Support Vector Machine: Precision / Recall / Fscore / Accuracy')\n",
        "\n",
        "print('All Labels:', precision_svm_1, recall_svm_1, fscore_svm_1,  accuracy_svm_1)\n",
        "print('Binary Labels:', precision_svm_2, recall_svm_2, fscore_svm_2, accuracy_svm_2)\n",
        "print('Multi-class Labels:', precision_svm_3, recall_svm_3, fscore_svm_3, accuracy_svm_3)"
      ],
      "execution_count": 50,
      "outputs": [
        {
          "output_type": "stream",
          "text": [
            "Support Vector Machine: Precision / Recall / Fscore / Accuracy\n",
            "All Labels: 0.6103726620259674 0.5164888817555738 0.5494671656464464 0.9483074652587455\n",
            "Binary Labels: 0.8934276588134502 0.871074111344472 0.8816238067435893 0.9272570175035334\n",
            "Multi-class Labels: 0.6604483528860229 0.5527137708530362 0.5741734874496957 0.9443043674551449\n"
          ],
          "name": "stdout"
        }
      ]
    },
    {
      "cell_type": "code",
      "metadata": {
        "id": "oyBGf9Ehdfac"
      },
      "source": [
        ""
      ],
      "execution_count": 50,
      "outputs": []
    },
    {
      "cell_type": "code",
      "metadata": {
        "id": "kFpoe5oRdfac"
      },
      "source": [
        ""
      ],
      "execution_count": 50,
      "outputs": []
    },
    {
      "cell_type": "markdown",
      "metadata": {
        "id": "BbL_GApYdfac"
      },
      "source": [
        "# 2. Decision Tree"
      ]
    },
    {
      "cell_type": "code",
      "metadata": {
        "id": "cGrDKFp_dfac"
      },
      "source": [
        "classifier = DecisionTreeClassifier(random_state = 0)"
      ],
      "execution_count": 51,
      "outputs": []
    },
    {
      "cell_type": "markdown",
      "metadata": {
        "id": "xQyZByd9dfac"
      },
      "source": [
        "1. a) On all attack labels."
      ]
    },
    {
      "cell_type": "code",
      "metadata": {
        "colab": {
          "base_uri": "https://localhost:8080/"
        },
        "id": "xcGruD2Udfad",
        "outputId": "c437692a-06a1-40f2-9399-c21f583709d0"
      },
      "source": [
        "# fit the model\n",
        "\n",
        "start = time.time()\n",
        "classifier.fit(x_train, y_train.Label)\n",
        "end = time.time()\n",
        "training_time = end - start\n",
        "\n",
        "print(\"Model Training Time is : \", training_time)"
      ],
      "execution_count": 52,
      "outputs": [
        {
          "output_type": "stream",
          "text": [
            "Model Training Time is :  97.02134418487549\n"
          ],
          "name": "stdout"
        }
      ]
    },
    {
      "cell_type": "code",
      "metadata": {
        "colab": {
          "base_uri": "https://localhost:8080/"
        },
        "id": "YsW5lnUtdfad",
        "outputId": "69346a4f-a0aa-47ff-875b-5ca2e72f93ab"
      },
      "source": [
        "# predicting test results of Decision Tree classifier on all labels.\n",
        "\n",
        "start = time.time()\n",
        "y_predict = classifier.predict(x_test)\n",
        "end = time.time()\n",
        "testing_time = end  - start\n",
        "\n",
        "print(\"Model Testing Time is : \", testing_time)"
      ],
      "execution_count": 53,
      "outputs": [
        {
          "output_type": "stream",
          "text": [
            "Model Testing Time is :  0.4498908519744873\n"
          ],
          "name": "stdout"
        }
      ]
    },
    {
      "cell_type": "code",
      "metadata": {
        "colab": {
          "base_uri": "https://localhost:8080/",
          "height": 804
        },
        "id": "kY5HhZX6dfad",
        "outputId": "60d4fa98-0fb2-496f-ee8b-52f0d84c4030"
      },
      "source": [
        "# Creating confusion matrix for Decision Tree classifier on all labels.\n",
        "\n",
        "confusion_dt_1 = pd.crosstab(y_test.Label, y_predict, rownames=['Actual Attacks'], colnames=['Predicted attacks'])\n",
        "\n",
        "print(\"Plotting Confusion Matrix of Decision Tree classifier on all Labels \")\n",
        "\n",
        "sn.heatmap(confusion_dt_1, annot=True, cmap= 'Blues', fmt='d')\n",
        "plt.show()\n",
        "confusion_dt_1"
      ],
      "execution_count": 54,
      "outputs": [
        {
          "output_type": "stream",
          "text": [
            "Plotting Confusion Matrix of Decision Tree classifier on all Labels \n"
          ],
          "name": "stdout"
        },
        {
          "output_type": "display_data",
          "data": {
            "image/png": "[encoded data removed]",
            "text/plain": [
              "<Figure size 432x288 with 2 Axes>"
            ]
          },
          "metadata": {
            "tags": [],
            "needs_background": "light"
          }
        },
        {
          "output_type": "execute_result",
          "data": {
            "text/html": [
              "<div>\n",
              "<style scoped>\n",
              "    .dataframe tbody tr th:only-of-type {\n",
              "        vertical-align: middle;\n",
              "    }\n",
              "\n",
              "    .dataframe tbody tr th {\n",
              "        vertical-align: top;\n",
              "    }\n",
              "\n",
              "    .dataframe thead th {\n",
              "        text-align: right;\n",
              "    }\n",
              "</style>\n",
              "<table border=\"1\" class=\"dataframe\">\n",
              "  <thead>\n",
              "    <tr style=\"text-align: right;\">\n",
              "      <th>Predicted attacks</th>\n",
              "      <th>BENIGN</th>\n",
              "      <th>Bot</th>\n",
              "      <th>Brute Force</th>\n",
              "      <th>DDoS</th>\n",
              "      <th>DoS GoldenEye</th>\n",
              "      <th>DoS Hulk</th>\n",
              "      <th>DoS Slowhttptest</th>\n",
              "      <th>DoS slowloris</th>\n",
              "      <th>FTP-Patator</th>\n",
              "      <th>PortScan</th>\n",
              "      <th>SSH-Patator</th>\n",
              "      <th>XSS</th>\n",
              "    </tr>\n",
              "    <tr>\n",
              "      <th>Actual Attacks</th>\n",
              "      <th></th>\n",
              "      <th></th>\n",
              "      <th></th>\n",
              "      <th></th>\n",
              "      <th></th>\n",
              "      <th></th>\n",
              "      <th></th>\n",
              "      <th></th>\n",
              "      <th></th>\n",
              "      <th></th>\n",
              "      <th></th>\n",
              "      <th></th>\n",
              "    </tr>\n",
              "  </thead>\n",
              "  <tbody>\n",
              "    <tr>\n",
              "      <th>BENIGN</th>\n",
              "      <td>681266</td>\n",
              "      <td>30</td>\n",
              "      <td>4</td>\n",
              "      <td>6</td>\n",
              "      <td>3</td>\n",
              "      <td>60</td>\n",
              "      <td>7</td>\n",
              "      <td>5</td>\n",
              "      <td>4</td>\n",
              "      <td>3</td>\n",
              "      <td>1</td>\n",
              "      <td>7</td>\n",
              "    </tr>\n",
              "    <tr>\n",
              "      <th>Bot</th>\n",
              "      <td>15</td>\n",
              "      <td>572</td>\n",
              "      <td>0</td>\n",
              "      <td>0</td>\n",
              "      <td>0</td>\n",
              "      <td>0</td>\n",
              "      <td>0</td>\n",
              "      <td>0</td>\n",
              "      <td>0</td>\n",
              "      <td>0</td>\n",
              "      <td>0</td>\n",
              "      <td>0</td>\n",
              "    </tr>\n",
              "    <tr>\n",
              "      <th>Brute Force</th>\n",
              "      <td>0</td>\n",
              "      <td>0</td>\n",
              "      <td>451</td>\n",
              "      <td>0</td>\n",
              "      <td>0</td>\n",
              "      <td>0</td>\n",
              "      <td>0</td>\n",
              "      <td>0</td>\n",
              "      <td>0</td>\n",
              "      <td>0</td>\n",
              "      <td>0</td>\n",
              "      <td>1</td>\n",
              "    </tr>\n",
              "    <tr>\n",
              "      <th>DDoS</th>\n",
              "      <td>10</td>\n",
              "      <td>0</td>\n",
              "      <td>0</td>\n",
              "      <td>38398</td>\n",
              "      <td>0</td>\n",
              "      <td>0</td>\n",
              "      <td>0</td>\n",
              "      <td>0</td>\n",
              "      <td>0</td>\n",
              "      <td>0</td>\n",
              "      <td>0</td>\n",
              "      <td>0</td>\n",
              "    </tr>\n",
              "    <tr>\n",
              "      <th>DoS GoldenEye</th>\n",
              "      <td>2</td>\n",
              "      <td>0</td>\n",
              "      <td>0</td>\n",
              "      <td>0</td>\n",
              "      <td>3086</td>\n",
              "      <td>0</td>\n",
              "      <td>0</td>\n",
              "      <td>0</td>\n",
              "      <td>0</td>\n",
              "      <td>0</td>\n",
              "      <td>0</td>\n",
              "      <td>0</td>\n",
              "    </tr>\n",
              "    <tr>\n",
              "      <th>DoS Hulk</th>\n",
              "      <td>60</td>\n",
              "      <td>0</td>\n",
              "      <td>0</td>\n",
              "      <td>1</td>\n",
              "      <td>0</td>\n",
              "      <td>68974</td>\n",
              "      <td>0</td>\n",
              "      <td>0</td>\n",
              "      <td>0</td>\n",
              "      <td>1</td>\n",
              "      <td>0</td>\n",
              "      <td>1</td>\n",
              "    </tr>\n",
              "    <tr>\n",
              "      <th>DoS Slowhttptest</th>\n",
              "      <td>1</td>\n",
              "      <td>0</td>\n",
              "      <td>0</td>\n",
              "      <td>1</td>\n",
              "      <td>0</td>\n",
              "      <td>0</td>\n",
              "      <td>1646</td>\n",
              "      <td>1</td>\n",
              "      <td>0</td>\n",
              "      <td>0</td>\n",
              "      <td>0</td>\n",
              "      <td>1</td>\n",
              "    </tr>\n",
              "    <tr>\n",
              "      <th>DoS slowloris</th>\n",
              "      <td>4</td>\n",
              "      <td>0</td>\n",
              "      <td>1</td>\n",
              "      <td>0</td>\n",
              "      <td>0</td>\n",
              "      <td>0</td>\n",
              "      <td>0</td>\n",
              "      <td>1733</td>\n",
              "      <td>1</td>\n",
              "      <td>0</td>\n",
              "      <td>0</td>\n",
              "      <td>0</td>\n",
              "    </tr>\n",
              "    <tr>\n",
              "      <th>FTP-Patator</th>\n",
              "      <td>3</td>\n",
              "      <td>0</td>\n",
              "      <td>0</td>\n",
              "      <td>0</td>\n",
              "      <td>0</td>\n",
              "      <td>0</td>\n",
              "      <td>0</td>\n",
              "      <td>0</td>\n",
              "      <td>2377</td>\n",
              "      <td>0</td>\n",
              "      <td>0</td>\n",
              "      <td>0</td>\n",
              "    </tr>\n",
              "    <tr>\n",
              "      <th>PortScan</th>\n",
              "      <td>6</td>\n",
              "      <td>0</td>\n",
              "      <td>0</td>\n",
              "      <td>0</td>\n",
              "      <td>0</td>\n",
              "      <td>0</td>\n",
              "      <td>0</td>\n",
              "      <td>0</td>\n",
              "      <td>0</td>\n",
              "      <td>47632</td>\n",
              "      <td>0</td>\n",
              "      <td>3</td>\n",
              "    </tr>\n",
              "    <tr>\n",
              "      <th>SSH-Patator</th>\n",
              "      <td>0</td>\n",
              "      <td>0</td>\n",
              "      <td>0</td>\n",
              "      <td>0</td>\n",
              "      <td>0</td>\n",
              "      <td>0</td>\n",
              "      <td>0</td>\n",
              "      <td>0</td>\n",
              "      <td>0</td>\n",
              "      <td>0</td>\n",
              "      <td>1769</td>\n",
              "      <td>0</td>\n",
              "    </tr>\n",
              "    <tr>\n",
              "      <th>XSS</th>\n",
              "      <td>2</td>\n",
              "      <td>0</td>\n",
              "      <td>1</td>\n",
              "      <td>0</td>\n",
              "      <td>0</td>\n",
              "      <td>0</td>\n",
              "      <td>0</td>\n",
              "      <td>0</td>\n",
              "      <td>0</td>\n",
              "      <td>0</td>\n",
              "      <td>0</td>\n",
              "      <td>193</td>\n",
              "    </tr>\n",
              "  </tbody>\n",
              "</table>\n",
              "</div>"
            ],
            "text/plain": [
              "Predicted attacks  BENIGN  Bot  Brute Force   DDoS  DoS GoldenEye  DoS Hulk  \\\n",
              "Actual Attacks                                                                \n",
              "BENIGN             681266   30            4      6              3        60   \n",
              "Bot                    15  572            0      0              0         0   \n",
              "Brute Force             0    0          451      0              0         0   \n",
              "DDoS                   10    0            0  38398              0         0   \n",
              "DoS GoldenEye           2    0            0      0           3086         0   \n",
              "DoS Hulk               60    0            0      1              0     68974   \n",
              "DoS Slowhttptest        1    0            0      1              0         0   \n",
              "DoS slowloris           4    0            1      0              0         0   \n",
              "FTP-Patator             3    0            0      0              0         0   \n",
              "PortScan                6    0            0      0              0         0   \n",
              "SSH-Patator             0    0            0      0              0         0   \n",
              "XSS                     2    0            1      0              0         0   \n",
              "\n",
              "Predicted attacks  DoS Slowhttptest  DoS slowloris  FTP-Patator  PortScan  \\\n",
              "Actual Attacks                                                              \n",
              "BENIGN                            7              5            4         3   \n",
              "Bot                               0              0            0         0   \n",
              "Brute Force                       0              0            0         0   \n",
              "DDoS                              0              0            0         0   \n",
              "DoS GoldenEye                     0              0            0         0   \n",
              "DoS Hulk                          0              0            0         1   \n",
              "DoS Slowhttptest               1646              1            0         0   \n",
              "DoS slowloris                     0           1733            1         0   \n",
              "FTP-Patator                       0              0         2377         0   \n",
              "PortScan                          0              0            0     47632   \n",
              "SSH-Patator                       0              0            0         0   \n",
              "XSS                               0              0            0         0   \n",
              "\n",
              "Predicted attacks  SSH-Patator  XSS  \n",
              "Actual Attacks                       \n",
              "BENIGN                       1    7  \n",
              "Bot                          0    0  \n",
              "Brute Force                  0    1  \n",
              "DDoS                         0    0  \n",
              "DoS GoldenEye                0    0  \n",
              "DoS Hulk                     0    1  \n",
              "DoS Slowhttptest             0    1  \n",
              "DoS slowloris                0    0  \n",
              "FTP-Patator                  0    0  \n",
              "PortScan                     0    3  \n",
              "SSH-Patator               1769    0  \n",
              "XSS                          0  193  "
            ]
          },
          "metadata": {
            "tags": []
          },
          "execution_count": 54
        }
      ]
    },
    {
      "cell_type": "code",
      "metadata": {
        "colab": {
          "base_uri": "https://localhost:8080/",
          "height": 418
        },
        "id": "2RYjICqJdfad",
        "outputId": "578f1893-d9a8-4872-a98f-4d24de97516e"
      },
      "source": [
        "# Precision,Recall,F1-score for Decision Tree classifier on all labels.\n",
        "\n",
        "precision, recall, fscore, support = score(y_test.Label, y_predict)\n",
        "\n",
        "d = {'attack': attack, 'precision': precision, 'recall' : recall, 'fscore': fscore}\n",
        "results = pd.DataFrame(data=d)\n",
        "results"
      ],
      "execution_count": 55,
      "outputs": [
        {
          "output_type": "execute_result",
          "data": {
            "text/html": [
              "<div>\n",
              "<style scoped>\n",
              "    .dataframe tbody tr th:only-of-type {\n",
              "        vertical-align: middle;\n",
              "    }\n",
              "\n",
              "    .dataframe tbody tr th {\n",
              "        vertical-align: top;\n",
              "    }\n",
              "\n",
              "    .dataframe thead th {\n",
              "        text-align: right;\n",
              "    }\n",
              "</style>\n",
              "<table border=\"1\" class=\"dataframe\">\n",
              "  <thead>\n",
              "    <tr style=\"text-align: right;\">\n",
              "      <th></th>\n",
              "      <th>attack</th>\n",
              "      <th>precision</th>\n",
              "      <th>recall</th>\n",
              "      <th>fscore</th>\n",
              "    </tr>\n",
              "  </thead>\n",
              "  <tbody>\n",
              "    <tr>\n",
              "      <th>0</th>\n",
              "      <td>BENIGN</td>\n",
              "      <td>0.999849</td>\n",
              "      <td>0.999809</td>\n",
              "      <td>0.999829</td>\n",
              "    </tr>\n",
              "    <tr>\n",
              "      <th>1</th>\n",
              "      <td>Bot</td>\n",
              "      <td>0.950166</td>\n",
              "      <td>0.974446</td>\n",
              "      <td>0.962153</td>\n",
              "    </tr>\n",
              "    <tr>\n",
              "      <th>2</th>\n",
              "      <td>Brute Force</td>\n",
              "      <td>0.986871</td>\n",
              "      <td>0.997788</td>\n",
              "      <td>0.992299</td>\n",
              "    </tr>\n",
              "    <tr>\n",
              "      <th>3</th>\n",
              "      <td>DDoS</td>\n",
              "      <td>0.999792</td>\n",
              "      <td>0.999740</td>\n",
              "      <td>0.999766</td>\n",
              "    </tr>\n",
              "    <tr>\n",
              "      <th>4</th>\n",
              "      <td>DoS GoldenEye</td>\n",
              "      <td>0.999029</td>\n",
              "      <td>0.999352</td>\n",
              "      <td>0.999191</td>\n",
              "    </tr>\n",
              "    <tr>\n",
              "      <th>5</th>\n",
              "      <td>DoS Hulk</td>\n",
              "      <td>0.999131</td>\n",
              "      <td>0.999087</td>\n",
              "      <td>0.999109</td>\n",
              "    </tr>\n",
              "    <tr>\n",
              "      <th>6</th>\n",
              "      <td>DoS Slowhttptest</td>\n",
              "      <td>0.995765</td>\n",
              "      <td>0.997576</td>\n",
              "      <td>0.996670</td>\n",
              "    </tr>\n",
              "    <tr>\n",
              "      <th>7</th>\n",
              "      <td>DoS slowloris</td>\n",
              "      <td>0.996550</td>\n",
              "      <td>0.996550</td>\n",
              "      <td>0.996550</td>\n",
              "    </tr>\n",
              "    <tr>\n",
              "      <th>8</th>\n",
              "      <td>FTP-Patator</td>\n",
              "      <td>0.997901</td>\n",
              "      <td>0.998739</td>\n",
              "      <td>0.998320</td>\n",
              "    </tr>\n",
              "    <tr>\n",
              "      <th>9</th>\n",
              "      <td>PortScan</td>\n",
              "      <td>0.999916</td>\n",
              "      <td>0.999811</td>\n",
              "      <td>0.999864</td>\n",
              "    </tr>\n",
              "    <tr>\n",
              "      <th>10</th>\n",
              "      <td>SSH-Patator</td>\n",
              "      <td>0.999435</td>\n",
              "      <td>1.000000</td>\n",
              "      <td>0.999717</td>\n",
              "    </tr>\n",
              "    <tr>\n",
              "      <th>11</th>\n",
              "      <td>XSS</td>\n",
              "      <td>0.936893</td>\n",
              "      <td>0.984694</td>\n",
              "      <td>0.960199</td>\n",
              "    </tr>\n",
              "  </tbody>\n",
              "</table>\n",
              "</div>"
            ],
            "text/plain": [
              "              attack  precision    recall    fscore\n",
              "0             BENIGN   0.999849  0.999809  0.999829\n",
              "1                Bot   0.950166  0.974446  0.962153\n",
              "2        Brute Force   0.986871  0.997788  0.992299\n",
              "3               DDoS   0.999792  0.999740  0.999766\n",
              "4      DoS GoldenEye   0.999029  0.999352  0.999191\n",
              "5           DoS Hulk   0.999131  0.999087  0.999109\n",
              "6   DoS Slowhttptest   0.995765  0.997576  0.996670\n",
              "7      DoS slowloris   0.996550  0.996550  0.996550\n",
              "8        FTP-Patator   0.997901  0.998739  0.998320\n",
              "9           PortScan   0.999916  0.999811  0.999864\n",
              "10       SSH-Patator   0.999435  1.000000  0.999717\n",
              "11               XSS   0.936893  0.984694  0.960199"
            ]
          },
          "metadata": {
            "tags": []
          },
          "execution_count": 55
        }
      ]
    },
    {
      "cell_type": "code",
      "metadata": {
        "colab": {
          "base_uri": "https://localhost:8080/"
        },
        "id": "loXjQApedfad",
        "outputId": "b921cf31-7fec-4077-b792-6a8a8603c1ee"
      },
      "source": [
        "# Average Accuracy,Precision,Recall,F1-score for Decision Tree classifier on all labels.\n",
        "\n",
        "precision_dt_1, recall_dt_1, fscore_dt_1, support = score(y_test.Label, y_predict, average='macro')\n",
        "accuracy_dt_1 = accuracy_score(y_test.Label, y_predict)\n",
        "print(\"Accuracy of Decision Tree classifier on all labels : \", accuracy_dt_1)"
      ],
      "execution_count": 56,
      "outputs": [
        {
          "output_type": "stream",
          "text": [
            "Accuracy of Decision Tree classifier on all labels :  0.9997100229506226\n"
          ],
          "name": "stdout"
        }
      ]
    },
    {
      "cell_type": "code",
      "metadata": {
        "id": "O-t8w6Drdfad"
      },
      "source": [
        ""
      ],
      "execution_count": 56,
      "outputs": []
    },
    {
      "cell_type": "code",
      "metadata": {
        "colab": {
          "base_uri": "https://localhost:8080/"
        },
        "id": "ypbARfd3dfad",
        "outputId": "0d831418-8f95-4543-8072-97077f3c4397"
      },
      "source": [
        "# fit the model\n",
        "\n",
        "start = time.time()\n",
        "classifier.fit(x_train, y_train.Attack)\n",
        "end = time.time()\n",
        "training_time = end - start\n",
        "\n",
        "print(\"Model Training Time is : \", training_time)"
      ],
      "execution_count": 57,
      "outputs": [
        {
          "output_type": "stream",
          "text": [
            "Model Training Time is :  96.87200260162354\n"
          ],
          "name": "stdout"
        }
      ]
    },
    {
      "cell_type": "code",
      "metadata": {
        "colab": {
          "base_uri": "https://localhost:8080/"
        },
        "id": "To0CYXT3dfad",
        "outputId": "394e8d25-7ee3-4c53-a9fa-34ceaa087cc0"
      },
      "source": [
        "# predicting test results of Decision Tree classifier on binary labels.\n",
        "\n",
        "start = time.time()\n",
        "y_predict = classifier.predict(x_test)\n",
        "end = time.time()\n",
        "testing_time = end  - start\n",
        "\n",
        "print(\"Model Testing Time is : \", testing_time)"
      ],
      "execution_count": 58,
      "outputs": [
        {
          "output_type": "stream",
          "text": [
            "Model Testing Time is :  0.20534729957580566\n"
          ],
          "name": "stdout"
        }
      ]
    },
    {
      "cell_type": "code",
      "metadata": {
        "colab": {
          "base_uri": "https://localhost:8080/",
          "height": 420
        },
        "id": "nVIMKPOldfad",
        "outputId": "abed6d3c-f3a2-4e17-c223-aec17dba063b"
      },
      "source": [
        "# Creating confusion matrix for Decision Tree classifier on binary labels.\n",
        "\n",
        "confusion_dt_2 = pd.crosstab(y_test.Attack, y_predict, rownames=['Actual Attacks'], colnames=['Predicted attacks'])\n",
        "\n",
        "print(\"Plotting Confusion Matrix of Decision Tree classifier on binary Labels \")\n",
        "\n",
        "sn.heatmap(confusion_dt_2, annot=True, cmap= 'Blues', fmt='d')\n",
        "plt.show()\n",
        "confusion_dt_2"
      ],
      "execution_count": 59,
      "outputs": [
        {
          "output_type": "stream",
          "text": [
            "Plotting Confusion Matrix of Decision Tree classifier on binary Labels \n"
          ],
          "name": "stdout"
        },
        {
          "output_type": "display_data",
          "data": {
            "image/png": "[encoded data removed]",
            "text/plain": [
              "<Figure size 432x288 with 2 Axes>"
            ]
          },
          "metadata": {
            "tags": [],
            "needs_background": "light"
          }
        },
        {
          "output_type": "execute_result",
          "data": {
            "text/html": [
              "<div>\n",
              "<style scoped>\n",
              "    .dataframe tbody tr th:only-of-type {\n",
              "        vertical-align: middle;\n",
              "    }\n",
              "\n",
              "    .dataframe tbody tr th {\n",
              "        vertical-align: top;\n",
              "    }\n",
              "\n",
              "    .dataframe thead th {\n",
              "        text-align: right;\n",
              "    }\n",
              "</style>\n",
              "<table border=\"1\" class=\"dataframe\">\n",
              "  <thead>\n",
              "    <tr style=\"text-align: right;\">\n",
              "      <th>Predicted attacks</th>\n",
              "      <th>Attack</th>\n",
              "      <th>Normal</th>\n",
              "    </tr>\n",
              "    <tr>\n",
              "      <th>Actual Attacks</th>\n",
              "      <th></th>\n",
              "      <th></th>\n",
              "    </tr>\n",
              "  </thead>\n",
              "  <tbody>\n",
              "    <tr>\n",
              "      <th>Attack</th>\n",
              "      <td>166821</td>\n",
              "      <td>126</td>\n",
              "    </tr>\n",
              "    <tr>\n",
              "      <th>Normal</th>\n",
              "      <td>126</td>\n",
              "      <td>681270</td>\n",
              "    </tr>\n",
              "  </tbody>\n",
              "</table>\n",
              "</div>"
            ],
            "text/plain": [
              "Predicted attacks  Attack  Normal\n",
              "Actual Attacks                   \n",
              "Attack             166821     126\n",
              "Normal                126  681270"
            ]
          },
          "metadata": {
            "tags": []
          },
          "execution_count": 59
        }
      ]
    },
    {
      "cell_type": "code",
      "metadata": {
        "colab": {
          "base_uri": "https://localhost:8080/",
          "height": 110
        },
        "id": "1yOxMtmMdfad",
        "outputId": "b4b5c4dc-f19a-425e-8e2f-aba322d0593e"
      },
      "source": [
        "# Precision,Recall,F1-score for Decision Tree classifier on binary labels.\n",
        "\n",
        "precision, recall, fscore, support = score(y_test.Attack, y_predict)\n",
        "d = {'attack': [0,1], 'precision': precision, 'recall' : recall, 'fscore': fscore}\n",
        "results = pd.DataFrame(data=d)\n",
        "results"
      ],
      "execution_count": 60,
      "outputs": [
        {
          "output_type": "execute_result",
          "data": {
            "text/html": [
              "<div>\n",
              "<style scoped>\n",
              "    .dataframe tbody tr th:only-of-type {\n",
              "        vertical-align: middle;\n",
              "    }\n",
              "\n",
              "    .dataframe tbody tr th {\n",
              "        vertical-align: top;\n",
              "    }\n",
              "\n",
              "    .dataframe thead th {\n",
              "        text-align: right;\n",
              "    }\n",
              "</style>\n",
              "<table border=\"1\" class=\"dataframe\">\n",
              "  <thead>\n",
              "    <tr style=\"text-align: right;\">\n",
              "      <th></th>\n",
              "      <th>attack</th>\n",
              "      <th>precision</th>\n",
              "      <th>recall</th>\n",
              "      <th>fscore</th>\n",
              "    </tr>\n",
              "  </thead>\n",
              "  <tbody>\n",
              "    <tr>\n",
              "      <th>0</th>\n",
              "      <td>0</td>\n",
              "      <td>0.999245</td>\n",
              "      <td>0.999245</td>\n",
              "      <td>0.999245</td>\n",
              "    </tr>\n",
              "    <tr>\n",
              "      <th>1</th>\n",
              "      <td>1</td>\n",
              "      <td>0.999815</td>\n",
              "      <td>0.999815</td>\n",
              "      <td>0.999815</td>\n",
              "    </tr>\n",
              "  </tbody>\n",
              "</table>\n",
              "</div>"
            ],
            "text/plain": [
              "   attack  precision    recall    fscore\n",
              "0       0   0.999245  0.999245  0.999245\n",
              "1       1   0.999815  0.999815  0.999815"
            ]
          },
          "metadata": {
            "tags": []
          },
          "execution_count": 60
        }
      ]
    },
    {
      "cell_type": "code",
      "metadata": {
        "colab": {
          "base_uri": "https://localhost:8080/"
        },
        "id": "Z1kbv83Cdfae",
        "outputId": "2679176d-77fc-458a-a5e9-07bed06ed617"
      },
      "source": [
        "# Average Accuracy,Precision,Recall,F1-score for Decision Tree classifier on binary labels.\n",
        "\n",
        "precision_dt_2, recall_dt_2, fscore_dt_2, n = score(y_test.Attack, y_predict, average='macro')\n",
        "accuracy_dt_2 = accuracy_score(y_test.Attack, y_predict)\n",
        "print(\"Accuracy of Decision Tree classifier on binary labels : \", accuracy_dt_2)"
      ],
      "execution_count": 61,
      "outputs": [
        {
          "output_type": "stream",
          "text": [
            "Accuracy of Decision Tree classifier on binary labels :  0.9997029503396622\n"
          ],
          "name": "stdout"
        }
      ]
    },
    {
      "cell_type": "code",
      "metadata": {
        "id": "impaJY6rdfae"
      },
      "source": [
        ""
      ],
      "execution_count": 61,
      "outputs": []
    },
    {
      "cell_type": "code",
      "metadata": {
        "colab": {
          "base_uri": "https://localhost:8080/"
        },
        "id": "Ua5SpT3Edfae",
        "outputId": "5649d48e-7ba7-4d97-b8ad-922a91e5fa0c"
      },
      "source": [
        "# fit the model\n",
        "\n",
        "start = time.time()\n",
        "classifier.fit(x_train, y_train.Label_Category)\n",
        "end = time.time()\n",
        "training_time = end - start\n",
        "\n",
        "print(\"Model Training Time is : \", training_time)"
      ],
      "execution_count": 62,
      "outputs": [
        {
          "output_type": "stream",
          "text": [
            "Model Training Time is :  95.8577172756195\n"
          ],
          "name": "stdout"
        }
      ]
    },
    {
      "cell_type": "code",
      "metadata": {
        "colab": {
          "base_uri": "https://localhost:8080/"
        },
        "id": "eO3Zfskmdfae",
        "outputId": "391fe614-6865-466e-81cb-79d2f1554b2e"
      },
      "source": [
        "# predicting test results of Decision Tree classifier on multi-class labels.\n",
        "\n",
        "start = time.time()\n",
        "y_predict = classifier.predict(x_test)\n",
        "end = time.time()\n",
        "testing_time = end  - start\n",
        "\n",
        "print(\"Model Testing Time is : \", testing_time)"
      ],
      "execution_count": 63,
      "outputs": [
        {
          "output_type": "stream",
          "text": [
            "Model Testing Time is :  0.24169182777404785\n"
          ],
          "name": "stdout"
        }
      ]
    },
    {
      "cell_type": "code",
      "metadata": {
        "colab": {
          "base_uri": "https://localhost:8080/",
          "height": 621
        },
        "id": "Q0L8nBlHdfae",
        "outputId": "7e9f583c-1c28-4820-cc88-15a1d1449669"
      },
      "source": [
        "# Creating confusion matrix for Decision Tree classifier on multi-class labels.\n",
        "\n",
        "confusion_dt_3 = pd.crosstab(y_test.Label_Category, y_predict, rownames=['Actual Attacks'], colnames=['Predicted attacks'])\n",
        "\n",
        "print(\"Plotting Confusion Matrix of Decision Tree classifier on multi-class Labels \")\n",
        "\n",
        "sn.heatmap(confusion_dt_3, annot=True, cmap= 'Blues', fmt='d')\n",
        "plt.show()\n",
        "confusion_dt_3"
      ],
      "execution_count": 64,
      "outputs": [
        {
          "output_type": "stream",
          "text": [
            "Plotting Confusion Matrix of Decision Tree classifier on multi-class Labels \n"
          ],
          "name": "stdout"
        },
        {
          "output_type": "display_data",
          "data": {
            "image/png": "[encoded data removed]",
            "text/plain": [
              "<Figure size 432x288 with 2 Axes>"
            ]
          },
          "metadata": {
            "tags": [],
            "needs_background": "light"
          }
        },
        {
          "output_type": "execute_result",
          "data": {
            "text/html": [
              "<div>\n",
              "<style scoped>\n",
              "    .dataframe tbody tr th:only-of-type {\n",
              "        vertical-align: middle;\n",
              "    }\n",
              "\n",
              "    .dataframe tbody tr th {\n",
              "        vertical-align: top;\n",
              "    }\n",
              "\n",
              "    .dataframe thead th {\n",
              "        text-align: right;\n",
              "    }\n",
              "</style>\n",
              "<table border=\"1\" class=\"dataframe\">\n",
              "  <thead>\n",
              "    <tr style=\"text-align: right;\">\n",
              "      <th>Predicted attacks</th>\n",
              "      <th>benign</th>\n",
              "      <th>botnet</th>\n",
              "      <th>brute_force</th>\n",
              "      <th>ddos</th>\n",
              "      <th>dos</th>\n",
              "      <th>probe</th>\n",
              "      <th>web_attack</th>\n",
              "    </tr>\n",
              "    <tr>\n",
              "      <th>Actual Attacks</th>\n",
              "      <th></th>\n",
              "      <th></th>\n",
              "      <th></th>\n",
              "      <th></th>\n",
              "      <th></th>\n",
              "      <th></th>\n",
              "      <th></th>\n",
              "    </tr>\n",
              "  </thead>\n",
              "  <tbody>\n",
              "    <tr>\n",
              "      <th>benign</th>\n",
              "      <td>681265</td>\n",
              "      <td>27</td>\n",
              "      <td>4</td>\n",
              "      <td>8</td>\n",
              "      <td>73</td>\n",
              "      <td>11</td>\n",
              "      <td>8</td>\n",
              "    </tr>\n",
              "    <tr>\n",
              "      <th>botnet</th>\n",
              "      <td>21</td>\n",
              "      <td>566</td>\n",
              "      <td>0</td>\n",
              "      <td>0</td>\n",
              "      <td>0</td>\n",
              "      <td>0</td>\n",
              "      <td>0</td>\n",
              "    </tr>\n",
              "    <tr>\n",
              "      <th>brute_force</th>\n",
              "      <td>0</td>\n",
              "      <td>0</td>\n",
              "      <td>4148</td>\n",
              "      <td>0</td>\n",
              "      <td>1</td>\n",
              "      <td>0</td>\n",
              "      <td>0</td>\n",
              "    </tr>\n",
              "    <tr>\n",
              "      <th>ddos</th>\n",
              "      <td>12</td>\n",
              "      <td>0</td>\n",
              "      <td>0</td>\n",
              "      <td>38396</td>\n",
              "      <td>0</td>\n",
              "      <td>0</td>\n",
              "      <td>0</td>\n",
              "    </tr>\n",
              "    <tr>\n",
              "      <th>dos</th>\n",
              "      <td>62</td>\n",
              "      <td>0</td>\n",
              "      <td>0</td>\n",
              "      <td>1</td>\n",
              "      <td>75450</td>\n",
              "      <td>0</td>\n",
              "      <td>1</td>\n",
              "    </tr>\n",
              "    <tr>\n",
              "      <th>probe</th>\n",
              "      <td>11</td>\n",
              "      <td>0</td>\n",
              "      <td>0</td>\n",
              "      <td>0</td>\n",
              "      <td>3</td>\n",
              "      <td>47627</td>\n",
              "      <td>0</td>\n",
              "    </tr>\n",
              "    <tr>\n",
              "      <th>web_attack</th>\n",
              "      <td>5</td>\n",
              "      <td>0</td>\n",
              "      <td>0</td>\n",
              "      <td>0</td>\n",
              "      <td>0</td>\n",
              "      <td>0</td>\n",
              "      <td>643</td>\n",
              "    </tr>\n",
              "  </tbody>\n",
              "</table>\n",
              "</div>"
            ],
            "text/plain": [
              "Predicted attacks  benign  botnet  brute_force   ddos    dos  probe  \\\n",
              "Actual Attacks                                                        \n",
              "benign             681265      27            4      8     73     11   \n",
              "botnet                 21     566            0      0      0      0   \n",
              "brute_force             0       0         4148      0      1      0   \n",
              "ddos                   12       0            0  38396      0      0   \n",
              "dos                    62       0            0      1  75450      0   \n",
              "probe                  11       0            0      0      3  47627   \n",
              "web_attack              5       0            0      0      0      0   \n",
              "\n",
              "Predicted attacks  web_attack  \n",
              "Actual Attacks                 \n",
              "benign                      8  \n",
              "botnet                      0  \n",
              "brute_force                 0  \n",
              "ddos                        0  \n",
              "dos                         1  \n",
              "probe                       0  \n",
              "web_attack                643  "
            ]
          },
          "metadata": {
            "tags": []
          },
          "execution_count": 64
        }
      ]
    },
    {
      "cell_type": "code",
      "metadata": {
        "colab": {
          "base_uri": "https://localhost:8080/",
          "height": 265
        },
        "id": "sbqmgabmdfae",
        "outputId": "a44de902-6cbf-4161-c68f-cb214d1c488c"
      },
      "source": [
        "# Precision,Recall,F1-score for Decision Tree classifier on multi-class labels.\n",
        "\n",
        "precision, recall, fscore, support = score(y_test.Label_Category, y_predict)\n",
        "d = {'attack': attack_groups, 'precision': precision, 'recall' : recall, 'fscore': fscore}\n",
        "results = pd.DataFrame(data=d)\n",
        "results"
      ],
      "execution_count": 65,
      "outputs": [
        {
          "output_type": "execute_result",
          "data": {
            "text/html": [
              "<div>\n",
              "<style scoped>\n",
              "    .dataframe tbody tr th:only-of-type {\n",
              "        vertical-align: middle;\n",
              "    }\n",
              "\n",
              "    .dataframe tbody tr th {\n",
              "        vertical-align: top;\n",
              "    }\n",
              "\n",
              "    .dataframe thead th {\n",
              "        text-align: right;\n",
              "    }\n",
              "</style>\n",
              "<table border=\"1\" class=\"dataframe\">\n",
              "  <thead>\n",
              "    <tr style=\"text-align: right;\">\n",
              "      <th></th>\n",
              "      <th>attack</th>\n",
              "      <th>precision</th>\n",
              "      <th>recall</th>\n",
              "      <th>fscore</th>\n",
              "    </tr>\n",
              "  </thead>\n",
              "  <tbody>\n",
              "    <tr>\n",
              "      <th>0</th>\n",
              "      <td>benign</td>\n",
              "      <td>0.999837</td>\n",
              "      <td>0.999808</td>\n",
              "      <td>0.999822</td>\n",
              "    </tr>\n",
              "    <tr>\n",
              "      <th>1</th>\n",
              "      <td>botnet</td>\n",
              "      <td>0.954469</td>\n",
              "      <td>0.964225</td>\n",
              "      <td>0.959322</td>\n",
              "    </tr>\n",
              "    <tr>\n",
              "      <th>2</th>\n",
              "      <td>brute_force</td>\n",
              "      <td>0.999037</td>\n",
              "      <td>0.999759</td>\n",
              "      <td>0.999398</td>\n",
              "    </tr>\n",
              "    <tr>\n",
              "      <th>3</th>\n",
              "      <td>ddos</td>\n",
              "      <td>0.999766</td>\n",
              "      <td>0.999688</td>\n",
              "      <td>0.999727</td>\n",
              "    </tr>\n",
              "    <tr>\n",
              "      <th>4</th>\n",
              "      <td>dos</td>\n",
              "      <td>0.998980</td>\n",
              "      <td>0.999152</td>\n",
              "      <td>0.999066</td>\n",
              "    </tr>\n",
              "    <tr>\n",
              "      <th>5</th>\n",
              "      <td>probe</td>\n",
              "      <td>0.999769</td>\n",
              "      <td>0.999706</td>\n",
              "      <td>0.999738</td>\n",
              "    </tr>\n",
              "    <tr>\n",
              "      <th>6</th>\n",
              "      <td>web_attack</td>\n",
              "      <td>0.986196</td>\n",
              "      <td>0.992284</td>\n",
              "      <td>0.989231</td>\n",
              "    </tr>\n",
              "  </tbody>\n",
              "</table>\n",
              "</div>"
            ],
            "text/plain": [
              "        attack  precision    recall    fscore\n",
              "0       benign   0.999837  0.999808  0.999822\n",
              "1       botnet   0.954469  0.964225  0.959322\n",
              "2  brute_force   0.999037  0.999759  0.999398\n",
              "3         ddos   0.999766  0.999688  0.999727\n",
              "4          dos   0.998980  0.999152  0.999066\n",
              "5        probe   0.999769  0.999706  0.999738\n",
              "6   web_attack   0.986196  0.992284  0.989231"
            ]
          },
          "metadata": {
            "tags": []
          },
          "execution_count": 65
        }
      ]
    },
    {
      "cell_type": "code",
      "metadata": {
        "colab": {
          "base_uri": "https://localhost:8080/"
        },
        "id": "QH9XHW3Sdfae",
        "outputId": "e84cedf9-55bf-44bc-e04f-be30f8f47cf7"
      },
      "source": [
        "# Average Accuracy,Precision,Recall,F1-score for Decision Tree classifier on multi-class labels.\n",
        "\n",
        "precision_dt_3, recall_dt_3, fscore_dt_3, n = score(y_test.Label_Category, y_predict, average='macro')\n",
        "accuracy_dt_3 = accuracy_score(y_test.Label_Category, y_predict)\n",
        "print(\"Accuracy of Decision Tree classifier on multi-class labels : \", accuracy_dt_3)"
      ],
      "execution_count": 66,
      "outputs": [
        {
          "output_type": "stream",
          "text": [
            "Accuracy of Decision Tree classifier on multi-class labels :  0.9997076654136358\n"
          ],
          "name": "stdout"
        }
      ]
    },
    {
      "cell_type": "markdown",
      "metadata": {
        "id": "wh21QRADdfae"
      },
      "source": [
        "### Results for Decision Tree:"
      ]
    },
    {
      "cell_type": "code",
      "metadata": {
        "colab": {
          "base_uri": "https://localhost:8080/"
        },
        "id": "oezUZ1CRdfae",
        "outputId": "bd95614d-904e-42c0-a4a5-fe51b8c86cb9"
      },
      "source": [
        "print('Decission Tree Classifier : Precision / Recall / Fscore / Accuracy')\n",
        "\n",
        "print('All Labels:', precision_dt_1, recall_dt_1, fscore_dt_1,  accuracy_dt_1)\n",
        "print('Binary Labels:', precision_dt_2, recall_dt_2, fscore_dt_2, accuracy_dt_2)\n",
        "print('Multi-class Labels:', precision_dt_3, recall_dt_3, fscore_dt_3, accuracy_dt_3)"
      ],
      "execution_count": 67,
      "outputs": [
        {
          "output_type": "stream",
          "text": [
            "Decission Tree Classifier : Precision / Recall / Fscore / Accuracy\n",
            "All Labels: 0.9884414516786525 0.9956327114513193 0.9919721795956459 0.9997100229506226\n",
            "Binary Labels: 0.999530177478858 0.999530177478858 0.999530177478858 0.9997029503396622\n",
            "Multi-class Labels: 0.9911505813408323 0.9935173891628378 0.9923290838491127 0.9997076654136358\n"
          ],
          "name": "stdout"
        }
      ]
    },
    {
      "cell_type": "code",
      "metadata": {
        "id": "ZnWCwTtodfae"
      },
      "source": [
        "# 3. Naive Bayes Classifier"
      ],
      "execution_count": 68,
      "outputs": []
    },
    {
      "cell_type": "code",
      "metadata": {
        "id": "gRqvg6L-dfaf"
      },
      "source": [
        "classifier = MultinomialNB()"
      ],
      "execution_count": 69,
      "outputs": []
    },
    {
      "cell_type": "code",
      "metadata": {
        "id": "2YnzQQPWdfaf"
      },
      "source": [
        "# 1. a) On all attack labels."
      ],
      "execution_count": 70,
      "outputs": []
    },
    {
      "cell_type": "code",
      "metadata": {
        "colab": {
          "base_uri": "https://localhost:8080/"
        },
        "id": "IC3Noev2dfaf",
        "outputId": "a1905a77-efa8-4f73-c560-4f7f96496dc0"
      },
      "source": [
        "# fit the model\n",
        "\n",
        "start = time.time()\n",
        "classifier.fit(x_train, y_train.Label)\n",
        "end = time.time()\n",
        "training_time = end - start\n",
        "\n",
        "print(\"Model Training Time is : \", training_time)"
      ],
      "execution_count": 71,
      "outputs": [
        {
          "output_type": "stream",
          "text": [
            "Model Training Time is :  11.925494194030762\n"
          ],
          "name": "stdout"
        }
      ]
    },
    {
      "cell_type": "code",
      "metadata": {
        "colab": {
          "base_uri": "https://localhost:8080/"
        },
        "id": "gxVqhXAqdfaf",
        "outputId": "c57a8907-1166-4ea6-ab4f-952dff49cb47"
      },
      "source": [
        "# predicting test results of Naive Bayes classifier on all labels.\n",
        "\n",
        "start = time.time()\n",
        "y_predict = classifier.predict(x_test)\n",
        "end = time.time()\n",
        "testing_time = end  - start\n",
        "\n",
        "print(\"Model Testing Time is : \", testing_time)"
      ],
      "execution_count": 72,
      "outputs": [
        {
          "output_type": "stream",
          "text": [
            "Model Testing Time is :  0.332796573638916\n"
          ],
          "name": "stdout"
        }
      ]
    },
    {
      "cell_type": "code",
      "metadata": {
        "colab": {
          "base_uri": "https://localhost:8080/",
          "height": 804
        },
        "id": "q3BXOUFTdfaf",
        "outputId": "008b4ce5-66c5-4297-8637-996c9b7f512b"
      },
      "source": [
        "# Creating confusion matrix for Naive Bayes classifier on all labels.\n",
        "\n",
        "confusion_nb_1 = pd.crosstab(y_test.Label, y_predict, rownames=['Actual Attacks'], colnames=['Predicted attacks'])\n",
        "\n",
        "print(\"Plotting Confusion Matrix of Naive Bayes classifier on all Labels \")\n",
        "\n",
        "sn.heatmap(confusion_nb_1, annot=True, cmap= 'Blues', fmt='d')\n",
        "plt.show()\n",
        "confusion_nb_1"
      ],
      "execution_count": 73,
      "outputs": [
        {
          "output_type": "stream",
          "text": [
            "Plotting Confusion Matrix of Naive Bayes classifier on all Labels \n"
          ],
          "name": "stdout"
        },
        {
          "output_type": "display_data",
          "data": {
            "image/png": "[encoded data removed]",
            "text/plain": [
              "<Figure size 432x288 with 2 Axes>"
            ]
          },
          "metadata": {
            "tags": [],
            "needs_background": "light"
          }
        },
        {
          "output_type": "execute_result",
          "data": {
            "text/html": [
              "<div>\n",
              "<style scoped>\n",
              "    .dataframe tbody tr th:only-of-type {\n",
              "        vertical-align: middle;\n",
              "    }\n",
              "\n",
              "    .dataframe tbody tr th {\n",
              "        vertical-align: top;\n",
              "    }\n",
              "\n",
              "    .dataframe thead th {\n",
              "        text-align: right;\n",
              "    }\n",
              "</style>\n",
              "<table border=\"1\" class=\"dataframe\">\n",
              "  <thead>\n",
              "    <tr style=\"text-align: right;\">\n",
              "      <th>Predicted attacks</th>\n",
              "      <th>BENIGN</th>\n",
              "      <th>DDoS</th>\n",
              "      <th>DoS GoldenEye</th>\n",
              "      <th>DoS Hulk</th>\n",
              "      <th>DoS Slowhttptest</th>\n",
              "      <th>DoS slowloris</th>\n",
              "      <th>PortScan</th>\n",
              "    </tr>\n",
              "    <tr>\n",
              "      <th>Actual Attacks</th>\n",
              "      <th></th>\n",
              "      <th></th>\n",
              "      <th></th>\n",
              "      <th></th>\n",
              "      <th></th>\n",
              "      <th></th>\n",
              "      <th></th>\n",
              "    </tr>\n",
              "  </thead>\n",
              "  <tbody>\n",
              "    <tr>\n",
              "      <th>BENIGN</th>\n",
              "      <td>668407</td>\n",
              "      <td>133</td>\n",
              "      <td>21</td>\n",
              "      <td>4502</td>\n",
              "      <td>113</td>\n",
              "      <td>7850</td>\n",
              "      <td>370</td>\n",
              "    </tr>\n",
              "    <tr>\n",
              "      <th>Bot</th>\n",
              "      <td>581</td>\n",
              "      <td>6</td>\n",
              "      <td>0</td>\n",
              "      <td>0</td>\n",
              "      <td>0</td>\n",
              "      <td>0</td>\n",
              "      <td>0</td>\n",
              "    </tr>\n",
              "    <tr>\n",
              "      <th>Brute Force</th>\n",
              "      <td>452</td>\n",
              "      <td>0</td>\n",
              "      <td>0</td>\n",
              "      <td>0</td>\n",
              "      <td>0</td>\n",
              "      <td>0</td>\n",
              "      <td>0</td>\n",
              "    </tr>\n",
              "    <tr>\n",
              "      <th>DDoS</th>\n",
              "      <td>14322</td>\n",
              "      <td>18872</td>\n",
              "      <td>0</td>\n",
              "      <td>5214</td>\n",
              "      <td>0</td>\n",
              "      <td>0</td>\n",
              "      <td>0</td>\n",
              "    </tr>\n",
              "    <tr>\n",
              "      <th>DoS GoldenEye</th>\n",
              "      <td>2406</td>\n",
              "      <td>424</td>\n",
              "      <td>185</td>\n",
              "      <td>0</td>\n",
              "      <td>0</td>\n",
              "      <td>73</td>\n",
              "      <td>0</td>\n",
              "    </tr>\n",
              "    <tr>\n",
              "      <th>DoS Hulk</th>\n",
              "      <td>23159</td>\n",
              "      <td>3516</td>\n",
              "      <td>0</td>\n",
              "      <td>42362</td>\n",
              "      <td>0</td>\n",
              "      <td>0</td>\n",
              "      <td>0</td>\n",
              "    </tr>\n",
              "    <tr>\n",
              "      <th>DoS Slowhttptest</th>\n",
              "      <td>1351</td>\n",
              "      <td>0</td>\n",
              "      <td>0</td>\n",
              "      <td>0</td>\n",
              "      <td>299</td>\n",
              "      <td>0</td>\n",
              "      <td>0</td>\n",
              "    </tr>\n",
              "    <tr>\n",
              "      <th>DoS slowloris</th>\n",
              "      <td>1356</td>\n",
              "      <td>0</td>\n",
              "      <td>0</td>\n",
              "      <td>0</td>\n",
              "      <td>50</td>\n",
              "      <td>333</td>\n",
              "      <td>0</td>\n",
              "    </tr>\n",
              "    <tr>\n",
              "      <th>FTP-Patator</th>\n",
              "      <td>2380</td>\n",
              "      <td>0</td>\n",
              "      <td>0</td>\n",
              "      <td>0</td>\n",
              "      <td>0</td>\n",
              "      <td>0</td>\n",
              "      <td>0</td>\n",
              "    </tr>\n",
              "    <tr>\n",
              "      <th>PortScan</th>\n",
              "      <td>47584</td>\n",
              "      <td>12</td>\n",
              "      <td>0</td>\n",
              "      <td>0</td>\n",
              "      <td>0</td>\n",
              "      <td>31</td>\n",
              "      <td>14</td>\n",
              "    </tr>\n",
              "    <tr>\n",
              "      <th>SSH-Patator</th>\n",
              "      <td>1769</td>\n",
              "      <td>0</td>\n",
              "      <td>0</td>\n",
              "      <td>0</td>\n",
              "      <td>0</td>\n",
              "      <td>0</td>\n",
              "      <td>0</td>\n",
              "    </tr>\n",
              "    <tr>\n",
              "      <th>XSS</th>\n",
              "      <td>196</td>\n",
              "      <td>0</td>\n",
              "      <td>0</td>\n",
              "      <td>0</td>\n",
              "      <td>0</td>\n",
              "      <td>0</td>\n",
              "      <td>0</td>\n",
              "    </tr>\n",
              "  </tbody>\n",
              "</table>\n",
              "</div>"
            ],
            "text/plain": [
              "Predicted attacks  BENIGN   DDoS  DoS GoldenEye  DoS Hulk  DoS Slowhttptest  \\\n",
              "Actual Attacks                                                                \n",
              "BENIGN             668407    133             21      4502               113   \n",
              "Bot                   581      6              0         0                 0   \n",
              "Brute Force           452      0              0         0                 0   \n",
              "DDoS                14322  18872              0      5214                 0   \n",
              "DoS GoldenEye        2406    424            185         0                 0   \n",
              "DoS Hulk            23159   3516              0     42362                 0   \n",
              "DoS Slowhttptest     1351      0              0         0               299   \n",
              "DoS slowloris        1356      0              0         0                50   \n",
              "FTP-Patator          2380      0              0         0                 0   \n",
              "PortScan            47584     12              0         0                 0   \n",
              "SSH-Patator          1769      0              0         0                 0   \n",
              "XSS                   196      0              0         0                 0   \n",
              "\n",
              "Predicted attacks  DoS slowloris  PortScan  \n",
              "Actual Attacks                              \n",
              "BENIGN                      7850       370  \n",
              "Bot                            0         0  \n",
              "Brute Force                    0         0  \n",
              "DDoS                           0         0  \n",
              "DoS GoldenEye                 73         0  \n",
              "DoS Hulk                       0         0  \n",
              "DoS Slowhttptest               0         0  \n",
              "DoS slowloris                333         0  \n",
              "FTP-Patator                    0         0  \n",
              "PortScan                      31        14  \n",
              "SSH-Patator                    0         0  \n",
              "XSS                            0         0  "
            ]
          },
          "metadata": {
            "tags": []
          },
          "execution_count": 73
        }
      ]
    },
    {
      "cell_type": "code",
      "metadata": {
        "colab": {
          "base_uri": "https://localhost:8080/",
          "height": 472
        },
        "id": "S7yk7rR5dfaf",
        "outputId": "f3a549ad-9adc-45d4-9b11-d38530d70979"
      },
      "source": [
        "# Precision,Recall,F1-score for Naive Bayes classifier on all labels.\n",
        "\n",
        "precision, recall, fscore, support = score(y_test.Label, y_predict)\n",
        "\n",
        "d = {'attack': attack, 'precision': precision, 'recall' : recall, 'fscore': fscore}\n",
        "results = pd.DataFrame(data=d)\n",
        "results"
      ],
      "execution_count": 74,
      "outputs": [
        {
          "output_type": "stream",
          "text": [
            "/usr/local/lib/python3.7/dist-packages/sklearn/metrics/_classification.py:1272: UndefinedMetricWarning: Precision and F-score are ill-defined and being set to 0.0 in labels with no predicted samples. Use `zero_division` parameter to control this behavior.\n",
            "  _warn_prf(average, modifier, msg_start, len(result))\n"
          ],
          "name": "stderr"
        },
        {
          "output_type": "execute_result",
          "data": {
            "text/html": [
              "<div>\n",
              "<style scoped>\n",
              "    .dataframe tbody tr th:only-of-type {\n",
              "        vertical-align: middle;\n",
              "    }\n",
              "\n",
              "    .dataframe tbody tr th {\n",
              "        vertical-align: top;\n",
              "    }\n",
              "\n",
              "    .dataframe thead th {\n",
              "        text-align: right;\n",
              "    }\n",
              "</style>\n",
              "<table border=\"1\" class=\"dataframe\">\n",
              "  <thead>\n",
              "    <tr style=\"text-align: right;\">\n",
              "      <th></th>\n",
              "      <th>attack</th>\n",
              "      <th>precision</th>\n",
              "      <th>recall</th>\n",
              "      <th>fscore</th>\n",
              "    </tr>\n",
              "  </thead>\n",
              "  <tbody>\n",
              "    <tr>\n",
              "      <th>0</th>\n",
              "      <td>BENIGN</td>\n",
              "      <td>0.874921</td>\n",
              "      <td>0.980938</td>\n",
              "      <td>0.924901</td>\n",
              "    </tr>\n",
              "    <tr>\n",
              "      <th>1</th>\n",
              "      <td>Bot</td>\n",
              "      <td>0.000000</td>\n",
              "      <td>0.000000</td>\n",
              "      <td>0.000000</td>\n",
              "    </tr>\n",
              "    <tr>\n",
              "      <th>2</th>\n",
              "      <td>Brute Force</td>\n",
              "      <td>0.000000</td>\n",
              "      <td>0.000000</td>\n",
              "      <td>0.000000</td>\n",
              "    </tr>\n",
              "    <tr>\n",
              "      <th>3</th>\n",
              "      <td>DDoS</td>\n",
              "      <td>0.821844</td>\n",
              "      <td>0.491356</td>\n",
              "      <td>0.615014</td>\n",
              "    </tr>\n",
              "    <tr>\n",
              "      <th>4</th>\n",
              "      <td>DoS GoldenEye</td>\n",
              "      <td>0.898058</td>\n",
              "      <td>0.059909</td>\n",
              "      <td>0.112325</td>\n",
              "    </tr>\n",
              "    <tr>\n",
              "      <th>5</th>\n",
              "      <td>DoS Hulk</td>\n",
              "      <td>0.813434</td>\n",
              "      <td>0.613613</td>\n",
              "      <td>0.699534</td>\n",
              "    </tr>\n",
              "    <tr>\n",
              "      <th>6</th>\n",
              "      <td>DoS Slowhttptest</td>\n",
              "      <td>0.647186</td>\n",
              "      <td>0.181212</td>\n",
              "      <td>0.283144</td>\n",
              "    </tr>\n",
              "    <tr>\n",
              "      <th>7</th>\n",
              "      <td>DoS slowloris</td>\n",
              "      <td>0.040183</td>\n",
              "      <td>0.191489</td>\n",
              "      <td>0.066427</td>\n",
              "    </tr>\n",
              "    <tr>\n",
              "      <th>8</th>\n",
              "      <td>FTP-Patator</td>\n",
              "      <td>0.000000</td>\n",
              "      <td>0.000000</td>\n",
              "      <td>0.000000</td>\n",
              "    </tr>\n",
              "    <tr>\n",
              "      <th>9</th>\n",
              "      <td>PortScan</td>\n",
              "      <td>0.036458</td>\n",
              "      <td>0.000294</td>\n",
              "      <td>0.000583</td>\n",
              "    </tr>\n",
              "    <tr>\n",
              "      <th>10</th>\n",
              "      <td>SSH-Patator</td>\n",
              "      <td>0.000000</td>\n",
              "      <td>0.000000</td>\n",
              "      <td>0.000000</td>\n",
              "    </tr>\n",
              "    <tr>\n",
              "      <th>11</th>\n",
              "      <td>XSS</td>\n",
              "      <td>0.000000</td>\n",
              "      <td>0.000000</td>\n",
              "      <td>0.000000</td>\n",
              "    </tr>\n",
              "  </tbody>\n",
              "</table>\n",
              "</div>"
            ],
            "text/plain": [
              "              attack  precision    recall    fscore\n",
              "0             BENIGN   0.874921  0.980938  0.924901\n",
              "1                Bot   0.000000  0.000000  0.000000\n",
              "2        Brute Force   0.000000  0.000000  0.000000\n",
              "3               DDoS   0.821844  0.491356  0.615014\n",
              "4      DoS GoldenEye   0.898058  0.059909  0.112325\n",
              "5           DoS Hulk   0.813434  0.613613  0.699534\n",
              "6   DoS Slowhttptest   0.647186  0.181212  0.283144\n",
              "7      DoS slowloris   0.040183  0.191489  0.066427\n",
              "8        FTP-Patator   0.000000  0.000000  0.000000\n",
              "9           PortScan   0.036458  0.000294  0.000583\n",
              "10       SSH-Patator   0.000000  0.000000  0.000000\n",
              "11               XSS   0.000000  0.000000  0.000000"
            ]
          },
          "metadata": {
            "tags": []
          },
          "execution_count": 74
        }
      ]
    },
    {
      "cell_type": "code",
      "metadata": {
        "colab": {
          "base_uri": "https://localhost:8080/"
        },
        "id": "_t7CWNt0dfaf",
        "outputId": "19cdbd55-8efe-4885-af24-f388e1dd2840"
      },
      "source": [
        "# Average Accuracy,Precision,Recall,F1-score for Naive Bayes classifier on all labels.\n",
        "\n",
        "precision_nb_1, recall_nb_1, fscore_nb_1, support = score(y_test.Label, y_predict, average='macro')\n",
        "accuracy_nb_1 = accuracy_score(y_test.Label, y_predict)\n",
        "print(\"Accuracy of Naive Bayes classifier on all labels : \", accuracy_nb_1)"
      ],
      "execution_count": 75,
      "outputs": [
        {
          "output_type": "stream",
          "text": [
            "/usr/local/lib/python3.7/dist-packages/sklearn/metrics/_classification.py:1272: UndefinedMetricWarning: Precision and F-score are ill-defined and being set to 0.0 in labels with no predicted samples. Use `zero_division` parameter to control this behavior.\n",
            "  _warn_prf(average, modifier, msg_start, len(result))\n"
          ],
          "name": "stderr"
        },
        {
          "output_type": "stream",
          "text": [
            "Accuracy of Naive Bayes classifier on all labels :  0.8610573789139534\n"
          ],
          "name": "stdout"
        }
      ]
    },
    {
      "cell_type": "code",
      "metadata": {
        "id": "Y5DW-gdhdfaf"
      },
      "source": [
        "# 1. b) Binary Classifier."
      ],
      "execution_count": 76,
      "outputs": []
    },
    {
      "cell_type": "code",
      "metadata": {
        "colab": {
          "base_uri": "https://localhost:8080/"
        },
        "id": "N2T_jGk-dfaf",
        "outputId": "1e2ed121-739f-42ad-f9d4-727d0ef6d033"
      },
      "source": [
        "# fit the model\n",
        "\n",
        "start = time.time()\n",
        "classifier.fit(x_train, y_train.Attack)\n",
        "end = time.time()\n",
        "training_time = end - start\n",
        "\n",
        "print(\"Model Training Time is : \", training_time)"
      ],
      "execution_count": 77,
      "outputs": [
        {
          "output_type": "stream",
          "text": [
            "Model Training Time is :  26.92693853378296\n"
          ],
          "name": "stdout"
        }
      ]
    },
    {
      "cell_type": "code",
      "metadata": {
        "colab": {
          "base_uri": "https://localhost:8080/"
        },
        "id": "7fE6sStqdfag",
        "outputId": "8382acc0-590a-43cb-b833-6115b08c0bec"
      },
      "source": [
        "# predicting test results of Naive Bayes classifier on binary labels.\n",
        "\n",
        "start = time.time()\n",
        "y_predict = classifier.predict(x_test)\n",
        "end = time.time()\n",
        "testing_time = end  - start\n",
        "\n",
        "print(\"Model Testing Time is : \", testing_time)"
      ],
      "execution_count": 78,
      "outputs": [
        {
          "output_type": "stream",
          "text": [
            "Model Testing Time is :  0.205549955368042\n"
          ],
          "name": "stdout"
        }
      ]
    },
    {
      "cell_type": "code",
      "metadata": {
        "colab": {
          "base_uri": "https://localhost:8080/",
          "height": 420
        },
        "id": "uMKa7PMFdfag",
        "outputId": "2d18d2ed-c939-48ec-e81c-5f5e215d79f7"
      },
      "source": [
        "# Creating confusion matrix for Naive Bayes classifier on binary labels.\n",
        "\n",
        "confusion_nb_2 = pd.crosstab(y_test.Attack, y_predict, rownames=['Actual Attacks'], colnames=['Predicted attacks'])\n",
        "\n",
        "print(\"Plotting Confusion Matrix of Naive Bayes classifier on binary Labels \")\n",
        "\n",
        "sn.heatmap(confusion_nb_2, annot=True, cmap= 'Blues', fmt='d')\n",
        "plt.show()\n",
        "confusion_nb_2"
      ],
      "execution_count": 79,
      "outputs": [
        {
          "output_type": "stream",
          "text": [
            "Plotting Confusion Matrix of Naive Bayes classifier on binary Labels \n"
          ],
          "name": "stdout"
        },
        {
          "output_type": "display_data",
          "data": {
            "image/png": "[encoded data removed]",
            "text/plain": [
              "<Figure size 432x288 with 2 Axes>"
            ]
          },
          "metadata": {
            "tags": [],
            "needs_background": "light"
          }
        },
        {
          "output_type": "execute_result",
          "data": {
            "text/html": [
              "<div>\n",
              "<style scoped>\n",
              "    .dataframe tbody tr th:only-of-type {\n",
              "        vertical-align: middle;\n",
              "    }\n",
              "\n",
              "    .dataframe tbody tr th {\n",
              "        vertical-align: top;\n",
              "    }\n",
              "\n",
              "    .dataframe thead th {\n",
              "        text-align: right;\n",
              "    }\n",
              "</style>\n",
              "<table border=\"1\" class=\"dataframe\">\n",
              "  <thead>\n",
              "    <tr style=\"text-align: right;\">\n",
              "      <th>Predicted attacks</th>\n",
              "      <th>Attack</th>\n",
              "      <th>Normal</th>\n",
              "    </tr>\n",
              "    <tr>\n",
              "      <th>Actual Attacks</th>\n",
              "      <th></th>\n",
              "      <th></th>\n",
              "    </tr>\n",
              "  </thead>\n",
              "  <tbody>\n",
              "    <tr>\n",
              "      <th>Attack</th>\n",
              "      <td>72554</td>\n",
              "      <td>94393</td>\n",
              "    </tr>\n",
              "    <tr>\n",
              "      <th>Normal</th>\n",
              "      <td>18804</td>\n",
              "      <td>662592</td>\n",
              "    </tr>\n",
              "  </tbody>\n",
              "</table>\n",
              "</div>"
            ],
            "text/plain": [
              "Predicted attacks  Attack  Normal\n",
              "Actual Attacks                   \n",
              "Attack              72554   94393\n",
              "Normal              18804  662592"
            ]
          },
          "metadata": {
            "tags": []
          },
          "execution_count": 79
        }
      ]
    },
    {
      "cell_type": "code",
      "metadata": {
        "colab": {
          "base_uri": "https://localhost:8080/",
          "height": 110
        },
        "id": "b2075RE6dfag",
        "outputId": "fe117d14-740e-41a0-d5b2-1ba77df671c8"
      },
      "source": [
        "# Precision,Recall,F1-score for Naive Bayes classifier on binary labels.\n",
        "\n",
        "precision, recall, fscore, support = score(y_test.Attack, y_predict)\n",
        "d = {'attack': [0,1], 'precision': precision, 'recall' : recall, 'fscore': fscore}\n",
        "results = pd.DataFrame(data=d)\n",
        "results"
      ],
      "execution_count": 80,
      "outputs": [
        {
          "output_type": "execute_result",
          "data": {
            "text/html": [
              "<div>\n",
              "<style scoped>\n",
              "    .dataframe tbody tr th:only-of-type {\n",
              "        vertical-align: middle;\n",
              "    }\n",
              "\n",
              "    .dataframe tbody tr th {\n",
              "        vertical-align: top;\n",
              "    }\n",
              "\n",
              "    .dataframe thead th {\n",
              "        text-align: right;\n",
              "    }\n",
              "</style>\n",
              "<table border=\"1\" class=\"dataframe\">\n",
              "  <thead>\n",
              "    <tr style=\"text-align: right;\">\n",
              "      <th></th>\n",
              "      <th>attack</th>\n",
              "      <th>precision</th>\n",
              "      <th>recall</th>\n",
              "      <th>fscore</th>\n",
              "    </tr>\n",
              "  </thead>\n",
              "  <tbody>\n",
              "    <tr>\n",
              "      <th>0</th>\n",
              "      <td>0</td>\n",
              "      <td>0.794172</td>\n",
              "      <td>0.434593</td>\n",
              "      <td>0.561770</td>\n",
              "    </tr>\n",
              "    <tr>\n",
              "      <th>1</th>\n",
              "      <td>1</td>\n",
              "      <td>0.875304</td>\n",
              "      <td>0.972404</td>\n",
              "      <td>0.921302</td>\n",
              "    </tr>\n",
              "  </tbody>\n",
              "</table>\n",
              "</div>"
            ],
            "text/plain": [
              "   attack  precision    recall    fscore\n",
              "0       0   0.794172  0.434593  0.561770\n",
              "1       1   0.875304  0.972404  0.921302"
            ]
          },
          "metadata": {
            "tags": []
          },
          "execution_count": 80
        }
      ]
    },
    {
      "cell_type": "code",
      "metadata": {
        "colab": {
          "base_uri": "https://localhost:8080/"
        },
        "id": "FUwwZfyFdfag",
        "outputId": "23c87b5a-508c-439e-8177-ca4dbc5f73f7"
      },
      "source": [
        "# Average Accuracy,Precision,Recall,F1-score for Naive Bayes classifier on binary labels.\n",
        "\n",
        "precision_nb_2, recall_nb_2, fscore_nb_2, n = score(y_test.Attack, y_predict, average='macro')\n",
        "accuracy_nb_2 = accuracy_score(y_test.Attack, y_predict)\n",
        "print(\"Accuracy of Naive Bayes classifier on binary labels : \", accuracy_nb_2)"
      ],
      "execution_count": 81,
      "outputs": [
        {
          "output_type": "stream",
          "text": [
            "Accuracy of Naive Bayes classifier on binary labels :  0.8665669428521247\n"
          ],
          "name": "stdout"
        }
      ]
    },
    {
      "cell_type": "code",
      "metadata": {
        "id": "9LSqReLIdfag"
      },
      "source": [
        "# 1. c) Multi-class Classifier."
      ],
      "execution_count": 82,
      "outputs": []
    },
    {
      "cell_type": "code",
      "metadata": {
        "colab": {
          "base_uri": "https://localhost:8080/"
        },
        "id": "prz3sfeGdfag",
        "outputId": "2a846d73-b33a-401a-a9fe-1702337d3fa3"
      },
      "source": [
        "# fit the model\n",
        "\n",
        "start = time.time()\n",
        "classifier.fit(x_train, y_train.Label_Category)\n",
        "end = time.time()\n",
        "training_time = end - start\n",
        "\n",
        "print(\"Model Training Time is : \", training_time)"
      ],
      "execution_count": 83,
      "outputs": [
        {
          "output_type": "stream",
          "text": [
            "Model Training Time is :  8.319253921508789\n"
          ],
          "name": "stdout"
        }
      ]
    },
    {
      "cell_type": "code",
      "metadata": {
        "colab": {
          "base_uri": "https://localhost:8080/"
        },
        "id": "g_C4-3Uedfag",
        "outputId": "3d8b6c73-aa0f-42c8-8420-dd76c9547b91"
      },
      "source": [
        "# predicting test results of Naive Bayes classifier on multi-class labels.\n",
        "\n",
        "start = time.time()\n",
        "y_predict = classifier.predict(x_test)\n",
        "end = time.time()\n",
        "testing_time = end  - start\n",
        "\n",
        "print(\"Model Testing Time is : \", testing_time)"
      ],
      "execution_count": 84,
      "outputs": [
        {
          "output_type": "stream",
          "text": [
            "Model Testing Time is :  0.28006768226623535\n"
          ],
          "name": "stdout"
        }
      ]
    },
    {
      "cell_type": "code",
      "metadata": {
        "colab": {
          "base_uri": "https://localhost:8080/",
          "height": 574
        },
        "id": "xIzu7urSdfag",
        "outputId": "7700dd72-0278-45fe-ecc5-9c52ab1bea1a"
      },
      "source": [
        "# Creating confusion matrix for Naive Bayes classifier on multi-class labels.\n",
        "\n",
        "confusion_nb_3 = pd.crosstab(y_test.Label_Category, y_predict, rownames=['Actual Attacks'], colnames=['Predicted attacks'])\n",
        "\n",
        "print(\"Plotting Confusion Matrix of Naive Bayes classifier on multi-class Labels \")\n",
        "\n",
        "sn.heatmap(confusion_nb_3, annot=True, cmap= 'Blues', fmt='d')\n",
        "plt.show()\n",
        "confusion_nb_3"
      ],
      "execution_count": 85,
      "outputs": [
        {
          "output_type": "stream",
          "text": [
            "Plotting Confusion Matrix of Naive Bayes classifier on multi-class Labels \n"
          ],
          "name": "stdout"
        },
        {
          "output_type": "display_data",
          "data": {
            "image/png": "[encoded data removed]",
            "text/plain": [
              "<Figure size 432x288 with 2 Axes>"
            ]
          },
          "metadata": {
            "tags": [],
            "needs_background": "light"
          }
        },
        {
          "output_type": "execute_result",
          "data": {
            "text/html": [
              "<div>\n",
              "<style scoped>\n",
              "    .dataframe tbody tr th:only-of-type {\n",
              "        vertical-align: middle;\n",
              "    }\n",
              "\n",
              "    .dataframe tbody tr th {\n",
              "        vertical-align: top;\n",
              "    }\n",
              "\n",
              "    .dataframe thead th {\n",
              "        text-align: right;\n",
              "    }\n",
              "</style>\n",
              "<table border=\"1\" class=\"dataframe\">\n",
              "  <thead>\n",
              "    <tr style=\"text-align: right;\">\n",
              "      <th>Predicted attacks</th>\n",
              "      <th>benign</th>\n",
              "      <th>ddos</th>\n",
              "      <th>dos</th>\n",
              "      <th>probe</th>\n",
              "    </tr>\n",
              "    <tr>\n",
              "      <th>Actual Attacks</th>\n",
              "      <th></th>\n",
              "      <th></th>\n",
              "      <th></th>\n",
              "      <th></th>\n",
              "    </tr>\n",
              "  </thead>\n",
              "  <tbody>\n",
              "    <tr>\n",
              "      <th>benign</th>\n",
              "      <td>664263</td>\n",
              "      <td>129</td>\n",
              "      <td>16634</td>\n",
              "      <td>370</td>\n",
              "    </tr>\n",
              "    <tr>\n",
              "      <th>botnet</th>\n",
              "      <td>581</td>\n",
              "      <td>6</td>\n",
              "      <td>0</td>\n",
              "      <td>0</td>\n",
              "    </tr>\n",
              "    <tr>\n",
              "      <th>brute_force</th>\n",
              "      <td>4149</td>\n",
              "      <td>0</td>\n",
              "      <td>0</td>\n",
              "      <td>0</td>\n",
              "    </tr>\n",
              "    <tr>\n",
              "      <th>ddos</th>\n",
              "      <td>14321</td>\n",
              "      <td>18749</td>\n",
              "      <td>5338</td>\n",
              "      <td>0</td>\n",
              "    </tr>\n",
              "    <tr>\n",
              "      <th>dos</th>\n",
              "      <td>28479</td>\n",
              "      <td>3936</td>\n",
              "      <td>43099</td>\n",
              "      <td>0</td>\n",
              "    </tr>\n",
              "    <tr>\n",
              "      <th>probe</th>\n",
              "      <td>47609</td>\n",
              "      <td>12</td>\n",
              "      <td>6</td>\n",
              "      <td>14</td>\n",
              "    </tr>\n",
              "    <tr>\n",
              "      <th>web_attack</th>\n",
              "      <td>648</td>\n",
              "      <td>0</td>\n",
              "      <td>0</td>\n",
              "      <td>0</td>\n",
              "    </tr>\n",
              "  </tbody>\n",
              "</table>\n",
              "</div>"
            ],
            "text/plain": [
              "Predicted attacks  benign   ddos    dos  probe\n",
              "Actual Attacks                                \n",
              "benign             664263    129  16634    370\n",
              "botnet                581      6      0      0\n",
              "brute_force          4149      0      0      0\n",
              "ddos                14321  18749   5338      0\n",
              "dos                 28479   3936  43099      0\n",
              "probe               47609     12      6     14\n",
              "web_attack            648      0      0      0"
            ]
          },
          "metadata": {
            "tags": []
          },
          "execution_count": 85
        }
      ]
    },
    {
      "cell_type": "code",
      "metadata": {
        "colab": {
          "base_uri": "https://localhost:8080/",
          "height": 318
        },
        "id": "NnKf9xYSdfag",
        "outputId": "9aad3086-2a01-4d93-9f95-e3856c185fd8"
      },
      "source": [
        "# Precision,Recall,F1-score for Naive Bayes classifier on multi-class labels.\n",
        "\n",
        "precision, recall, fscore, support = score(y_test.Label_Category, y_predict)\n",
        "d = {'attack': attack_groups, 'precision': precision, 'recall' : recall, 'fscore': fscore}\n",
        "results = pd.DataFrame(data=d)\n",
        "results"
      ],
      "execution_count": 86,
      "outputs": [
        {
          "output_type": "stream",
          "text": [
            "/usr/local/lib/python3.7/dist-packages/sklearn/metrics/_classification.py:1272: UndefinedMetricWarning: Precision and F-score are ill-defined and being set to 0.0 in labels with no predicted samples. Use `zero_division` parameter to control this behavior.\n",
            "  _warn_prf(average, modifier, msg_start, len(result))\n"
          ],
          "name": "stderr"
        },
        {
          "output_type": "execute_result",
          "data": {
            "text/html": [
              "<div>\n",
              "<style scoped>\n",
              "    .dataframe tbody tr th:only-of-type {\n",
              "        vertical-align: middle;\n",
              "    }\n",
              "\n",
              "    .dataframe tbody tr th {\n",
              "        vertical-align: top;\n",
              "    }\n",
              "\n",
              "    .dataframe thead th {\n",
              "        text-align: right;\n",
              "    }\n",
              "</style>\n",
              "<table border=\"1\" class=\"dataframe\">\n",
              "  <thead>\n",
              "    <tr style=\"text-align: right;\">\n",
              "      <th></th>\n",
              "      <th>attack</th>\n",
              "      <th>precision</th>\n",
              "      <th>recall</th>\n",
              "      <th>fscore</th>\n",
              "    </tr>\n",
              "  </thead>\n",
              "  <tbody>\n",
              "    <tr>\n",
              "      <th>0</th>\n",
              "      <td>benign</td>\n",
              "      <td>0.873973</td>\n",
              "      <td>0.974856</td>\n",
              "      <td>0.921662</td>\n",
              "    </tr>\n",
              "    <tr>\n",
              "      <th>1</th>\n",
              "      <td>botnet</td>\n",
              "      <td>0.000000</td>\n",
              "      <td>0.000000</td>\n",
              "      <td>0.000000</td>\n",
              "    </tr>\n",
              "    <tr>\n",
              "      <th>2</th>\n",
              "      <td>brute_force</td>\n",
              "      <td>0.000000</td>\n",
              "      <td>0.000000</td>\n",
              "      <td>0.000000</td>\n",
              "    </tr>\n",
              "    <tr>\n",
              "      <th>3</th>\n",
              "      <td>ddos</td>\n",
              "      <td>0.821172</td>\n",
              "      <td>0.488154</td>\n",
              "      <td>0.612312</td>\n",
              "    </tr>\n",
              "    <tr>\n",
              "      <th>4</th>\n",
              "      <td>dos</td>\n",
              "      <td>0.662277</td>\n",
              "      <td>0.570742</td>\n",
              "      <td>0.613112</td>\n",
              "    </tr>\n",
              "    <tr>\n",
              "      <th>5</th>\n",
              "      <td>probe</td>\n",
              "      <td>0.036458</td>\n",
              "      <td>0.000294</td>\n",
              "      <td>0.000583</td>\n",
              "    </tr>\n",
              "    <tr>\n",
              "      <th>6</th>\n",
              "      <td>web_attack</td>\n",
              "      <td>0.000000</td>\n",
              "      <td>0.000000</td>\n",
              "      <td>0.000000</td>\n",
              "    </tr>\n",
              "  </tbody>\n",
              "</table>\n",
              "</div>"
            ],
            "text/plain": [
              "        attack  precision    recall    fscore\n",
              "0       benign   0.873973  0.974856  0.921662\n",
              "1       botnet   0.000000  0.000000  0.000000\n",
              "2  brute_force   0.000000  0.000000  0.000000\n",
              "3         ddos   0.821172  0.488154  0.612312\n",
              "4          dos   0.662277  0.570742  0.613112\n",
              "5        probe   0.036458  0.000294  0.000583\n",
              "6   web_attack   0.000000  0.000000  0.000000"
            ]
          },
          "metadata": {
            "tags": []
          },
          "execution_count": 86
        }
      ]
    },
    {
      "cell_type": "code",
      "metadata": {
        "colab": {
          "base_uri": "https://localhost:8080/"
        },
        "id": "mSRm0ej_dfah",
        "outputId": "75659f2e-b2f3-4ae6-9839-0572397efaa9"
      },
      "source": [
        "# Average Accuracy,Precision,Recall,F1-score for Naive Bayes classifier on multi-class labels.\n",
        "\n",
        "precision_nb_3, recall_nb_3, fscore_nb_3, n = score(y_test.Label_Category, y_predict, average='macro')\n",
        "accuracy_nb_3 = accuracy_score(y_test.Label_Category, y_predict)\n",
        "print(\"Accuracy of Naive Bayes classifier on multi-class labels : \", accuracy_nb_3)"
      ],
      "execution_count": 87,
      "outputs": [
        {
          "output_type": "stream",
          "text": [
            "/usr/local/lib/python3.7/dist-packages/sklearn/metrics/_classification.py:1272: UndefinedMetricWarning: Precision and F-score are ill-defined and being set to 0.0 in labels with no predicted samples. Use `zero_division` parameter to control this behavior.\n",
            "  _warn_prf(average, modifier, msg_start, len(result))\n"
          ],
          "name": "stderr"
        },
        {
          "output_type": "stream",
          "text": [
            "Accuracy of Naive Bayes classifier on multi-class labels :  0.8559332722731253\n"
          ],
          "name": "stdout"
        }
      ]
    },
    {
      "cell_type": "code",
      "metadata": {
        "id": "30A78R99dfah"
      },
      "source": [
        "### Results for Naive Bayes:"
      ],
      "execution_count": 88,
      "outputs": []
    },
    {
      "cell_type": "code",
      "metadata": {
        "colab": {
          "base_uri": "https://localhost:8080/"
        },
        "id": "bJQch3W0dfah",
        "outputId": "ffedd9e6-2d69-4670-89ee-5afc135a12a5"
      },
      "source": [
        "print('Naive Bayes: Precision / Recall / Fscore / Accuracy')\n",
        "\n",
        "print('All Labels:', precision_nb_1, recall_nb_1, fscore_nb_1,  accuracy_nb_1)\n",
        "print('Binary Labels:', precision_nb_2, recall_nb_2, fscore_nb_2, accuracy_nb_2)\n",
        "print('Multi-class Labels:', precision_nb_3, recall_nb_3, fscore_nb_3, accuracy_nb_3)"
      ],
      "execution_count": 89,
      "outputs": [
        {
          "output_type": "stream",
          "text": [
            "Naive Bayes: Precision / Recall / Fscore / Accuracy\n",
            "All Labels: 0.3443403606808013 0.20990094123148562 0.22516065133780527 0.8610573789139534\n",
            "Binary Labels: 0.834738189432076 0.7034983634641163 0.7415362463788386 0.8665669428521247\n",
            "Multi-class Labels: 0.34198287606723227 0.2905778934659667 0.3068098620024685 0.8559332722731253\n"
          ],
          "name": "stdout"
        }
      ]
    },
    {
      "cell_type": "code",
      "metadata": {
        "id": "qpitaCb0dfah"
      },
      "source": [
        "# 6. Random Forest Classifier"
      ],
      "execution_count": 90,
      "outputs": []
    },
    {
      "cell_type": "code",
      "metadata": {
        "id": "9F7GgHuwdfah"
      },
      "source": [
        "classifier =  RandomForestClassifier()"
      ],
      "execution_count": 91,
      "outputs": []
    },
    {
      "cell_type": "code",
      "metadata": {
        "id": "Z5llYQo7dfah"
      },
      "source": [
        "# 1. a) On all attack labels."
      ],
      "execution_count": 92,
      "outputs": []
    },
    {
      "cell_type": "code",
      "metadata": {
        "colab": {
          "base_uri": "https://localhost:8080/"
        },
        "id": "zdwa_quldfah",
        "outputId": "abd8d01c-c522-4500-989a-e29dd372b3b4"
      },
      "source": [
        "# fit the model\n",
        "\n",
        "start = time.time()\n",
        "classifier.fit(x_train, y_train.Label)\n",
        "end = time.time()\n",
        "training_time = end - start\n",
        "\n",
        "print(\"Model Training Time is : \", training_time)"
      ],
      "execution_count": 93,
      "outputs": [
        {
          "output_type": "stream",
          "text": [
            "Model Training Time is :  1114.6141352653503\n"
          ],
          "name": "stdout"
        }
      ]
    },
    {
      "cell_type": "code",
      "metadata": {
        "colab": {
          "base_uri": "https://localhost:8080/"
        },
        "id": "PxIBa6EHdfah",
        "outputId": "907b1052-23fa-4a9f-8883-a4951bbcb4be"
      },
      "source": [
        "# predicting test results of Random Forest classifier on all labels.\n",
        "\n",
        "start = time.time()\n",
        "y_predict = classifier.predict(x_test)\n",
        "end = time.time()\n",
        "testing_time = end  - start\n",
        "\n",
        "print(\"Model Testing Time is : \", testing_time)"
      ],
      "execution_count": 94,
      "outputs": [
        {
          "output_type": "stream",
          "text": [
            "Model Testing Time is :  18.981845140457153\n"
          ],
          "name": "stdout"
        }
      ]
    },
    {
      "cell_type": "code",
      "metadata": {
        "colab": {
          "base_uri": "https://localhost:8080/",
          "height": 804
        },
        "id": "O-Sl1iU6dfah",
        "outputId": "e618a9e0-c7de-4d29-e3b3-4bafdc8681a6"
      },
      "source": [
        "# Creating confusion matrix for Random Forest classifier on all labels.\n",
        "\n",
        "confusion_rf_1 = pd.crosstab(y_test.Label, y_predict, rownames=['Actual Attacks'], colnames=['Predicted attacks'])\n",
        "\n",
        "print(\"Plotting Confusion Matrix of Random Forest classifier on all Labels \")\n",
        "\n",
        "sn.heatmap(confusion_rf_1, annot=True, cmap= 'Blues', fmt='d')\n",
        "plt.show()\n",
        "confusion_rf_1"
      ],
      "execution_count": 95,
      "outputs": [
        {
          "output_type": "stream",
          "text": [
            "Plotting Confusion Matrix of Random Forest classifier on all Labels \n"
          ],
          "name": "stdout"
        },
        {
          "output_type": "display_data",
          "data": {
            "image/png": "[encoded data removed]",
            "text/plain": [
              "<Figure size 432x288 with 2 Axes>"
            ]
          },
          "metadata": {
            "tags": [],
            "needs_background": "light"
          }
        },
        {
          "output_type": "execute_result",
          "data": {
            "text/html": [
              "<div>\n",
              "<style scoped>\n",
              "    .dataframe tbody tr th:only-of-type {\n",
              "        vertical-align: middle;\n",
              "    }\n",
              "\n",
              "    .dataframe tbody tr th {\n",
              "        vertical-align: top;\n",
              "    }\n",
              "\n",
              "    .dataframe thead th {\n",
              "        text-align: right;\n",
              "    }\n",
              "</style>\n",
              "<table border=\"1\" class=\"dataframe\">\n",
              "  <thead>\n",
              "    <tr style=\"text-align: right;\">\n",
              "      <th>Predicted attacks</th>\n",
              "      <th>BENIGN</th>\n",
              "      <th>Bot</th>\n",
              "      <th>Brute Force</th>\n",
              "      <th>DDoS</th>\n",
              "      <th>DoS GoldenEye</th>\n",
              "      <th>DoS Hulk</th>\n",
              "      <th>DoS Slowhttptest</th>\n",
              "      <th>DoS slowloris</th>\n",
              "      <th>FTP-Patator</th>\n",
              "      <th>PortScan</th>\n",
              "      <th>SSH-Patator</th>\n",
              "      <th>XSS</th>\n",
              "    </tr>\n",
              "    <tr>\n",
              "      <th>Actual Attacks</th>\n",
              "      <th></th>\n",
              "      <th></th>\n",
              "      <th></th>\n",
              "      <th></th>\n",
              "      <th></th>\n",
              "      <th></th>\n",
              "      <th></th>\n",
              "      <th></th>\n",
              "      <th></th>\n",
              "      <th></th>\n",
              "      <th></th>\n",
              "      <th></th>\n",
              "    </tr>\n",
              "  </thead>\n",
              "  <tbody>\n",
              "    <tr>\n",
              "      <th>BENIGN</th>\n",
              "      <td>681258</td>\n",
              "      <td>10</td>\n",
              "      <td>0</td>\n",
              "      <td>1</td>\n",
              "      <td>0</td>\n",
              "      <td>121</td>\n",
              "      <td>2</td>\n",
              "      <td>0</td>\n",
              "      <td>0</td>\n",
              "      <td>3</td>\n",
              "      <td>0</td>\n",
              "      <td>1</td>\n",
              "    </tr>\n",
              "    <tr>\n",
              "      <th>Bot</th>\n",
              "      <td>39</td>\n",
              "      <td>548</td>\n",
              "      <td>0</td>\n",
              "      <td>0</td>\n",
              "      <td>0</td>\n",
              "      <td>0</td>\n",
              "      <td>0</td>\n",
              "      <td>0</td>\n",
              "      <td>0</td>\n",
              "      <td>0</td>\n",
              "      <td>0</td>\n",
              "      <td>0</td>\n",
              "    </tr>\n",
              "    <tr>\n",
              "      <th>Brute Force</th>\n",
              "      <td>3</td>\n",
              "      <td>0</td>\n",
              "      <td>449</td>\n",
              "      <td>0</td>\n",
              "      <td>0</td>\n",
              "      <td>0</td>\n",
              "      <td>0</td>\n",
              "      <td>0</td>\n",
              "      <td>0</td>\n",
              "      <td>0</td>\n",
              "      <td>0</td>\n",
              "      <td>0</td>\n",
              "    </tr>\n",
              "    <tr>\n",
              "      <th>DDoS</th>\n",
              "      <td>18</td>\n",
              "      <td>0</td>\n",
              "      <td>0</td>\n",
              "      <td>38390</td>\n",
              "      <td>0</td>\n",
              "      <td>0</td>\n",
              "      <td>0</td>\n",
              "      <td>0</td>\n",
              "      <td>0</td>\n",
              "      <td>0</td>\n",
              "      <td>0</td>\n",
              "      <td>0</td>\n",
              "    </tr>\n",
              "    <tr>\n",
              "      <th>DoS GoldenEye</th>\n",
              "      <td>6</td>\n",
              "      <td>0</td>\n",
              "      <td>0</td>\n",
              "      <td>0</td>\n",
              "      <td>3079</td>\n",
              "      <td>2</td>\n",
              "      <td>1</td>\n",
              "      <td>0</td>\n",
              "      <td>0</td>\n",
              "      <td>0</td>\n",
              "      <td>0</td>\n",
              "      <td>0</td>\n",
              "    </tr>\n",
              "    <tr>\n",
              "      <th>DoS Hulk</th>\n",
              "      <td>16</td>\n",
              "      <td>0</td>\n",
              "      <td>0</td>\n",
              "      <td>0</td>\n",
              "      <td>0</td>\n",
              "      <td>69020</td>\n",
              "      <td>0</td>\n",
              "      <td>0</td>\n",
              "      <td>0</td>\n",
              "      <td>0</td>\n",
              "      <td>0</td>\n",
              "      <td>1</td>\n",
              "    </tr>\n",
              "    <tr>\n",
              "      <th>DoS Slowhttptest</th>\n",
              "      <td>7</td>\n",
              "      <td>0</td>\n",
              "      <td>0</td>\n",
              "      <td>0</td>\n",
              "      <td>0</td>\n",
              "      <td>0</td>\n",
              "      <td>1641</td>\n",
              "      <td>2</td>\n",
              "      <td>0</td>\n",
              "      <td>0</td>\n",
              "      <td>0</td>\n",
              "      <td>0</td>\n",
              "    </tr>\n",
              "    <tr>\n",
              "      <th>DoS slowloris</th>\n",
              "      <td>3</td>\n",
              "      <td>0</td>\n",
              "      <td>0</td>\n",
              "      <td>0</td>\n",
              "      <td>0</td>\n",
              "      <td>0</td>\n",
              "      <td>5</td>\n",
              "      <td>1731</td>\n",
              "      <td>0</td>\n",
              "      <td>0</td>\n",
              "      <td>0</td>\n",
              "      <td>0</td>\n",
              "    </tr>\n",
              "    <tr>\n",
              "      <th>FTP-Patator</th>\n",
              "      <td>2</td>\n",
              "      <td>0</td>\n",
              "      <td>0</td>\n",
              "      <td>0</td>\n",
              "      <td>0</td>\n",
              "      <td>0</td>\n",
              "      <td>0</td>\n",
              "      <td>0</td>\n",
              "      <td>2378</td>\n",
              "      <td>0</td>\n",
              "      <td>0</td>\n",
              "      <td>0</td>\n",
              "    </tr>\n",
              "    <tr>\n",
              "      <th>PortScan</th>\n",
              "      <td>5</td>\n",
              "      <td>0</td>\n",
              "      <td>0</td>\n",
              "      <td>0</td>\n",
              "      <td>0</td>\n",
              "      <td>2</td>\n",
              "      <td>0</td>\n",
              "      <td>0</td>\n",
              "      <td>0</td>\n",
              "      <td>47633</td>\n",
              "      <td>0</td>\n",
              "      <td>1</td>\n",
              "    </tr>\n",
              "    <tr>\n",
              "      <th>SSH-Patator</th>\n",
              "      <td>2</td>\n",
              "      <td>0</td>\n",
              "      <td>0</td>\n",
              "      <td>0</td>\n",
              "      <td>0</td>\n",
              "      <td>0</td>\n",
              "      <td>0</td>\n",
              "      <td>0</td>\n",
              "      <td>0</td>\n",
              "      <td>0</td>\n",
              "      <td>1767</td>\n",
              "      <td>0</td>\n",
              "    </tr>\n",
              "    <tr>\n",
              "      <th>XSS</th>\n",
              "      <td>8</td>\n",
              "      <td>0</td>\n",
              "      <td>0</td>\n",
              "      <td>0</td>\n",
              "      <td>0</td>\n",
              "      <td>0</td>\n",
              "      <td>0</td>\n",
              "      <td>0</td>\n",
              "      <td>0</td>\n",
              "      <td>0</td>\n",
              "      <td>0</td>\n",
              "      <td>188</td>\n",
              "    </tr>\n",
              "  </tbody>\n",
              "</table>\n",
              "</div>"
            ],
            "text/plain": [
              "Predicted attacks  BENIGN  Bot  Brute Force   DDoS  DoS GoldenEye  DoS Hulk  \\\n",
              "Actual Attacks                                                                \n",
              "BENIGN             681258   10            0      1              0       121   \n",
              "Bot                    39  548            0      0              0         0   \n",
              "Brute Force             3    0          449      0              0         0   \n",
              "DDoS                   18    0            0  38390              0         0   \n",
              "DoS GoldenEye           6    0            0      0           3079         2   \n",
              "DoS Hulk               16    0            0      0              0     69020   \n",
              "DoS Slowhttptest        7    0            0      0              0         0   \n",
              "DoS slowloris           3    0            0      0              0         0   \n",
              "FTP-Patator             2    0            0      0              0         0   \n",
              "PortScan                5    0            0      0              0         2   \n",
              "SSH-Patator             2    0            0      0              0         0   \n",
              "XSS                     8    0            0      0              0         0   \n",
              "\n",
              "Predicted attacks  DoS Slowhttptest  DoS slowloris  FTP-Patator  PortScan  \\\n",
              "Actual Attacks                                                              \n",
              "BENIGN                            2              0            0         3   \n",
              "Bot                               0              0            0         0   \n",
              "Brute Force                       0              0            0         0   \n",
              "DDoS                              0              0            0         0   \n",
              "DoS GoldenEye                     1              0            0         0   \n",
              "DoS Hulk                          0              0            0         0   \n",
              "DoS Slowhttptest               1641              2            0         0   \n",
              "DoS slowloris                     5           1731            0         0   \n",
              "FTP-Patator                       0              0         2378         0   \n",
              "PortScan                          0              0            0     47633   \n",
              "SSH-Patator                       0              0            0         0   \n",
              "XSS                               0              0            0         0   \n",
              "\n",
              "Predicted attacks  SSH-Patator  XSS  \n",
              "Actual Attacks                       \n",
              "BENIGN                       0    1  \n",
              "Bot                          0    0  \n",
              "Brute Force                  0    0  \n",
              "DDoS                         0    0  \n",
              "DoS GoldenEye                0    0  \n",
              "DoS Hulk                     0    1  \n",
              "DoS Slowhttptest             0    0  \n",
              "DoS slowloris                0    0  \n",
              "FTP-Patator                  0    0  \n",
              "PortScan                     0    1  \n",
              "SSH-Patator               1767    0  \n",
              "XSS                          0  188  "
            ]
          },
          "metadata": {
            "tags": []
          },
          "execution_count": 95
        }
      ]
    },
    {
      "cell_type": "code",
      "metadata": {
        "colab": {
          "base_uri": "https://localhost:8080/",
          "height": 418
        },
        "id": "T89KYu2hdfah",
        "outputId": "e7c2f7eb-9c66-45b2-e9fe-a87662768650"
      },
      "source": [
        "# Precision,Recall,F1-score for Random Forest classifier on all labels.\n",
        "\n",
        "precision, recall, fscore, support = score(y_test.Label, y_predict)\n",
        "\n",
        "d = {'attack': attack, 'precision': precision, 'recall' : recall, 'fscore': fscore}\n",
        "results = pd.DataFrame(data=d)\n",
        "results"
      ],
      "execution_count": 96,
      "outputs": [
        {
          "output_type": "execute_result",
          "data": {
            "text/html": [
              "<div>\n",
              "<style scoped>\n",
              "    .dataframe tbody tr th:only-of-type {\n",
              "        vertical-align: middle;\n",
              "    }\n",
              "\n",
              "    .dataframe tbody tr th {\n",
              "        vertical-align: top;\n",
              "    }\n",
              "\n",
              "    .dataframe thead th {\n",
              "        text-align: right;\n",
              "    }\n",
              "</style>\n",
              "<table border=\"1\" class=\"dataframe\">\n",
              "  <thead>\n",
              "    <tr style=\"text-align: right;\">\n",
              "      <th></th>\n",
              "      <th>attack</th>\n",
              "      <th>precision</th>\n",
              "      <th>recall</th>\n",
              "      <th>fscore</th>\n",
              "    </tr>\n",
              "  </thead>\n",
              "  <tbody>\n",
              "    <tr>\n",
              "      <th>0</th>\n",
              "      <td>BENIGN</td>\n",
              "      <td>0.999840</td>\n",
              "      <td>0.999797</td>\n",
              "      <td>0.999819</td>\n",
              "    </tr>\n",
              "    <tr>\n",
              "      <th>1</th>\n",
              "      <td>Bot</td>\n",
              "      <td>0.982079</td>\n",
              "      <td>0.933560</td>\n",
              "      <td>0.957205</td>\n",
              "    </tr>\n",
              "    <tr>\n",
              "      <th>2</th>\n",
              "      <td>Brute Force</td>\n",
              "      <td>1.000000</td>\n",
              "      <td>0.993363</td>\n",
              "      <td>0.996670</td>\n",
              "    </tr>\n",
              "    <tr>\n",
              "      <th>3</th>\n",
              "      <td>DDoS</td>\n",
              "      <td>0.999974</td>\n",
              "      <td>0.999531</td>\n",
              "      <td>0.999753</td>\n",
              "    </tr>\n",
              "    <tr>\n",
              "      <th>4</th>\n",
              "      <td>DoS GoldenEye</td>\n",
              "      <td>1.000000</td>\n",
              "      <td>0.997085</td>\n",
              "      <td>0.998541</td>\n",
              "    </tr>\n",
              "    <tr>\n",
              "      <th>5</th>\n",
              "      <td>DoS Hulk</td>\n",
              "      <td>0.998192</td>\n",
              "      <td>0.999754</td>\n",
              "      <td>0.998972</td>\n",
              "    </tr>\n",
              "    <tr>\n",
              "      <th>6</th>\n",
              "      <td>DoS Slowhttptest</td>\n",
              "      <td>0.995149</td>\n",
              "      <td>0.994545</td>\n",
              "      <td>0.994847</td>\n",
              "    </tr>\n",
              "    <tr>\n",
              "      <th>7</th>\n",
              "      <td>DoS slowloris</td>\n",
              "      <td>0.998846</td>\n",
              "      <td>0.995400</td>\n",
              "      <td>0.997120</td>\n",
              "    </tr>\n",
              "    <tr>\n",
              "      <th>8</th>\n",
              "      <td>FTP-Patator</td>\n",
              "      <td>1.000000</td>\n",
              "      <td>0.999160</td>\n",
              "      <td>0.999580</td>\n",
              "    </tr>\n",
              "    <tr>\n",
              "      <th>9</th>\n",
              "      <td>PortScan</td>\n",
              "      <td>0.999937</td>\n",
              "      <td>0.999832</td>\n",
              "      <td>0.999885</td>\n",
              "    </tr>\n",
              "    <tr>\n",
              "      <th>10</th>\n",
              "      <td>SSH-Patator</td>\n",
              "      <td>1.000000</td>\n",
              "      <td>0.998869</td>\n",
              "      <td>0.999434</td>\n",
              "    </tr>\n",
              "    <tr>\n",
              "      <th>11</th>\n",
              "      <td>XSS</td>\n",
              "      <td>0.984293</td>\n",
              "      <td>0.959184</td>\n",
              "      <td>0.971576</td>\n",
              "    </tr>\n",
              "  </tbody>\n",
              "</table>\n",
              "</div>"
            ],
            "text/plain": [
              "              attack  precision    recall    fscore\n",
              "0             BENIGN   0.999840  0.999797  0.999819\n",
              "1                Bot   0.982079  0.933560  0.957205\n",
              "2        Brute Force   1.000000  0.993363  0.996670\n",
              "3               DDoS   0.999974  0.999531  0.999753\n",
              "4      DoS GoldenEye   1.000000  0.997085  0.998541\n",
              "5           DoS Hulk   0.998192  0.999754  0.998972\n",
              "6   DoS Slowhttptest   0.995149  0.994545  0.994847\n",
              "7      DoS slowloris   0.998846  0.995400  0.997120\n",
              "8        FTP-Patator   1.000000  0.999160  0.999580\n",
              "9           PortScan   0.999937  0.999832  0.999885\n",
              "10       SSH-Patator   1.000000  0.998869  0.999434\n",
              "11               XSS   0.984293  0.959184  0.971576"
            ]
          },
          "metadata": {
            "tags": []
          },
          "execution_count": 96
        }
      ]
    },
    {
      "cell_type": "code",
      "metadata": {
        "colab": {
          "base_uri": "https://localhost:8080/"
        },
        "id": "ItrLm3JKdfai",
        "outputId": "f2297782-7066-48d0-b41d-217c8d38ee0c"
      },
      "source": [
        "# Average Accuracy,Precision,Recall,F1-score for Random Forest classifier on all labels.\n",
        "\n",
        "precision_rf_1, recall_rf_1, fscore_rf_1, support = score(y_test.Label, y_predict, average='macro')\n",
        "accuracy_rf_1 = accuracy_score(y_test.Label, y_predict)\n",
        "print(\"Accuracy of Random Forest classifier on all labels : \", accuracy_rf_1)"
      ],
      "execution_count": 97,
      "outputs": [
        {
          "output_type": "stream",
          "text": [
            "Accuracy of Random Forest classifier on all labels :  0.9996923414232215\n"
          ],
          "name": "stdout"
        }
      ]
    },
    {
      "cell_type": "code",
      "metadata": {
        "id": "zPVz47ordfai"
      },
      "source": [
        "# 1. b) Binary Classifier."
      ],
      "execution_count": 98,
      "outputs": []
    },
    {
      "cell_type": "code",
      "metadata": {
        "colab": {
          "base_uri": "https://localhost:8080/"
        },
        "id": "PXqxSd1Xdfai",
        "outputId": "eabba981-cd06-4701-d7e3-ce7b063813a3"
      },
      "source": [
        "# fit the model\n",
        "\n",
        "start = time.time()\n",
        "classifier.fit(x_train, y_train.Attack)\n",
        "end = time.time()\n",
        "training_time = end - start\n",
        "\n",
        "print(\"Model Training Time is : \", training_time)"
      ],
      "execution_count": 99,
      "outputs": [
        {
          "output_type": "stream",
          "text": [
            "Model Training Time is :  979.6364681720734\n"
          ],
          "name": "stdout"
        }
      ]
    },
    {
      "cell_type": "code",
      "metadata": {
        "colab": {
          "base_uri": "https://localhost:8080/"
        },
        "id": "O9Byic9Tdfai",
        "outputId": "33aac6a7-db85-4137-8577-cbfb5d09da80"
      },
      "source": [
        "# predicting test results of Random Forest classifier on binary labels.\n",
        "\n",
        "start = time.time()\n",
        "y_predict = classifier.predict(x_test)\n",
        "end = time.time()\n",
        "testing_time = end  - start\n",
        "\n",
        "print(\"Model Testing Time is : \", testing_time)"
      ],
      "execution_count": 100,
      "outputs": [
        {
          "output_type": "stream",
          "text": [
            "Model Testing Time is :  13.558977603912354\n"
          ],
          "name": "stdout"
        }
      ]
    },
    {
      "cell_type": "code",
      "metadata": {
        "colab": {
          "base_uri": "https://localhost:8080/",
          "height": 420
        },
        "id": "sm_xMa-edfai",
        "outputId": "9a9f14f2-ab42-4f29-8188-73cafbeb7745"
      },
      "source": [
        "# Creating confusion matrix for Random Forest classifier on binary labels.\n",
        "\n",
        "confusion_rf_2 = pd.crosstab(y_test.Attack, y_predict, rownames=['Actual Attacks'], colnames=['Predicted attacks'])\n",
        "\n",
        "print(\"Plotting Confusion Matrix of Random Forest classifier on binary Labels \")\n",
        "\n",
        "sn.heatmap(confusion_rf_2, annot=True, cmap= 'Blues', fmt='d')\n",
        "plt.show()\n",
        "confusion_rf_2"
      ],
      "execution_count": 101,
      "outputs": [
        {
          "output_type": "stream",
          "text": [
            "Plotting Confusion Matrix of Random Forest classifier on binary Labels \n"
          ],
          "name": "stdout"
        },
        {
          "output_type": "display_data",
          "data": {
            "image/png": "[encoded data removed]",
            "text/plain": [
              "<Figure size 432x288 with 2 Axes>"
            ]
          },
          "metadata": {
            "tags": [],
            "needs_background": "light"
          }
        },
        {
          "output_type": "execute_result",
          "data": {
            "text/html": [
              "<div>\n",
              "<style scoped>\n",
              "    .dataframe tbody tr th:only-of-type {\n",
              "        vertical-align: middle;\n",
              "    }\n",
              "\n",
              "    .dataframe tbody tr th {\n",
              "        vertical-align: top;\n",
              "    }\n",
              "\n",
              "    .dataframe thead th {\n",
              "        text-align: right;\n",
              "    }\n",
              "</style>\n",
              "<table border=\"1\" class=\"dataframe\">\n",
              "  <thead>\n",
              "    <tr style=\"text-align: right;\">\n",
              "      <th>Predicted attacks</th>\n",
              "      <th>Attack</th>\n",
              "      <th>Normal</th>\n",
              "    </tr>\n",
              "    <tr>\n",
              "      <th>Actual Attacks</th>\n",
              "      <th></th>\n",
              "      <th></th>\n",
              "    </tr>\n",
              "  </thead>\n",
              "  <tbody>\n",
              "    <tr>\n",
              "      <th>Attack</th>\n",
              "      <td>166861</td>\n",
              "      <td>86</td>\n",
              "    </tr>\n",
              "    <tr>\n",
              "      <th>Normal</th>\n",
              "      <td>167</td>\n",
              "      <td>681229</td>\n",
              "    </tr>\n",
              "  </tbody>\n",
              "</table>\n",
              "</div>"
            ],
            "text/plain": [
              "Predicted attacks  Attack  Normal\n",
              "Actual Attacks                   \n",
              "Attack             166861      86\n",
              "Normal                167  681229"
            ]
          },
          "metadata": {
            "tags": []
          },
          "execution_count": 101
        }
      ]
    },
    {
      "cell_type": "code",
      "metadata": {
        "colab": {
          "base_uri": "https://localhost:8080/",
          "height": 110
        },
        "id": "apfWdBnPdfai",
        "outputId": "5b1b1365-b4b9-48a1-f0ad-801630767618"
      },
      "source": [
        "# Precision,Recall,F1-score for Random Forest classifier on binary labels.\n",
        "\n",
        "precision, recall, fscore, support = score(y_test.Attack, y_predict)\n",
        "d = {'attack': [0,1], 'precision': precision, 'recall' : recall, 'fscore': fscore}\n",
        "results = pd.DataFrame(data=d)\n",
        "results"
      ],
      "execution_count": 102,
      "outputs": [
        {
          "output_type": "execute_result",
          "data": {
            "text/html": [
              "<div>\n",
              "<style scoped>\n",
              "    .dataframe tbody tr th:only-of-type {\n",
              "        vertical-align: middle;\n",
              "    }\n",
              "\n",
              "    .dataframe tbody tr th {\n",
              "        vertical-align: top;\n",
              "    }\n",
              "\n",
              "    .dataframe thead th {\n",
              "        text-align: right;\n",
              "    }\n",
              "</style>\n",
              "<table border=\"1\" class=\"dataframe\">\n",
              "  <thead>\n",
              "    <tr style=\"text-align: right;\">\n",
              "      <th></th>\n",
              "      <th>attack</th>\n",
              "      <th>precision</th>\n",
              "      <th>recall</th>\n",
              "      <th>fscore</th>\n",
              "    </tr>\n",
              "  </thead>\n",
              "  <tbody>\n",
              "    <tr>\n",
              "      <th>0</th>\n",
              "      <td>0</td>\n",
              "      <td>0.999000</td>\n",
              "      <td>0.999485</td>\n",
              "      <td>0.999242</td>\n",
              "    </tr>\n",
              "    <tr>\n",
              "      <th>1</th>\n",
              "      <td>1</td>\n",
              "      <td>0.999874</td>\n",
              "      <td>0.999755</td>\n",
              "      <td>0.999814</td>\n",
              "    </tr>\n",
              "  </tbody>\n",
              "</table>\n",
              "</div>"
            ],
            "text/plain": [
              "   attack  precision    recall    fscore\n",
              "0       0   0.999000  0.999485  0.999242\n",
              "1       1   0.999874  0.999755  0.999814"
            ]
          },
          "metadata": {
            "tags": []
          },
          "execution_count": 102
        }
      ]
    },
    {
      "cell_type": "code",
      "metadata": {
        "colab": {
          "base_uri": "https://localhost:8080/"
        },
        "id": "9rsN6kY7dfai",
        "outputId": "3b53363c-9da9-4a5d-df00-04f3479c1d2c"
      },
      "source": [
        "# Average Accuracy,Precision,Recall,F1-score for Random Forest classifier on binary labels.\n",
        "\n",
        "precision_rf_2, recall_rf_2, fscore_rf_2, n = score(y_test.Attack, y_predict, average='macro')\n",
        "accuracy_rf_2 = accuracy_score(y_test.Attack, y_predict)\n",
        "print(\"Accuracy of Random Forest classifier on binary labels : \", accuracy_rf_2)"
      ],
      "execution_count": 103,
      "outputs": [
        {
          "output_type": "stream",
          "text": [
            "Accuracy of Random Forest classifier on binary labels :  0.9997017715711687\n"
          ],
          "name": "stdout"
        }
      ]
    },
    {
      "cell_type": "code",
      "metadata": {
        "id": "uIUCRg6tdfai"
      },
      "source": [
        "# 1. c) Multi-class Classifier."
      ],
      "execution_count": 104,
      "outputs": []
    },
    {
      "cell_type": "code",
      "metadata": {
        "colab": {
          "base_uri": "https://localhost:8080/"
        },
        "id": "egl9CGIGdfai",
        "outputId": "be2df2f2-5474-4e8d-fd2c-2a6eb65e16d6"
      },
      "source": [
        "# fit the model\n",
        "\n",
        "start = time.time()\n",
        "classifier.fit(x_train, y_train.Label_Category)\n",
        "end = time.time()\n",
        "training_time = end - start\n",
        "\n",
        "print(\"Model Training Time is : \", training_time)"
      ],
      "execution_count": 105,
      "outputs": [
        {
          "output_type": "stream",
          "text": [
            "Model Training Time is :  1038.400384902954\n"
          ],
          "name": "stdout"
        }
      ]
    },
    {
      "cell_type": "code",
      "metadata": {
        "colab": {
          "base_uri": "https://localhost:8080/"
        },
        "id": "kPgXE7eFdfai",
        "outputId": "9f067d6c-dda8-4147-b6db-75e49c9090de"
      },
      "source": [
        "# predicting test results of Random Forest classifier on multi-class labels.\n",
        "\n",
        "start = time.time()\n",
        "y_predict = classifier.predict(x_test)\n",
        "end = time.time()\n",
        "testing_time = end  - start\n",
        "\n",
        "print(\"Model Testing Time is : \", testing_time)"
      ],
      "execution_count": 106,
      "outputs": [
        {
          "output_type": "stream",
          "text": [
            "Model Testing Time is :  16.290579080581665\n"
          ],
          "name": "stdout"
        }
      ]
    },
    {
      "cell_type": "code",
      "metadata": {
        "colab": {
          "base_uri": "https://localhost:8080/",
          "height": 621
        },
        "id": "nuK0WmVudfaj",
        "outputId": "6ef9d382-0d53-4e79-f38a-e9808fadecaa"
      },
      "source": [
        "# Creating confusion matrix for Random Forest classifier on multi-class labels.\n",
        "\n",
        "confusion_rf_3 = pd.crosstab(y_test.Label_Category, y_predict, rownames=['Actual Attacks'], colnames=['Predicted attacks'])\n",
        "\n",
        "print(\"Plotting Confusion Matrix of Random Forest classifier on multi-class Labels \")\n",
        "\n",
        "sn.heatmap(confusion_rf_3, annot=True, cmap= 'Blues', fmt='d')\n",
        "plt.show()\n",
        "confusion_rf_3"
      ],
      "execution_count": 107,
      "outputs": [
        {
          "output_type": "stream",
          "text": [
            "Plotting Confusion Matrix of Random Forest classifier on multi-class Labels \n"
          ],
          "name": "stdout"
        },
        {
          "output_type": "display_data",
          "data": {
            "image/png": "[encoded data removed]",
            "text/plain": [
              "<Figure size 432x288 with 2 Axes>"
            ]
          },
          "metadata": {
            "tags": [],
            "needs_background": "light"
          }
        },
        {
          "output_type": "execute_result",
          "data": {
            "text/html": [
              "<div>\n",
              "<style scoped>\n",
              "    .dataframe tbody tr th:only-of-type {\n",
              "        vertical-align: middle;\n",
              "    }\n",
              "\n",
              "    .dataframe tbody tr th {\n",
              "        vertical-align: top;\n",
              "    }\n",
              "\n",
              "    .dataframe thead th {\n",
              "        text-align: right;\n",
              "    }\n",
              "</style>\n",
              "<table border=\"1\" class=\"dataframe\">\n",
              "  <thead>\n",
              "    <tr style=\"text-align: right;\">\n",
              "      <th>Predicted attacks</th>\n",
              "      <th>benign</th>\n",
              "      <th>botnet</th>\n",
              "      <th>brute_force</th>\n",
              "      <th>ddos</th>\n",
              "      <th>dos</th>\n",
              "      <th>probe</th>\n",
              "      <th>web_attack</th>\n",
              "    </tr>\n",
              "    <tr>\n",
              "      <th>Actual Attacks</th>\n",
              "      <th></th>\n",
              "      <th></th>\n",
              "      <th></th>\n",
              "      <th></th>\n",
              "      <th></th>\n",
              "      <th></th>\n",
              "      <th></th>\n",
              "    </tr>\n",
              "  </thead>\n",
              "  <tbody>\n",
              "    <tr>\n",
              "      <th>benign</th>\n",
              "      <td>681201</td>\n",
              "      <td>11</td>\n",
              "      <td>0</td>\n",
              "      <td>1</td>\n",
              "      <td>178</td>\n",
              "      <td>4</td>\n",
              "      <td>1</td>\n",
              "    </tr>\n",
              "    <tr>\n",
              "      <th>botnet</th>\n",
              "      <td>39</td>\n",
              "      <td>548</td>\n",
              "      <td>0</td>\n",
              "      <td>0</td>\n",
              "      <td>0</td>\n",
              "      <td>0</td>\n",
              "      <td>0</td>\n",
              "    </tr>\n",
              "    <tr>\n",
              "      <th>brute_force</th>\n",
              "      <td>4</td>\n",
              "      <td>0</td>\n",
              "      <td>4145</td>\n",
              "      <td>0</td>\n",
              "      <td>0</td>\n",
              "      <td>0</td>\n",
              "      <td>0</td>\n",
              "    </tr>\n",
              "    <tr>\n",
              "      <th>ddos</th>\n",
              "      <td>21</td>\n",
              "      <td>0</td>\n",
              "      <td>0</td>\n",
              "      <td>38387</td>\n",
              "      <td>0</td>\n",
              "      <td>0</td>\n",
              "      <td>0</td>\n",
              "    </tr>\n",
              "    <tr>\n",
              "      <th>dos</th>\n",
              "      <td>23</td>\n",
              "      <td>0</td>\n",
              "      <td>0</td>\n",
              "      <td>0</td>\n",
              "      <td>75490</td>\n",
              "      <td>0</td>\n",
              "      <td>1</td>\n",
              "    </tr>\n",
              "    <tr>\n",
              "      <th>probe</th>\n",
              "      <td>4</td>\n",
              "      <td>0</td>\n",
              "      <td>0</td>\n",
              "      <td>0</td>\n",
              "      <td>3</td>\n",
              "      <td>47633</td>\n",
              "      <td>1</td>\n",
              "    </tr>\n",
              "    <tr>\n",
              "      <th>web_attack</th>\n",
              "      <td>7</td>\n",
              "      <td>0</td>\n",
              "      <td>0</td>\n",
              "      <td>0</td>\n",
              "      <td>0</td>\n",
              "      <td>0</td>\n",
              "      <td>641</td>\n",
              "    </tr>\n",
              "  </tbody>\n",
              "</table>\n",
              "</div>"
            ],
            "text/plain": [
              "Predicted attacks  benign  botnet  brute_force   ddos    dos  probe  \\\n",
              "Actual Attacks                                                        \n",
              "benign             681201      11            0      1    178      4   \n",
              "botnet                 39     548            0      0      0      0   \n",
              "brute_force             4       0         4145      0      0      0   \n",
              "ddos                   21       0            0  38387      0      0   \n",
              "dos                    23       0            0      0  75490      0   \n",
              "probe                   4       0            0      0      3  47633   \n",
              "web_attack              7       0            0      0      0      0   \n",
              "\n",
              "Predicted attacks  web_attack  \n",
              "Actual Attacks                 \n",
              "benign                      1  \n",
              "botnet                      0  \n",
              "brute_force                 0  \n",
              "ddos                        0  \n",
              "dos                         1  \n",
              "probe                       1  \n",
              "web_attack                641  "
            ]
          },
          "metadata": {
            "tags": []
          },
          "execution_count": 107
        }
      ]
    },
    {
      "cell_type": "code",
      "metadata": {
        "colab": {
          "base_uri": "https://localhost:8080/",
          "height": 265
        },
        "id": "B8qIumj8dfaj",
        "outputId": "9da60aa4-18b6-417b-98dd-42dbf45b5102"
      },
      "source": [
        "# Precision,Recall,F1-score for Random Forest classifier on multi-class labels.\n",
        "\n",
        "precision, recall, fscore, support = score(y_test.Label_Category, y_predict)\n",
        "d = {'attack': attack_groups, 'precision': precision, 'recall' : recall, 'fscore': fscore}\n",
        "results = pd.DataFrame(data=d)\n",
        "results"
      ],
      "execution_count": 108,
      "outputs": [
        {
          "output_type": "execute_result",
          "data": {
            "text/html": [
              "<div>\n",
              "<style scoped>\n",
              "    .dataframe tbody tr th:only-of-type {\n",
              "        vertical-align: middle;\n",
              "    }\n",
              "\n",
              "    .dataframe tbody tr th {\n",
              "        vertical-align: top;\n",
              "    }\n",
              "\n",
              "    .dataframe thead th {\n",
              "        text-align: right;\n",
              "    }\n",
              "</style>\n",
              "<table border=\"1\" class=\"dataframe\">\n",
              "  <thead>\n",
              "    <tr style=\"text-align: right;\">\n",
              "      <th></th>\n",
              "      <th>attack</th>\n",
              "      <th>precision</th>\n",
              "      <th>recall</th>\n",
              "      <th>fscore</th>\n",
              "    </tr>\n",
              "  </thead>\n",
              "  <tbody>\n",
              "    <tr>\n",
              "      <th>0</th>\n",
              "      <td>benign</td>\n",
              "      <td>0.999856</td>\n",
              "      <td>0.999714</td>\n",
              "      <td>0.999785</td>\n",
              "    </tr>\n",
              "    <tr>\n",
              "      <th>1</th>\n",
              "      <td>botnet</td>\n",
              "      <td>0.980322</td>\n",
              "      <td>0.933560</td>\n",
              "      <td>0.956370</td>\n",
              "    </tr>\n",
              "    <tr>\n",
              "      <th>2</th>\n",
              "      <td>brute_force</td>\n",
              "      <td>1.000000</td>\n",
              "      <td>0.999036</td>\n",
              "      <td>0.999518</td>\n",
              "    </tr>\n",
              "    <tr>\n",
              "      <th>3</th>\n",
              "      <td>ddos</td>\n",
              "      <td>0.999974</td>\n",
              "      <td>0.999453</td>\n",
              "      <td>0.999714</td>\n",
              "    </tr>\n",
              "    <tr>\n",
              "      <th>4</th>\n",
              "      <td>dos</td>\n",
              "      <td>0.997608</td>\n",
              "      <td>0.999682</td>\n",
              "      <td>0.998644</td>\n",
              "    </tr>\n",
              "    <tr>\n",
              "      <th>5</th>\n",
              "      <td>probe</td>\n",
              "      <td>0.999916</td>\n",
              "      <td>0.999832</td>\n",
              "      <td>0.999874</td>\n",
              "    </tr>\n",
              "    <tr>\n",
              "      <th>6</th>\n",
              "      <td>web_attack</td>\n",
              "      <td>0.995342</td>\n",
              "      <td>0.989198</td>\n",
              "      <td>0.992260</td>\n",
              "    </tr>\n",
              "  </tbody>\n",
              "</table>\n",
              "</div>"
            ],
            "text/plain": [
              "        attack  precision    recall    fscore\n",
              "0       benign   0.999856  0.999714  0.999785\n",
              "1       botnet   0.980322  0.933560  0.956370\n",
              "2  brute_force   1.000000  0.999036  0.999518\n",
              "3         ddos   0.999974  0.999453  0.999714\n",
              "4          dos   0.997608  0.999682  0.998644\n",
              "5        probe   0.999916  0.999832  0.999874\n",
              "6   web_attack   0.995342  0.989198  0.992260"
            ]
          },
          "metadata": {
            "tags": []
          },
          "execution_count": 108
        }
      ]
    },
    {
      "cell_type": "code",
      "metadata": {
        "colab": {
          "base_uri": "https://localhost:8080/"
        },
        "id": "JM2BeBHOdfaj",
        "outputId": "28b92753-0dae-44d6-90d4-98b7eca0caa2"
      },
      "source": [
        "# Average Accuracy,Precision,Recall,F1-score for Random Forest classifier on multi-class labels.\n",
        "\n",
        "precision_rf_3, recall_rf_3, fscore_rf_3, n = score(y_test.Label_Category, y_predict, average='macro')\n",
        "accuracy_rf_3 = accuracy_score(y_test.Label_Category, y_predict)\n",
        "print(\"Accuracy of Random Forest classifier on multi-class labels : \", accuracy_rf_3)"
      ],
      "execution_count": 109,
      "outputs": [
        {
          "output_type": "stream",
          "text": [
            "Accuracy of Random Forest classifier on multi-class labels :  0.9996487269889656\n"
          ],
          "name": "stdout"
        }
      ]
    },
    {
      "cell_type": "code",
      "metadata": {
        "id": "ydDwITvmdfaj"
      },
      "source": [
        "### Results for Random Forest:"
      ],
      "execution_count": 110,
      "outputs": []
    },
    {
      "cell_type": "code",
      "metadata": {
        "colab": {
          "base_uri": "https://localhost:8080/"
        },
        "id": "3LRcff1adfaj",
        "outputId": "25fb9fce-5406-4631-c79e-1e1aa3c8efe8"
      },
      "source": [
        "print('Random Forest Classifier : Precision / Recall / Fscore / Accuracy')\n",
        "\n",
        "print('All Labels:', precision_rf_1, recall_rf_1, fscore_rf_1,  accuracy_rf_1)\n",
        "print('Binary Labels:', precision_rf_2, recall_rf_2, fscore_rf_2, accuracy_rf_2)\n",
        "print('Multi-class Labels:', precision_rf_3, recall_rf_3, fscore_rf_3, accuracy_rf_3)"
      ],
      "execution_count": 111,
      "outputs": [
        {
          "output_type": "stream",
          "text": [
            "Random Forest Classifier : Precision / Recall / Fscore / Accuracy\n",
            "All Labels: 0.9965258133731131 0.989173443380828 0.9927834587624944 0.9996923414232215\n",
            "Binary Labels: 0.9994369705740411 0.9996198906823011 0.9995283994730426 0.9997017715711687\n",
            "Multi-class Labels: 0.9961454034238569 0.9886393196275745 0.9923091968453345 0.9996487269889656\n"
          ],
          "name": "stdout"
        }
      ]
    }
  ]
}