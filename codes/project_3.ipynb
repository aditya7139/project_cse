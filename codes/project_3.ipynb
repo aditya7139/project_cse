{
 "cells": [
  {
   "cell_type": "markdown",
   "metadata": {},
   "source": [
    "# Machine Learning for the Detection of Network Attacks\n",
    "\n",
    "\n",
    "Analyse the machine learning algorithms on the [CICIDS 2017 Dataset] for clasification of network attacks.\n",
    "(https://www.unb.ca/cic/datasets/ids-2017.html): \n",
    "\n",
    "- Support Vector Machine (SVM)\n",
    "- Decision Tree\n",
    "- Naive Bayes\n",
    "- K Means Clustering \n",
    "- K Nearest Neighbours\n"
   ]
  },
  {
   "cell_type": "code",
   "execution_count": 1,
   "metadata": {},
   "outputs": [],
   "source": [
    "# from google.colab import drive\n",
    "# drive.mount('/content/drive')"
   ]
  },
  {
   "cell_type": "markdown",
   "metadata": {},
   "source": [
    "# Import required libraries."
   ]
  },
  {
   "cell_type": "code",
   "execution_count": 2,
   "metadata": {},
   "outputs": [],
   "source": [
    "import glob\n",
    "import matplotlib.pyplot as plt\n",
    "import numpy as np\n",
    "import pandas as pd \n",
    "import seaborn as sn\n",
    "import time\n",
    "\n",
    "from numpy import array\n",
    "\n",
    "from sklearn import preprocessing\n",
    "from sklearn.preprocessing import StandardScaler\n",
    "from sklearn.preprocessing import MinMaxScaler\n",
    "from sklearn.preprocessing import RobustScaler\n",
    "\n",
    "from sklearn.tree import DecisionTreeClassifier\n",
    "from sklearn.svm import LinearSVC\n",
    "from sklearn.naive_bayes import MultinomialNB\n",
    "from sklearn.neighbors import NearestNeighbors\n",
    "from sklearn.neighbors import KNeighborsClassifier\n",
    "from sklearn.cluster import KMeans\n",
    "from sklearn.decomposition import PCA\n",
    "from sklearn.ensemble import RandomForestRegressor\n",
    "from sklearn.ensemble import RandomForestClassifier\n",
    "\n",
    "from sklearn.feature_selection import SelectKBest\n",
    "from sklearn.feature_selection import chi2\n",
    "from sklearn.feature_selection import mutual_info_classif\n",
    "\n",
    "from sklearn import metrics\n",
    "from sklearn.metrics import accuracy_score\n",
    "from sklearn.metrics import confusion_matrix\n",
    "from sklearn.metrics import precision_recall_fscore_support as score\n",
    "from sklearn.metrics import completeness_score, homogeneity_score, v_measure_score\n",
    "\n",
    "from sklearn.model_selection import train_test_split"
   ]
  },
  {
   "cell_type": "markdown",
   "metadata": {},
   "source": [
    "# Loading the dataset"
   ]
  },
  {
   "cell_type": "markdown",
   "metadata": {},
   "source": [
    "The implemented attacks include Brute Force FTP, Brute Force SSH, DoS, Heartbleed, Web Attack, Infiltration, Botnet and DDoS. \n",
    "\n",
    "Datasets is available in 8 different csv files.\n",
    "\n",
    "- Monday-WorkingHours.pcap_ISCX.csv\n",
    "- Tuesday-WorkingHours.pcap_ISCX.csv\n",
    "- Wednesday-workingHours.pcap_ISCX.csv\n",
    "- Thursday-WorkingHours-Morning-WebAttacks.pcap_ISCX.csv\n",
    "- Thursday-WorkingHours-Afternoon-Infilteration.pcap_ISCX.csv\n",
    "- Friday-WorkingHours-Morning.pcap_ISCX.csv\n",
    "- Friday-WorkingHours-Afternoon-PortScan.pcap_ISCX.csv\n",
    "- Friday-WorkingHours-Afternoon-DDos.pcap_ISCX.csv\n",
    "\n",
    "8 different csv files of cicids dataset needs to be concatenated into a single csv file."
   ]
  },
  {
   "cell_type": "code",
   "execution_count": 3,
   "metadata": {},
   "outputs": [],
   "source": [
    "# # path to the all 8 files of CICIDS dataset.\n",
    "# path = './datasets'\n",
    "# all_files = glob.glob(path + \"/*.csv\")\n",
    "\n",
    "# # concatenate the 8 files into 1.\n",
    "# dataset = pd.concat((pd.read_csv(f) for f in all_files))"
   ]
  },
  {
   "cell_type": "code",
   "execution_count": 4,
   "metadata": {},
   "outputs": [],
   "source": [
    "# # saving the combined dataset to disk named cicids.csv\n",
    "# dataset.to_csv('cicids')"
   ]
  },
  {
   "cell_type": "code",
   "execution_count": 7,
   "metadata": {},
   "outputs": [],
   "source": [
    "dataset=pd.read_csv('../datasets/cicids.csv')\n",
    "# dataset=pd.read_csv('drive/MyDrive/datasets/cicids.zip')"
   ]
  },
  {
   "cell_type": "code",
   "execution_count": 8,
   "metadata": {},
   "outputs": [
    {
     "name": "stdout",
     "output_type": "stream",
     "text": [
      "(2827876, 79)\n"
     ]
    }
   ],
   "source": [
    "# Dimenions of dataset.\n",
    "print(dataset.shape)"
   ]
  },
  {
   "cell_type": "code",
   "execution_count": 9,
   "metadata": {},
   "outputs": [],
   "source": [
    "# column names as per dataset.\n",
    "\n",
    "col_names = [\"Destination_Port\",\n",
    "             \"Flow_Duration\", \n",
    "             \"Total_Fwd_Packets\",\n",
    "             \"Total_Backward_Packets\",\n",
    "             \"Total_Length_of_Fwd_Packets\", \n",
    "             \"Total_Length_of_Bwd_Packets\", \n",
    "             \"Fwd_Packet_Length_Max\", \n",
    "             \"Fwd_Packet_Length_Min\", \n",
    "             \"Fwd_Packet_Length_Mean\", \n",
    "             \"Fwd_Packet_Length_Std\",\n",
    "             \"Bwd_Packet_Length_Max\", \n",
    "             \"Bwd_Packet_Length_Min\", \n",
    "             \"Bwd_Packet_Length_Mean\", \n",
    "             \"Bwd_Packet_Length_Std\",\n",
    "             \"Flow_Bytes_s\", \n",
    "             \"Flow_Packets_s\", \n",
    "             \"Flow_IAT_Mean\", \n",
    "             \"Flow_IAT_Std\", \n",
    "             \"Flow_IAT_Max\", \n",
    "             \"Flow_IAT_Min\",\n",
    "             \"Fwd_IAT_Total\", \n",
    "             \"Fwd_IAT_Mean\", \n",
    "             \"Fwd_IAT_Std\", \n",
    "             \"Fwd_IAT_Max\", \n",
    "             \"Fwd_IAT_Min\",\n",
    "             \"Bwd_IAT_Total\", \n",
    "             \"Bwd_IAT_Mean\", \n",
    "             \"Bwd_IAT_Std\", \n",
    "             \"Bwd_IAT_Max\", \n",
    "             \"Bwd_IAT_Min\",\n",
    "             \"Fwd_PSH_Flags\", \n",
    "             \"Bwd_PSH_Flags\", \n",
    "             \"Fwd_URG_Flags\", \n",
    "             \"Bwd_URG_Flags\", \n",
    "             \"Fwd_Header_Length\", \n",
    "             \"Bwd_Header_Length\",\n",
    "             \"Fwd_Packets_s\", \n",
    "             \"Bwd_Packets_s\", \n",
    "             \"Min_Packet_Length\", \n",
    "             \"Max_Packet_Length\", \n",
    "             \"Packet_Length_Mean\", \n",
    "             \"Packet_Length_Std\", \n",
    "             \"Packet_Length_Variance\",\n",
    "             \"FIN_Flag_Count\", \n",
    "             \"SYN_Flag_Count\", \n",
    "             \"RST_Flag_Count\", \n",
    "             \"PSH_Flag_Count\", \n",
    "             \"ACK_Flag_Count\", \n",
    "             \"URG_Flag_Count\", \n",
    "             \"CWE_Flag_Count\", \n",
    "             \"ECE_Flag_Count\", \n",
    "             \"Down_Up_Ratio\", \n",
    "             \"Average_Packet_Size\", \n",
    "             \"Avg_Fwd_Segment_Size\", \n",
    "             \"Avg_Bwd_Segment_Size\", \n",
    "             \"Fwd_Header_Length\",\n",
    "             \"Fwd_Avg_Bytes_Bulk\", \n",
    "             \"Fwd_Avg_Packets_Bulk\", \n",
    "             \"Fwd_Avg_Bulk_Rate\", \n",
    "             \"Bwd_Avg_Bytes_Bulk\", \n",
    "             \"Bwd_Avg_Packets_Bulk\",\n",
    "             \"Bwd_Avg_Bulk_Rate\",\n",
    "             \"Subflow_Fwd_Packets\", \n",
    "             \"Subflow_Fwd_Bytes\", \n",
    "             \"Subflow_Bwd_Packets\", \n",
    "             \"Subflow_Bwd_Bytes\",\n",
    "             \"Init_Win_bytes_forward\", \n",
    "             \"Init_Win_bytes_backward\", \n",
    "             \"act_data_pkt_fwd\", \n",
    "             \"min_seg_size_forward\",\n",
    "             \"Active_Mean\", \n",
    "             \"Active_Std\", \n",
    "             \"Active_Max\", \n",
    "             \"Active_Min\",\n",
    "             \"Idle_Mean\", \n",
    "             \"Idle_Std\", \n",
    "             \"Idle_Max\", \n",
    "             \"Idle_Min\", \n",
    "             \"Label\"\n",
    "            ]"
   ]
  },
  {
   "cell_type": "code",
   "execution_count": 10,
   "metadata": {},
   "outputs": [],
   "source": [
    "# Max rows and colummns to be shown in print console\n",
    "\n",
    "pd.options.display.max_columns= 200\n",
    "pd.options.display.max_rows= 200"
   ]
  },
  {
   "cell_type": "code",
   "execution_count": 11,
   "metadata": {},
   "outputs": [
    {
     "data": {
      "text/html": [
       "<div>\n",
       "<style scoped>\n",
       "    .dataframe tbody tr th:only-of-type {\n",
       "        vertical-align: middle;\n",
       "    }\n",
       "\n",
       "    .dataframe tbody tr th {\n",
       "        vertical-align: top;\n",
       "    }\n",
       "\n",
       "    .dataframe thead th {\n",
       "        text-align: right;\n",
       "    }\n",
       "</style>\n",
       "<table border=\"1\" class=\"dataframe\">\n",
       "  <thead>\n",
       "    <tr style=\"text-align: right;\">\n",
       "      <th></th>\n",
       "      <th>Destination_Port</th>\n",
       "      <th>Flow_Duration</th>\n",
       "      <th>Total_Fwd_Packets</th>\n",
       "      <th>Total_Backward_Packets</th>\n",
       "      <th>Total_Length_of_Fwd_Packets</th>\n",
       "      <th>Total_Length_of_Bwd_Packets</th>\n",
       "      <th>Fwd_Packet_Length_Max</th>\n",
       "      <th>Fwd_Packet_Length_Min</th>\n",
       "      <th>Fwd_Packet_Length_Mean</th>\n",
       "      <th>Fwd_Packet_Length_Std</th>\n",
       "      <th>Bwd_Packet_Length_Max</th>\n",
       "      <th>Bwd_Packet_Length_Min</th>\n",
       "      <th>Bwd_Packet_Length_Mean</th>\n",
       "      <th>Bwd_Packet_Length_Std</th>\n",
       "      <th>Flow_Bytes_s</th>\n",
       "      <th>Flow_Packets_s</th>\n",
       "      <th>Flow_IAT_Mean</th>\n",
       "      <th>Flow_IAT_Std</th>\n",
       "      <th>Flow_IAT_Max</th>\n",
       "      <th>Flow_IAT_Min</th>\n",
       "      <th>Fwd_IAT_Total</th>\n",
       "      <th>Fwd_IAT_Mean</th>\n",
       "      <th>Fwd_IAT_Std</th>\n",
       "      <th>Fwd_IAT_Max</th>\n",
       "      <th>Fwd_IAT_Min</th>\n",
       "      <th>Bwd_IAT_Total</th>\n",
       "      <th>Bwd_IAT_Mean</th>\n",
       "      <th>Bwd_IAT_Std</th>\n",
       "      <th>Bwd_IAT_Max</th>\n",
       "      <th>Bwd_IAT_Min</th>\n",
       "      <th>Fwd_PSH_Flags</th>\n",
       "      <th>Bwd_PSH_Flags</th>\n",
       "      <th>Fwd_URG_Flags</th>\n",
       "      <th>Bwd_URG_Flags</th>\n",
       "      <th>Fwd_Header_Length</th>\n",
       "      <th>Bwd_Header_Length</th>\n",
       "      <th>Fwd_Packets_s</th>\n",
       "      <th>Bwd_Packets_s</th>\n",
       "      <th>Min_Packet_Length</th>\n",
       "      <th>Max_Packet_Length</th>\n",
       "      <th>Packet_Length_Mean</th>\n",
       "      <th>Packet_Length_Std</th>\n",
       "      <th>Packet_Length_Variance</th>\n",
       "      <th>FIN_Flag_Count</th>\n",
       "      <th>SYN_Flag_Count</th>\n",
       "      <th>RST_Flag_Count</th>\n",
       "      <th>PSH_Flag_Count</th>\n",
       "      <th>ACK_Flag_Count</th>\n",
       "      <th>URG_Flag_Count</th>\n",
       "      <th>CWE_Flag_Count</th>\n",
       "      <th>ECE_Flag_Count</th>\n",
       "      <th>Down_Up_Ratio</th>\n",
       "      <th>Average_Packet_Size</th>\n",
       "      <th>Avg_Fwd_Segment_Size</th>\n",
       "      <th>Avg_Bwd_Segment_Size</th>\n",
       "      <th>Fwd_Header_Length</th>\n",
       "      <th>Fwd_Avg_Bytes_Bulk</th>\n",
       "      <th>Fwd_Avg_Packets_Bulk</th>\n",
       "      <th>Fwd_Avg_Bulk_Rate</th>\n",
       "      <th>Bwd_Avg_Bytes_Bulk</th>\n",
       "      <th>Bwd_Avg_Packets_Bulk</th>\n",
       "      <th>Bwd_Avg_Bulk_Rate</th>\n",
       "      <th>Subflow_Fwd_Packets</th>\n",
       "      <th>Subflow_Fwd_Bytes</th>\n",
       "      <th>Subflow_Bwd_Packets</th>\n",
       "      <th>Subflow_Bwd_Bytes</th>\n",
       "      <th>Init_Win_bytes_forward</th>\n",
       "      <th>Init_Win_bytes_backward</th>\n",
       "      <th>act_data_pkt_fwd</th>\n",
       "      <th>min_seg_size_forward</th>\n",
       "      <th>Active_Mean</th>\n",
       "      <th>Active_Std</th>\n",
       "      <th>Active_Max</th>\n",
       "      <th>Active_Min</th>\n",
       "      <th>Idle_Mean</th>\n",
       "      <th>Idle_Std</th>\n",
       "      <th>Idle_Max</th>\n",
       "      <th>Idle_Min</th>\n",
       "      <th>Label</th>\n",
       "    </tr>\n",
       "  </thead>\n",
       "  <tbody>\n",
       "    <tr>\n",
       "      <th>0</th>\n",
       "      <td>0</td>\n",
       "      <td>54865</td>\n",
       "      <td>3</td>\n",
       "      <td>2</td>\n",
       "      <td>0</td>\n",
       "      <td>12</td>\n",
       "      <td>0</td>\n",
       "      <td>6</td>\n",
       "      <td>6</td>\n",
       "      <td>6.0</td>\n",
       "      <td>0.0</td>\n",
       "      <td>0</td>\n",
       "      <td>0</td>\n",
       "      <td>0.0</td>\n",
       "      <td>0.0</td>\n",
       "      <td>4.000000e+06</td>\n",
       "      <td>666666.66670</td>\n",
       "      <td>3.0</td>\n",
       "      <td>0.0</td>\n",
       "      <td>3</td>\n",
       "      <td>3</td>\n",
       "      <td>3</td>\n",
       "      <td>3.0</td>\n",
       "      <td>0.0</td>\n",
       "      <td>3</td>\n",
       "      <td>3</td>\n",
       "      <td>0</td>\n",
       "      <td>0.0</td>\n",
       "      <td>0.0</td>\n",
       "      <td>0</td>\n",
       "      <td>0</td>\n",
       "      <td>0</td>\n",
       "      <td>0</td>\n",
       "      <td>0</td>\n",
       "      <td>0</td>\n",
       "      <td>40</td>\n",
       "      <td>0</td>\n",
       "      <td>666666.666700</td>\n",
       "      <td>0.000000</td>\n",
       "      <td>6</td>\n",
       "      <td>6</td>\n",
       "      <td>6.0</td>\n",
       "      <td>0.0</td>\n",
       "      <td>0.0</td>\n",
       "      <td>0</td>\n",
       "      <td>0</td>\n",
       "      <td>0</td>\n",
       "      <td>0</td>\n",
       "      <td>1</td>\n",
       "      <td>0</td>\n",
       "      <td>0</td>\n",
       "      <td>0</td>\n",
       "      <td>0</td>\n",
       "      <td>9.0</td>\n",
       "      <td>6.0</td>\n",
       "      <td>0.0</td>\n",
       "      <td>0</td>\n",
       "      <td>0</td>\n",
       "      <td>0</td>\n",
       "      <td>0</td>\n",
       "      <td>0</td>\n",
       "      <td>0</td>\n",
       "      <td>2</td>\n",
       "      <td>12</td>\n",
       "      <td>0</td>\n",
       "      <td>0</td>\n",
       "      <td>33</td>\n",
       "      <td>-1</td>\n",
       "      <td>1</td>\n",
       "      <td>20</td>\n",
       "      <td>0.0</td>\n",
       "      <td>0.0</td>\n",
       "      <td>0</td>\n",
       "      <td>0</td>\n",
       "      <td>0.0</td>\n",
       "      <td>0.0</td>\n",
       "      <td>0</td>\n",
       "      <td>0</td>\n",
       "      <td>BENIGN</td>\n",
       "    </tr>\n",
       "    <tr>\n",
       "      <th>1</th>\n",
       "      <td>1</td>\n",
       "      <td>55054</td>\n",
       "      <td>109</td>\n",
       "      <td>1</td>\n",
       "      <td>1</td>\n",
       "      <td>6</td>\n",
       "      <td>6</td>\n",
       "      <td>6</td>\n",
       "      <td>6</td>\n",
       "      <td>6.0</td>\n",
       "      <td>0.0</td>\n",
       "      <td>6</td>\n",
       "      <td>6</td>\n",
       "      <td>6.0</td>\n",
       "      <td>0.0</td>\n",
       "      <td>1.100917e+05</td>\n",
       "      <td>18348.62385</td>\n",
       "      <td>109.0</td>\n",
       "      <td>0.0</td>\n",
       "      <td>109</td>\n",
       "      <td>109</td>\n",
       "      <td>0</td>\n",
       "      <td>0.0</td>\n",
       "      <td>0.0</td>\n",
       "      <td>0</td>\n",
       "      <td>0</td>\n",
       "      <td>0</td>\n",
       "      <td>0.0</td>\n",
       "      <td>0.0</td>\n",
       "      <td>0</td>\n",
       "      <td>0</td>\n",
       "      <td>0</td>\n",
       "      <td>0</td>\n",
       "      <td>0</td>\n",
       "      <td>0</td>\n",
       "      <td>20</td>\n",
       "      <td>20</td>\n",
       "      <td>9174.311927</td>\n",
       "      <td>9174.311927</td>\n",
       "      <td>6</td>\n",
       "      <td>6</td>\n",
       "      <td>6.0</td>\n",
       "      <td>0.0</td>\n",
       "      <td>0.0</td>\n",
       "      <td>0</td>\n",
       "      <td>0</td>\n",
       "      <td>0</td>\n",
       "      <td>0</td>\n",
       "      <td>1</td>\n",
       "      <td>1</td>\n",
       "      <td>0</td>\n",
       "      <td>0</td>\n",
       "      <td>1</td>\n",
       "      <td>9.0</td>\n",
       "      <td>6.0</td>\n",
       "      <td>6.0</td>\n",
       "      <td>0</td>\n",
       "      <td>0</td>\n",
       "      <td>0</td>\n",
       "      <td>0</td>\n",
       "      <td>0</td>\n",
       "      <td>0</td>\n",
       "      <td>1</td>\n",
       "      <td>6</td>\n",
       "      <td>1</td>\n",
       "      <td>6</td>\n",
       "      <td>29</td>\n",
       "      <td>256</td>\n",
       "      <td>0</td>\n",
       "      <td>20</td>\n",
       "      <td>0.0</td>\n",
       "      <td>0.0</td>\n",
       "      <td>0</td>\n",
       "      <td>0</td>\n",
       "      <td>0.0</td>\n",
       "      <td>0.0</td>\n",
       "      <td>0</td>\n",
       "      <td>0</td>\n",
       "      <td>BENIGN</td>\n",
       "    </tr>\n",
       "    <tr>\n",
       "      <th>2</th>\n",
       "      <td>2</td>\n",
       "      <td>55055</td>\n",
       "      <td>52</td>\n",
       "      <td>1</td>\n",
       "      <td>1</td>\n",
       "      <td>6</td>\n",
       "      <td>6</td>\n",
       "      <td>6</td>\n",
       "      <td>6</td>\n",
       "      <td>6.0</td>\n",
       "      <td>0.0</td>\n",
       "      <td>6</td>\n",
       "      <td>6</td>\n",
       "      <td>6.0</td>\n",
       "      <td>0.0</td>\n",
       "      <td>2.307692e+05</td>\n",
       "      <td>38461.53846</td>\n",
       "      <td>52.0</td>\n",
       "      <td>0.0</td>\n",
       "      <td>52</td>\n",
       "      <td>52</td>\n",
       "      <td>0</td>\n",
       "      <td>0.0</td>\n",
       "      <td>0.0</td>\n",
       "      <td>0</td>\n",
       "      <td>0</td>\n",
       "      <td>0</td>\n",
       "      <td>0.0</td>\n",
       "      <td>0.0</td>\n",
       "      <td>0</td>\n",
       "      <td>0</td>\n",
       "      <td>0</td>\n",
       "      <td>0</td>\n",
       "      <td>0</td>\n",
       "      <td>0</td>\n",
       "      <td>20</td>\n",
       "      <td>20</td>\n",
       "      <td>19230.769230</td>\n",
       "      <td>19230.769230</td>\n",
       "      <td>6</td>\n",
       "      <td>6</td>\n",
       "      <td>6.0</td>\n",
       "      <td>0.0</td>\n",
       "      <td>0.0</td>\n",
       "      <td>0</td>\n",
       "      <td>0</td>\n",
       "      <td>0</td>\n",
       "      <td>0</td>\n",
       "      <td>1</td>\n",
       "      <td>1</td>\n",
       "      <td>0</td>\n",
       "      <td>0</td>\n",
       "      <td>1</td>\n",
       "      <td>9.0</td>\n",
       "      <td>6.0</td>\n",
       "      <td>6.0</td>\n",
       "      <td>0</td>\n",
       "      <td>0</td>\n",
       "      <td>0</td>\n",
       "      <td>0</td>\n",
       "      <td>0</td>\n",
       "      <td>0</td>\n",
       "      <td>1</td>\n",
       "      <td>6</td>\n",
       "      <td>1</td>\n",
       "      <td>6</td>\n",
       "      <td>29</td>\n",
       "      <td>256</td>\n",
       "      <td>0</td>\n",
       "      <td>20</td>\n",
       "      <td>0.0</td>\n",
       "      <td>0.0</td>\n",
       "      <td>0</td>\n",
       "      <td>0</td>\n",
       "      <td>0.0</td>\n",
       "      <td>0.0</td>\n",
       "      <td>0</td>\n",
       "      <td>0</td>\n",
       "      <td>BENIGN</td>\n",
       "    </tr>\n",
       "    <tr>\n",
       "      <th>3</th>\n",
       "      <td>3</td>\n",
       "      <td>46236</td>\n",
       "      <td>34</td>\n",
       "      <td>1</td>\n",
       "      <td>1</td>\n",
       "      <td>6</td>\n",
       "      <td>6</td>\n",
       "      <td>6</td>\n",
       "      <td>6</td>\n",
       "      <td>6.0</td>\n",
       "      <td>0.0</td>\n",
       "      <td>6</td>\n",
       "      <td>6</td>\n",
       "      <td>6.0</td>\n",
       "      <td>0.0</td>\n",
       "      <td>3.529412e+05</td>\n",
       "      <td>58823.52941</td>\n",
       "      <td>34.0</td>\n",
       "      <td>0.0</td>\n",
       "      <td>34</td>\n",
       "      <td>34</td>\n",
       "      <td>0</td>\n",
       "      <td>0.0</td>\n",
       "      <td>0.0</td>\n",
       "      <td>0</td>\n",
       "      <td>0</td>\n",
       "      <td>0</td>\n",
       "      <td>0.0</td>\n",
       "      <td>0.0</td>\n",
       "      <td>0</td>\n",
       "      <td>0</td>\n",
       "      <td>0</td>\n",
       "      <td>0</td>\n",
       "      <td>0</td>\n",
       "      <td>0</td>\n",
       "      <td>20</td>\n",
       "      <td>20</td>\n",
       "      <td>29411.764710</td>\n",
       "      <td>29411.764710</td>\n",
       "      <td>6</td>\n",
       "      <td>6</td>\n",
       "      <td>6.0</td>\n",
       "      <td>0.0</td>\n",
       "      <td>0.0</td>\n",
       "      <td>0</td>\n",
       "      <td>0</td>\n",
       "      <td>0</td>\n",
       "      <td>0</td>\n",
       "      <td>1</td>\n",
       "      <td>1</td>\n",
       "      <td>0</td>\n",
       "      <td>0</td>\n",
       "      <td>1</td>\n",
       "      <td>9.0</td>\n",
       "      <td>6.0</td>\n",
       "      <td>6.0</td>\n",
       "      <td>0</td>\n",
       "      <td>0</td>\n",
       "      <td>0</td>\n",
       "      <td>0</td>\n",
       "      <td>0</td>\n",
       "      <td>0</td>\n",
       "      <td>1</td>\n",
       "      <td>6</td>\n",
       "      <td>1</td>\n",
       "      <td>6</td>\n",
       "      <td>31</td>\n",
       "      <td>329</td>\n",
       "      <td>0</td>\n",
       "      <td>20</td>\n",
       "      <td>0.0</td>\n",
       "      <td>0.0</td>\n",
       "      <td>0</td>\n",
       "      <td>0</td>\n",
       "      <td>0.0</td>\n",
       "      <td>0.0</td>\n",
       "      <td>0</td>\n",
       "      <td>0</td>\n",
       "      <td>BENIGN</td>\n",
       "    </tr>\n",
       "    <tr>\n",
       "      <th>4</th>\n",
       "      <td>4</td>\n",
       "      <td>54863</td>\n",
       "      <td>3</td>\n",
       "      <td>2</td>\n",
       "      <td>0</td>\n",
       "      <td>12</td>\n",
       "      <td>0</td>\n",
       "      <td>6</td>\n",
       "      <td>6</td>\n",
       "      <td>6.0</td>\n",
       "      <td>0.0</td>\n",
       "      <td>0</td>\n",
       "      <td>0</td>\n",
       "      <td>0.0</td>\n",
       "      <td>0.0</td>\n",
       "      <td>4.000000e+06</td>\n",
       "      <td>666666.66670</td>\n",
       "      <td>3.0</td>\n",
       "      <td>0.0</td>\n",
       "      <td>3</td>\n",
       "      <td>3</td>\n",
       "      <td>3</td>\n",
       "      <td>3.0</td>\n",
       "      <td>0.0</td>\n",
       "      <td>3</td>\n",
       "      <td>3</td>\n",
       "      <td>0</td>\n",
       "      <td>0.0</td>\n",
       "      <td>0.0</td>\n",
       "      <td>0</td>\n",
       "      <td>0</td>\n",
       "      <td>0</td>\n",
       "      <td>0</td>\n",
       "      <td>0</td>\n",
       "      <td>0</td>\n",
       "      <td>40</td>\n",
       "      <td>0</td>\n",
       "      <td>666666.666700</td>\n",
       "      <td>0.000000</td>\n",
       "      <td>6</td>\n",
       "      <td>6</td>\n",
       "      <td>6.0</td>\n",
       "      <td>0.0</td>\n",
       "      <td>0.0</td>\n",
       "      <td>0</td>\n",
       "      <td>0</td>\n",
       "      <td>0</td>\n",
       "      <td>0</td>\n",
       "      <td>1</td>\n",
       "      <td>0</td>\n",
       "      <td>0</td>\n",
       "      <td>0</td>\n",
       "      <td>0</td>\n",
       "      <td>9.0</td>\n",
       "      <td>6.0</td>\n",
       "      <td>0.0</td>\n",
       "      <td>0</td>\n",
       "      <td>0</td>\n",
       "      <td>0</td>\n",
       "      <td>0</td>\n",
       "      <td>0</td>\n",
       "      <td>0</td>\n",
       "      <td>2</td>\n",
       "      <td>12</td>\n",
       "      <td>0</td>\n",
       "      <td>0</td>\n",
       "      <td>32</td>\n",
       "      <td>-1</td>\n",
       "      <td>1</td>\n",
       "      <td>20</td>\n",
       "      <td>0.0</td>\n",
       "      <td>0.0</td>\n",
       "      <td>0</td>\n",
       "      <td>0</td>\n",
       "      <td>0.0</td>\n",
       "      <td>0.0</td>\n",
       "      <td>0</td>\n",
       "      <td>0</td>\n",
       "      <td>BENIGN</td>\n",
       "    </tr>\n",
       "  </tbody>\n",
       "</table>\n",
       "</div>"
      ],
      "text/plain": [
       "   Destination_Port  Flow_Duration  Total_Fwd_Packets  Total_Backward_Packets  \\\n",
       "0                 0          54865                  3                       2   \n",
       "1                 1          55054                109                       1   \n",
       "2                 2          55055                 52                       1   \n",
       "3                 3          46236                 34                       1   \n",
       "4                 4          54863                  3                       2   \n",
       "\n",
       "   Total_Length_of_Fwd_Packets  Total_Length_of_Bwd_Packets  \\\n",
       "0                            0                           12   \n",
       "1                            1                            6   \n",
       "2                            1                            6   \n",
       "3                            1                            6   \n",
       "4                            0                           12   \n",
       "\n",
       "   Fwd_Packet_Length_Max  Fwd_Packet_Length_Min  Fwd_Packet_Length_Mean  \\\n",
       "0                      0                      6                       6   \n",
       "1                      6                      6                       6   \n",
       "2                      6                      6                       6   \n",
       "3                      6                      6                       6   \n",
       "4                      0                      6                       6   \n",
       "\n",
       "   Fwd_Packet_Length_Std  Bwd_Packet_Length_Max  Bwd_Packet_Length_Min  \\\n",
       "0                    6.0                    0.0                      0   \n",
       "1                    6.0                    0.0                      6   \n",
       "2                    6.0                    0.0                      6   \n",
       "3                    6.0                    0.0                      6   \n",
       "4                    6.0                    0.0                      0   \n",
       "\n",
       "   Bwd_Packet_Length_Mean  Bwd_Packet_Length_Std  Flow_Bytes_s  \\\n",
       "0                       0                    0.0           0.0   \n",
       "1                       6                    6.0           0.0   \n",
       "2                       6                    6.0           0.0   \n",
       "3                       6                    6.0           0.0   \n",
       "4                       0                    0.0           0.0   \n",
       "\n",
       "   Flow_Packets_s  Flow_IAT_Mean  Flow_IAT_Std  Flow_IAT_Max  Flow_IAT_Min  \\\n",
       "0    4.000000e+06   666666.66670           3.0           0.0             3   \n",
       "1    1.100917e+05    18348.62385         109.0           0.0           109   \n",
       "2    2.307692e+05    38461.53846          52.0           0.0            52   \n",
       "3    3.529412e+05    58823.52941          34.0           0.0            34   \n",
       "4    4.000000e+06   666666.66670           3.0           0.0             3   \n",
       "\n",
       "   Fwd_IAT_Total  Fwd_IAT_Mean  Fwd_IAT_Std  Fwd_IAT_Max  Fwd_IAT_Min  \\\n",
       "0              3             3          3.0          0.0            3   \n",
       "1            109             0          0.0          0.0            0   \n",
       "2             52             0          0.0          0.0            0   \n",
       "3             34             0          0.0          0.0            0   \n",
       "4              3             3          3.0          0.0            3   \n",
       "\n",
       "   Bwd_IAT_Total  Bwd_IAT_Mean  Bwd_IAT_Std  Bwd_IAT_Max  Bwd_IAT_Min  \\\n",
       "0              3             0          0.0          0.0            0   \n",
       "1              0             0          0.0          0.0            0   \n",
       "2              0             0          0.0          0.0            0   \n",
       "3              0             0          0.0          0.0            0   \n",
       "4              3             0          0.0          0.0            0   \n",
       "\n",
       "   Fwd_PSH_Flags  Bwd_PSH_Flags  Fwd_URG_Flags  Bwd_URG_Flags  \\\n",
       "0              0              0              0              0   \n",
       "1              0              0              0              0   \n",
       "2              0              0              0              0   \n",
       "3              0              0              0              0   \n",
       "4              0              0              0              0   \n",
       "\n",
       "   Fwd_Header_Length  Bwd_Header_Length  Fwd_Packets_s  Bwd_Packets_s  \\\n",
       "0                  0                 40              0  666666.666700   \n",
       "1                  0                 20             20    9174.311927   \n",
       "2                  0                 20             20   19230.769230   \n",
       "3                  0                 20             20   29411.764710   \n",
       "4                  0                 40              0  666666.666700   \n",
       "\n",
       "   Min_Packet_Length  Max_Packet_Length  Packet_Length_Mean  \\\n",
       "0           0.000000                  6                   6   \n",
       "1        9174.311927                  6                   6   \n",
       "2       19230.769230                  6                   6   \n",
       "3       29411.764710                  6                   6   \n",
       "4           0.000000                  6                   6   \n",
       "\n",
       "   Packet_Length_Std  Packet_Length_Variance  FIN_Flag_Count  SYN_Flag_Count  \\\n",
       "0                6.0                     0.0             0.0               0   \n",
       "1                6.0                     0.0             0.0               0   \n",
       "2                6.0                     0.0             0.0               0   \n",
       "3                6.0                     0.0             0.0               0   \n",
       "4                6.0                     0.0             0.0               0   \n",
       "\n",
       "   RST_Flag_Count  PSH_Flag_Count  ACK_Flag_Count  URG_Flag_Count  \\\n",
       "0               0               0               0               1   \n",
       "1               0               0               0               1   \n",
       "2               0               0               0               1   \n",
       "3               0               0               0               1   \n",
       "4               0               0               0               1   \n",
       "\n",
       "   CWE_Flag_Count  ECE_Flag_Count  Down_Up_Ratio  Average_Packet_Size  \\\n",
       "0               0               0              0                    0   \n",
       "1               1               0              0                    1   \n",
       "2               1               0              0                    1   \n",
       "3               1               0              0                    1   \n",
       "4               0               0              0                    0   \n",
       "\n",
       "   Avg_Fwd_Segment_Size  Avg_Bwd_Segment_Size  Fwd_Header_Length  \\\n",
       "0                   9.0                   6.0                0.0   \n",
       "1                   9.0                   6.0                6.0   \n",
       "2                   9.0                   6.0                6.0   \n",
       "3                   9.0                   6.0                6.0   \n",
       "4                   9.0                   6.0                0.0   \n",
       "\n",
       "   Fwd_Avg_Bytes_Bulk  Fwd_Avg_Packets_Bulk  Fwd_Avg_Bulk_Rate  \\\n",
       "0                   0                     0                  0   \n",
       "1                   0                     0                  0   \n",
       "2                   0                     0                  0   \n",
       "3                   0                     0                  0   \n",
       "4                   0                     0                  0   \n",
       "\n",
       "   Bwd_Avg_Bytes_Bulk  Bwd_Avg_Packets_Bulk  Bwd_Avg_Bulk_Rate  \\\n",
       "0                   0                     0                  0   \n",
       "1                   0                     0                  0   \n",
       "2                   0                     0                  0   \n",
       "3                   0                     0                  0   \n",
       "4                   0                     0                  0   \n",
       "\n",
       "   Subflow_Fwd_Packets  Subflow_Fwd_Bytes  Subflow_Bwd_Packets  \\\n",
       "0                    2                 12                    0   \n",
       "1                    1                  6                    1   \n",
       "2                    1                  6                    1   \n",
       "3                    1                  6                    1   \n",
       "4                    2                 12                    0   \n",
       "\n",
       "   Subflow_Bwd_Bytes  Init_Win_bytes_forward  Init_Win_bytes_backward  \\\n",
       "0                  0                      33                       -1   \n",
       "1                  6                      29                      256   \n",
       "2                  6                      29                      256   \n",
       "3                  6                      31                      329   \n",
       "4                  0                      32                       -1   \n",
       "\n",
       "   act_data_pkt_fwd  min_seg_size_forward  Active_Mean  Active_Std  \\\n",
       "0                 1                    20          0.0         0.0   \n",
       "1                 0                    20          0.0         0.0   \n",
       "2                 0                    20          0.0         0.0   \n",
       "3                 0                    20          0.0         0.0   \n",
       "4                 1                    20          0.0         0.0   \n",
       "\n",
       "   Active_Max  Active_Min  Idle_Mean  Idle_Std  Idle_Max  Idle_Min   Label  \n",
       "0           0           0        0.0       0.0         0         0  BENIGN  \n",
       "1           0           0        0.0       0.0         0         0  BENIGN  \n",
       "2           0           0        0.0       0.0         0         0  BENIGN  \n",
       "3           0           0        0.0       0.0         0         0  BENIGN  \n",
       "4           0           0        0.0       0.0         0         0  BENIGN  "
      ]
     },
     "execution_count": 11,
     "metadata": {},
     "output_type": "execute_result"
    }
   ],
   "source": [
    "# Assigning the column names.\n",
    "dataset.columns = col_names\n",
    "\n",
    "# first 5 records in the dataset.\n",
    "dataset.head(5)"
   ]
  },
  {
   "cell_type": "code",
   "execution_count": 12,
   "metadata": {},
   "outputs": [
    {
     "data": {
      "text/plain": [
       "Destination_Port                 int64\n",
       "Flow_Duration                    int64\n",
       "Total_Fwd_Packets                int64\n",
       "Total_Backward_Packets           int64\n",
       "Total_Length_of_Fwd_Packets      int64\n",
       "Total_Length_of_Bwd_Packets      int64\n",
       "Fwd_Packet_Length_Max            int64\n",
       "Fwd_Packet_Length_Min            int64\n",
       "Fwd_Packet_Length_Mean           int64\n",
       "Fwd_Packet_Length_Std          float64\n",
       "Bwd_Packet_Length_Max          float64\n",
       "Bwd_Packet_Length_Min            int64\n",
       "Bwd_Packet_Length_Mean           int64\n",
       "Bwd_Packet_Length_Std          float64\n",
       "Flow_Bytes_s                   float64\n",
       "Flow_Packets_s                 float64\n",
       "Flow_IAT_Mean                  float64\n",
       "Flow_IAT_Std                   float64\n",
       "Flow_IAT_Max                   float64\n",
       "Flow_IAT_Min                     int64\n",
       "Fwd_IAT_Total                    int64\n",
       "Fwd_IAT_Mean                     int64\n",
       "Fwd_IAT_Std                    float64\n",
       "Fwd_IAT_Max                    float64\n",
       "Fwd_IAT_Min                      int64\n",
       "Bwd_IAT_Total                    int64\n",
       "Bwd_IAT_Mean                     int64\n",
       "Bwd_IAT_Std                    float64\n",
       "Bwd_IAT_Max                    float64\n",
       "Bwd_IAT_Min                      int64\n",
       "Fwd_PSH_Flags                    int64\n",
       "Bwd_PSH_Flags                    int64\n",
       "Fwd_URG_Flags                    int64\n",
       "Bwd_URG_Flags                    int64\n",
       "Fwd_Header_Length                int64\n",
       "Bwd_Header_Length                int64\n",
       "Fwd_Packets_s                    int64\n",
       "Bwd_Packets_s                  float64\n",
       "Min_Packet_Length              float64\n",
       "Max_Packet_Length                int64\n",
       "Packet_Length_Mean               int64\n",
       "Packet_Length_Std              float64\n",
       "Packet_Length_Variance         float64\n",
       "FIN_Flag_Count                 float64\n",
       "SYN_Flag_Count                   int64\n",
       "RST_Flag_Count                   int64\n",
       "PSH_Flag_Count                   int64\n",
       "ACK_Flag_Count                   int64\n",
       "URG_Flag_Count                   int64\n",
       "CWE_Flag_Count                   int64\n",
       "ECE_Flag_Count                   int64\n",
       "Down_Up_Ratio                    int64\n",
       "Average_Packet_Size              int64\n",
       "Avg_Fwd_Segment_Size           float64\n",
       "Avg_Bwd_Segment_Size           float64\n",
       "Fwd_Header_Length              float64\n",
       "Fwd_Avg_Bytes_Bulk               int64\n",
       "Fwd_Avg_Packets_Bulk             int64\n",
       "Fwd_Avg_Bulk_Rate                int64\n",
       "Bwd_Avg_Bytes_Bulk               int64\n",
       "Bwd_Avg_Packets_Bulk             int64\n",
       "Bwd_Avg_Bulk_Rate                int64\n",
       "Subflow_Fwd_Packets              int64\n",
       "Subflow_Fwd_Bytes                int64\n",
       "Subflow_Bwd_Packets              int64\n",
       "Subflow_Bwd_Bytes                int64\n",
       "Init_Win_bytes_forward           int64\n",
       "Init_Win_bytes_backward          int64\n",
       "act_data_pkt_fwd                 int64\n",
       "min_seg_size_forward             int64\n",
       "Active_Mean                    float64\n",
       "Active_Std                     float64\n",
       "Active_Max                       int64\n",
       "Active_Min                       int64\n",
       "Idle_Mean                      float64\n",
       "Idle_Std                       float64\n",
       "Idle_Max                         int64\n",
       "Idle_Min                         int64\n",
       "Label                           object\n",
       "dtype: object"
      ]
     },
     "execution_count": 12,
     "metadata": {},
     "output_type": "execute_result"
    }
   ],
   "source": [
    "# check whether there is any categorical column are not if it is there it is to be encoded.\n",
    "dataset.dtypes"
   ]
  },
  {
   "cell_type": "markdown",
   "metadata": {},
   "source": [
    "# Remove repeated columns, (NaN,Null,Infinite) values."
   ]
  },
  {
   "cell_type": "code",
   "execution_count": 13,
   "metadata": {},
   "outputs": [
    {
     "data": {
      "text/plain": [
       "(2827876, 78)"
      ]
     },
     "execution_count": 13,
     "metadata": {},
     "output_type": "execute_result"
    }
   ],
   "source": [
    "# Removing the duplicate columns (Header_length is repeated)\n",
    "dataset = dataset.loc[:, ~dataset.columns.duplicated()]\n",
    "dataset.shape"
   ]
  },
  {
   "cell_type": "code",
   "execution_count": 14,
   "metadata": {},
   "outputs": [
    {
     "data": {
      "text/plain": [
       "False"
      ]
     },
     "execution_count": 14,
     "metadata": {},
     "output_type": "execute_result"
    }
   ],
   "source": [
    "# check if there are any Null values\n",
    "dataset.isnull().any().any()"
   ]
  },
  {
   "cell_type": "code",
   "execution_count": 15,
   "metadata": {},
   "outputs": [
    {
     "data": {
      "text/plain": [
       "Destination_Port               False\n",
       "Flow_Duration                  False\n",
       "Total_Fwd_Packets              False\n",
       "Total_Backward_Packets         False\n",
       "Total_Length_of_Fwd_Packets    False\n",
       "Total_Length_of_Bwd_Packets    False\n",
       "Fwd_Packet_Length_Max          False\n",
       "Fwd_Packet_Length_Min          False\n",
       "Fwd_Packet_Length_Mean         False\n",
       "Fwd_Packet_Length_Std          False\n",
       "Bwd_Packet_Length_Max          False\n",
       "Bwd_Packet_Length_Min          False\n",
       "Bwd_Packet_Length_Mean         False\n",
       "Bwd_Packet_Length_Std          False\n",
       "Flow_Bytes_s                   False\n",
       "Flow_Packets_s                 False\n",
       "Flow_IAT_Mean                  False\n",
       "Flow_IAT_Std                   False\n",
       "Flow_IAT_Max                   False\n",
       "Flow_IAT_Min                   False\n",
       "Fwd_IAT_Total                  False\n",
       "Fwd_IAT_Mean                   False\n",
       "Fwd_IAT_Std                    False\n",
       "Fwd_IAT_Max                    False\n",
       "Fwd_IAT_Min                    False\n",
       "Bwd_IAT_Total                  False\n",
       "Bwd_IAT_Mean                   False\n",
       "Bwd_IAT_Std                    False\n",
       "Bwd_IAT_Max                    False\n",
       "Bwd_IAT_Min                    False\n",
       "Fwd_PSH_Flags                  False\n",
       "Bwd_PSH_Flags                  False\n",
       "Fwd_URG_Flags                  False\n",
       "Bwd_URG_Flags                  False\n",
       "Fwd_Header_Length              False\n",
       "Bwd_Header_Length              False\n",
       "Fwd_Packets_s                  False\n",
       "Bwd_Packets_s                  False\n",
       "Min_Packet_Length              False\n",
       "Max_Packet_Length              False\n",
       "Packet_Length_Mean             False\n",
       "Packet_Length_Std              False\n",
       "Packet_Length_Variance         False\n",
       "FIN_Flag_Count                 False\n",
       "SYN_Flag_Count                 False\n",
       "RST_Flag_Count                 False\n",
       "PSH_Flag_Count                 False\n",
       "ACK_Flag_Count                 False\n",
       "URG_Flag_Count                 False\n",
       "CWE_Flag_Count                 False\n",
       "ECE_Flag_Count                 False\n",
       "Down_Up_Ratio                  False\n",
       "Average_Packet_Size            False\n",
       "Avg_Fwd_Segment_Size           False\n",
       "Avg_Bwd_Segment_Size           False\n",
       "Fwd_Avg_Bytes_Bulk             False\n",
       "Fwd_Avg_Packets_Bulk           False\n",
       "Fwd_Avg_Bulk_Rate              False\n",
       "Bwd_Avg_Bytes_Bulk             False\n",
       "Bwd_Avg_Packets_Bulk           False\n",
       "Bwd_Avg_Bulk_Rate              False\n",
       "Subflow_Fwd_Packets            False\n",
       "Subflow_Fwd_Bytes              False\n",
       "Subflow_Bwd_Packets            False\n",
       "Subflow_Bwd_Bytes              False\n",
       "Init_Win_bytes_forward         False\n",
       "Init_Win_bytes_backward        False\n",
       "act_data_pkt_fwd               False\n",
       "min_seg_size_forward           False\n",
       "Active_Mean                    False\n",
       "Active_Std                     False\n",
       "Active_Max                     False\n",
       "Active_Min                     False\n",
       "Idle_Mean                      False\n",
       "Idle_Std                       False\n",
       "Idle_Max                       False\n",
       "Idle_Min                       False\n",
       "Label                          False\n",
       "dtype: bool"
      ]
     },
     "execution_count": 15,
     "metadata": {},
     "output_type": "execute_result"
    }
   ],
   "source": [
    "# Replace Inf values with NaN\n",
    "dataset = dataset.replace([np.inf, -np.inf], np.nan)\n",
    "\n",
    "# Drop all occurences of NaN\n",
    "dataset = dataset.dropna()\n",
    "\n",
    "# Double check these are all gone\n",
    "dataset.isnull().any()"
   ]
  },
  {
   "cell_type": "markdown",
   "metadata": {},
   "source": [
    "# Analysing the attacks in dataset"
   ]
  },
  {
   "cell_type": "code",
   "execution_count": 16,
   "metadata": {},
   "outputs": [
    {
     "data": {
      "text/plain": [
       "BENIGN                        2271320\n",
       "DoS Hulk                       230124\n",
       "PortScan                       158804\n",
       "DDoS                           128025\n",
       "DoS GoldenEye                   10293\n",
       "FTP-Patator                      7935\n",
       "SSH-Patator                      5897\n",
       "DoS slowloris                    5796\n",
       "DoS Slowhttptest                 5499\n",
       "Bot                              1956\n",
       "Web Attack � Brute Force         1507\n",
       "Web Attack � XSS                  652\n",
       "Infiltration                       36\n",
       "Web Attack � Sql Injection         21\n",
       "Heartbleed                         11\n",
       "Name: Label, dtype: int64"
      ]
     },
     "execution_count": 16,
     "metadata": {},
     "output_type": "execute_result"
    }
   ],
   "source": [
    "# Distribution of Dataset\n",
    "dataset['Label'].value_counts()"
   ]
  },
  {
   "cell_type": "code",
   "execution_count": 17,
   "metadata": {},
   "outputs": [
    {
     "data": {
      "image/png": "[encoded data removed]",
      "text/plain": [
       "<Figure size 1080x720 with 1 Axes>"
      ]
     },
     "metadata": {
      "needs_background": "light"
     },
     "output_type": "display_data"
    }
   ],
   "source": [
    "# Plotting the distribution of attacks in the dataset\n",
    "\n",
    "plt.figure(figsize=(15,10))\n",
    "\n",
    "attack = ('DoS Hulk', 'PortScan', 'DDoS', 'DoS GoldenEye', 'FTP-Patator', 'SSH-Patator', 'DoS Slowloris',\n",
    "          'DoS Slowhttptest', 'Bot', 'Web Attack: Brute Force', 'Web Attack: XSS', 'Infiltration', 'Web Attack: SQL Injection', 'Heartbleed')\n",
    "y_pos = np.arange(len(attack)) \n",
    "amount = dataset['Label'].value_counts()[1:]\n",
    "plt.barh(y_pos, amount, align='center', color='blue' )\n",
    "plt.yticks(y_pos, attack)\n",
    "plt.title('Distribution of different types of attacks in the dataset')\n",
    "plt.xlabel('Number of occurences')\n",
    "plt.ylabel('Attack types')\n",
    "for i, v in enumerate(amount):\n",
    "    plt.text(v + 3, i-0.1 , str(v))\n",
    "    \n",
    "plt.show()"
   ]
  },
  {
   "cell_type": "code",
   "execution_count": 18,
   "metadata": {},
   "outputs": [
    {
     "data": {
      "text/plain": [
       "BENIGN                      2271320\n",
       "DoS Hulk                     230124\n",
       "PortScan                     158804\n",
       "DDoS                         128025\n",
       "DoS GoldenEye                 10293\n",
       "FTP-Patator                    7935\n",
       "SSH-Patator                    5897\n",
       "DoS slowloris                  5796\n",
       "DoS Slowhttptest               5499\n",
       "Bot                            1956\n",
       "Web Attack � Brute Force       1507\n",
       "Web Attack � XSS                652\n",
       "Name: Label, dtype: int64"
      ]
     },
     "execution_count": 18,
     "metadata": {},
     "output_type": "execute_result"
    }
   ],
   "source": [
    "# There are only 11, 21, and 36 instances of Heartbleed, SQL injection and infiltration respectively. \n",
    "# Remove 'Heartbleed', 'Web attack Sql Injection', 'Infiltration' as it's negligible.\n",
    "\n",
    "dataset = dataset.replace(['Heartbleed', 'Web Attack � Sql Injection', 'Infiltration'], np.nan)\n",
    "dataset = dataset.dropna()\n",
    "dataset['Label'].value_counts()"
   ]
  },
  {
   "cell_type": "code",
   "execution_count": 19,
   "metadata": {},
   "outputs": [],
   "source": [
    "# Labelling Web Attack � Brute Force as Brute Force\n",
    "# labelling Web Attack � XSS as XSS\n",
    "\n",
    "dataset.loc[dataset.Label == 'Web Attack � Brute Force', ['Label']] = 'Brute Force'\n",
    "dataset.loc[dataset.Label == 'Web Attack � XSS', ['Label']] = 'XSS'"
   ]
  },
  {
   "cell_type": "code",
   "execution_count": 20,
   "metadata": {},
   "outputs": [],
   "source": [
    "# Creating a attack column, containing binary labels for normal and attack to apply binary classsifier\n",
    "\n",
    "dataset['Attack'] = np.where(dataset['Label'] == 'BENIGN','Normal' , 'Attack')"
   ]
  },
  {
   "cell_type": "code",
   "execution_count": 21,
   "metadata": {},
   "outputs": [
    {
     "data": {
      "text/plain": [
       "benign         2271320\n",
       "dos             251712\n",
       "probe           158804\n",
       "ddos            128025\n",
       "brute_force      13832\n",
       "web_attack        2159\n",
       "botnet            1956\n",
       "Name: Label_Category, dtype: int64"
      ]
     },
     "execution_count": 21,
     "metadata": {},
     "output_type": "execute_result"
    }
   ],
   "source": [
    "# Grouping attack labels in attack category as in dataset description for multi-class classifier\n",
    "\n",
    "attack_group = {'BENIGN': 'benign', \n",
    "                'DoS Hulk': 'dos',\n",
    "                'PortScan': 'probe', \n",
    "                'DDoS': 'ddos',\n",
    "                'DoS GoldenEye': 'dos', \n",
    "                'FTP-Patator': 'brute_force',\n",
    "                'SSH-Patator': 'brute_force', \n",
    "                'DoS slowloris': 'dos', \n",
    "                'DoS Slowhttptest': 'dos',\n",
    "                'Bot': 'botnet',\n",
    "                'Brute Force': 'web_attack', \n",
    "                'XSS': 'web_attack'}\n",
    "\n",
    "# Create grouped label column\n",
    "\n",
    "dataset['Label_Category'] = dataset['Label'].map(lambda x: attack_group[x])\n",
    "dataset['Label_Category'].value_counts()"
   ]
  },
  {
   "cell_type": "code",
   "execution_count": 22,
   "metadata": {},
   "outputs": [
    {
     "data": {
      "text/plain": [
       "Text(0.5, 1.0, 'Distribution of Attack Categories (Grouped)')"
      ]
     },
     "execution_count": 22,
     "metadata": {},
     "output_type": "execute_result"
    },
    {
     "data": {
      "image/png": "[encoded data removed]",
      "text/plain": [
       "<Figure size 432x288 with 1 Axes>"
      ]
     },
     "metadata": {
      "needs_background": "light"
     },
     "output_type": "display_data"
    }
   ],
   "source": [
    "# Plotting binary grouped column Attack\n",
    "\n",
    "train_attacks = dataset['Attack'].value_counts()\n",
    "train_attacks.plot(kind='barh', color='blue')\n",
    "plt.title('Distribution of Attack Categories (Grouped)')"
   ]
  },
  {
   "cell_type": "code",
   "execution_count": 23,
   "metadata": {},
   "outputs": [
    {
     "data": {
      "text/plain": [
       "Text(0.5, 1.0, 'Distribution of Attack Categories (Grouped)')"
      ]
     },
     "execution_count": 23,
     "metadata": {},
     "output_type": "execute_result"
    },
    {
     "data": {
      "image/png": "[encoded data removed]",
      "text/plain": [
       "<Figure size 432x288 with 1 Axes>"
      ]
     },
     "metadata": {
      "needs_background": "light"
     },
     "output_type": "display_data"
    }
   ],
   "source": [
    "# Plotting multi-class grouped column Label_Category\n",
    "\n",
    "train_attacks = dataset['Label_Category'].value_counts()\n",
    "train_attacks.plot(kind='barh', color='blue')\n",
    "plt.title('Distribution of Attack Categories (Grouped)')"
   ]
  },
  {
   "cell_type": "code",
   "execution_count": 24,
   "metadata": {},
   "outputs": [
    {
     "data": {
      "text/plain": [
       "Text(0.5, 1.0, 'Distribution of Attack Categories')"
      ]
     },
     "execution_count": 24,
     "metadata": {},
     "output_type": "execute_result"
    },
    {
     "data": {
      "image/png": "[encoded data removed]",
      "text/plain": [
       "<Figure size 432x288 with 1 Axes>"
      ]
     },
     "metadata": {
      "needs_background": "light"
     },
     "output_type": "display_data"
    }
   ],
   "source": [
    "# Plotting multi-label column Label\n",
    "\n",
    "train_attacks = dataset['Label'].value_counts()\n",
    "train_attacks.plot(kind='barh', color='blue')\n",
    "plt.title('Distribution of Attack Categories')"
   ]
  },
  {
   "cell_type": "code",
   "execution_count": 25,
   "metadata": {},
   "outputs": [
    {
     "name": "stdout",
     "output_type": "stream",
     "text": [
      "Total number of all attack classes : 12\n",
      "Total number of attack categories : 7\n"
     ]
    }
   ],
   "source": [
    "print('Total number of all attack classes :',len(dataset.Label.unique()))\n",
    "print('Total number of attack categories :',len(dataset.Label_Category.unique()))"
   ]
  },
  {
   "cell_type": "markdown",
   "metadata": {},
   "source": [
    "# Splitting the dataset"
   ]
  },
  {
   "cell_type": "markdown",
   "metadata": {},
   "source": [
    "Splitting dataset in 60:20:20 ratio, for training, testing and validation dataset. \n",
    "By stratifying with y label proportions of attacks remain the same throughout the 3 sets. "
   ]
  },
  {
   "cell_type": "code",
   "execution_count": 26,
   "metadata": {},
   "outputs": [],
   "source": [
    "# 3 Different labeling options\n",
    "attacks = ['Label', 'Label_Category', 'Attack']\n",
    "\n",
    "# xs=feature vectors, ys=labels\n",
    "xs = dataset.drop(attacks, axis=1)\n",
    "ys = dataset[attacks]\n",
    "\n",
    "# split dataset - stratified\n",
    "x_train, x_test, y_train, y_test = train_test_split(xs, ys, test_size=0.3, random_state=0, stratify=ys['Label'])"
   ]
  },
  {
   "cell_type": "markdown",
   "metadata": {},
   "source": [
    "# Removing the columns with single unique values as it has no contribution in classification"
   ]
  },
  {
   "cell_type": "code",
   "execution_count": 27,
   "metadata": {},
   "outputs": [
    {
     "data": {
      "text/plain": [
       "['Fwd_URG_Flags',\n",
       " 'Fwd_Header_Length',\n",
       " 'Fwd_Avg_Bytes_Bulk',\n",
       " 'Fwd_Avg_Packets_Bulk',\n",
       " 'Fwd_Avg_Bulk_Rate',\n",
       " 'Bwd_Avg_Bytes_Bulk',\n",
       " 'Bwd_Avg_Packets_Bulk',\n",
       " 'Bwd_Avg_Bulk_Rate']"
      ]
     },
     "execution_count": 27,
     "metadata": {},
     "output_type": "execute_result"
    }
   ],
   "source": [
    "column_names = np.array(list(x_train))\n",
    "to_drop = []\n",
    "for x in column_names:\n",
    "    size = x_train.groupby([x]).size()\n",
    "    # check for columns that only take one value\n",
    "    if (len(size.unique()) == 1):\n",
    "        to_drop.append(x)\n",
    "to_drop"
   ]
  },
  {
   "cell_type": "code",
   "execution_count": 28,
   "metadata": {},
   "outputs": [],
   "source": [
    "x_train = x_train.drop(to_drop, axis=1)\n",
    "x_test = x_test.drop(to_drop, axis=1)\n",
    "dataset_copy = dataset.drop(to_drop, axis=1)"
   ]
  },
  {
   "cell_type": "code",
   "execution_count": 29,
   "metadata": {},
   "outputs": [
    {
     "data": {
      "text/plain": [
       "(1979465, 69)"
      ]
     },
     "execution_count": 29,
     "metadata": {},
     "output_type": "execute_result"
    }
   ],
   "source": [
    "x_train.shape"
   ]
  },
  {
   "cell_type": "markdown",
   "metadata": {},
   "source": [
    "# Data Normalization"
   ]
  },
  {
   "cell_type": "markdown",
   "metadata": {},
   "source": [
    "Min-max normalization technique is used to normalize the numerical values in dataset."
   ]
  },
  {
   "cell_type": "code",
   "execution_count": 30,
   "metadata": {},
   "outputs": [],
   "source": [
    "# Normalise\n",
    "min_max_scaler = MinMaxScaler().fit(x_train)\n",
    "\n",
    "# Apply normalisation to dataset\n",
    "x_train = min_max_scaler.transform(x_train)\n",
    "x_test = min_max_scaler.transform(x_test)"
   ]
  },
  {
   "cell_type": "markdown",
   "metadata": {},
   "source": [
    "#  Feature Selection"
   ]
  },
  {
   "cell_type": "markdown",
   "metadata": {},
   "source": [
    "Selecting K-best features by using chi2 scoring function for features"
   ]
  },
  {
   "cell_type": "code",
   "execution_count": 31,
   "metadata": {},
   "outputs": [],
   "source": [
    "features = SelectKBest(score_func=chi2, k=x_train.shape[1])\n",
    "\n",
    "#fit features to the training dataset\n",
    "fit = features.fit(x_train, y_train.Label)"
   ]
  },
  {
   "cell_type": "code",
   "execution_count": 32,
   "metadata": {},
   "outputs": [],
   "source": [
    "# perform selectkbest with k=40\n",
    "\n",
    "features = SelectKBest(score_func=chi2, k=40)\n",
    "fit = features.fit(x_train, y_train.Label)\n",
    "\n",
    "x_train = fit.transform(x_train)\n",
    "x_test = fit.transform(x_test)"
   ]
  },
  {
   "cell_type": "code",
   "execution_count": 33,
   "metadata": {},
   "outputs": [],
   "source": [
    "new_features = dataset_copy.columns[features.get_support(indices=True)]"
   ]
  },
  {
   "cell_type": "code",
   "execution_count": 34,
   "metadata": {},
   "outputs": [
    {
     "name": "stdout",
     "output_type": "stream",
     "text": [
      "Number of features selected : 40\n"
     ]
    },
    {
     "data": {
      "text/plain": [
       "Index(['Destination_Port', 'Flow_Duration', 'Total_Fwd_Packets',\n",
       "       'Bwd_Packet_Length_Min', 'Bwd_Packet_Length_Mean',\n",
       "       'Bwd_Packet_Length_Std', 'Flow_Bytes_s', 'Flow_IAT_Std', 'Flow_IAT_Max',\n",
       "       'Flow_IAT_Min', 'Fwd_IAT_Total', 'Fwd_IAT_Mean', 'Fwd_IAT_Std',\n",
       "       'Fwd_IAT_Max', 'Fwd_IAT_Min', 'Bwd_IAT_Total', 'Bwd_IAT_Mean',\n",
       "       'Bwd_IAT_Std', 'Bwd_IAT_Max', 'Bwd_IAT_Min', 'Fwd_PSH_Flags',\n",
       "       'Bwd_PSH_Flags', 'Bwd_Packets_s', 'Packet_Length_Mean',\n",
       "       'Packet_Length_Std', 'Packet_Length_Variance', 'FIN_Flag_Count',\n",
       "       'SYN_Flag_Count', 'RST_Flag_Count', 'ACK_Flag_Count', 'URG_Flag_Count',\n",
       "       'CWE_Flag_Count', 'Avg_Fwd_Segment_Size', 'Init_Win_bytes_forward',\n",
       "       'Init_Win_bytes_backward', 'Active_Min', 'Idle_Mean', 'Idle_Std',\n",
       "       'Idle_Max', 'Idle_Min'],\n",
       "      dtype='object')"
      ]
     },
     "execution_count": 34,
     "metadata": {},
     "output_type": "execute_result"
    }
   ],
   "source": [
    "print('Number of features selected :',len(new_features))\n",
    "new_features"
   ]
  },
  {
   "cell_type": "code",
   "execution_count": 35,
   "metadata": {},
   "outputs": [],
   "source": [
    "attack = np.array(['BENIGN', 'Bot', 'Brute Force', 'DDoS', 'DoS GoldenEye', 'DoS Hulk', 'DoS Slowhttptest',\n",
    "                   'DoS slowloris', 'FTP-Patator', 'PortScan', 'SSH-Patator', 'XSS'])\n",
    "attack_groups = np.array(['benign', 'botnet', 'brute_force', 'ddos', 'dos', 'probe', 'web_attack'])"
   ]
  },
  {
   "cell_type": "code",
   "execution_count": null,
   "metadata": {},
   "outputs": [],
   "source": []
  },
  {
   "cell_type": "code",
   "execution_count": null,
   "metadata": {},
   "outputs": [],
   "source": []
  },
  {
   "cell_type": "code",
   "execution_count": null,
   "metadata": {},
   "outputs": [],
   "source": []
  },
  {
   "cell_type": "markdown",
   "metadata": {},
   "source": [
    "# Applying Machine Learning classifier models"
   ]
  },
  {
   "cell_type": "markdown",
   "metadata": {},
   "source": [
    "Each machine learning algorithm is applied in three different categories :\n",
    "\n",
    "1. On all attack labels (12).\n",
    "2. Binary Classifier (2).\n",
    "3. Multi-class Classifier (7).\n",
    "\n",
    "And then evaluate performance of each algorithm by confusion matrix plot.\n",
    "Evaluate Accuracy, Precision, Recall, F1-score."
   ]
  },
  {
   "cell_type": "markdown",
   "metadata": {},
   "source": [
    "# 1. Support Vector Machine (SVM)"
   ]
  },
  {
   "cell_type": "code",
   "execution_count": 36,
   "metadata": {},
   "outputs": [],
   "source": [
    "classifier = LinearSVC()"
   ]
  },
  {
   "cell_type": "markdown",
   "metadata": {},
   "source": [
    "1. a) On all attack labels."
   ]
  },
  {
   "cell_type": "code",
   "execution_count": 37,
   "metadata": {},
   "outputs": [
    {
     "name": "stdout",
     "output_type": "stream",
     "text": [
      "Model Training Time is :  475.13808488845825\n"
     ]
    }
   ],
   "source": [
    "# fit the model\n",
    "\n",
    "start = time.time()\n",
    "classifier.fit(x_train, y_train.Label)\n",
    "end = time.time()\n",
    "training_time = end - start\n",
    "\n",
    "print(\"Model Training Time is : \", training_time)"
   ]
  },
  {
   "cell_type": "code",
   "execution_count": 38,
   "metadata": {},
   "outputs": [
    {
     "name": "stdout",
     "output_type": "stream",
     "text": [
      "Model Testing Time is :  0.1943984031677246\n"
     ]
    }
   ],
   "source": [
    "# predicting test results of SVM classifier on all labels.\n",
    "\n",
    "start = time.time()\n",
    "y_predict = classifier.predict(x_test)\n",
    "end = time.time()\n",
    "testing_time = end  - start\n",
    "\n",
    "print(\"Model Testing Time is : \", testing_time)"
   ]
  },
  {
   "cell_type": "code",
   "execution_count": 39,
   "metadata": {},
   "outputs": [
    {
     "name": "stdout",
     "output_type": "stream",
     "text": [
      "Plotting Confusion Matrix of SVM classifier on all Labels \n"
     ]
    },
    {
     "data": {
      "image/png": "[encoded data removed]",
      "text/plain": [
       "<Figure size 432x288 with 2 Axes>"
      ]
     },
     "metadata": {
      "needs_background": "light"
     },
     "output_type": "display_data"
    },
    {
     "data": {
      "text/html": [
       "<div>\n",
       "<style scoped>\n",
       "    .dataframe tbody tr th:only-of-type {\n",
       "        vertical-align: middle;\n",
       "    }\n",
       "\n",
       "    .dataframe tbody tr th {\n",
       "        vertical-align: top;\n",
       "    }\n",
       "\n",
       "    .dataframe thead th {\n",
       "        text-align: right;\n",
       "    }\n",
       "</style>\n",
       "<table border=\"1\" class=\"dataframe\">\n",
       "  <thead>\n",
       "    <tr style=\"text-align: right;\">\n",
       "      <th>Predicted attacks</th>\n",
       "      <th>BENIGN</th>\n",
       "      <th>Bot</th>\n",
       "      <th>DDoS</th>\n",
       "      <th>DoS GoldenEye</th>\n",
       "      <th>DoS Hulk</th>\n",
       "      <th>DoS Slowhttptest</th>\n",
       "      <th>DoS slowloris</th>\n",
       "      <th>FTP-Patator</th>\n",
       "      <th>PortScan</th>\n",
       "      <th>XSS</th>\n",
       "    </tr>\n",
       "    <tr>\n",
       "      <th>Actual Attacks</th>\n",
       "      <th></th>\n",
       "      <th></th>\n",
       "      <th></th>\n",
       "      <th></th>\n",
       "      <th></th>\n",
       "      <th></th>\n",
       "      <th></th>\n",
       "      <th></th>\n",
       "      <th></th>\n",
       "      <th></th>\n",
       "    </tr>\n",
       "  </thead>\n",
       "  <tbody>\n",
       "    <tr>\n",
       "      <th>BENIGN</th>\n",
       "      <td>662092</td>\n",
       "      <td>21</td>\n",
       "      <td>87</td>\n",
       "      <td>68</td>\n",
       "      <td>1760</td>\n",
       "      <td>179</td>\n",
       "      <td>15</td>\n",
       "      <td>115</td>\n",
       "      <td>17026</td>\n",
       "      <td>33</td>\n",
       "    </tr>\n",
       "    <tr>\n",
       "      <th>Bot</th>\n",
       "      <td>452</td>\n",
       "      <td>0</td>\n",
       "      <td>0</td>\n",
       "      <td>0</td>\n",
       "      <td>0</td>\n",
       "      <td>0</td>\n",
       "      <td>0</td>\n",
       "      <td>0</td>\n",
       "      <td>135</td>\n",
       "      <td>0</td>\n",
       "    </tr>\n",
       "    <tr>\n",
       "      <th>Brute Force</th>\n",
       "      <td>452</td>\n",
       "      <td>0</td>\n",
       "      <td>0</td>\n",
       "      <td>0</td>\n",
       "      <td>0</td>\n",
       "      <td>0</td>\n",
       "      <td>0</td>\n",
       "      <td>0</td>\n",
       "      <td>0</td>\n",
       "      <td>0</td>\n",
       "    </tr>\n",
       "    <tr>\n",
       "      <th>DDoS</th>\n",
       "      <td>4652</td>\n",
       "      <td>0</td>\n",
       "      <td>33073</td>\n",
       "      <td>0</td>\n",
       "      <td>675</td>\n",
       "      <td>0</td>\n",
       "      <td>0</td>\n",
       "      <td>0</td>\n",
       "      <td>8</td>\n",
       "      <td>0</td>\n",
       "    </tr>\n",
       "    <tr>\n",
       "      <th>DoS GoldenEye</th>\n",
       "      <td>419</td>\n",
       "      <td>0</td>\n",
       "      <td>0</td>\n",
       "      <td>2668</td>\n",
       "      <td>0</td>\n",
       "      <td>0</td>\n",
       "      <td>0</td>\n",
       "      <td>0</td>\n",
       "      <td>0</td>\n",
       "      <td>1</td>\n",
       "    </tr>\n",
       "    <tr>\n",
       "      <th>DoS Hulk</th>\n",
       "      <td>12077</td>\n",
       "      <td>75</td>\n",
       "      <td>304</td>\n",
       "      <td>1</td>\n",
       "      <td>56577</td>\n",
       "      <td>1</td>\n",
       "      <td>0</td>\n",
       "      <td>0</td>\n",
       "      <td>2</td>\n",
       "      <td>0</td>\n",
       "    </tr>\n",
       "    <tr>\n",
       "      <th>DoS Slowhttptest</th>\n",
       "      <td>440</td>\n",
       "      <td>0</td>\n",
       "      <td>26</td>\n",
       "      <td>0</td>\n",
       "      <td>0</td>\n",
       "      <td>1151</td>\n",
       "      <td>32</td>\n",
       "      <td>0</td>\n",
       "      <td>1</td>\n",
       "      <td>0</td>\n",
       "    </tr>\n",
       "    <tr>\n",
       "      <th>DoS slowloris</th>\n",
       "      <td>848</td>\n",
       "      <td>0</td>\n",
       "      <td>0</td>\n",
       "      <td>0</td>\n",
       "      <td>0</td>\n",
       "      <td>22</td>\n",
       "      <td>867</td>\n",
       "      <td>0</td>\n",
       "      <td>2</td>\n",
       "      <td>0</td>\n",
       "    </tr>\n",
       "    <tr>\n",
       "      <th>FTP-Patator</th>\n",
       "      <td>1186</td>\n",
       "      <td>0</td>\n",
       "      <td>0</td>\n",
       "      <td>0</td>\n",
       "      <td>0</td>\n",
       "      <td>0</td>\n",
       "      <td>0</td>\n",
       "      <td>1194</td>\n",
       "      <td>0</td>\n",
       "      <td>0</td>\n",
       "    </tr>\n",
       "    <tr>\n",
       "      <th>PortScan</th>\n",
       "      <td>741</td>\n",
       "      <td>2</td>\n",
       "      <td>0</td>\n",
       "      <td>4</td>\n",
       "      <td>22</td>\n",
       "      <td>0</td>\n",
       "      <td>4</td>\n",
       "      <td>0</td>\n",
       "      <td>46868</td>\n",
       "      <td>0</td>\n",
       "    </tr>\n",
       "    <tr>\n",
       "      <th>SSH-Patator</th>\n",
       "      <td>1764</td>\n",
       "      <td>0</td>\n",
       "      <td>0</td>\n",
       "      <td>0</td>\n",
       "      <td>0</td>\n",
       "      <td>0</td>\n",
       "      <td>0</td>\n",
       "      <td>0</td>\n",
       "      <td>5</td>\n",
       "      <td>0</td>\n",
       "    </tr>\n",
       "    <tr>\n",
       "      <th>XSS</th>\n",
       "      <td>196</td>\n",
       "      <td>0</td>\n",
       "      <td>0</td>\n",
       "      <td>0</td>\n",
       "      <td>0</td>\n",
       "      <td>0</td>\n",
       "      <td>0</td>\n",
       "      <td>0</td>\n",
       "      <td>0</td>\n",
       "      <td>0</td>\n",
       "    </tr>\n",
       "  </tbody>\n",
       "</table>\n",
       "</div>"
      ],
      "text/plain": [
       "Predicted attacks  BENIGN  Bot   DDoS  DoS GoldenEye  DoS Hulk  \\\n",
       "Actual Attacks                                                   \n",
       "BENIGN             662092   21     87             68      1760   \n",
       "Bot                   452    0      0              0         0   \n",
       "Brute Force           452    0      0              0         0   \n",
       "DDoS                 4652    0  33073              0       675   \n",
       "DoS GoldenEye         419    0      0           2668         0   \n",
       "DoS Hulk            12077   75    304              1     56577   \n",
       "DoS Slowhttptest      440    0     26              0         0   \n",
       "DoS slowloris         848    0      0              0         0   \n",
       "FTP-Patator          1186    0      0              0         0   \n",
       "PortScan              741    2      0              4        22   \n",
       "SSH-Patator          1764    0      0              0         0   \n",
       "XSS                   196    0      0              0         0   \n",
       "\n",
       "Predicted attacks  DoS Slowhttptest  DoS slowloris  FTP-Patator  PortScan  XSS  \n",
       "Actual Attacks                                                                  \n",
       "BENIGN                          179             15          115     17026   33  \n",
       "Bot                               0              0            0       135    0  \n",
       "Brute Force                       0              0            0         0    0  \n",
       "DDoS                              0              0            0         8    0  \n",
       "DoS GoldenEye                     0              0            0         0    1  \n",
       "DoS Hulk                          1              0            0         2    0  \n",
       "DoS Slowhttptest               1151             32            0         1    0  \n",
       "DoS slowloris                    22            867            0         2    0  \n",
       "FTP-Patator                       0              0         1194         0    0  \n",
       "PortScan                          0              4            0     46868    0  \n",
       "SSH-Patator                       0              0            0         5    0  \n",
       "XSS                               0              0            0         0    0  "
      ]
     },
     "execution_count": 39,
     "metadata": {},
     "output_type": "execute_result"
    }
   ],
   "source": [
    "# Creating confusion matrix for SVM classifier on all labels.\n",
    "\n",
    "confusion_svm_1 = pd.crosstab(y_test.Label, y_predict, rownames=['Actual Attacks'], colnames=['Predicted attacks'])\n",
    "\n",
    "print(\"Plotting Confusion Matrix of SVM classifier on all Labels \")\n",
    "\n",
    "sn.heatmap(confusion_svm_1, annot=True, cmap= 'Blues', fmt='d')\n",
    "plt.show()\n",
    "confusion_svm_1"
   ]
  },
  {
   "cell_type": "code",
   "execution_count": 40,
   "metadata": {},
   "outputs": [
    {
     "name": "stderr",
     "output_type": "stream",
     "text": [
      "C:\\Users\\user\\anaconda3\\lib\\site-packages\\sklearn\\metrics\\_classification.py:1245: UndefinedMetricWarning: Precision and F-score are ill-defined and being set to 0.0 in labels with no predicted samples. Use `zero_division` parameter to control this behavior.\n",
      "  _warn_prf(average, modifier, msg_start, len(result))\n"
     ]
    },
    {
     "data": {
      "text/html": [
       "<div>\n",
       "<style scoped>\n",
       "    .dataframe tbody tr th:only-of-type {\n",
       "        vertical-align: middle;\n",
       "    }\n",
       "\n",
       "    .dataframe tbody tr th {\n",
       "        vertical-align: top;\n",
       "    }\n",
       "\n",
       "    .dataframe thead th {\n",
       "        text-align: right;\n",
       "    }\n",
       "</style>\n",
       "<table border=\"1\" class=\"dataframe\">\n",
       "  <thead>\n",
       "    <tr style=\"text-align: right;\">\n",
       "      <th></th>\n",
       "      <th>attack</th>\n",
       "      <th>precision</th>\n",
       "      <th>recall</th>\n",
       "      <th>fscore</th>\n",
       "    </tr>\n",
       "  </thead>\n",
       "  <tbody>\n",
       "    <tr>\n",
       "      <th>0</th>\n",
       "      <td>BENIGN</td>\n",
       "      <td>0.966108</td>\n",
       "      <td>0.971670</td>\n",
       "      <td>0.968881</td>\n",
       "    </tr>\n",
       "    <tr>\n",
       "      <th>1</th>\n",
       "      <td>Bot</td>\n",
       "      <td>0.000000</td>\n",
       "      <td>0.000000</td>\n",
       "      <td>0.000000</td>\n",
       "    </tr>\n",
       "    <tr>\n",
       "      <th>2</th>\n",
       "      <td>Brute Force</td>\n",
       "      <td>0.000000</td>\n",
       "      <td>0.000000</td>\n",
       "      <td>0.000000</td>\n",
       "    </tr>\n",
       "    <tr>\n",
       "      <th>3</th>\n",
       "      <td>DDoS</td>\n",
       "      <td>0.987549</td>\n",
       "      <td>0.861097</td>\n",
       "      <td>0.919998</td>\n",
       "    </tr>\n",
       "    <tr>\n",
       "      <th>4</th>\n",
       "      <td>DoS GoldenEye</td>\n",
       "      <td>0.973367</td>\n",
       "      <td>0.863990</td>\n",
       "      <td>0.915423</td>\n",
       "    </tr>\n",
       "    <tr>\n",
       "      <th>5</th>\n",
       "      <td>DoS Hulk</td>\n",
       "      <td>0.958380</td>\n",
       "      <td>0.819517</td>\n",
       "      <td>0.883526</td>\n",
       "    </tr>\n",
       "    <tr>\n",
       "      <th>6</th>\n",
       "      <td>DoS Slowhttptest</td>\n",
       "      <td>0.850702</td>\n",
       "      <td>0.697576</td>\n",
       "      <td>0.766567</td>\n",
       "    </tr>\n",
       "    <tr>\n",
       "      <th>7</th>\n",
       "      <td>DoS slowloris</td>\n",
       "      <td>0.944444</td>\n",
       "      <td>0.498562</td>\n",
       "      <td>0.652616</td>\n",
       "    </tr>\n",
       "    <tr>\n",
       "      <th>8</th>\n",
       "      <td>FTP-Patator</td>\n",
       "      <td>0.912147</td>\n",
       "      <td>0.501681</td>\n",
       "      <td>0.647330</td>\n",
       "    </tr>\n",
       "    <tr>\n",
       "      <th>9</th>\n",
       "      <td>PortScan</td>\n",
       "      <td>0.731775</td>\n",
       "      <td>0.983774</td>\n",
       "      <td>0.839267</td>\n",
       "    </tr>\n",
       "    <tr>\n",
       "      <th>10</th>\n",
       "      <td>SSH-Patator</td>\n",
       "      <td>0.000000</td>\n",
       "      <td>0.000000</td>\n",
       "      <td>0.000000</td>\n",
       "    </tr>\n",
       "    <tr>\n",
       "      <th>11</th>\n",
       "      <td>XSS</td>\n",
       "      <td>0.000000</td>\n",
       "      <td>0.000000</td>\n",
       "      <td>0.000000</td>\n",
       "    </tr>\n",
       "  </tbody>\n",
       "</table>\n",
       "</div>"
      ],
      "text/plain": [
       "              attack  precision    recall    fscore\n",
       "0             BENIGN   0.966108  0.971670  0.968881\n",
       "1                Bot   0.000000  0.000000  0.000000\n",
       "2        Brute Force   0.000000  0.000000  0.000000\n",
       "3               DDoS   0.987549  0.861097  0.919998\n",
       "4      DoS GoldenEye   0.973367  0.863990  0.915423\n",
       "5           DoS Hulk   0.958380  0.819517  0.883526\n",
       "6   DoS Slowhttptest   0.850702  0.697576  0.766567\n",
       "7      DoS slowloris   0.944444  0.498562  0.652616\n",
       "8        FTP-Patator   0.912147  0.501681  0.647330\n",
       "9           PortScan   0.731775  0.983774  0.839267\n",
       "10       SSH-Patator   0.000000  0.000000  0.000000\n",
       "11               XSS   0.000000  0.000000  0.000000"
      ]
     },
     "execution_count": 40,
     "metadata": {},
     "output_type": "execute_result"
    }
   ],
   "source": [
    "# Precision,Recall,F1-score for SVM classifier on all labels.\n",
    "\n",
    "precision, recall, fscore, support = score(y_test.Label, y_predict)\n",
    "\n",
    "d = {'attack': attack, 'precision': precision, 'recall' : recall, 'fscore': fscore}\n",
    "results = pd.DataFrame(data=d)\n",
    "results"
   ]
  },
  {
   "cell_type": "code",
   "execution_count": 41,
   "metadata": {},
   "outputs": [
    {
     "name": "stderr",
     "output_type": "stream",
     "text": [
      "C:\\Users\\user\\anaconda3\\lib\\site-packages\\sklearn\\metrics\\_classification.py:1245: UndefinedMetricWarning: Precision and F-score are ill-defined and being set to 0.0 in labels with no predicted samples. Use `zero_division` parameter to control this behavior.\n",
      "  _warn_prf(average, modifier, msg_start, len(result))\n"
     ]
    },
    {
     "name": "stdout",
     "output_type": "stream",
     "text": [
      "Accuracy of SVM classifier on all labels :  0.9483074652587455\n"
     ]
    }
   ],
   "source": [
    "# Average Accuracy,Precision,Recall,F1-score for SVM classifier on all labels.\n",
    "\n",
    "precision_svm_1, recall_svm_1, fscore_svm_1, support = score(y_test.Label, y_predict, average='macro')\n",
    "accuracy_svm_1 = accuracy_score(y_test.Label, y_predict)\n",
    "print(\"Accuracy of SVM classifier on all labels : \", accuracy_svm_1)"
   ]
  },
  {
   "cell_type": "code",
   "execution_count": null,
   "metadata": {},
   "outputs": [],
   "source": []
  },
  {
   "cell_type": "markdown",
   "metadata": {},
   "source": [
    "1. b) Binary Classifier."
   ]
  },
  {
   "cell_type": "code",
   "execution_count": 42,
   "metadata": {},
   "outputs": [
    {
     "name": "stdout",
     "output_type": "stream",
     "text": [
      "Model Training Time is :  272.09957218170166\n"
     ]
    }
   ],
   "source": [
    "# fit the model\n",
    "\n",
    "start = time.time()\n",
    "classifier.fit(x_train, y_train.Attack)\n",
    "end = time.time()\n",
    "training_time = end - start\n",
    "\n",
    "print(\"Model Training Time is : \", training_time)"
   ]
  },
  {
   "cell_type": "code",
   "execution_count": 43,
   "metadata": {},
   "outputs": [
    {
     "name": "stdout",
     "output_type": "stream",
     "text": [
      "Model Testing Time is :  0.14150285720825195\n"
     ]
    }
   ],
   "source": [
    "# predicting test results of SVM classifier on binary labels.\n",
    "\n",
    "start = time.time()\n",
    "y_predict = classifier.predict(x_test)\n",
    "end = time.time()\n",
    "testing_time = end  - start\n",
    "\n",
    "print(\"Model Testing Time is : \", testing_time)"
   ]
  },
  {
   "cell_type": "code",
   "execution_count": 44,
   "metadata": {},
   "outputs": [
    {
     "name": "stdout",
     "output_type": "stream",
     "text": [
      "Plotting Confusion Matrix of SVM classifier on binary Labels \n"
     ]
    },
    {
     "data": {
      "image/png": "[encoded data removed]",
      "text/plain": [
       "<Figure size 432x288 with 2 Axes>"
      ]
     },
     "metadata": {
      "needs_background": "light"
     },
     "output_type": "display_data"
    },
    {
     "data": {
      "text/html": [
       "<div>\n",
       "<style scoped>\n",
       "    .dataframe tbody tr th:only-of-type {\n",
       "        vertical-align: middle;\n",
       "    }\n",
       "\n",
       "    .dataframe tbody tr th {\n",
       "        vertical-align: top;\n",
       "    }\n",
       "\n",
       "    .dataframe thead th {\n",
       "        text-align: right;\n",
       "    }\n",
       "</style>\n",
       "<table border=\"1\" class=\"dataframe\">\n",
       "  <thead>\n",
       "    <tr style=\"text-align: right;\">\n",
       "      <th>Predicted attacks</th>\n",
       "      <th>Attack</th>\n",
       "      <th>Normal</th>\n",
       "    </tr>\n",
       "    <tr>\n",
       "      <th>Actual Attacks</th>\n",
       "      <th></th>\n",
       "      <th></th>\n",
       "    </tr>\n",
       "  </thead>\n",
       "  <tbody>\n",
       "    <tr>\n",
       "      <th>Attack</th>\n",
       "      <td>129956</td>\n",
       "      <td>36991</td>\n",
       "    </tr>\n",
       "    <tr>\n",
       "      <th>Normal</th>\n",
       "      <td>24720</td>\n",
       "      <td>656676</td>\n",
       "    </tr>\n",
       "  </tbody>\n",
       "</table>\n",
       "</div>"
      ],
      "text/plain": [
       "Predicted attacks  Attack  Normal\n",
       "Actual Attacks                   \n",
       "Attack             129956   36991\n",
       "Normal              24720  656676"
      ]
     },
     "execution_count": 44,
     "metadata": {},
     "output_type": "execute_result"
    }
   ],
   "source": [
    "# Creating confusion matrix for SVM classifier on binary labels.\n",
    "\n",
    "confusion_svm_2 = pd.crosstab(y_test.Attack, y_predict, rownames=['Actual Attacks'], colnames=['Predicted attacks'])\n",
    "\n",
    "print(\"Plotting Confusion Matrix of SVM classifier on binary Labels \")\n",
    "\n",
    "sn.heatmap(confusion_svm_2, annot=True, cmap= 'Blues', fmt='d')\n",
    "plt.show()\n",
    "confusion_svm_2"
   ]
  },
  {
   "cell_type": "code",
   "execution_count": 45,
   "metadata": {},
   "outputs": [
    {
     "data": {
      "text/html": [
       "<div>\n",
       "<style scoped>\n",
       "    .dataframe tbody tr th:only-of-type {\n",
       "        vertical-align: middle;\n",
       "    }\n",
       "\n",
       "    .dataframe tbody tr th {\n",
       "        vertical-align: top;\n",
       "    }\n",
       "\n",
       "    .dataframe thead th {\n",
       "        text-align: right;\n",
       "    }\n",
       "</style>\n",
       "<table border=\"1\" class=\"dataframe\">\n",
       "  <thead>\n",
       "    <tr style=\"text-align: right;\">\n",
       "      <th></th>\n",
       "      <th>attack</th>\n",
       "      <th>precision</th>\n",
       "      <th>recall</th>\n",
       "      <th>fscore</th>\n",
       "    </tr>\n",
       "  </thead>\n",
       "  <tbody>\n",
       "    <tr>\n",
       "      <th>0</th>\n",
       "      <td>0</td>\n",
       "      <td>0.840182</td>\n",
       "      <td>0.778427</td>\n",
       "      <td>0.808126</td>\n",
       "    </tr>\n",
       "    <tr>\n",
       "      <th>1</th>\n",
       "      <td>1</td>\n",
       "      <td>0.946673</td>\n",
       "      <td>0.963722</td>\n",
       "      <td>0.955121</td>\n",
       "    </tr>\n",
       "  </tbody>\n",
       "</table>\n",
       "</div>"
      ],
      "text/plain": [
       "   attack  precision    recall    fscore\n",
       "0       0   0.840182  0.778427  0.808126\n",
       "1       1   0.946673  0.963722  0.955121"
      ]
     },
     "execution_count": 45,
     "metadata": {},
     "output_type": "execute_result"
    }
   ],
   "source": [
    "# Precision,Recall,F1-score for SVM classifier on binary labels.\n",
    "\n",
    "precision, recall, fscore, support = score(y_test.Attack, y_predict)\n",
    "d = {'attack': [0,1], 'precision': precision, 'recall' : recall, 'fscore': fscore}\n",
    "results = pd.DataFrame(data=d)\n",
    "results"
   ]
  },
  {
   "cell_type": "code",
   "execution_count": 46,
   "metadata": {},
   "outputs": [
    {
     "name": "stdout",
     "output_type": "stream",
     "text": [
      "Accuracy of SVM classifier on binary labels :  0.9272570175035334\n"
     ]
    }
   ],
   "source": [
    "# Average Accuracy,Precision,Recall,F1-score for SVM classifier on binary labels.\n",
    "\n",
    "precision_svm_2, recall_svm_2, fscore_svm_2, n = score(y_test.Attack, y_predict, average='macro')\n",
    "accuracy_svm_2 = accuracy_score(y_test.Attack, y_predict)\n",
    "print(\"Accuracy of SVM classifier on binary labels : \", accuracy_svm_2)"
   ]
  },
  {
   "cell_type": "code",
   "execution_count": null,
   "metadata": {},
   "outputs": [],
   "source": []
  },
  {
   "cell_type": "markdown",
   "metadata": {},
   "source": [
    "1. c) Multi-class Classifier."
   ]
  },
  {
   "cell_type": "code",
   "execution_count": 47,
   "metadata": {},
   "outputs": [
    {
     "name": "stdout",
     "output_type": "stream",
     "text": [
      "Model Training Time is :  421.0585870742798\n"
     ]
    }
   ],
   "source": [
    "# fit the model\n",
    "\n",
    "start = time.time()\n",
    "classifier.fit(x_train, y_train.Label_Category)\n",
    "end = time.time()\n",
    "training_time = end - start\n",
    "\n",
    "print(\"Model Training Time is : \", training_time)"
   ]
  },
  {
   "cell_type": "code",
   "execution_count": 48,
   "metadata": {},
   "outputs": [
    {
     "name": "stdout",
     "output_type": "stream",
     "text": [
      "Model Testing Time is :  0.14888381958007812\n"
     ]
    }
   ],
   "source": [
    "# predicting test results of SVM classifier on multi-class labels.\n",
    "\n",
    "start = time.time()\n",
    "y_predict = classifier.predict(x_test)\n",
    "end = time.time()\n",
    "testing_time = end  - start\n",
    "\n",
    "print(\"Model Testing Time is : \", testing_time)"
   ]
  },
  {
   "cell_type": "code",
   "execution_count": 49,
   "metadata": {},
   "outputs": [
    {
     "name": "stdout",
     "output_type": "stream",
     "text": [
      "Plotting Confusion Matrix of SVM classifier on multi-class Labels \n"
     ]
    },
    {
     "data": {
      "image/png": "[encoded data removed]",
      "text/plain": [
       "<Figure size 432x288 with 2 Axes>"
      ]
     },
     "metadata": {
      "needs_background": "light"
     },
     "output_type": "display_data"
    },
    {
     "data": {
      "text/html": [
       "<div>\n",
       "<style scoped>\n",
       "    .dataframe tbody tr th:only-of-type {\n",
       "        vertical-align: middle;\n",
       "    }\n",
       "\n",
       "    .dataframe tbody tr th {\n",
       "        vertical-align: top;\n",
       "    }\n",
       "\n",
       "    .dataframe thead th {\n",
       "        text-align: right;\n",
       "    }\n",
       "</style>\n",
       "<table border=\"1\" class=\"dataframe\">\n",
       "  <thead>\n",
       "    <tr style=\"text-align: right;\">\n",
       "      <th>Predicted attacks</th>\n",
       "      <th>benign</th>\n",
       "      <th>botnet</th>\n",
       "      <th>brute_force</th>\n",
       "      <th>ddos</th>\n",
       "      <th>dos</th>\n",
       "      <th>probe</th>\n",
       "      <th>web_attack</th>\n",
       "    </tr>\n",
       "    <tr>\n",
       "      <th>Actual Attacks</th>\n",
       "      <th></th>\n",
       "      <th></th>\n",
       "      <th></th>\n",
       "      <th></th>\n",
       "      <th></th>\n",
       "      <th></th>\n",
       "      <th></th>\n",
       "    </tr>\n",
       "  </thead>\n",
       "  <tbody>\n",
       "    <tr>\n",
       "      <th>benign</th>\n",
       "      <td>661950</td>\n",
       "      <td>36</td>\n",
       "      <td>2</td>\n",
       "      <td>82</td>\n",
       "      <td>2293</td>\n",
       "      <td>17027</td>\n",
       "      <td>6</td>\n",
       "    </tr>\n",
       "    <tr>\n",
       "      <th>botnet</th>\n",
       "      <td>452</td>\n",
       "      <td>0</td>\n",
       "      <td>0</td>\n",
       "      <td>0</td>\n",
       "      <td>0</td>\n",
       "      <td>135</td>\n",
       "      <td>0</td>\n",
       "    </tr>\n",
       "    <tr>\n",
       "      <th>brute_force</th>\n",
       "      <td>2915</td>\n",
       "      <td>0</td>\n",
       "      <td>1203</td>\n",
       "      <td>0</td>\n",
       "      <td>26</td>\n",
       "      <td>5</td>\n",
       "      <td>0</td>\n",
       "    </tr>\n",
       "    <tr>\n",
       "      <th>ddos</th>\n",
       "      <td>4647</td>\n",
       "      <td>0</td>\n",
       "      <td>0</td>\n",
       "      <td>32652</td>\n",
       "      <td>1101</td>\n",
       "      <td>8</td>\n",
       "      <td>0</td>\n",
       "    </tr>\n",
       "    <tr>\n",
       "      <th>dos</th>\n",
       "      <td>16669</td>\n",
       "      <td>64</td>\n",
       "      <td>0</td>\n",
       "      <td>359</td>\n",
       "      <td>58417</td>\n",
       "      <td>5</td>\n",
       "      <td>0</td>\n",
       "    </tr>\n",
       "    <tr>\n",
       "      <th>probe</th>\n",
       "      <td>739</td>\n",
       "      <td>0</td>\n",
       "      <td>0</td>\n",
       "      <td>0</td>\n",
       "      <td>30</td>\n",
       "      <td>46872</td>\n",
       "      <td>0</td>\n",
       "    </tr>\n",
       "    <tr>\n",
       "      <th>web_attack</th>\n",
       "      <td>648</td>\n",
       "      <td>0</td>\n",
       "      <td>0</td>\n",
       "      <td>0</td>\n",
       "      <td>0</td>\n",
       "      <td>0</td>\n",
       "      <td>0</td>\n",
       "    </tr>\n",
       "  </tbody>\n",
       "</table>\n",
       "</div>"
      ],
      "text/plain": [
       "Predicted attacks  benign  botnet  brute_force   ddos    dos  probe  \\\n",
       "Actual Attacks                                                        \n",
       "benign             661950      36            2     82   2293  17027   \n",
       "botnet                452       0            0      0      0    135   \n",
       "brute_force          2915       0         1203      0     26      5   \n",
       "ddos                 4647       0            0  32652   1101      8   \n",
       "dos                 16669      64            0    359  58417      5   \n",
       "probe                 739       0            0      0     30  46872   \n",
       "web_attack            648       0            0      0      0      0   \n",
       "\n",
       "Predicted attacks  web_attack  \n",
       "Actual Attacks                 \n",
       "benign                      6  \n",
       "botnet                      0  \n",
       "brute_force                 0  \n",
       "ddos                        0  \n",
       "dos                         0  \n",
       "probe                       0  \n",
       "web_attack                  0  "
      ]
     },
     "execution_count": 49,
     "metadata": {},
     "output_type": "execute_result"
    }
   ],
   "source": [
    "# Creating confusion matrix for SVM classifier on multi-class labels.\n",
    "\n",
    "confusion_svm_3 = pd.crosstab(y_test.Label_Category, y_predict, rownames=['Actual Attacks'], colnames=['Predicted attacks'])\n",
    "\n",
    "print(\"Plotting Confusion Matrix of SVM classifier on multi-class Labels \")\n",
    "\n",
    "sn.heatmap(confusion_svm_3, annot=True, cmap= 'Blues', fmt='d')\n",
    "plt.show()\n",
    "confusion_svm_3"
   ]
  },
  {
   "cell_type": "code",
   "execution_count": 50,
   "metadata": {},
   "outputs": [
    {
     "data": {
      "text/html": [
       "<div>\n",
       "<style scoped>\n",
       "    .dataframe tbody tr th:only-of-type {\n",
       "        vertical-align: middle;\n",
       "    }\n",
       "\n",
       "    .dataframe tbody tr th {\n",
       "        vertical-align: top;\n",
       "    }\n",
       "\n",
       "    .dataframe thead th {\n",
       "        text-align: right;\n",
       "    }\n",
       "</style>\n",
       "<table border=\"1\" class=\"dataframe\">\n",
       "  <thead>\n",
       "    <tr style=\"text-align: right;\">\n",
       "      <th></th>\n",
       "      <th>attack</th>\n",
       "      <th>precision</th>\n",
       "      <th>recall</th>\n",
       "      <th>fscore</th>\n",
       "    </tr>\n",
       "  </thead>\n",
       "  <tbody>\n",
       "    <tr>\n",
       "      <th>0</th>\n",
       "      <td>benign</td>\n",
       "      <td>0.962109</td>\n",
       "      <td>0.971462</td>\n",
       "      <td>0.966762</td>\n",
       "    </tr>\n",
       "    <tr>\n",
       "      <th>1</th>\n",
       "      <td>botnet</td>\n",
       "      <td>0.000000</td>\n",
       "      <td>0.000000</td>\n",
       "      <td>0.000000</td>\n",
       "    </tr>\n",
       "    <tr>\n",
       "      <th>2</th>\n",
       "      <td>brute_force</td>\n",
       "      <td>0.998340</td>\n",
       "      <td>0.289949</td>\n",
       "      <td>0.449384</td>\n",
       "    </tr>\n",
       "    <tr>\n",
       "      <th>3</th>\n",
       "      <td>ddos</td>\n",
       "      <td>0.986674</td>\n",
       "      <td>0.850135</td>\n",
       "      <td>0.913330</td>\n",
       "    </tr>\n",
       "    <tr>\n",
       "      <th>4</th>\n",
       "      <td>dos</td>\n",
       "      <td>0.944235</td>\n",
       "      <td>0.773592</td>\n",
       "      <td>0.850438</td>\n",
       "    </tr>\n",
       "    <tr>\n",
       "      <th>5</th>\n",
       "      <td>probe</td>\n",
       "      <td>0.731780</td>\n",
       "      <td>0.983858</td>\n",
       "      <td>0.839301</td>\n",
       "    </tr>\n",
       "    <tr>\n",
       "      <th>6</th>\n",
       "      <td>web_attack</td>\n",
       "      <td>0.000000</td>\n",
       "      <td>0.000000</td>\n",
       "      <td>0.000000</td>\n",
       "    </tr>\n",
       "  </tbody>\n",
       "</table>\n",
       "</div>"
      ],
      "text/plain": [
       "        attack  precision    recall    fscore\n",
       "0       benign   0.962109  0.971462  0.966762\n",
       "1       botnet   0.000000  0.000000  0.000000\n",
       "2  brute_force   0.998340  0.289949  0.449384\n",
       "3         ddos   0.986674  0.850135  0.913330\n",
       "4          dos   0.944235  0.773592  0.850438\n",
       "5        probe   0.731780  0.983858  0.839301\n",
       "6   web_attack   0.000000  0.000000  0.000000"
      ]
     },
     "execution_count": 50,
     "metadata": {},
     "output_type": "execute_result"
    }
   ],
   "source": [
    "# Precision,Recall,F1-score for SVM classifier on multi-class labels.\n",
    "\n",
    "precision, recall, fscore, support = score(y_test.Label_Category, y_predict)\n",
    "d = {'attack': attack_groups, 'precision': precision, 'recall' : recall, 'fscore': fscore}\n",
    "results = pd.DataFrame(data=d)\n",
    "results"
   ]
  },
  {
   "cell_type": "code",
   "execution_count": 51,
   "metadata": {},
   "outputs": [
    {
     "name": "stdout",
     "output_type": "stream",
     "text": [
      "Accuracy of SVM classifier on multi-class labels :  0.9443043674551449\n"
     ]
    }
   ],
   "source": [
    "# Average Accuracy,Precision,Recall,F1-score for SVM classifier on multi-class labels.\n",
    "\n",
    "precision_svm_3, recall_svm_3, fscore_svm_3, n = score(y_test.Label_Category, y_predict, average='macro')\n",
    "accuracy_svm_3 = accuracy_score(y_test.Label_Category, y_predict)\n",
    "print(\"Accuracy of SVM classifier on multi-class labels : \", accuracy_svm_3)"
   ]
  },
  {
   "cell_type": "code",
   "execution_count": null,
   "metadata": {},
   "outputs": [],
   "source": []
  },
  {
   "cell_type": "markdown",
   "metadata": {},
   "source": [
    "### Results for SVM:"
   ]
  },
  {
   "cell_type": "code",
   "execution_count": 52,
   "metadata": {},
   "outputs": [
    {
     "name": "stdout",
     "output_type": "stream",
     "text": [
      "Support Vector Machine: Precision / Recall / Fscore / Accuracy\n",
      "All Labels: 0.6103726620259674 0.5164888817555738 0.5494671656464464 0.9483074652587455\n",
      "Binary Labels: 0.8934276588134502 0.871074111344472 0.8816238067435893 0.9272570175035334\n",
      "Multi-class Labels: 0.6604483528860229 0.5527137708530362 0.5741734874496957 0.9443043674551449\n"
     ]
    }
   ],
   "source": [
    "print('Support Vector Machine: Precision / Recall / Fscore / Accuracy')\n",
    "\n",
    "print('All Labels:', precision_svm_1, recall_svm_1, fscore_svm_1,  accuracy_svm_1)\n",
    "print('Binary Labels:', precision_svm_2, recall_svm_2, fscore_svm_2, accuracy_svm_2)\n",
    "print('Multi-class Labels:', precision_svm_3, recall_svm_3, fscore_svm_3, accuracy_svm_3)"
   ]
  },
  {
   "cell_type": "code",
   "execution_count": null,
   "metadata": {},
   "outputs": [],
   "source": []
  },
  {
   "cell_type": "code",
   "execution_count": null,
   "metadata": {},
   "outputs": [],
   "source": []
  },
  {
   "cell_type": "markdown",
   "metadata": {},
   "source": [
    "# 2. Decision Tree"
   ]
  },
  {
   "cell_type": "code",
   "execution_count": 53,
   "metadata": {},
   "outputs": [],
   "source": [
    "classifier = DecisionTreeClassifier(random_state = 0)"
   ]
  },
  {
   "cell_type": "markdown",
   "metadata": {},
   "source": [
    "1. a) On all attack labels."
   ]
  },
  {
   "cell_type": "code",
   "execution_count": 54,
   "metadata": {},
   "outputs": [
    {
     "name": "stdout",
     "output_type": "stream",
     "text": [
      "Model Training Time is :  120.84963846206665\n"
     ]
    }
   ],
   "source": [
    "# fit the model\n",
    "\n",
    "start = time.time()\n",
    "classifier.fit(x_train, y_train.Label)\n",
    "end = time.time()\n",
    "training_time = end - start\n",
    "\n",
    "print(\"Model Training Time is : \", training_time)"
   ]
  },
  {
   "cell_type": "code",
   "execution_count": 55,
   "metadata": {},
   "outputs": [
    {
     "name": "stdout",
     "output_type": "stream",
     "text": [
      "Model Testing Time is :  0.19506096839904785\n"
     ]
    }
   ],
   "source": [
    "# predicting test results of Decision Tree classifier on all labels.\n",
    "\n",
    "start = time.time()\n",
    "y_predict = classifier.predict(x_test)\n",
    "end = time.time()\n",
    "testing_time = end  - start\n",
    "\n",
    "print(\"Model Testing Time is : \", testing_time)"
   ]
  },
  {
   "cell_type": "code",
   "execution_count": 56,
   "metadata": {},
   "outputs": [
    {
     "name": "stdout",
     "output_type": "stream",
     "text": [
      "Plotting Confusion Matrix of Decision Tree classifier on all Labels \n"
     ]
    },
    {
     "data": {
      "image/png": "[encoded data removed]",
      "text/plain": [
       "<Figure size 432x288 with 2 Axes>"
      ]
     },
     "metadata": {
      "needs_background": "light"
     },
     "output_type": "display_data"
    },
    {
     "data": {
      "text/html": [
       "<div>\n",
       "<style scoped>\n",
       "    .dataframe tbody tr th:only-of-type {\n",
       "        vertical-align: middle;\n",
       "    }\n",
       "\n",
       "    .dataframe tbody tr th {\n",
       "        vertical-align: top;\n",
       "    }\n",
       "\n",
       "    .dataframe thead th {\n",
       "        text-align: right;\n",
       "    }\n",
       "</style>\n",
       "<table border=\"1\" class=\"dataframe\">\n",
       "  <thead>\n",
       "    <tr style=\"text-align: right;\">\n",
       "      <th>Predicted attacks</th>\n",
       "      <th>BENIGN</th>\n",
       "      <th>Bot</th>\n",
       "      <th>Brute Force</th>\n",
       "      <th>DDoS</th>\n",
       "      <th>DoS GoldenEye</th>\n",
       "      <th>DoS Hulk</th>\n",
       "      <th>DoS Slowhttptest</th>\n",
       "      <th>DoS slowloris</th>\n",
       "      <th>FTP-Patator</th>\n",
       "      <th>PortScan</th>\n",
       "      <th>SSH-Patator</th>\n",
       "      <th>XSS</th>\n",
       "    </tr>\n",
       "    <tr>\n",
       "      <th>Actual Attacks</th>\n",
       "      <th></th>\n",
       "      <th></th>\n",
       "      <th></th>\n",
       "      <th></th>\n",
       "      <th></th>\n",
       "      <th></th>\n",
       "      <th></th>\n",
       "      <th></th>\n",
       "      <th></th>\n",
       "      <th></th>\n",
       "      <th></th>\n",
       "      <th></th>\n",
       "    </tr>\n",
       "  </thead>\n",
       "  <tbody>\n",
       "    <tr>\n",
       "      <th>BENIGN</th>\n",
       "      <td>681266</td>\n",
       "      <td>30</td>\n",
       "      <td>4</td>\n",
       "      <td>6</td>\n",
       "      <td>3</td>\n",
       "      <td>60</td>\n",
       "      <td>7</td>\n",
       "      <td>5</td>\n",
       "      <td>4</td>\n",
       "      <td>3</td>\n",
       "      <td>1</td>\n",
       "      <td>7</td>\n",
       "    </tr>\n",
       "    <tr>\n",
       "      <th>Bot</th>\n",
       "      <td>15</td>\n",
       "      <td>572</td>\n",
       "      <td>0</td>\n",
       "      <td>0</td>\n",
       "      <td>0</td>\n",
       "      <td>0</td>\n",
       "      <td>0</td>\n",
       "      <td>0</td>\n",
       "      <td>0</td>\n",
       "      <td>0</td>\n",
       "      <td>0</td>\n",
       "      <td>0</td>\n",
       "    </tr>\n",
       "    <tr>\n",
       "      <th>Brute Force</th>\n",
       "      <td>0</td>\n",
       "      <td>0</td>\n",
       "      <td>451</td>\n",
       "      <td>0</td>\n",
       "      <td>0</td>\n",
       "      <td>0</td>\n",
       "      <td>0</td>\n",
       "      <td>0</td>\n",
       "      <td>0</td>\n",
       "      <td>0</td>\n",
       "      <td>0</td>\n",
       "      <td>1</td>\n",
       "    </tr>\n",
       "    <tr>\n",
       "      <th>DDoS</th>\n",
       "      <td>10</td>\n",
       "      <td>0</td>\n",
       "      <td>0</td>\n",
       "      <td>38398</td>\n",
       "      <td>0</td>\n",
       "      <td>0</td>\n",
       "      <td>0</td>\n",
       "      <td>0</td>\n",
       "      <td>0</td>\n",
       "      <td>0</td>\n",
       "      <td>0</td>\n",
       "      <td>0</td>\n",
       "    </tr>\n",
       "    <tr>\n",
       "      <th>DoS GoldenEye</th>\n",
       "      <td>2</td>\n",
       "      <td>0</td>\n",
       "      <td>0</td>\n",
       "      <td>0</td>\n",
       "      <td>3086</td>\n",
       "      <td>0</td>\n",
       "      <td>0</td>\n",
       "      <td>0</td>\n",
       "      <td>0</td>\n",
       "      <td>0</td>\n",
       "      <td>0</td>\n",
       "      <td>0</td>\n",
       "    </tr>\n",
       "    <tr>\n",
       "      <th>DoS Hulk</th>\n",
       "      <td>60</td>\n",
       "      <td>0</td>\n",
       "      <td>0</td>\n",
       "      <td>1</td>\n",
       "      <td>0</td>\n",
       "      <td>68974</td>\n",
       "      <td>0</td>\n",
       "      <td>0</td>\n",
       "      <td>0</td>\n",
       "      <td>1</td>\n",
       "      <td>0</td>\n",
       "      <td>1</td>\n",
       "    </tr>\n",
       "    <tr>\n",
       "      <th>DoS Slowhttptest</th>\n",
       "      <td>1</td>\n",
       "      <td>0</td>\n",
       "      <td>0</td>\n",
       "      <td>1</td>\n",
       "      <td>0</td>\n",
       "      <td>0</td>\n",
       "      <td>1646</td>\n",
       "      <td>1</td>\n",
       "      <td>0</td>\n",
       "      <td>0</td>\n",
       "      <td>0</td>\n",
       "      <td>1</td>\n",
       "    </tr>\n",
       "    <tr>\n",
       "      <th>DoS slowloris</th>\n",
       "      <td>4</td>\n",
       "      <td>0</td>\n",
       "      <td>1</td>\n",
       "      <td>0</td>\n",
       "      <td>0</td>\n",
       "      <td>0</td>\n",
       "      <td>0</td>\n",
       "      <td>1733</td>\n",
       "      <td>1</td>\n",
       "      <td>0</td>\n",
       "      <td>0</td>\n",
       "      <td>0</td>\n",
       "    </tr>\n",
       "    <tr>\n",
       "      <th>FTP-Patator</th>\n",
       "      <td>3</td>\n",
       "      <td>0</td>\n",
       "      <td>0</td>\n",
       "      <td>0</td>\n",
       "      <td>0</td>\n",
       "      <td>0</td>\n",
       "      <td>0</td>\n",
       "      <td>0</td>\n",
       "      <td>2377</td>\n",
       "      <td>0</td>\n",
       "      <td>0</td>\n",
       "      <td>0</td>\n",
       "    </tr>\n",
       "    <tr>\n",
       "      <th>PortScan</th>\n",
       "      <td>6</td>\n",
       "      <td>0</td>\n",
       "      <td>0</td>\n",
       "      <td>0</td>\n",
       "      <td>0</td>\n",
       "      <td>0</td>\n",
       "      <td>0</td>\n",
       "      <td>0</td>\n",
       "      <td>0</td>\n",
       "      <td>47632</td>\n",
       "      <td>0</td>\n",
       "      <td>3</td>\n",
       "    </tr>\n",
       "    <tr>\n",
       "      <th>SSH-Patator</th>\n",
       "      <td>0</td>\n",
       "      <td>0</td>\n",
       "      <td>0</td>\n",
       "      <td>0</td>\n",
       "      <td>0</td>\n",
       "      <td>0</td>\n",
       "      <td>0</td>\n",
       "      <td>0</td>\n",
       "      <td>0</td>\n",
       "      <td>0</td>\n",
       "      <td>1769</td>\n",
       "      <td>0</td>\n",
       "    </tr>\n",
       "    <tr>\n",
       "      <th>XSS</th>\n",
       "      <td>2</td>\n",
       "      <td>0</td>\n",
       "      <td>1</td>\n",
       "      <td>0</td>\n",
       "      <td>0</td>\n",
       "      <td>0</td>\n",
       "      <td>0</td>\n",
       "      <td>0</td>\n",
       "      <td>0</td>\n",
       "      <td>0</td>\n",
       "      <td>0</td>\n",
       "      <td>193</td>\n",
       "    </tr>\n",
       "  </tbody>\n",
       "</table>\n",
       "</div>"
      ],
      "text/plain": [
       "Predicted attacks  BENIGN  Bot  Brute Force   DDoS  DoS GoldenEye  DoS Hulk  \\\n",
       "Actual Attacks                                                                \n",
       "BENIGN             681266   30            4      6              3        60   \n",
       "Bot                    15  572            0      0              0         0   \n",
       "Brute Force             0    0          451      0              0         0   \n",
       "DDoS                   10    0            0  38398              0         0   \n",
       "DoS GoldenEye           2    0            0      0           3086         0   \n",
       "DoS Hulk               60    0            0      1              0     68974   \n",
       "DoS Slowhttptest        1    0            0      1              0         0   \n",
       "DoS slowloris           4    0            1      0              0         0   \n",
       "FTP-Patator             3    0            0      0              0         0   \n",
       "PortScan                6    0            0      0              0         0   \n",
       "SSH-Patator             0    0            0      0              0         0   \n",
       "XSS                     2    0            1      0              0         0   \n",
       "\n",
       "Predicted attacks  DoS Slowhttptest  DoS slowloris  FTP-Patator  PortScan  \\\n",
       "Actual Attacks                                                              \n",
       "BENIGN                            7              5            4         3   \n",
       "Bot                               0              0            0         0   \n",
       "Brute Force                       0              0            0         0   \n",
       "DDoS                              0              0            0         0   \n",
       "DoS GoldenEye                     0              0            0         0   \n",
       "DoS Hulk                          0              0            0         1   \n",
       "DoS Slowhttptest               1646              1            0         0   \n",
       "DoS slowloris                     0           1733            1         0   \n",
       "FTP-Patator                       0              0         2377         0   \n",
       "PortScan                          0              0            0     47632   \n",
       "SSH-Patator                       0              0            0         0   \n",
       "XSS                               0              0            0         0   \n",
       "\n",
       "Predicted attacks  SSH-Patator  XSS  \n",
       "Actual Attacks                       \n",
       "BENIGN                       1    7  \n",
       "Bot                          0    0  \n",
       "Brute Force                  0    1  \n",
       "DDoS                         0    0  \n",
       "DoS GoldenEye                0    0  \n",
       "DoS Hulk                     0    1  \n",
       "DoS Slowhttptest             0    1  \n",
       "DoS slowloris                0    0  \n",
       "FTP-Patator                  0    0  \n",
       "PortScan                     0    3  \n",
       "SSH-Patator               1769    0  \n",
       "XSS                          0  193  "
      ]
     },
     "execution_count": 56,
     "metadata": {},
     "output_type": "execute_result"
    }
   ],
   "source": [
    "# Creating confusion matrix for Decision Tree classifier on all labels.\n",
    "\n",
    "confusion_dt_1 = pd.crosstab(y_test.Label, y_predict, rownames=['Actual Attacks'], colnames=['Predicted attacks'])\n",
    "\n",
    "print(\"Plotting Confusion Matrix of Decision Tree classifier on all Labels \")\n",
    "\n",
    "sn.heatmap(confusion_dt_1, annot=True, cmap= 'Blues', fmt='d')\n",
    "plt.show()\n",
    "confusion_dt_1"
   ]
  },
  {
   "cell_type": "code",
   "execution_count": 57,
   "metadata": {},
   "outputs": [
    {
     "data": {
      "text/html": [
       "<div>\n",
       "<style scoped>\n",
       "    .dataframe tbody tr th:only-of-type {\n",
       "        vertical-align: middle;\n",
       "    }\n",
       "\n",
       "    .dataframe tbody tr th {\n",
       "        vertical-align: top;\n",
       "    }\n",
       "\n",
       "    .dataframe thead th {\n",
       "        text-align: right;\n",
       "    }\n",
       "</style>\n",
       "<table border=\"1\" class=\"dataframe\">\n",
       "  <thead>\n",
       "    <tr style=\"text-align: right;\">\n",
       "      <th></th>\n",
       "      <th>attack</th>\n",
       "      <th>precision</th>\n",
       "      <th>recall</th>\n",
       "      <th>fscore</th>\n",
       "    </tr>\n",
       "  </thead>\n",
       "  <tbody>\n",
       "    <tr>\n",
       "      <th>0</th>\n",
       "      <td>BENIGN</td>\n",
       "      <td>0.999849</td>\n",
       "      <td>0.999809</td>\n",
       "      <td>0.999829</td>\n",
       "    </tr>\n",
       "    <tr>\n",
       "      <th>1</th>\n",
       "      <td>Bot</td>\n",
       "      <td>0.950166</td>\n",
       "      <td>0.974446</td>\n",
       "      <td>0.962153</td>\n",
       "    </tr>\n",
       "    <tr>\n",
       "      <th>2</th>\n",
       "      <td>Brute Force</td>\n",
       "      <td>0.986871</td>\n",
       "      <td>0.997788</td>\n",
       "      <td>0.992299</td>\n",
       "    </tr>\n",
       "    <tr>\n",
       "      <th>3</th>\n",
       "      <td>DDoS</td>\n",
       "      <td>0.999792</td>\n",
       "      <td>0.999740</td>\n",
       "      <td>0.999766</td>\n",
       "    </tr>\n",
       "    <tr>\n",
       "      <th>4</th>\n",
       "      <td>DoS GoldenEye</td>\n",
       "      <td>0.999029</td>\n",
       "      <td>0.999352</td>\n",
       "      <td>0.999191</td>\n",
       "    </tr>\n",
       "    <tr>\n",
       "      <th>5</th>\n",
       "      <td>DoS Hulk</td>\n",
       "      <td>0.999131</td>\n",
       "      <td>0.999087</td>\n",
       "      <td>0.999109</td>\n",
       "    </tr>\n",
       "    <tr>\n",
       "      <th>6</th>\n",
       "      <td>DoS Slowhttptest</td>\n",
       "      <td>0.995765</td>\n",
       "      <td>0.997576</td>\n",
       "      <td>0.996670</td>\n",
       "    </tr>\n",
       "    <tr>\n",
       "      <th>7</th>\n",
       "      <td>DoS slowloris</td>\n",
       "      <td>0.996550</td>\n",
       "      <td>0.996550</td>\n",
       "      <td>0.996550</td>\n",
       "    </tr>\n",
       "    <tr>\n",
       "      <th>8</th>\n",
       "      <td>FTP-Patator</td>\n",
       "      <td>0.997901</td>\n",
       "      <td>0.998739</td>\n",
       "      <td>0.998320</td>\n",
       "    </tr>\n",
       "    <tr>\n",
       "      <th>9</th>\n",
       "      <td>PortScan</td>\n",
       "      <td>0.999916</td>\n",
       "      <td>0.999811</td>\n",
       "      <td>0.999864</td>\n",
       "    </tr>\n",
       "    <tr>\n",
       "      <th>10</th>\n",
       "      <td>SSH-Patator</td>\n",
       "      <td>0.999435</td>\n",
       "      <td>1.000000</td>\n",
       "      <td>0.999717</td>\n",
       "    </tr>\n",
       "    <tr>\n",
       "      <th>11</th>\n",
       "      <td>XSS</td>\n",
       "      <td>0.936893</td>\n",
       "      <td>0.984694</td>\n",
       "      <td>0.960199</td>\n",
       "    </tr>\n",
       "  </tbody>\n",
       "</table>\n",
       "</div>"
      ],
      "text/plain": [
       "              attack  precision    recall    fscore\n",
       "0             BENIGN   0.999849  0.999809  0.999829\n",
       "1                Bot   0.950166  0.974446  0.962153\n",
       "2        Brute Force   0.986871  0.997788  0.992299\n",
       "3               DDoS   0.999792  0.999740  0.999766\n",
       "4      DoS GoldenEye   0.999029  0.999352  0.999191\n",
       "5           DoS Hulk   0.999131  0.999087  0.999109\n",
       "6   DoS Slowhttptest   0.995765  0.997576  0.996670\n",
       "7      DoS slowloris   0.996550  0.996550  0.996550\n",
       "8        FTP-Patator   0.997901  0.998739  0.998320\n",
       "9           PortScan   0.999916  0.999811  0.999864\n",
       "10       SSH-Patator   0.999435  1.000000  0.999717\n",
       "11               XSS   0.936893  0.984694  0.960199"
      ]
     },
     "execution_count": 57,
     "metadata": {},
     "output_type": "execute_result"
    }
   ],
   "source": [
    "# Precision,Recall,F1-score for Decision Tree classifier on all labels.\n",
    "\n",
    "precision, recall, fscore, support = score(y_test.Label, y_predict)\n",
    "\n",
    "d = {'attack': attack, 'precision': precision, 'recall' : recall, 'fscore': fscore}\n",
    "results = pd.DataFrame(data=d)\n",
    "results"
   ]
  },
  {
   "cell_type": "code",
   "execution_count": 58,
   "metadata": {},
   "outputs": [
    {
     "name": "stdout",
     "output_type": "stream",
     "text": [
      "Accuracy of Decision Tree classifier on all labels :  0.9997100229506226\n"
     ]
    }
   ],
   "source": [
    "# Average Accuracy,Precision,Recall,F1-score for Decision Tree classifier on all labels.\n",
    "\n",
    "precision_dt_1, recall_dt_1, fscore_dt_1, support = score(y_test.Label, y_predict, average='macro')\n",
    "accuracy_dt_1 = accuracy_score(y_test.Label, y_predict)\n",
    "print(\"Accuracy of Decision Tree classifier on all labels : \", accuracy_dt_1)"
   ]
  },
  {
   "cell_type": "code",
   "execution_count": 59,
   "metadata": {},
   "outputs": [],
   "source": [
    "# 1. b) Binary Classifier."
   ]
  },
  {
   "cell_type": "code",
   "execution_count": 60,
   "metadata": {},
   "outputs": [
    {
     "name": "stdout",
     "output_type": "stream",
     "text": [
      "Model Training Time is :  119.4067771434784\n"
     ]
    }
   ],
   "source": [
    "# fit the model\n",
    "\n",
    "start = time.time()\n",
    "classifier.fit(x_train, y_train.Attack)\n",
    "end = time.time()\n",
    "training_time = end - start\n",
    "\n",
    "print(\"Model Training Time is : \", training_time)"
   ]
  },
  {
   "cell_type": "code",
   "execution_count": 61,
   "metadata": {},
   "outputs": [
    {
     "name": "stdout",
     "output_type": "stream",
     "text": [
      "Model Testing Time is :  0.19147992134094238\n"
     ]
    }
   ],
   "source": [
    "# predicting test results of Decision Tree classifier on binary labels.\n",
    "\n",
    "start = time.time()\n",
    "y_predict = classifier.predict(x_test)\n",
    "end = time.time()\n",
    "testing_time = end  - start\n",
    "\n",
    "print(\"Model Testing Time is : \", testing_time)"
   ]
  },
  {
   "cell_type": "code",
   "execution_count": 62,
   "metadata": {},
   "outputs": [
    {
     "name": "stdout",
     "output_type": "stream",
     "text": [
      "Plotting Confusion Matrix of Decision Tree classifier on binary Labels \n"
     ]
    },
    {
     "data": {
      "image/png": "[encoded data removed]",
      "text/plain": [
       "<Figure size 432x288 with 2 Axes>"
      ]
     },
     "metadata": {
      "needs_background": "light"
     },
     "output_type": "display_data"
    },
    {
     "data": {
      "text/html": [
       "<div>\n",
       "<style scoped>\n",
       "    .dataframe tbody tr th:only-of-type {\n",
       "        vertical-align: middle;\n",
       "    }\n",
       "\n",
       "    .dataframe tbody tr th {\n",
       "        vertical-align: top;\n",
       "    }\n",
       "\n",
       "    .dataframe thead th {\n",
       "        text-align: right;\n",
       "    }\n",
       "</style>\n",
       "<table border=\"1\" class=\"dataframe\">\n",
       "  <thead>\n",
       "    <tr style=\"text-align: right;\">\n",
       "      <th>Predicted attacks</th>\n",
       "      <th>Attack</th>\n",
       "      <th>Normal</th>\n",
       "    </tr>\n",
       "    <tr>\n",
       "      <th>Actual Attacks</th>\n",
       "      <th></th>\n",
       "      <th></th>\n",
       "    </tr>\n",
       "  </thead>\n",
       "  <tbody>\n",
       "    <tr>\n",
       "      <th>Attack</th>\n",
       "      <td>166821</td>\n",
       "      <td>126</td>\n",
       "    </tr>\n",
       "    <tr>\n",
       "      <th>Normal</th>\n",
       "      <td>126</td>\n",
       "      <td>681270</td>\n",
       "    </tr>\n",
       "  </tbody>\n",
       "</table>\n",
       "</div>"
      ],
      "text/plain": [
       "Predicted attacks  Attack  Normal\n",
       "Actual Attacks                   \n",
       "Attack             166821     126\n",
       "Normal                126  681270"
      ]
     },
     "execution_count": 62,
     "metadata": {},
     "output_type": "execute_result"
    }
   ],
   "source": [
    "# Creating confusion matrix for Decision Tree classifier on binary labels.\n",
    "\n",
    "confusion_dt_2 = pd.crosstab(y_test.Attack, y_predict, rownames=['Actual Attacks'], colnames=['Predicted attacks'])\n",
    "\n",
    "print(\"Plotting Confusion Matrix of Decision Tree classifier on binary Labels \")\n",
    "\n",
    "sn.heatmap(confusion_dt_2, annot=True, cmap= 'Blues', fmt='d')\n",
    "plt.show()\n",
    "confusion_dt_2"
   ]
  },
  {
   "cell_type": "code",
   "execution_count": 63,
   "metadata": {},
   "outputs": [
    {
     "data": {
      "text/html": [
       "<div>\n",
       "<style scoped>\n",
       "    .dataframe tbody tr th:only-of-type {\n",
       "        vertical-align: middle;\n",
       "    }\n",
       "\n",
       "    .dataframe tbody tr th {\n",
       "        vertical-align: top;\n",
       "    }\n",
       "\n",
       "    .dataframe thead th {\n",
       "        text-align: right;\n",
       "    }\n",
       "</style>\n",
       "<table border=\"1\" class=\"dataframe\">\n",
       "  <thead>\n",
       "    <tr style=\"text-align: right;\">\n",
       "      <th></th>\n",
       "      <th>attack</th>\n",
       "      <th>precision</th>\n",
       "      <th>recall</th>\n",
       "      <th>fscore</th>\n",
       "    </tr>\n",
       "  </thead>\n",
       "  <tbody>\n",
       "    <tr>\n",
       "      <th>0</th>\n",
       "      <td>0</td>\n",
       "      <td>0.999245</td>\n",
       "      <td>0.999245</td>\n",
       "      <td>0.999245</td>\n",
       "    </tr>\n",
       "    <tr>\n",
       "      <th>1</th>\n",
       "      <td>1</td>\n",
       "      <td>0.999815</td>\n",
       "      <td>0.999815</td>\n",
       "      <td>0.999815</td>\n",
       "    </tr>\n",
       "  </tbody>\n",
       "</table>\n",
       "</div>"
      ],
      "text/plain": [
       "   attack  precision    recall    fscore\n",
       "0       0   0.999245  0.999245  0.999245\n",
       "1       1   0.999815  0.999815  0.999815"
      ]
     },
     "execution_count": 63,
     "metadata": {},
     "output_type": "execute_result"
    }
   ],
   "source": [
    "# Precision,Recall,F1-score for Decision Tree classifier on binary labels.\n",
    "\n",
    "precision, recall, fscore, support = score(y_test.Attack, y_predict)\n",
    "d = {'attack': [0,1], 'precision': precision, 'recall' : recall, 'fscore': fscore}\n",
    "results = pd.DataFrame(data=d)\n",
    "results"
   ]
  },
  {
   "cell_type": "code",
   "execution_count": 64,
   "metadata": {},
   "outputs": [
    {
     "name": "stdout",
     "output_type": "stream",
     "text": [
      "Accuracy of Decision Tree classifier on binary labels :  0.9997029503396622\n"
     ]
    }
   ],
   "source": [
    "# Average Accuracy,Precision,Recall,F1-score for Decision Tree classifier on binary labels.\n",
    "\n",
    "precision_dt_2, recall_dt_2, fscore_dt_2, n = score(y_test.Attack, y_predict, average='macro')\n",
    "accuracy_dt_2 = accuracy_score(y_test.Attack, y_predict)\n",
    "print(\"Accuracy of Decision Tree classifier on binary labels : \", accuracy_dt_2)"
   ]
  },
  {
   "cell_type": "code",
   "execution_count": 65,
   "metadata": {},
   "outputs": [],
   "source": [
    "# 1. c) Multi-class Classifier."
   ]
  },
  {
   "cell_type": "code",
   "execution_count": 66,
   "metadata": {},
   "outputs": [
    {
     "name": "stdout",
     "output_type": "stream",
     "text": [
      "Model Training Time is :  126.87579131126404\n"
     ]
    }
   ],
   "source": [
    "# fit the model\n",
    "\n",
    "start = time.time()\n",
    "classifier.fit(x_train, y_train.Label_Category)\n",
    "end = time.time()\n",
    "training_time = end - start\n",
    "\n",
    "print(\"Model Training Time is : \", training_time)"
   ]
  },
  {
   "cell_type": "code",
   "execution_count": 67,
   "metadata": {},
   "outputs": [
    {
     "name": "stdout",
     "output_type": "stream",
     "text": [
      "Model Testing Time is :  0.20798730850219727\n"
     ]
    }
   ],
   "source": [
    "# predicting test results of Decision Tree classifier on multi-class labels.\n",
    "\n",
    "start = time.time()\n",
    "y_predict = classifier.predict(x_test)\n",
    "end = time.time()\n",
    "testing_time = end  - start\n",
    "\n",
    "print(\"Model Testing Time is : \", testing_time)"
   ]
  },
  {
   "cell_type": "code",
   "execution_count": 68,
   "metadata": {},
   "outputs": [
    {
     "name": "stdout",
     "output_type": "stream",
     "text": [
      "Plotting Confusion Matrix of Decision Tree classifier on multi-class Labels \n"
     ]
    },
    {
     "data": {
      "image/png": "[encoded data removed]",
      "text/plain": [
       "<Figure size 432x288 with 2 Axes>"
      ]
     },
     "metadata": {
      "needs_background": "light"
     },
     "output_type": "display_data"
    },
    {
     "data": {
      "text/html": [
       "<div>\n",
       "<style scoped>\n",
       "    .dataframe tbody tr th:only-of-type {\n",
       "        vertical-align: middle;\n",
       "    }\n",
       "\n",
       "    .dataframe tbody tr th {\n",
       "        vertical-align: top;\n",
       "    }\n",
       "\n",
       "    .dataframe thead th {\n",
       "        text-align: right;\n",
       "    }\n",
       "</style>\n",
       "<table border=\"1\" class=\"dataframe\">\n",
       "  <thead>\n",
       "    <tr style=\"text-align: right;\">\n",
       "      <th>Predicted attacks</th>\n",
       "      <th>benign</th>\n",
       "      <th>botnet</th>\n",
       "      <th>brute_force</th>\n",
       "      <th>ddos</th>\n",
       "      <th>dos</th>\n",
       "      <th>probe</th>\n",
       "      <th>web_attack</th>\n",
       "    </tr>\n",
       "    <tr>\n",
       "      <th>Actual Attacks</th>\n",
       "      <th></th>\n",
       "      <th></th>\n",
       "      <th></th>\n",
       "      <th></th>\n",
       "      <th></th>\n",
       "      <th></th>\n",
       "      <th></th>\n",
       "    </tr>\n",
       "  </thead>\n",
       "  <tbody>\n",
       "    <tr>\n",
       "      <th>benign</th>\n",
       "      <td>681265</td>\n",
       "      <td>27</td>\n",
       "      <td>4</td>\n",
       "      <td>8</td>\n",
       "      <td>73</td>\n",
       "      <td>11</td>\n",
       "      <td>8</td>\n",
       "    </tr>\n",
       "    <tr>\n",
       "      <th>botnet</th>\n",
       "      <td>21</td>\n",
       "      <td>566</td>\n",
       "      <td>0</td>\n",
       "      <td>0</td>\n",
       "      <td>0</td>\n",
       "      <td>0</td>\n",
       "      <td>0</td>\n",
       "    </tr>\n",
       "    <tr>\n",
       "      <th>brute_force</th>\n",
       "      <td>0</td>\n",
       "      <td>0</td>\n",
       "      <td>4148</td>\n",
       "      <td>0</td>\n",
       "      <td>1</td>\n",
       "      <td>0</td>\n",
       "      <td>0</td>\n",
       "    </tr>\n",
       "    <tr>\n",
       "      <th>ddos</th>\n",
       "      <td>12</td>\n",
       "      <td>0</td>\n",
       "      <td>0</td>\n",
       "      <td>38396</td>\n",
       "      <td>0</td>\n",
       "      <td>0</td>\n",
       "      <td>0</td>\n",
       "    </tr>\n",
       "    <tr>\n",
       "      <th>dos</th>\n",
       "      <td>62</td>\n",
       "      <td>0</td>\n",
       "      <td>0</td>\n",
       "      <td>1</td>\n",
       "      <td>75450</td>\n",
       "      <td>0</td>\n",
       "      <td>1</td>\n",
       "    </tr>\n",
       "    <tr>\n",
       "      <th>probe</th>\n",
       "      <td>11</td>\n",
       "      <td>0</td>\n",
       "      <td>0</td>\n",
       "      <td>0</td>\n",
       "      <td>3</td>\n",
       "      <td>47627</td>\n",
       "      <td>0</td>\n",
       "    </tr>\n",
       "    <tr>\n",
       "      <th>web_attack</th>\n",
       "      <td>5</td>\n",
       "      <td>0</td>\n",
       "      <td>0</td>\n",
       "      <td>0</td>\n",
       "      <td>0</td>\n",
       "      <td>0</td>\n",
       "      <td>643</td>\n",
       "    </tr>\n",
       "  </tbody>\n",
       "</table>\n",
       "</div>"
      ],
      "text/plain": [
       "Predicted attacks  benign  botnet  brute_force   ddos    dos  probe  \\\n",
       "Actual Attacks                                                        \n",
       "benign             681265      27            4      8     73     11   \n",
       "botnet                 21     566            0      0      0      0   \n",
       "brute_force             0       0         4148      0      1      0   \n",
       "ddos                   12       0            0  38396      0      0   \n",
       "dos                    62       0            0      1  75450      0   \n",
       "probe                  11       0            0      0      3  47627   \n",
       "web_attack              5       0            0      0      0      0   \n",
       "\n",
       "Predicted attacks  web_attack  \n",
       "Actual Attacks                 \n",
       "benign                      8  \n",
       "botnet                      0  \n",
       "brute_force                 0  \n",
       "ddos                        0  \n",
       "dos                         1  \n",
       "probe                       0  \n",
       "web_attack                643  "
      ]
     },
     "execution_count": 68,
     "metadata": {},
     "output_type": "execute_result"
    }
   ],
   "source": [
    "# Creating confusion matrix for Decision Tree classifier on multi-class labels.\n",
    "\n",
    "confusion_dt_3 = pd.crosstab(y_test.Label_Category, y_predict, rownames=['Actual Attacks'], colnames=['Predicted attacks'])\n",
    "\n",
    "print(\"Plotting Confusion Matrix of Decision Tree classifier on multi-class Labels \")\n",
    "\n",
    "sn.heatmap(confusion_dt_3, annot=True, cmap= 'Blues', fmt='d')\n",
    "plt.show()\n",
    "confusion_dt_3"
   ]
  },
  {
   "cell_type": "code",
   "execution_count": 69,
   "metadata": {},
   "outputs": [
    {
     "data": {
      "text/html": [
       "<div>\n",
       "<style scoped>\n",
       "    .dataframe tbody tr th:only-of-type {\n",
       "        vertical-align: middle;\n",
       "    }\n",
       "\n",
       "    .dataframe tbody tr th {\n",
       "        vertical-align: top;\n",
       "    }\n",
       "\n",
       "    .dataframe thead th {\n",
       "        text-align: right;\n",
       "    }\n",
       "</style>\n",
       "<table border=\"1\" class=\"dataframe\">\n",
       "  <thead>\n",
       "    <tr style=\"text-align: right;\">\n",
       "      <th></th>\n",
       "      <th>attack</th>\n",
       "      <th>precision</th>\n",
       "      <th>recall</th>\n",
       "      <th>fscore</th>\n",
       "    </tr>\n",
       "  </thead>\n",
       "  <tbody>\n",
       "    <tr>\n",
       "      <th>0</th>\n",
       "      <td>benign</td>\n",
       "      <td>0.999837</td>\n",
       "      <td>0.999808</td>\n",
       "      <td>0.999822</td>\n",
       "    </tr>\n",
       "    <tr>\n",
       "      <th>1</th>\n",
       "      <td>botnet</td>\n",
       "      <td>0.954469</td>\n",
       "      <td>0.964225</td>\n",
       "      <td>0.959322</td>\n",
       "    </tr>\n",
       "    <tr>\n",
       "      <th>2</th>\n",
       "      <td>brute_force</td>\n",
       "      <td>0.999037</td>\n",
       "      <td>0.999759</td>\n",
       "      <td>0.999398</td>\n",
       "    </tr>\n",
       "    <tr>\n",
       "      <th>3</th>\n",
       "      <td>ddos</td>\n",
       "      <td>0.999766</td>\n",
       "      <td>0.999688</td>\n",
       "      <td>0.999727</td>\n",
       "    </tr>\n",
       "    <tr>\n",
       "      <th>4</th>\n",
       "      <td>dos</td>\n",
       "      <td>0.998980</td>\n",
       "      <td>0.999152</td>\n",
       "      <td>0.999066</td>\n",
       "    </tr>\n",
       "    <tr>\n",
       "      <th>5</th>\n",
       "      <td>probe</td>\n",
       "      <td>0.999769</td>\n",
       "      <td>0.999706</td>\n",
       "      <td>0.999738</td>\n",
       "    </tr>\n",
       "    <tr>\n",
       "      <th>6</th>\n",
       "      <td>web_attack</td>\n",
       "      <td>0.986196</td>\n",
       "      <td>0.992284</td>\n",
       "      <td>0.989231</td>\n",
       "    </tr>\n",
       "  </tbody>\n",
       "</table>\n",
       "</div>"
      ],
      "text/plain": [
       "        attack  precision    recall    fscore\n",
       "0       benign   0.999837  0.999808  0.999822\n",
       "1       botnet   0.954469  0.964225  0.959322\n",
       "2  brute_force   0.999037  0.999759  0.999398\n",
       "3         ddos   0.999766  0.999688  0.999727\n",
       "4          dos   0.998980  0.999152  0.999066\n",
       "5        probe   0.999769  0.999706  0.999738\n",
       "6   web_attack   0.986196  0.992284  0.989231"
      ]
     },
     "execution_count": 69,
     "metadata": {},
     "output_type": "execute_result"
    }
   ],
   "source": [
    "# Precision,Recall,F1-score for Decision Tree classifier on multi-class labels.\n",
    "\n",
    "precision, recall, fscore, support = score(y_test.Label_Category, y_predict)\n",
    "d = {'attack': attack_groups, 'precision': precision, 'recall' : recall, 'fscore': fscore}\n",
    "results = pd.DataFrame(data=d)\n",
    "results"
   ]
  },
  {
   "cell_type": "code",
   "execution_count": 70,
   "metadata": {},
   "outputs": [
    {
     "name": "stdout",
     "output_type": "stream",
     "text": [
      "Accuracy of Decision Tree classifier on multi-class labels :  0.9997076654136358\n"
     ]
    }
   ],
   "source": [
    "# Average Accuracy,Precision,Recall,F1-score for Decision Tree classifier on multi-class labels.\n",
    "\n",
    "precision_dt_3, recall_dt_3, fscore_dt_3, n = score(y_test.Label_Category, y_predict, average='macro')\n",
    "accuracy_dt_3 = accuracy_score(y_test.Label_Category, y_predict)\n",
    "print(\"Accuracy of Decision Tree classifier on multi-class labels : \", accuracy_dt_3)"
   ]
  },
  {
   "cell_type": "markdown",
   "metadata": {},
   "source": [
    "### Results for Decision Tree:"
   ]
  },
  {
   "cell_type": "code",
   "execution_count": 71,
   "metadata": {},
   "outputs": [
    {
     "name": "stdout",
     "output_type": "stream",
     "text": [
      "Decission Tree Classifier : Precision / Recall / Fscore / Accuracy\n",
      "All Labels: 0.9884414516786525 0.9956327114513193 0.9919721795956459 0.9997100229506226\n",
      "Binary Labels: 0.999530177478858 0.999530177478858 0.999530177478858 0.9997029503396622\n",
      "Multi-class Labels: 0.9911505813408323 0.9935173891628378 0.9923290838491127 0.9997076654136358\n"
     ]
    }
   ],
   "source": [
    "print('Decission Tree Classifier : Precision / Recall / Fscore / Accuracy')\n",
    "\n",
    "print('All Labels:', precision_dt_1, recall_dt_1, fscore_dt_1,  accuracy_dt_1)\n",
    "print('Binary Labels:', precision_dt_2, recall_dt_2, fscore_dt_2, accuracy_dt_2)\n",
    "print('Multi-class Labels:', precision_dt_3, recall_dt_3, fscore_dt_3, accuracy_dt_3)"
   ]
  },
  {
   "cell_type": "code",
   "execution_count": 72,
   "metadata": {},
   "outputs": [],
   "source": [
    "# 3. Naive Bayes Classifier"
   ]
  },
  {
   "cell_type": "code",
   "execution_count": 73,
   "metadata": {},
   "outputs": [],
   "source": [
    "classifier = MultinomialNB()"
   ]
  },
  {
   "cell_type": "code",
   "execution_count": 74,
   "metadata": {},
   "outputs": [],
   "source": [
    "# 1. a) On all attack labels."
   ]
  },
  {
   "cell_type": "code",
   "execution_count": 75,
   "metadata": {},
   "outputs": [
    {
     "name": "stdout",
     "output_type": "stream",
     "text": [
      "Model Training Time is :  14.33758020401001\n"
     ]
    }
   ],
   "source": [
    "# fit the model\n",
    "\n",
    "start = time.time()\n",
    "classifier.fit(x_train, y_train.Label)\n",
    "end = time.time()\n",
    "training_time = end - start\n",
    "\n",
    "print(\"Model Training Time is : \", training_time)"
   ]
  },
  {
   "cell_type": "code",
   "execution_count": 76,
   "metadata": {},
   "outputs": [
    {
     "name": "stdout",
     "output_type": "stream",
     "text": [
      "Model Testing Time is :  0.7225887775421143\n"
     ]
    }
   ],
   "source": [
    "# predicting test results of Naive Bayes classifier on all labels.\n",
    "\n",
    "start = time.time()\n",
    "y_predict = classifier.predict(x_test)\n",
    "end = time.time()\n",
    "testing_time = end  - start\n",
    "\n",
    "print(\"Model Testing Time is : \", testing_time)"
   ]
  },
  {
   "cell_type": "code",
   "execution_count": 77,
   "metadata": {},
   "outputs": [
    {
     "name": "stdout",
     "output_type": "stream",
     "text": [
      "Plotting Confusion Matrix of Naive Bayes classifier on all Labels \n"
     ]
    },
    {
     "data": {
      "image/png": "[encoded data removed]",
      "text/plain": [
       "<Figure size 432x288 with 2 Axes>"
      ]
     },
     "metadata": {
      "needs_background": "light"
     },
     "output_type": "display_data"
    },
    {
     "data": {
      "text/html": [
       "<div>\n",
       "<style scoped>\n",
       "    .dataframe tbody tr th:only-of-type {\n",
       "        vertical-align: middle;\n",
       "    }\n",
       "\n",
       "    .dataframe tbody tr th {\n",
       "        vertical-align: top;\n",
       "    }\n",
       "\n",
       "    .dataframe thead th {\n",
       "        text-align: right;\n",
       "    }\n",
       "</style>\n",
       "<table border=\"1\" class=\"dataframe\">\n",
       "  <thead>\n",
       "    <tr style=\"text-align: right;\">\n",
       "      <th>Predicted attacks</th>\n",
       "      <th>BENIGN</th>\n",
       "      <th>DDoS</th>\n",
       "      <th>DoS GoldenEye</th>\n",
       "      <th>DoS Hulk</th>\n",
       "      <th>DoS Slowhttptest</th>\n",
       "      <th>DoS slowloris</th>\n",
       "      <th>PortScan</th>\n",
       "    </tr>\n",
       "    <tr>\n",
       "      <th>Actual Attacks</th>\n",
       "      <th></th>\n",
       "      <th></th>\n",
       "      <th></th>\n",
       "      <th></th>\n",
       "      <th></th>\n",
       "      <th></th>\n",
       "      <th></th>\n",
       "    </tr>\n",
       "  </thead>\n",
       "  <tbody>\n",
       "    <tr>\n",
       "      <th>BENIGN</th>\n",
       "      <td>668407</td>\n",
       "      <td>133</td>\n",
       "      <td>21</td>\n",
       "      <td>4502</td>\n",
       "      <td>113</td>\n",
       "      <td>7850</td>\n",
       "      <td>370</td>\n",
       "    </tr>\n",
       "    <tr>\n",
       "      <th>Bot</th>\n",
       "      <td>581</td>\n",
       "      <td>6</td>\n",
       "      <td>0</td>\n",
       "      <td>0</td>\n",
       "      <td>0</td>\n",
       "      <td>0</td>\n",
       "      <td>0</td>\n",
       "    </tr>\n",
       "    <tr>\n",
       "      <th>Brute Force</th>\n",
       "      <td>452</td>\n",
       "      <td>0</td>\n",
       "      <td>0</td>\n",
       "      <td>0</td>\n",
       "      <td>0</td>\n",
       "      <td>0</td>\n",
       "      <td>0</td>\n",
       "    </tr>\n",
       "    <tr>\n",
       "      <th>DDoS</th>\n",
       "      <td>14322</td>\n",
       "      <td>18872</td>\n",
       "      <td>0</td>\n",
       "      <td>5214</td>\n",
       "      <td>0</td>\n",
       "      <td>0</td>\n",
       "      <td>0</td>\n",
       "    </tr>\n",
       "    <tr>\n",
       "      <th>DoS GoldenEye</th>\n",
       "      <td>2406</td>\n",
       "      <td>424</td>\n",
       "      <td>185</td>\n",
       "      <td>0</td>\n",
       "      <td>0</td>\n",
       "      <td>73</td>\n",
       "      <td>0</td>\n",
       "    </tr>\n",
       "    <tr>\n",
       "      <th>DoS Hulk</th>\n",
       "      <td>23159</td>\n",
       "      <td>3516</td>\n",
       "      <td>0</td>\n",
       "      <td>42362</td>\n",
       "      <td>0</td>\n",
       "      <td>0</td>\n",
       "      <td>0</td>\n",
       "    </tr>\n",
       "    <tr>\n",
       "      <th>DoS Slowhttptest</th>\n",
       "      <td>1351</td>\n",
       "      <td>0</td>\n",
       "      <td>0</td>\n",
       "      <td>0</td>\n",
       "      <td>299</td>\n",
       "      <td>0</td>\n",
       "      <td>0</td>\n",
       "    </tr>\n",
       "    <tr>\n",
       "      <th>DoS slowloris</th>\n",
       "      <td>1356</td>\n",
       "      <td>0</td>\n",
       "      <td>0</td>\n",
       "      <td>0</td>\n",
       "      <td>50</td>\n",
       "      <td>333</td>\n",
       "      <td>0</td>\n",
       "    </tr>\n",
       "    <tr>\n",
       "      <th>FTP-Patator</th>\n",
       "      <td>2380</td>\n",
       "      <td>0</td>\n",
       "      <td>0</td>\n",
       "      <td>0</td>\n",
       "      <td>0</td>\n",
       "      <td>0</td>\n",
       "      <td>0</td>\n",
       "    </tr>\n",
       "    <tr>\n",
       "      <th>PortScan</th>\n",
       "      <td>47584</td>\n",
       "      <td>12</td>\n",
       "      <td>0</td>\n",
       "      <td>0</td>\n",
       "      <td>0</td>\n",
       "      <td>31</td>\n",
       "      <td>14</td>\n",
       "    </tr>\n",
       "    <tr>\n",
       "      <th>SSH-Patator</th>\n",
       "      <td>1769</td>\n",
       "      <td>0</td>\n",
       "      <td>0</td>\n",
       "      <td>0</td>\n",
       "      <td>0</td>\n",
       "      <td>0</td>\n",
       "      <td>0</td>\n",
       "    </tr>\n",
       "    <tr>\n",
       "      <th>XSS</th>\n",
       "      <td>196</td>\n",
       "      <td>0</td>\n",
       "      <td>0</td>\n",
       "      <td>0</td>\n",
       "      <td>0</td>\n",
       "      <td>0</td>\n",
       "      <td>0</td>\n",
       "    </tr>\n",
       "  </tbody>\n",
       "</table>\n",
       "</div>"
      ],
      "text/plain": [
       "Predicted attacks  BENIGN   DDoS  DoS GoldenEye  DoS Hulk  DoS Slowhttptest  \\\n",
       "Actual Attacks                                                                \n",
       "BENIGN             668407    133             21      4502               113   \n",
       "Bot                   581      6              0         0                 0   \n",
       "Brute Force           452      0              0         0                 0   \n",
       "DDoS                14322  18872              0      5214                 0   \n",
       "DoS GoldenEye        2406    424            185         0                 0   \n",
       "DoS Hulk            23159   3516              0     42362                 0   \n",
       "DoS Slowhttptest     1351      0              0         0               299   \n",
       "DoS slowloris        1356      0              0         0                50   \n",
       "FTP-Patator          2380      0              0         0                 0   \n",
       "PortScan            47584     12              0         0                 0   \n",
       "SSH-Patator          1769      0              0         0                 0   \n",
       "XSS                   196      0              0         0                 0   \n",
       "\n",
       "Predicted attacks  DoS slowloris  PortScan  \n",
       "Actual Attacks                              \n",
       "BENIGN                      7850       370  \n",
       "Bot                            0         0  \n",
       "Brute Force                    0         0  \n",
       "DDoS                           0         0  \n",
       "DoS GoldenEye                 73         0  \n",
       "DoS Hulk                       0         0  \n",
       "DoS Slowhttptest               0         0  \n",
       "DoS slowloris                333         0  \n",
       "FTP-Patator                    0         0  \n",
       "PortScan                      31        14  \n",
       "SSH-Patator                    0         0  \n",
       "XSS                            0         0  "
      ]
     },
     "execution_count": 77,
     "metadata": {},
     "output_type": "execute_result"
    }
   ],
   "source": [
    "# Creating confusion matrix for Naive Bayes classifier on all labels.\n",
    "\n",
    "confusion_nb_1 = pd.crosstab(y_test.Label, y_predict, rownames=['Actual Attacks'], colnames=['Predicted attacks'])\n",
    "\n",
    "print(\"Plotting Confusion Matrix of Naive Bayes classifier on all Labels \")\n",
    "\n",
    "sn.heatmap(confusion_nb_1, annot=True, cmap= 'Blues', fmt='d')\n",
    "plt.show()\n",
    "confusion_nb_1"
   ]
  },
  {
   "cell_type": "code",
   "execution_count": 78,
   "metadata": {},
   "outputs": [
    {
     "name": "stderr",
     "output_type": "stream",
     "text": [
      "C:\\Users\\user\\anaconda3\\lib\\site-packages\\sklearn\\metrics\\_classification.py:1245: UndefinedMetricWarning: Precision and F-score are ill-defined and being set to 0.0 in labels with no predicted samples. Use `zero_division` parameter to control this behavior.\n",
      "  _warn_prf(average, modifier, msg_start, len(result))\n"
     ]
    },
    {
     "data": {
      "text/html": [
       "<div>\n",
       "<style scoped>\n",
       "    .dataframe tbody tr th:only-of-type {\n",
       "        vertical-align: middle;\n",
       "    }\n",
       "\n",
       "    .dataframe tbody tr th {\n",
       "        vertical-align: top;\n",
       "    }\n",
       "\n",
       "    .dataframe thead th {\n",
       "        text-align: right;\n",
       "    }\n",
       "</style>\n",
       "<table border=\"1\" class=\"dataframe\">\n",
       "  <thead>\n",
       "    <tr style=\"text-align: right;\">\n",
       "      <th></th>\n",
       "      <th>attack</th>\n",
       "      <th>precision</th>\n",
       "      <th>recall</th>\n",
       "      <th>fscore</th>\n",
       "    </tr>\n",
       "  </thead>\n",
       "  <tbody>\n",
       "    <tr>\n",
       "      <th>0</th>\n",
       "      <td>BENIGN</td>\n",
       "      <td>0.874921</td>\n",
       "      <td>0.980938</td>\n",
       "      <td>0.924901</td>\n",
       "    </tr>\n",
       "    <tr>\n",
       "      <th>1</th>\n",
       "      <td>Bot</td>\n",
       "      <td>0.000000</td>\n",
       "      <td>0.000000</td>\n",
       "      <td>0.000000</td>\n",
       "    </tr>\n",
       "    <tr>\n",
       "      <th>2</th>\n",
       "      <td>Brute Force</td>\n",
       "      <td>0.000000</td>\n",
       "      <td>0.000000</td>\n",
       "      <td>0.000000</td>\n",
       "    </tr>\n",
       "    <tr>\n",
       "      <th>3</th>\n",
       "      <td>DDoS</td>\n",
       "      <td>0.821844</td>\n",
       "      <td>0.491356</td>\n",
       "      <td>0.615014</td>\n",
       "    </tr>\n",
       "    <tr>\n",
       "      <th>4</th>\n",
       "      <td>DoS GoldenEye</td>\n",
       "      <td>0.898058</td>\n",
       "      <td>0.059909</td>\n",
       "      <td>0.112325</td>\n",
       "    </tr>\n",
       "    <tr>\n",
       "      <th>5</th>\n",
       "      <td>DoS Hulk</td>\n",
       "      <td>0.813434</td>\n",
       "      <td>0.613613</td>\n",
       "      <td>0.699534</td>\n",
       "    </tr>\n",
       "    <tr>\n",
       "      <th>6</th>\n",
       "      <td>DoS Slowhttptest</td>\n",
       "      <td>0.647186</td>\n",
       "      <td>0.181212</td>\n",
       "      <td>0.283144</td>\n",
       "    </tr>\n",
       "    <tr>\n",
       "      <th>7</th>\n",
       "      <td>DoS slowloris</td>\n",
       "      <td>0.040183</td>\n",
       "      <td>0.191489</td>\n",
       "      <td>0.066427</td>\n",
       "    </tr>\n",
       "    <tr>\n",
       "      <th>8</th>\n",
       "      <td>FTP-Patator</td>\n",
       "      <td>0.000000</td>\n",
       "      <td>0.000000</td>\n",
       "      <td>0.000000</td>\n",
       "    </tr>\n",
       "    <tr>\n",
       "      <th>9</th>\n",
       "      <td>PortScan</td>\n",
       "      <td>0.036458</td>\n",
       "      <td>0.000294</td>\n",
       "      <td>0.000583</td>\n",
       "    </tr>\n",
       "    <tr>\n",
       "      <th>10</th>\n",
       "      <td>SSH-Patator</td>\n",
       "      <td>0.000000</td>\n",
       "      <td>0.000000</td>\n",
       "      <td>0.000000</td>\n",
       "    </tr>\n",
       "    <tr>\n",
       "      <th>11</th>\n",
       "      <td>XSS</td>\n",
       "      <td>0.000000</td>\n",
       "      <td>0.000000</td>\n",
       "      <td>0.000000</td>\n",
       "    </tr>\n",
       "  </tbody>\n",
       "</table>\n",
       "</div>"
      ],
      "text/plain": [
       "              attack  precision    recall    fscore\n",
       "0             BENIGN   0.874921  0.980938  0.924901\n",
       "1                Bot   0.000000  0.000000  0.000000\n",
       "2        Brute Force   0.000000  0.000000  0.000000\n",
       "3               DDoS   0.821844  0.491356  0.615014\n",
       "4      DoS GoldenEye   0.898058  0.059909  0.112325\n",
       "5           DoS Hulk   0.813434  0.613613  0.699534\n",
       "6   DoS Slowhttptest   0.647186  0.181212  0.283144\n",
       "7      DoS slowloris   0.040183  0.191489  0.066427\n",
       "8        FTP-Patator   0.000000  0.000000  0.000000\n",
       "9           PortScan   0.036458  0.000294  0.000583\n",
       "10       SSH-Patator   0.000000  0.000000  0.000000\n",
       "11               XSS   0.000000  0.000000  0.000000"
      ]
     },
     "execution_count": 78,
     "metadata": {},
     "output_type": "execute_result"
    }
   ],
   "source": [
    "# Precision,Recall,F1-score for Naive Bayes classifier on all labels.\n",
    "\n",
    "precision, recall, fscore, support = score(y_test.Label, y_predict)\n",
    "\n",
    "d = {'attack': attack, 'precision': precision, 'recall' : recall, 'fscore': fscore}\n",
    "results = pd.DataFrame(data=d)\n",
    "results"
   ]
  },
  {
   "cell_type": "code",
   "execution_count": 79,
   "metadata": {},
   "outputs": [
    {
     "name": "stderr",
     "output_type": "stream",
     "text": [
      "C:\\Users\\user\\anaconda3\\lib\\site-packages\\sklearn\\metrics\\_classification.py:1245: UndefinedMetricWarning: Precision and F-score are ill-defined and being set to 0.0 in labels with no predicted samples. Use `zero_division` parameter to control this behavior.\n",
      "  _warn_prf(average, modifier, msg_start, len(result))\n"
     ]
    },
    {
     "name": "stdout",
     "output_type": "stream",
     "text": [
      "Accuracy of Naive Bayes classifier on all labels :  0.8610573789139534\n"
     ]
    }
   ],
   "source": [
    "# Average Accuracy,Precision,Recall,F1-score for Naive Bayes classifier on all labels.\n",
    "\n",
    "precision_nb_1, recall_nb_1, fscore_nb_1, support = score(y_test.Label, y_predict, average='macro')\n",
    "accuracy_nb_1 = accuracy_score(y_test.Label, y_predict)\n",
    "print(\"Accuracy of Naive Bayes classifier on all labels : \", accuracy_nb_1)"
   ]
  },
  {
   "cell_type": "code",
   "execution_count": 80,
   "metadata": {},
   "outputs": [],
   "source": [
    "# 1. b) Binary Classifier."
   ]
  },
  {
   "cell_type": "code",
   "execution_count": 81,
   "metadata": {},
   "outputs": [
    {
     "name": "stdout",
     "output_type": "stream",
     "text": [
      "Model Training Time is :  44.21700477600098\n"
     ]
    }
   ],
   "source": [
    "# fit the model\n",
    "\n",
    "start = time.time()\n",
    "classifier.fit(x_train, y_train.Attack)\n",
    "end = time.time()\n",
    "training_time = end - start\n",
    "\n",
    "print(\"Model Training Time is : \", training_time)"
   ]
  },
  {
   "cell_type": "code",
   "execution_count": 82,
   "metadata": {},
   "outputs": [
    {
     "name": "stdout",
     "output_type": "stream",
     "text": [
      "Model Testing Time is :  2.2370920181274414\n"
     ]
    }
   ],
   "source": [
    "# predicting test results of Naive Bayes classifier on binary labels.\n",
    "\n",
    "start = time.time()\n",
    "y_predict = classifier.predict(x_test)\n",
    "end = time.time()\n",
    "testing_time = end  - start\n",
    "\n",
    "print(\"Model Testing Time is : \", testing_time)"
   ]
  },
  {
   "cell_type": "code",
   "execution_count": 83,
   "metadata": {},
   "outputs": [
    {
     "name": "stdout",
     "output_type": "stream",
     "text": [
      "Plotting Confusion Matrix of Naive Bayes classifier on binary Labels \n"
     ]
    },
    {
     "data": {
      "image/png": "[encoded data removed]",
      "text/plain": [
       "<Figure size 432x288 with 2 Axes>"
      ]
     },
     "metadata": {
      "needs_background": "light"
     },
     "output_type": "display_data"
    },
    {
     "data": {
      "text/html": [
       "<div>\n",
       "<style scoped>\n",
       "    .dataframe tbody tr th:only-of-type {\n",
       "        vertical-align: middle;\n",
       "    }\n",
       "\n",
       "    .dataframe tbody tr th {\n",
       "        vertical-align: top;\n",
       "    }\n",
       "\n",
       "    .dataframe thead th {\n",
       "        text-align: right;\n",
       "    }\n",
       "</style>\n",
       "<table border=\"1\" class=\"dataframe\">\n",
       "  <thead>\n",
       "    <tr style=\"text-align: right;\">\n",
       "      <th>Predicted attacks</th>\n",
       "      <th>Attack</th>\n",
       "      <th>Normal</th>\n",
       "    </tr>\n",
       "    <tr>\n",
       "      <th>Actual Attacks</th>\n",
       "      <th></th>\n",
       "      <th></th>\n",
       "    </tr>\n",
       "  </thead>\n",
       "  <tbody>\n",
       "    <tr>\n",
       "      <th>Attack</th>\n",
       "      <td>72554</td>\n",
       "      <td>94393</td>\n",
       "    </tr>\n",
       "    <tr>\n",
       "      <th>Normal</th>\n",
       "      <td>18804</td>\n",
       "      <td>662592</td>\n",
       "    </tr>\n",
       "  </tbody>\n",
       "</table>\n",
       "</div>"
      ],
      "text/plain": [
       "Predicted attacks  Attack  Normal\n",
       "Actual Attacks                   \n",
       "Attack              72554   94393\n",
       "Normal              18804  662592"
      ]
     },
     "execution_count": 83,
     "metadata": {},
     "output_type": "execute_result"
    }
   ],
   "source": [
    "# Creating confusion matrix for Naive Bayes classifier on binary labels.\n",
    "\n",
    "confusion_nb_2 = pd.crosstab(y_test.Attack, y_predict, rownames=['Actual Attacks'], colnames=['Predicted attacks'])\n",
    "\n",
    "print(\"Plotting Confusion Matrix of Naive Bayes classifier on binary Labels \")\n",
    "\n",
    "sn.heatmap(confusion_nb_2, annot=True, cmap= 'Blues', fmt='d')\n",
    "plt.show()\n",
    "confusion_nb_2"
   ]
  },
  {
   "cell_type": "code",
   "execution_count": 84,
   "metadata": {},
   "outputs": [
    {
     "data": {
      "text/html": [
       "<div>\n",
       "<style scoped>\n",
       "    .dataframe tbody tr th:only-of-type {\n",
       "        vertical-align: middle;\n",
       "    }\n",
       "\n",
       "    .dataframe tbody tr th {\n",
       "        vertical-align: top;\n",
       "    }\n",
       "\n",
       "    .dataframe thead th {\n",
       "        text-align: right;\n",
       "    }\n",
       "</style>\n",
       "<table border=\"1\" class=\"dataframe\">\n",
       "  <thead>\n",
       "    <tr style=\"text-align: right;\">\n",
       "      <th></th>\n",
       "      <th>attack</th>\n",
       "      <th>precision</th>\n",
       "      <th>recall</th>\n",
       "      <th>fscore</th>\n",
       "    </tr>\n",
       "  </thead>\n",
       "  <tbody>\n",
       "    <tr>\n",
       "      <th>0</th>\n",
       "      <td>0</td>\n",
       "      <td>0.794172</td>\n",
       "      <td>0.434593</td>\n",
       "      <td>0.561770</td>\n",
       "    </tr>\n",
       "    <tr>\n",
       "      <th>1</th>\n",
       "      <td>1</td>\n",
       "      <td>0.875304</td>\n",
       "      <td>0.972404</td>\n",
       "      <td>0.921302</td>\n",
       "    </tr>\n",
       "  </tbody>\n",
       "</table>\n",
       "</div>"
      ],
      "text/plain": [
       "   attack  precision    recall    fscore\n",
       "0       0   0.794172  0.434593  0.561770\n",
       "1       1   0.875304  0.972404  0.921302"
      ]
     },
     "execution_count": 84,
     "metadata": {},
     "output_type": "execute_result"
    }
   ],
   "source": [
    "# Precision,Recall,F1-score for Naive Bayes classifier on binary labels.\n",
    "\n",
    "precision, recall, fscore, support = score(y_test.Attack, y_predict)\n",
    "d = {'attack': [0,1], 'precision': precision, 'recall' : recall, 'fscore': fscore}\n",
    "results = pd.DataFrame(data=d)\n",
    "results"
   ]
  },
  {
   "cell_type": "code",
   "execution_count": 85,
   "metadata": {},
   "outputs": [
    {
     "name": "stdout",
     "output_type": "stream",
     "text": [
      "Accuracy of Naive Bayes classifier on binary labels :  0.8665669428521247\n"
     ]
    }
   ],
   "source": [
    "# Average Accuracy,Precision,Recall,F1-score for Naive Bayes classifier on binary labels.\n",
    "\n",
    "precision_nb_2, recall_nb_2, fscore_nb_2, n = score(y_test.Attack, y_predict, average='macro')\n",
    "accuracy_nb_2 = accuracy_score(y_test.Attack, y_predict)\n",
    "print(\"Accuracy of Naive Bayes classifier on binary labels : \", accuracy_nb_2)"
   ]
  },
  {
   "cell_type": "code",
   "execution_count": 86,
   "metadata": {},
   "outputs": [],
   "source": [
    "# 1. c) Multi-class Classifier."
   ]
  },
  {
   "cell_type": "code",
   "execution_count": 87,
   "metadata": {},
   "outputs": [
    {
     "name": "stdout",
     "output_type": "stream",
     "text": [
      "Model Training Time is :  8.498613119125366\n"
     ]
    }
   ],
   "source": [
    "# fit the model\n",
    "\n",
    "start = time.time()\n",
    "classifier.fit(x_train, y_train.Label_Category)\n",
    "end = time.time()\n",
    "training_time = end - start\n",
    "\n",
    "print(\"Model Training Time is : \", training_time)"
   ]
  },
  {
   "cell_type": "code",
   "execution_count": 88,
   "metadata": {},
   "outputs": [
    {
     "name": "stdout",
     "output_type": "stream",
     "text": [
      "Model Testing Time is :  0.1821749210357666\n"
     ]
    }
   ],
   "source": [
    "# predicting test results of Naive Bayes classifier on multi-class labels.\n",
    "\n",
    "start = time.time()\n",
    "y_predict = classifier.predict(x_test)\n",
    "end = time.time()\n",
    "testing_time = end  - start\n",
    "\n",
    "print(\"Model Testing Time is : \", testing_time)"
   ]
  },
  {
   "cell_type": "code",
   "execution_count": 89,
   "metadata": {},
   "outputs": [
    {
     "name": "stdout",
     "output_type": "stream",
     "text": [
      "Plotting Confusion Matrix of Naive Bayes classifier on multi-class Labels \n"
     ]
    },
    {
     "data": {
      "image/png": "[encoded data removed]",
      "text/plain": [
       "<Figure size 432x288 with 2 Axes>"
      ]
     },
     "metadata": {
      "needs_background": "light"
     },
     "output_type": "display_data"
    },
    {
     "data": {
      "text/html": [
       "<div>\n",
       "<style scoped>\n",
       "    .dataframe tbody tr th:only-of-type {\n",
       "        vertical-align: middle;\n",
       "    }\n",
       "\n",
       "    .dataframe tbody tr th {\n",
       "        vertical-align: top;\n",
       "    }\n",
       "\n",
       "    .dataframe thead th {\n",
       "        text-align: right;\n",
       "    }\n",
       "</style>\n",
       "<table border=\"1\" class=\"dataframe\">\n",
       "  <thead>\n",
       "    <tr style=\"text-align: right;\">\n",
       "      <th>Predicted attacks</th>\n",
       "      <th>benign</th>\n",
       "      <th>ddos</th>\n",
       "      <th>dos</th>\n",
       "      <th>probe</th>\n",
       "    </tr>\n",
       "    <tr>\n",
       "      <th>Actual Attacks</th>\n",
       "      <th></th>\n",
       "      <th></th>\n",
       "      <th></th>\n",
       "      <th></th>\n",
       "    </tr>\n",
       "  </thead>\n",
       "  <tbody>\n",
       "    <tr>\n",
       "      <th>benign</th>\n",
       "      <td>664263</td>\n",
       "      <td>129</td>\n",
       "      <td>16634</td>\n",
       "      <td>370</td>\n",
       "    </tr>\n",
       "    <tr>\n",
       "      <th>botnet</th>\n",
       "      <td>581</td>\n",
       "      <td>6</td>\n",
       "      <td>0</td>\n",
       "      <td>0</td>\n",
       "    </tr>\n",
       "    <tr>\n",
       "      <th>brute_force</th>\n",
       "      <td>4149</td>\n",
       "      <td>0</td>\n",
       "      <td>0</td>\n",
       "      <td>0</td>\n",
       "    </tr>\n",
       "    <tr>\n",
       "      <th>ddos</th>\n",
       "      <td>14321</td>\n",
       "      <td>18749</td>\n",
       "      <td>5338</td>\n",
       "      <td>0</td>\n",
       "    </tr>\n",
       "    <tr>\n",
       "      <th>dos</th>\n",
       "      <td>28479</td>\n",
       "      <td>3936</td>\n",
       "      <td>43099</td>\n",
       "      <td>0</td>\n",
       "    </tr>\n",
       "    <tr>\n",
       "      <th>probe</th>\n",
       "      <td>47609</td>\n",
       "      <td>12</td>\n",
       "      <td>6</td>\n",
       "      <td>14</td>\n",
       "    </tr>\n",
       "    <tr>\n",
       "      <th>web_attack</th>\n",
       "      <td>648</td>\n",
       "      <td>0</td>\n",
       "      <td>0</td>\n",
       "      <td>0</td>\n",
       "    </tr>\n",
       "  </tbody>\n",
       "</table>\n",
       "</div>"
      ],
      "text/plain": [
       "Predicted attacks  benign   ddos    dos  probe\n",
       "Actual Attacks                                \n",
       "benign             664263    129  16634    370\n",
       "botnet                581      6      0      0\n",
       "brute_force          4149      0      0      0\n",
       "ddos                14321  18749   5338      0\n",
       "dos                 28479   3936  43099      0\n",
       "probe               47609     12      6     14\n",
       "web_attack            648      0      0      0"
      ]
     },
     "execution_count": 89,
     "metadata": {},
     "output_type": "execute_result"
    }
   ],
   "source": [
    "# Creating confusion matrix for Naive Bayes classifier on multi-class labels.\n",
    "\n",
    "confusion_nb_3 = pd.crosstab(y_test.Label_Category, y_predict, rownames=['Actual Attacks'], colnames=['Predicted attacks'])\n",
    "\n",
    "print(\"Plotting Confusion Matrix of Naive Bayes classifier on multi-class Labels \")\n",
    "\n",
    "sn.heatmap(confusion_nb_3, annot=True, cmap= 'Blues', fmt='d')\n",
    "plt.show()\n",
    "confusion_nb_3"
   ]
  },
  {
   "cell_type": "code",
   "execution_count": 90,
   "metadata": {},
   "outputs": [
    {
     "name": "stderr",
     "output_type": "stream",
     "text": [
      "C:\\Users\\user\\anaconda3\\lib\\site-packages\\sklearn\\metrics\\_classification.py:1245: UndefinedMetricWarning: Precision and F-score are ill-defined and being set to 0.0 in labels with no predicted samples. Use `zero_division` parameter to control this behavior.\n",
      "  _warn_prf(average, modifier, msg_start, len(result))\n"
     ]
    },
    {
     "data": {
      "text/html": [
       "<div>\n",
       "<style scoped>\n",
       "    .dataframe tbody tr th:only-of-type {\n",
       "        vertical-align: middle;\n",
       "    }\n",
       "\n",
       "    .dataframe tbody tr th {\n",
       "        vertical-align: top;\n",
       "    }\n",
       "\n",
       "    .dataframe thead th {\n",
       "        text-align: right;\n",
       "    }\n",
       "</style>\n",
       "<table border=\"1\" class=\"dataframe\">\n",
       "  <thead>\n",
       "    <tr style=\"text-align: right;\">\n",
       "      <th></th>\n",
       "      <th>attack</th>\n",
       "      <th>precision</th>\n",
       "      <th>recall</th>\n",
       "      <th>fscore</th>\n",
       "    </tr>\n",
       "  </thead>\n",
       "  <tbody>\n",
       "    <tr>\n",
       "      <th>0</th>\n",
       "      <td>benign</td>\n",
       "      <td>0.873973</td>\n",
       "      <td>0.974856</td>\n",
       "      <td>0.921662</td>\n",
       "    </tr>\n",
       "    <tr>\n",
       "      <th>1</th>\n",
       "      <td>botnet</td>\n",
       "      <td>0.000000</td>\n",
       "      <td>0.000000</td>\n",
       "      <td>0.000000</td>\n",
       "    </tr>\n",
       "    <tr>\n",
       "      <th>2</th>\n",
       "      <td>brute_force</td>\n",
       "      <td>0.000000</td>\n",
       "      <td>0.000000</td>\n",
       "      <td>0.000000</td>\n",
       "    </tr>\n",
       "    <tr>\n",
       "      <th>3</th>\n",
       "      <td>ddos</td>\n",
       "      <td>0.821172</td>\n",
       "      <td>0.488154</td>\n",
       "      <td>0.612312</td>\n",
       "    </tr>\n",
       "    <tr>\n",
       "      <th>4</th>\n",
       "      <td>dos</td>\n",
       "      <td>0.662277</td>\n",
       "      <td>0.570742</td>\n",
       "      <td>0.613112</td>\n",
       "    </tr>\n",
       "    <tr>\n",
       "      <th>5</th>\n",
       "      <td>probe</td>\n",
       "      <td>0.036458</td>\n",
       "      <td>0.000294</td>\n",
       "      <td>0.000583</td>\n",
       "    </tr>\n",
       "    <tr>\n",
       "      <th>6</th>\n",
       "      <td>web_attack</td>\n",
       "      <td>0.000000</td>\n",
       "      <td>0.000000</td>\n",
       "      <td>0.000000</td>\n",
       "    </tr>\n",
       "  </tbody>\n",
       "</table>\n",
       "</div>"
      ],
      "text/plain": [
       "        attack  precision    recall    fscore\n",
       "0       benign   0.873973  0.974856  0.921662\n",
       "1       botnet   0.000000  0.000000  0.000000\n",
       "2  brute_force   0.000000  0.000000  0.000000\n",
       "3         ddos   0.821172  0.488154  0.612312\n",
       "4          dos   0.662277  0.570742  0.613112\n",
       "5        probe   0.036458  0.000294  0.000583\n",
       "6   web_attack   0.000000  0.000000  0.000000"
      ]
     },
     "execution_count": 90,
     "metadata": {},
     "output_type": "execute_result"
    }
   ],
   "source": [
    "# Precision,Recall,F1-score for Naive Bayes classifier on multi-class labels.\n",
    "\n",
    "precision, recall, fscore, support = score(y_test.Label_Category, y_predict)\n",
    "d = {'attack': attack_groups, 'precision': precision, 'recall' : recall, 'fscore': fscore}\n",
    "results = pd.DataFrame(data=d)\n",
    "results"
   ]
  },
  {
   "cell_type": "code",
   "execution_count": 91,
   "metadata": {},
   "outputs": [
    {
     "name": "stderr",
     "output_type": "stream",
     "text": [
      "C:\\Users\\user\\anaconda3\\lib\\site-packages\\sklearn\\metrics\\_classification.py:1245: UndefinedMetricWarning: Precision and F-score are ill-defined and being set to 0.0 in labels with no predicted samples. Use `zero_division` parameter to control this behavior.\n",
      "  _warn_prf(average, modifier, msg_start, len(result))\n"
     ]
    },
    {
     "name": "stdout",
     "output_type": "stream",
     "text": [
      "Accuracy of Naive Bayes classifier on multi-class labels :  0.8559332722731253\n"
     ]
    }
   ],
   "source": [
    "# Average Accuracy,Precision,Recall,F1-score for Naive Bayes classifier on multi-class labels.\n",
    "\n",
    "precision_nb_3, recall_nb_3, fscore_nb_3, n = score(y_test.Label_Category, y_predict, average='macro')\n",
    "accuracy_nb_3 = accuracy_score(y_test.Label_Category, y_predict)\n",
    "print(\"Accuracy of Naive Bayes classifier on multi-class labels : \", accuracy_nb_3)"
   ]
  },
  {
   "cell_type": "code",
   "execution_count": 92,
   "metadata": {},
   "outputs": [],
   "source": [
    "### Results for Naive Bayes:"
   ]
  },
  {
   "cell_type": "code",
   "execution_count": 93,
   "metadata": {},
   "outputs": [
    {
     "name": "stdout",
     "output_type": "stream",
     "text": [
      "Naive Bayes: Precision / Recall / Fscore / Accuracy\n",
      "All Labels: 0.3443403606808013 0.20990094123148562 0.22516065133780527 0.8610573789139534\n",
      "Binary Labels: 0.834738189432076 0.7034983634641163 0.7415362463788386 0.8665669428521247\n",
      "Multi-class Labels: 0.34198287606723227 0.2905778934659667 0.3068098620024685 0.8559332722731253\n"
     ]
    }
   ],
   "source": [
    "print('Naive Bayes: Precision / Recall / Fscore / Accuracy')\n",
    "\n",
    "print('All Labels:', precision_nb_1, recall_nb_1, fscore_nb_1,  accuracy_nb_1)\n",
    "print('Binary Labels:', precision_nb_2, recall_nb_2, fscore_nb_2, accuracy_nb_2)\n",
    "print('Multi-class Labels:', precision_nb_3, recall_nb_3, fscore_nb_3, accuracy_nb_3)"
   ]
  },
  {
   "cell_type": "code",
   "execution_count": 94,
   "metadata": {},
   "outputs": [],
   "source": [
    "# 6. Random Forest Classifier"
   ]
  },
  {
   "cell_type": "code",
   "execution_count": 95,
   "metadata": {},
   "outputs": [],
   "source": [
    "classifier =  RandomForestClassifier()"
   ]
  },
  {
   "cell_type": "code",
   "execution_count": 96,
   "metadata": {},
   "outputs": [],
   "source": [
    "# 1. a) On all attack labels."
   ]
  },
  {
   "cell_type": "code",
   "execution_count": 97,
   "metadata": {},
   "outputs": [
    {
     "name": "stdout",
     "output_type": "stream",
     "text": [
      "Model Training Time is :  1213.830884218216\n"
     ]
    }
   ],
   "source": [
    "# fit the model\n",
    "\n",
    "start = time.time()\n",
    "classifier.fit(x_train, y_train.Label)\n",
    "end = time.time()\n",
    "training_time = end - start\n",
    "\n",
    "print(\"Model Training Time is : \", training_time)"
   ]
  },
  {
   "cell_type": "code",
   "execution_count": 98,
   "metadata": {},
   "outputs": [
    {
     "name": "stdout",
     "output_type": "stream",
     "text": [
      "Model Testing Time is :  13.517748594284058\n"
     ]
    }
   ],
   "source": [
    "# predicting test results of Random Forest classifier on all labels.\n",
    "\n",
    "start = time.time()\n",
    "y_predict = classifier.predict(x_test)\n",
    "end = time.time()\n",
    "testing_time = end  - start\n",
    "\n",
    "print(\"Model Testing Time is : \", testing_time)"
   ]
  },
  {
   "cell_type": "code",
   "execution_count": 99,
   "metadata": {},
   "outputs": [
    {
     "name": "stdout",
     "output_type": "stream",
     "text": [
      "Plotting Confusion Matrix of Random Forest classifier on all Labels \n"
     ]
    },
    {
     "data": {
      "image/png": "[encoded data removed]",
      "text/plain": [
       "<Figure size 432x288 with 2 Axes>"
      ]
     },
     "metadata": {
      "needs_background": "light"
     },
     "output_type": "display_data"
    },
    {
     "data": {
      "text/html": [
       "<div>\n",
       "<style scoped>\n",
       "    .dataframe tbody tr th:only-of-type {\n",
       "        vertical-align: middle;\n",
       "    }\n",
       "\n",
       "    .dataframe tbody tr th {\n",
       "        vertical-align: top;\n",
       "    }\n",
       "\n",
       "    .dataframe thead th {\n",
       "        text-align: right;\n",
       "    }\n",
       "</style>\n",
       "<table border=\"1\" class=\"dataframe\">\n",
       "  <thead>\n",
       "    <tr style=\"text-align: right;\">\n",
       "      <th>Predicted attacks</th>\n",
       "      <th>BENIGN</th>\n",
       "      <th>Bot</th>\n",
       "      <th>Brute Force</th>\n",
       "      <th>DDoS</th>\n",
       "      <th>DoS GoldenEye</th>\n",
       "      <th>DoS Hulk</th>\n",
       "      <th>DoS Slowhttptest</th>\n",
       "      <th>DoS slowloris</th>\n",
       "      <th>FTP-Patator</th>\n",
       "      <th>PortScan</th>\n",
       "      <th>SSH-Patator</th>\n",
       "      <th>XSS</th>\n",
       "    </tr>\n",
       "    <tr>\n",
       "      <th>Actual Attacks</th>\n",
       "      <th></th>\n",
       "      <th></th>\n",
       "      <th></th>\n",
       "      <th></th>\n",
       "      <th></th>\n",
       "      <th></th>\n",
       "      <th></th>\n",
       "      <th></th>\n",
       "      <th></th>\n",
       "      <th></th>\n",
       "      <th></th>\n",
       "      <th></th>\n",
       "    </tr>\n",
       "  </thead>\n",
       "  <tbody>\n",
       "    <tr>\n",
       "      <th>BENIGN</th>\n",
       "      <td>681227</td>\n",
       "      <td>10</td>\n",
       "      <td>0</td>\n",
       "      <td>2</td>\n",
       "      <td>0</td>\n",
       "      <td>153</td>\n",
       "      <td>2</td>\n",
       "      <td>0</td>\n",
       "      <td>0</td>\n",
       "      <td>2</td>\n",
       "      <td>0</td>\n",
       "      <td>0</td>\n",
       "    </tr>\n",
       "    <tr>\n",
       "      <th>Bot</th>\n",
       "      <td>49</td>\n",
       "      <td>538</td>\n",
       "      <td>0</td>\n",
       "      <td>0</td>\n",
       "      <td>0</td>\n",
       "      <td>0</td>\n",
       "      <td>0</td>\n",
       "      <td>0</td>\n",
       "      <td>0</td>\n",
       "      <td>0</td>\n",
       "      <td>0</td>\n",
       "      <td>0</td>\n",
       "    </tr>\n",
       "    <tr>\n",
       "      <th>Brute Force</th>\n",
       "      <td>3</td>\n",
       "      <td>0</td>\n",
       "      <td>449</td>\n",
       "      <td>0</td>\n",
       "      <td>0</td>\n",
       "      <td>0</td>\n",
       "      <td>0</td>\n",
       "      <td>0</td>\n",
       "      <td>0</td>\n",
       "      <td>0</td>\n",
       "      <td>0</td>\n",
       "      <td>0</td>\n",
       "    </tr>\n",
       "    <tr>\n",
       "      <th>DDoS</th>\n",
       "      <td>16</td>\n",
       "      <td>0</td>\n",
       "      <td>0</td>\n",
       "      <td>38392</td>\n",
       "      <td>0</td>\n",
       "      <td>0</td>\n",
       "      <td>0</td>\n",
       "      <td>0</td>\n",
       "      <td>0</td>\n",
       "      <td>0</td>\n",
       "      <td>0</td>\n",
       "      <td>0</td>\n",
       "    </tr>\n",
       "    <tr>\n",
       "      <th>DoS GoldenEye</th>\n",
       "      <td>6</td>\n",
       "      <td>0</td>\n",
       "      <td>0</td>\n",
       "      <td>0</td>\n",
       "      <td>3079</td>\n",
       "      <td>2</td>\n",
       "      <td>1</td>\n",
       "      <td>0</td>\n",
       "      <td>0</td>\n",
       "      <td>0</td>\n",
       "      <td>0</td>\n",
       "      <td>0</td>\n",
       "    </tr>\n",
       "    <tr>\n",
       "      <th>DoS Hulk</th>\n",
       "      <td>16</td>\n",
       "      <td>0</td>\n",
       "      <td>0</td>\n",
       "      <td>0</td>\n",
       "      <td>0</td>\n",
       "      <td>69021</td>\n",
       "      <td>0</td>\n",
       "      <td>0</td>\n",
       "      <td>0</td>\n",
       "      <td>0</td>\n",
       "      <td>0</td>\n",
       "      <td>0</td>\n",
       "    </tr>\n",
       "    <tr>\n",
       "      <th>DoS Slowhttptest</th>\n",
       "      <td>8</td>\n",
       "      <td>0</td>\n",
       "      <td>0</td>\n",
       "      <td>0</td>\n",
       "      <td>0</td>\n",
       "      <td>0</td>\n",
       "      <td>1640</td>\n",
       "      <td>2</td>\n",
       "      <td>0</td>\n",
       "      <td>0</td>\n",
       "      <td>0</td>\n",
       "      <td>0</td>\n",
       "    </tr>\n",
       "    <tr>\n",
       "      <th>DoS slowloris</th>\n",
       "      <td>3</td>\n",
       "      <td>0</td>\n",
       "      <td>0</td>\n",
       "      <td>0</td>\n",
       "      <td>0</td>\n",
       "      <td>0</td>\n",
       "      <td>5</td>\n",
       "      <td>1731</td>\n",
       "      <td>0</td>\n",
       "      <td>0</td>\n",
       "      <td>0</td>\n",
       "      <td>0</td>\n",
       "    </tr>\n",
       "    <tr>\n",
       "      <th>FTP-Patator</th>\n",
       "      <td>2</td>\n",
       "      <td>0</td>\n",
       "      <td>0</td>\n",
       "      <td>0</td>\n",
       "      <td>0</td>\n",
       "      <td>0</td>\n",
       "      <td>0</td>\n",
       "      <td>0</td>\n",
       "      <td>2378</td>\n",
       "      <td>0</td>\n",
       "      <td>0</td>\n",
       "      <td>0</td>\n",
       "    </tr>\n",
       "    <tr>\n",
       "      <th>PortScan</th>\n",
       "      <td>3</td>\n",
       "      <td>0</td>\n",
       "      <td>0</td>\n",
       "      <td>0</td>\n",
       "      <td>0</td>\n",
       "      <td>3</td>\n",
       "      <td>0</td>\n",
       "      <td>0</td>\n",
       "      <td>0</td>\n",
       "      <td>47634</td>\n",
       "      <td>0</td>\n",
       "      <td>1</td>\n",
       "    </tr>\n",
       "    <tr>\n",
       "      <th>SSH-Patator</th>\n",
       "      <td>2</td>\n",
       "      <td>0</td>\n",
       "      <td>0</td>\n",
       "      <td>0</td>\n",
       "      <td>0</td>\n",
       "      <td>0</td>\n",
       "      <td>0</td>\n",
       "      <td>0</td>\n",
       "      <td>0</td>\n",
       "      <td>0</td>\n",
       "      <td>1767</td>\n",
       "      <td>0</td>\n",
       "    </tr>\n",
       "    <tr>\n",
       "      <th>XSS</th>\n",
       "      <td>5</td>\n",
       "      <td>0</td>\n",
       "      <td>1</td>\n",
       "      <td>0</td>\n",
       "      <td>0</td>\n",
       "      <td>0</td>\n",
       "      <td>0</td>\n",
       "      <td>0</td>\n",
       "      <td>0</td>\n",
       "      <td>0</td>\n",
       "      <td>0</td>\n",
       "      <td>190</td>\n",
       "    </tr>\n",
       "  </tbody>\n",
       "</table>\n",
       "</div>"
      ],
      "text/plain": [
       "Predicted attacks  BENIGN  Bot  Brute Force   DDoS  DoS GoldenEye  DoS Hulk  \\\n",
       "Actual Attacks                                                                \n",
       "BENIGN             681227   10            0      2              0       153   \n",
       "Bot                    49  538            0      0              0         0   \n",
       "Brute Force             3    0          449      0              0         0   \n",
       "DDoS                   16    0            0  38392              0         0   \n",
       "DoS GoldenEye           6    0            0      0           3079         2   \n",
       "DoS Hulk               16    0            0      0              0     69021   \n",
       "DoS Slowhttptest        8    0            0      0              0         0   \n",
       "DoS slowloris           3    0            0      0              0         0   \n",
       "FTP-Patator             2    0            0      0              0         0   \n",
       "PortScan                3    0            0      0              0         3   \n",
       "SSH-Patator             2    0            0      0              0         0   \n",
       "XSS                     5    0            1      0              0         0   \n",
       "\n",
       "Predicted attacks  DoS Slowhttptest  DoS slowloris  FTP-Patator  PortScan  \\\n",
       "Actual Attacks                                                              \n",
       "BENIGN                            2              0            0         2   \n",
       "Bot                               0              0            0         0   \n",
       "Brute Force                       0              0            0         0   \n",
       "DDoS                              0              0            0         0   \n",
       "DoS GoldenEye                     1              0            0         0   \n",
       "DoS Hulk                          0              0            0         0   \n",
       "DoS Slowhttptest               1640              2            0         0   \n",
       "DoS slowloris                     5           1731            0         0   \n",
       "FTP-Patator                       0              0         2378         0   \n",
       "PortScan                          0              0            0     47634   \n",
       "SSH-Patator                       0              0            0         0   \n",
       "XSS                               0              0            0         0   \n",
       "\n",
       "Predicted attacks  SSH-Patator  XSS  \n",
       "Actual Attacks                       \n",
       "BENIGN                       0    0  \n",
       "Bot                          0    0  \n",
       "Brute Force                  0    0  \n",
       "DDoS                         0    0  \n",
       "DoS GoldenEye                0    0  \n",
       "DoS Hulk                     0    0  \n",
       "DoS Slowhttptest             0    0  \n",
       "DoS slowloris                0    0  \n",
       "FTP-Patator                  0    0  \n",
       "PortScan                     0    1  \n",
       "SSH-Patator               1767    0  \n",
       "XSS                          0  190  "
      ]
     },
     "execution_count": 99,
     "metadata": {},
     "output_type": "execute_result"
    }
   ],
   "source": [
    "# Creating confusion matrix for Random Forest classifier on all labels.\n",
    "\n",
    "confusion_rf_1 = pd.crosstab(y_test.Label, y_predict, rownames=['Actual Attacks'], colnames=['Predicted attacks'])\n",
    "\n",
    "print(\"Plotting Confusion Matrix of Random Forest classifier on all Labels \")\n",
    "\n",
    "sn.heatmap(confusion_rf_1, annot=True, cmap= 'Blues', fmt='d')\n",
    "plt.show()\n",
    "confusion_rf_1"
   ]
  },
  {
   "cell_type": "code",
   "execution_count": 100,
   "metadata": {},
   "outputs": [
    {
     "data": {
      "text/html": [
       "<div>\n",
       "<style scoped>\n",
       "    .dataframe tbody tr th:only-of-type {\n",
       "        vertical-align: middle;\n",
       "    }\n",
       "\n",
       "    .dataframe tbody tr th {\n",
       "        vertical-align: top;\n",
       "    }\n",
       "\n",
       "    .dataframe thead th {\n",
       "        text-align: right;\n",
       "    }\n",
       "</style>\n",
       "<table border=\"1\" class=\"dataframe\">\n",
       "  <thead>\n",
       "    <tr style=\"text-align: right;\">\n",
       "      <th></th>\n",
       "      <th>attack</th>\n",
       "      <th>precision</th>\n",
       "      <th>recall</th>\n",
       "      <th>fscore</th>\n",
       "    </tr>\n",
       "  </thead>\n",
       "  <tbody>\n",
       "    <tr>\n",
       "      <th>0</th>\n",
       "      <td>BENIGN</td>\n",
       "      <td>0.999834</td>\n",
       "      <td>0.999752</td>\n",
       "      <td>0.999793</td>\n",
       "    </tr>\n",
       "    <tr>\n",
       "      <th>1</th>\n",
       "      <td>Bot</td>\n",
       "      <td>0.981752</td>\n",
       "      <td>0.916525</td>\n",
       "      <td>0.948018</td>\n",
       "    </tr>\n",
       "    <tr>\n",
       "      <th>2</th>\n",
       "      <td>Brute Force</td>\n",
       "      <td>0.997778</td>\n",
       "      <td>0.993363</td>\n",
       "      <td>0.995565</td>\n",
       "    </tr>\n",
       "    <tr>\n",
       "      <th>3</th>\n",
       "      <td>DDoS</td>\n",
       "      <td>0.999948</td>\n",
       "      <td>0.999583</td>\n",
       "      <td>0.999766</td>\n",
       "    </tr>\n",
       "    <tr>\n",
       "      <th>4</th>\n",
       "      <td>DoS GoldenEye</td>\n",
       "      <td>1.000000</td>\n",
       "      <td>0.997085</td>\n",
       "      <td>0.998541</td>\n",
       "    </tr>\n",
       "    <tr>\n",
       "      <th>5</th>\n",
       "      <td>DoS Hulk</td>\n",
       "      <td>0.997716</td>\n",
       "      <td>0.999768</td>\n",
       "      <td>0.998741</td>\n",
       "    </tr>\n",
       "    <tr>\n",
       "      <th>6</th>\n",
       "      <td>DoS Slowhttptest</td>\n",
       "      <td>0.995146</td>\n",
       "      <td>0.993939</td>\n",
       "      <td>0.994542</td>\n",
       "    </tr>\n",
       "    <tr>\n",
       "      <th>7</th>\n",
       "      <td>DoS slowloris</td>\n",
       "      <td>0.998846</td>\n",
       "      <td>0.995400</td>\n",
       "      <td>0.997120</td>\n",
       "    </tr>\n",
       "    <tr>\n",
       "      <th>8</th>\n",
       "      <td>FTP-Patator</td>\n",
       "      <td>1.000000</td>\n",
       "      <td>0.999160</td>\n",
       "      <td>0.999580</td>\n",
       "    </tr>\n",
       "    <tr>\n",
       "      <th>9</th>\n",
       "      <td>PortScan</td>\n",
       "      <td>0.999958</td>\n",
       "      <td>0.999853</td>\n",
       "      <td>0.999906</td>\n",
       "    </tr>\n",
       "    <tr>\n",
       "      <th>10</th>\n",
       "      <td>SSH-Patator</td>\n",
       "      <td>1.000000</td>\n",
       "      <td>0.998869</td>\n",
       "      <td>0.999434</td>\n",
       "    </tr>\n",
       "    <tr>\n",
       "      <th>11</th>\n",
       "      <td>XSS</td>\n",
       "      <td>0.994764</td>\n",
       "      <td>0.969388</td>\n",
       "      <td>0.981912</td>\n",
       "    </tr>\n",
       "  </tbody>\n",
       "</table>\n",
       "</div>"
      ],
      "text/plain": [
       "              attack  precision    recall    fscore\n",
       "0             BENIGN   0.999834  0.999752  0.999793\n",
       "1                Bot   0.981752  0.916525  0.948018\n",
       "2        Brute Force   0.997778  0.993363  0.995565\n",
       "3               DDoS   0.999948  0.999583  0.999766\n",
       "4      DoS GoldenEye   1.000000  0.997085  0.998541\n",
       "5           DoS Hulk   0.997716  0.999768  0.998741\n",
       "6   DoS Slowhttptest   0.995146  0.993939  0.994542\n",
       "7      DoS slowloris   0.998846  0.995400  0.997120\n",
       "8        FTP-Patator   1.000000  0.999160  0.999580\n",
       "9           PortScan   0.999958  0.999853  0.999906\n",
       "10       SSH-Patator   1.000000  0.998869  0.999434\n",
       "11               XSS   0.994764  0.969388  0.981912"
      ]
     },
     "execution_count": 100,
     "metadata": {},
     "output_type": "execute_result"
    }
   ],
   "source": [
    "# Precision,Recall,F1-score for Random Forest classifier on all labels.\n",
    "\n",
    "precision, recall, fscore, support = score(y_test.Label, y_predict)\n",
    "\n",
    "d = {'attack': attack, 'precision': precision, 'recall' : recall, 'fscore': fscore}\n",
    "results = pd.DataFrame(data=d)\n",
    "results"
   ]
  },
  {
   "cell_type": "code",
   "execution_count": 101,
   "metadata": {},
   "outputs": [
    {
     "name": "stdout",
     "output_type": "stream",
     "text": [
      "Accuracy of Random Forest classifier on all labels :  0.9996499057574589\n"
     ]
    }
   ],
   "source": [
    "# Average Accuracy,Precision,Recall,F1-score for Random Forest classifier on all labels.\n",
    "\n",
    "precision_rf_1, recall_rf_1, fscore_rf_1, support = score(y_test.Label, y_predict, average='macro')\n",
    "accuracy_rf_1 = accuracy_score(y_test.Label, y_predict)\n",
    "print(\"Accuracy of Random Forest classifier on all labels : \", accuracy_rf_1)"
   ]
  },
  {
   "cell_type": "code",
   "execution_count": 102,
   "metadata": {},
   "outputs": [],
   "source": [
    "# 1. b) Binary Classifier."
   ]
  },
  {
   "cell_type": "code",
   "execution_count": 103,
   "metadata": {},
   "outputs": [
    {
     "name": "stdout",
     "output_type": "stream",
     "text": [
      "Model Training Time is :  1065.3459088802338\n"
     ]
    }
   ],
   "source": [
    "# fit the model\n",
    "\n",
    "start = time.time()\n",
    "classifier.fit(x_train, y_train.Attack)\n",
    "end = time.time()\n",
    "training_time = end - start\n",
    "\n",
    "print(\"Model Training Time is : \", training_time)"
   ]
  },
  {
   "cell_type": "code",
   "execution_count": 104,
   "metadata": {},
   "outputs": [
    {
     "name": "stdout",
     "output_type": "stream",
     "text": [
      "Model Testing Time is :  11.010573148727417\n"
     ]
    }
   ],
   "source": [
    "# predicting test results of Random Forest classifier on binary labels.\n",
    "\n",
    "start = time.time()\n",
    "y_predict = classifier.predict(x_test)\n",
    "end = time.time()\n",
    "testing_time = end  - start\n",
    "\n",
    "print(\"Model Testing Time is : \", testing_time)"
   ]
  },
  {
   "cell_type": "code",
   "execution_count": 105,
   "metadata": {},
   "outputs": [
    {
     "name": "stdout",
     "output_type": "stream",
     "text": [
      "Plotting Confusion Matrix of Random Forest classifier on binary Labels \n"
     ]
    },
    {
     "data": {
      "image/png": "[encoded data removed]",
      "text/plain": [
       "<Figure size 432x288 with 2 Axes>"
      ]
     },
     "metadata": {
      "needs_background": "light"
     },
     "output_type": "display_data"
    },
    {
     "data": {
      "text/html": [
       "<div>\n",
       "<style scoped>\n",
       "    .dataframe tbody tr th:only-of-type {\n",
       "        vertical-align: middle;\n",
       "    }\n",
       "\n",
       "    .dataframe tbody tr th {\n",
       "        vertical-align: top;\n",
       "    }\n",
       "\n",
       "    .dataframe thead th {\n",
       "        text-align: right;\n",
       "    }\n",
       "</style>\n",
       "<table border=\"1\" class=\"dataframe\">\n",
       "  <thead>\n",
       "    <tr style=\"text-align: right;\">\n",
       "      <th>Predicted attacks</th>\n",
       "      <th>Attack</th>\n",
       "      <th>Normal</th>\n",
       "    </tr>\n",
       "    <tr>\n",
       "      <th>Actual Attacks</th>\n",
       "      <th></th>\n",
       "      <th></th>\n",
       "    </tr>\n",
       "  </thead>\n",
       "  <tbody>\n",
       "    <tr>\n",
       "      <th>Attack</th>\n",
       "      <td>166856</td>\n",
       "      <td>91</td>\n",
       "    </tr>\n",
       "    <tr>\n",
       "      <th>Normal</th>\n",
       "      <td>193</td>\n",
       "      <td>681203</td>\n",
       "    </tr>\n",
       "  </tbody>\n",
       "</table>\n",
       "</div>"
      ],
      "text/plain": [
       "Predicted attacks  Attack  Normal\n",
       "Actual Attacks                   \n",
       "Attack             166856      91\n",
       "Normal                193  681203"
      ]
     },
     "execution_count": 105,
     "metadata": {},
     "output_type": "execute_result"
    }
   ],
   "source": [
    "# Creating confusion matrix for Random Forest classifier on binary labels.\n",
    "\n",
    "confusion_rf_2 = pd.crosstab(y_test.Attack, y_predict, rownames=['Actual Attacks'], colnames=['Predicted attacks'])\n",
    "\n",
    "print(\"Plotting Confusion Matrix of Random Forest classifier on binary Labels \")\n",
    "\n",
    "sn.heatmap(confusion_rf_2, annot=True, cmap= 'Blues', fmt='d')\n",
    "plt.show()\n",
    "confusion_rf_2"
   ]
  },
  {
   "cell_type": "code",
   "execution_count": 106,
   "metadata": {},
   "outputs": [
    {
     "data": {
      "text/html": [
       "<div>\n",
       "<style scoped>\n",
       "    .dataframe tbody tr th:only-of-type {\n",
       "        vertical-align: middle;\n",
       "    }\n",
       "\n",
       "    .dataframe tbody tr th {\n",
       "        vertical-align: top;\n",
       "    }\n",
       "\n",
       "    .dataframe thead th {\n",
       "        text-align: right;\n",
       "    }\n",
       "</style>\n",
       "<table border=\"1\" class=\"dataframe\">\n",
       "  <thead>\n",
       "    <tr style=\"text-align: right;\">\n",
       "      <th></th>\n",
       "      <th>attack</th>\n",
       "      <th>precision</th>\n",
       "      <th>recall</th>\n",
       "      <th>fscore</th>\n",
       "    </tr>\n",
       "  </thead>\n",
       "  <tbody>\n",
       "    <tr>\n",
       "      <th>0</th>\n",
       "      <td>0</td>\n",
       "      <td>0.998845</td>\n",
       "      <td>0.999455</td>\n",
       "      <td>0.999150</td>\n",
       "    </tr>\n",
       "    <tr>\n",
       "      <th>1</th>\n",
       "      <td>1</td>\n",
       "      <td>0.999866</td>\n",
       "      <td>0.999717</td>\n",
       "      <td>0.999792</td>\n",
       "    </tr>\n",
       "  </tbody>\n",
       "</table>\n",
       "</div>"
      ],
      "text/plain": [
       "   attack  precision    recall    fscore\n",
       "0       0   0.998845  0.999455  0.999150\n",
       "1       1   0.999866  0.999717  0.999792"
      ]
     },
     "execution_count": 106,
     "metadata": {},
     "output_type": "execute_result"
    }
   ],
   "source": [
    "# Precision,Recall,F1-score for Random Forest classifier on binary labels.\n",
    "\n",
    "precision, recall, fscore, support = score(y_test.Attack, y_predict)\n",
    "d = {'attack': [0,1], 'precision': precision, 'recall' : recall, 'fscore': fscore}\n",
    "results = pd.DataFrame(data=d)\n",
    "results"
   ]
  },
  {
   "cell_type": "code",
   "execution_count": 107,
   "metadata": {},
   "outputs": [
    {
     "name": "stdout",
     "output_type": "stream",
     "text": [
      "Accuracy of Random Forest classifier on binary labels :  0.9996652297478732\n"
     ]
    }
   ],
   "source": [
    "# Average Accuracy,Precision,Recall,F1-score for Random Forest classifier on binary labels.\n",
    "\n",
    "precision_rf_2, recall_rf_2, fscore_rf_2, n = score(y_test.Attack, y_predict, average='macro')\n",
    "accuracy_rf_2 = accuracy_score(y_test.Attack, y_predict)\n",
    "print(\"Accuracy of Random Forest classifier on binary labels : \", accuracy_rf_2)"
   ]
  },
  {
   "cell_type": "code",
   "execution_count": 108,
   "metadata": {},
   "outputs": [],
   "source": [
    "# 1. c) Multi-class Classifier."
   ]
  },
  {
   "cell_type": "code",
   "execution_count": 109,
   "metadata": {},
   "outputs": [
    {
     "name": "stdout",
     "output_type": "stream",
     "text": [
      "Model Training Time is :  1315.117155790329\n"
     ]
    }
   ],
   "source": [
    "# fit the model\n",
    "\n",
    "start = time.time()\n",
    "classifier.fit(x_train, y_train.Label_Category)\n",
    "end = time.time()\n",
    "training_time = end - start\n",
    "\n",
    "print(\"Model Training Time is : \", training_time)"
   ]
  },
  {
   "cell_type": "code",
   "execution_count": 110,
   "metadata": {},
   "outputs": [
    {
     "name": "stdout",
     "output_type": "stream",
     "text": [
      "Model Testing Time is :  14.242902278900146\n"
     ]
    }
   ],
   "source": [
    "# predicting test results of Random Forest classifier on multi-class labels.\n",
    "\n",
    "start = time.time()\n",
    "y_predict = classifier.predict(x_test)\n",
    "end = time.time()\n",
    "testing_time = end  - start\n",
    "\n",
    "print(\"Model Testing Time is : \", testing_time)"
   ]
  },
  {
   "cell_type": "code",
   "execution_count": 111,
   "metadata": {},
   "outputs": [
    {
     "name": "stdout",
     "output_type": "stream",
     "text": [
      "Plotting Confusion Matrix of Random Forest classifier on multi-class Labels \n"
     ]
    },
    {
     "data": {
      "image/png": "[encoded data removed]",
      "text/plain": [
       "<Figure size 432x288 with 2 Axes>"
      ]
     },
     "metadata": {
      "needs_background": "light"
     },
     "output_type": "display_data"
    },
    {
     "data": {
      "text/html": [
       "<div>\n",
       "<style scoped>\n",
       "    .dataframe tbody tr th:only-of-type {\n",
       "        vertical-align: middle;\n",
       "    }\n",
       "\n",
       "    .dataframe tbody tr th {\n",
       "        vertical-align: top;\n",
       "    }\n",
       "\n",
       "    .dataframe thead th {\n",
       "        text-align: right;\n",
       "    }\n",
       "</style>\n",
       "<table border=\"1\" class=\"dataframe\">\n",
       "  <thead>\n",
       "    <tr style=\"text-align: right;\">\n",
       "      <th>Predicted attacks</th>\n",
       "      <th>benign</th>\n",
       "      <th>botnet</th>\n",
       "      <th>brute_force</th>\n",
       "      <th>ddos</th>\n",
       "      <th>dos</th>\n",
       "      <th>probe</th>\n",
       "      <th>web_attack</th>\n",
       "    </tr>\n",
       "    <tr>\n",
       "      <th>Actual Attacks</th>\n",
       "      <th></th>\n",
       "      <th></th>\n",
       "      <th></th>\n",
       "      <th></th>\n",
       "      <th></th>\n",
       "      <th></th>\n",
       "      <th></th>\n",
       "    </tr>\n",
       "  </thead>\n",
       "  <tbody>\n",
       "    <tr>\n",
       "      <th>benign</th>\n",
       "      <td>681219</td>\n",
       "      <td>13</td>\n",
       "      <td>0</td>\n",
       "      <td>1</td>\n",
       "      <td>159</td>\n",
       "      <td>3</td>\n",
       "      <td>1</td>\n",
       "    </tr>\n",
       "    <tr>\n",
       "      <th>botnet</th>\n",
       "      <td>33</td>\n",
       "      <td>554</td>\n",
       "      <td>0</td>\n",
       "      <td>0</td>\n",
       "      <td>0</td>\n",
       "      <td>0</td>\n",
       "      <td>0</td>\n",
       "    </tr>\n",
       "    <tr>\n",
       "      <th>brute_force</th>\n",
       "      <td>4</td>\n",
       "      <td>0</td>\n",
       "      <td>4145</td>\n",
       "      <td>0</td>\n",
       "      <td>0</td>\n",
       "      <td>0</td>\n",
       "      <td>0</td>\n",
       "    </tr>\n",
       "    <tr>\n",
       "      <th>ddos</th>\n",
       "      <td>18</td>\n",
       "      <td>0</td>\n",
       "      <td>0</td>\n",
       "      <td>38390</td>\n",
       "      <td>0</td>\n",
       "      <td>0</td>\n",
       "      <td>0</td>\n",
       "    </tr>\n",
       "    <tr>\n",
       "      <th>dos</th>\n",
       "      <td>29</td>\n",
       "      <td>0</td>\n",
       "      <td>0</td>\n",
       "      <td>0</td>\n",
       "      <td>75484</td>\n",
       "      <td>0</td>\n",
       "      <td>1</td>\n",
       "    </tr>\n",
       "    <tr>\n",
       "      <th>probe</th>\n",
       "      <td>3</td>\n",
       "      <td>0</td>\n",
       "      <td>0</td>\n",
       "      <td>0</td>\n",
       "      <td>3</td>\n",
       "      <td>47633</td>\n",
       "      <td>2</td>\n",
       "    </tr>\n",
       "    <tr>\n",
       "      <th>web_attack</th>\n",
       "      <td>10</td>\n",
       "      <td>0</td>\n",
       "      <td>0</td>\n",
       "      <td>0</td>\n",
       "      <td>0</td>\n",
       "      <td>0</td>\n",
       "      <td>638</td>\n",
       "    </tr>\n",
       "  </tbody>\n",
       "</table>\n",
       "</div>"
      ],
      "text/plain": [
       "Predicted attacks  benign  botnet  brute_force   ddos    dos  probe  \\\n",
       "Actual Attacks                                                        \n",
       "benign             681219      13            0      1    159      3   \n",
       "botnet                 33     554            0      0      0      0   \n",
       "brute_force             4       0         4145      0      0      0   \n",
       "ddos                   18       0            0  38390      0      0   \n",
       "dos                    29       0            0      0  75484      0   \n",
       "probe                   3       0            0      0      3  47633   \n",
       "web_attack             10       0            0      0      0      0   \n",
       "\n",
       "Predicted attacks  web_attack  \n",
       "Actual Attacks                 \n",
       "benign                      1  \n",
       "botnet                      0  \n",
       "brute_force                 0  \n",
       "ddos                        0  \n",
       "dos                         1  \n",
       "probe                       2  \n",
       "web_attack                638  "
      ]
     },
     "execution_count": 111,
     "metadata": {},
     "output_type": "execute_result"
    }
   ],
   "source": [
    "# Creating confusion matrix for Random Forest classifier on multi-class labels.\n",
    "\n",
    "confusion_rf_3 = pd.crosstab(y_test.Label_Category, y_predict, rownames=['Actual Attacks'], colnames=['Predicted attacks'])\n",
    "\n",
    "print(\"Plotting Confusion Matrix of Random Forest classifier on multi-class Labels \")\n",
    "\n",
    "sn.heatmap(confusion_rf_3, annot=True, cmap= 'Blues', fmt='d')\n",
    "plt.show()\n",
    "confusion_rf_3"
   ]
  },
  {
   "cell_type": "code",
   "execution_count": 112,
   "metadata": {},
   "outputs": [
    {
     "data": {
      "text/html": [
       "<div>\n",
       "<style scoped>\n",
       "    .dataframe tbody tr th:only-of-type {\n",
       "        vertical-align: middle;\n",
       "    }\n",
       "\n",
       "    .dataframe tbody tr th {\n",
       "        vertical-align: top;\n",
       "    }\n",
       "\n",
       "    .dataframe thead th {\n",
       "        text-align: right;\n",
       "    }\n",
       "</style>\n",
       "<table border=\"1\" class=\"dataframe\">\n",
       "  <thead>\n",
       "    <tr style=\"text-align: right;\">\n",
       "      <th></th>\n",
       "      <th>attack</th>\n",
       "      <th>precision</th>\n",
       "      <th>recall</th>\n",
       "      <th>fscore</th>\n",
       "    </tr>\n",
       "  </thead>\n",
       "  <tbody>\n",
       "    <tr>\n",
       "      <th>0</th>\n",
       "      <td>benign</td>\n",
       "      <td>0.999858</td>\n",
       "      <td>0.999740</td>\n",
       "      <td>0.999799</td>\n",
       "    </tr>\n",
       "    <tr>\n",
       "      <th>1</th>\n",
       "      <td>botnet</td>\n",
       "      <td>0.977072</td>\n",
       "      <td>0.943782</td>\n",
       "      <td>0.960139</td>\n",
       "    </tr>\n",
       "    <tr>\n",
       "      <th>2</th>\n",
       "      <td>brute_force</td>\n",
       "      <td>1.000000</td>\n",
       "      <td>0.999036</td>\n",
       "      <td>0.999518</td>\n",
       "    </tr>\n",
       "    <tr>\n",
       "      <th>3</th>\n",
       "      <td>ddos</td>\n",
       "      <td>0.999974</td>\n",
       "      <td>0.999531</td>\n",
       "      <td>0.999753</td>\n",
       "    </tr>\n",
       "    <tr>\n",
       "      <th>4</th>\n",
       "      <td>dos</td>\n",
       "      <td>0.997858</td>\n",
       "      <td>0.999603</td>\n",
       "      <td>0.998730</td>\n",
       "    </tr>\n",
       "    <tr>\n",
       "      <th>5</th>\n",
       "      <td>probe</td>\n",
       "      <td>0.999937</td>\n",
       "      <td>0.999832</td>\n",
       "      <td>0.999885</td>\n",
       "    </tr>\n",
       "    <tr>\n",
       "      <th>6</th>\n",
       "      <td>web_attack</td>\n",
       "      <td>0.993769</td>\n",
       "      <td>0.984568</td>\n",
       "      <td>0.989147</td>\n",
       "    </tr>\n",
       "  </tbody>\n",
       "</table>\n",
       "</div>"
      ],
      "text/plain": [
       "        attack  precision    recall    fscore\n",
       "0       benign   0.999858  0.999740  0.999799\n",
       "1       botnet   0.977072  0.943782  0.960139\n",
       "2  brute_force   1.000000  0.999036  0.999518\n",
       "3         ddos   0.999974  0.999531  0.999753\n",
       "4          dos   0.997858  0.999603  0.998730\n",
       "5        probe   0.999937  0.999832  0.999885\n",
       "6   web_attack   0.993769  0.984568  0.989147"
      ]
     },
     "execution_count": 112,
     "metadata": {},
     "output_type": "execute_result"
    }
   ],
   "source": [
    "# Precision,Recall,F1-score for Random Forest classifier on multi-class labels.\n",
    "\n",
    "precision, recall, fscore, support = score(y_test.Label_Category, y_predict)\n",
    "d = {'attack': attack_groups, 'precision': precision, 'recall' : recall, 'fscore': fscore}\n",
    "results = pd.DataFrame(data=d)\n",
    "results"
   ]
  },
  {
   "cell_type": "code",
   "execution_count": 113,
   "metadata": {},
   "outputs": [
    {
     "name": "stdout",
     "output_type": "stream",
     "text": [
      "Accuracy of Random Forest classifier on multi-class labels :  0.9996699448218468\n"
     ]
    }
   ],
   "source": [
    "# Average Accuracy,Precision,Recall,F1-score for Random Forest classifier on multi-class labels.\n",
    "\n",
    "precision_rf_3, recall_rf_3, fscore_rf_3, n = score(y_test.Label_Category, y_predict, average='macro')\n",
    "accuracy_rf_3 = accuracy_score(y_test.Label_Category, y_predict)\n",
    "print(\"Accuracy of Random Forest classifier on multi-class labels : \", accuracy_rf_3)"
   ]
  },
  {
   "cell_type": "code",
   "execution_count": 114,
   "metadata": {},
   "outputs": [],
   "source": [
    "### Results for Random Forest:"
   ]
  },
  {
   "cell_type": "code",
   "execution_count": 115,
   "metadata": {},
   "outputs": [
    {
     "name": "stdout",
     "output_type": "stream",
     "text": [
      "Random Forest Classifier : Precision / Recall / Fscore / Accuracy\n",
      "All Labels: 0.9971451422674532 0.9885571349521968 0.9927430946915207 0.9996499057574589\n",
      "Binary Labels: 0.99935554050863 0.999585837389874 0.9994706395556712 0.9996652297478732\n",
      "Multi-class Labels: 0.9954955471214486 0.9894417346370281 0.9924242228340139 0.9996699448218468\n"
     ]
    }
   ],
   "source": [
    "print('Random Forest Classifier : Precision / Recall / Fscore / Accuracy')\n",
    "\n",
    "print('All Labels:', precision_rf_1, recall_rf_1, fscore_rf_1,  accuracy_rf_1)\n",
    "print('Binary Labels:', precision_rf_2, recall_rf_2, fscore_rf_2, accuracy_rf_2)\n",
    "print('Multi-class Labels:', precision_rf_3, recall_rf_3, fscore_rf_3, accuracy_rf_3)"
   ]
  }
 ],
 "metadata": {
  "kernelspec": {
   "display_name": "Python 3",
   "language": "python",
   "name": "python3"
  },
  "language_info": {
   "codemirror_mode": {
    "name": "ipython",
    "version": 3
   },
   "file_extension": ".py",
   "mimetype": "text/x-python",
   "name": "python",
   "nbconvert_exporter": "python",
   "pygments_lexer": "ipython3",
   "version": "3.8.8"
  }
 },
 "nbformat": 4,
 "nbformat_minor": 4
}
