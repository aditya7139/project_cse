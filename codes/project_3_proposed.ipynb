{
 "cells": [
  {
   "cell_type": "markdown",
   "metadata": {},
   "source": [
    "# Machine Learning for the Detection of Network Attacks\n",
    "\n",
    "\n",
    "Analyse the machine learning algorithms on the [CICIDS 2017 Dataset] for clasification of network attacks.\n",
    "(https://www.unb.ca/cic/datasets/ids-2017.html): \n",
    "\n",
    "- Support Vector Machine (Proposed Optimized Random Forest)\n",
    "- Decision Tree\n",
    "- Naive Bayes\n",
    "- K Means Clustering \n",
    "- K Nearest Neighbours\n"
   ]
  },
  {
   "cell_type": "markdown",
   "metadata": {},
   "source": [
    "# Import required libraries."
   ]
  },
  {
   "cell_type": "code",
   "execution_count": 1,
   "metadata": {},
   "outputs": [],
   "source": [
    "import glob\n",
    "import matplotlib.pyplot as plt\n",
    "import numpy as np\n",
    "import pandas as pd \n",
    "import seaborn as sn\n",
    "import time\n",
    "\n",
    "from numpy import array\n",
    "\n",
    "from sklearn import preprocessing\n",
    "from sklearn.preprocessing import StandardScaler\n",
    "from sklearn.preprocessing import MinMaxScaler\n",
    "from sklearn.preprocessing import RobustScaler\n",
    "\n",
    "from sklearn.tree import DecisionTreeClassifier\n",
    "from sklearn.svm import LinearSVC\n",
    "from sklearn.naive_bayes import MultinomialNB\n",
    "from sklearn.neighbors import NearestNeighbors\n",
    "from sklearn.neighbors import KNeighborsClassifier\n",
    "from sklearn.cluster import KMeans\n",
    "from sklearn.decomposition import PCA\n",
    "from sklearn.ensemble import RandomForestRegressor\n",
    "from sklearn.ensemble import RandomForestClassifier\n",
    "\n",
    "from sklearn.feature_selection import SelectKBest\n",
    "from sklearn.feature_selection import chi2\n",
    "from sklearn.feature_selection import mutual_info_classif\n",
    "\n",
    "from sklearn import metrics\n",
    "from sklearn.metrics import accuracy_score\n",
    "from sklearn.metrics import confusion_matrix\n",
    "from sklearn.metrics import precision_recall_fscore_support as score\n",
    "from sklearn.metrics import completeness_score, homogeneity_score, v_measure_score\n",
    "\n",
    "from sklearn.model_selection import train_test_split"
   ]
  },
  {
   "cell_type": "markdown",
   "metadata": {},
   "source": [
    "# Loading the dataset"
   ]
  },
  {
   "cell_type": "markdown",
   "metadata": {},
   "source": [
    "The implemented attacks include Brute Force FTP, Brute Force SSH, DoS, Heartbleed, Web Attack, Infiltration, Botnet and DDoS. \n",
    "\n",
    "Datasets is available in 8 different csv files.\n",
    "\n",
    "- Monday-WorkingHours.pcap_ISCX.csv\n",
    "- Tuesday-WorkingHours.pcap_ISCX.csv\n",
    "- Wednesday-workingHours.pcap_ISCX.csv\n",
    "- Thursday-WorkingHours-Morning-WebAttacks.pcap_ISCX.csv\n",
    "- Thursday-WorkingHours-Afternoon-Infilteration.pcap_ISCX.csv\n",
    "- Friday-WorkingHours-Morning.pcap_ISCX.csv\n",
    "- Friday-WorkingHours-Afternoon-PortScan.pcap_ISCX.csv\n",
    "- Friday-WorkingHours-Afternoon-DDos.pcap_ISCX.csv\n",
    "\n",
    "8 different csv files of cicids dataset needs to be concatenated into a single csv file."
   ]
  },
  {
   "cell_type": "code",
   "execution_count": 2,
   "metadata": {},
   "outputs": [],
   "source": [
    "# # path to the all 8 files of CICIDS dataset.\n",
    "# path = './datasets'\n",
    "# all_files = glob.glob(path + \"/*.csv\")\n",
    "\n",
    "# # concatenate the 8 files into 1.\n",
    "# dataset = pd.concat((pd.read_csv(f) for f in all_files))"
   ]
  },
  {
   "cell_type": "code",
   "execution_count": 3,
   "metadata": {},
   "outputs": [],
   "source": [
    "# # saving the combined dataset to disk named cicids.csv\n",
    "# dataset.to_csv('cicids')"
   ]
  },
  {
   "cell_type": "code",
   "execution_count": 4,
   "metadata": {},
   "outputs": [],
   "source": [
    "dataset=pd.read_csv('cicids.csv')"
   ]
  },
  {
   "cell_type": "code",
   "execution_count": 5,
   "metadata": {},
   "outputs": [
    {
     "name": "stdout",
     "output_type": "stream",
     "text": [
      "(2827876, 79)\n"
     ]
    }
   ],
   "source": [
    "# Dimenions of dataset.\n",
    "print(dataset.shape)"
   ]
  },
  {
   "cell_type": "code",
   "execution_count": 6,
   "metadata": {},
   "outputs": [],
   "source": [
    "# column names as per dataset.\n",
    "\n",
    "col_names = [\"Destination_Port\",\n",
    "             \"Flow_Duration\", \n",
    "             \"Total_Fwd_Packets\",\n",
    "             \"Total_Backward_Packets\",\n",
    "             \"Total_Length_of_Fwd_Packets\", \n",
    "             \"Total_Length_of_Bwd_Packets\", \n",
    "             \"Fwd_Packet_Length_Max\", \n",
    "             \"Fwd_Packet_Length_Min\", \n",
    "             \"Fwd_Packet_Length_Mean\", \n",
    "             \"Fwd_Packet_Length_Std\",\n",
    "             \"Bwd_Packet_Length_Max\", \n",
    "             \"Bwd_Packet_Length_Min\", \n",
    "             \"Bwd_Packet_Length_Mean\", \n",
    "             \"Bwd_Packet_Length_Std\",\n",
    "             \"Flow_Bytes_s\", \n",
    "             \"Flow_Packets_s\", \n",
    "             \"Flow_IAT_Mean\", \n",
    "             \"Flow_IAT_Std\", \n",
    "             \"Flow_IAT_Max\", \n",
    "             \"Flow_IAT_Min\",\n",
    "             \"Fwd_IAT_Total\", \n",
    "             \"Fwd_IAT_Mean\", \n",
    "             \"Fwd_IAT_Std\", \n",
    "             \"Fwd_IAT_Max\", \n",
    "             \"Fwd_IAT_Min\",\n",
    "             \"Bwd_IAT_Total\", \n",
    "             \"Bwd_IAT_Mean\", \n",
    "             \"Bwd_IAT_Std\", \n",
    "             \"Bwd_IAT_Max\", \n",
    "             \"Bwd_IAT_Min\",\n",
    "             \"Fwd_PSH_Flags\", \n",
    "             \"Bwd_PSH_Flags\", \n",
    "             \"Fwd_URG_Flags\", \n",
    "             \"Bwd_URG_Flags\", \n",
    "             \"Fwd_Header_Length\", \n",
    "             \"Bwd_Header_Length\",\n",
    "             \"Fwd_Packets_s\", \n",
    "             \"Bwd_Packets_s\", \n",
    "             \"Min_Packet_Length\", \n",
    "             \"Max_Packet_Length\", \n",
    "             \"Packet_Length_Mean\", \n",
    "             \"Packet_Length_Std\", \n",
    "             \"Packet_Length_Variance\",\n",
    "             \"FIN_Flag_Count\", \n",
    "             \"SYN_Flag_Count\", \n",
    "             \"RST_Flag_Count\", \n",
    "             \"PSH_Flag_Count\", \n",
    "             \"ACK_Flag_Count\", \n",
    "             \"URG_Flag_Count\", \n",
    "             \"CWE_Flag_Count\", \n",
    "             \"ECE_Flag_Count\", \n",
    "             \"Down_Up_Ratio\", \n",
    "             \"Average_Packet_Size\", \n",
    "             \"Avg_Fwd_Segment_Size\", \n",
    "             \"Avg_Bwd_Segment_Size\", \n",
    "             \"Fwd_Header_Length\",\n",
    "             \"Fwd_Avg_Bytes_Bulk\", \n",
    "             \"Fwd_Avg_Packets_Bulk\", \n",
    "             \"Fwd_Avg_Bulk_Rate\", \n",
    "             \"Bwd_Avg_Bytes_Bulk\", \n",
    "             \"Bwd_Avg_Packets_Bulk\",\n",
    "             \"Bwd_Avg_Bulk_Rate\",\n",
    "             \"Subflow_Fwd_Packets\", \n",
    "             \"Subflow_Fwd_Bytes\", \n",
    "             \"Subflow_Bwd_Packets\", \n",
    "             \"Subflow_Bwd_Bytes\",\n",
    "             \"Init_Win_bytes_forward\", \n",
    "             \"Init_Win_bytes_backward\", \n",
    "             \"act_data_pkt_fwd\", \n",
    "             \"min_seg_size_forward\",\n",
    "             \"Active_Mean\", \n",
    "             \"Active_Std\", \n",
    "             \"Active_Max\", \n",
    "             \"Active_Min\",\n",
    "             \"Idle_Mean\", \n",
    "             \"Idle_Std\", \n",
    "             \"Idle_Max\", \n",
    "             \"Idle_Min\", \n",
    "             \"Label\"\n",
    "            ]"
   ]
  },
  {
   "cell_type": "code",
   "execution_count": 7,
   "metadata": {},
   "outputs": [],
   "source": [
    "# Max rows and colummns to be shown in print console\n",
    "\n",
    "pd.options.display.max_columns= 200\n",
    "pd.options.display.max_rows= 200"
   ]
  },
  {
   "cell_type": "code",
   "execution_count": 8,
   "metadata": {},
   "outputs": [
    {
     "data": {
      "text/html": [
       "<div>\n",
       "<style scoped>\n",
       "    .dataframe tbody tr th:only-of-type {\n",
       "        vertical-align: middle;\n",
       "    }\n",
       "\n",
       "    .dataframe tbody tr th {\n",
       "        vertical-align: top;\n",
       "    }\n",
       "\n",
       "    .dataframe thead th {\n",
       "        text-align: right;\n",
       "    }\n",
       "</style>\n",
       "<table border=\"1\" class=\"dataframe\">\n",
       "  <thead>\n",
       "    <tr style=\"text-align: right;\">\n",
       "      <th></th>\n",
       "      <th>Destination_Port</th>\n",
       "      <th>Flow_Duration</th>\n",
       "      <th>Total_Fwd_Packets</th>\n",
       "      <th>Total_Backward_Packets</th>\n",
       "      <th>Total_Length_of_Fwd_Packets</th>\n",
       "      <th>Total_Length_of_Bwd_Packets</th>\n",
       "      <th>Fwd_Packet_Length_Max</th>\n",
       "      <th>Fwd_Packet_Length_Min</th>\n",
       "      <th>Fwd_Packet_Length_Mean</th>\n",
       "      <th>Fwd_Packet_Length_Std</th>\n",
       "      <th>Bwd_Packet_Length_Max</th>\n",
       "      <th>Bwd_Packet_Length_Min</th>\n",
       "      <th>Bwd_Packet_Length_Mean</th>\n",
       "      <th>Bwd_Packet_Length_Std</th>\n",
       "      <th>Flow_Bytes_s</th>\n",
       "      <th>Flow_Packets_s</th>\n",
       "      <th>Flow_IAT_Mean</th>\n",
       "      <th>Flow_IAT_Std</th>\n",
       "      <th>Flow_IAT_Max</th>\n",
       "      <th>Flow_IAT_Min</th>\n",
       "      <th>Fwd_IAT_Total</th>\n",
       "      <th>Fwd_IAT_Mean</th>\n",
       "      <th>Fwd_IAT_Std</th>\n",
       "      <th>Fwd_IAT_Max</th>\n",
       "      <th>Fwd_IAT_Min</th>\n",
       "      <th>Bwd_IAT_Total</th>\n",
       "      <th>Bwd_IAT_Mean</th>\n",
       "      <th>Bwd_IAT_Std</th>\n",
       "      <th>Bwd_IAT_Max</th>\n",
       "      <th>Bwd_IAT_Min</th>\n",
       "      <th>Fwd_PSH_Flags</th>\n",
       "      <th>Bwd_PSH_Flags</th>\n",
       "      <th>Fwd_URG_Flags</th>\n",
       "      <th>Bwd_URG_Flags</th>\n",
       "      <th>Fwd_Header_Length</th>\n",
       "      <th>Bwd_Header_Length</th>\n",
       "      <th>Fwd_Packets_s</th>\n",
       "      <th>Bwd_Packets_s</th>\n",
       "      <th>Min_Packet_Length</th>\n",
       "      <th>Max_Packet_Length</th>\n",
       "      <th>Packet_Length_Mean</th>\n",
       "      <th>Packet_Length_Std</th>\n",
       "      <th>Packet_Length_Variance</th>\n",
       "      <th>FIN_Flag_Count</th>\n",
       "      <th>SYN_Flag_Count</th>\n",
       "      <th>RST_Flag_Count</th>\n",
       "      <th>PSH_Flag_Count</th>\n",
       "      <th>ACK_Flag_Count</th>\n",
       "      <th>URG_Flag_Count</th>\n",
       "      <th>CWE_Flag_Count</th>\n",
       "      <th>ECE_Flag_Count</th>\n",
       "      <th>Down_Up_Ratio</th>\n",
       "      <th>Average_Packet_Size</th>\n",
       "      <th>Avg_Fwd_Segment_Size</th>\n",
       "      <th>Avg_Bwd_Segment_Size</th>\n",
       "      <th>Fwd_Header_Length</th>\n",
       "      <th>Fwd_Avg_Bytes_Bulk</th>\n",
       "      <th>Fwd_Avg_Packets_Bulk</th>\n",
       "      <th>Fwd_Avg_Bulk_Rate</th>\n",
       "      <th>Bwd_Avg_Bytes_Bulk</th>\n",
       "      <th>Bwd_Avg_Packets_Bulk</th>\n",
       "      <th>Bwd_Avg_Bulk_Rate</th>\n",
       "      <th>Subflow_Fwd_Packets</th>\n",
       "      <th>Subflow_Fwd_Bytes</th>\n",
       "      <th>Subflow_Bwd_Packets</th>\n",
       "      <th>Subflow_Bwd_Bytes</th>\n",
       "      <th>Init_Win_bytes_forward</th>\n",
       "      <th>Init_Win_bytes_backward</th>\n",
       "      <th>act_data_pkt_fwd</th>\n",
       "      <th>min_seg_size_forward</th>\n",
       "      <th>Active_Mean</th>\n",
       "      <th>Active_Std</th>\n",
       "      <th>Active_Max</th>\n",
       "      <th>Active_Min</th>\n",
       "      <th>Idle_Mean</th>\n",
       "      <th>Idle_Std</th>\n",
       "      <th>Idle_Max</th>\n",
       "      <th>Idle_Min</th>\n",
       "      <th>Label</th>\n",
       "    </tr>\n",
       "  </thead>\n",
       "  <tbody>\n",
       "    <tr>\n",
       "      <th>0</th>\n",
       "      <td>0</td>\n",
       "      <td>54865</td>\n",
       "      <td>3</td>\n",
       "      <td>2</td>\n",
       "      <td>0</td>\n",
       "      <td>12</td>\n",
       "      <td>0</td>\n",
       "      <td>6</td>\n",
       "      <td>6</td>\n",
       "      <td>6.0</td>\n",
       "      <td>0.0</td>\n",
       "      <td>0</td>\n",
       "      <td>0</td>\n",
       "      <td>0.0</td>\n",
       "      <td>0.0</td>\n",
       "      <td>4.000000e+06</td>\n",
       "      <td>666666.66670</td>\n",
       "      <td>3.0</td>\n",
       "      <td>0.0</td>\n",
       "      <td>3</td>\n",
       "      <td>3</td>\n",
       "      <td>3</td>\n",
       "      <td>3.0</td>\n",
       "      <td>0.0</td>\n",
       "      <td>3</td>\n",
       "      <td>3</td>\n",
       "      <td>0</td>\n",
       "      <td>0.0</td>\n",
       "      <td>0.0</td>\n",
       "      <td>0</td>\n",
       "      <td>0</td>\n",
       "      <td>0</td>\n",
       "      <td>0</td>\n",
       "      <td>0</td>\n",
       "      <td>0</td>\n",
       "      <td>40</td>\n",
       "      <td>0</td>\n",
       "      <td>666666.666700</td>\n",
       "      <td>0.000000</td>\n",
       "      <td>6</td>\n",
       "      <td>6</td>\n",
       "      <td>6.0</td>\n",
       "      <td>0.0</td>\n",
       "      <td>0.0</td>\n",
       "      <td>0</td>\n",
       "      <td>0</td>\n",
       "      <td>0</td>\n",
       "      <td>0</td>\n",
       "      <td>1</td>\n",
       "      <td>0</td>\n",
       "      <td>0</td>\n",
       "      <td>0</td>\n",
       "      <td>0</td>\n",
       "      <td>9.0</td>\n",
       "      <td>6.0</td>\n",
       "      <td>0.0</td>\n",
       "      <td>0</td>\n",
       "      <td>0</td>\n",
       "      <td>0</td>\n",
       "      <td>0</td>\n",
       "      <td>0</td>\n",
       "      <td>0</td>\n",
       "      <td>2</td>\n",
       "      <td>12</td>\n",
       "      <td>0</td>\n",
       "      <td>0</td>\n",
       "      <td>33</td>\n",
       "      <td>-1</td>\n",
       "      <td>1</td>\n",
       "      <td>20</td>\n",
       "      <td>0.0</td>\n",
       "      <td>0.0</td>\n",
       "      <td>0</td>\n",
       "      <td>0</td>\n",
       "      <td>0.0</td>\n",
       "      <td>0.0</td>\n",
       "      <td>0</td>\n",
       "      <td>0</td>\n",
       "      <td>BENIGN</td>\n",
       "    </tr>\n",
       "    <tr>\n",
       "      <th>1</th>\n",
       "      <td>1</td>\n",
       "      <td>55054</td>\n",
       "      <td>109</td>\n",
       "      <td>1</td>\n",
       "      <td>1</td>\n",
       "      <td>6</td>\n",
       "      <td>6</td>\n",
       "      <td>6</td>\n",
       "      <td>6</td>\n",
       "      <td>6.0</td>\n",
       "      <td>0.0</td>\n",
       "      <td>6</td>\n",
       "      <td>6</td>\n",
       "      <td>6.0</td>\n",
       "      <td>0.0</td>\n",
       "      <td>1.100917e+05</td>\n",
       "      <td>18348.62385</td>\n",
       "      <td>109.0</td>\n",
       "      <td>0.0</td>\n",
       "      <td>109</td>\n",
       "      <td>109</td>\n",
       "      <td>0</td>\n",
       "      <td>0.0</td>\n",
       "      <td>0.0</td>\n",
       "      <td>0</td>\n",
       "      <td>0</td>\n",
       "      <td>0</td>\n",
       "      <td>0.0</td>\n",
       "      <td>0.0</td>\n",
       "      <td>0</td>\n",
       "      <td>0</td>\n",
       "      <td>0</td>\n",
       "      <td>0</td>\n",
       "      <td>0</td>\n",
       "      <td>0</td>\n",
       "      <td>20</td>\n",
       "      <td>20</td>\n",
       "      <td>9174.311927</td>\n",
       "      <td>9174.311927</td>\n",
       "      <td>6</td>\n",
       "      <td>6</td>\n",
       "      <td>6.0</td>\n",
       "      <td>0.0</td>\n",
       "      <td>0.0</td>\n",
       "      <td>0</td>\n",
       "      <td>0</td>\n",
       "      <td>0</td>\n",
       "      <td>0</td>\n",
       "      <td>1</td>\n",
       "      <td>1</td>\n",
       "      <td>0</td>\n",
       "      <td>0</td>\n",
       "      <td>1</td>\n",
       "      <td>9.0</td>\n",
       "      <td>6.0</td>\n",
       "      <td>6.0</td>\n",
       "      <td>0</td>\n",
       "      <td>0</td>\n",
       "      <td>0</td>\n",
       "      <td>0</td>\n",
       "      <td>0</td>\n",
       "      <td>0</td>\n",
       "      <td>1</td>\n",
       "      <td>6</td>\n",
       "      <td>1</td>\n",
       "      <td>6</td>\n",
       "      <td>29</td>\n",
       "      <td>256</td>\n",
       "      <td>0</td>\n",
       "      <td>20</td>\n",
       "      <td>0.0</td>\n",
       "      <td>0.0</td>\n",
       "      <td>0</td>\n",
       "      <td>0</td>\n",
       "      <td>0.0</td>\n",
       "      <td>0.0</td>\n",
       "      <td>0</td>\n",
       "      <td>0</td>\n",
       "      <td>BENIGN</td>\n",
       "    </tr>\n",
       "    <tr>\n",
       "      <th>2</th>\n",
       "      <td>2</td>\n",
       "      <td>55055</td>\n",
       "      <td>52</td>\n",
       "      <td>1</td>\n",
       "      <td>1</td>\n",
       "      <td>6</td>\n",
       "      <td>6</td>\n",
       "      <td>6</td>\n",
       "      <td>6</td>\n",
       "      <td>6.0</td>\n",
       "      <td>0.0</td>\n",
       "      <td>6</td>\n",
       "      <td>6</td>\n",
       "      <td>6.0</td>\n",
       "      <td>0.0</td>\n",
       "      <td>2.307692e+05</td>\n",
       "      <td>38461.53846</td>\n",
       "      <td>52.0</td>\n",
       "      <td>0.0</td>\n",
       "      <td>52</td>\n",
       "      <td>52</td>\n",
       "      <td>0</td>\n",
       "      <td>0.0</td>\n",
       "      <td>0.0</td>\n",
       "      <td>0</td>\n",
       "      <td>0</td>\n",
       "      <td>0</td>\n",
       "      <td>0.0</td>\n",
       "      <td>0.0</td>\n",
       "      <td>0</td>\n",
       "      <td>0</td>\n",
       "      <td>0</td>\n",
       "      <td>0</td>\n",
       "      <td>0</td>\n",
       "      <td>0</td>\n",
       "      <td>20</td>\n",
       "      <td>20</td>\n",
       "      <td>19230.769230</td>\n",
       "      <td>19230.769230</td>\n",
       "      <td>6</td>\n",
       "      <td>6</td>\n",
       "      <td>6.0</td>\n",
       "      <td>0.0</td>\n",
       "      <td>0.0</td>\n",
       "      <td>0</td>\n",
       "      <td>0</td>\n",
       "      <td>0</td>\n",
       "      <td>0</td>\n",
       "      <td>1</td>\n",
       "      <td>1</td>\n",
       "      <td>0</td>\n",
       "      <td>0</td>\n",
       "      <td>1</td>\n",
       "      <td>9.0</td>\n",
       "      <td>6.0</td>\n",
       "      <td>6.0</td>\n",
       "      <td>0</td>\n",
       "      <td>0</td>\n",
       "      <td>0</td>\n",
       "      <td>0</td>\n",
       "      <td>0</td>\n",
       "      <td>0</td>\n",
       "      <td>1</td>\n",
       "      <td>6</td>\n",
       "      <td>1</td>\n",
       "      <td>6</td>\n",
       "      <td>29</td>\n",
       "      <td>256</td>\n",
       "      <td>0</td>\n",
       "      <td>20</td>\n",
       "      <td>0.0</td>\n",
       "      <td>0.0</td>\n",
       "      <td>0</td>\n",
       "      <td>0</td>\n",
       "      <td>0.0</td>\n",
       "      <td>0.0</td>\n",
       "      <td>0</td>\n",
       "      <td>0</td>\n",
       "      <td>BENIGN</td>\n",
       "    </tr>\n",
       "    <tr>\n",
       "      <th>3</th>\n",
       "      <td>3</td>\n",
       "      <td>46236</td>\n",
       "      <td>34</td>\n",
       "      <td>1</td>\n",
       "      <td>1</td>\n",
       "      <td>6</td>\n",
       "      <td>6</td>\n",
       "      <td>6</td>\n",
       "      <td>6</td>\n",
       "      <td>6.0</td>\n",
       "      <td>0.0</td>\n",
       "      <td>6</td>\n",
       "      <td>6</td>\n",
       "      <td>6.0</td>\n",
       "      <td>0.0</td>\n",
       "      <td>3.529412e+05</td>\n",
       "      <td>58823.52941</td>\n",
       "      <td>34.0</td>\n",
       "      <td>0.0</td>\n",
       "      <td>34</td>\n",
       "      <td>34</td>\n",
       "      <td>0</td>\n",
       "      <td>0.0</td>\n",
       "      <td>0.0</td>\n",
       "      <td>0</td>\n",
       "      <td>0</td>\n",
       "      <td>0</td>\n",
       "      <td>0.0</td>\n",
       "      <td>0.0</td>\n",
       "      <td>0</td>\n",
       "      <td>0</td>\n",
       "      <td>0</td>\n",
       "      <td>0</td>\n",
       "      <td>0</td>\n",
       "      <td>0</td>\n",
       "      <td>20</td>\n",
       "      <td>20</td>\n",
       "      <td>29411.764710</td>\n",
       "      <td>29411.764710</td>\n",
       "      <td>6</td>\n",
       "      <td>6</td>\n",
       "      <td>6.0</td>\n",
       "      <td>0.0</td>\n",
       "      <td>0.0</td>\n",
       "      <td>0</td>\n",
       "      <td>0</td>\n",
       "      <td>0</td>\n",
       "      <td>0</td>\n",
       "      <td>1</td>\n",
       "      <td>1</td>\n",
       "      <td>0</td>\n",
       "      <td>0</td>\n",
       "      <td>1</td>\n",
       "      <td>9.0</td>\n",
       "      <td>6.0</td>\n",
       "      <td>6.0</td>\n",
       "      <td>0</td>\n",
       "      <td>0</td>\n",
       "      <td>0</td>\n",
       "      <td>0</td>\n",
       "      <td>0</td>\n",
       "      <td>0</td>\n",
       "      <td>1</td>\n",
       "      <td>6</td>\n",
       "      <td>1</td>\n",
       "      <td>6</td>\n",
       "      <td>31</td>\n",
       "      <td>329</td>\n",
       "      <td>0</td>\n",
       "      <td>20</td>\n",
       "      <td>0.0</td>\n",
       "      <td>0.0</td>\n",
       "      <td>0</td>\n",
       "      <td>0</td>\n",
       "      <td>0.0</td>\n",
       "      <td>0.0</td>\n",
       "      <td>0</td>\n",
       "      <td>0</td>\n",
       "      <td>BENIGN</td>\n",
       "    </tr>\n",
       "    <tr>\n",
       "      <th>4</th>\n",
       "      <td>4</td>\n",
       "      <td>54863</td>\n",
       "      <td>3</td>\n",
       "      <td>2</td>\n",
       "      <td>0</td>\n",
       "      <td>12</td>\n",
       "      <td>0</td>\n",
       "      <td>6</td>\n",
       "      <td>6</td>\n",
       "      <td>6.0</td>\n",
       "      <td>0.0</td>\n",
       "      <td>0</td>\n",
       "      <td>0</td>\n",
       "      <td>0.0</td>\n",
       "      <td>0.0</td>\n",
       "      <td>4.000000e+06</td>\n",
       "      <td>666666.66670</td>\n",
       "      <td>3.0</td>\n",
       "      <td>0.0</td>\n",
       "      <td>3</td>\n",
       "      <td>3</td>\n",
       "      <td>3</td>\n",
       "      <td>3.0</td>\n",
       "      <td>0.0</td>\n",
       "      <td>3</td>\n",
       "      <td>3</td>\n",
       "      <td>0</td>\n",
       "      <td>0.0</td>\n",
       "      <td>0.0</td>\n",
       "      <td>0</td>\n",
       "      <td>0</td>\n",
       "      <td>0</td>\n",
       "      <td>0</td>\n",
       "      <td>0</td>\n",
       "      <td>0</td>\n",
       "      <td>40</td>\n",
       "      <td>0</td>\n",
       "      <td>666666.666700</td>\n",
       "      <td>0.000000</td>\n",
       "      <td>6</td>\n",
       "      <td>6</td>\n",
       "      <td>6.0</td>\n",
       "      <td>0.0</td>\n",
       "      <td>0.0</td>\n",
       "      <td>0</td>\n",
       "      <td>0</td>\n",
       "      <td>0</td>\n",
       "      <td>0</td>\n",
       "      <td>1</td>\n",
       "      <td>0</td>\n",
       "      <td>0</td>\n",
       "      <td>0</td>\n",
       "      <td>0</td>\n",
       "      <td>9.0</td>\n",
       "      <td>6.0</td>\n",
       "      <td>0.0</td>\n",
       "      <td>0</td>\n",
       "      <td>0</td>\n",
       "      <td>0</td>\n",
       "      <td>0</td>\n",
       "      <td>0</td>\n",
       "      <td>0</td>\n",
       "      <td>2</td>\n",
       "      <td>12</td>\n",
       "      <td>0</td>\n",
       "      <td>0</td>\n",
       "      <td>32</td>\n",
       "      <td>-1</td>\n",
       "      <td>1</td>\n",
       "      <td>20</td>\n",
       "      <td>0.0</td>\n",
       "      <td>0.0</td>\n",
       "      <td>0</td>\n",
       "      <td>0</td>\n",
       "      <td>0.0</td>\n",
       "      <td>0.0</td>\n",
       "      <td>0</td>\n",
       "      <td>0</td>\n",
       "      <td>BENIGN</td>\n",
       "    </tr>\n",
       "  </tbody>\n",
       "</table>\n",
       "</div>"
      ],
      "text/plain": [
       "   Destination_Port  Flow_Duration  Total_Fwd_Packets  Total_Backward_Packets  \\\n",
       "0                 0          54865                  3                       2   \n",
       "1                 1          55054                109                       1   \n",
       "2                 2          55055                 52                       1   \n",
       "3                 3          46236                 34                       1   \n",
       "4                 4          54863                  3                       2   \n",
       "\n",
       "   Total_Length_of_Fwd_Packets  Total_Length_of_Bwd_Packets  \\\n",
       "0                            0                           12   \n",
       "1                            1                            6   \n",
       "2                            1                            6   \n",
       "3                            1                            6   \n",
       "4                            0                           12   \n",
       "\n",
       "   Fwd_Packet_Length_Max  Fwd_Packet_Length_Min  Fwd_Packet_Length_Mean  \\\n",
       "0                      0                      6                       6   \n",
       "1                      6                      6                       6   \n",
       "2                      6                      6                       6   \n",
       "3                      6                      6                       6   \n",
       "4                      0                      6                       6   \n",
       "\n",
       "   Fwd_Packet_Length_Std  Bwd_Packet_Length_Max  Bwd_Packet_Length_Min  \\\n",
       "0                    6.0                    0.0                      0   \n",
       "1                    6.0                    0.0                      6   \n",
       "2                    6.0                    0.0                      6   \n",
       "3                    6.0                    0.0                      6   \n",
       "4                    6.0                    0.0                      0   \n",
       "\n",
       "   Bwd_Packet_Length_Mean  Bwd_Packet_Length_Std  Flow_Bytes_s  \\\n",
       "0                       0                    0.0           0.0   \n",
       "1                       6                    6.0           0.0   \n",
       "2                       6                    6.0           0.0   \n",
       "3                       6                    6.0           0.0   \n",
       "4                       0                    0.0           0.0   \n",
       "\n",
       "   Flow_Packets_s  Flow_IAT_Mean  Flow_IAT_Std  Flow_IAT_Max  Flow_IAT_Min  \\\n",
       "0    4.000000e+06   666666.66670           3.0           0.0             3   \n",
       "1    1.100917e+05    18348.62385         109.0           0.0           109   \n",
       "2    2.307692e+05    38461.53846          52.0           0.0            52   \n",
       "3    3.529412e+05    58823.52941          34.0           0.0            34   \n",
       "4    4.000000e+06   666666.66670           3.0           0.0             3   \n",
       "\n",
       "   Fwd_IAT_Total  Fwd_IAT_Mean  Fwd_IAT_Std  Fwd_IAT_Max  Fwd_IAT_Min  \\\n",
       "0              3             3          3.0          0.0            3   \n",
       "1            109             0          0.0          0.0            0   \n",
       "2             52             0          0.0          0.0            0   \n",
       "3             34             0          0.0          0.0            0   \n",
       "4              3             3          3.0          0.0            3   \n",
       "\n",
       "   Bwd_IAT_Total  Bwd_IAT_Mean  Bwd_IAT_Std  Bwd_IAT_Max  Bwd_IAT_Min  \\\n",
       "0              3             0          0.0          0.0            0   \n",
       "1              0             0          0.0          0.0            0   \n",
       "2              0             0          0.0          0.0            0   \n",
       "3              0             0          0.0          0.0            0   \n",
       "4              3             0          0.0          0.0            0   \n",
       "\n",
       "   Fwd_PSH_Flags  Bwd_PSH_Flags  Fwd_URG_Flags  Bwd_URG_Flags  \\\n",
       "0              0              0              0              0   \n",
       "1              0              0              0              0   \n",
       "2              0              0              0              0   \n",
       "3              0              0              0              0   \n",
       "4              0              0              0              0   \n",
       "\n",
       "   Fwd_Header_Length  Bwd_Header_Length  Fwd_Packets_s  Bwd_Packets_s  \\\n",
       "0                  0                 40              0  666666.666700   \n",
       "1                  0                 20             20    9174.311927   \n",
       "2                  0                 20             20   19230.769230   \n",
       "3                  0                 20             20   29411.764710   \n",
       "4                  0                 40              0  666666.666700   \n",
       "\n",
       "   Min_Packet_Length  Max_Packet_Length  Packet_Length_Mean  \\\n",
       "0           0.000000                  6                   6   \n",
       "1        9174.311927                  6                   6   \n",
       "2       19230.769230                  6                   6   \n",
       "3       29411.764710                  6                   6   \n",
       "4           0.000000                  6                   6   \n",
       "\n",
       "   Packet_Length_Std  Packet_Length_Variance  FIN_Flag_Count  SYN_Flag_Count  \\\n",
       "0                6.0                     0.0             0.0               0   \n",
       "1                6.0                     0.0             0.0               0   \n",
       "2                6.0                     0.0             0.0               0   \n",
       "3                6.0                     0.0             0.0               0   \n",
       "4                6.0                     0.0             0.0               0   \n",
       "\n",
       "   RST_Flag_Count  PSH_Flag_Count  ACK_Flag_Count  URG_Flag_Count  \\\n",
       "0               0               0               0               1   \n",
       "1               0               0               0               1   \n",
       "2               0               0               0               1   \n",
       "3               0               0               0               1   \n",
       "4               0               0               0               1   \n",
       "\n",
       "   CWE_Flag_Count  ECE_Flag_Count  Down_Up_Ratio  Average_Packet_Size  \\\n",
       "0               0               0              0                    0   \n",
       "1               1               0              0                    1   \n",
       "2               1               0              0                    1   \n",
       "3               1               0              0                    1   \n",
       "4               0               0              0                    0   \n",
       "\n",
       "   Avg_Fwd_Segment_Size  Avg_Bwd_Segment_Size  Fwd_Header_Length  \\\n",
       "0                   9.0                   6.0                0.0   \n",
       "1                   9.0                   6.0                6.0   \n",
       "2                   9.0                   6.0                6.0   \n",
       "3                   9.0                   6.0                6.0   \n",
       "4                   9.0                   6.0                0.0   \n",
       "\n",
       "   Fwd_Avg_Bytes_Bulk  Fwd_Avg_Packets_Bulk  Fwd_Avg_Bulk_Rate  \\\n",
       "0                   0                     0                  0   \n",
       "1                   0                     0                  0   \n",
       "2                   0                     0                  0   \n",
       "3                   0                     0                  0   \n",
       "4                   0                     0                  0   \n",
       "\n",
       "   Bwd_Avg_Bytes_Bulk  Bwd_Avg_Packets_Bulk  Bwd_Avg_Bulk_Rate  \\\n",
       "0                   0                     0                  0   \n",
       "1                   0                     0                  0   \n",
       "2                   0                     0                  0   \n",
       "3                   0                     0                  0   \n",
       "4                   0                     0                  0   \n",
       "\n",
       "   Subflow_Fwd_Packets  Subflow_Fwd_Bytes  Subflow_Bwd_Packets  \\\n",
       "0                    2                 12                    0   \n",
       "1                    1                  6                    1   \n",
       "2                    1                  6                    1   \n",
       "3                    1                  6                    1   \n",
       "4                    2                 12                    0   \n",
       "\n",
       "   Subflow_Bwd_Bytes  Init_Win_bytes_forward  Init_Win_bytes_backward  \\\n",
       "0                  0                      33                       -1   \n",
       "1                  6                      29                      256   \n",
       "2                  6                      29                      256   \n",
       "3                  6                      31                      329   \n",
       "4                  0                      32                       -1   \n",
       "\n",
       "   act_data_pkt_fwd  min_seg_size_forward  Active_Mean  Active_Std  \\\n",
       "0                 1                    20          0.0         0.0   \n",
       "1                 0                    20          0.0         0.0   \n",
       "2                 0                    20          0.0         0.0   \n",
       "3                 0                    20          0.0         0.0   \n",
       "4                 1                    20          0.0         0.0   \n",
       "\n",
       "   Active_Max  Active_Min  Idle_Mean  Idle_Std  Idle_Max  Idle_Min   Label  \n",
       "0           0           0        0.0       0.0         0         0  BENIGN  \n",
       "1           0           0        0.0       0.0         0         0  BENIGN  \n",
       "2           0           0        0.0       0.0         0         0  BENIGN  \n",
       "3           0           0        0.0       0.0         0         0  BENIGN  \n",
       "4           0           0        0.0       0.0         0         0  BENIGN  "
      ]
     },
     "execution_count": 8,
     "metadata": {},
     "output_type": "execute_result"
    }
   ],
   "source": [
    "# Assigning the column names.\n",
    "dataset.columns = col_names\n",
    "\n",
    "# first 5 records in the dataset.\n",
    "dataset.head(5)"
   ]
  },
  {
   "cell_type": "code",
   "execution_count": 9,
   "metadata": {},
   "outputs": [
    {
     "data": {
      "text/plain": [
       "Destination_Port                 int64\n",
       "Flow_Duration                    int64\n",
       "Total_Fwd_Packets                int64\n",
       "Total_Backward_Packets           int64\n",
       "Total_Length_of_Fwd_Packets      int64\n",
       "Total_Length_of_Bwd_Packets      int64\n",
       "Fwd_Packet_Length_Max            int64\n",
       "Fwd_Packet_Length_Min            int64\n",
       "Fwd_Packet_Length_Mean           int64\n",
       "Fwd_Packet_Length_Std          float64\n",
       "Bwd_Packet_Length_Max          float64\n",
       "Bwd_Packet_Length_Min            int64\n",
       "Bwd_Packet_Length_Mean           int64\n",
       "Bwd_Packet_Length_Std          float64\n",
       "Flow_Bytes_s                   float64\n",
       "Flow_Packets_s                 float64\n",
       "Flow_IAT_Mean                  float64\n",
       "Flow_IAT_Std                   float64\n",
       "Flow_IAT_Max                   float64\n",
       "Flow_IAT_Min                     int64\n",
       "Fwd_IAT_Total                    int64\n",
       "Fwd_IAT_Mean                     int64\n",
       "Fwd_IAT_Std                    float64\n",
       "Fwd_IAT_Max                    float64\n",
       "Fwd_IAT_Min                      int64\n",
       "Bwd_IAT_Total                    int64\n",
       "Bwd_IAT_Mean                     int64\n",
       "Bwd_IAT_Std                    float64\n",
       "Bwd_IAT_Max                    float64\n",
       "Bwd_IAT_Min                      int64\n",
       "Fwd_PSH_Flags                    int64\n",
       "Bwd_PSH_Flags                    int64\n",
       "Fwd_URG_Flags                    int64\n",
       "Bwd_URG_Flags                    int64\n",
       "Fwd_Header_Length                int64\n",
       "Bwd_Header_Length                int64\n",
       "Fwd_Packets_s                    int64\n",
       "Bwd_Packets_s                  float64\n",
       "Min_Packet_Length              float64\n",
       "Max_Packet_Length                int64\n",
       "Packet_Length_Mean               int64\n",
       "Packet_Length_Std              float64\n",
       "Packet_Length_Variance         float64\n",
       "FIN_Flag_Count                 float64\n",
       "SYN_Flag_Count                   int64\n",
       "RST_Flag_Count                   int64\n",
       "PSH_Flag_Count                   int64\n",
       "ACK_Flag_Count                   int64\n",
       "URG_Flag_Count                   int64\n",
       "CWE_Flag_Count                   int64\n",
       "ECE_Flag_Count                   int64\n",
       "Down_Up_Ratio                    int64\n",
       "Average_Packet_Size              int64\n",
       "Avg_Fwd_Segment_Size           float64\n",
       "Avg_Bwd_Segment_Size           float64\n",
       "Fwd_Header_Length              float64\n",
       "Fwd_Avg_Bytes_Bulk               int64\n",
       "Fwd_Avg_Packets_Bulk             int64\n",
       "Fwd_Avg_Bulk_Rate                int64\n",
       "Bwd_Avg_Bytes_Bulk               int64\n",
       "Bwd_Avg_Packets_Bulk             int64\n",
       "Bwd_Avg_Bulk_Rate                int64\n",
       "Subflow_Fwd_Packets              int64\n",
       "Subflow_Fwd_Bytes                int64\n",
       "Subflow_Bwd_Packets              int64\n",
       "Subflow_Bwd_Bytes                int64\n",
       "Init_Win_bytes_forward           int64\n",
       "Init_Win_bytes_backward          int64\n",
       "act_data_pkt_fwd                 int64\n",
       "min_seg_size_forward             int64\n",
       "Active_Mean                    float64\n",
       "Active_Std                     float64\n",
       "Active_Max                       int64\n",
       "Active_Min                       int64\n",
       "Idle_Mean                      float64\n",
       "Idle_Std                       float64\n",
       "Idle_Max                         int64\n",
       "Idle_Min                         int64\n",
       "Label                           object\n",
       "dtype: object"
      ]
     },
     "execution_count": 9,
     "metadata": {},
     "output_type": "execute_result"
    }
   ],
   "source": [
    "# check whether there is any categorical column are not if it is there it is to be encoded.\n",
    "dataset.dtypes"
   ]
  },
  {
   "cell_type": "markdown",
   "metadata": {},
   "source": [
    "# Remove repeated columns, (NaN,Null,Infinite) values."
   ]
  },
  {
   "cell_type": "code",
   "execution_count": 10,
   "metadata": {},
   "outputs": [
    {
     "data": {
      "text/plain": [
       "(2827876, 78)"
      ]
     },
     "execution_count": 10,
     "metadata": {},
     "output_type": "execute_result"
    }
   ],
   "source": [
    "# Removing the duplicate columns (Header_length is repeated)\n",
    "dataset = dataset.loc[:, ~dataset.columns.duplicated()]\n",
    "dataset.shape"
   ]
  },
  {
   "cell_type": "code",
   "execution_count": 11,
   "metadata": {},
   "outputs": [
    {
     "data": {
      "text/plain": [
       "False"
      ]
     },
     "execution_count": 11,
     "metadata": {},
     "output_type": "execute_result"
    }
   ],
   "source": [
    "# check if there are any Null values\n",
    "dataset.isnull().any().any()"
   ]
  },
  {
   "cell_type": "code",
   "execution_count": 12,
   "metadata": {},
   "outputs": [
    {
     "data": {
      "text/plain": [
       "Destination_Port               False\n",
       "Flow_Duration                  False\n",
       "Total_Fwd_Packets              False\n",
       "Total_Backward_Packets         False\n",
       "Total_Length_of_Fwd_Packets    False\n",
       "Total_Length_of_Bwd_Packets    False\n",
       "Fwd_Packet_Length_Max          False\n",
       "Fwd_Packet_Length_Min          False\n",
       "Fwd_Packet_Length_Mean         False\n",
       "Fwd_Packet_Length_Std          False\n",
       "Bwd_Packet_Length_Max          False\n",
       "Bwd_Packet_Length_Min          False\n",
       "Bwd_Packet_Length_Mean         False\n",
       "Bwd_Packet_Length_Std          False\n",
       "Flow_Bytes_s                   False\n",
       "Flow_Packets_s                 False\n",
       "Flow_IAT_Mean                  False\n",
       "Flow_IAT_Std                   False\n",
       "Flow_IAT_Max                   False\n",
       "Flow_IAT_Min                   False\n",
       "Fwd_IAT_Total                  False\n",
       "Fwd_IAT_Mean                   False\n",
       "Fwd_IAT_Std                    False\n",
       "Fwd_IAT_Max                    False\n",
       "Fwd_IAT_Min                    False\n",
       "Bwd_IAT_Total                  False\n",
       "Bwd_IAT_Mean                   False\n",
       "Bwd_IAT_Std                    False\n",
       "Bwd_IAT_Max                    False\n",
       "Bwd_IAT_Min                    False\n",
       "Fwd_PSH_Flags                  False\n",
       "Bwd_PSH_Flags                  False\n",
       "Fwd_URG_Flags                  False\n",
       "Bwd_URG_Flags                  False\n",
       "Fwd_Header_Length              False\n",
       "Bwd_Header_Length              False\n",
       "Fwd_Packets_s                  False\n",
       "Bwd_Packets_s                  False\n",
       "Min_Packet_Length              False\n",
       "Max_Packet_Length              False\n",
       "Packet_Length_Mean             False\n",
       "Packet_Length_Std              False\n",
       "Packet_Length_Variance         False\n",
       "FIN_Flag_Count                 False\n",
       "SYN_Flag_Count                 False\n",
       "RST_Flag_Count                 False\n",
       "PSH_Flag_Count                 False\n",
       "ACK_Flag_Count                 False\n",
       "URG_Flag_Count                 False\n",
       "CWE_Flag_Count                 False\n",
       "ECE_Flag_Count                 False\n",
       "Down_Up_Ratio                  False\n",
       "Average_Packet_Size            False\n",
       "Avg_Fwd_Segment_Size           False\n",
       "Avg_Bwd_Segment_Size           False\n",
       "Fwd_Avg_Bytes_Bulk             False\n",
       "Fwd_Avg_Packets_Bulk           False\n",
       "Fwd_Avg_Bulk_Rate              False\n",
       "Bwd_Avg_Bytes_Bulk             False\n",
       "Bwd_Avg_Packets_Bulk           False\n",
       "Bwd_Avg_Bulk_Rate              False\n",
       "Subflow_Fwd_Packets            False\n",
       "Subflow_Fwd_Bytes              False\n",
       "Subflow_Bwd_Packets            False\n",
       "Subflow_Bwd_Bytes              False\n",
       "Init_Win_bytes_forward         False\n",
       "Init_Win_bytes_backward        False\n",
       "act_data_pkt_fwd               False\n",
       "min_seg_size_forward           False\n",
       "Active_Mean                    False\n",
       "Active_Std                     False\n",
       "Active_Max                     False\n",
       "Active_Min                     False\n",
       "Idle_Mean                      False\n",
       "Idle_Std                       False\n",
       "Idle_Max                       False\n",
       "Idle_Min                       False\n",
       "Label                          False\n",
       "dtype: bool"
      ]
     },
     "execution_count": 12,
     "metadata": {},
     "output_type": "execute_result"
    }
   ],
   "source": [
    "# Replace Inf values with NaN\n",
    "dataset = dataset.replace([np.inf, -np.inf], np.nan)\n",
    "\n",
    "# Drop all occurences of NaN\n",
    "dataset = dataset.dropna()\n",
    "\n",
    "# Double check these are all gone\n",
    "dataset.isnull().any()"
   ]
  },
  {
   "cell_type": "markdown",
   "metadata": {},
   "source": [
    "# Analysing the attacks in dataset"
   ]
  },
  {
   "cell_type": "code",
   "execution_count": 13,
   "metadata": {},
   "outputs": [
    {
     "data": {
      "text/plain": [
       "BENIGN                        2271320\n",
       "DoS Hulk                       230124\n",
       "PortScan                       158804\n",
       "DDoS                           128025\n",
       "DoS GoldenEye                   10293\n",
       "FTP-Patator                      7935\n",
       "SSH-Patator                      5897\n",
       "DoS slowloris                    5796\n",
       "DoS Slowhttptest                 5499\n",
       "Bot                              1956\n",
       "Web Attack � Brute Force         1507\n",
       "Web Attack � XSS                  652\n",
       "Infiltration                       36\n",
       "Web Attack � Sql Injection         21\n",
       "Heartbleed                         11\n",
       "Name: Label, dtype: int64"
      ]
     },
     "execution_count": 13,
     "metadata": {},
     "output_type": "execute_result"
    }
   ],
   "source": [
    "# Distribution of Dataset\n",
    "dataset['Label'].value_counts()"
   ]
  },
  {
   "cell_type": "code",
   "execution_count": 14,
   "metadata": {},
   "outputs": [
    {
     "data": {
      "image/png": "[encoded data removed]",
      "text/plain": [
       "<Figure size 1080x720 with 1 Axes>"
      ]
     },
     "metadata": {
      "needs_background": "light"
     },
     "output_type": "display_data"
    }
   ],
   "source": [
    "# Plotting the distribution of attacks in the dataset\n",
    "\n",
    "plt.figure(figsize=(15,10))\n",
    "\n",
    "attack = ('DoS Hulk', 'PortScan', 'DDoS', 'DoS GoldenEye', 'FTP-Patator', 'SSH-Patator', 'DoS Slowloris',\n",
    "          'DoS Slowhttptest', 'Bot', 'Web Attack: Brute Force', 'Web Attack: XSS', 'Infiltration', 'Web Attack: SQL Injection', 'Heartbleed')\n",
    "y_pos = np.arange(len(attack)) \n",
    "amount = dataset['Label'].value_counts()[1:]\n",
    "plt.barh(y_pos, amount, align='center', color='blue' )\n",
    "plt.yticks(y_pos, attack)\n",
    "plt.title('Distribution of different types of attacks in the dataset')\n",
    "plt.xlabel('Number of occurences')\n",
    "plt.ylabel('Attack types')\n",
    "for i, v in enumerate(amount):\n",
    "    plt.text(v + 3, i-0.1 , str(v))\n",
    "    \n",
    "plt.show()"
   ]
  },
  {
   "cell_type": "code",
   "execution_count": 15,
   "metadata": {},
   "outputs": [
    {
     "data": {
      "text/plain": [
       "BENIGN                      2271320\n",
       "DoS Hulk                     230124\n",
       "PortScan                     158804\n",
       "DDoS                         128025\n",
       "DoS GoldenEye                 10293\n",
       "FTP-Patator                    7935\n",
       "SSH-Patator                    5897\n",
       "DoS slowloris                  5796\n",
       "DoS Slowhttptest               5499\n",
       "Bot                            1956\n",
       "Web Attack � Brute Force       1507\n",
       "Web Attack � XSS                652\n",
       "Name: Label, dtype: int64"
      ]
     },
     "execution_count": 15,
     "metadata": {},
     "output_type": "execute_result"
    }
   ],
   "source": [
    "# There are only 11, 21, and 36 instances of Heartbleed, SQL injection and infiltration respectively. \n",
    "# Remove 'Heartbleed', 'Web attack Sql Injection', 'Infiltration' as it's negligible.\n",
    "\n",
    "dataset = dataset.replace(['Heartbleed', 'Web Attack � Sql Injection', 'Infiltration'], np.nan)\n",
    "dataset = dataset.dropna()\n",
    "dataset['Label'].value_counts()"
   ]
  },
  {
   "cell_type": "code",
   "execution_count": 16,
   "metadata": {},
   "outputs": [],
   "source": [
    "# Labelling Web Attack � Brute Force as Brute Force\n",
    "# labelling Web Attack � XSS as XSS\n",
    "\n",
    "dataset.loc[dataset.Label == 'Web Attack � Brute Force', ['Label']] = 'Brute Force'\n",
    "dataset.loc[dataset.Label == 'Web Attack � XSS', ['Label']] = 'XSS'"
   ]
  },
  {
   "cell_type": "code",
   "execution_count": 17,
   "metadata": {},
   "outputs": [],
   "source": [
    "# Creating a attack column, containing binary labels for normal and attack to apply binary classsifier\n",
    "\n",
    "dataset['Attack'] = np.where(dataset['Label'] == 'BENIGN','Normal' , 'Attack')"
   ]
  },
  {
   "cell_type": "code",
   "execution_count": 18,
   "metadata": {},
   "outputs": [
    {
     "data": {
      "text/plain": [
       "benign         2271320\n",
       "dos             251712\n",
       "probe           158804\n",
       "ddos            128025\n",
       "brute_force      13832\n",
       "web_attack        2159\n",
       "botnet            1956\n",
       "Name: Label_Category, dtype: int64"
      ]
     },
     "execution_count": 18,
     "metadata": {},
     "output_type": "execute_result"
    }
   ],
   "source": [
    "# Grouping attack labels in attack category as in dataset description for multi-class classifier\n",
    "\n",
    "attack_group = {'BENIGN': 'benign', \n",
    "                'DoS Hulk': 'dos',\n",
    "                'PortScan': 'probe', \n",
    "                'DDoS': 'ddos',\n",
    "                'DoS GoldenEye': 'dos', \n",
    "                'FTP-Patator': 'brute_force',\n",
    "                'SSH-Patator': 'brute_force', \n",
    "                'DoS slowloris': 'dos', \n",
    "                'DoS Slowhttptest': 'dos',\n",
    "                'Bot': 'botnet',\n",
    "                'Brute Force': 'web_attack', \n",
    "                'XSS': 'web_attack'}\n",
    "\n",
    "# Create grouped label column\n",
    "\n",
    "dataset['Label_Category'] = dataset['Label'].map(lambda x: attack_group[x])\n",
    "dataset['Label_Category'].value_counts()"
   ]
  },
  {
   "cell_type": "code",
   "execution_count": 19,
   "metadata": {},
   "outputs": [
    {
     "data": {
      "text/plain": [
       "Text(0.5, 1.0, 'Distribution of Attack Categories (Grouped)')"
      ]
     },
     "execution_count": 19,
     "metadata": {},
     "output_type": "execute_result"
    },
    {
     "data": {
      "image/png": "[encoded data removed]",
      "text/plain": [
       "<Figure size 432x288 with 1 Axes>"
      ]
     },
     "metadata": {
      "needs_background": "light"
     },
     "output_type": "display_data"
    }
   ],
   "source": [
    "# Plotting binary grouped column Attack\n",
    "\n",
    "train_attacks = dataset['Attack'].value_counts()\n",
    "train_attacks.plot(kind='barh', color='blue')\n",
    "plt.title('Distribution of Attack Categories (Grouped)')"
   ]
  },
  {
   "cell_type": "code",
   "execution_count": 20,
   "metadata": {},
   "outputs": [
    {
     "data": {
      "text/plain": [
       "Text(0.5, 1.0, 'Distribution of Attack Categories (Grouped)')"
      ]
     },
     "execution_count": 20,
     "metadata": {},
     "output_type": "execute_result"
    },
    {
     "data": {
      "image/png": "[encoded data removed]",
      "text/plain": [
       "<Figure size 432x288 with 1 Axes>"
      ]
     },
     "metadata": {
      "needs_background": "light"
     },
     "output_type": "display_data"
    }
   ],
   "source": [
    "# Plotting multi-class grouped column Label_Category\n",
    "\n",
    "train_attacks = dataset['Label_Category'].value_counts()\n",
    "train_attacks.plot(kind='barh', color='blue')\n",
    "plt.title('Distribution of Attack Categories (Grouped)')"
   ]
  },
  {
   "cell_type": "code",
   "execution_count": 21,
   "metadata": {},
   "outputs": [
    {
     "data": {
      "text/plain": [
       "Text(0.5, 1.0, 'Distribution of Attack Categories')"
      ]
     },
     "execution_count": 21,
     "metadata": {},
     "output_type": "execute_result"
    },
    {
     "data": {
      "image/png": "[encoded data removed]",
      "text/plain": [
       "<Figure size 432x288 with 1 Axes>"
      ]
     },
     "metadata": {
      "needs_background": "light"
     },
     "output_type": "display_data"
    }
   ],
   "source": [
    "# Plotting multi-label column Label\n",
    "\n",
    "train_attacks = dataset['Label'].value_counts()\n",
    "train_attacks.plot(kind='barh', color='blue')\n",
    "plt.title('Distribution of Attack Categories')"
   ]
  },
  {
   "cell_type": "code",
   "execution_count": 22,
   "metadata": {},
   "outputs": [
    {
     "name": "stdout",
     "output_type": "stream",
     "text": [
      "Total number of all attack classes : 12\n",
      "Total number of attack categories : 7\n"
     ]
    }
   ],
   "source": [
    "print('Total number of all attack classes :',len(dataset.Label.unique()))\n",
    "print('Total number of attack categories :',len(dataset.Label_Category.unique()))"
   ]
  },
  {
   "cell_type": "markdown",
   "metadata": {},
   "source": [
    "# Splitting the dataset"
   ]
  },
  {
   "cell_type": "markdown",
   "metadata": {},
   "source": [
    "Splitting dataset in 60:20:20 ratio, for training, testing and validation dataset. \n",
    "By stratifying with y label proportions of attacks remain the same throughout the 3 sets. "
   ]
  },
  {
   "cell_type": "code",
   "execution_count": 23,
   "metadata": {},
   "outputs": [],
   "source": [
    "# 3 Different labeling options\n",
    "attacks = ['Label', 'Label_Category', 'Attack']\n",
    "\n",
    "# xs=feature vectors, ys=labels\n",
    "xs = dataset.drop(attacks, axis=1)\n",
    "ys = dataset[attacks]\n",
    "\n",
    "# split dataset - stratified\n",
    "x_train, x_test, y_train, y_test = train_test_split(xs, ys, test_size=0.3, random_state=0, stratify=ys['Label'])"
   ]
  },
  {
   "cell_type": "markdown",
   "metadata": {},
   "source": [
    "# Removing the columns with single unique values as it has no contribution in classification"
   ]
  },
  {
   "cell_type": "code",
   "execution_count": 24,
   "metadata": {},
   "outputs": [
    {
     "data": {
      "text/plain": [
       "['Fwd_URG_Flags',\n",
       " 'Fwd_Header_Length',\n",
       " 'Fwd_Avg_Bytes_Bulk',\n",
       " 'Fwd_Avg_Packets_Bulk',\n",
       " 'Fwd_Avg_Bulk_Rate',\n",
       " 'Bwd_Avg_Bytes_Bulk',\n",
       " 'Bwd_Avg_Packets_Bulk',\n",
       " 'Bwd_Avg_Bulk_Rate']"
      ]
     },
     "execution_count": 24,
     "metadata": {},
     "output_type": "execute_result"
    }
   ],
   "source": [
    "column_names = np.array(list(x_train))\n",
    "to_drop = []\n",
    "for x in column_names:\n",
    "    size = x_train.groupby([x]).size()\n",
    "    # check for columns that only take one value\n",
    "    if (len(size.unique()) == 1):\n",
    "        to_drop.append(x)\n",
    "to_drop"
   ]
  },
  {
   "cell_type": "code",
   "execution_count": 25,
   "metadata": {},
   "outputs": [],
   "source": [
    "x_train = x_train.drop(to_drop, axis=1)\n",
    "x_test = x_test.drop(to_drop, axis=1)\n",
    "dataset_copy = dataset.drop(to_drop, axis=1)"
   ]
  },
  {
   "cell_type": "code",
   "execution_count": 26,
   "metadata": {},
   "outputs": [
    {
     "data": {
      "text/plain": [
       "(1979465, 69)"
      ]
     },
     "execution_count": 26,
     "metadata": {},
     "output_type": "execute_result"
    }
   ],
   "source": [
    "x_train.shape"
   ]
  },
  {
   "cell_type": "markdown",
   "metadata": {},
   "source": [
    "# Data Normalization"
   ]
  },
  {
   "cell_type": "markdown",
   "metadata": {},
   "source": [
    "Min-max normalization technique is used to normalize the numerical values in dataset."
   ]
  },
  {
   "cell_type": "code",
   "execution_count": 27,
   "metadata": {},
   "outputs": [],
   "source": [
    "# Normalise\n",
    "min_max_scaler = MinMaxScaler().fit(x_train)\n",
    "\n",
    "# Apply normalisation to dataset\n",
    "x_train = min_max_scaler.transform(x_train)\n",
    "x_test = min_max_scaler.transform(x_test)"
   ]
  },
  {
   "cell_type": "markdown",
   "metadata": {},
   "source": [
    "#  Feature Selection"
   ]
  },
  {
   "cell_type": "markdown",
   "metadata": {},
   "source": [
    "Selecting K-best features by using chi2 scoring function for features"
   ]
  },
  {
   "cell_type": "code",
   "execution_count": 28,
   "metadata": {},
   "outputs": [],
   "source": [
    "features = SelectKBest(score_func=chi2, k=x_train.shape[1])\n",
    "\n",
    "#fit features to the training dataset\n",
    "fit = features.fit(x_train, y_train.Label)"
   ]
  },
  {
   "cell_type": "code",
   "execution_count": 29,
   "metadata": {},
   "outputs": [],
   "source": [
    "# perform selectkbest with k=40\n",
    "\n",
    "features = SelectKBest(score_func=chi2, k=40)\n",
    "fit = features.fit(x_train, y_train.Label)\n",
    "\n",
    "x_train = fit.transform(x_train)\n",
    "x_test = fit.transform(x_test)"
   ]
  },
  {
   "cell_type": "code",
   "execution_count": 30,
   "metadata": {},
   "outputs": [],
   "source": [
    "new_features = dataset_copy.columns[features.get_support(indices=True)]"
   ]
  },
  {
   "cell_type": "code",
   "execution_count": 31,
   "metadata": {},
   "outputs": [
    {
     "name": "stdout",
     "output_type": "stream",
     "text": [
      "Number of features selected : 40\n"
     ]
    },
    {
     "data": {
      "text/plain": [
       "Index(['Destination_Port', 'Flow_Duration', 'Total_Fwd_Packets',\n",
       "       'Bwd_Packet_Length_Min', 'Bwd_Packet_Length_Mean',\n",
       "       'Bwd_Packet_Length_Std', 'Flow_Bytes_s', 'Flow_IAT_Std', 'Flow_IAT_Max',\n",
       "       'Flow_IAT_Min', 'Fwd_IAT_Total', 'Fwd_IAT_Mean', 'Fwd_IAT_Std',\n",
       "       'Fwd_IAT_Max', 'Fwd_IAT_Min', 'Bwd_IAT_Total', 'Bwd_IAT_Mean',\n",
       "       'Bwd_IAT_Std', 'Bwd_IAT_Max', 'Bwd_IAT_Min', 'Fwd_PSH_Flags',\n",
       "       'Bwd_PSH_Flags', 'Bwd_Packets_s', 'Packet_Length_Mean',\n",
       "       'Packet_Length_Std', 'Packet_Length_Variance', 'FIN_Flag_Count',\n",
       "       'SYN_Flag_Count', 'RST_Flag_Count', 'ACK_Flag_Count', 'URG_Flag_Count',\n",
       "       'CWE_Flag_Count', 'Avg_Fwd_Segment_Size', 'Init_Win_bytes_forward',\n",
       "       'Init_Win_bytes_backward', 'Active_Min', 'Idle_Mean', 'Idle_Std',\n",
       "       'Idle_Max', 'Idle_Min'],\n",
       "      dtype='object')"
      ]
     },
     "execution_count": 31,
     "metadata": {},
     "output_type": "execute_result"
    }
   ],
   "source": [
    "print('Number of features selected :',len(new_features))\n",
    "new_features"
   ]
  },
  {
   "cell_type": "code",
   "execution_count": 32,
   "metadata": {},
   "outputs": [],
   "source": [
    "attack = np.array(['BENIGN', 'Bot', 'Brute Force', 'DDoS', 'DoS GoldenEye', 'DoS Hulk', 'DoS Slowhttptest',\n",
    "                   'DoS slowloris', 'FTP-Patator', 'PortScan', 'SSH-Patator', 'XSS'])\n",
    "attack_groups = np.array(['benign', 'botnet', 'brute_force', 'ddos', 'dos', 'probe', 'web_attack'])"
   ]
  },
  {
   "cell_type": "code",
   "execution_count": null,
   "metadata": {},
   "outputs": [],
   "source": []
  },
  {
   "cell_type": "code",
   "execution_count": null,
   "metadata": {},
   "outputs": [],
   "source": []
  },
  {
   "cell_type": "code",
   "execution_count": null,
   "metadata": {},
   "outputs": [],
   "source": []
  },
  {
   "cell_type": "markdown",
   "metadata": {},
   "source": [
    "# Applying Machine Learning classifier models"
   ]
  },
  {
   "cell_type": "markdown",
   "metadata": {},
   "source": [
    "Each machine learning algorithm is applied in three different categories :\n",
    "\n",
    "1. On all attack labels (12).\n",
    "2. Binary Classifier (2).\n",
    "3. Multi-class Classifier (7).\n",
    "\n",
    "And then evaluate performance of each algorithm by confusion matrix plot.\n",
    "Evaluate Accuracy, Precision, Recall, F1-score."
   ]
  },
  {
   "cell_type": "markdown",
   "metadata": {},
   "source": [
    "# Optimizing the best performed Algorithm"
   ]
  },
  {
   "cell_type": "markdown",
   "metadata": {},
   "source": [
    "Find the number of estimators value we should use"
   ]
  },
  {
   "cell_type": "code",
   "execution_count": 57,
   "metadata": {},
   "outputs": [],
   "source": [
    "# n estimators is the number of decision trees we consider in the ensemble \n",
    "n_estimators = [12, 25, 50, 100, 200]\n",
    "results = []\n",
    "time_results = []"
   ]
  },
  {
   "cell_type": "code",
   "execution_count": 34,
   "metadata": {},
   "outputs": [],
   "source": [
    "# note: takes a long time\n",
    "for estimator in n_estimators: \n",
    "    # fit model with n_estimators parameter\n",
    "    classifier =  RandomForestClassifier(n_estimators=estimator)\n",
    "    classifier.fit(x_train, y_train.Label)\n",
    "    \n",
    "    # predict validation\n",
    "    start = time.time()\n",
    "    y_pred = classifier.predict(x_test)\n",
    "    end = time.time()\n",
    "    \n",
    "    # calculate metrics\n",
    "    p, r, f1, n = score(y_test.Label, y_pred, average = 'macro')\n",
    "    \n",
    "    # append f1 and time to results array\n",
    "    results.append(f1)\n",
    "    time_results.append(end-start)\n",
    "    "
   ]
  },
  {
   "cell_type": "code",
   "execution_count": 35,
   "metadata": {},
   "outputs": [],
   "source": [
    "# plot classification time for n_estimators\n",
    "plt.plot(n_estimators, time_results)\n",
    "plt.xlabel('n_estimators')\n",
    "plt.ylabel('Classification Time (s)')\n",
    "plt.title('How n_estimators value changes classification time')\n",
    "plt.savefig('n_estimators-time.png')"
   ]
  },
  {
   "cell_type": "code",
   "execution_count": 36,
   "metadata": {},
   "outputs": [],
   "source": [
    "# plot f1 score for n estimators\n",
    "plt.plot(n_estimators, results)\n",
    "plt.xlabel('n_estimators')\n",
    "plt.ylabel('F1 Score')\n",
    "plt.title('How n_estimators value changes F1 score for the validation dataset')\n",
    "plt.savefig('n_estimators.png')"
   ]
  },
  {
   "cell_type": "markdown",
   "metadata": {},
   "source": [
    "Although n_estimators=800 was highest, that many number of estimators is not realistic in terms of classificaiton times. We go with the second peak - n_estimators = 25"
   ]
  },
  {
   "cell_type": "code",
   "execution_count": 37,
   "metadata": {},
   "outputs": [],
   "source": [
    "from sklearn.model_selection import RandomizedSearchCV\n",
    "\n",
    "max_features = [int(x) for x in np.linspace(2, 40, num = 20)] # from 2 to 40 (max number) of features (up in 2s)\n",
    "max_features.append('auto') \n",
    "max_depth = [int(x) for x in np.linspace(10, 200, num = 10)] # 10 values for max depth from 10 to 200\n",
    "max_depth.append(None) # also have option for no max depth\n",
    "min_samples_split = [2, 5, 10]\n",
    "min_samples_leaf = [1, 2, 4]\n",
    "bootstrap = [True, False]\n",
    "\n",
    "random_grid = {'n_estimators': [25], # chosen n_estimator\n",
    "               'max_features': max_features,\n",
    "               'max_depth': max_depth,\n",
    "               'min_samples_split': min_samples_split,\n",
    "               'min_samples_leaf': min_samples_leaf,\n",
    "               'bootstrap': bootstrap}\n"
   ]
  },
  {
   "cell_type": "code",
   "execution_count": 38,
   "metadata": {},
   "outputs": [],
   "source": [
    "# Use the random grid to search for best hyperparameters\n",
    "\n",
    "rf = RandomForestClassifier()\n",
    "\n",
    "rf_random = RandomizedSearchCV(estimator = rf, param_distributions = random_grid, n_iter = 100, cv = 3, verbose=2, random_state=42, n_jobs = -1)\n",
    "rf_random.fit(x_train, y_train['Label'])"
   ]
  },
  {
   "cell_type": "code",
   "execution_count": 39,
   "metadata": {},
   "outputs": [],
   "source": [
    "rf_random.best_params_"
   ]
  },
  {
   "cell_type": "code",
   "execution_count": null,
   "metadata": {},
   "outputs": [],
   "source": []
  },
  {
   "cell_type": "code",
   "execution_count": null,
   "metadata": {},
   "outputs": [],
   "source": []
  },
  {
   "cell_type": "code",
   "execution_count": null,
   "metadata": {},
   "outputs": [],
   "source": []
  },
  {
   "cell_type": "markdown",
   "metadata": {},
   "source": [
    "# 7. Proposed - Optimized Random forest method"
   ]
  },
  {
   "cell_type": "code",
   "execution_count": 40,
   "metadata": {},
   "outputs": [],
   "source": [
    "classifier =  RandomForestClassifier(n_estimators=25, max_depth=200, min_samples_split=5, min_samples_leaf=1, max_features=20, \n",
    "                                     bootstrap=True)"
   ]
  },
  {
   "cell_type": "markdown",
   "metadata": {},
   "source": [
    "1. a) On all attack labels."
   ]
  },
  {
   "cell_type": "code",
   "execution_count": 41,
   "metadata": {},
   "outputs": [
    {
     "name": "stdout",
     "output_type": "stream",
     "text": [
      "Model Training Time is :  1023.3599278926849\n"
     ]
    }
   ],
   "source": [
    "# fit the model\n",
    "\n",
    "start = time.time()\n",
    "classifier.fit(x_train, y_train.Label)\n",
    "end = time.time()\n",
    "training_time = end - start\n",
    "\n",
    "print(\"Model Training Time is : \", training_time)"
   ]
  },
  {
   "cell_type": "code",
   "execution_count": 42,
   "metadata": {},
   "outputs": [
    {
     "name": "stdout",
     "output_type": "stream",
     "text": [
      "Model Testing Time is :  3.261446952819824\n"
     ]
    }
   ],
   "source": [
    "# predicting test results of Proposed Optimized Random Forest classifier on all labels.\n",
    "\n",
    "start = time.time()\n",
    "y_predict = classifier.predict(x_test)\n",
    "end = time.time()\n",
    "testing_time = end  - start\n",
    "\n",
    "print(\"Model Testing Time is : \", testing_time)"
   ]
  },
  {
   "cell_type": "code",
   "execution_count": 43,
   "metadata": {},
   "outputs": [
    {
     "name": "stdout",
     "output_type": "stream",
     "text": [
      "Plotting Confusion Matrix of Proposed Optimized Random Forest classifier on all Labels \n"
     ]
    },
    {
     "data": {
      "image/png": "[encoded data removed]",
      "text/plain": [
       "<Figure size 432x288 with 2 Axes>"
      ]
     },
     "metadata": {
      "needs_background": "light"
     },
     "output_type": "display_data"
    },
    {
     "data": {
      "text/html": [
       "<div>\n",
       "<style scoped>\n",
       "    .dataframe tbody tr th:only-of-type {\n",
       "        vertical-align: middle;\n",
       "    }\n",
       "\n",
       "    .dataframe tbody tr th {\n",
       "        vertical-align: top;\n",
       "    }\n",
       "\n",
       "    .dataframe thead th {\n",
       "        text-align: right;\n",
       "    }\n",
       "</style>\n",
       "<table border=\"1\" class=\"dataframe\">\n",
       "  <thead>\n",
       "    <tr style=\"text-align: right;\">\n",
       "      <th>Predicted attacks</th>\n",
       "      <th>BENIGN</th>\n",
       "      <th>Bot</th>\n",
       "      <th>Brute Force</th>\n",
       "      <th>DDoS</th>\n",
       "      <th>DoS GoldenEye</th>\n",
       "      <th>DoS Hulk</th>\n",
       "      <th>DoS Slowhttptest</th>\n",
       "      <th>DoS slowloris</th>\n",
       "      <th>FTP-Patator</th>\n",
       "      <th>PortScan</th>\n",
       "      <th>SSH-Patator</th>\n",
       "      <th>XSS</th>\n",
       "    </tr>\n",
       "    <tr>\n",
       "      <th>Actual Attacks</th>\n",
       "      <th></th>\n",
       "      <th></th>\n",
       "      <th></th>\n",
       "      <th></th>\n",
       "      <th></th>\n",
       "      <th></th>\n",
       "      <th></th>\n",
       "      <th></th>\n",
       "      <th></th>\n",
       "      <th></th>\n",
       "      <th></th>\n",
       "      <th></th>\n",
       "    </tr>\n",
       "  </thead>\n",
       "  <tbody>\n",
       "    <tr>\n",
       "      <th>BENIGN</th>\n",
       "      <td>681315</td>\n",
       "      <td>11</td>\n",
       "      <td>1</td>\n",
       "      <td>3</td>\n",
       "      <td>0</td>\n",
       "      <td>63</td>\n",
       "      <td>0</td>\n",
       "      <td>0</td>\n",
       "      <td>0</td>\n",
       "      <td>2</td>\n",
       "      <td>0</td>\n",
       "      <td>1</td>\n",
       "    </tr>\n",
       "    <tr>\n",
       "      <th>Bot</th>\n",
       "      <td>14</td>\n",
       "      <td>573</td>\n",
       "      <td>0</td>\n",
       "      <td>0</td>\n",
       "      <td>0</td>\n",
       "      <td>0</td>\n",
       "      <td>0</td>\n",
       "      <td>0</td>\n",
       "      <td>0</td>\n",
       "      <td>0</td>\n",
       "      <td>0</td>\n",
       "      <td>0</td>\n",
       "    </tr>\n",
       "    <tr>\n",
       "      <th>Brute Force</th>\n",
       "      <td>2</td>\n",
       "      <td>0</td>\n",
       "      <td>450</td>\n",
       "      <td>0</td>\n",
       "      <td>0</td>\n",
       "      <td>0</td>\n",
       "      <td>0</td>\n",
       "      <td>0</td>\n",
       "      <td>0</td>\n",
       "      <td>0</td>\n",
       "      <td>0</td>\n",
       "      <td>0</td>\n",
       "    </tr>\n",
       "    <tr>\n",
       "      <th>DDoS</th>\n",
       "      <td>14</td>\n",
       "      <td>0</td>\n",
       "      <td>0</td>\n",
       "      <td>38394</td>\n",
       "      <td>0</td>\n",
       "      <td>0</td>\n",
       "      <td>0</td>\n",
       "      <td>0</td>\n",
       "      <td>0</td>\n",
       "      <td>0</td>\n",
       "      <td>0</td>\n",
       "      <td>0</td>\n",
       "    </tr>\n",
       "    <tr>\n",
       "      <th>DoS GoldenEye</th>\n",
       "      <td>2</td>\n",
       "      <td>0</td>\n",
       "      <td>0</td>\n",
       "      <td>0</td>\n",
       "      <td>3086</td>\n",
       "      <td>0</td>\n",
       "      <td>0</td>\n",
       "      <td>0</td>\n",
       "      <td>0</td>\n",
       "      <td>0</td>\n",
       "      <td>0</td>\n",
       "      <td>0</td>\n",
       "    </tr>\n",
       "    <tr>\n",
       "      <th>DoS Hulk</th>\n",
       "      <td>21</td>\n",
       "      <td>0</td>\n",
       "      <td>0</td>\n",
       "      <td>0</td>\n",
       "      <td>0</td>\n",
       "      <td>69015</td>\n",
       "      <td>0</td>\n",
       "      <td>0</td>\n",
       "      <td>0</td>\n",
       "      <td>0</td>\n",
       "      <td>0</td>\n",
       "      <td>1</td>\n",
       "    </tr>\n",
       "    <tr>\n",
       "      <th>DoS Slowhttptest</th>\n",
       "      <td>4</td>\n",
       "      <td>0</td>\n",
       "      <td>0</td>\n",
       "      <td>0</td>\n",
       "      <td>0</td>\n",
       "      <td>0</td>\n",
       "      <td>1644</td>\n",
       "      <td>1</td>\n",
       "      <td>0</td>\n",
       "      <td>0</td>\n",
       "      <td>0</td>\n",
       "      <td>1</td>\n",
       "    </tr>\n",
       "    <tr>\n",
       "      <th>DoS slowloris</th>\n",
       "      <td>3</td>\n",
       "      <td>0</td>\n",
       "      <td>0</td>\n",
       "      <td>0</td>\n",
       "      <td>0</td>\n",
       "      <td>0</td>\n",
       "      <td>3</td>\n",
       "      <td>1733</td>\n",
       "      <td>0</td>\n",
       "      <td>0</td>\n",
       "      <td>0</td>\n",
       "      <td>0</td>\n",
       "    </tr>\n",
       "    <tr>\n",
       "      <th>FTP-Patator</th>\n",
       "      <td>1</td>\n",
       "      <td>0</td>\n",
       "      <td>0</td>\n",
       "      <td>0</td>\n",
       "      <td>0</td>\n",
       "      <td>0</td>\n",
       "      <td>0</td>\n",
       "      <td>0</td>\n",
       "      <td>2379</td>\n",
       "      <td>0</td>\n",
       "      <td>0</td>\n",
       "      <td>0</td>\n",
       "    </tr>\n",
       "    <tr>\n",
       "      <th>PortScan</th>\n",
       "      <td>7</td>\n",
       "      <td>0</td>\n",
       "      <td>0</td>\n",
       "      <td>0</td>\n",
       "      <td>0</td>\n",
       "      <td>1</td>\n",
       "      <td>0</td>\n",
       "      <td>0</td>\n",
       "      <td>0</td>\n",
       "      <td>47632</td>\n",
       "      <td>0</td>\n",
       "      <td>1</td>\n",
       "    </tr>\n",
       "    <tr>\n",
       "      <th>SSH-Patator</th>\n",
       "      <td>3</td>\n",
       "      <td>0</td>\n",
       "      <td>0</td>\n",
       "      <td>0</td>\n",
       "      <td>0</td>\n",
       "      <td>0</td>\n",
       "      <td>0</td>\n",
       "      <td>0</td>\n",
       "      <td>0</td>\n",
       "      <td>0</td>\n",
       "      <td>1766</td>\n",
       "      <td>0</td>\n",
       "    </tr>\n",
       "    <tr>\n",
       "      <th>XSS</th>\n",
       "      <td>4</td>\n",
       "      <td>0</td>\n",
       "      <td>0</td>\n",
       "      <td>0</td>\n",
       "      <td>0</td>\n",
       "      <td>0</td>\n",
       "      <td>0</td>\n",
       "      <td>0</td>\n",
       "      <td>0</td>\n",
       "      <td>0</td>\n",
       "      <td>0</td>\n",
       "      <td>192</td>\n",
       "    </tr>\n",
       "  </tbody>\n",
       "</table>\n",
       "</div>"
      ],
      "text/plain": [
       "Predicted attacks  BENIGN  Bot  Brute Force   DDoS  DoS GoldenEye  DoS Hulk  \\\n",
       "Actual Attacks                                                                \n",
       "BENIGN             681315   11            1      3              0        63   \n",
       "Bot                    14  573            0      0              0         0   \n",
       "Brute Force             2    0          450      0              0         0   \n",
       "DDoS                   14    0            0  38394              0         0   \n",
       "DoS GoldenEye           2    0            0      0           3086         0   \n",
       "DoS Hulk               21    0            0      0              0     69015   \n",
       "DoS Slowhttptest        4    0            0      0              0         0   \n",
       "DoS slowloris           3    0            0      0              0         0   \n",
       "FTP-Patator             1    0            0      0              0         0   \n",
       "PortScan                7    0            0      0              0         1   \n",
       "SSH-Patator             3    0            0      0              0         0   \n",
       "XSS                     4    0            0      0              0         0   \n",
       "\n",
       "Predicted attacks  DoS Slowhttptest  DoS slowloris  FTP-Patator  PortScan  \\\n",
       "Actual Attacks                                                              \n",
       "BENIGN                            0              0            0         2   \n",
       "Bot                               0              0            0         0   \n",
       "Brute Force                       0              0            0         0   \n",
       "DDoS                              0              0            0         0   \n",
       "DoS GoldenEye                     0              0            0         0   \n",
       "DoS Hulk                          0              0            0         0   \n",
       "DoS Slowhttptest               1644              1            0         0   \n",
       "DoS slowloris                     3           1733            0         0   \n",
       "FTP-Patator                       0              0         2379         0   \n",
       "PortScan                          0              0            0     47632   \n",
       "SSH-Patator                       0              0            0         0   \n",
       "XSS                               0              0            0         0   \n",
       "\n",
       "Predicted attacks  SSH-Patator  XSS  \n",
       "Actual Attacks                       \n",
       "BENIGN                       0    1  \n",
       "Bot                          0    0  \n",
       "Brute Force                  0    0  \n",
       "DDoS                         0    0  \n",
       "DoS GoldenEye                0    0  \n",
       "DoS Hulk                     0    1  \n",
       "DoS Slowhttptest             0    1  \n",
       "DoS slowloris                0    0  \n",
       "FTP-Patator                  0    0  \n",
       "PortScan                     0    1  \n",
       "SSH-Patator               1766    0  \n",
       "XSS                          0  192  "
      ]
     },
     "execution_count": 43,
     "metadata": {},
     "output_type": "execute_result"
    }
   ],
   "source": [
    "# Creating confusion matrix for Proposed Optimized Random Forest classifier on all labels.\n",
    "\n",
    "confusion_rf_proposed_1 = pd.crosstab(y_test.Label, y_predict, rownames=['Actual Attacks'], colnames=['Predicted attacks'])\n",
    "\n",
    "print(\"Plotting Confusion Matrix of Proposed Optimized Random Forest classifier on all Labels \")\n",
    "\n",
    "sn.heatmap(confusion_rf_proposed_1, annot=True, cmap= 'Blues', fmt='d')\n",
    "plt.show()\n",
    "confusion_rf_proposed_1"
   ]
  },
  {
   "cell_type": "code",
   "execution_count": 44,
   "metadata": {},
   "outputs": [
    {
     "data": {
      "text/html": [
       "<div>\n",
       "<style scoped>\n",
       "    .dataframe tbody tr th:only-of-type {\n",
       "        vertical-align: middle;\n",
       "    }\n",
       "\n",
       "    .dataframe tbody tr th {\n",
       "        vertical-align: top;\n",
       "    }\n",
       "\n",
       "    .dataframe thead th {\n",
       "        text-align: right;\n",
       "    }\n",
       "</style>\n",
       "<table border=\"1\" class=\"dataframe\">\n",
       "  <thead>\n",
       "    <tr style=\"text-align: right;\">\n",
       "      <th></th>\n",
       "      <th>attack</th>\n",
       "      <th>precision</th>\n",
       "      <th>recall</th>\n",
       "      <th>fscore</th>\n",
       "    </tr>\n",
       "  </thead>\n",
       "  <tbody>\n",
       "    <tr>\n",
       "      <th>0</th>\n",
       "      <td>BENIGN</td>\n",
       "      <td>0.999890</td>\n",
       "      <td>0.999881</td>\n",
       "      <td>0.999886</td>\n",
       "    </tr>\n",
       "    <tr>\n",
       "      <th>1</th>\n",
       "      <td>Bot</td>\n",
       "      <td>0.981164</td>\n",
       "      <td>0.976150</td>\n",
       "      <td>0.978651</td>\n",
       "    </tr>\n",
       "    <tr>\n",
       "      <th>2</th>\n",
       "      <td>Brute Force</td>\n",
       "      <td>0.997783</td>\n",
       "      <td>0.995575</td>\n",
       "      <td>0.996678</td>\n",
       "    </tr>\n",
       "    <tr>\n",
       "      <th>3</th>\n",
       "      <td>DDoS</td>\n",
       "      <td>0.999922</td>\n",
       "      <td>0.999635</td>\n",
       "      <td>0.999779</td>\n",
       "    </tr>\n",
       "    <tr>\n",
       "      <th>4</th>\n",
       "      <td>DoS GoldenEye</td>\n",
       "      <td>1.000000</td>\n",
       "      <td>0.999352</td>\n",
       "      <td>0.999676</td>\n",
       "    </tr>\n",
       "    <tr>\n",
       "      <th>5</th>\n",
       "      <td>DoS Hulk</td>\n",
       "      <td>0.999074</td>\n",
       "      <td>0.999681</td>\n",
       "      <td>0.999377</td>\n",
       "    </tr>\n",
       "    <tr>\n",
       "      <th>6</th>\n",
       "      <td>DoS Slowhttptest</td>\n",
       "      <td>0.998179</td>\n",
       "      <td>0.996364</td>\n",
       "      <td>0.997270</td>\n",
       "    </tr>\n",
       "    <tr>\n",
       "      <th>7</th>\n",
       "      <td>DoS slowloris</td>\n",
       "      <td>0.999423</td>\n",
       "      <td>0.996550</td>\n",
       "      <td>0.997984</td>\n",
       "    </tr>\n",
       "    <tr>\n",
       "      <th>8</th>\n",
       "      <td>FTP-Patator</td>\n",
       "      <td>1.000000</td>\n",
       "      <td>0.999580</td>\n",
       "      <td>0.999790</td>\n",
       "    </tr>\n",
       "    <tr>\n",
       "      <th>9</th>\n",
       "      <td>PortScan</td>\n",
       "      <td>0.999958</td>\n",
       "      <td>0.999811</td>\n",
       "      <td>0.999885</td>\n",
       "    </tr>\n",
       "    <tr>\n",
       "      <th>10</th>\n",
       "      <td>SSH-Patator</td>\n",
       "      <td>1.000000</td>\n",
       "      <td>0.998304</td>\n",
       "      <td>0.999151</td>\n",
       "    </tr>\n",
       "    <tr>\n",
       "      <th>11</th>\n",
       "      <td>XSS</td>\n",
       "      <td>0.979592</td>\n",
       "      <td>0.979592</td>\n",
       "      <td>0.979592</td>\n",
       "    </tr>\n",
       "  </tbody>\n",
       "</table>\n",
       "</div>"
      ],
      "text/plain": [
       "              attack  precision    recall    fscore\n",
       "0             BENIGN   0.999890  0.999881  0.999886\n",
       "1                Bot   0.981164  0.976150  0.978651\n",
       "2        Brute Force   0.997783  0.995575  0.996678\n",
       "3               DDoS   0.999922  0.999635  0.999779\n",
       "4      DoS GoldenEye   1.000000  0.999352  0.999676\n",
       "5           DoS Hulk   0.999074  0.999681  0.999377\n",
       "6   DoS Slowhttptest   0.998179  0.996364  0.997270\n",
       "7      DoS slowloris   0.999423  0.996550  0.997984\n",
       "8        FTP-Patator   1.000000  0.999580  0.999790\n",
       "9           PortScan   0.999958  0.999811  0.999885\n",
       "10       SSH-Patator   1.000000  0.998304  0.999151\n",
       "11               XSS   0.979592  0.979592  0.979592"
      ]
     },
     "execution_count": 44,
     "metadata": {},
     "output_type": "execute_result"
    }
   ],
   "source": [
    "# Precision,Recall,F1-score for Proposed Optimized Random Forest classifier on all labels.\n",
    "\n",
    "precision, recall, fscore, support = score(y_test.Label, y_predict)\n",
    "\n",
    "d = {'attack': attack, 'precision': precision, 'recall' : recall, 'fscore': fscore}\n",
    "results = pd.DataFrame(data=d)\n",
    "results"
   ]
  },
  {
   "cell_type": "code",
   "execution_count": 45,
   "metadata": {},
   "outputs": [
    {
     "name": "stdout",
     "output_type": "stream",
     "text": [
      "Accuracy of Proposed Optimized Random Forest classifier on all labels :  0.9998066819670817\n"
     ]
    }
   ],
   "source": [
    "# Average Accuracy,Precision,Recall,F1-score for Proposed Optimized Random Forest classifier on all labels.\n",
    "\n",
    "precision_rf_proposed_1, recall_rf_proposed_1, fscore_rf_proposed_1, support = score(y_test.Label, y_predict, average='macro')\n",
    "accuracy_rf_proposed_1 = accuracy_score(y_test.Label, y_predict)\n",
    "print(\"Accuracy of Proposed Optimized Random Forest classifier on all labels : \", accuracy_rf_proposed_1)"
   ]
  },
  {
   "cell_type": "code",
   "execution_count": null,
   "metadata": {},
   "outputs": [],
   "source": []
  },
  {
   "cell_type": "code",
   "execution_count": null,
   "metadata": {},
   "outputs": [],
   "source": []
  },
  {
   "cell_type": "markdown",
   "metadata": {},
   "source": [
    "1. b) Binary Classifier."
   ]
  },
  {
   "cell_type": "code",
   "execution_count": 46,
   "metadata": {},
   "outputs": [
    {
     "name": "stdout",
     "output_type": "stream",
     "text": [
      "Model Training Time is :  984.4215383529663\n"
     ]
    }
   ],
   "source": [
    "# fit the model\n",
    "\n",
    "start = time.time()\n",
    "classifier.fit(x_train, y_train.Attack)\n",
    "end = time.time()\n",
    "training_time = end - start\n",
    "\n",
    "print(\"Model Training Time is : \", training_time)"
   ]
  },
  {
   "cell_type": "code",
   "execution_count": 47,
   "metadata": {},
   "outputs": [
    {
     "name": "stdout",
     "output_type": "stream",
     "text": [
      "Model Testing Time is :  2.336059093475342\n"
     ]
    }
   ],
   "source": [
    "# predicting test results of Proposed Optimized Random Forest classifier on binary labels.\n",
    "\n",
    "start = time.time()\n",
    "y_predict = classifier.predict(x_test)\n",
    "end = time.time()\n",
    "testing_time = end  - start\n",
    "\n",
    "print(\"Model Testing Time is : \", testing_time)"
   ]
  },
  {
   "cell_type": "code",
   "execution_count": 48,
   "metadata": {},
   "outputs": [
    {
     "name": "stdout",
     "output_type": "stream",
     "text": [
      "Plotting Confusion Matrix of Proposed Optimized Random Forest classifier on binary Labels \n"
     ]
    },
    {
     "data": {
      "image/png": "[encoded data removed]",
      "text/plain": [
       "<Figure size 432x288 with 2 Axes>"
      ]
     },
     "metadata": {
      "needs_background": "light"
     },
     "output_type": "display_data"
    },
    {
     "data": {
      "text/html": [
       "<div>\n",
       "<style scoped>\n",
       "    .dataframe tbody tr th:only-of-type {\n",
       "        vertical-align: middle;\n",
       "    }\n",
       "\n",
       "    .dataframe tbody tr th {\n",
       "        vertical-align: top;\n",
       "    }\n",
       "\n",
       "    .dataframe thead th {\n",
       "        text-align: right;\n",
       "    }\n",
       "</style>\n",
       "<table border=\"1\" class=\"dataframe\">\n",
       "  <thead>\n",
       "    <tr style=\"text-align: right;\">\n",
       "      <th>Predicted attacks</th>\n",
       "      <th>Attack</th>\n",
       "      <th>Normal</th>\n",
       "    </tr>\n",
       "    <tr>\n",
       "      <th>Actual Attacks</th>\n",
       "      <th></th>\n",
       "      <th></th>\n",
       "    </tr>\n",
       "  </thead>\n",
       "  <tbody>\n",
       "    <tr>\n",
       "      <th>Attack</th>\n",
       "      <td>166892</td>\n",
       "      <td>55</td>\n",
       "    </tr>\n",
       "    <tr>\n",
       "      <th>Normal</th>\n",
       "      <td>91</td>\n",
       "      <td>681305</td>\n",
       "    </tr>\n",
       "  </tbody>\n",
       "</table>\n",
       "</div>"
      ],
      "text/plain": [
       "Predicted attacks  Attack  Normal\n",
       "Actual Attacks                   \n",
       "Attack             166892      55\n",
       "Normal                 91  681305"
      ]
     },
     "execution_count": 48,
     "metadata": {},
     "output_type": "execute_result"
    }
   ],
   "source": [
    "# Creating confusion matrix for Proposed Optimized Random Forest classifier on binary labels.\n",
    "\n",
    "confusion_rf_proposed_2 = pd.crosstab(y_test.Attack, y_predict, rownames=['Actual Attacks'], colnames=['Predicted attacks'])\n",
    "\n",
    "print(\"Plotting Confusion Matrix of Proposed Optimized Random Forest classifier on binary Labels \")\n",
    "\n",
    "sn.heatmap(confusion_rf_proposed_2, annot=True, cmap= 'Blues', fmt='d')\n",
    "plt.show()\n",
    "confusion_rf_proposed_2"
   ]
  },
  {
   "cell_type": "code",
   "execution_count": 49,
   "metadata": {},
   "outputs": [
    {
     "data": {
      "text/html": [
       "<div>\n",
       "<style scoped>\n",
       "    .dataframe tbody tr th:only-of-type {\n",
       "        vertical-align: middle;\n",
       "    }\n",
       "\n",
       "    .dataframe tbody tr th {\n",
       "        vertical-align: top;\n",
       "    }\n",
       "\n",
       "    .dataframe thead th {\n",
       "        text-align: right;\n",
       "    }\n",
       "</style>\n",
       "<table border=\"1\" class=\"dataframe\">\n",
       "  <thead>\n",
       "    <tr style=\"text-align: right;\">\n",
       "      <th></th>\n",
       "      <th>attack</th>\n",
       "      <th>precision</th>\n",
       "      <th>recall</th>\n",
       "      <th>fscore</th>\n",
       "    </tr>\n",
       "  </thead>\n",
       "  <tbody>\n",
       "    <tr>\n",
       "      <th>0</th>\n",
       "      <td>0</td>\n",
       "      <td>0.999455</td>\n",
       "      <td>0.999671</td>\n",
       "      <td>0.999563</td>\n",
       "    </tr>\n",
       "    <tr>\n",
       "      <th>1</th>\n",
       "      <td>1</td>\n",
       "      <td>0.999919</td>\n",
       "      <td>0.999866</td>\n",
       "      <td>0.999893</td>\n",
       "    </tr>\n",
       "  </tbody>\n",
       "</table>\n",
       "</div>"
      ],
      "text/plain": [
       "   attack  precision    recall    fscore\n",
       "0       0   0.999455  0.999671  0.999563\n",
       "1       1   0.999919  0.999866  0.999893"
      ]
     },
     "execution_count": 49,
     "metadata": {},
     "output_type": "execute_result"
    }
   ],
   "source": [
    "# Precision,Recall,F1-score for Proposed Optimized Random Forest classifier on binary labels.\n",
    "\n",
    "precision, recall, fscore, support = score(y_test.Attack, y_predict)\n",
    "d = {'attack': [0,1], 'precision': precision, 'recall' : recall, 'fscore': fscore}\n",
    "results = pd.DataFrame(data=d)\n",
    "results"
   ]
  },
  {
   "cell_type": "code",
   "execution_count": 50,
   "metadata": {},
   "outputs": [
    {
     "name": "stdout",
     "output_type": "stream",
     "text": [
      "Accuracy of Proposed Optimized Random Forest classifier on binary labels :  0.999827899799963\n"
     ]
    }
   ],
   "source": [
    "# Average Accuracy,Precision,Recall,F1-score for Proposed Optimized Random Forest classifier on binary labels.\n",
    "\n",
    "precision_rf_proposed_2, recall_rf_proposed_2, fscore_rf_proposed_2, n = score(y_test.Attack, y_predict, average='macro')\n",
    "accuracy_rf_proposed_2 = accuracy_score(y_test.Attack, y_predict)\n",
    "print(\"Accuracy of Proposed Optimized Random Forest classifier on binary labels : \", accuracy_rf_proposed_2)"
   ]
  },
  {
   "cell_type": "code",
   "execution_count": null,
   "metadata": {},
   "outputs": [],
   "source": []
  },
  {
   "cell_type": "markdown",
   "metadata": {},
   "source": [
    "1. c) Multi-class Classifier."
   ]
  },
  {
   "cell_type": "code",
   "execution_count": 51,
   "metadata": {},
   "outputs": [
    {
     "name": "stdout",
     "output_type": "stream",
     "text": [
      "Model Training Time is :  1043.9241540431976\n"
     ]
    }
   ],
   "source": [
    "# fit the model\n",
    "\n",
    "start = time.time()\n",
    "classifier.fit(x_train, y_train.Label_Category)\n",
    "end = time.time()\n",
    "training_time = end - start\n",
    "\n",
    "print(\"Model Training Time is : \", training_time)"
   ]
  },
  {
   "cell_type": "code",
   "execution_count": 52,
   "metadata": {},
   "outputs": [
    {
     "name": "stdout",
     "output_type": "stream",
     "text": [
      "Model Testing Time is :  2.8264429569244385\n"
     ]
    }
   ],
   "source": [
    "# predicting test results of Proposed Optimized Random Forest classifier on multi-class labels.\n",
    "\n",
    "start = time.time()\n",
    "y_predict = classifier.predict(x_test)\n",
    "end = time.time()\n",
    "testing_time = end  - start\n",
    "\n",
    "print(\"Model Testing Time is : \", testing_time)"
   ]
  },
  {
   "cell_type": "code",
   "execution_count": 53,
   "metadata": {},
   "outputs": [
    {
     "name": "stdout",
     "output_type": "stream",
     "text": [
      "Plotting Confusion Matrix of Proposed Optimized Random Forest classifier on multi-class Labels \n"
     ]
    },
    {
     "data": {
      "image/png": "[encoded data removed]",
      "text/plain": [
       "<Figure size 432x288 with 2 Axes>"
      ]
     },
     "metadata": {
      "needs_background": "light"
     },
     "output_type": "display_data"
    },
    {
     "data": {
      "text/html": [
       "<div>\n",
       "<style scoped>\n",
       "    .dataframe tbody tr th:only-of-type {\n",
       "        vertical-align: middle;\n",
       "    }\n",
       "\n",
       "    .dataframe tbody tr th {\n",
       "        vertical-align: top;\n",
       "    }\n",
       "\n",
       "    .dataframe thead th {\n",
       "        text-align: right;\n",
       "    }\n",
       "</style>\n",
       "<table border=\"1\" class=\"dataframe\">\n",
       "  <thead>\n",
       "    <tr style=\"text-align: right;\">\n",
       "      <th>Predicted attacks</th>\n",
       "      <th>benign</th>\n",
       "      <th>botnet</th>\n",
       "      <th>brute_force</th>\n",
       "      <th>ddos</th>\n",
       "      <th>dos</th>\n",
       "      <th>probe</th>\n",
       "      <th>web_attack</th>\n",
       "    </tr>\n",
       "    <tr>\n",
       "      <th>Actual Attacks</th>\n",
       "      <th></th>\n",
       "      <th></th>\n",
       "      <th></th>\n",
       "      <th></th>\n",
       "      <th></th>\n",
       "      <th></th>\n",
       "      <th></th>\n",
       "    </tr>\n",
       "  </thead>\n",
       "  <tbody>\n",
       "    <tr>\n",
       "      <th>benign</th>\n",
       "      <td>681308</td>\n",
       "      <td>12</td>\n",
       "      <td>0</td>\n",
       "      <td>3</td>\n",
       "      <td>68</td>\n",
       "      <td>1</td>\n",
       "      <td>4</td>\n",
       "    </tr>\n",
       "    <tr>\n",
       "      <th>botnet</th>\n",
       "      <td>12</td>\n",
       "      <td>575</td>\n",
       "      <td>0</td>\n",
       "      <td>0</td>\n",
       "      <td>0</td>\n",
       "      <td>0</td>\n",
       "      <td>0</td>\n",
       "    </tr>\n",
       "    <tr>\n",
       "      <th>brute_force</th>\n",
       "      <td>3</td>\n",
       "      <td>0</td>\n",
       "      <td>4146</td>\n",
       "      <td>0</td>\n",
       "      <td>0</td>\n",
       "      <td>0</td>\n",
       "      <td>0</td>\n",
       "    </tr>\n",
       "    <tr>\n",
       "      <th>ddos</th>\n",
       "      <td>9</td>\n",
       "      <td>0</td>\n",
       "      <td>0</td>\n",
       "      <td>38399</td>\n",
       "      <td>0</td>\n",
       "      <td>0</td>\n",
       "      <td>0</td>\n",
       "    </tr>\n",
       "    <tr>\n",
       "      <th>dos</th>\n",
       "      <td>25</td>\n",
       "      <td>0</td>\n",
       "      <td>0</td>\n",
       "      <td>1</td>\n",
       "      <td>75487</td>\n",
       "      <td>0</td>\n",
       "      <td>1</td>\n",
       "    </tr>\n",
       "    <tr>\n",
       "      <th>probe</th>\n",
       "      <td>4</td>\n",
       "      <td>0</td>\n",
       "      <td>0</td>\n",
       "      <td>0</td>\n",
       "      <td>1</td>\n",
       "      <td>47634</td>\n",
       "      <td>2</td>\n",
       "    </tr>\n",
       "    <tr>\n",
       "      <th>web_attack</th>\n",
       "      <td>6</td>\n",
       "      <td>0</td>\n",
       "      <td>0</td>\n",
       "      <td>0</td>\n",
       "      <td>0</td>\n",
       "      <td>0</td>\n",
       "      <td>642</td>\n",
       "    </tr>\n",
       "  </tbody>\n",
       "</table>\n",
       "</div>"
      ],
      "text/plain": [
       "Predicted attacks  benign  botnet  brute_force   ddos    dos  probe  \\\n",
       "Actual Attacks                                                        \n",
       "benign             681308      12            0      3     68      1   \n",
       "botnet                 12     575            0      0      0      0   \n",
       "brute_force             3       0         4146      0      0      0   \n",
       "ddos                    9       0            0  38399      0      0   \n",
       "dos                    25       0            0      1  75487      0   \n",
       "probe                   4       0            0      0      1  47634   \n",
       "web_attack              6       0            0      0      0      0   \n",
       "\n",
       "Predicted attacks  web_attack  \n",
       "Actual Attacks                 \n",
       "benign                      4  \n",
       "botnet                      0  \n",
       "brute_force                 0  \n",
       "ddos                        0  \n",
       "dos                         1  \n",
       "probe                       2  \n",
       "web_attack                642  "
      ]
     },
     "execution_count": 53,
     "metadata": {},
     "output_type": "execute_result"
    }
   ],
   "source": [
    "# Creating confusion matrix for Proposed Optimized Random Forest classifier on multi-class labels.\n",
    "\n",
    "confusion_rf_proposed_3 = pd.crosstab(y_test.Label_Category, y_predict, rownames=['Actual Attacks'], colnames=['Predicted attacks'])\n",
    "\n",
    "print(\"Plotting Confusion Matrix of Proposed Optimized Random Forest classifier on multi-class Labels \")\n",
    "\n",
    "sn.heatmap(confusion_rf_proposed_3, annot=True, cmap= 'Blues', fmt='d')\n",
    "plt.show()\n",
    "confusion_rf_proposed_3"
   ]
  },
  {
   "cell_type": "code",
   "execution_count": 54,
   "metadata": {},
   "outputs": [
    {
     "data": {
      "text/html": [
       "<div>\n",
       "<style scoped>\n",
       "    .dataframe tbody tr th:only-of-type {\n",
       "        vertical-align: middle;\n",
       "    }\n",
       "\n",
       "    .dataframe tbody tr th {\n",
       "        vertical-align: top;\n",
       "    }\n",
       "\n",
       "    .dataframe thead th {\n",
       "        text-align: right;\n",
       "    }\n",
       "</style>\n",
       "<table border=\"1\" class=\"dataframe\">\n",
       "  <thead>\n",
       "    <tr style=\"text-align: right;\">\n",
       "      <th></th>\n",
       "      <th>attack</th>\n",
       "      <th>precision</th>\n",
       "      <th>recall</th>\n",
       "      <th>fscore</th>\n",
       "    </tr>\n",
       "  </thead>\n",
       "  <tbody>\n",
       "    <tr>\n",
       "      <th>0</th>\n",
       "      <td>benign</td>\n",
       "      <td>0.999913</td>\n",
       "      <td>0.999871</td>\n",
       "      <td>0.999892</td>\n",
       "    </tr>\n",
       "    <tr>\n",
       "      <th>1</th>\n",
       "      <td>botnet</td>\n",
       "      <td>0.979557</td>\n",
       "      <td>0.979557</td>\n",
       "      <td>0.979557</td>\n",
       "    </tr>\n",
       "    <tr>\n",
       "      <th>2</th>\n",
       "      <td>brute_force</td>\n",
       "      <td>1.000000</td>\n",
       "      <td>0.999277</td>\n",
       "      <td>0.999638</td>\n",
       "    </tr>\n",
       "    <tr>\n",
       "      <th>3</th>\n",
       "      <td>ddos</td>\n",
       "      <td>0.999896</td>\n",
       "      <td>0.999766</td>\n",
       "      <td>0.999831</td>\n",
       "    </tr>\n",
       "    <tr>\n",
       "      <th>4</th>\n",
       "      <td>dos</td>\n",
       "      <td>0.999087</td>\n",
       "      <td>0.999642</td>\n",
       "      <td>0.999365</td>\n",
       "    </tr>\n",
       "    <tr>\n",
       "      <th>5</th>\n",
       "      <td>probe</td>\n",
       "      <td>0.999979</td>\n",
       "      <td>0.999853</td>\n",
       "      <td>0.999916</td>\n",
       "    </tr>\n",
       "    <tr>\n",
       "      <th>6</th>\n",
       "      <td>web_attack</td>\n",
       "      <td>0.989214</td>\n",
       "      <td>0.990741</td>\n",
       "      <td>0.989977</td>\n",
       "    </tr>\n",
       "  </tbody>\n",
       "</table>\n",
       "</div>"
      ],
      "text/plain": [
       "        attack  precision    recall    fscore\n",
       "0       benign   0.999913  0.999871  0.999892\n",
       "1       botnet   0.979557  0.979557  0.979557\n",
       "2  brute_force   1.000000  0.999277  0.999638\n",
       "3         ddos   0.999896  0.999766  0.999831\n",
       "4          dos   0.999087  0.999642  0.999365\n",
       "5        probe   0.999979  0.999853  0.999916\n",
       "6   web_attack   0.989214  0.990741  0.989977"
      ]
     },
     "execution_count": 54,
     "metadata": {},
     "output_type": "execute_result"
    }
   ],
   "source": [
    "# Precision,Recall,F1-score for Proposed Optimized Random Forest classifier on multi-class labels.\n",
    "\n",
    "precision, recall, fscore, support = score(y_test.Label_Category, y_predict)\n",
    "d = {'attack': attack_groups, 'precision': precision, 'recall' : recall, 'fscore': fscore}\n",
    "results = pd.DataFrame(data=d)\n",
    "results"
   ]
  },
  {
   "cell_type": "code",
   "execution_count": 55,
   "metadata": {},
   "outputs": [
    {
     "name": "stdout",
     "output_type": "stream",
     "text": [
      "Accuracy of Proposed Optimized Random Forest classifier on multi-class labels :  0.9998208271890026\n"
     ]
    }
   ],
   "source": [
    "# Average Accuracy,Precision,Recall,F1-score for Proposed Optimized Random Forest classifier on multi-class labels.\n",
    "\n",
    "precision_rf_proposed_3, recall_rf_proposed_3, fscore_rf_proposed_3, n = score(y_test.Label_Category, y_predict, average='macro')\n",
    "accuracy_rf_proposed_3 = accuracy_score(y_test.Label_Category, y_predict)\n",
    "print(\"Accuracy of Proposed Optimized Random Forest classifier on multi-class labels : \", accuracy_rf_proposed_3)"
   ]
  },
  {
   "cell_type": "code",
   "execution_count": null,
   "metadata": {},
   "outputs": [],
   "source": []
  },
  {
   "cell_type": "markdown",
   "metadata": {},
   "source": [
    "### Results for Proposed Optimized Random Forest:"
   ]
  },
  {
   "cell_type": "code",
   "execution_count": 56,
   "metadata": {},
   "outputs": [
    {
     "name": "stdout",
     "output_type": "stream",
     "text": [
      "Support Vector Machine: Precision / Recall / Fscore / Accuracy\n",
      "All Labels: 0.9962486723312057 0.9950396397451962 0.9956431954712103 0.9998066819670817\n",
      "Binary Labels: 0.9996871567168473 0.999768502383763 0.9997278233927755 0.999827899799963\n",
      "Multi-class Labels: 0.9953780390642109 0.9955295414449206 0.9954536752329985 0.9998208271890026\n"
     ]
    }
   ],
   "source": [
    "print('Support Vector Machine: Precision / Recall / Fscore / Accuracy')\n",
    "\n",
    "print('All Labels:', precision_rf_proposed_1, recall_rf_proposed_1, fscore_rf_proposed_1,  accuracy_rf_proposed_1)\n",
    "print('Binary Labels:', precision_rf_proposed_2, recall_rf_proposed_2, fscore_rf_proposed_2, accuracy_rf_proposed_2)\n",
    "print('Multi-class Labels:', precision_rf_proposed_3, recall_rf_proposed_3, fscore_rf_proposed_3, accuracy_rf_proposed_3)"
   ]
  },
  {
   "cell_type": "code",
   "execution_count": null,
   "metadata": {},
   "outputs": [],
   "source": []
  }
 ],
 "metadata": {
  "kernelspec": {
   "display_name": "Python 3",
   "language": "python",
   "name": "python3"
  },
  "language_info": {
   "codemirror_mode": {
    "name": "ipython",
    "version": 3
   },
   "file_extension": ".py",
   "mimetype": "text/x-python",
   "name": "python",
   "nbconvert_exporter": "python",
   "pygments_lexer": "ipython3",
   "version": "3.8.8"
  }
 },
 "nbformat": 4,
 "nbformat_minor": 4
}
