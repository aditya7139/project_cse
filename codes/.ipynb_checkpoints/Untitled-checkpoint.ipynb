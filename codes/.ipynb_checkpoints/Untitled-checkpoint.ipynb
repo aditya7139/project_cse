{
 "cells": [
  {
   "cell_type": "code",
   "execution_count": 1,
   "id": "60ca14e2",
   "metadata": {},
   "outputs": [],
   "source": [
    "import glob\n",
    "import matplotlib.pyplot as plt\n",
    "import numpy as np\n",
    "import pandas as pd "
   ]
  },
  {
   "cell_type": "code",
   "execution_count": 2,
   "id": "f4cdb6ec",
   "metadata": {},
   "outputs": [],
   "source": [
    "dataset=pd.read_csv('../datasets/cicids.csv')"
   ]
  },
  {
   "cell_type": "code",
   "execution_count": 3,
   "id": "d499928b",
   "metadata": {},
   "outputs": [
    {
     "data": {
      "text/plain": [
       "BENIGN                        2271320\n",
       "DoS Hulk                       230124\n",
       "PortScan                       158804\n",
       "DDoS                           128025\n",
       "DoS GoldenEye                   10293\n",
       "FTP-Patator                      7935\n",
       "SSH-Patator                      5897\n",
       "DoS slowloris                    5796\n",
       "DoS Slowhttptest                 5499\n",
       "Bot                              1956\n",
       "Web Attack � Brute Force         1507\n",
       "Web Attack � XSS                  652\n",
       "Infiltration                       36\n",
       "Web Attack � Sql Injection         21\n",
       "Heartbleed                         11\n",
       "Name: Label, dtype: int64"
      ]
     },
     "execution_count": 3,
     "metadata": {},
     "output_type": "execute_result"
    }
   ],
   "source": [
    "# Distribution of Dataset\n",
    "dataset['Label'].value_counts()"
   ]
  },
  {
   "cell_type": "code",
   "execution_count": 4,
   "id": "b50d8e7c",
   "metadata": {},
   "outputs": [],
   "source": [
    "dataset['Attack'] = np.where(dataset['Label'] == 'BENIGN','Normal' , 'Attack')"
   ]
  },
  {
   "cell_type": "code",
   "execution_count": 5,
   "id": "b5449fe4",
   "metadata": {},
   "outputs": [
    {
     "data": {
      "text/plain": [
       "Normal    2271320\n",
       "Attack     556556\n",
       "Name: Attack, dtype: int64"
      ]
     },
     "execution_count": 5,
     "metadata": {},
     "output_type": "execute_result"
    }
   ],
   "source": [
    "dataset['Attack'].value_counts()"
   ]
  },
  {
   "cell_type": "code",
   "execution_count": 6,
   "id": "d4551fbb",
   "metadata": {},
   "outputs": [
    {
     "data": {
      "text/plain": [
       "(2827876, 80)"
      ]
     },
     "execution_count": 6,
     "metadata": {},
     "output_type": "execute_result"
    }
   ],
   "source": [
    "dataset.shape"
   ]
  },
  {
   "cell_type": "code",
   "execution_count": null,
   "id": "d93dcc5d",
   "metadata": {},
   "outputs": [],
   "source": []
  }
 ],
 "metadata": {
  "kernelspec": {
   "display_name": "Python 3",
   "language": "python",
   "name": "python3"
  },
  "language_info": {
   "codemirror_mode": {
    "name": "ipython",
    "version": 3
   },
   "file_extension": ".py",
   "mimetype": "text/x-python",
   "name": "python",
   "nbconvert_exporter": "python",
   "pygments_lexer": "ipython3",
   "version": "3.8.8"
  }
 },
 "nbformat": 4,
 "nbformat_minor": 5
}
