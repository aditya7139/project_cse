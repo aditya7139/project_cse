{
 "cells": [
  {
   "cell_type": "markdown",
   "metadata": {},
   "source": [
    "# Machine Learning for the Detection of Network Attacks\n",
    "\n",
    "\n",
    "Analyse the machine learning algorithms on the [CICIDS 2017 Dataset] for clasification of network attacks.\n",
    "(https://www.unb.ca/cic/datasets/ids-2017.html): \n",
    "\n",
    "- Support Vector Machine (SVM)\n",
    "- Decision Tree\n",
    "- Naive Bayes\n",
    "- K Means Clustering \n",
    "- K Nearest Neighbours\n"
   ]
  },
  {
   "cell_type": "code",
   "execution_count": 1,
   "metadata": {},
   "outputs": [],
   "source": [
    "# from google.colab import drive\n",
    "# drive.mount('/content/drive')"
   ]
  },
  {
   "cell_type": "markdown",
   "metadata": {},
   "source": [
    "# Import required libraries."
   ]
  },
  {
   "cell_type": "code",
   "execution_count": 2,
   "metadata": {},
   "outputs": [],
   "source": [
    "import glob\n",
    "import matplotlib.pyplot as plt\n",
    "import numpy as np\n",
    "import pandas as pd \n",
    "import seaborn as sn\n",
    "import time\n",
    "\n",
    "from numpy import array\n",
    "\n",
    "from sklearn import preprocessing\n",
    "from sklearn.preprocessing import StandardScaler\n",
    "from sklearn.preprocessing import MinMaxScaler\n",
    "from sklearn.preprocessing import RobustScaler\n",
    "\n",
    "from sklearn.tree import DecisionTreeClassifier\n",
    "from sklearn.svm import LinearSVC\n",
    "from sklearn.naive_bayes import MultinomialNB\n",
    "from sklearn.neighbors import NearestNeighbors\n",
    "from sklearn.neighbors import KNeighborsClassifier\n",
    "from sklearn.cluster import KMeans\n",
    "from sklearn.decomposition import PCA\n",
    "from sklearn.ensemble import RandomForestRegressor\n",
    "from sklearn.ensemble import RandomForestClassifier\n",
    "\n",
    "from sklearn.feature_selection import SelectKBest\n",
    "from sklearn.feature_selection import chi2\n",
    "from sklearn.feature_selection import mutual_info_classif\n",
    "\n",
    "from sklearn import metrics\n",
    "from sklearn.metrics import accuracy_score\n",
    "from sklearn.metrics import confusion_matrix\n",
    "from sklearn.metrics import precision_recall_fscore_support as score\n",
    "from sklearn.metrics import completeness_score, homogeneity_score, v_measure_score\n",
    "\n",
    "from sklearn.model_selection import train_test_split"
   ]
  },
  {
   "cell_type": "markdown",
   "metadata": {},
   "source": [
    "# Loading the dataset"
   ]
  },
  {
   "cell_type": "markdown",
   "metadata": {},
   "source": [
    "The implemented attacks include Brute Force FTP, Brute Force SSH, DoS, Heartbleed, Web Attack, Infiltration, Botnet and DDoS. \n",
    "\n",
    "Datasets is available in 8 different csv files.\n",
    "\n",
    "- Monday-WorkingHours.pcap_ISCX.csv\n",
    "- Tuesday-WorkingHours.pcap_ISCX.csv\n",
    "- Wednesday-workingHours.pcap_ISCX.csv\n",
    "- Thursday-WorkingHours-Morning-WebAttacks.pcap_ISCX.csv\n",
    "- Thursday-WorkingHours-Afternoon-Infilteration.pcap_ISCX.csv\n",
    "- Friday-WorkingHours-Morning.pcap_ISCX.csv\n",
    "- Friday-WorkingHours-Afternoon-PortScan.pcap_ISCX.csv\n",
    "- Friday-WorkingHours-Afternoon-DDos.pcap_ISCX.csv\n",
    "\n",
    "8 different csv files of cicids dataset needs to be concatenated into a single csv file."
   ]
  },
  {
   "cell_type": "code",
   "execution_count": 3,
   "metadata": {},
   "outputs": [],
   "source": [
    "# # path to the all 8 files of CICIDS dataset.\n",
    "# path = './datasets'\n",
    "# all_files = glob.glob(path + \"/*.csv\")\n",
    "\n",
    "# # concatenate the 8 files into 1.\n",
    "# dataset = pd.concat((pd.read_csv(f) for f in all_files))"
   ]
  },
  {
   "cell_type": "code",
   "execution_count": 4,
   "metadata": {},
   "outputs": [],
   "source": [
    "# # saving the combined dataset to disk named cicids.csv\n",
    "# dataset.to_csv('cicids')"
   ]
  },
  {
   "cell_type": "code",
   "execution_count": 5,
   "metadata": {},
   "outputs": [],
   "source": [
    "dataset=pd.read_csv('../datasets/cicids.csv')\n",
    "# dataset=pd.read_csv('drive/MyDrive/datasets/cicids.zip')"
   ]
  },
  {
   "cell_type": "code",
   "execution_count": 6,
   "metadata": {},
   "outputs": [
    {
     "name": "stdout",
     "output_type": "stream",
     "text": [
      "(2827876, 79)\n"
     ]
    }
   ],
   "source": [
    "# Dimenions of dataset.\n",
    "print(dataset.shape)"
   ]
  },
  {
   "cell_type": "code",
   "execution_count": 7,
   "metadata": {},
   "outputs": [],
   "source": [
    "# column names as per dataset.\n",
    "\n",
    "col_names = [\"Destination_Port\",\n",
    "             \"Flow_Duration\", \n",
    "             \"Total_Fwd_Packets\",\n",
    "             \"Total_Backward_Packets\",\n",
    "             \"Total_Length_of_Fwd_Packets\", \n",
    "             \"Total_Length_of_Bwd_Packets\", \n",
    "             \"Fwd_Packet_Length_Max\", \n",
    "             \"Fwd_Packet_Length_Min\", \n",
    "             \"Fwd_Packet_Length_Mean\", \n",
    "             \"Fwd_Packet_Length_Std\",\n",
    "             \"Bwd_Packet_Length_Max\", \n",
    "             \"Bwd_Packet_Length_Min\", \n",
    "             \"Bwd_Packet_Length_Mean\", \n",
    "             \"Bwd_Packet_Length_Std\",\n",
    "             \"Flow_Bytes_s\", \n",
    "             \"Flow_Packets_s\", \n",
    "             \"Flow_IAT_Mean\", \n",
    "             \"Flow_IAT_Std\", \n",
    "             \"Flow_IAT_Max\", \n",
    "             \"Flow_IAT_Min\",\n",
    "             \"Fwd_IAT_Total\", \n",
    "             \"Fwd_IAT_Mean\", \n",
    "             \"Fwd_IAT_Std\", \n",
    "             \"Fwd_IAT_Max\", \n",
    "             \"Fwd_IAT_Min\",\n",
    "             \"Bwd_IAT_Total\", \n",
    "             \"Bwd_IAT_Mean\", \n",
    "             \"Bwd_IAT_Std\", \n",
    "             \"Bwd_IAT_Max\", \n",
    "             \"Bwd_IAT_Min\",\n",
    "             \"Fwd_PSH_Flags\", \n",
    "             \"Bwd_PSH_Flags\", \n",
    "             \"Fwd_URG_Flags\", \n",
    "             \"Bwd_URG_Flags\", \n",
    "             \"Fwd_Header_Length\", \n",
    "             \"Bwd_Header_Length\",\n",
    "             \"Fwd_Packets_s\", \n",
    "             \"Bwd_Packets_s\", \n",
    "             \"Min_Packet_Length\", \n",
    "             \"Max_Packet_Length\", \n",
    "             \"Packet_Length_Mean\", \n",
    "             \"Packet_Length_Std\", \n",
    "             \"Packet_Length_Variance\",\n",
    "             \"FIN_Flag_Count\", \n",
    "             \"SYN_Flag_Count\", \n",
    "             \"RST_Flag_Count\", \n",
    "             \"PSH_Flag_Count\", \n",
    "             \"ACK_Flag_Count\", \n",
    "             \"URG_Flag_Count\", \n",
    "             \"CWE_Flag_Count\", \n",
    "             \"ECE_Flag_Count\", \n",
    "             \"Down_Up_Ratio\", \n",
    "             \"Average_Packet_Size\", \n",
    "             \"Avg_Fwd_Segment_Size\", \n",
    "             \"Avg_Bwd_Segment_Size\", \n",
    "             \"Fwd_Header_Length\",\n",
    "             \"Fwd_Avg_Bytes_Bulk\", \n",
    "             \"Fwd_Avg_Packets_Bulk\", \n",
    "             \"Fwd_Avg_Bulk_Rate\", \n",
    "             \"Bwd_Avg_Bytes_Bulk\", \n",
    "             \"Bwd_Avg_Packets_Bulk\",\n",
    "             \"Bwd_Avg_Bulk_Rate\",\n",
    "             \"Subflow_Fwd_Packets\", \n",
    "             \"Subflow_Fwd_Bytes\", \n",
    "             \"Subflow_Bwd_Packets\", \n",
    "             \"Subflow_Bwd_Bytes\",\n",
    "             \"Init_Win_bytes_forward\", \n",
    "             \"Init_Win_bytes_backward\", \n",
    "             \"act_data_pkt_fwd\", \n",
    "             \"min_seg_size_forward\",\n",
    "             \"Active_Mean\", \n",
    "             \"Active_Std\", \n",
    "             \"Active_Max\", \n",
    "             \"Active_Min\",\n",
    "             \"Idle_Mean\", \n",
    "             \"Idle_Std\", \n",
    "             \"Idle_Max\", \n",
    "             \"Idle_Min\", \n",
    "             \"Label\"\n",
    "            ]"
   ]
  },
  {
   "cell_type": "code",
   "execution_count": 8,
   "metadata": {},
   "outputs": [],
   "source": [
    "# Max rows and colummns to be shown in print console\n",
    "\n",
    "pd.options.display.max_columns= 200\n",
    "pd.options.display.max_rows= 200"
   ]
  },
  {
   "cell_type": "code",
   "execution_count": 9,
   "metadata": {},
   "outputs": [
    {
     "data": {
      "text/html": [
       "<div>\n",
       "<style scoped>\n",
       "    .dataframe tbody tr th:only-of-type {\n",
       "        vertical-align: middle;\n",
       "    }\n",
       "\n",
       "    .dataframe tbody tr th {\n",
       "        vertical-align: top;\n",
       "    }\n",
       "\n",
       "    .dataframe thead th {\n",
       "        text-align: right;\n",
       "    }\n",
       "</style>\n",
       "<table border=\"1\" class=\"dataframe\">\n",
       "  <thead>\n",
       "    <tr style=\"text-align: right;\">\n",
       "      <th></th>\n",
       "      <th>Destination_Port</th>\n",
       "      <th>Flow_Duration</th>\n",
       "      <th>Total_Fwd_Packets</th>\n",
       "      <th>Total_Backward_Packets</th>\n",
       "      <th>Total_Length_of_Fwd_Packets</th>\n",
       "      <th>Total_Length_of_Bwd_Packets</th>\n",
       "      <th>Fwd_Packet_Length_Max</th>\n",
       "      <th>Fwd_Packet_Length_Min</th>\n",
       "      <th>Fwd_Packet_Length_Mean</th>\n",
       "      <th>Fwd_Packet_Length_Std</th>\n",
       "      <th>Bwd_Packet_Length_Max</th>\n",
       "      <th>Bwd_Packet_Length_Min</th>\n",
       "      <th>Bwd_Packet_Length_Mean</th>\n",
       "      <th>Bwd_Packet_Length_Std</th>\n",
       "      <th>Flow_Bytes_s</th>\n",
       "      <th>Flow_Packets_s</th>\n",
       "      <th>Flow_IAT_Mean</th>\n",
       "      <th>Flow_IAT_Std</th>\n",
       "      <th>Flow_IAT_Max</th>\n",
       "      <th>Flow_IAT_Min</th>\n",
       "      <th>Fwd_IAT_Total</th>\n",
       "      <th>Fwd_IAT_Mean</th>\n",
       "      <th>Fwd_IAT_Std</th>\n",
       "      <th>Fwd_IAT_Max</th>\n",
       "      <th>Fwd_IAT_Min</th>\n",
       "      <th>Bwd_IAT_Total</th>\n",
       "      <th>Bwd_IAT_Mean</th>\n",
       "      <th>Bwd_IAT_Std</th>\n",
       "      <th>Bwd_IAT_Max</th>\n",
       "      <th>Bwd_IAT_Min</th>\n",
       "      <th>Fwd_PSH_Flags</th>\n",
       "      <th>Bwd_PSH_Flags</th>\n",
       "      <th>Fwd_URG_Flags</th>\n",
       "      <th>Bwd_URG_Flags</th>\n",
       "      <th>Fwd_Header_Length</th>\n",
       "      <th>Bwd_Header_Length</th>\n",
       "      <th>Fwd_Packets_s</th>\n",
       "      <th>Bwd_Packets_s</th>\n",
       "      <th>Min_Packet_Length</th>\n",
       "      <th>Max_Packet_Length</th>\n",
       "      <th>Packet_Length_Mean</th>\n",
       "      <th>Packet_Length_Std</th>\n",
       "      <th>Packet_Length_Variance</th>\n",
       "      <th>FIN_Flag_Count</th>\n",
       "      <th>SYN_Flag_Count</th>\n",
       "      <th>RST_Flag_Count</th>\n",
       "      <th>PSH_Flag_Count</th>\n",
       "      <th>ACK_Flag_Count</th>\n",
       "      <th>URG_Flag_Count</th>\n",
       "      <th>CWE_Flag_Count</th>\n",
       "      <th>ECE_Flag_Count</th>\n",
       "      <th>Down_Up_Ratio</th>\n",
       "      <th>Average_Packet_Size</th>\n",
       "      <th>Avg_Fwd_Segment_Size</th>\n",
       "      <th>Avg_Bwd_Segment_Size</th>\n",
       "      <th>Fwd_Header_Length</th>\n",
       "      <th>Fwd_Avg_Bytes_Bulk</th>\n",
       "      <th>Fwd_Avg_Packets_Bulk</th>\n",
       "      <th>Fwd_Avg_Bulk_Rate</th>\n",
       "      <th>Bwd_Avg_Bytes_Bulk</th>\n",
       "      <th>Bwd_Avg_Packets_Bulk</th>\n",
       "      <th>Bwd_Avg_Bulk_Rate</th>\n",
       "      <th>Subflow_Fwd_Packets</th>\n",
       "      <th>Subflow_Fwd_Bytes</th>\n",
       "      <th>Subflow_Bwd_Packets</th>\n",
       "      <th>Subflow_Bwd_Bytes</th>\n",
       "      <th>Init_Win_bytes_forward</th>\n",
       "      <th>Init_Win_bytes_backward</th>\n",
       "      <th>act_data_pkt_fwd</th>\n",
       "      <th>min_seg_size_forward</th>\n",
       "      <th>Active_Mean</th>\n",
       "      <th>Active_Std</th>\n",
       "      <th>Active_Max</th>\n",
       "      <th>Active_Min</th>\n",
       "      <th>Idle_Mean</th>\n",
       "      <th>Idle_Std</th>\n",
       "      <th>Idle_Max</th>\n",
       "      <th>Idle_Min</th>\n",
       "      <th>Label</th>\n",
       "    </tr>\n",
       "  </thead>\n",
       "  <tbody>\n",
       "    <tr>\n",
       "      <th>0</th>\n",
       "      <td>0</td>\n",
       "      <td>54865</td>\n",
       "      <td>3</td>\n",
       "      <td>2</td>\n",
       "      <td>0</td>\n",
       "      <td>12</td>\n",
       "      <td>0</td>\n",
       "      <td>6</td>\n",
       "      <td>6</td>\n",
       "      <td>6.0</td>\n",
       "      <td>0.0</td>\n",
       "      <td>0</td>\n",
       "      <td>0</td>\n",
       "      <td>0.0</td>\n",
       "      <td>0.0</td>\n",
       "      <td>4.000000e+06</td>\n",
       "      <td>666666.66670</td>\n",
       "      <td>3.0</td>\n",
       "      <td>0.0</td>\n",
       "      <td>3</td>\n",
       "      <td>3</td>\n",
       "      <td>3</td>\n",
       "      <td>3.0</td>\n",
       "      <td>0.0</td>\n",
       "      <td>3</td>\n",
       "      <td>3</td>\n",
       "      <td>0</td>\n",
       "      <td>0.0</td>\n",
       "      <td>0.0</td>\n",
       "      <td>0</td>\n",
       "      <td>0</td>\n",
       "      <td>0</td>\n",
       "      <td>0</td>\n",
       "      <td>0</td>\n",
       "      <td>0</td>\n",
       "      <td>40</td>\n",
       "      <td>0</td>\n",
       "      <td>666666.666700</td>\n",
       "      <td>0.000000</td>\n",
       "      <td>6</td>\n",
       "      <td>6</td>\n",
       "      <td>6.0</td>\n",
       "      <td>0.0</td>\n",
       "      <td>0.0</td>\n",
       "      <td>0</td>\n",
       "      <td>0</td>\n",
       "      <td>0</td>\n",
       "      <td>0</td>\n",
       "      <td>1</td>\n",
       "      <td>0</td>\n",
       "      <td>0</td>\n",
       "      <td>0</td>\n",
       "      <td>0</td>\n",
       "      <td>9.0</td>\n",
       "      <td>6.0</td>\n",
       "      <td>0.0</td>\n",
       "      <td>0</td>\n",
       "      <td>0</td>\n",
       "      <td>0</td>\n",
       "      <td>0</td>\n",
       "      <td>0</td>\n",
       "      <td>0</td>\n",
       "      <td>2</td>\n",
       "      <td>12</td>\n",
       "      <td>0</td>\n",
       "      <td>0</td>\n",
       "      <td>33</td>\n",
       "      <td>-1</td>\n",
       "      <td>1</td>\n",
       "      <td>20</td>\n",
       "      <td>0.0</td>\n",
       "      <td>0.0</td>\n",
       "      <td>0</td>\n",
       "      <td>0</td>\n",
       "      <td>0.0</td>\n",
       "      <td>0.0</td>\n",
       "      <td>0</td>\n",
       "      <td>0</td>\n",
       "      <td>BENIGN</td>\n",
       "    </tr>\n",
       "    <tr>\n",
       "      <th>1</th>\n",
       "      <td>1</td>\n",
       "      <td>55054</td>\n",
       "      <td>109</td>\n",
       "      <td>1</td>\n",
       "      <td>1</td>\n",
       "      <td>6</td>\n",
       "      <td>6</td>\n",
       "      <td>6</td>\n",
       "      <td>6</td>\n",
       "      <td>6.0</td>\n",
       "      <td>0.0</td>\n",
       "      <td>6</td>\n",
       "      <td>6</td>\n",
       "      <td>6.0</td>\n",
       "      <td>0.0</td>\n",
       "      <td>1.100917e+05</td>\n",
       "      <td>18348.62385</td>\n",
       "      <td>109.0</td>\n",
       "      <td>0.0</td>\n",
       "      <td>109</td>\n",
       "      <td>109</td>\n",
       "      <td>0</td>\n",
       "      <td>0.0</td>\n",
       "      <td>0.0</td>\n",
       "      <td>0</td>\n",
       "      <td>0</td>\n",
       "      <td>0</td>\n",
       "      <td>0.0</td>\n",
       "      <td>0.0</td>\n",
       "      <td>0</td>\n",
       "      <td>0</td>\n",
       "      <td>0</td>\n",
       "      <td>0</td>\n",
       "      <td>0</td>\n",
       "      <td>0</td>\n",
       "      <td>20</td>\n",
       "      <td>20</td>\n",
       "      <td>9174.311927</td>\n",
       "      <td>9174.311927</td>\n",
       "      <td>6</td>\n",
       "      <td>6</td>\n",
       "      <td>6.0</td>\n",
       "      <td>0.0</td>\n",
       "      <td>0.0</td>\n",
       "      <td>0</td>\n",
       "      <td>0</td>\n",
       "      <td>0</td>\n",
       "      <td>0</td>\n",
       "      <td>1</td>\n",
       "      <td>1</td>\n",
       "      <td>0</td>\n",
       "      <td>0</td>\n",
       "      <td>1</td>\n",
       "      <td>9.0</td>\n",
       "      <td>6.0</td>\n",
       "      <td>6.0</td>\n",
       "      <td>0</td>\n",
       "      <td>0</td>\n",
       "      <td>0</td>\n",
       "      <td>0</td>\n",
       "      <td>0</td>\n",
       "      <td>0</td>\n",
       "      <td>1</td>\n",
       "      <td>6</td>\n",
       "      <td>1</td>\n",
       "      <td>6</td>\n",
       "      <td>29</td>\n",
       "      <td>256</td>\n",
       "      <td>0</td>\n",
       "      <td>20</td>\n",
       "      <td>0.0</td>\n",
       "      <td>0.0</td>\n",
       "      <td>0</td>\n",
       "      <td>0</td>\n",
       "      <td>0.0</td>\n",
       "      <td>0.0</td>\n",
       "      <td>0</td>\n",
       "      <td>0</td>\n",
       "      <td>BENIGN</td>\n",
       "    </tr>\n",
       "    <tr>\n",
       "      <th>2</th>\n",
       "      <td>2</td>\n",
       "      <td>55055</td>\n",
       "      <td>52</td>\n",
       "      <td>1</td>\n",
       "      <td>1</td>\n",
       "      <td>6</td>\n",
       "      <td>6</td>\n",
       "      <td>6</td>\n",
       "      <td>6</td>\n",
       "      <td>6.0</td>\n",
       "      <td>0.0</td>\n",
       "      <td>6</td>\n",
       "      <td>6</td>\n",
       "      <td>6.0</td>\n",
       "      <td>0.0</td>\n",
       "      <td>2.307692e+05</td>\n",
       "      <td>38461.53846</td>\n",
       "      <td>52.0</td>\n",
       "      <td>0.0</td>\n",
       "      <td>52</td>\n",
       "      <td>52</td>\n",
       "      <td>0</td>\n",
       "      <td>0.0</td>\n",
       "      <td>0.0</td>\n",
       "      <td>0</td>\n",
       "      <td>0</td>\n",
       "      <td>0</td>\n",
       "      <td>0.0</td>\n",
       "      <td>0.0</td>\n",
       "      <td>0</td>\n",
       "      <td>0</td>\n",
       "      <td>0</td>\n",
       "      <td>0</td>\n",
       "      <td>0</td>\n",
       "      <td>0</td>\n",
       "      <td>20</td>\n",
       "      <td>20</td>\n",
       "      <td>19230.769230</td>\n",
       "      <td>19230.769230</td>\n",
       "      <td>6</td>\n",
       "      <td>6</td>\n",
       "      <td>6.0</td>\n",
       "      <td>0.0</td>\n",
       "      <td>0.0</td>\n",
       "      <td>0</td>\n",
       "      <td>0</td>\n",
       "      <td>0</td>\n",
       "      <td>0</td>\n",
       "      <td>1</td>\n",
       "      <td>1</td>\n",
       "      <td>0</td>\n",
       "      <td>0</td>\n",
       "      <td>1</td>\n",
       "      <td>9.0</td>\n",
       "      <td>6.0</td>\n",
       "      <td>6.0</td>\n",
       "      <td>0</td>\n",
       "      <td>0</td>\n",
       "      <td>0</td>\n",
       "      <td>0</td>\n",
       "      <td>0</td>\n",
       "      <td>0</td>\n",
       "      <td>1</td>\n",
       "      <td>6</td>\n",
       "      <td>1</td>\n",
       "      <td>6</td>\n",
       "      <td>29</td>\n",
       "      <td>256</td>\n",
       "      <td>0</td>\n",
       "      <td>20</td>\n",
       "      <td>0.0</td>\n",
       "      <td>0.0</td>\n",
       "      <td>0</td>\n",
       "      <td>0</td>\n",
       "      <td>0.0</td>\n",
       "      <td>0.0</td>\n",
       "      <td>0</td>\n",
       "      <td>0</td>\n",
       "      <td>BENIGN</td>\n",
       "    </tr>\n",
       "    <tr>\n",
       "      <th>3</th>\n",
       "      <td>3</td>\n",
       "      <td>46236</td>\n",
       "      <td>34</td>\n",
       "      <td>1</td>\n",
       "      <td>1</td>\n",
       "      <td>6</td>\n",
       "      <td>6</td>\n",
       "      <td>6</td>\n",
       "      <td>6</td>\n",
       "      <td>6.0</td>\n",
       "      <td>0.0</td>\n",
       "      <td>6</td>\n",
       "      <td>6</td>\n",
       "      <td>6.0</td>\n",
       "      <td>0.0</td>\n",
       "      <td>3.529412e+05</td>\n",
       "      <td>58823.52941</td>\n",
       "      <td>34.0</td>\n",
       "      <td>0.0</td>\n",
       "      <td>34</td>\n",
       "      <td>34</td>\n",
       "      <td>0</td>\n",
       "      <td>0.0</td>\n",
       "      <td>0.0</td>\n",
       "      <td>0</td>\n",
       "      <td>0</td>\n",
       "      <td>0</td>\n",
       "      <td>0.0</td>\n",
       "      <td>0.0</td>\n",
       "      <td>0</td>\n",
       "      <td>0</td>\n",
       "      <td>0</td>\n",
       "      <td>0</td>\n",
       "      <td>0</td>\n",
       "      <td>0</td>\n",
       "      <td>20</td>\n",
       "      <td>20</td>\n",
       "      <td>29411.764710</td>\n",
       "      <td>29411.764710</td>\n",
       "      <td>6</td>\n",
       "      <td>6</td>\n",
       "      <td>6.0</td>\n",
       "      <td>0.0</td>\n",
       "      <td>0.0</td>\n",
       "      <td>0</td>\n",
       "      <td>0</td>\n",
       "      <td>0</td>\n",
       "      <td>0</td>\n",
       "      <td>1</td>\n",
       "      <td>1</td>\n",
       "      <td>0</td>\n",
       "      <td>0</td>\n",
       "      <td>1</td>\n",
       "      <td>9.0</td>\n",
       "      <td>6.0</td>\n",
       "      <td>6.0</td>\n",
       "      <td>0</td>\n",
       "      <td>0</td>\n",
       "      <td>0</td>\n",
       "      <td>0</td>\n",
       "      <td>0</td>\n",
       "      <td>0</td>\n",
       "      <td>1</td>\n",
       "      <td>6</td>\n",
       "      <td>1</td>\n",
       "      <td>6</td>\n",
       "      <td>31</td>\n",
       "      <td>329</td>\n",
       "      <td>0</td>\n",
       "      <td>20</td>\n",
       "      <td>0.0</td>\n",
       "      <td>0.0</td>\n",
       "      <td>0</td>\n",
       "      <td>0</td>\n",
       "      <td>0.0</td>\n",
       "      <td>0.0</td>\n",
       "      <td>0</td>\n",
       "      <td>0</td>\n",
       "      <td>BENIGN</td>\n",
       "    </tr>\n",
       "    <tr>\n",
       "      <th>4</th>\n",
       "      <td>4</td>\n",
       "      <td>54863</td>\n",
       "      <td>3</td>\n",
       "      <td>2</td>\n",
       "      <td>0</td>\n",
       "      <td>12</td>\n",
       "      <td>0</td>\n",
       "      <td>6</td>\n",
       "      <td>6</td>\n",
       "      <td>6.0</td>\n",
       "      <td>0.0</td>\n",
       "      <td>0</td>\n",
       "      <td>0</td>\n",
       "      <td>0.0</td>\n",
       "      <td>0.0</td>\n",
       "      <td>4.000000e+06</td>\n",
       "      <td>666666.66670</td>\n",
       "      <td>3.0</td>\n",
       "      <td>0.0</td>\n",
       "      <td>3</td>\n",
       "      <td>3</td>\n",
       "      <td>3</td>\n",
       "      <td>3.0</td>\n",
       "      <td>0.0</td>\n",
       "      <td>3</td>\n",
       "      <td>3</td>\n",
       "      <td>0</td>\n",
       "      <td>0.0</td>\n",
       "      <td>0.0</td>\n",
       "      <td>0</td>\n",
       "      <td>0</td>\n",
       "      <td>0</td>\n",
       "      <td>0</td>\n",
       "      <td>0</td>\n",
       "      <td>0</td>\n",
       "      <td>40</td>\n",
       "      <td>0</td>\n",
       "      <td>666666.666700</td>\n",
       "      <td>0.000000</td>\n",
       "      <td>6</td>\n",
       "      <td>6</td>\n",
       "      <td>6.0</td>\n",
       "      <td>0.0</td>\n",
       "      <td>0.0</td>\n",
       "      <td>0</td>\n",
       "      <td>0</td>\n",
       "      <td>0</td>\n",
       "      <td>0</td>\n",
       "      <td>1</td>\n",
       "      <td>0</td>\n",
       "      <td>0</td>\n",
       "      <td>0</td>\n",
       "      <td>0</td>\n",
       "      <td>9.0</td>\n",
       "      <td>6.0</td>\n",
       "      <td>0.0</td>\n",
       "      <td>0</td>\n",
       "      <td>0</td>\n",
       "      <td>0</td>\n",
       "      <td>0</td>\n",
       "      <td>0</td>\n",
       "      <td>0</td>\n",
       "      <td>2</td>\n",
       "      <td>12</td>\n",
       "      <td>0</td>\n",
       "      <td>0</td>\n",
       "      <td>32</td>\n",
       "      <td>-1</td>\n",
       "      <td>1</td>\n",
       "      <td>20</td>\n",
       "      <td>0.0</td>\n",
       "      <td>0.0</td>\n",
       "      <td>0</td>\n",
       "      <td>0</td>\n",
       "      <td>0.0</td>\n",
       "      <td>0.0</td>\n",
       "      <td>0</td>\n",
       "      <td>0</td>\n",
       "      <td>BENIGN</td>\n",
       "    </tr>\n",
       "  </tbody>\n",
       "</table>\n",
       "</div>"
      ],
      "text/plain": [
       "   Destination_Port  Flow_Duration  Total_Fwd_Packets  Total_Backward_Packets  \\\n",
       "0                 0          54865                  3                       2   \n",
       "1                 1          55054                109                       1   \n",
       "2                 2          55055                 52                       1   \n",
       "3                 3          46236                 34                       1   \n",
       "4                 4          54863                  3                       2   \n",
       "\n",
       "   Total_Length_of_Fwd_Packets  Total_Length_of_Bwd_Packets  \\\n",
       "0                            0                           12   \n",
       "1                            1                            6   \n",
       "2                            1                            6   \n",
       "3                            1                            6   \n",
       "4                            0                           12   \n",
       "\n",
       "   Fwd_Packet_Length_Max  Fwd_Packet_Length_Min  Fwd_Packet_Length_Mean  \\\n",
       "0                      0                      6                       6   \n",
       "1                      6                      6                       6   \n",
       "2                      6                      6                       6   \n",
       "3                      6                      6                       6   \n",
       "4                      0                      6                       6   \n",
       "\n",
       "   Fwd_Packet_Length_Std  Bwd_Packet_Length_Max  Bwd_Packet_Length_Min  \\\n",
       "0                    6.0                    0.0                      0   \n",
       "1                    6.0                    0.0                      6   \n",
       "2                    6.0                    0.0                      6   \n",
       "3                    6.0                    0.0                      6   \n",
       "4                    6.0                    0.0                      0   \n",
       "\n",
       "   Bwd_Packet_Length_Mean  Bwd_Packet_Length_Std  Flow_Bytes_s  \\\n",
       "0                       0                    0.0           0.0   \n",
       "1                       6                    6.0           0.0   \n",
       "2                       6                    6.0           0.0   \n",
       "3                       6                    6.0           0.0   \n",
       "4                       0                    0.0           0.0   \n",
       "\n",
       "   Flow_Packets_s  Flow_IAT_Mean  Flow_IAT_Std  Flow_IAT_Max  Flow_IAT_Min  \\\n",
       "0    4.000000e+06   666666.66670           3.0           0.0             3   \n",
       "1    1.100917e+05    18348.62385         109.0           0.0           109   \n",
       "2    2.307692e+05    38461.53846          52.0           0.0            52   \n",
       "3    3.529412e+05    58823.52941          34.0           0.0            34   \n",
       "4    4.000000e+06   666666.66670           3.0           0.0             3   \n",
       "\n",
       "   Fwd_IAT_Total  Fwd_IAT_Mean  Fwd_IAT_Std  Fwd_IAT_Max  Fwd_IAT_Min  \\\n",
       "0              3             3          3.0          0.0            3   \n",
       "1            109             0          0.0          0.0            0   \n",
       "2             52             0          0.0          0.0            0   \n",
       "3             34             0          0.0          0.0            0   \n",
       "4              3             3          3.0          0.0            3   \n",
       "\n",
       "   Bwd_IAT_Total  Bwd_IAT_Mean  Bwd_IAT_Std  Bwd_IAT_Max  Bwd_IAT_Min  \\\n",
       "0              3             0          0.0          0.0            0   \n",
       "1              0             0          0.0          0.0            0   \n",
       "2              0             0          0.0          0.0            0   \n",
       "3              0             0          0.0          0.0            0   \n",
       "4              3             0          0.0          0.0            0   \n",
       "\n",
       "   Fwd_PSH_Flags  Bwd_PSH_Flags  Fwd_URG_Flags  Bwd_URG_Flags  \\\n",
       "0              0              0              0              0   \n",
       "1              0              0              0              0   \n",
       "2              0              0              0              0   \n",
       "3              0              0              0              0   \n",
       "4              0              0              0              0   \n",
       "\n",
       "   Fwd_Header_Length  Bwd_Header_Length  Fwd_Packets_s  Bwd_Packets_s  \\\n",
       "0                  0                 40              0  666666.666700   \n",
       "1                  0                 20             20    9174.311927   \n",
       "2                  0                 20             20   19230.769230   \n",
       "3                  0                 20             20   29411.764710   \n",
       "4                  0                 40              0  666666.666700   \n",
       "\n",
       "   Min_Packet_Length  Max_Packet_Length  Packet_Length_Mean  \\\n",
       "0           0.000000                  6                   6   \n",
       "1        9174.311927                  6                   6   \n",
       "2       19230.769230                  6                   6   \n",
       "3       29411.764710                  6                   6   \n",
       "4           0.000000                  6                   6   \n",
       "\n",
       "   Packet_Length_Std  Packet_Length_Variance  FIN_Flag_Count  SYN_Flag_Count  \\\n",
       "0                6.0                     0.0             0.0               0   \n",
       "1                6.0                     0.0             0.0               0   \n",
       "2                6.0                     0.0             0.0               0   \n",
       "3                6.0                     0.0             0.0               0   \n",
       "4                6.0                     0.0             0.0               0   \n",
       "\n",
       "   RST_Flag_Count  PSH_Flag_Count  ACK_Flag_Count  URG_Flag_Count  \\\n",
       "0               0               0               0               1   \n",
       "1               0               0               0               1   \n",
       "2               0               0               0               1   \n",
       "3               0               0               0               1   \n",
       "4               0               0               0               1   \n",
       "\n",
       "   CWE_Flag_Count  ECE_Flag_Count  Down_Up_Ratio  Average_Packet_Size  \\\n",
       "0               0               0              0                    0   \n",
       "1               1               0              0                    1   \n",
       "2               1               0              0                    1   \n",
       "3               1               0              0                    1   \n",
       "4               0               0              0                    0   \n",
       "\n",
       "   Avg_Fwd_Segment_Size  Avg_Bwd_Segment_Size  Fwd_Header_Length  \\\n",
       "0                   9.0                   6.0                0.0   \n",
       "1                   9.0                   6.0                6.0   \n",
       "2                   9.0                   6.0                6.0   \n",
       "3                   9.0                   6.0                6.0   \n",
       "4                   9.0                   6.0                0.0   \n",
       "\n",
       "   Fwd_Avg_Bytes_Bulk  Fwd_Avg_Packets_Bulk  Fwd_Avg_Bulk_Rate  \\\n",
       "0                   0                     0                  0   \n",
       "1                   0                     0                  0   \n",
       "2                   0                     0                  0   \n",
       "3                   0                     0                  0   \n",
       "4                   0                     0                  0   \n",
       "\n",
       "   Bwd_Avg_Bytes_Bulk  Bwd_Avg_Packets_Bulk  Bwd_Avg_Bulk_Rate  \\\n",
       "0                   0                     0                  0   \n",
       "1                   0                     0                  0   \n",
       "2                   0                     0                  0   \n",
       "3                   0                     0                  0   \n",
       "4                   0                     0                  0   \n",
       "\n",
       "   Subflow_Fwd_Packets  Subflow_Fwd_Bytes  Subflow_Bwd_Packets  \\\n",
       "0                    2                 12                    0   \n",
       "1                    1                  6                    1   \n",
       "2                    1                  6                    1   \n",
       "3                    1                  6                    1   \n",
       "4                    2                 12                    0   \n",
       "\n",
       "   Subflow_Bwd_Bytes  Init_Win_bytes_forward  Init_Win_bytes_backward  \\\n",
       "0                  0                      33                       -1   \n",
       "1                  6                      29                      256   \n",
       "2                  6                      29                      256   \n",
       "3                  6                      31                      329   \n",
       "4                  0                      32                       -1   \n",
       "\n",
       "   act_data_pkt_fwd  min_seg_size_forward  Active_Mean  Active_Std  \\\n",
       "0                 1                    20          0.0         0.0   \n",
       "1                 0                    20          0.0         0.0   \n",
       "2                 0                    20          0.0         0.0   \n",
       "3                 0                    20          0.0         0.0   \n",
       "4                 1                    20          0.0         0.0   \n",
       "\n",
       "   Active_Max  Active_Min  Idle_Mean  Idle_Std  Idle_Max  Idle_Min   Label  \n",
       "0           0           0        0.0       0.0         0         0  BENIGN  \n",
       "1           0           0        0.0       0.0         0         0  BENIGN  \n",
       "2           0           0        0.0       0.0         0         0  BENIGN  \n",
       "3           0           0        0.0       0.0         0         0  BENIGN  \n",
       "4           0           0        0.0       0.0         0         0  BENIGN  "
      ]
     },
     "execution_count": 9,
     "metadata": {},
     "output_type": "execute_result"
    }
   ],
   "source": [
    "# Assigning the column names.\n",
    "dataset.columns = col_names\n",
    "\n",
    "# first 5 records in the dataset.\n",
    "dataset.head(5)"
   ]
  },
  {
   "cell_type": "code",
   "execution_count": 10,
   "metadata": {},
   "outputs": [
    {
     "data": {
      "text/plain": [
       "Destination_Port                 int64\n",
       "Flow_Duration                    int64\n",
       "Total_Fwd_Packets                int64\n",
       "Total_Backward_Packets           int64\n",
       "Total_Length_of_Fwd_Packets      int64\n",
       "Total_Length_of_Bwd_Packets      int64\n",
       "Fwd_Packet_Length_Max            int64\n",
       "Fwd_Packet_Length_Min            int64\n",
       "Fwd_Packet_Length_Mean           int64\n",
       "Fwd_Packet_Length_Std          float64\n",
       "Bwd_Packet_Length_Max          float64\n",
       "Bwd_Packet_Length_Min            int64\n",
       "Bwd_Packet_Length_Mean           int64\n",
       "Bwd_Packet_Length_Std          float64\n",
       "Flow_Bytes_s                   float64\n",
       "Flow_Packets_s                 float64\n",
       "Flow_IAT_Mean                  float64\n",
       "Flow_IAT_Std                   float64\n",
       "Flow_IAT_Max                   float64\n",
       "Flow_IAT_Min                     int64\n",
       "Fwd_IAT_Total                    int64\n",
       "Fwd_IAT_Mean                     int64\n",
       "Fwd_IAT_Std                    float64\n",
       "Fwd_IAT_Max                    float64\n",
       "Fwd_IAT_Min                      int64\n",
       "Bwd_IAT_Total                    int64\n",
       "Bwd_IAT_Mean                     int64\n",
       "Bwd_IAT_Std                    float64\n",
       "Bwd_IAT_Max                    float64\n",
       "Bwd_IAT_Min                      int64\n",
       "Fwd_PSH_Flags                    int64\n",
       "Bwd_PSH_Flags                    int64\n",
       "Fwd_URG_Flags                    int64\n",
       "Bwd_URG_Flags                    int64\n",
       "Fwd_Header_Length                int64\n",
       "Bwd_Header_Length                int64\n",
       "Fwd_Packets_s                    int64\n",
       "Bwd_Packets_s                  float64\n",
       "Min_Packet_Length              float64\n",
       "Max_Packet_Length                int64\n",
       "Packet_Length_Mean               int64\n",
       "Packet_Length_Std              float64\n",
       "Packet_Length_Variance         float64\n",
       "FIN_Flag_Count                 float64\n",
       "SYN_Flag_Count                   int64\n",
       "RST_Flag_Count                   int64\n",
       "PSH_Flag_Count                   int64\n",
       "ACK_Flag_Count                   int64\n",
       "URG_Flag_Count                   int64\n",
       "CWE_Flag_Count                   int64\n",
       "ECE_Flag_Count                   int64\n",
       "Down_Up_Ratio                    int64\n",
       "Average_Packet_Size              int64\n",
       "Avg_Fwd_Segment_Size           float64\n",
       "Avg_Bwd_Segment_Size           float64\n",
       "Fwd_Header_Length              float64\n",
       "Fwd_Avg_Bytes_Bulk               int64\n",
       "Fwd_Avg_Packets_Bulk             int64\n",
       "Fwd_Avg_Bulk_Rate                int64\n",
       "Bwd_Avg_Bytes_Bulk               int64\n",
       "Bwd_Avg_Packets_Bulk             int64\n",
       "Bwd_Avg_Bulk_Rate                int64\n",
       "Subflow_Fwd_Packets              int64\n",
       "Subflow_Fwd_Bytes                int64\n",
       "Subflow_Bwd_Packets              int64\n",
       "Subflow_Bwd_Bytes                int64\n",
       "Init_Win_bytes_forward           int64\n",
       "Init_Win_bytes_backward          int64\n",
       "act_data_pkt_fwd                 int64\n",
       "min_seg_size_forward             int64\n",
       "Active_Mean                    float64\n",
       "Active_Std                     float64\n",
       "Active_Max                       int64\n",
       "Active_Min                       int64\n",
       "Idle_Mean                      float64\n",
       "Idle_Std                       float64\n",
       "Idle_Max                         int64\n",
       "Idle_Min                         int64\n",
       "Label                           object\n",
       "dtype: object"
      ]
     },
     "execution_count": 10,
     "metadata": {},
     "output_type": "execute_result"
    }
   ],
   "source": [
    "# check whether there is any categorical column are not if it is there it is to be encoded.\n",
    "dataset.dtypes"
   ]
  },
  {
   "cell_type": "markdown",
   "metadata": {},
   "source": [
    "# Remove repeated columns, (NaN,Null,Infinite) values."
   ]
  },
  {
   "cell_type": "code",
   "execution_count": 11,
   "metadata": {},
   "outputs": [
    {
     "data": {
      "text/plain": [
       "(2827876, 78)"
      ]
     },
     "execution_count": 11,
     "metadata": {},
     "output_type": "execute_result"
    }
   ],
   "source": [
    "# Removing the duplicate columns (Header_length is repeated)\n",
    "dataset = dataset.loc[:, ~dataset.columns.duplicated()]\n",
    "dataset.shape"
   ]
  },
  {
   "cell_type": "code",
   "execution_count": 12,
   "metadata": {},
   "outputs": [
    {
     "data": {
      "text/plain": [
       "False"
      ]
     },
     "execution_count": 12,
     "metadata": {},
     "output_type": "execute_result"
    }
   ],
   "source": [
    "# check if there are any Null values\n",
    "dataset.isnull().any().any()"
   ]
  },
  {
   "cell_type": "code",
   "execution_count": 13,
   "metadata": {},
   "outputs": [
    {
     "data": {
      "text/plain": [
       "Destination_Port               False\n",
       "Flow_Duration                  False\n",
       "Total_Fwd_Packets              False\n",
       "Total_Backward_Packets         False\n",
       "Total_Length_of_Fwd_Packets    False\n",
       "Total_Length_of_Bwd_Packets    False\n",
       "Fwd_Packet_Length_Max          False\n",
       "Fwd_Packet_Length_Min          False\n",
       "Fwd_Packet_Length_Mean         False\n",
       "Fwd_Packet_Length_Std          False\n",
       "Bwd_Packet_Length_Max          False\n",
       "Bwd_Packet_Length_Min          False\n",
       "Bwd_Packet_Length_Mean         False\n",
       "Bwd_Packet_Length_Std          False\n",
       "Flow_Bytes_s                   False\n",
       "Flow_Packets_s                 False\n",
       "Flow_IAT_Mean                  False\n",
       "Flow_IAT_Std                   False\n",
       "Flow_IAT_Max                   False\n",
       "Flow_IAT_Min                   False\n",
       "Fwd_IAT_Total                  False\n",
       "Fwd_IAT_Mean                   False\n",
       "Fwd_IAT_Std                    False\n",
       "Fwd_IAT_Max                    False\n",
       "Fwd_IAT_Min                    False\n",
       "Bwd_IAT_Total                  False\n",
       "Bwd_IAT_Mean                   False\n",
       "Bwd_IAT_Std                    False\n",
       "Bwd_IAT_Max                    False\n",
       "Bwd_IAT_Min                    False\n",
       "Fwd_PSH_Flags                  False\n",
       "Bwd_PSH_Flags                  False\n",
       "Fwd_URG_Flags                  False\n",
       "Bwd_URG_Flags                  False\n",
       "Fwd_Header_Length              False\n",
       "Bwd_Header_Length              False\n",
       "Fwd_Packets_s                  False\n",
       "Bwd_Packets_s                  False\n",
       "Min_Packet_Length              False\n",
       "Max_Packet_Length              False\n",
       "Packet_Length_Mean             False\n",
       "Packet_Length_Std              False\n",
       "Packet_Length_Variance         False\n",
       "FIN_Flag_Count                 False\n",
       "SYN_Flag_Count                 False\n",
       "RST_Flag_Count                 False\n",
       "PSH_Flag_Count                 False\n",
       "ACK_Flag_Count                 False\n",
       "URG_Flag_Count                 False\n",
       "CWE_Flag_Count                 False\n",
       "ECE_Flag_Count                 False\n",
       "Down_Up_Ratio                  False\n",
       "Average_Packet_Size            False\n",
       "Avg_Fwd_Segment_Size           False\n",
       "Avg_Bwd_Segment_Size           False\n",
       "Fwd_Avg_Bytes_Bulk             False\n",
       "Fwd_Avg_Packets_Bulk           False\n",
       "Fwd_Avg_Bulk_Rate              False\n",
       "Bwd_Avg_Bytes_Bulk             False\n",
       "Bwd_Avg_Packets_Bulk           False\n",
       "Bwd_Avg_Bulk_Rate              False\n",
       "Subflow_Fwd_Packets            False\n",
       "Subflow_Fwd_Bytes              False\n",
       "Subflow_Bwd_Packets            False\n",
       "Subflow_Bwd_Bytes              False\n",
       "Init_Win_bytes_forward         False\n",
       "Init_Win_bytes_backward        False\n",
       "act_data_pkt_fwd               False\n",
       "min_seg_size_forward           False\n",
       "Active_Mean                    False\n",
       "Active_Std                     False\n",
       "Active_Max                     False\n",
       "Active_Min                     False\n",
       "Idle_Mean                      False\n",
       "Idle_Std                       False\n",
       "Idle_Max                       False\n",
       "Idle_Min                       False\n",
       "Label                          False\n",
       "dtype: bool"
      ]
     },
     "execution_count": 13,
     "metadata": {},
     "output_type": "execute_result"
    }
   ],
   "source": [
    "# Replace Inf values with NaN\n",
    "dataset = dataset.replace([np.inf, -np.inf], np.nan)\n",
    "\n",
    "# Drop all occurences of NaN\n",
    "dataset = dataset.dropna()\n",
    "\n",
    "# Double check these are all gone\n",
    "dataset.isnull().any()"
   ]
  },
  {
   "cell_type": "markdown",
   "metadata": {},
   "source": [
    "# Analysing the attacks in dataset"
   ]
  },
  {
   "cell_type": "code",
   "execution_count": 14,
   "metadata": {},
   "outputs": [
    {
     "data": {
      "text/plain": [
       "BENIGN                        2271320\n",
       "DoS Hulk                       230124\n",
       "PortScan                       158804\n",
       "DDoS                           128025\n",
       "DoS GoldenEye                   10293\n",
       "FTP-Patator                      7935\n",
       "SSH-Patator                      5897\n",
       "DoS slowloris                    5796\n",
       "DoS Slowhttptest                 5499\n",
       "Bot                              1956\n",
       "Web Attack � Brute Force         1507\n",
       "Web Attack � XSS                  652\n",
       "Infiltration                       36\n",
       "Web Attack � Sql Injection         21\n",
       "Heartbleed                         11\n",
       "Name: Label, dtype: int64"
      ]
     },
     "execution_count": 14,
     "metadata": {},
     "output_type": "execute_result"
    }
   ],
   "source": [
    "# Distribution of Dataset\n",
    "dataset['Label'].value_counts()"
   ]
  },
  {
   "cell_type": "code",
   "execution_count": 15,
   "metadata": {},
   "outputs": [
    {
     "data": {
      "image/png": "[encoded data removed]",
      "text/plain": [
       "<Figure size 1080x720 with 1 Axes>"
      ]
     },
     "metadata": {
      "needs_background": "light"
     },
     "output_type": "display_data"
    }
   ],
   "source": [
    "# Plotting the distribution of attacks in the dataset\n",
    "\n",
    "plt.figure(figsize=(15,10))\n",
    "\n",
    "attack = ('DoS Hulk', 'PortScan', 'DDoS', 'DoS GoldenEye', 'FTP-Patator', 'SSH-Patator', 'DoS Slowloris',\n",
    "          'DoS Slowhttptest', 'Bot', 'Web Attack: Brute Force', 'Web Attack: XSS', 'Infiltration', 'Web Attack: SQL Injection', 'Heartbleed')\n",
    "y_pos = np.arange(len(attack)) \n",
    "amount = dataset['Label'].value_counts()[1:]\n",
    "plt.barh(y_pos, amount, align='center', color='blue' )\n",
    "plt.yticks(y_pos, attack)\n",
    "plt.title('Distribution of different types of attacks in the dataset')\n",
    "plt.xlabel('Number of occurences')\n",
    "plt.ylabel('Attack types')\n",
    "for i, v in enumerate(amount):\n",
    "    plt.text(v + 3, i-0.1 , str(v))\n",
    "    \n",
    "plt.show()"
   ]
  },
  {
   "cell_type": "code",
   "execution_count": 16,
   "metadata": {},
   "outputs": [
    {
     "data": {
      "text/plain": [
       "BENIGN                      2271320\n",
       "DoS Hulk                     230124\n",
       "PortScan                     158804\n",
       "DDoS                         128025\n",
       "DoS GoldenEye                 10293\n",
       "FTP-Patator                    7935\n",
       "SSH-Patator                    5897\n",
       "DoS slowloris                  5796\n",
       "DoS Slowhttptest               5499\n",
       "Bot                            1956\n",
       "Web Attack � Brute Force       1507\n",
       "Web Attack � XSS                652\n",
       "Name: Label, dtype: int64"
      ]
     },
     "execution_count": 16,
     "metadata": {},
     "output_type": "execute_result"
    }
   ],
   "source": [
    "# There are only 11, 21, and 36 instances of Heartbleed, SQL injection and infiltration respectively. \n",
    "# Remove 'Heartbleed', 'Web attack Sql Injection', 'Infiltration' as it's negligible.\n",
    "\n",
    "dataset = dataset.replace(['Heartbleed', 'Web Attack � Sql Injection', 'Infiltration'], np.nan)\n",
    "dataset = dataset.dropna()\n",
    "dataset['Label'].value_counts()"
   ]
  },
  {
   "cell_type": "code",
   "execution_count": 17,
   "metadata": {},
   "outputs": [],
   "source": [
    "# Labelling Web Attack � Brute Force as Brute Force\n",
    "# labelling Web Attack � XSS as XSS\n",
    "\n",
    "dataset.loc[dataset.Label == 'Web Attack � Brute Force', ['Label']] = 'Brute Force'\n",
    "dataset.loc[dataset.Label == 'Web Attack � XSS', ['Label']] = 'XSS'"
   ]
  },
  {
   "cell_type": "code",
   "execution_count": 18,
   "metadata": {},
   "outputs": [],
   "source": [
    "# Creating a attack column, containing binary labels for normal and attack to apply binary classsifier\n",
    "\n",
    "dataset['Attack'] = np.where(dataset['Label'] == 'BENIGN','Normal' , 'Attack')"
   ]
  },
  {
   "cell_type": "code",
   "execution_count": 19,
   "metadata": {},
   "outputs": [
    {
     "data": {
      "text/plain": [
       "benign         2271320\n",
       "dos             251712\n",
       "probe           158804\n",
       "ddos            128025\n",
       "brute_force      13832\n",
       "web_attack        2159\n",
       "botnet            1956\n",
       "Name: Label_Category, dtype: int64"
      ]
     },
     "execution_count": 19,
     "metadata": {},
     "output_type": "execute_result"
    }
   ],
   "source": [
    "# Grouping attack labels in attack category as in dataset description for multi-class classifier\n",
    "\n",
    "attack_group = {'BENIGN': 'benign', \n",
    "                'DoS Hulk': 'dos',\n",
    "                'PortScan': 'probe', \n",
    "                'DDoS': 'ddos',\n",
    "                'DoS GoldenEye': 'dos', \n",
    "                'FTP-Patator': 'brute_force',\n",
    "                'SSH-Patator': 'brute_force', \n",
    "                'DoS slowloris': 'dos', \n",
    "                'DoS Slowhttptest': 'dos',\n",
    "                'Bot': 'botnet',\n",
    "                'Brute Force': 'web_attack', \n",
    "                'XSS': 'web_attack'}\n",
    "\n",
    "# Create grouped label column\n",
    "\n",
    "dataset['Label_Category'] = dataset['Label'].map(lambda x: attack_group[x])\n",
    "dataset['Label_Category'].value_counts()"
   ]
  },
  {
   "cell_type": "code",
   "execution_count": 20,
   "metadata": {},
   "outputs": [
    {
     "data": {
      "text/plain": [
       "Text(0.5, 1.0, 'Distribution of Attack Categories (Grouped)')"
      ]
     },
     "execution_count": 20,
     "metadata": {},
     "output_type": "execute_result"
    },
    {
     "data": {
      "image/png": "[encoded data removed]",
      "text/plain": [
       "<Figure size 432x288 with 1 Axes>"
      ]
     },
     "metadata": {
      "needs_background": "light"
     },
     "output_type": "display_data"
    }
   ],
   "source": [
    "# Plotting binary grouped column Attack\n",
    "\n",
    "train_attacks = dataset['Attack'].value_counts()\n",
    "train_attacks.plot(kind='barh', color='blue')\n",
    "plt.title('Distribution of Attack Categories (Grouped)')"
   ]
  },
  {
   "cell_type": "code",
   "execution_count": 21,
   "metadata": {},
   "outputs": [
    {
     "data": {
      "text/plain": [
       "Text(0.5, 1.0, 'Distribution of Attack Categories (Grouped)')"
      ]
     },
     "execution_count": 21,
     "metadata": {},
     "output_type": "execute_result"
    },
    {
     "data": {
      "image/png": "[encoded data removed]",
      "text/plain": [
       "<Figure size 432x288 with 1 Axes>"
      ]
     },
     "metadata": {
      "needs_background": "light"
     },
     "output_type": "display_data"
    }
   ],
   "source": [
    "# Plotting multi-class grouped column Label_Category\n",
    "\n",
    "train_attacks = dataset['Label_Category'].value_counts()\n",
    "train_attacks.plot(kind='barh', color='blue')\n",
    "plt.title('Distribution of Attack Categories (Grouped)')"
   ]
  },
  {
   "cell_type": "code",
   "execution_count": 22,
   "metadata": {},
   "outputs": [
    {
     "data": {
      "text/plain": [
       "Text(0.5, 1.0, 'Distribution of Attack Categories')"
      ]
     },
     "execution_count": 22,
     "metadata": {},
     "output_type": "execute_result"
    },
    {
     "data": {
      "image/png": "[encoded data removed]",
      "text/plain": [
       "<Figure size 432x288 with 1 Axes>"
      ]
     },
     "metadata": {
      "needs_background": "light"
     },
     "output_type": "display_data"
    }
   ],
   "source": [
    "# Plotting multi-label column Label\n",
    "\n",
    "train_attacks = dataset['Label'].value_counts()\n",
    "train_attacks.plot(kind='barh', color='blue')\n",
    "plt.title('Distribution of Attack Categories')"
   ]
  },
  {
   "cell_type": "code",
   "execution_count": 23,
   "metadata": {},
   "outputs": [
    {
     "name": "stdout",
     "output_type": "stream",
     "text": [
      "Total number of all attack classes : 12\n",
      "Total number of attack categories : 7\n"
     ]
    }
   ],
   "source": [
    "print('Total number of all attack classes :',len(dataset.Label.unique()))\n",
    "print('Total number of attack categories :',len(dataset.Label_Category.unique()))"
   ]
  },
  {
   "cell_type": "markdown",
   "metadata": {},
   "source": [
    "# Splitting the dataset"
   ]
  },
  {
   "cell_type": "markdown",
   "metadata": {},
   "source": [
    "Splitting dataset in 60:20:20 ratio, for training, testing and validation dataset. \n",
    "By stratifying with y label proportions of attacks remain the same throughout the 3 sets. "
   ]
  },
  {
   "cell_type": "code",
   "execution_count": 24,
   "metadata": {},
   "outputs": [],
   "source": [
    "# 3 Different labeling options\n",
    "attacks = ['Label', 'Label_Category', 'Attack']\n",
    "\n",
    "# xs=feature vectors, ys=labels\n",
    "xs = dataset.drop(attacks, axis=1)\n",
    "ys = dataset[attacks]\n",
    "\n",
    "# split dataset - stratified\n",
    "x_train, x_temp, y_train, y_temp = train_test_split(xs, ys, test_size=0.4, random_state=0, stratify=ys['Label'])\n",
    "x_test, x_validate, y_test, y_validate = train_test_split(x_temp, y_temp, test_size=0.5, random_state=0, stratify=y_temp['Label'])"
   ]
  },
  {
   "cell_type": "markdown",
   "metadata": {},
   "source": [
    "# Removing the columns with single unique values as it has no contribution in classification"
   ]
  },
  {
   "cell_type": "code",
   "execution_count": 25,
   "metadata": {},
   "outputs": [
    {
     "data": {
      "text/plain": [
       "['Fwd_URG_Flags',\n",
       " 'Fwd_Header_Length',\n",
       " 'Fwd_Avg_Bytes_Bulk',\n",
       " 'Fwd_Avg_Packets_Bulk',\n",
       " 'Fwd_Avg_Bulk_Rate',\n",
       " 'Bwd_Avg_Bytes_Bulk',\n",
       " 'Bwd_Avg_Packets_Bulk',\n",
       " 'Bwd_Avg_Bulk_Rate']"
      ]
     },
     "execution_count": 25,
     "metadata": {},
     "output_type": "execute_result"
    }
   ],
   "source": [
    "column_names = np.array(list(x_train))\n",
    "to_drop = []\n",
    "for x in column_names:\n",
    "    size = x_train.groupby([x]).size()\n",
    "    # check for columns that only take one value\n",
    "    if (len(size.unique()) == 1):\n",
    "        to_drop.append(x)\n",
    "to_drop"
   ]
  },
  {
   "cell_type": "code",
   "execution_count": 26,
   "metadata": {},
   "outputs": [],
   "source": [
    "x_train = x_train.drop(to_drop, axis=1)\n",
    "x_validate = x_validate.drop(to_drop, axis=1)\n",
    "x_test = x_test.drop(to_drop, axis=1)\n",
    "dataset_copy = dataset.drop(to_drop, axis=1)"
   ]
  },
  {
   "cell_type": "code",
   "execution_count": 27,
   "metadata": {},
   "outputs": [
    {
     "data": {
      "text/plain": [
       "(1696684, 69)"
      ]
     },
     "execution_count": 27,
     "metadata": {},
     "output_type": "execute_result"
    }
   ],
   "source": [
    "x_train.shape"
   ]
  },
  {
   "cell_type": "markdown",
   "metadata": {},
   "source": [
    "# Data Normalization"
   ]
  },
  {
   "cell_type": "markdown",
   "metadata": {},
   "source": [
    "Min-max normalization technique is used to normalize the numerical values in dataset."
   ]
  },
  {
   "cell_type": "code",
   "execution_count": 28,
   "metadata": {},
   "outputs": [],
   "source": [
    "# Normalise\n",
    "min_max_scaler = MinMaxScaler().fit(x_train)\n",
    "\n",
    "# Apply normalisation to dataset\n",
    "x_train = min_max_scaler.transform(x_train)\n",
    "x_validate = min_max_scaler.transform(x_validate)\n",
    "x_test = min_max_scaler.transform(x_test)"
   ]
  },
  {
   "cell_type": "markdown",
   "metadata": {},
   "source": [
    "#  Feature Selection"
   ]
  },
  {
   "cell_type": "markdown",
   "metadata": {},
   "source": [
    "Selecting K-best features by using chi2 scoring function for features"
   ]
  },
  {
   "cell_type": "code",
   "execution_count": 29,
   "metadata": {},
   "outputs": [],
   "source": [
    "features = SelectKBest(score_func=chi2, k=x_train.shape[1])\n",
    "\n",
    "#fit features to the training dataset\n",
    "fit = features.fit(x_train, y_train.Label)"
   ]
  },
  {
   "cell_type": "code",
   "execution_count": 30,
   "metadata": {},
   "outputs": [
    {
     "data": {
      "image/png": "[encoded data removed]",
      "text/plain": [
       "<Figure size 432x288 with 1 Axes>"
      ]
     },
     "metadata": {
      "needs_background": "light"
     },
     "output_type": "display_data"
    }
   ],
   "source": [
    "# sort the features by importance score\n",
    "feature_importances = zip(dataset_copy.columns, features.scores_)\n",
    "feature_importances = sorted(feature_importances, key = lambda x: x[1], reverse = True)\n",
    "sorted_importances = [importance[1] for importance in feature_importances]\n",
    "sorted_features = [importance[0] for importance in feature_importances]\n",
    "\n",
    "x_values = list(range(len(feature_importances)))\n",
    "\n",
    "# plot the cumulative scores\n",
    "cumulative_importances = np.cumsum(sorted_importances)\n",
    "plt.plot(x_values, cumulative_importances)\n",
    "\n",
    "# Draw line at 99% of importance retained \n",
    "value99 = cumulative_importances[-1]*0.99\n",
    "\n",
    "plt.hlines(y = value99, xmin=0, xmax=len(sorted_importances), color = 'r', linestyles = 'dashed')\n",
    "plt.xticks(x_values, sorted_features, rotation = 'vertical', fontsize=5)\n",
    "plt.yticks([], [])\n",
    "plt.xlabel('Feature Variable', fontsize=8)\n",
    "plt.title('A Chart to Show Cumulative Feature Scores', fontsize=8)\n",
    "#plt.figure(figsize=(500,200))\n",
    "plt.tight_layout()\n",
    "plt.savefig('cum_features.png', dpi=300)"
   ]
  },
  {
   "cell_type": "code",
   "execution_count": 31,
   "metadata": {},
   "outputs": [],
   "source": [
    "# perform selectkbest with k=40\n",
    "\n",
    "features = SelectKBest(score_func=chi2, k=40)\n",
    "fit = features.fit(x_train, y_train.Label)\n",
    "\n",
    "x_train = fit.transform(x_train)\n",
    "x_test = fit.transform(x_test)\n",
    "x_validate = fit.transform(x_validate)"
   ]
  },
  {
   "cell_type": "code",
   "execution_count": 32,
   "metadata": {},
   "outputs": [],
   "source": [
    "new_features = dataset_copy.columns[features.get_support(indices=True)]"
   ]
  },
  {
   "cell_type": "code",
   "execution_count": 33,
   "metadata": {},
   "outputs": [
    {
     "name": "stdout",
     "output_type": "stream",
     "text": [
      "Number of features selected : 40\n"
     ]
    },
    {
     "data": {
      "text/plain": [
       "Index(['Destination_Port', 'Flow_Duration', 'Total_Fwd_Packets',\n",
       "       'Bwd_Packet_Length_Min', 'Bwd_Packet_Length_Mean',\n",
       "       'Bwd_Packet_Length_Std', 'Flow_Bytes_s', 'Flow_IAT_Std', 'Flow_IAT_Max',\n",
       "       'Flow_IAT_Min', 'Fwd_IAT_Total', 'Fwd_IAT_Mean', 'Fwd_IAT_Std',\n",
       "       'Fwd_IAT_Max', 'Fwd_IAT_Min', 'Bwd_IAT_Total', 'Bwd_IAT_Mean',\n",
       "       'Bwd_IAT_Std', 'Bwd_IAT_Max', 'Bwd_IAT_Min', 'Fwd_PSH_Flags',\n",
       "       'Bwd_PSH_Flags', 'Bwd_Packets_s', 'Packet_Length_Mean',\n",
       "       'Packet_Length_Std', 'Packet_Length_Variance', 'FIN_Flag_Count',\n",
       "       'SYN_Flag_Count', 'RST_Flag_Count', 'ACK_Flag_Count', 'URG_Flag_Count',\n",
       "       'CWE_Flag_Count', 'Avg_Fwd_Segment_Size', 'Init_Win_bytes_forward',\n",
       "       'Init_Win_bytes_backward', 'Active_Min', 'Idle_Mean', 'Idle_Std',\n",
       "       'Idle_Max', 'Idle_Min'],\n",
       "      dtype='object')"
      ]
     },
     "execution_count": 33,
     "metadata": {},
     "output_type": "execute_result"
    }
   ],
   "source": [
    "print('Number of features selected :',len(new_features))\n",
    "new_features"
   ]
  },
  {
   "cell_type": "code",
   "execution_count": 34,
   "metadata": {},
   "outputs": [],
   "source": [
    "attack = np.array(['BENIGN', 'Bot', 'Brute Force', 'DDoS', 'DoS GoldenEye', 'DoS Hulk', 'DoS Slowhttptest',\n",
    "                   'DoS slowloris', 'FTP-Patator', 'PortScan', 'SSH-Patator', 'XSS'])\n",
    "attack_groups = np.array(['benign', 'botnet', 'brute_force', 'ddos', 'dos', 'probe', 'web_attack'])"
   ]
  },
  {
   "cell_type": "code",
   "execution_count": null,
   "metadata": {},
   "outputs": [],
   "source": []
  },
  {
   "cell_type": "code",
   "execution_count": null,
   "metadata": {},
   "outputs": [],
   "source": []
  },
  {
   "cell_type": "code",
   "execution_count": null,
   "metadata": {},
   "outputs": [],
   "source": []
  },
  {
   "cell_type": "markdown",
   "metadata": {},
   "source": [
    "# Applying Machine Learning classifier models"
   ]
  },
  {
   "cell_type": "markdown",
   "metadata": {},
   "source": [
    "Each machine learning algorithm is applied in three different categories :\n",
    "\n",
    "1. On all attack labels (12).\n",
    "2. Binary Classifier (2).\n",
    "3. Multi-class Classifier (7).\n",
    "\n",
    "And then evaluate performance of each algorithm by confusion matrix plot.\n",
    "Evaluate Accuracy, Precision, Recall, F1-score."
   ]
  },
  {
   "cell_type": "markdown",
   "metadata": {},
   "source": [
    "# 1. Support Vector Machine (SVM)"
   ]
  },
  {
   "cell_type": "code",
   "execution_count": 35,
   "metadata": {},
   "outputs": [],
   "source": [
    "classifier = LinearSVC()"
   ]
  },
  {
   "cell_type": "markdown",
   "metadata": {},
   "source": [
    "1. a) On all attack labels."
   ]
  },
  {
   "cell_type": "code",
   "execution_count": 36,
   "metadata": {},
   "outputs": [
    {
     "name": "stdout",
     "output_type": "stream",
     "text": [
      "Model Training Time is :  408.1688220500946\n"
     ]
    }
   ],
   "source": [
    "# fit the model\n",
    "\n",
    "start = time.time()\n",
    "classifier.fit(x_train, y_train.Label)\n",
    "end = time.time()\n",
    "training_time = end - start\n",
    "\n",
    "print(\"Model Training Time is : \", training_time)"
   ]
  },
  {
   "cell_type": "code",
   "execution_count": 37,
   "metadata": {},
   "outputs": [
    {
     "name": "stdout",
     "output_type": "stream",
     "text": [
      "Model Testing Time is :  0.15294408798217773\n"
     ]
    }
   ],
   "source": [
    "# predicting test results of SVM classifier on all labels.\n",
    "\n",
    "start = time.time()\n",
    "y_predict = classifier.predict(x_validate)\n",
    "end = time.time()\n",
    "testing_time = end  - start\n",
    "\n",
    "print(\"Model Testing Time is : \", testing_time)"
   ]
  },
  {
   "cell_type": "code",
   "execution_count": 38,
   "metadata": {},
   "outputs": [
    {
     "name": "stdout",
     "output_type": "stream",
     "text": [
      "Plotting Confusion Matrix of SVM classifier on all Labels \n"
     ]
    },
    {
     "data": {
      "image/png": "[encoded data removed]",
      "text/plain": [
       "<Figure size 432x288 with 2 Axes>"
      ]
     },
     "metadata": {
      "needs_background": "light"
     },
     "output_type": "display_data"
    },
    {
     "data": {
      "text/html": [
       "<div>\n",
       "<style scoped>\n",
       "    .dataframe tbody tr th:only-of-type {\n",
       "        vertical-align: middle;\n",
       "    }\n",
       "\n",
       "    .dataframe tbody tr th {\n",
       "        vertical-align: top;\n",
       "    }\n",
       "\n",
       "    .dataframe thead th {\n",
       "        text-align: right;\n",
       "    }\n",
       "</style>\n",
       "<table border=\"1\" class=\"dataframe\">\n",
       "  <thead>\n",
       "    <tr style=\"text-align: right;\">\n",
       "      <th>Predicted attacks</th>\n",
       "      <th>BENIGN</th>\n",
       "      <th>Bot</th>\n",
       "      <th>DDoS</th>\n",
       "      <th>DoS GoldenEye</th>\n",
       "      <th>DoS Hulk</th>\n",
       "      <th>DoS Slowhttptest</th>\n",
       "      <th>DoS slowloris</th>\n",
       "      <th>FTP-Patator</th>\n",
       "      <th>PortScan</th>\n",
       "      <th>XSS</th>\n",
       "    </tr>\n",
       "    <tr>\n",
       "      <th>Actual Attacks</th>\n",
       "      <th></th>\n",
       "      <th></th>\n",
       "      <th></th>\n",
       "      <th></th>\n",
       "      <th></th>\n",
       "      <th></th>\n",
       "      <th></th>\n",
       "      <th></th>\n",
       "      <th></th>\n",
       "      <th></th>\n",
       "    </tr>\n",
       "  </thead>\n",
       "  <tbody>\n",
       "    <tr>\n",
       "      <th>BENIGN</th>\n",
       "      <td>441324</td>\n",
       "      <td>19</td>\n",
       "      <td>46</td>\n",
       "      <td>41</td>\n",
       "      <td>1212</td>\n",
       "      <td>146</td>\n",
       "      <td>7</td>\n",
       "      <td>78</td>\n",
       "      <td>11379</td>\n",
       "      <td>13</td>\n",
       "    </tr>\n",
       "    <tr>\n",
       "      <th>Bot</th>\n",
       "      <td>291</td>\n",
       "      <td>0</td>\n",
       "      <td>0</td>\n",
       "      <td>0</td>\n",
       "      <td>0</td>\n",
       "      <td>0</td>\n",
       "      <td>0</td>\n",
       "      <td>0</td>\n",
       "      <td>100</td>\n",
       "      <td>0</td>\n",
       "    </tr>\n",
       "    <tr>\n",
       "      <th>Brute Force</th>\n",
       "      <td>301</td>\n",
       "      <td>0</td>\n",
       "      <td>0</td>\n",
       "      <td>0</td>\n",
       "      <td>0</td>\n",
       "      <td>0</td>\n",
       "      <td>0</td>\n",
       "      <td>0</td>\n",
       "      <td>0</td>\n",
       "      <td>0</td>\n",
       "    </tr>\n",
       "    <tr>\n",
       "      <th>DDoS</th>\n",
       "      <td>3230</td>\n",
       "      <td>0</td>\n",
       "      <td>21919</td>\n",
       "      <td>0</td>\n",
       "      <td>451</td>\n",
       "      <td>0</td>\n",
       "      <td>0</td>\n",
       "      <td>0</td>\n",
       "      <td>5</td>\n",
       "      <td>0</td>\n",
       "    </tr>\n",
       "    <tr>\n",
       "      <th>DoS GoldenEye</th>\n",
       "      <td>290</td>\n",
       "      <td>0</td>\n",
       "      <td>0</td>\n",
       "      <td>1767</td>\n",
       "      <td>0</td>\n",
       "      <td>0</td>\n",
       "      <td>0</td>\n",
       "      <td>0</td>\n",
       "      <td>0</td>\n",
       "      <td>1</td>\n",
       "    </tr>\n",
       "    <tr>\n",
       "      <th>DoS Hulk</th>\n",
       "      <td>8178</td>\n",
       "      <td>52</td>\n",
       "      <td>188</td>\n",
       "      <td>1</td>\n",
       "      <td>37603</td>\n",
       "      <td>1</td>\n",
       "      <td>0</td>\n",
       "      <td>0</td>\n",
       "      <td>1</td>\n",
       "      <td>1</td>\n",
       "    </tr>\n",
       "    <tr>\n",
       "      <th>DoS Slowhttptest</th>\n",
       "      <td>306</td>\n",
       "      <td>0</td>\n",
       "      <td>18</td>\n",
       "      <td>0</td>\n",
       "      <td>0</td>\n",
       "      <td>755</td>\n",
       "      <td>21</td>\n",
       "      <td>0</td>\n",
       "      <td>0</td>\n",
       "      <td>0</td>\n",
       "    </tr>\n",
       "    <tr>\n",
       "      <th>DoS slowloris</th>\n",
       "      <td>584</td>\n",
       "      <td>0</td>\n",
       "      <td>0</td>\n",
       "      <td>0</td>\n",
       "      <td>0</td>\n",
       "      <td>15</td>\n",
       "      <td>557</td>\n",
       "      <td>0</td>\n",
       "      <td>3</td>\n",
       "      <td>0</td>\n",
       "    </tr>\n",
       "    <tr>\n",
       "      <th>FTP-Patator</th>\n",
       "      <td>797</td>\n",
       "      <td>0</td>\n",
       "      <td>0</td>\n",
       "      <td>0</td>\n",
       "      <td>0</td>\n",
       "      <td>0</td>\n",
       "      <td>0</td>\n",
       "      <td>790</td>\n",
       "      <td>0</td>\n",
       "      <td>0</td>\n",
       "    </tr>\n",
       "    <tr>\n",
       "      <th>PortScan</th>\n",
       "      <td>501</td>\n",
       "      <td>2</td>\n",
       "      <td>0</td>\n",
       "      <td>2</td>\n",
       "      <td>18</td>\n",
       "      <td>0</td>\n",
       "      <td>6</td>\n",
       "      <td>0</td>\n",
       "      <td>31232</td>\n",
       "      <td>0</td>\n",
       "    </tr>\n",
       "    <tr>\n",
       "      <th>SSH-Patator</th>\n",
       "      <td>1179</td>\n",
       "      <td>0</td>\n",
       "      <td>0</td>\n",
       "      <td>0</td>\n",
       "      <td>0</td>\n",
       "      <td>0</td>\n",
       "      <td>0</td>\n",
       "      <td>0</td>\n",
       "      <td>1</td>\n",
       "      <td>0</td>\n",
       "    </tr>\n",
       "    <tr>\n",
       "      <th>XSS</th>\n",
       "      <td>130</td>\n",
       "      <td>0</td>\n",
       "      <td>0</td>\n",
       "      <td>0</td>\n",
       "      <td>0</td>\n",
       "      <td>0</td>\n",
       "      <td>0</td>\n",
       "      <td>0</td>\n",
       "      <td>0</td>\n",
       "      <td>0</td>\n",
       "    </tr>\n",
       "  </tbody>\n",
       "</table>\n",
       "</div>"
      ],
      "text/plain": [
       "Predicted attacks  BENIGN  Bot   DDoS  DoS GoldenEye  DoS Hulk  \\\n",
       "Actual Attacks                                                   \n",
       "BENIGN             441324   19     46             41      1212   \n",
       "Bot                   291    0      0              0         0   \n",
       "Brute Force           301    0      0              0         0   \n",
       "DDoS                 3230    0  21919              0       451   \n",
       "DoS GoldenEye         290    0      0           1767         0   \n",
       "DoS Hulk             8178   52    188              1     37603   \n",
       "DoS Slowhttptest      306    0     18              0         0   \n",
       "DoS slowloris         584    0      0              0         0   \n",
       "FTP-Patator           797    0      0              0         0   \n",
       "PortScan              501    2      0              2        18   \n",
       "SSH-Patator          1179    0      0              0         0   \n",
       "XSS                   130    0      0              0         0   \n",
       "\n",
       "Predicted attacks  DoS Slowhttptest  DoS slowloris  FTP-Patator  PortScan  XSS  \n",
       "Actual Attacks                                                                  \n",
       "BENIGN                          146              7           78     11379   13  \n",
       "Bot                               0              0            0       100    0  \n",
       "Brute Force                       0              0            0         0    0  \n",
       "DDoS                              0              0            0         5    0  \n",
       "DoS GoldenEye                     0              0            0         0    1  \n",
       "DoS Hulk                          1              0            0         1    1  \n",
       "DoS Slowhttptest                755             21            0         0    0  \n",
       "DoS slowloris                    15            557            0         3    0  \n",
       "FTP-Patator                       0              0          790         0    0  \n",
       "PortScan                          0              6            0     31232    0  \n",
       "SSH-Patator                       0              0            0         1    0  \n",
       "XSS                               0              0            0         0    0  "
      ]
     },
     "execution_count": 38,
     "metadata": {},
     "output_type": "execute_result"
    }
   ],
   "source": [
    "# Creating confusion matrix for SVM classifier on all labels.\n",
    "\n",
    "confusion_svm_1 = pd.crosstab(y_validate.Label, y_predict, rownames=['Actual Attacks'], colnames=['Predicted attacks'])\n",
    "\n",
    "print(\"Plotting Confusion Matrix of SVM classifier on all Labels \")\n",
    "\n",
    "sn.heatmap(confusion_svm_1, annot=True, cmap= 'Blues', fmt='d')\n",
    "plt.show()\n",
    "confusion_svm_1"
   ]
  },
  {
   "cell_type": "code",
   "execution_count": 39,
   "metadata": {},
   "outputs": [
    {
     "name": "stderr",
     "output_type": "stream",
     "text": [
      "C:\\Users\\user\\anaconda3\\lib\\site-packages\\sklearn\\metrics\\_classification.py:1245: UndefinedMetricWarning: Precision and F-score are ill-defined and being set to 0.0 in labels with no predicted samples. Use `zero_division` parameter to control this behavior.\n",
      "  _warn_prf(average, modifier, msg_start, len(result))\n"
     ]
    },
    {
     "data": {
      "text/html": [
       "<div>\n",
       "<style scoped>\n",
       "    .dataframe tbody tr th:only-of-type {\n",
       "        vertical-align: middle;\n",
       "    }\n",
       "\n",
       "    .dataframe tbody tr th {\n",
       "        vertical-align: top;\n",
       "    }\n",
       "\n",
       "    .dataframe thead th {\n",
       "        text-align: right;\n",
       "    }\n",
       "</style>\n",
       "<table border=\"1\" class=\"dataframe\">\n",
       "  <thead>\n",
       "    <tr style=\"text-align: right;\">\n",
       "      <th></th>\n",
       "      <th>attack</th>\n",
       "      <th>precision</th>\n",
       "      <th>recall</th>\n",
       "      <th>fscore</th>\n",
       "    </tr>\n",
       "  </thead>\n",
       "  <tbody>\n",
       "    <tr>\n",
       "      <th>0</th>\n",
       "      <td>BENIGN</td>\n",
       "      <td>0.965464</td>\n",
       "      <td>0.971512</td>\n",
       "      <td>0.968478</td>\n",
       "    </tr>\n",
       "    <tr>\n",
       "      <th>1</th>\n",
       "      <td>Bot</td>\n",
       "      <td>0.000000</td>\n",
       "      <td>0.000000</td>\n",
       "      <td>0.000000</td>\n",
       "    </tr>\n",
       "    <tr>\n",
       "      <th>2</th>\n",
       "      <td>Brute Force</td>\n",
       "      <td>0.000000</td>\n",
       "      <td>0.000000</td>\n",
       "      <td>0.000000</td>\n",
       "    </tr>\n",
       "    <tr>\n",
       "      <th>3</th>\n",
       "      <td>DDoS</td>\n",
       "      <td>0.988634</td>\n",
       "      <td>0.856044</td>\n",
       "      <td>0.917574</td>\n",
       "    </tr>\n",
       "    <tr>\n",
       "      <th>4</th>\n",
       "      <td>DoS GoldenEye</td>\n",
       "      <td>0.975704</td>\n",
       "      <td>0.858601</td>\n",
       "      <td>0.913414</td>\n",
       "    </tr>\n",
       "    <tr>\n",
       "      <th>5</th>\n",
       "      <td>DoS Hulk</td>\n",
       "      <td>0.957209</td>\n",
       "      <td>0.817012</td>\n",
       "      <td>0.881572</td>\n",
       "    </tr>\n",
       "    <tr>\n",
       "      <th>6</th>\n",
       "      <td>DoS Slowhttptest</td>\n",
       "      <td>0.823337</td>\n",
       "      <td>0.686364</td>\n",
       "      <td>0.748637</td>\n",
       "    </tr>\n",
       "    <tr>\n",
       "      <th>7</th>\n",
       "      <td>DoS slowloris</td>\n",
       "      <td>0.942470</td>\n",
       "      <td>0.480587</td>\n",
       "      <td>0.636571</td>\n",
       "    </tr>\n",
       "    <tr>\n",
       "      <th>8</th>\n",
       "      <td>FTP-Patator</td>\n",
       "      <td>0.910138</td>\n",
       "      <td>0.497795</td>\n",
       "      <td>0.643585</td>\n",
       "    </tr>\n",
       "    <tr>\n",
       "      <th>9</th>\n",
       "      <td>PortScan</td>\n",
       "      <td>0.731069</td>\n",
       "      <td>0.983344</td>\n",
       "      <td>0.838646</td>\n",
       "    </tr>\n",
       "    <tr>\n",
       "      <th>10</th>\n",
       "      <td>SSH-Patator</td>\n",
       "      <td>0.000000</td>\n",
       "      <td>0.000000</td>\n",
       "      <td>0.000000</td>\n",
       "    </tr>\n",
       "    <tr>\n",
       "      <th>11</th>\n",
       "      <td>XSS</td>\n",
       "      <td>0.000000</td>\n",
       "      <td>0.000000</td>\n",
       "      <td>0.000000</td>\n",
       "    </tr>\n",
       "  </tbody>\n",
       "</table>\n",
       "</div>"
      ],
      "text/plain": [
       "              attack  precision    recall    fscore\n",
       "0             BENIGN   0.965464  0.971512  0.968478\n",
       "1                Bot   0.000000  0.000000  0.000000\n",
       "2        Brute Force   0.000000  0.000000  0.000000\n",
       "3               DDoS   0.988634  0.856044  0.917574\n",
       "4      DoS GoldenEye   0.975704  0.858601  0.913414\n",
       "5           DoS Hulk   0.957209  0.817012  0.881572\n",
       "6   DoS Slowhttptest   0.823337  0.686364  0.748637\n",
       "7      DoS slowloris   0.942470  0.480587  0.636571\n",
       "8        FTP-Patator   0.910138  0.497795  0.643585\n",
       "9           PortScan   0.731069  0.983344  0.838646\n",
       "10       SSH-Patator   0.000000  0.000000  0.000000\n",
       "11               XSS   0.000000  0.000000  0.000000"
      ]
     },
     "execution_count": 39,
     "metadata": {},
     "output_type": "execute_result"
    }
   ],
   "source": [
    "# Precision,Recall,F1-score for SVM classifier on all labels.\n",
    "\n",
    "precision, recall, fscore, support = score(y_validate.Label, y_predict)\n",
    "\n",
    "d = {'attack': attack, 'precision': precision, 'recall' : recall, 'fscore': fscore}\n",
    "results = pd.DataFrame(data=d)\n",
    "results"
   ]
  },
  {
   "cell_type": "code",
   "execution_count": 40,
   "metadata": {},
   "outputs": [
    {
     "name": "stderr",
     "output_type": "stream",
     "text": [
      "C:\\Users\\user\\anaconda3\\lib\\site-packages\\sklearn\\metrics\\_classification.py:1245: UndefinedMetricWarning: Precision and F-score are ill-defined and being set to 0.0 in labels with no predicted samples. Use `zero_division` parameter to control this behavior.\n",
      "  _warn_prf(average, modifier, msg_start, len(result))\n"
     ]
    },
    {
     "name": "stdout",
     "output_type": "stream",
     "text": [
      "Accuracy of SVM classifier on all labels :  0.9476361566017519\n"
     ]
    }
   ],
   "source": [
    "# Average Accuracy,Precision,Recall,F1-score for SVM classifier on all labels.\n",
    "\n",
    "precision_svm_1, recall_svm_1, fscore_svm_1, support = score(y_validate.Label, y_predict, average='macro')\n",
    "accuracy_svm_1 = accuracy_score(y_validate.Label, y_predict)\n",
    "print(\"Accuracy of SVM classifier on all labels : \", accuracy_svm_1)"
   ]
  },
  {
   "cell_type": "code",
   "execution_count": null,
   "metadata": {},
   "outputs": [],
   "source": []
  },
  {
   "cell_type": "markdown",
   "metadata": {},
   "source": [
    "1. b) Binary Classifier."
   ]
  },
  {
   "cell_type": "code",
   "execution_count": 41,
   "metadata": {},
   "outputs": [
    {
     "name": "stdout",
     "output_type": "stream",
     "text": [
      "Model Training Time is :  158.71935606002808\n"
     ]
    }
   ],
   "source": [
    "# fit the model\n",
    "\n",
    "start = time.time()\n",
    "classifier.fit(x_train, y_train.Attack)\n",
    "end = time.time()\n",
    "training_time = end - start\n",
    "\n",
    "print(\"Model Training Time is : \", training_time)"
   ]
  },
  {
   "cell_type": "code",
   "execution_count": 42,
   "metadata": {},
   "outputs": [
    {
     "name": "stdout",
     "output_type": "stream",
     "text": [
      "Model Testing Time is :  0.07494568824768066\n"
     ]
    }
   ],
   "source": [
    "# predicting test results of SVM classifier on binary labels.\n",
    "\n",
    "start = time.time()\n",
    "y_predict = classifier.predict(x_validate)\n",
    "end = time.time()\n",
    "testing_time = end  - start\n",
    "\n",
    "print(\"Model Testing Time is : \", testing_time)"
   ]
  },
  {
   "cell_type": "code",
   "execution_count": 43,
   "metadata": {},
   "outputs": [
    {
     "name": "stdout",
     "output_type": "stream",
     "text": [
      "Plotting Confusion Matrix of SVM classifier on binary Labels \n"
     ]
    },
    {
     "data": {
      "image/png": "[encoded data removed]",
      "text/plain": [
       "<Figure size 432x288 with 2 Axes>"
      ]
     },
     "metadata": {
      "needs_background": "light"
     },
     "output_type": "display_data"
    },
    {
     "data": {
      "text/html": [
       "<div>\n",
       "<style scoped>\n",
       "    .dataframe tbody tr th:only-of-type {\n",
       "        vertical-align: middle;\n",
       "    }\n",
       "\n",
       "    .dataframe tbody tr th {\n",
       "        vertical-align: top;\n",
       "    }\n",
       "\n",
       "    .dataframe thead th {\n",
       "        text-align: right;\n",
       "    }\n",
       "</style>\n",
       "<table border=\"1\" class=\"dataframe\">\n",
       "  <thead>\n",
       "    <tr style=\"text-align: right;\">\n",
       "      <th>Predicted attacks</th>\n",
       "      <th>Attack</th>\n",
       "      <th>Normal</th>\n",
       "    </tr>\n",
       "    <tr>\n",
       "      <th>Actual Attacks</th>\n",
       "      <th></th>\n",
       "      <th></th>\n",
       "    </tr>\n",
       "  </thead>\n",
       "  <tbody>\n",
       "    <tr>\n",
       "      <th>Attack</th>\n",
       "      <td>86507</td>\n",
       "      <td>24790</td>\n",
       "    </tr>\n",
       "    <tr>\n",
       "      <th>Normal</th>\n",
       "      <td>16515</td>\n",
       "      <td>437750</td>\n",
       "    </tr>\n",
       "  </tbody>\n",
       "</table>\n",
       "</div>"
      ],
      "text/plain": [
       "Predicted attacks  Attack  Normal\n",
       "Actual Attacks                   \n",
       "Attack              86507   24790\n",
       "Normal              16515  437750"
      ]
     },
     "execution_count": 43,
     "metadata": {},
     "output_type": "execute_result"
    }
   ],
   "source": [
    "# Creating confusion matrix for SVM classifier on binary labels.\n",
    "\n",
    "confusion_svm_2 = pd.crosstab(y_validate.Attack, y_predict, rownames=['Actual Attacks'], colnames=['Predicted attacks'])\n",
    "\n",
    "print(\"Plotting Confusion Matrix of SVM classifier on binary Labels \")\n",
    "\n",
    "sn.heatmap(confusion_svm_2, annot=True, cmap= 'Blues', fmt='d')\n",
    "plt.show()\n",
    "confusion_svm_2"
   ]
  },
  {
   "cell_type": "code",
   "execution_count": 44,
   "metadata": {},
   "outputs": [
    {
     "data": {
      "text/html": [
       "<div>\n",
       "<style scoped>\n",
       "    .dataframe tbody tr th:only-of-type {\n",
       "        vertical-align: middle;\n",
       "    }\n",
       "\n",
       "    .dataframe tbody tr th {\n",
       "        vertical-align: top;\n",
       "    }\n",
       "\n",
       "    .dataframe thead th {\n",
       "        text-align: right;\n",
       "    }\n",
       "</style>\n",
       "<table border=\"1\" class=\"dataframe\">\n",
       "  <thead>\n",
       "    <tr style=\"text-align: right;\">\n",
       "      <th></th>\n",
       "      <th>attack</th>\n",
       "      <th>precision</th>\n",
       "      <th>recall</th>\n",
       "      <th>fscore</th>\n",
       "    </tr>\n",
       "  </thead>\n",
       "  <tbody>\n",
       "    <tr>\n",
       "      <th>0</th>\n",
       "      <td>0</td>\n",
       "      <td>0.839694</td>\n",
       "      <td>0.777263</td>\n",
       "      <td>0.807273</td>\n",
       "    </tr>\n",
       "    <tr>\n",
       "      <th>1</th>\n",
       "      <td>1</td>\n",
       "      <td>0.946405</td>\n",
       "      <td>0.963645</td>\n",
       "      <td>0.954947</td>\n",
       "    </tr>\n",
       "  </tbody>\n",
       "</table>\n",
       "</div>"
      ],
      "text/plain": [
       "   attack  precision    recall    fscore\n",
       "0       0   0.839694  0.777263  0.807273\n",
       "1       1   0.946405  0.963645  0.954947"
      ]
     },
     "execution_count": 44,
     "metadata": {},
     "output_type": "execute_result"
    }
   ],
   "source": [
    "# Precision,Recall,F1-score for SVM classifier on binary labels.\n",
    "\n",
    "precision, recall, fscore, support = score(y_validate.Attack, y_predict)\n",
    "d = {'attack': [0,1], 'precision': precision, 'recall' : recall, 'fscore': fscore}\n",
    "results = pd.DataFrame(data=d)\n",
    "results"
   ]
  },
  {
   "cell_type": "code",
   "execution_count": 45,
   "metadata": {},
   "outputs": [
    {
     "name": "stdout",
     "output_type": "stream",
     "text": [
      "Accuracy of SVM classifier on binary labels :  0.9269664510699093\n"
     ]
    }
   ],
   "source": [
    "# Average Accuracy,Precision,Recall,F1-score for SVM classifier on binary labels.\n",
    "\n",
    "precision_svm_2, recall_svm_2, fscore_svm_2, n = score(y_validate.Attack, y_predict, average='macro')\n",
    "accuracy_svm_2 = accuracy_score(y_validate.Attack, y_predict)\n",
    "print(\"Accuracy of SVM classifier on binary labels : \", accuracy_svm_2)"
   ]
  },
  {
   "cell_type": "code",
   "execution_count": null,
   "metadata": {},
   "outputs": [],
   "source": []
  },
  {
   "cell_type": "markdown",
   "metadata": {},
   "source": [
    "1. c) Multi-class Classifier."
   ]
  },
  {
   "cell_type": "code",
   "execution_count": 46,
   "metadata": {},
   "outputs": [
    {
     "name": "stdout",
     "output_type": "stream",
     "text": [
      "Model Training Time is :  352.8527202606201\n"
     ]
    }
   ],
   "source": [
    "# fit the model\n",
    "\n",
    "start = time.time()\n",
    "classifier.fit(x_train, y_train.Label_Category)\n",
    "end = time.time()\n",
    "training_time = end - start\n",
    "\n",
    "print(\"Model Training Time is : \", training_time)"
   ]
  },
  {
   "cell_type": "code",
   "execution_count": 47,
   "metadata": {},
   "outputs": [
    {
     "name": "stdout",
     "output_type": "stream",
     "text": [
      "Model Testing Time is :  0.12475442886352539\n"
     ]
    }
   ],
   "source": [
    "# predicting test results of SVM classifier on multi-class labels.\n",
    "\n",
    "start = time.time()\n",
    "y_predict = classifier.predict(x_validate)\n",
    "end = time.time()\n",
    "testing_time = end  - start\n",
    "\n",
    "print(\"Model Testing Time is : \", testing_time)"
   ]
  },
  {
   "cell_type": "code",
   "execution_count": 48,
   "metadata": {},
   "outputs": [
    {
     "name": "stdout",
     "output_type": "stream",
     "text": [
      "Plotting Confusion Matrix of SVM classifier on multi-class Labels \n"
     ]
    },
    {
     "data": {
      "image/png": "[encoded data removed]",
      "text/plain": [
       "<Figure size 432x288 with 2 Axes>"
      ]
     },
     "metadata": {
      "needs_background": "light"
     },
     "output_type": "display_data"
    },
    {
     "data": {
      "text/html": [
       "<div>\n",
       "<style scoped>\n",
       "    .dataframe tbody tr th:only-of-type {\n",
       "        vertical-align: middle;\n",
       "    }\n",
       "\n",
       "    .dataframe tbody tr th {\n",
       "        vertical-align: top;\n",
       "    }\n",
       "\n",
       "    .dataframe thead th {\n",
       "        text-align: right;\n",
       "    }\n",
       "</style>\n",
       "<table border=\"1\" class=\"dataframe\">\n",
       "  <thead>\n",
       "    <tr style=\"text-align: right;\">\n",
       "      <th>Predicted attacks</th>\n",
       "      <th>benign</th>\n",
       "      <th>botnet</th>\n",
       "      <th>brute_force</th>\n",
       "      <th>ddos</th>\n",
       "      <th>dos</th>\n",
       "      <th>probe</th>\n",
       "      <th>web_attack</th>\n",
       "    </tr>\n",
       "    <tr>\n",
       "      <th>Actual Attacks</th>\n",
       "      <th></th>\n",
       "      <th></th>\n",
       "      <th></th>\n",
       "      <th></th>\n",
       "      <th></th>\n",
       "      <th></th>\n",
       "      <th></th>\n",
       "    </tr>\n",
       "  </thead>\n",
       "  <tbody>\n",
       "    <tr>\n",
       "      <th>benign</th>\n",
       "      <td>441240</td>\n",
       "      <td>25</td>\n",
       "      <td>1</td>\n",
       "      <td>43</td>\n",
       "      <td>1573</td>\n",
       "      <td>11380</td>\n",
       "      <td>3</td>\n",
       "    </tr>\n",
       "    <tr>\n",
       "      <th>botnet</th>\n",
       "      <td>291</td>\n",
       "      <td>0</td>\n",
       "      <td>0</td>\n",
       "      <td>0</td>\n",
       "      <td>0</td>\n",
       "      <td>100</td>\n",
       "      <td>0</td>\n",
       "    </tr>\n",
       "    <tr>\n",
       "      <th>brute_force</th>\n",
       "      <td>1959</td>\n",
       "      <td>0</td>\n",
       "      <td>792</td>\n",
       "      <td>0</td>\n",
       "      <td>15</td>\n",
       "      <td>1</td>\n",
       "      <td>0</td>\n",
       "    </tr>\n",
       "    <tr>\n",
       "      <th>ddos</th>\n",
       "      <td>3226</td>\n",
       "      <td>0</td>\n",
       "      <td>0</td>\n",
       "      <td>21619</td>\n",
       "      <td>755</td>\n",
       "      <td>5</td>\n",
       "      <td>0</td>\n",
       "    </tr>\n",
       "    <tr>\n",
       "      <th>dos</th>\n",
       "      <td>11354</td>\n",
       "      <td>39</td>\n",
       "      <td>0</td>\n",
       "      <td>240</td>\n",
       "      <td>38705</td>\n",
       "      <td>4</td>\n",
       "      <td>0</td>\n",
       "    </tr>\n",
       "    <tr>\n",
       "      <th>probe</th>\n",
       "      <td>499</td>\n",
       "      <td>0</td>\n",
       "      <td>0</td>\n",
       "      <td>0</td>\n",
       "      <td>24</td>\n",
       "      <td>31238</td>\n",
       "      <td>0</td>\n",
       "    </tr>\n",
       "    <tr>\n",
       "      <th>web_attack</th>\n",
       "      <td>431</td>\n",
       "      <td>0</td>\n",
       "      <td>0</td>\n",
       "      <td>0</td>\n",
       "      <td>0</td>\n",
       "      <td>0</td>\n",
       "      <td>0</td>\n",
       "    </tr>\n",
       "  </tbody>\n",
       "</table>\n",
       "</div>"
      ],
      "text/plain": [
       "Predicted attacks  benign  botnet  brute_force   ddos    dos  probe  \\\n",
       "Actual Attacks                                                        \n",
       "benign             441240      25            1     43   1573  11380   \n",
       "botnet                291       0            0      0      0    100   \n",
       "brute_force          1959       0          792      0     15      1   \n",
       "ddos                 3226       0            0  21619    755      5   \n",
       "dos                 11354      39            0    240  38705      4   \n",
       "probe                 499       0            0      0     24  31238   \n",
       "web_attack            431       0            0      0      0      0   \n",
       "\n",
       "Predicted attacks  web_attack  \n",
       "Actual Attacks                 \n",
       "benign                      3  \n",
       "botnet                      0  \n",
       "brute_force                 0  \n",
       "ddos                        0  \n",
       "dos                         0  \n",
       "probe                       0  \n",
       "web_attack                  0  "
      ]
     },
     "execution_count": 48,
     "metadata": {},
     "output_type": "execute_result"
    }
   ],
   "source": [
    "# Creating confusion matrix for SVM classifier on multi-class labels.\n",
    "\n",
    "confusion_svm_3 = pd.crosstab(y_validate.Label_Category, y_predict, rownames=['Actual Attacks'], colnames=['Predicted attacks'])\n",
    "\n",
    "print(\"Plotting Confusion Matrix of SVM classifier on multi-class Labels \")\n",
    "\n",
    "sn.heatmap(confusion_svm_3, annot=True, cmap= 'Blues', fmt='d')\n",
    "plt.show()\n",
    "confusion_svm_3"
   ]
  },
  {
   "cell_type": "code",
   "execution_count": 49,
   "metadata": {},
   "outputs": [
    {
     "data": {
      "text/html": [
       "<div>\n",
       "<style scoped>\n",
       "    .dataframe tbody tr th:only-of-type {\n",
       "        vertical-align: middle;\n",
       "    }\n",
       "\n",
       "    .dataframe tbody tr th {\n",
       "        vertical-align: top;\n",
       "    }\n",
       "\n",
       "    .dataframe thead th {\n",
       "        text-align: right;\n",
       "    }\n",
       "</style>\n",
       "<table border=\"1\" class=\"dataframe\">\n",
       "  <thead>\n",
       "    <tr style=\"text-align: right;\">\n",
       "      <th></th>\n",
       "      <th>attack</th>\n",
       "      <th>precision</th>\n",
       "      <th>recall</th>\n",
       "      <th>fscore</th>\n",
       "    </tr>\n",
       "  </thead>\n",
       "  <tbody>\n",
       "    <tr>\n",
       "      <th>0</th>\n",
       "      <td>benign</td>\n",
       "      <td>0.961307</td>\n",
       "      <td>0.971327</td>\n",
       "      <td>0.966291</td>\n",
       "    </tr>\n",
       "    <tr>\n",
       "      <th>1</th>\n",
       "      <td>botnet</td>\n",
       "      <td>0.000000</td>\n",
       "      <td>0.000000</td>\n",
       "      <td>0.000000</td>\n",
       "    </tr>\n",
       "    <tr>\n",
       "      <th>2</th>\n",
       "      <td>brute_force</td>\n",
       "      <td>0.998739</td>\n",
       "      <td>0.286231</td>\n",
       "      <td>0.444944</td>\n",
       "    </tr>\n",
       "    <tr>\n",
       "      <th>3</th>\n",
       "      <td>ddos</td>\n",
       "      <td>0.987079</td>\n",
       "      <td>0.844327</td>\n",
       "      <td>0.910140</td>\n",
       "    </tr>\n",
       "    <tr>\n",
       "      <th>4</th>\n",
       "      <td>dos</td>\n",
       "      <td>0.942369</td>\n",
       "      <td>0.768841</td>\n",
       "      <td>0.846807</td>\n",
       "    </tr>\n",
       "    <tr>\n",
       "      <th>5</th>\n",
       "      <td>probe</td>\n",
       "      <td>0.731090</td>\n",
       "      <td>0.983533</td>\n",
       "      <td>0.838728</td>\n",
       "    </tr>\n",
       "    <tr>\n",
       "      <th>6</th>\n",
       "      <td>web_attack</td>\n",
       "      <td>0.000000</td>\n",
       "      <td>0.000000</td>\n",
       "      <td>0.000000</td>\n",
       "    </tr>\n",
       "  </tbody>\n",
       "</table>\n",
       "</div>"
      ],
      "text/plain": [
       "        attack  precision    recall    fscore\n",
       "0       benign   0.961307  0.971327  0.966291\n",
       "1       botnet   0.000000  0.000000  0.000000\n",
       "2  brute_force   0.998739  0.286231  0.444944\n",
       "3         ddos   0.987079  0.844327  0.910140\n",
       "4          dos   0.942369  0.768841  0.846807\n",
       "5        probe   0.731090  0.983533  0.838728\n",
       "6   web_attack   0.000000  0.000000  0.000000"
      ]
     },
     "execution_count": 49,
     "metadata": {},
     "output_type": "execute_result"
    }
   ],
   "source": [
    "# Precision,Recall,F1-score for SVM classifier on multi-class labels.\n",
    "\n",
    "precision, recall, fscore, support = score(y_validate.Label_Category, y_predict)\n",
    "d = {'attack': attack_groups, 'precision': precision, 'recall' : recall, 'fscore': fscore}\n",
    "results = pd.DataFrame(data=d)\n",
    "results"
   ]
  },
  {
   "cell_type": "code",
   "execution_count": 50,
   "metadata": {},
   "outputs": [
    {
     "name": "stdout",
     "output_type": "stream",
     "text": [
      "Accuracy of SVM classifier on multi-class labels :  0.9434756932042817\n"
     ]
    }
   ],
   "source": [
    "# Average Accuracy,Precision,Recall,F1-score for SVM classifier on multi-class labels.\n",
    "\n",
    "precision_svm_3, recall_svm_3, fscore_svm_3, n = score(y_validate.Label_Category, y_predict, average='macro')\n",
    "accuracy_svm_3 = accuracy_score(y_validate.Label_Category, y_predict)\n",
    "print(\"Accuracy of SVM classifier on multi-class labels : \", accuracy_svm_3)"
   ]
  },
  {
   "cell_type": "code",
   "execution_count": null,
   "metadata": {},
   "outputs": [],
   "source": []
  },
  {
   "cell_type": "markdown",
   "metadata": {},
   "source": [
    "### Results for SVM:"
   ]
  },
  {
   "cell_type": "code",
   "execution_count": 51,
   "metadata": {},
   "outputs": [
    {
     "name": "stdout",
     "output_type": "stream",
     "text": [
      "Support Vector Machine: Precision / Recall / Fscore / Accuracy\n",
      "All Labels: 0.6078354200082602 0.5126048603294849 0.5457063537203636 0.9476361566017519\n",
      "Binary Labels: 0.8930495347366538 0.8704536041514149 0.8811100345781537 0.9269664510699093\n",
      "Multi-class Labels: 0.66008344887583 0.5506085077381077 0.5724156218459238 0.9434756932042817\n"
     ]
    }
   ],
   "source": [
    "print('Support Vector Machine: Precision / Recall / Fscore / Accuracy')\n",
    "\n",
    "print('All Labels:', precision_svm_1, recall_svm_1, fscore_svm_1,  accuracy_svm_1)\n",
    "print('Binary Labels:', precision_svm_2, recall_svm_2, fscore_svm_2, accuracy_svm_2)\n",
    "print('Multi-class Labels:', precision_svm_3, recall_svm_3, fscore_svm_3, accuracy_svm_3)"
   ]
  },
  {
   "cell_type": "code",
   "execution_count": null,
   "metadata": {},
   "outputs": [],
   "source": []
  },
  {
   "cell_type": "code",
   "execution_count": null,
   "metadata": {},
   "outputs": [],
   "source": []
  },
  {
   "cell_type": "markdown",
   "metadata": {},
   "source": [
    "# 2. Decision Tree"
   ]
  },
  {
   "cell_type": "code",
   "execution_count": 52,
   "metadata": {},
   "outputs": [],
   "source": [
    "classifier = DecisionTreeClassifier(random_state = 0)"
   ]
  },
  {
   "cell_type": "markdown",
   "metadata": {},
   "source": [
    "1. a) On all attack labels."
   ]
  },
  {
   "cell_type": "code",
   "execution_count": 53,
   "metadata": {},
   "outputs": [
    {
     "name": "stdout",
     "output_type": "stream",
     "text": [
      "Model Training Time is :  112.55840706825256\n"
     ]
    }
   ],
   "source": [
    "# fit the model\n",
    "\n",
    "start = time.time()\n",
    "classifier.fit(x_train, y_train.Label)\n",
    "end = time.time()\n",
    "training_time = end - start\n",
    "\n",
    "print(\"Model Training Time is : \", training_time)"
   ]
  },
  {
   "cell_type": "code",
   "execution_count": 54,
   "metadata": {},
   "outputs": [
    {
     "name": "stdout",
     "output_type": "stream",
     "text": [
      "Model Testing Time is :  0.24280858039855957\n"
     ]
    }
   ],
   "source": [
    "# predicting test results of Decision Tree classifier on all labels.\n",
    "\n",
    "start = time.time()\n",
    "y_predict = classifier.predict(x_validate)\n",
    "end = time.time()\n",
    "testing_time = end  - start\n",
    "\n",
    "print(\"Model Testing Time is : \", testing_time)"
   ]
  },
  {
   "cell_type": "code",
   "execution_count": 55,
   "metadata": {},
   "outputs": [
    {
     "name": "stdout",
     "output_type": "stream",
     "text": [
      "Plotting Confusion Matrix of Decision Tree classifier on all Labels \n"
     ]
    },
    {
     "data": {
      "image/png": "[encoded data removed]",
      "text/plain": [
       "<Figure size 432x288 with 2 Axes>"
      ]
     },
     "metadata": {
      "needs_background": "light"
     },
     "output_type": "display_data"
    },
    {
     "data": {
      "text/html": [
       "<div>\n",
       "<style scoped>\n",
       "    .dataframe tbody tr th:only-of-type {\n",
       "        vertical-align: middle;\n",
       "    }\n",
       "\n",
       "    .dataframe tbody tr th {\n",
       "        vertical-align: top;\n",
       "    }\n",
       "\n",
       "    .dataframe thead th {\n",
       "        text-align: right;\n",
       "    }\n",
       "</style>\n",
       "<table border=\"1\" class=\"dataframe\">\n",
       "  <thead>\n",
       "    <tr style=\"text-align: right;\">\n",
       "      <th>Predicted attacks</th>\n",
       "      <th>BENIGN</th>\n",
       "      <th>Bot</th>\n",
       "      <th>Brute Force</th>\n",
       "      <th>DDoS</th>\n",
       "      <th>DoS GoldenEye</th>\n",
       "      <th>DoS Hulk</th>\n",
       "      <th>DoS Slowhttptest</th>\n",
       "      <th>DoS slowloris</th>\n",
       "      <th>FTP-Patator</th>\n",
       "      <th>PortScan</th>\n",
       "      <th>SSH-Patator</th>\n",
       "      <th>XSS</th>\n",
       "    </tr>\n",
       "    <tr>\n",
       "      <th>Actual Attacks</th>\n",
       "      <th></th>\n",
       "      <th></th>\n",
       "      <th></th>\n",
       "      <th></th>\n",
       "      <th></th>\n",
       "      <th></th>\n",
       "      <th></th>\n",
       "      <th></th>\n",
       "      <th></th>\n",
       "      <th></th>\n",
       "      <th></th>\n",
       "      <th></th>\n",
       "    </tr>\n",
       "  </thead>\n",
       "  <tbody>\n",
       "    <tr>\n",
       "      <th>BENIGN</th>\n",
       "      <td>454154</td>\n",
       "      <td>16</td>\n",
       "      <td>7</td>\n",
       "      <td>9</td>\n",
       "      <td>3</td>\n",
       "      <td>51</td>\n",
       "      <td>6</td>\n",
       "      <td>4</td>\n",
       "      <td>1</td>\n",
       "      <td>8</td>\n",
       "      <td>0</td>\n",
       "      <td>6</td>\n",
       "    </tr>\n",
       "    <tr>\n",
       "      <th>Bot</th>\n",
       "      <td>13</td>\n",
       "      <td>378</td>\n",
       "      <td>0</td>\n",
       "      <td>0</td>\n",
       "      <td>0</td>\n",
       "      <td>0</td>\n",
       "      <td>0</td>\n",
       "      <td>0</td>\n",
       "      <td>0</td>\n",
       "      <td>0</td>\n",
       "      <td>0</td>\n",
       "      <td>0</td>\n",
       "    </tr>\n",
       "    <tr>\n",
       "      <th>Brute Force</th>\n",
       "      <td>1</td>\n",
       "      <td>0</td>\n",
       "      <td>300</td>\n",
       "      <td>0</td>\n",
       "      <td>0</td>\n",
       "      <td>0</td>\n",
       "      <td>0</td>\n",
       "      <td>0</td>\n",
       "      <td>0</td>\n",
       "      <td>0</td>\n",
       "      <td>0</td>\n",
       "      <td>0</td>\n",
       "    </tr>\n",
       "    <tr>\n",
       "      <th>DDoS</th>\n",
       "      <td>9</td>\n",
       "      <td>0</td>\n",
       "      <td>0</td>\n",
       "      <td>25595</td>\n",
       "      <td>0</td>\n",
       "      <td>0</td>\n",
       "      <td>1</td>\n",
       "      <td>0</td>\n",
       "      <td>0</td>\n",
       "      <td>0</td>\n",
       "      <td>0</td>\n",
       "      <td>0</td>\n",
       "    </tr>\n",
       "    <tr>\n",
       "      <th>DoS GoldenEye</th>\n",
       "      <td>1</td>\n",
       "      <td>0</td>\n",
       "      <td>0</td>\n",
       "      <td>0</td>\n",
       "      <td>2056</td>\n",
       "      <td>0</td>\n",
       "      <td>1</td>\n",
       "      <td>0</td>\n",
       "      <td>0</td>\n",
       "      <td>0</td>\n",
       "      <td>0</td>\n",
       "      <td>0</td>\n",
       "    </tr>\n",
       "    <tr>\n",
       "      <th>DoS Hulk</th>\n",
       "      <td>55</td>\n",
       "      <td>0</td>\n",
       "      <td>0</td>\n",
       "      <td>0</td>\n",
       "      <td>0</td>\n",
       "      <td>45969</td>\n",
       "      <td>0</td>\n",
       "      <td>0</td>\n",
       "      <td>0</td>\n",
       "      <td>0</td>\n",
       "      <td>0</td>\n",
       "      <td>1</td>\n",
       "    </tr>\n",
       "    <tr>\n",
       "      <th>DoS Slowhttptest</th>\n",
       "      <td>1</td>\n",
       "      <td>0</td>\n",
       "      <td>0</td>\n",
       "      <td>0</td>\n",
       "      <td>0</td>\n",
       "      <td>0</td>\n",
       "      <td>1099</td>\n",
       "      <td>0</td>\n",
       "      <td>0</td>\n",
       "      <td>0</td>\n",
       "      <td>0</td>\n",
       "      <td>0</td>\n",
       "    </tr>\n",
       "    <tr>\n",
       "      <th>DoS slowloris</th>\n",
       "      <td>4</td>\n",
       "      <td>0</td>\n",
       "      <td>0</td>\n",
       "      <td>0</td>\n",
       "      <td>0</td>\n",
       "      <td>0</td>\n",
       "      <td>0</td>\n",
       "      <td>1155</td>\n",
       "      <td>0</td>\n",
       "      <td>0</td>\n",
       "      <td>0</td>\n",
       "      <td>0</td>\n",
       "    </tr>\n",
       "    <tr>\n",
       "      <th>FTP-Patator</th>\n",
       "      <td>0</td>\n",
       "      <td>0</td>\n",
       "      <td>0</td>\n",
       "      <td>0</td>\n",
       "      <td>0</td>\n",
       "      <td>0</td>\n",
       "      <td>0</td>\n",
       "      <td>0</td>\n",
       "      <td>1587</td>\n",
       "      <td>0</td>\n",
       "      <td>0</td>\n",
       "      <td>0</td>\n",
       "    </tr>\n",
       "    <tr>\n",
       "      <th>PortScan</th>\n",
       "      <td>5</td>\n",
       "      <td>0</td>\n",
       "      <td>0</td>\n",
       "      <td>0</td>\n",
       "      <td>0</td>\n",
       "      <td>0</td>\n",
       "      <td>0</td>\n",
       "      <td>0</td>\n",
       "      <td>0</td>\n",
       "      <td>31753</td>\n",
       "      <td>0</td>\n",
       "      <td>3</td>\n",
       "    </tr>\n",
       "    <tr>\n",
       "      <th>SSH-Patator</th>\n",
       "      <td>1</td>\n",
       "      <td>0</td>\n",
       "      <td>0</td>\n",
       "      <td>0</td>\n",
       "      <td>0</td>\n",
       "      <td>0</td>\n",
       "      <td>0</td>\n",
       "      <td>0</td>\n",
       "      <td>1</td>\n",
       "      <td>0</td>\n",
       "      <td>1178</td>\n",
       "      <td>0</td>\n",
       "    </tr>\n",
       "    <tr>\n",
       "      <th>XSS</th>\n",
       "      <td>1</td>\n",
       "      <td>0</td>\n",
       "      <td>1</td>\n",
       "      <td>0</td>\n",
       "      <td>0</td>\n",
       "      <td>0</td>\n",
       "      <td>0</td>\n",
       "      <td>0</td>\n",
       "      <td>0</td>\n",
       "      <td>1</td>\n",
       "      <td>0</td>\n",
       "      <td>127</td>\n",
       "    </tr>\n",
       "  </tbody>\n",
       "</table>\n",
       "</div>"
      ],
      "text/plain": [
       "Predicted attacks  BENIGN  Bot  Brute Force   DDoS  DoS GoldenEye  DoS Hulk  \\\n",
       "Actual Attacks                                                                \n",
       "BENIGN             454154   16            7      9              3        51   \n",
       "Bot                    13  378            0      0              0         0   \n",
       "Brute Force             1    0          300      0              0         0   \n",
       "DDoS                    9    0            0  25595              0         0   \n",
       "DoS GoldenEye           1    0            0      0           2056         0   \n",
       "DoS Hulk               55    0            0      0              0     45969   \n",
       "DoS Slowhttptest        1    0            0      0              0         0   \n",
       "DoS slowloris           4    0            0      0              0         0   \n",
       "FTP-Patator             0    0            0      0              0         0   \n",
       "PortScan                5    0            0      0              0         0   \n",
       "SSH-Patator             1    0            0      0              0         0   \n",
       "XSS                     1    0            1      0              0         0   \n",
       "\n",
       "Predicted attacks  DoS Slowhttptest  DoS slowloris  FTP-Patator  PortScan  \\\n",
       "Actual Attacks                                                              \n",
       "BENIGN                            6              4            1         8   \n",
       "Bot                               0              0            0         0   \n",
       "Brute Force                       0              0            0         0   \n",
       "DDoS                              1              0            0         0   \n",
       "DoS GoldenEye                     1              0            0         0   \n",
       "DoS Hulk                          0              0            0         0   \n",
       "DoS Slowhttptest               1099              0            0         0   \n",
       "DoS slowloris                     0           1155            0         0   \n",
       "FTP-Patator                       0              0         1587         0   \n",
       "PortScan                          0              0            0     31753   \n",
       "SSH-Patator                       0              0            1         0   \n",
       "XSS                               0              0            0         1   \n",
       "\n",
       "Predicted attacks  SSH-Patator  XSS  \n",
       "Actual Attacks                       \n",
       "BENIGN                       0    6  \n",
       "Bot                          0    0  \n",
       "Brute Force                  0    0  \n",
       "DDoS                         0    0  \n",
       "DoS GoldenEye                0    0  \n",
       "DoS Hulk                     0    1  \n",
       "DoS Slowhttptest             0    0  \n",
       "DoS slowloris                0    0  \n",
       "FTP-Patator                  0    0  \n",
       "PortScan                     0    3  \n",
       "SSH-Patator               1178    0  \n",
       "XSS                          0  127  "
      ]
     },
     "execution_count": 55,
     "metadata": {},
     "output_type": "execute_result"
    }
   ],
   "source": [
    "# Creating confusion matrix for Decision Tree classifier on all labels.\n",
    "\n",
    "confusion_dt_1 = pd.crosstab(y_validate.Label, y_predict, rownames=['Actual Attacks'], colnames=['Predicted attacks'])\n",
    "\n",
    "print(\"Plotting Confusion Matrix of Decision Tree classifier on all Labels \")\n",
    "\n",
    "sn.heatmap(confusion_dt_1, annot=True, cmap= 'Blues', fmt='d')\n",
    "plt.show()\n",
    "confusion_dt_1"
   ]
  },
  {
   "cell_type": "code",
   "execution_count": 56,
   "metadata": {},
   "outputs": [
    {
     "data": {
      "text/html": [
       "<div>\n",
       "<style scoped>\n",
       "    .dataframe tbody tr th:only-of-type {\n",
       "        vertical-align: middle;\n",
       "    }\n",
       "\n",
       "    .dataframe tbody tr th {\n",
       "        vertical-align: top;\n",
       "    }\n",
       "\n",
       "    .dataframe thead th {\n",
       "        text-align: right;\n",
       "    }\n",
       "</style>\n",
       "<table border=\"1\" class=\"dataframe\">\n",
       "  <thead>\n",
       "    <tr style=\"text-align: right;\">\n",
       "      <th></th>\n",
       "      <th>attack</th>\n",
       "      <th>precision</th>\n",
       "      <th>recall</th>\n",
       "      <th>fscore</th>\n",
       "    </tr>\n",
       "  </thead>\n",
       "  <tbody>\n",
       "    <tr>\n",
       "      <th>0</th>\n",
       "      <td>BENIGN</td>\n",
       "      <td>0.999800</td>\n",
       "      <td>0.999756</td>\n",
       "      <td>0.999778</td>\n",
       "    </tr>\n",
       "    <tr>\n",
       "      <th>1</th>\n",
       "      <td>Bot</td>\n",
       "      <td>0.959391</td>\n",
       "      <td>0.966752</td>\n",
       "      <td>0.963057</td>\n",
       "    </tr>\n",
       "    <tr>\n",
       "      <th>2</th>\n",
       "      <td>Brute Force</td>\n",
       "      <td>0.974026</td>\n",
       "      <td>0.996678</td>\n",
       "      <td>0.985222</td>\n",
       "    </tr>\n",
       "    <tr>\n",
       "      <th>3</th>\n",
       "      <td>DDoS</td>\n",
       "      <td>0.999648</td>\n",
       "      <td>0.999609</td>\n",
       "      <td>0.999629</td>\n",
       "    </tr>\n",
       "    <tr>\n",
       "      <th>4</th>\n",
       "      <td>DoS GoldenEye</td>\n",
       "      <td>0.998543</td>\n",
       "      <td>0.999028</td>\n",
       "      <td>0.998786</td>\n",
       "    </tr>\n",
       "    <tr>\n",
       "      <th>5</th>\n",
       "      <td>DoS Hulk</td>\n",
       "      <td>0.998892</td>\n",
       "      <td>0.998783</td>\n",
       "      <td>0.998838</td>\n",
       "    </tr>\n",
       "    <tr>\n",
       "      <th>6</th>\n",
       "      <td>DoS Slowhttptest</td>\n",
       "      <td>0.992773</td>\n",
       "      <td>0.999091</td>\n",
       "      <td>0.995922</td>\n",
       "    </tr>\n",
       "    <tr>\n",
       "      <th>7</th>\n",
       "      <td>DoS slowloris</td>\n",
       "      <td>0.996549</td>\n",
       "      <td>0.996549</td>\n",
       "      <td>0.996549</td>\n",
       "    </tr>\n",
       "    <tr>\n",
       "      <th>8</th>\n",
       "      <td>FTP-Patator</td>\n",
       "      <td>0.998741</td>\n",
       "      <td>1.000000</td>\n",
       "      <td>0.999370</td>\n",
       "    </tr>\n",
       "    <tr>\n",
       "      <th>9</th>\n",
       "      <td>PortScan</td>\n",
       "      <td>0.999717</td>\n",
       "      <td>0.999748</td>\n",
       "      <td>0.999732</td>\n",
       "    </tr>\n",
       "    <tr>\n",
       "      <th>10</th>\n",
       "      <td>SSH-Patator</td>\n",
       "      <td>1.000000</td>\n",
       "      <td>0.998305</td>\n",
       "      <td>0.999152</td>\n",
       "    </tr>\n",
       "    <tr>\n",
       "      <th>11</th>\n",
       "      <td>XSS</td>\n",
       "      <td>0.927007</td>\n",
       "      <td>0.976923</td>\n",
       "      <td>0.951311</td>\n",
       "    </tr>\n",
       "  </tbody>\n",
       "</table>\n",
       "</div>"
      ],
      "text/plain": [
       "              attack  precision    recall    fscore\n",
       "0             BENIGN   0.999800  0.999756  0.999778\n",
       "1                Bot   0.959391  0.966752  0.963057\n",
       "2        Brute Force   0.974026  0.996678  0.985222\n",
       "3               DDoS   0.999648  0.999609  0.999629\n",
       "4      DoS GoldenEye   0.998543  0.999028  0.998786\n",
       "5           DoS Hulk   0.998892  0.998783  0.998838\n",
       "6   DoS Slowhttptest   0.992773  0.999091  0.995922\n",
       "7      DoS slowloris   0.996549  0.996549  0.996549\n",
       "8        FTP-Patator   0.998741  1.000000  0.999370\n",
       "9           PortScan   0.999717  0.999748  0.999732\n",
       "10       SSH-Patator   1.000000  0.998305  0.999152\n",
       "11               XSS   0.927007  0.976923  0.951311"
      ]
     },
     "execution_count": 56,
     "metadata": {},
     "output_type": "execute_result"
    }
   ],
   "source": [
    "# Precision,Recall,F1-score for Decision Tree classifier on all labels.\n",
    "\n",
    "precision, recall, fscore, support = score(y_validate.Label, y_predict)\n",
    "\n",
    "d = {'attack': attack, 'precision': precision, 'recall' : recall, 'fscore': fscore}\n",
    "results = pd.DataFrame(data=d)\n",
    "results"
   ]
  },
  {
   "cell_type": "code",
   "execution_count": 57,
   "metadata": {},
   "outputs": [
    {
     "name": "stdout",
     "output_type": "stream",
     "text": [
      "Accuracy of Decision Tree classifier on all labels :  0.9996269197718376\n"
     ]
    }
   ],
   "source": [
    "# Average Accuracy,Precision,Recall,F1-score for Decision Tree classifier on all labels.\n",
    "\n",
    "precision_dt_1, recall_dt_1, fscore_dt_1, support = score(y_validate.Label, y_predict, average='macro')\n",
    "accuracy_dt_1 = accuracy_score(y_validate.Label, y_predict)\n",
    "print(\"Accuracy of Decision Tree classifier on all labels : \", accuracy_dt_1)"
   ]
  },
  {
   "cell_type": "code",
   "execution_count": 58,
   "metadata": {},
   "outputs": [],
   "source": [
    "# 1. b) Binary Classifier."
   ]
  },
  {
   "cell_type": "code",
   "execution_count": 59,
   "metadata": {},
   "outputs": [
    {
     "name": "stdout",
     "output_type": "stream",
     "text": [
      "Model Training Time is :  103.06987261772156\n"
     ]
    }
   ],
   "source": [
    "# fit the model\n",
    "\n",
    "start = time.time()\n",
    "classifier.fit(x_train, y_train.Attack)\n",
    "end = time.time()\n",
    "training_time = end - start\n",
    "\n",
    "print(\"Model Training Time is : \", training_time)"
   ]
  },
  {
   "cell_type": "code",
   "execution_count": 60,
   "metadata": {},
   "outputs": [
    {
     "name": "stdout",
     "output_type": "stream",
     "text": [
      "Model Testing Time is :  0.18704795837402344\n"
     ]
    }
   ],
   "source": [
    "# predicting test results of Decision Tree classifier on binary labels.\n",
    "\n",
    "start = time.time()\n",
    "y_predict = classifier.predict(x_validate)\n",
    "end = time.time()\n",
    "testing_time = end  - start\n",
    "\n",
    "print(\"Model Testing Time is : \", testing_time)"
   ]
  },
  {
   "cell_type": "code",
   "execution_count": 61,
   "metadata": {},
   "outputs": [
    {
     "name": "stdout",
     "output_type": "stream",
     "text": [
      "Plotting Confusion Matrix of Decision Tree classifier on binary Labels \n"
     ]
    },
    {
     "data": {
      "image/png": "[encoded data removed]",
      "text/plain": [
       "<Figure size 432x288 with 2 Axes>"
      ]
     },
     "metadata": {
      "needs_background": "light"
     },
     "output_type": "display_data"
    },
    {
     "data": {
      "text/html": [
       "<div>\n",
       "<style scoped>\n",
       "    .dataframe tbody tr th:only-of-type {\n",
       "        vertical-align: middle;\n",
       "    }\n",
       "\n",
       "    .dataframe tbody tr th {\n",
       "        vertical-align: top;\n",
       "    }\n",
       "\n",
       "    .dataframe thead th {\n",
       "        text-align: right;\n",
       "    }\n",
       "</style>\n",
       "<table border=\"1\" class=\"dataframe\">\n",
       "  <thead>\n",
       "    <tr style=\"text-align: right;\">\n",
       "      <th>Predicted attacks</th>\n",
       "      <th>Attack</th>\n",
       "      <th>Normal</th>\n",
       "    </tr>\n",
       "    <tr>\n",
       "      <th>Actual Attacks</th>\n",
       "      <th></th>\n",
       "      <th></th>\n",
       "    </tr>\n",
       "  </thead>\n",
       "  <tbody>\n",
       "    <tr>\n",
       "      <th>Attack</th>\n",
       "      <td>111209</td>\n",
       "      <td>88</td>\n",
       "    </tr>\n",
       "    <tr>\n",
       "      <th>Normal</th>\n",
       "      <td>97</td>\n",
       "      <td>454168</td>\n",
       "    </tr>\n",
       "  </tbody>\n",
       "</table>\n",
       "</div>"
      ],
      "text/plain": [
       "Predicted attacks  Attack  Normal\n",
       "Actual Attacks                   \n",
       "Attack             111209      88\n",
       "Normal                 97  454168"
      ]
     },
     "execution_count": 61,
     "metadata": {},
     "output_type": "execute_result"
    }
   ],
   "source": [
    "# Creating confusion matrix for Decision Tree classifier on binary labels.\n",
    "\n",
    "confusion_dt_2 = pd.crosstab(y_validate.Attack, y_predict, rownames=['Actual Attacks'], colnames=['Predicted attacks'])\n",
    "\n",
    "print(\"Plotting Confusion Matrix of Decision Tree classifier on binary Labels \")\n",
    "\n",
    "sn.heatmap(confusion_dt_2, annot=True, cmap= 'Blues', fmt='d')\n",
    "plt.show()\n",
    "confusion_dt_2"
   ]
  },
  {
   "cell_type": "code",
   "execution_count": 62,
   "metadata": {},
   "outputs": [
    {
     "data": {
      "text/html": [
       "<div>\n",
       "<style scoped>\n",
       "    .dataframe tbody tr th:only-of-type {\n",
       "        vertical-align: middle;\n",
       "    }\n",
       "\n",
       "    .dataframe tbody tr th {\n",
       "        vertical-align: top;\n",
       "    }\n",
       "\n",
       "    .dataframe thead th {\n",
       "        text-align: right;\n",
       "    }\n",
       "</style>\n",
       "<table border=\"1\" class=\"dataframe\">\n",
       "  <thead>\n",
       "    <tr style=\"text-align: right;\">\n",
       "      <th></th>\n",
       "      <th>attack</th>\n",
       "      <th>precision</th>\n",
       "      <th>recall</th>\n",
       "      <th>fscore</th>\n",
       "    </tr>\n",
       "  </thead>\n",
       "  <tbody>\n",
       "    <tr>\n",
       "      <th>0</th>\n",
       "      <td>0</td>\n",
       "      <td>0.999129</td>\n",
       "      <td>0.999209</td>\n",
       "      <td>0.999169</td>\n",
       "    </tr>\n",
       "    <tr>\n",
       "      <th>1</th>\n",
       "      <td>1</td>\n",
       "      <td>0.999806</td>\n",
       "      <td>0.999786</td>\n",
       "      <td>0.999796</td>\n",
       "    </tr>\n",
       "  </tbody>\n",
       "</table>\n",
       "</div>"
      ],
      "text/plain": [
       "   attack  precision    recall    fscore\n",
       "0       0   0.999129  0.999209  0.999169\n",
       "1       1   0.999806  0.999786  0.999796"
      ]
     },
     "execution_count": 62,
     "metadata": {},
     "output_type": "execute_result"
    }
   ],
   "source": [
    "# Precision,Recall,F1-score for Decision Tree classifier on binary labels.\n",
    "\n",
    "precision, recall, fscore, support = score(y_validate.Attack, y_predict)\n",
    "d = {'attack': [0,1], 'precision': precision, 'recall' : recall, 'fscore': fscore}\n",
    "results = pd.DataFrame(data=d)\n",
    "results"
   ]
  },
  {
   "cell_type": "code",
   "execution_count": 63,
   "metadata": {},
   "outputs": [
    {
     "name": "stdout",
     "output_type": "stream",
     "text": [
      "Accuracy of Decision Tree classifier on binary labels :  0.9996728917430804\n"
     ]
    }
   ],
   "source": [
    "# Average Accuracy,Precision,Recall,F1-score for Decision Tree classifier on binary labels.\n",
    "\n",
    "precision_dt_2, recall_dt_2, fscore_dt_2, n = score(y_validate.Attack, y_predict, average='macro')\n",
    "accuracy_dt_2 = accuracy_score(y_validate.Attack, y_predict)\n",
    "print(\"Accuracy of Decision Tree classifier on binary labels : \", accuracy_dt_2)"
   ]
  },
  {
   "cell_type": "code",
   "execution_count": 64,
   "metadata": {},
   "outputs": [],
   "source": [
    "# 1. c) Multi-class Classifier."
   ]
  },
  {
   "cell_type": "code",
   "execution_count": 65,
   "metadata": {},
   "outputs": [
    {
     "name": "stdout",
     "output_type": "stream",
     "text": [
      "Model Training Time is :  89.94037556648254\n"
     ]
    }
   ],
   "source": [
    "# fit the model\n",
    "\n",
    "start = time.time()\n",
    "classifier.fit(x_train, y_train.Label_Category)\n",
    "end = time.time()\n",
    "training_time = end - start\n",
    "\n",
    "print(\"Model Training Time is : \", training_time)"
   ]
  },
  {
   "cell_type": "code",
   "execution_count": 66,
   "metadata": {},
   "outputs": [
    {
     "name": "stdout",
     "output_type": "stream",
     "text": [
      "Model Testing Time is :  0.12569069862365723\n"
     ]
    }
   ],
   "source": [
    "# predicting test results of Decision Tree classifier on multi-class labels.\n",
    "\n",
    "start = time.time()\n",
    "y_predict = classifier.predict(x_validate)\n",
    "end = time.time()\n",
    "testing_time = end  - start\n",
    "\n",
    "print(\"Model Testing Time is : \", testing_time)"
   ]
  },
  {
   "cell_type": "code",
   "execution_count": 67,
   "metadata": {},
   "outputs": [
    {
     "name": "stdout",
     "output_type": "stream",
     "text": [
      "Plotting Confusion Matrix of Decision Tree classifier on multi-class Labels \n"
     ]
    },
    {
     "data": {
      "image/png": "[encoded data removed]",
      "text/plain": [
       "<Figure size 432x288 with 2 Axes>"
      ]
     },
     "metadata": {
      "needs_background": "light"
     },
     "output_type": "display_data"
    },
    {
     "data": {
      "text/html": [
       "<div>\n",
       "<style scoped>\n",
       "    .dataframe tbody tr th:only-of-type {\n",
       "        vertical-align: middle;\n",
       "    }\n",
       "\n",
       "    .dataframe tbody tr th {\n",
       "        vertical-align: top;\n",
       "    }\n",
       "\n",
       "    .dataframe thead th {\n",
       "        text-align: right;\n",
       "    }\n",
       "</style>\n",
       "<table border=\"1\" class=\"dataframe\">\n",
       "  <thead>\n",
       "    <tr style=\"text-align: right;\">\n",
       "      <th>Predicted attacks</th>\n",
       "      <th>benign</th>\n",
       "      <th>botnet</th>\n",
       "      <th>brute_force</th>\n",
       "      <th>ddos</th>\n",
       "      <th>dos</th>\n",
       "      <th>probe</th>\n",
       "      <th>web_attack</th>\n",
       "    </tr>\n",
       "    <tr>\n",
       "      <th>Actual Attacks</th>\n",
       "      <th></th>\n",
       "      <th></th>\n",
       "      <th></th>\n",
       "      <th></th>\n",
       "      <th></th>\n",
       "      <th></th>\n",
       "      <th></th>\n",
       "    </tr>\n",
       "  </thead>\n",
       "  <tbody>\n",
       "    <tr>\n",
       "      <th>benign</th>\n",
       "      <td>454155</td>\n",
       "      <td>19</td>\n",
       "      <td>2</td>\n",
       "      <td>6</td>\n",
       "      <td>64</td>\n",
       "      <td>9</td>\n",
       "      <td>10</td>\n",
       "    </tr>\n",
       "    <tr>\n",
       "      <th>botnet</th>\n",
       "      <td>14</td>\n",
       "      <td>377</td>\n",
       "      <td>0</td>\n",
       "      <td>0</td>\n",
       "      <td>0</td>\n",
       "      <td>0</td>\n",
       "      <td>0</td>\n",
       "    </tr>\n",
       "    <tr>\n",
       "      <th>brute_force</th>\n",
       "      <td>0</td>\n",
       "      <td>0</td>\n",
       "      <td>2767</td>\n",
       "      <td>0</td>\n",
       "      <td>0</td>\n",
       "      <td>0</td>\n",
       "      <td>0</td>\n",
       "    </tr>\n",
       "    <tr>\n",
       "      <th>ddos</th>\n",
       "      <td>5</td>\n",
       "      <td>0</td>\n",
       "      <td>0</td>\n",
       "      <td>25600</td>\n",
       "      <td>0</td>\n",
       "      <td>0</td>\n",
       "      <td>0</td>\n",
       "    </tr>\n",
       "    <tr>\n",
       "      <th>dos</th>\n",
       "      <td>55</td>\n",
       "      <td>0</td>\n",
       "      <td>0</td>\n",
       "      <td>0</td>\n",
       "      <td>50287</td>\n",
       "      <td>0</td>\n",
       "      <td>0</td>\n",
       "    </tr>\n",
       "    <tr>\n",
       "      <th>probe</th>\n",
       "      <td>7</td>\n",
       "      <td>0</td>\n",
       "      <td>0</td>\n",
       "      <td>0</td>\n",
       "      <td>1</td>\n",
       "      <td>31753</td>\n",
       "      <td>0</td>\n",
       "    </tr>\n",
       "    <tr>\n",
       "      <th>web_attack</th>\n",
       "      <td>4</td>\n",
       "      <td>0</td>\n",
       "      <td>0</td>\n",
       "      <td>0</td>\n",
       "      <td>2</td>\n",
       "      <td>0</td>\n",
       "      <td>425</td>\n",
       "    </tr>\n",
       "  </tbody>\n",
       "</table>\n",
       "</div>"
      ],
      "text/plain": [
       "Predicted attacks  benign  botnet  brute_force   ddos    dos  probe  \\\n",
       "Actual Attacks                                                        \n",
       "benign             454155      19            2      6     64      9   \n",
       "botnet                 14     377            0      0      0      0   \n",
       "brute_force             0       0         2767      0      0      0   \n",
       "ddos                    5       0            0  25600      0      0   \n",
       "dos                    55       0            0      0  50287      0   \n",
       "probe                   7       0            0      0      1  31753   \n",
       "web_attack              4       0            0      0      2      0   \n",
       "\n",
       "Predicted attacks  web_attack  \n",
       "Actual Attacks                 \n",
       "benign                     10  \n",
       "botnet                      0  \n",
       "brute_force                 0  \n",
       "ddos                        0  \n",
       "dos                         0  \n",
       "probe                       0  \n",
       "web_attack                425  "
      ]
     },
     "execution_count": 67,
     "metadata": {},
     "output_type": "execute_result"
    }
   ],
   "source": [
    "# Creating confusion matrix for Decision Tree classifier on multi-class labels.\n",
    "\n",
    "confusion_dt_3 = pd.crosstab(y_validate.Label_Category, y_predict, rownames=['Actual Attacks'], colnames=['Predicted attacks'])\n",
    "\n",
    "print(\"Plotting Confusion Matrix of Decision Tree classifier on multi-class Labels \")\n",
    "\n",
    "sn.heatmap(confusion_dt_3, annot=True, cmap= 'Blues', fmt='d')\n",
    "plt.show()\n",
    "confusion_dt_3"
   ]
  },
  {
   "cell_type": "code",
   "execution_count": 68,
   "metadata": {},
   "outputs": [
    {
     "data": {
      "text/html": [
       "<div>\n",
       "<style scoped>\n",
       "    .dataframe tbody tr th:only-of-type {\n",
       "        vertical-align: middle;\n",
       "    }\n",
       "\n",
       "    .dataframe tbody tr th {\n",
       "        vertical-align: top;\n",
       "    }\n",
       "\n",
       "    .dataframe thead th {\n",
       "        text-align: right;\n",
       "    }\n",
       "</style>\n",
       "<table border=\"1\" class=\"dataframe\">\n",
       "  <thead>\n",
       "    <tr style=\"text-align: right;\">\n",
       "      <th></th>\n",
       "      <th>attack</th>\n",
       "      <th>precision</th>\n",
       "      <th>recall</th>\n",
       "      <th>fscore</th>\n",
       "    </tr>\n",
       "  </thead>\n",
       "  <tbody>\n",
       "    <tr>\n",
       "      <th>0</th>\n",
       "      <td>benign</td>\n",
       "      <td>0.999813</td>\n",
       "      <td>0.999758</td>\n",
       "      <td>0.999785</td>\n",
       "    </tr>\n",
       "    <tr>\n",
       "      <th>1</th>\n",
       "      <td>botnet</td>\n",
       "      <td>0.952020</td>\n",
       "      <td>0.964194</td>\n",
       "      <td>0.958069</td>\n",
       "    </tr>\n",
       "    <tr>\n",
       "      <th>2</th>\n",
       "      <td>brute_force</td>\n",
       "      <td>0.999278</td>\n",
       "      <td>1.000000</td>\n",
       "      <td>0.999639</td>\n",
       "    </tr>\n",
       "    <tr>\n",
       "      <th>3</th>\n",
       "      <td>ddos</td>\n",
       "      <td>0.999766</td>\n",
       "      <td>0.999805</td>\n",
       "      <td>0.999785</td>\n",
       "    </tr>\n",
       "    <tr>\n",
       "      <th>4</th>\n",
       "      <td>dos</td>\n",
       "      <td>0.998669</td>\n",
       "      <td>0.998907</td>\n",
       "      <td>0.998788</td>\n",
       "    </tr>\n",
       "    <tr>\n",
       "      <th>5</th>\n",
       "      <td>probe</td>\n",
       "      <td>0.999717</td>\n",
       "      <td>0.999748</td>\n",
       "      <td>0.999732</td>\n",
       "    </tr>\n",
       "    <tr>\n",
       "      <th>6</th>\n",
       "      <td>web_attack</td>\n",
       "      <td>0.977011</td>\n",
       "      <td>0.986079</td>\n",
       "      <td>0.981524</td>\n",
       "    </tr>\n",
       "  </tbody>\n",
       "</table>\n",
       "</div>"
      ],
      "text/plain": [
       "        attack  precision    recall    fscore\n",
       "0       benign   0.999813  0.999758  0.999785\n",
       "1       botnet   0.952020  0.964194  0.958069\n",
       "2  brute_force   0.999278  1.000000  0.999639\n",
       "3         ddos   0.999766  0.999805  0.999785\n",
       "4          dos   0.998669  0.998907  0.998788\n",
       "5        probe   0.999717  0.999748  0.999732\n",
       "6   web_attack   0.977011  0.986079  0.981524"
      ]
     },
     "execution_count": 68,
     "metadata": {},
     "output_type": "execute_result"
    }
   ],
   "source": [
    "# Precision,Recall,F1-score for Decision Tree classifier on multi-class labels.\n",
    "\n",
    "precision, recall, fscore, support = score(y_validate.Label_Category, y_predict)\n",
    "d = {'attack': attack_groups, 'precision': precision, 'recall' : recall, 'fscore': fscore}\n",
    "results = pd.DataFrame(data=d)\n",
    "results"
   ]
  },
  {
   "cell_type": "code",
   "execution_count": 69,
   "metadata": {},
   "outputs": [
    {
     "name": "stdout",
     "output_type": "stream",
     "text": [
      "Accuracy of Decision Tree classifier on multi-class labels :  0.9996499057574589\n"
     ]
    }
   ],
   "source": [
    "# Average Accuracy,Precision,Recall,F1-score for Decision Tree classifier on multi-class labels.\n",
    "\n",
    "precision_dt_3, recall_dt_3, fscore_dt_3, n = score(y_validate.Label_Category, y_predict, average='macro')\n",
    "accuracy_dt_3 = accuracy_score(y_validate.Label_Category, y_predict)\n",
    "print(\"Accuracy of Decision Tree classifier on multi-class labels : \", accuracy_dt_3)"
   ]
  },
  {
   "cell_type": "markdown",
   "metadata": {},
   "source": [
    "### Results for Decision Tree:"
   ]
  },
  {
   "cell_type": "code",
   "execution_count": 70,
   "metadata": {},
   "outputs": [
    {
     "name": "stdout",
     "output_type": "stream",
     "text": [
      "Decission Tree Classifier : Precision / Recall / Fscore / Accuracy\n",
      "All Labels: 0.9870905886440647 0.9942685125536538 0.9906120696022297 0.9996269197718376\n",
      "Binary Labels: 0.9994674025989333 0.9994978955269307 0.9994826481972332 0.9996728917430804\n",
      "Multi-class Labels: 0.9894677187232237 0.9926416325133209 0.9910461385301256 0.9996499057574589\n"
     ]
    }
   ],
   "source": [
    "print('Decission Tree Classifier : Precision / Recall / Fscore / Accuracy')\n",
    "\n",
    "print('All Labels:', precision_dt_1, recall_dt_1, fscore_dt_1,  accuracy_dt_1)\n",
    "print('Binary Labels:', precision_dt_2, recall_dt_2, fscore_dt_2, accuracy_dt_2)\n",
    "print('Multi-class Labels:', precision_dt_3, recall_dt_3, fscore_dt_3, accuracy_dt_3)"
   ]
  },
  {
   "cell_type": "code",
   "execution_count": 71,
   "metadata": {},
   "outputs": [],
   "source": [
    "# 3. Naive Bayes Classifier"
   ]
  },
  {
   "cell_type": "code",
   "execution_count": 72,
   "metadata": {},
   "outputs": [],
   "source": [
    "classifier = MultinomialNB()"
   ]
  },
  {
   "cell_type": "code",
   "execution_count": 73,
   "metadata": {},
   "outputs": [],
   "source": [
    "# 1. a) On all attack labels."
   ]
  },
  {
   "cell_type": "code",
   "execution_count": 74,
   "metadata": {},
   "outputs": [
    {
     "name": "stdout",
     "output_type": "stream",
     "text": [
      "Model Training Time is :  7.247187614440918\n"
     ]
    }
   ],
   "source": [
    "# fit the model\n",
    "\n",
    "start = time.time()\n",
    "classifier.fit(x_train, y_train.Label)\n",
    "end = time.time()\n",
    "training_time = end - start\n",
    "\n",
    "print(\"Model Training Time is : \", training_time)"
   ]
  },
  {
   "cell_type": "code",
   "execution_count": 75,
   "metadata": {},
   "outputs": [
    {
     "name": "stdout",
     "output_type": "stream",
     "text": [
      "Model Testing Time is :  0.11592531204223633\n"
     ]
    }
   ],
   "source": [
    "# predicting test results of Naive Bayes classifier on all labels.\n",
    "\n",
    "start = time.time()\n",
    "y_predict = classifier.predict(x_validate)\n",
    "end = time.time()\n",
    "testing_time = end  - start\n",
    "\n",
    "print(\"Model Testing Time is : \", testing_time)"
   ]
  },
  {
   "cell_type": "code",
   "execution_count": 76,
   "metadata": {},
   "outputs": [
    {
     "name": "stdout",
     "output_type": "stream",
     "text": [
      "Plotting Confusion Matrix of Naive Bayes classifier on all Labels \n"
     ]
    },
    {
     "data": {
      "image/png": "[encoded data removed]",
      "text/plain": [
       "<Figure size 432x288 with 2 Axes>"
      ]
     },
     "metadata": {
      "needs_background": "light"
     },
     "output_type": "display_data"
    },
    {
     "data": {
      "text/html": [
       "<div>\n",
       "<style scoped>\n",
       "    .dataframe tbody tr th:only-of-type {\n",
       "        vertical-align: middle;\n",
       "    }\n",
       "\n",
       "    .dataframe tbody tr th {\n",
       "        vertical-align: top;\n",
       "    }\n",
       "\n",
       "    .dataframe thead th {\n",
       "        text-align: right;\n",
       "    }\n",
       "</style>\n",
       "<table border=\"1\" class=\"dataframe\">\n",
       "  <thead>\n",
       "    <tr style=\"text-align: right;\">\n",
       "      <th>Predicted attacks</th>\n",
       "      <th>BENIGN</th>\n",
       "      <th>DDoS</th>\n",
       "      <th>DoS GoldenEye</th>\n",
       "      <th>DoS Hulk</th>\n",
       "      <th>DoS Slowhttptest</th>\n",
       "      <th>DoS slowloris</th>\n",
       "      <th>PortScan</th>\n",
       "    </tr>\n",
       "    <tr>\n",
       "      <th>Actual Attacks</th>\n",
       "      <th></th>\n",
       "      <th></th>\n",
       "      <th></th>\n",
       "      <th></th>\n",
       "      <th></th>\n",
       "      <th></th>\n",
       "      <th></th>\n",
       "    </tr>\n",
       "  </thead>\n",
       "  <tbody>\n",
       "    <tr>\n",
       "      <th>BENIGN</th>\n",
       "      <td>445580</td>\n",
       "      <td>105</td>\n",
       "      <td>18</td>\n",
       "      <td>2961</td>\n",
       "      <td>76</td>\n",
       "      <td>5274</td>\n",
       "      <td>251</td>\n",
       "    </tr>\n",
       "    <tr>\n",
       "      <th>Bot</th>\n",
       "      <td>387</td>\n",
       "      <td>4</td>\n",
       "      <td>0</td>\n",
       "      <td>0</td>\n",
       "      <td>0</td>\n",
       "      <td>0</td>\n",
       "      <td>0</td>\n",
       "    </tr>\n",
       "    <tr>\n",
       "      <th>Brute Force</th>\n",
       "      <td>301</td>\n",
       "      <td>0</td>\n",
       "      <td>0</td>\n",
       "      <td>0</td>\n",
       "      <td>0</td>\n",
       "      <td>0</td>\n",
       "      <td>0</td>\n",
       "    </tr>\n",
       "    <tr>\n",
       "      <th>DDoS</th>\n",
       "      <td>9618</td>\n",
       "      <td>12538</td>\n",
       "      <td>0</td>\n",
       "      <td>3449</td>\n",
       "      <td>0</td>\n",
       "      <td>0</td>\n",
       "      <td>0</td>\n",
       "    </tr>\n",
       "    <tr>\n",
       "      <th>DoS GoldenEye</th>\n",
       "      <td>1609</td>\n",
       "      <td>291</td>\n",
       "      <td>119</td>\n",
       "      <td>0</td>\n",
       "      <td>0</td>\n",
       "      <td>39</td>\n",
       "      <td>0</td>\n",
       "    </tr>\n",
       "    <tr>\n",
       "      <th>DoS Hulk</th>\n",
       "      <td>15557</td>\n",
       "      <td>2337</td>\n",
       "      <td>0</td>\n",
       "      <td>28131</td>\n",
       "      <td>0</td>\n",
       "      <td>0</td>\n",
       "      <td>0</td>\n",
       "    </tr>\n",
       "    <tr>\n",
       "      <th>DoS Slowhttptest</th>\n",
       "      <td>906</td>\n",
       "      <td>0</td>\n",
       "      <td>0</td>\n",
       "      <td>0</td>\n",
       "      <td>194</td>\n",
       "      <td>0</td>\n",
       "      <td>0</td>\n",
       "    </tr>\n",
       "    <tr>\n",
       "      <th>DoS slowloris</th>\n",
       "      <td>924</td>\n",
       "      <td>0</td>\n",
       "      <td>0</td>\n",
       "      <td>0</td>\n",
       "      <td>36</td>\n",
       "      <td>199</td>\n",
       "      <td>0</td>\n",
       "    </tr>\n",
       "    <tr>\n",
       "      <th>FTP-Patator</th>\n",
       "      <td>1587</td>\n",
       "      <td>0</td>\n",
       "      <td>0</td>\n",
       "      <td>0</td>\n",
       "      <td>0</td>\n",
       "      <td>0</td>\n",
       "      <td>0</td>\n",
       "    </tr>\n",
       "    <tr>\n",
       "      <th>PortScan</th>\n",
       "      <td>31729</td>\n",
       "      <td>6</td>\n",
       "      <td>0</td>\n",
       "      <td>0</td>\n",
       "      <td>0</td>\n",
       "      <td>17</td>\n",
       "      <td>9</td>\n",
       "    </tr>\n",
       "    <tr>\n",
       "      <th>SSH-Patator</th>\n",
       "      <td>1180</td>\n",
       "      <td>0</td>\n",
       "      <td>0</td>\n",
       "      <td>0</td>\n",
       "      <td>0</td>\n",
       "      <td>0</td>\n",
       "      <td>0</td>\n",
       "    </tr>\n",
       "    <tr>\n",
       "      <th>XSS</th>\n",
       "      <td>130</td>\n",
       "      <td>0</td>\n",
       "      <td>0</td>\n",
       "      <td>0</td>\n",
       "      <td>0</td>\n",
       "      <td>0</td>\n",
       "      <td>0</td>\n",
       "    </tr>\n",
       "  </tbody>\n",
       "</table>\n",
       "</div>"
      ],
      "text/plain": [
       "Predicted attacks  BENIGN   DDoS  DoS GoldenEye  DoS Hulk  DoS Slowhttptest  \\\n",
       "Actual Attacks                                                                \n",
       "BENIGN             445580    105             18      2961                76   \n",
       "Bot                   387      4              0         0                 0   \n",
       "Brute Force           301      0              0         0                 0   \n",
       "DDoS                 9618  12538              0      3449                 0   \n",
       "DoS GoldenEye        1609    291            119         0                 0   \n",
       "DoS Hulk            15557   2337              0     28131                 0   \n",
       "DoS Slowhttptest      906      0              0         0               194   \n",
       "DoS slowloris         924      0              0         0                36   \n",
       "FTP-Patator          1587      0              0         0                 0   \n",
       "PortScan            31729      6              0         0                 0   \n",
       "SSH-Patator          1180      0              0         0                 0   \n",
       "XSS                   130      0              0         0                 0   \n",
       "\n",
       "Predicted attacks  DoS slowloris  PortScan  \n",
       "Actual Attacks                              \n",
       "BENIGN                      5274       251  \n",
       "Bot                            0         0  \n",
       "Brute Force                    0         0  \n",
       "DDoS                           0         0  \n",
       "DoS GoldenEye                 39         0  \n",
       "DoS Hulk                       0         0  \n",
       "DoS Slowhttptest               0         0  \n",
       "DoS slowloris                199         0  \n",
       "FTP-Patator                    0         0  \n",
       "PortScan                      17         9  \n",
       "SSH-Patator                    0         0  \n",
       "XSS                            0         0  "
      ]
     },
     "execution_count": 76,
     "metadata": {},
     "output_type": "execute_result"
    }
   ],
   "source": [
    "# Creating confusion matrix for Naive Bayes classifier on all labels.\n",
    "\n",
    "confusion_nb_1 = pd.crosstab(y_validate.Label, y_predict, rownames=['Actual Attacks'], colnames=['Predicted attacks'])\n",
    "\n",
    "print(\"Plotting Confusion Matrix of Naive Bayes classifier on all Labels \")\n",
    "\n",
    "sn.heatmap(confusion_nb_1, annot=True, cmap= 'Blues', fmt='d')\n",
    "plt.show()\n",
    "confusion_nb_1"
   ]
  },
  {
   "cell_type": "code",
   "execution_count": 77,
   "metadata": {},
   "outputs": [
    {
     "name": "stderr",
     "output_type": "stream",
     "text": [
      "C:\\Users\\user\\anaconda3\\lib\\site-packages\\sklearn\\metrics\\_classification.py:1245: UndefinedMetricWarning: Precision and F-score are ill-defined and being set to 0.0 in labels with no predicted samples. Use `zero_division` parameter to control this behavior.\n",
      "  _warn_prf(average, modifier, msg_start, len(result))\n"
     ]
    },
    {
     "data": {
      "text/html": [
       "<div>\n",
       "<style scoped>\n",
       "    .dataframe tbody tr th:only-of-type {\n",
       "        vertical-align: middle;\n",
       "    }\n",
       "\n",
       "    .dataframe tbody tr th {\n",
       "        vertical-align: top;\n",
       "    }\n",
       "\n",
       "    .dataframe thead th {\n",
       "        text-align: right;\n",
       "    }\n",
       "</style>\n",
       "<table border=\"1\" class=\"dataframe\">\n",
       "  <thead>\n",
       "    <tr style=\"text-align: right;\">\n",
       "      <th></th>\n",
       "      <th>attack</th>\n",
       "      <th>precision</th>\n",
       "      <th>recall</th>\n",
       "      <th>fscore</th>\n",
       "    </tr>\n",
       "  </thead>\n",
       "  <tbody>\n",
       "    <tr>\n",
       "      <th>0</th>\n",
       "      <td>BENIGN</td>\n",
       "      <td>0.874530</td>\n",
       "      <td>0.980881</td>\n",
       "      <td>0.924658</td>\n",
       "    </tr>\n",
       "    <tr>\n",
       "      <th>1</th>\n",
       "      <td>Bot</td>\n",
       "      <td>0.000000</td>\n",
       "      <td>0.000000</td>\n",
       "      <td>0.000000</td>\n",
       "    </tr>\n",
       "    <tr>\n",
       "      <th>2</th>\n",
       "      <td>Brute Force</td>\n",
       "      <td>0.000000</td>\n",
       "      <td>0.000000</td>\n",
       "      <td>0.000000</td>\n",
       "    </tr>\n",
       "    <tr>\n",
       "      <th>3</th>\n",
       "      <td>DDoS</td>\n",
       "      <td>0.820496</td>\n",
       "      <td>0.489670</td>\n",
       "      <td>0.613315</td>\n",
       "    </tr>\n",
       "    <tr>\n",
       "      <th>4</th>\n",
       "      <td>DoS GoldenEye</td>\n",
       "      <td>0.868613</td>\n",
       "      <td>0.057823</td>\n",
       "      <td>0.108428</td>\n",
       "    </tr>\n",
       "    <tr>\n",
       "      <th>5</th>\n",
       "      <td>DoS Hulk</td>\n",
       "      <td>0.814423</td>\n",
       "      <td>0.611211</td>\n",
       "      <td>0.698334</td>\n",
       "    </tr>\n",
       "    <tr>\n",
       "      <th>6</th>\n",
       "      <td>DoS Slowhttptest</td>\n",
       "      <td>0.633987</td>\n",
       "      <td>0.176364</td>\n",
       "      <td>0.275960</td>\n",
       "    </tr>\n",
       "    <tr>\n",
       "      <th>7</th>\n",
       "      <td>DoS slowloris</td>\n",
       "      <td>0.035992</td>\n",
       "      <td>0.171700</td>\n",
       "      <td>0.059510</td>\n",
       "    </tr>\n",
       "    <tr>\n",
       "      <th>8</th>\n",
       "      <td>FTP-Patator</td>\n",
       "      <td>0.000000</td>\n",
       "      <td>0.000000</td>\n",
       "      <td>0.000000</td>\n",
       "    </tr>\n",
       "    <tr>\n",
       "      <th>9</th>\n",
       "      <td>PortScan</td>\n",
       "      <td>0.034615</td>\n",
       "      <td>0.000283</td>\n",
       "      <td>0.000562</td>\n",
       "    </tr>\n",
       "    <tr>\n",
       "      <th>10</th>\n",
       "      <td>SSH-Patator</td>\n",
       "      <td>0.000000</td>\n",
       "      <td>0.000000</td>\n",
       "      <td>0.000000</td>\n",
       "    </tr>\n",
       "    <tr>\n",
       "      <th>11</th>\n",
       "      <td>XSS</td>\n",
       "      <td>0.000000</td>\n",
       "      <td>0.000000</td>\n",
       "      <td>0.000000</td>\n",
       "    </tr>\n",
       "  </tbody>\n",
       "</table>\n",
       "</div>"
      ],
      "text/plain": [
       "              attack  precision    recall    fscore\n",
       "0             BENIGN   0.874530  0.980881  0.924658\n",
       "1                Bot   0.000000  0.000000  0.000000\n",
       "2        Brute Force   0.000000  0.000000  0.000000\n",
       "3               DDoS   0.820496  0.489670  0.613315\n",
       "4      DoS GoldenEye   0.868613  0.057823  0.108428\n",
       "5           DoS Hulk   0.814423  0.611211  0.698334\n",
       "6   DoS Slowhttptest   0.633987  0.176364  0.275960\n",
       "7      DoS slowloris   0.035992  0.171700  0.059510\n",
       "8        FTP-Patator   0.000000  0.000000  0.000000\n",
       "9           PortScan   0.034615  0.000283  0.000562\n",
       "10       SSH-Patator   0.000000  0.000000  0.000000\n",
       "11               XSS   0.000000  0.000000  0.000000"
      ]
     },
     "execution_count": 77,
     "metadata": {},
     "output_type": "execute_result"
    }
   ],
   "source": [
    "# Precision,Recall,F1-score for Naive Bayes classifier on all labels.\n",
    "\n",
    "precision, recall, fscore, support = score(y_validate.Label, y_predict)\n",
    "\n",
    "d = {'attack': attack, 'precision': precision, 'recall' : recall, 'fscore': fscore}\n",
    "results = pd.DataFrame(data=d)\n",
    "results"
   ]
  },
  {
   "cell_type": "code",
   "execution_count": 78,
   "metadata": {},
   "outputs": [
    {
     "name": "stderr",
     "output_type": "stream",
     "text": [
      "C:\\Users\\user\\anaconda3\\lib\\site-packages\\sklearn\\metrics\\_classification.py:1245: UndefinedMetricWarning: Precision and F-score are ill-defined and being set to 0.0 in labels with no predicted samples. Use `zero_division` parameter to control this behavior.\n",
      "  _warn_prf(average, modifier, msg_start, len(result))\n"
     ]
    },
    {
     "name": "stdout",
     "output_type": "stream",
     "text": [
      "Accuracy of Naive Bayes classifier on all labels :  0.8606837093015443\n"
     ]
    }
   ],
   "source": [
    "# Average Accuracy,Precision,Recall,F1-score for Naive Bayes classifier on all labels.\n",
    "\n",
    "precision_nb_1, recall_nb_1, fscore_nb_1, support = score(y_validate.Label, y_predict, average='macro')\n",
    "accuracy_nb_1 = accuracy_score(y_validate.Label, y_predict)\n",
    "print(\"Accuracy of Naive Bayes classifier on all labels : \", accuracy_nb_1)"
   ]
  },
  {
   "cell_type": "code",
   "execution_count": 79,
   "metadata": {},
   "outputs": [],
   "source": [
    "# 1. b) Binary Classifier."
   ]
  },
  {
   "cell_type": "code",
   "execution_count": 80,
   "metadata": {},
   "outputs": [
    {
     "name": "stdout",
     "output_type": "stream",
     "text": [
      "Model Training Time is :  18.901024341583252\n"
     ]
    }
   ],
   "source": [
    "# fit the model\n",
    "\n",
    "start = time.time()\n",
    "classifier.fit(x_train, y_train.Attack)\n",
    "end = time.time()\n",
    "training_time = end - start\n",
    "\n",
    "print(\"Model Training Time is : \", training_time)"
   ]
  },
  {
   "cell_type": "code",
   "execution_count": 81,
   "metadata": {},
   "outputs": [
    {
     "name": "stdout",
     "output_type": "stream",
     "text": [
      "Model Testing Time is :  0.05728888511657715\n"
     ]
    }
   ],
   "source": [
    "# predicting test results of Naive Bayes classifier on binary labels.\n",
    "\n",
    "start = time.time()\n",
    "y_predict = classifier.predict(x_validate)\n",
    "end = time.time()\n",
    "testing_time = end  - start\n",
    "\n",
    "print(\"Model Testing Time is : \", testing_time)"
   ]
  },
  {
   "cell_type": "code",
   "execution_count": 82,
   "metadata": {},
   "outputs": [
    {
     "name": "stdout",
     "output_type": "stream",
     "text": [
      "Plotting Confusion Matrix of Naive Bayes classifier on binary Labels \n"
     ]
    },
    {
     "data": {
      "image/png": "[encoded data removed]",
      "text/plain": [
       "<Figure size 432x288 with 2 Axes>"
      ]
     },
     "metadata": {
      "needs_background": "light"
     },
     "output_type": "display_data"
    },
    {
     "data": {
      "text/html": [
       "<div>\n",
       "<style scoped>\n",
       "    .dataframe tbody tr th:only-of-type {\n",
       "        vertical-align: middle;\n",
       "    }\n",
       "\n",
       "    .dataframe tbody tr th {\n",
       "        vertical-align: top;\n",
       "    }\n",
       "\n",
       "    .dataframe thead th {\n",
       "        text-align: right;\n",
       "    }\n",
       "</style>\n",
       "<table border=\"1\" class=\"dataframe\">\n",
       "  <thead>\n",
       "    <tr style=\"text-align: right;\">\n",
       "      <th>Predicted attacks</th>\n",
       "      <th>Attack</th>\n",
       "      <th>Normal</th>\n",
       "    </tr>\n",
       "    <tr>\n",
       "      <th>Actual Attacks</th>\n",
       "      <th></th>\n",
       "      <th></th>\n",
       "    </tr>\n",
       "  </thead>\n",
       "  <tbody>\n",
       "    <tr>\n",
       "      <th>Attack</th>\n",
       "      <td>48140</td>\n",
       "      <td>63157</td>\n",
       "    </tr>\n",
       "    <tr>\n",
       "      <th>Normal</th>\n",
       "      <td>12574</td>\n",
       "      <td>441691</td>\n",
       "    </tr>\n",
       "  </tbody>\n",
       "</table>\n",
       "</div>"
      ],
      "text/plain": [
       "Predicted attacks  Attack  Normal\n",
       "Actual Attacks                   \n",
       "Attack              48140   63157\n",
       "Normal              12574  441691"
      ]
     },
     "execution_count": 82,
     "metadata": {},
     "output_type": "execute_result"
    }
   ],
   "source": [
    "# Creating confusion matrix for Naive Bayes classifier on binary labels.\n",
    "\n",
    "confusion_nb_2 = pd.crosstab(y_validate.Attack, y_predict, rownames=['Actual Attacks'], colnames=['Predicted attacks'])\n",
    "\n",
    "print(\"Plotting Confusion Matrix of Naive Bayes classifier on binary Labels \")\n",
    "\n",
    "sn.heatmap(confusion_nb_2, annot=True, cmap= 'Blues', fmt='d')\n",
    "plt.show()\n",
    "confusion_nb_2"
   ]
  },
  {
   "cell_type": "code",
   "execution_count": 83,
   "metadata": {},
   "outputs": [
    {
     "data": {
      "text/html": [
       "<div>\n",
       "<style scoped>\n",
       "    .dataframe tbody tr th:only-of-type {\n",
       "        vertical-align: middle;\n",
       "    }\n",
       "\n",
       "    .dataframe tbody tr th {\n",
       "        vertical-align: top;\n",
       "    }\n",
       "\n",
       "    .dataframe thead th {\n",
       "        text-align: right;\n",
       "    }\n",
       "</style>\n",
       "<table border=\"1\" class=\"dataframe\">\n",
       "  <thead>\n",
       "    <tr style=\"text-align: right;\">\n",
       "      <th></th>\n",
       "      <th>attack</th>\n",
       "      <th>precision</th>\n",
       "      <th>recall</th>\n",
       "      <th>fscore</th>\n",
       "    </tr>\n",
       "  </thead>\n",
       "  <tbody>\n",
       "    <tr>\n",
       "      <th>0</th>\n",
       "      <td>0</td>\n",
       "      <td>0.792898</td>\n",
       "      <td>0.432536</td>\n",
       "      <td>0.559732</td>\n",
       "    </tr>\n",
       "    <tr>\n",
       "      <th>1</th>\n",
       "      <td>1</td>\n",
       "      <td>0.874899</td>\n",
       "      <td>0.972320</td>\n",
       "      <td>0.921041</td>\n",
       "    </tr>\n",
       "  </tbody>\n",
       "</table>\n",
       "</div>"
      ],
      "text/plain": [
       "   attack  precision    recall    fscore\n",
       "0       0   0.792898  0.432536  0.559732\n",
       "1       1   0.874899  0.972320  0.921041"
      ]
     },
     "execution_count": 83,
     "metadata": {},
     "output_type": "execute_result"
    }
   ],
   "source": [
    "# Precision,Recall,F1-score for Naive Bayes classifier on binary labels.\n",
    "\n",
    "precision, recall, fscore, support = score(y_validate.Attack, y_predict)\n",
    "d = {'attack': [0,1], 'precision': precision, 'recall' : recall, 'fscore': fscore}\n",
    "results = pd.DataFrame(data=d)\n",
    "results"
   ]
  },
  {
   "cell_type": "code",
   "execution_count": 84,
   "metadata": {},
   "outputs": [
    {
     "name": "stdout",
     "output_type": "stream",
     "text": [
      "Accuracy of Naive Bayes classifier on binary labels :  0.8660960248390097\n"
     ]
    }
   ],
   "source": [
    "# Average Accuracy,Precision,Recall,F1-score for Naive Bayes classifier on binary labels.\n",
    "\n",
    "precision_nb_2, recall_nb_2, fscore_nb_2, n = score(y_validate.Attack, y_predict, average='macro')\n",
    "accuracy_nb_2 = accuracy_score(y_validate.Attack, y_predict)\n",
    "print(\"Accuracy of Naive Bayes classifier on binary labels : \", accuracy_nb_2)"
   ]
  },
  {
   "cell_type": "code",
   "execution_count": 85,
   "metadata": {},
   "outputs": [],
   "source": [
    "# 1. c) Multi-class Classifier."
   ]
  },
  {
   "cell_type": "code",
   "execution_count": 86,
   "metadata": {},
   "outputs": [
    {
     "name": "stdout",
     "output_type": "stream",
     "text": [
      "Model Training Time is :  4.853246688842773\n"
     ]
    }
   ],
   "source": [
    "# fit the model\n",
    "\n",
    "start = time.time()\n",
    "classifier.fit(x_train, y_train.Label_Category)\n",
    "end = time.time()\n",
    "training_time = end - start\n",
    "\n",
    "print(\"Model Training Time is : \", training_time)"
   ]
  },
  {
   "cell_type": "code",
   "execution_count": 87,
   "metadata": {},
   "outputs": [
    {
     "name": "stdout",
     "output_type": "stream",
     "text": [
      "Model Testing Time is :  0.07313156127929688\n"
     ]
    }
   ],
   "source": [
    "# predicting test results of Naive Bayes classifier on multi-class labels.\n",
    "\n",
    "start = time.time()\n",
    "y_predict = classifier.predict(x_validate)\n",
    "end = time.time()\n",
    "testing_time = end  - start\n",
    "\n",
    "print(\"Model Testing Time is : \", testing_time)"
   ]
  },
  {
   "cell_type": "code",
   "execution_count": 88,
   "metadata": {},
   "outputs": [
    {
     "name": "stdout",
     "output_type": "stream",
     "text": [
      "Plotting Confusion Matrix of Naive Bayes classifier on multi-class Labels \n"
     ]
    },
    {
     "data": {
      "image/png": "[encoded data removed]",
      "text/plain": [
       "<Figure size 432x288 with 2 Axes>"
      ]
     },
     "metadata": {
      "needs_background": "light"
     },
     "output_type": "display_data"
    },
    {
     "data": {
      "text/html": [
       "<div>\n",
       "<style scoped>\n",
       "    .dataframe tbody tr th:only-of-type {\n",
       "        vertical-align: middle;\n",
       "    }\n",
       "\n",
       "    .dataframe tbody tr th {\n",
       "        vertical-align: top;\n",
       "    }\n",
       "\n",
       "    .dataframe thead th {\n",
       "        text-align: right;\n",
       "    }\n",
       "</style>\n",
       "<table border=\"1\" class=\"dataframe\">\n",
       "  <thead>\n",
       "    <tr style=\"text-align: right;\">\n",
       "      <th>Predicted attacks</th>\n",
       "      <th>benign</th>\n",
       "      <th>ddos</th>\n",
       "      <th>dos</th>\n",
       "      <th>probe</th>\n",
       "    </tr>\n",
       "    <tr>\n",
       "      <th>Actual Attacks</th>\n",
       "      <th></th>\n",
       "      <th></th>\n",
       "      <th></th>\n",
       "      <th></th>\n",
       "    </tr>\n",
       "  </thead>\n",
       "  <tbody>\n",
       "    <tr>\n",
       "      <th>benign</th>\n",
       "      <td>442752</td>\n",
       "      <td>99</td>\n",
       "      <td>11163</td>\n",
       "      <td>251</td>\n",
       "    </tr>\n",
       "    <tr>\n",
       "      <th>botnet</th>\n",
       "      <td>387</td>\n",
       "      <td>4</td>\n",
       "      <td>0</td>\n",
       "      <td>0</td>\n",
       "    </tr>\n",
       "    <tr>\n",
       "      <th>brute_force</th>\n",
       "      <td>2767</td>\n",
       "      <td>0</td>\n",
       "      <td>0</td>\n",
       "      <td>0</td>\n",
       "    </tr>\n",
       "    <tr>\n",
       "      <th>ddos</th>\n",
       "      <td>9618</td>\n",
       "      <td>12457</td>\n",
       "      <td>3530</td>\n",
       "      <td>0</td>\n",
       "    </tr>\n",
       "    <tr>\n",
       "      <th>dos</th>\n",
       "      <td>19113</td>\n",
       "      <td>2626</td>\n",
       "      <td>28603</td>\n",
       "      <td>0</td>\n",
       "    </tr>\n",
       "    <tr>\n",
       "      <th>probe</th>\n",
       "      <td>31740</td>\n",
       "      <td>6</td>\n",
       "      <td>6</td>\n",
       "      <td>9</td>\n",
       "    </tr>\n",
       "    <tr>\n",
       "      <th>web_attack</th>\n",
       "      <td>431</td>\n",
       "      <td>0</td>\n",
       "      <td>0</td>\n",
       "      <td>0</td>\n",
       "    </tr>\n",
       "  </tbody>\n",
       "</table>\n",
       "</div>"
      ],
      "text/plain": [
       "Predicted attacks  benign   ddos    dos  probe\n",
       "Actual Attacks                                \n",
       "benign             442752     99  11163    251\n",
       "botnet                387      4      0      0\n",
       "brute_force          2767      0      0      0\n",
       "ddos                 9618  12457   3530      0\n",
       "dos                 19113   2626  28603      0\n",
       "probe               31740      6      6      9\n",
       "web_attack            431      0      0      0"
      ]
     },
     "execution_count": 88,
     "metadata": {},
     "output_type": "execute_result"
    }
   ],
   "source": [
    "# Creating confusion matrix for Naive Bayes classifier on multi-class labels.\n",
    "\n",
    "confusion_nb_3 = pd.crosstab(y_validate.Label_Category, y_predict, rownames=['Actual Attacks'], colnames=['Predicted attacks'])\n",
    "\n",
    "print(\"Plotting Confusion Matrix of Naive Bayes classifier on multi-class Labels \")\n",
    "\n",
    "sn.heatmap(confusion_nb_3, annot=True, cmap= 'Blues', fmt='d')\n",
    "plt.show()\n",
    "confusion_nb_3"
   ]
  },
  {
   "cell_type": "code",
   "execution_count": 89,
   "metadata": {},
   "outputs": [
    {
     "name": "stderr",
     "output_type": "stream",
     "text": [
      "C:\\Users\\user\\anaconda3\\lib\\site-packages\\sklearn\\metrics\\_classification.py:1245: UndefinedMetricWarning: Precision and F-score are ill-defined and being set to 0.0 in labels with no predicted samples. Use `zero_division` parameter to control this behavior.\n",
      "  _warn_prf(average, modifier, msg_start, len(result))\n"
     ]
    },
    {
     "data": {
      "text/html": [
       "<div>\n",
       "<style scoped>\n",
       "    .dataframe tbody tr th:only-of-type {\n",
       "        vertical-align: middle;\n",
       "    }\n",
       "\n",
       "    .dataframe tbody tr th {\n",
       "        vertical-align: top;\n",
       "    }\n",
       "\n",
       "    .dataframe thead th {\n",
       "        text-align: right;\n",
       "    }\n",
       "</style>\n",
       "<table border=\"1\" class=\"dataframe\">\n",
       "  <thead>\n",
       "    <tr style=\"text-align: right;\">\n",
       "      <th></th>\n",
       "      <th>attack</th>\n",
       "      <th>precision</th>\n",
       "      <th>recall</th>\n",
       "      <th>fscore</th>\n",
       "    </tr>\n",
       "  </thead>\n",
       "  <tbody>\n",
       "    <tr>\n",
       "      <th>0</th>\n",
       "      <td>benign</td>\n",
       "      <td>0.873609</td>\n",
       "      <td>0.974656</td>\n",
       "      <td>0.921370</td>\n",
       "    </tr>\n",
       "    <tr>\n",
       "      <th>1</th>\n",
       "      <td>botnet</td>\n",
       "      <td>0.000000</td>\n",
       "      <td>0.000000</td>\n",
       "      <td>0.000000</td>\n",
       "    </tr>\n",
       "    <tr>\n",
       "      <th>2</th>\n",
       "      <td>brute_force</td>\n",
       "      <td>0.000000</td>\n",
       "      <td>0.000000</td>\n",
       "      <td>0.000000</td>\n",
       "    </tr>\n",
       "    <tr>\n",
       "      <th>3</th>\n",
       "      <td>ddos</td>\n",
       "      <td>0.819971</td>\n",
       "      <td>0.486507</td>\n",
       "      <td>0.610682</td>\n",
       "    </tr>\n",
       "    <tr>\n",
       "      <th>4</th>\n",
       "      <td>dos</td>\n",
       "      <td>0.660547</td>\n",
       "      <td>0.568174</td>\n",
       "      <td>0.610888</td>\n",
       "    </tr>\n",
       "    <tr>\n",
       "      <th>5</th>\n",
       "      <td>probe</td>\n",
       "      <td>0.034615</td>\n",
       "      <td>0.000283</td>\n",
       "      <td>0.000562</td>\n",
       "    </tr>\n",
       "    <tr>\n",
       "      <th>6</th>\n",
       "      <td>web_attack</td>\n",
       "      <td>0.000000</td>\n",
       "      <td>0.000000</td>\n",
       "      <td>0.000000</td>\n",
       "    </tr>\n",
       "  </tbody>\n",
       "</table>\n",
       "</div>"
      ],
      "text/plain": [
       "        attack  precision    recall    fscore\n",
       "0       benign   0.873609  0.974656  0.921370\n",
       "1       botnet   0.000000  0.000000  0.000000\n",
       "2  brute_force   0.000000  0.000000  0.000000\n",
       "3         ddos   0.819971  0.486507  0.610682\n",
       "4          dos   0.660547  0.568174  0.610888\n",
       "5        probe   0.034615  0.000283  0.000562\n",
       "6   web_attack   0.000000  0.000000  0.000000"
      ]
     },
     "execution_count": 89,
     "metadata": {},
     "output_type": "execute_result"
    }
   ],
   "source": [
    "# Precision,Recall,F1-score for Naive Bayes classifier on multi-class labels.\n",
    "\n",
    "precision, recall, fscore, support = score(y_validate.Label_Category, y_predict)\n",
    "d = {'attack': attack_groups, 'precision': precision, 'recall' : recall, 'fscore': fscore}\n",
    "results = pd.DataFrame(data=d)\n",
    "results"
   ]
  },
  {
   "cell_type": "code",
   "execution_count": 90,
   "metadata": {},
   "outputs": [
    {
     "name": "stdout",
     "output_type": "stream",
     "text": [
      "Accuracy of Naive Bayes classifier on multi-class labels :  0.8554694268709708\n"
     ]
    },
    {
     "name": "stderr",
     "output_type": "stream",
     "text": [
      "C:\\Users\\user\\anaconda3\\lib\\site-packages\\sklearn\\metrics\\_classification.py:1245: UndefinedMetricWarning: Precision and F-score are ill-defined and being set to 0.0 in labels with no predicted samples. Use `zero_division` parameter to control this behavior.\n",
      "  _warn_prf(average, modifier, msg_start, len(result))\n"
     ]
    }
   ],
   "source": [
    "# Average Accuracy,Precision,Recall,F1-score for Naive Bayes classifier on multi-class labels.\n",
    "\n",
    "precision_nb_3, recall_nb_3, fscore_nb_3, n = score(y_validate.Label_Category, y_predict, average='macro')\n",
    "accuracy_nb_3 = accuracy_score(y_validate.Label_Category, y_predict)\n",
    "print(\"Accuracy of Naive Bayes classifier on multi-class labels : \", accuracy_nb_3)"
   ]
  },
  {
   "cell_type": "code",
   "execution_count": 91,
   "metadata": {},
   "outputs": [],
   "source": [
    "### Results for Naive Bayes:"
   ]
  },
  {
   "cell_type": "code",
   "execution_count": 92,
   "metadata": {},
   "outputs": [
    {
     "name": "stdout",
     "output_type": "stream",
     "text": [
      "Naive Bayes: Precision / Recall / Fscore / Accuracy\n",
      "All Labels: 0.3402214093082901 0.20732769678376894 0.22339725358984744 0.8606837093015443\n",
      "Binary Labels: 0.833898414212936 0.7024282440867775 0.7403861157638703 0.8660960248390097\n",
      "Multi-class Labels: 0.3412488885179302 0.289945623233776 0.3062146442943346 0.8554694268709708\n"
     ]
    }
   ],
   "source": [
    "print('Naive Bayes: Precision / Recall / Fscore / Accuracy')\n",
    "\n",
    "print('All Labels:', precision_nb_1, recall_nb_1, fscore_nb_1,  accuracy_nb_1)\n",
    "print('Binary Labels:', precision_nb_2, recall_nb_2, fscore_nb_2, accuracy_nb_2)\n",
    "print('Multi-class Labels:', precision_nb_3, recall_nb_3, fscore_nb_3, accuracy_nb_3)"
   ]
  },
  {
   "cell_type": "code",
   "execution_count": 93,
   "metadata": {},
   "outputs": [],
   "source": [
    "# 6. Random Forest Classifier"
   ]
  },
  {
   "cell_type": "code",
   "execution_count": 94,
   "metadata": {},
   "outputs": [],
   "source": [
    "classifier =  RandomForestClassifier()"
   ]
  },
  {
   "cell_type": "code",
   "execution_count": 95,
   "metadata": {},
   "outputs": [],
   "source": [
    "# 1. a) On all attack labels."
   ]
  },
  {
   "cell_type": "code",
   "execution_count": 96,
   "metadata": {},
   "outputs": [
    {
     "name": "stdout",
     "output_type": "stream",
     "text": [
      "Model Training Time is :  934.3901979923248\n"
     ]
    }
   ],
   "source": [
    "# fit the model\n",
    "\n",
    "start = time.time()\n",
    "classifier.fit(x_train, y_train.Label)\n",
    "end = time.time()\n",
    "training_time = end - start\n",
    "\n",
    "print(\"Model Training Time is : \", training_time)"
   ]
  },
  {
   "cell_type": "code",
   "execution_count": 97,
   "metadata": {},
   "outputs": [
    {
     "name": "stdout",
     "output_type": "stream",
     "text": [
      "Model Testing Time is :  9.01480770111084\n"
     ]
    }
   ],
   "source": [
    "# predicting test results of Random Forest classifier on all labels.\n",
    "\n",
    "start = time.time()\n",
    "y_predict = classifier.predict(x_validate)\n",
    "end = time.time()\n",
    "testing_time = end  - start\n",
    "\n",
    "print(\"Model Testing Time is : \", testing_time)"
   ]
  },
  {
   "cell_type": "code",
   "execution_count": 98,
   "metadata": {},
   "outputs": [
    {
     "name": "stdout",
     "output_type": "stream",
     "text": [
      "Plotting Confusion Matrix of Random Forest classifier on all Labels \n"
     ]
    },
    {
     "data": {
      "image/png": "[encoded data removed]",
      "text/plain": [
       "<Figure size 432x288 with 2 Axes>"
      ]
     },
     "metadata": {
      "needs_background": "light"
     },
     "output_type": "display_data"
    },
    {
     "data": {
      "text/html": [
       "<div>\n",
       "<style scoped>\n",
       "    .dataframe tbody tr th:only-of-type {\n",
       "        vertical-align: middle;\n",
       "    }\n",
       "\n",
       "    .dataframe tbody tr th {\n",
       "        vertical-align: top;\n",
       "    }\n",
       "\n",
       "    .dataframe thead th {\n",
       "        text-align: right;\n",
       "    }\n",
       "</style>\n",
       "<table border=\"1\" class=\"dataframe\">\n",
       "  <thead>\n",
       "    <tr style=\"text-align: right;\">\n",
       "      <th>Predicted attacks</th>\n",
       "      <th>BENIGN</th>\n",
       "      <th>Bot</th>\n",
       "      <th>Brute Force</th>\n",
       "      <th>DDoS</th>\n",
       "      <th>DoS GoldenEye</th>\n",
       "      <th>DoS Hulk</th>\n",
       "      <th>DoS Slowhttptest</th>\n",
       "      <th>DoS slowloris</th>\n",
       "      <th>FTP-Patator</th>\n",
       "      <th>PortScan</th>\n",
       "      <th>SSH-Patator</th>\n",
       "      <th>XSS</th>\n",
       "    </tr>\n",
       "    <tr>\n",
       "      <th>Actual Attacks</th>\n",
       "      <th></th>\n",
       "      <th></th>\n",
       "      <th></th>\n",
       "      <th></th>\n",
       "      <th></th>\n",
       "      <th></th>\n",
       "      <th></th>\n",
       "      <th></th>\n",
       "      <th></th>\n",
       "      <th></th>\n",
       "      <th></th>\n",
       "      <th></th>\n",
       "    </tr>\n",
       "  </thead>\n",
       "  <tbody>\n",
       "    <tr>\n",
       "      <th>BENIGN</th>\n",
       "      <td>454156</td>\n",
       "      <td>4</td>\n",
       "      <td>0</td>\n",
       "      <td>1</td>\n",
       "      <td>0</td>\n",
       "      <td>100</td>\n",
       "      <td>0</td>\n",
       "      <td>0</td>\n",
       "      <td>0</td>\n",
       "      <td>4</td>\n",
       "      <td>0</td>\n",
       "      <td>0</td>\n",
       "    </tr>\n",
       "    <tr>\n",
       "      <th>Bot</th>\n",
       "      <td>23</td>\n",
       "      <td>368</td>\n",
       "      <td>0</td>\n",
       "      <td>0</td>\n",
       "      <td>0</td>\n",
       "      <td>0</td>\n",
       "      <td>0</td>\n",
       "      <td>0</td>\n",
       "      <td>0</td>\n",
       "      <td>0</td>\n",
       "      <td>0</td>\n",
       "      <td>0</td>\n",
       "    </tr>\n",
       "    <tr>\n",
       "      <th>Brute Force</th>\n",
       "      <td>2</td>\n",
       "      <td>0</td>\n",
       "      <td>299</td>\n",
       "      <td>0</td>\n",
       "      <td>0</td>\n",
       "      <td>0</td>\n",
       "      <td>0</td>\n",
       "      <td>0</td>\n",
       "      <td>0</td>\n",
       "      <td>0</td>\n",
       "      <td>0</td>\n",
       "      <td>0</td>\n",
       "    </tr>\n",
       "    <tr>\n",
       "      <th>DDoS</th>\n",
       "      <td>9</td>\n",
       "      <td>0</td>\n",
       "      <td>0</td>\n",
       "      <td>25596</td>\n",
       "      <td>0</td>\n",
       "      <td>0</td>\n",
       "      <td>0</td>\n",
       "      <td>0</td>\n",
       "      <td>0</td>\n",
       "      <td>0</td>\n",
       "      <td>0</td>\n",
       "      <td>0</td>\n",
       "    </tr>\n",
       "    <tr>\n",
       "      <th>DoS GoldenEye</th>\n",
       "      <td>3</td>\n",
       "      <td>0</td>\n",
       "      <td>0</td>\n",
       "      <td>0</td>\n",
       "      <td>2053</td>\n",
       "      <td>2</td>\n",
       "      <td>0</td>\n",
       "      <td>0</td>\n",
       "      <td>0</td>\n",
       "      <td>0</td>\n",
       "      <td>0</td>\n",
       "      <td>0</td>\n",
       "    </tr>\n",
       "    <tr>\n",
       "      <th>DoS Hulk</th>\n",
       "      <td>9</td>\n",
       "      <td>0</td>\n",
       "      <td>0</td>\n",
       "      <td>0</td>\n",
       "      <td>0</td>\n",
       "      <td>46015</td>\n",
       "      <td>0</td>\n",
       "      <td>0</td>\n",
       "      <td>0</td>\n",
       "      <td>0</td>\n",
       "      <td>0</td>\n",
       "      <td>1</td>\n",
       "    </tr>\n",
       "    <tr>\n",
       "      <th>DoS Slowhttptest</th>\n",
       "      <td>4</td>\n",
       "      <td>0</td>\n",
       "      <td>0</td>\n",
       "      <td>0</td>\n",
       "      <td>0</td>\n",
       "      <td>0</td>\n",
       "      <td>1094</td>\n",
       "      <td>2</td>\n",
       "      <td>0</td>\n",
       "      <td>0</td>\n",
       "      <td>0</td>\n",
       "      <td>0</td>\n",
       "    </tr>\n",
       "    <tr>\n",
       "      <th>DoS slowloris</th>\n",
       "      <td>3</td>\n",
       "      <td>0</td>\n",
       "      <td>0</td>\n",
       "      <td>0</td>\n",
       "      <td>0</td>\n",
       "      <td>0</td>\n",
       "      <td>5</td>\n",
       "      <td>1151</td>\n",
       "      <td>0</td>\n",
       "      <td>0</td>\n",
       "      <td>0</td>\n",
       "      <td>0</td>\n",
       "    </tr>\n",
       "    <tr>\n",
       "      <th>FTP-Patator</th>\n",
       "      <td>1</td>\n",
       "      <td>0</td>\n",
       "      <td>0</td>\n",
       "      <td>0</td>\n",
       "      <td>0</td>\n",
       "      <td>0</td>\n",
       "      <td>0</td>\n",
       "      <td>0</td>\n",
       "      <td>1586</td>\n",
       "      <td>0</td>\n",
       "      <td>0</td>\n",
       "      <td>0</td>\n",
       "    </tr>\n",
       "    <tr>\n",
       "      <th>PortScan</th>\n",
       "      <td>3</td>\n",
       "      <td>0</td>\n",
       "      <td>0</td>\n",
       "      <td>0</td>\n",
       "      <td>0</td>\n",
       "      <td>3</td>\n",
       "      <td>0</td>\n",
       "      <td>0</td>\n",
       "      <td>0</td>\n",
       "      <td>31754</td>\n",
       "      <td>0</td>\n",
       "      <td>1</td>\n",
       "    </tr>\n",
       "    <tr>\n",
       "      <th>SSH-Patator</th>\n",
       "      <td>2</td>\n",
       "      <td>0</td>\n",
       "      <td>0</td>\n",
       "      <td>0</td>\n",
       "      <td>0</td>\n",
       "      <td>0</td>\n",
       "      <td>0</td>\n",
       "      <td>0</td>\n",
       "      <td>0</td>\n",
       "      <td>0</td>\n",
       "      <td>1178</td>\n",
       "      <td>0</td>\n",
       "    </tr>\n",
       "    <tr>\n",
       "      <th>XSS</th>\n",
       "      <td>5</td>\n",
       "      <td>0</td>\n",
       "      <td>0</td>\n",
       "      <td>0</td>\n",
       "      <td>0</td>\n",
       "      <td>0</td>\n",
       "      <td>0</td>\n",
       "      <td>0</td>\n",
       "      <td>0</td>\n",
       "      <td>0</td>\n",
       "      <td>0</td>\n",
       "      <td>125</td>\n",
       "    </tr>\n",
       "  </tbody>\n",
       "</table>\n",
       "</div>"
      ],
      "text/plain": [
       "Predicted attacks  BENIGN  Bot  Brute Force   DDoS  DoS GoldenEye  DoS Hulk  \\\n",
       "Actual Attacks                                                                \n",
       "BENIGN             454156    4            0      1              0       100   \n",
       "Bot                    23  368            0      0              0         0   \n",
       "Brute Force             2    0          299      0              0         0   \n",
       "DDoS                    9    0            0  25596              0         0   \n",
       "DoS GoldenEye           3    0            0      0           2053         2   \n",
       "DoS Hulk                9    0            0      0              0     46015   \n",
       "DoS Slowhttptest        4    0            0      0              0         0   \n",
       "DoS slowloris           3    0            0      0              0         0   \n",
       "FTP-Patator             1    0            0      0              0         0   \n",
       "PortScan                3    0            0      0              0         3   \n",
       "SSH-Patator             2    0            0      0              0         0   \n",
       "XSS                     5    0            0      0              0         0   \n",
       "\n",
       "Predicted attacks  DoS Slowhttptest  DoS slowloris  FTP-Patator  PortScan  \\\n",
       "Actual Attacks                                                              \n",
       "BENIGN                            0              0            0         4   \n",
       "Bot                               0              0            0         0   \n",
       "Brute Force                       0              0            0         0   \n",
       "DDoS                              0              0            0         0   \n",
       "DoS GoldenEye                     0              0            0         0   \n",
       "DoS Hulk                          0              0            0         0   \n",
       "DoS Slowhttptest               1094              2            0         0   \n",
       "DoS slowloris                     5           1151            0         0   \n",
       "FTP-Patator                       0              0         1586         0   \n",
       "PortScan                          0              0            0     31754   \n",
       "SSH-Patator                       0              0            0         0   \n",
       "XSS                               0              0            0         0   \n",
       "\n",
       "Predicted attacks  SSH-Patator  XSS  \n",
       "Actual Attacks                       \n",
       "BENIGN                       0    0  \n",
       "Bot                          0    0  \n",
       "Brute Force                  0    0  \n",
       "DDoS                         0    0  \n",
       "DoS GoldenEye                0    0  \n",
       "DoS Hulk                     0    1  \n",
       "DoS Slowhttptest             0    0  \n",
       "DoS slowloris                0    0  \n",
       "FTP-Patator                  0    0  \n",
       "PortScan                     0    1  \n",
       "SSH-Patator               1178    0  \n",
       "XSS                          0  125  "
      ]
     },
     "execution_count": 98,
     "metadata": {},
     "output_type": "execute_result"
    }
   ],
   "source": [
    "# Creating confusion matrix for Random Forest classifier on all labels.\n",
    "\n",
    "confusion_rf_1 = pd.crosstab(y_validate.Label, y_predict, rownames=['Actual Attacks'], colnames=['Predicted attacks'])\n",
    "\n",
    "print(\"Plotting Confusion Matrix of Random Forest classifier on all Labels \")\n",
    "\n",
    "sn.heatmap(confusion_rf_1, annot=True, cmap= 'Blues', fmt='d')\n",
    "plt.show()\n",
    "confusion_rf_1"
   ]
  },
  {
   "cell_type": "code",
   "execution_count": 99,
   "metadata": {},
   "outputs": [
    {
     "data": {
      "text/html": [
       "<div>\n",
       "<style scoped>\n",
       "    .dataframe tbody tr th:only-of-type {\n",
       "        vertical-align: middle;\n",
       "    }\n",
       "\n",
       "    .dataframe tbody tr th {\n",
       "        vertical-align: top;\n",
       "    }\n",
       "\n",
       "    .dataframe thead th {\n",
       "        text-align: right;\n",
       "    }\n",
       "</style>\n",
       "<table border=\"1\" class=\"dataframe\">\n",
       "  <thead>\n",
       "    <tr style=\"text-align: right;\">\n",
       "      <th></th>\n",
       "      <th>attack</th>\n",
       "      <th>precision</th>\n",
       "      <th>recall</th>\n",
       "      <th>fscore</th>\n",
       "    </tr>\n",
       "  </thead>\n",
       "  <tbody>\n",
       "    <tr>\n",
       "      <th>0</th>\n",
       "      <td>BENIGN</td>\n",
       "      <td>0.999859</td>\n",
       "      <td>0.999760</td>\n",
       "      <td>0.999810</td>\n",
       "    </tr>\n",
       "    <tr>\n",
       "      <th>1</th>\n",
       "      <td>Bot</td>\n",
       "      <td>0.989247</td>\n",
       "      <td>0.941176</td>\n",
       "      <td>0.964613</td>\n",
       "    </tr>\n",
       "    <tr>\n",
       "      <th>2</th>\n",
       "      <td>Brute Force</td>\n",
       "      <td>1.000000</td>\n",
       "      <td>0.993355</td>\n",
       "      <td>0.996667</td>\n",
       "    </tr>\n",
       "    <tr>\n",
       "      <th>3</th>\n",
       "      <td>DDoS</td>\n",
       "      <td>0.999961</td>\n",
       "      <td>0.999649</td>\n",
       "      <td>0.999805</td>\n",
       "    </tr>\n",
       "    <tr>\n",
       "      <th>4</th>\n",
       "      <td>DoS GoldenEye</td>\n",
       "      <td>1.000000</td>\n",
       "      <td>0.997570</td>\n",
       "      <td>0.998784</td>\n",
       "    </tr>\n",
       "    <tr>\n",
       "      <th>5</th>\n",
       "      <td>DoS Hulk</td>\n",
       "      <td>0.997723</td>\n",
       "      <td>0.999783</td>\n",
       "      <td>0.998752</td>\n",
       "    </tr>\n",
       "    <tr>\n",
       "      <th>6</th>\n",
       "      <td>DoS Slowhttptest</td>\n",
       "      <td>0.995450</td>\n",
       "      <td>0.994545</td>\n",
       "      <td>0.994998</td>\n",
       "    </tr>\n",
       "    <tr>\n",
       "      <th>7</th>\n",
       "      <td>DoS slowloris</td>\n",
       "      <td>0.998265</td>\n",
       "      <td>0.993097</td>\n",
       "      <td>0.995675</td>\n",
       "    </tr>\n",
       "    <tr>\n",
       "      <th>8</th>\n",
       "      <td>FTP-Patator</td>\n",
       "      <td>1.000000</td>\n",
       "      <td>0.999370</td>\n",
       "      <td>0.999685</td>\n",
       "    </tr>\n",
       "    <tr>\n",
       "      <th>9</th>\n",
       "      <td>PortScan</td>\n",
       "      <td>0.999874</td>\n",
       "      <td>0.999780</td>\n",
       "      <td>0.999827</td>\n",
       "    </tr>\n",
       "    <tr>\n",
       "      <th>10</th>\n",
       "      <td>SSH-Patator</td>\n",
       "      <td>1.000000</td>\n",
       "      <td>0.998305</td>\n",
       "      <td>0.999152</td>\n",
       "    </tr>\n",
       "    <tr>\n",
       "      <th>11</th>\n",
       "      <td>XSS</td>\n",
       "      <td>0.984252</td>\n",
       "      <td>0.961538</td>\n",
       "      <td>0.972763</td>\n",
       "    </tr>\n",
       "  </tbody>\n",
       "</table>\n",
       "</div>"
      ],
      "text/plain": [
       "              attack  precision    recall    fscore\n",
       "0             BENIGN   0.999859  0.999760  0.999810\n",
       "1                Bot   0.989247  0.941176  0.964613\n",
       "2        Brute Force   1.000000  0.993355  0.996667\n",
       "3               DDoS   0.999961  0.999649  0.999805\n",
       "4      DoS GoldenEye   1.000000  0.997570  0.998784\n",
       "5           DoS Hulk   0.997723  0.999783  0.998752\n",
       "6   DoS Slowhttptest   0.995450  0.994545  0.994998\n",
       "7      DoS slowloris   0.998265  0.993097  0.995675\n",
       "8        FTP-Patator   1.000000  0.999370  0.999685\n",
       "9           PortScan   0.999874  0.999780  0.999827\n",
       "10       SSH-Patator   1.000000  0.998305  0.999152\n",
       "11               XSS   0.984252  0.961538  0.972763"
      ]
     },
     "execution_count": 99,
     "metadata": {},
     "output_type": "execute_result"
    }
   ],
   "source": [
    "# Precision,Recall,F1-score for Random Forest classifier on all labels.\n",
    "\n",
    "precision, recall, fscore, support = score(y_validate.Label, y_predict)\n",
    "\n",
    "d = {'attack': attack, 'precision': precision, 'recall' : recall, 'fscore': fscore}\n",
    "results = pd.DataFrame(data=d)\n",
    "results"
   ]
  },
  {
   "cell_type": "code",
   "execution_count": 100,
   "metadata": {},
   "outputs": [
    {
     "name": "stdout",
     "output_type": "stream",
     "text": [
      "Accuracy of Random Forest classifier on all labels :  0.9996693554376002\n"
     ]
    }
   ],
   "source": [
    "# Average Accuracy,Precision,Recall,F1-score for Random Forest classifier on all labels.\n",
    "\n",
    "precision_rf_1, recall_rf_1, fscore_rf_1, support = score(y_validate.Label, y_predict, average='macro')\n",
    "accuracy_rf_1 = accuracy_score(y_validate.Label, y_predict)\n",
    "print(\"Accuracy of Random Forest classifier on all labels : \", accuracy_rf_1)"
   ]
  },
  {
   "cell_type": "code",
   "execution_count": 101,
   "metadata": {},
   "outputs": [],
   "source": [
    "# 1. b) Binary Classifier."
   ]
  },
  {
   "cell_type": "code",
   "execution_count": 102,
   "metadata": {},
   "outputs": [
    {
     "name": "stdout",
     "output_type": "stream",
     "text": [
      "Model Training Time is :  1027.4533758163452\n"
     ]
    }
   ],
   "source": [
    "# fit the model\n",
    "\n",
    "start = time.time()\n",
    "classifier.fit(x_train, y_train.Attack)\n",
    "end = time.time()\n",
    "training_time = end - start\n",
    "\n",
    "print(\"Model Training Time is : \", training_time)"
   ]
  },
  {
   "cell_type": "code",
   "execution_count": 103,
   "metadata": {},
   "outputs": [
    {
     "name": "stdout",
     "output_type": "stream",
     "text": [
      "Model Testing Time is :  5.716964960098267\n"
     ]
    }
   ],
   "source": [
    "# predicting test results of Random Forest classifier on binary labels.\n",
    "\n",
    "start = time.time()\n",
    "y_predict = classifier.predict(x_validate)\n",
    "end = time.time()\n",
    "testing_time = end  - start\n",
    "\n",
    "print(\"Model Testing Time is : \", testing_time)"
   ]
  },
  {
   "cell_type": "code",
   "execution_count": 104,
   "metadata": {},
   "outputs": [
    {
     "name": "stdout",
     "output_type": "stream",
     "text": [
      "Plotting Confusion Matrix of Random Forest classifier on binary Labels \n"
     ]
    },
    {
     "data": {
      "image/png": "[encoded data removed]",
      "text/plain": [
       "<Figure size 432x288 with 2 Axes>"
      ]
     },
     "metadata": {
      "needs_background": "light"
     },
     "output_type": "display_data"
    },
    {
     "data": {
      "text/html": [
       "<div>\n",
       "<style scoped>\n",
       "    .dataframe tbody tr th:only-of-type {\n",
       "        vertical-align: middle;\n",
       "    }\n",
       "\n",
       "    .dataframe tbody tr th {\n",
       "        vertical-align: top;\n",
       "    }\n",
       "\n",
       "    .dataframe thead th {\n",
       "        text-align: right;\n",
       "    }\n",
       "</style>\n",
       "<table border=\"1\" class=\"dataframe\">\n",
       "  <thead>\n",
       "    <tr style=\"text-align: right;\">\n",
       "      <th>Predicted attacks</th>\n",
       "      <th>Attack</th>\n",
       "      <th>Normal</th>\n",
       "    </tr>\n",
       "    <tr>\n",
       "      <th>Actual Attacks</th>\n",
       "      <th></th>\n",
       "      <th></th>\n",
       "    </tr>\n",
       "  </thead>\n",
       "  <tbody>\n",
       "    <tr>\n",
       "      <th>Attack</th>\n",
       "      <td>111248</td>\n",
       "      <td>49</td>\n",
       "    </tr>\n",
       "    <tr>\n",
       "      <th>Normal</th>\n",
       "      <td>89</td>\n",
       "      <td>454176</td>\n",
       "    </tr>\n",
       "  </tbody>\n",
       "</table>\n",
       "</div>"
      ],
      "text/plain": [
       "Predicted attacks  Attack  Normal\n",
       "Actual Attacks                   \n",
       "Attack             111248      49\n",
       "Normal                 89  454176"
      ]
     },
     "execution_count": 104,
     "metadata": {},
     "output_type": "execute_result"
    }
   ],
   "source": [
    "# Creating confusion matrix for Random Forest classifier on binary labels.\n",
    "\n",
    "confusion_rf_2 = pd.crosstab(y_validate.Attack, y_predict, rownames=['Actual Attacks'], colnames=['Predicted attacks'])\n",
    "\n",
    "print(\"Plotting Confusion Matrix of Random Forest classifier on binary Labels \")\n",
    "\n",
    "sn.heatmap(confusion_rf_2, annot=True, cmap= 'Blues', fmt='d')\n",
    "plt.show()\n",
    "confusion_rf_2"
   ]
  },
  {
   "cell_type": "code",
   "execution_count": 105,
   "metadata": {},
   "outputs": [
    {
     "data": {
      "text/html": [
       "<div>\n",
       "<style scoped>\n",
       "    .dataframe tbody tr th:only-of-type {\n",
       "        vertical-align: middle;\n",
       "    }\n",
       "\n",
       "    .dataframe tbody tr th {\n",
       "        vertical-align: top;\n",
       "    }\n",
       "\n",
       "    .dataframe thead th {\n",
       "        text-align: right;\n",
       "    }\n",
       "</style>\n",
       "<table border=\"1\" class=\"dataframe\">\n",
       "  <thead>\n",
       "    <tr style=\"text-align: right;\">\n",
       "      <th></th>\n",
       "      <th>attack</th>\n",
       "      <th>precision</th>\n",
       "      <th>recall</th>\n",
       "      <th>fscore</th>\n",
       "    </tr>\n",
       "  </thead>\n",
       "  <tbody>\n",
       "    <tr>\n",
       "      <th>0</th>\n",
       "      <td>0</td>\n",
       "      <td>0.999201</td>\n",
       "      <td>0.999560</td>\n",
       "      <td>0.999380</td>\n",
       "    </tr>\n",
       "    <tr>\n",
       "      <th>1</th>\n",
       "      <td>1</td>\n",
       "      <td>0.999892</td>\n",
       "      <td>0.999804</td>\n",
       "      <td>0.999848</td>\n",
       "    </tr>\n",
       "  </tbody>\n",
       "</table>\n",
       "</div>"
      ],
      "text/plain": [
       "   attack  precision    recall    fscore\n",
       "0       0   0.999201  0.999560  0.999380\n",
       "1       1   0.999892  0.999804  0.999848"
      ]
     },
     "execution_count": 105,
     "metadata": {},
     "output_type": "execute_result"
    }
   ],
   "source": [
    "# Precision,Recall,F1-score for Random Forest classifier on binary labels.\n",
    "\n",
    "precision, recall, fscore, support = score(y_validate.Attack, y_predict)\n",
    "d = {'attack': [0,1], 'precision': precision, 'recall' : recall, 'fscore': fscore}\n",
    "results = pd.DataFrame(data=d)\n",
    "results"
   ]
  },
  {
   "cell_type": "code",
   "execution_count": 106,
   "metadata": {},
   "outputs": [
    {
     "name": "stdout",
     "output_type": "stream",
     "text": [
      "Accuracy of Random Forest classifier on binary labels :  0.9997559949218653\n"
     ]
    }
   ],
   "source": [
    "# Average Accuracy,Precision,Recall,F1-score for Random Forest classifier on binary labels.\n",
    "\n",
    "precision_rf_2, recall_rf_2, fscore_rf_2, n = score(y_validate.Attack, y_predict, average='macro')\n",
    "accuracy_rf_2 = accuracy_score(y_validate.Attack, y_predict)\n",
    "print(\"Accuracy of Random Forest classifier on binary labels : \", accuracy_rf_2)"
   ]
  },
  {
   "cell_type": "code",
   "execution_count": 107,
   "metadata": {},
   "outputs": [],
   "source": [
    "# 1. c) Multi-class Classifier."
   ]
  },
  {
   "cell_type": "code",
   "execution_count": 108,
   "metadata": {},
   "outputs": [
    {
     "name": "stdout",
     "output_type": "stream",
     "text": [
      "Model Training Time is :  767.8004326820374\n"
     ]
    }
   ],
   "source": [
    "# fit the model\n",
    "\n",
    "start = time.time()\n",
    "classifier.fit(x_train, y_train.Label_Category)\n",
    "end = time.time()\n",
    "training_time = end - start\n",
    "\n",
    "print(\"Model Training Time is : \", training_time)"
   ]
  },
  {
   "cell_type": "code",
   "execution_count": 109,
   "metadata": {},
   "outputs": [
    {
     "name": "stdout",
     "output_type": "stream",
     "text": [
      "Model Testing Time is :  6.951459169387817\n"
     ]
    }
   ],
   "source": [
    "# predicting test results of Random Forest classifier on multi-class labels.\n",
    "\n",
    "start = time.time()\n",
    "y_predict = classifier.predict(x_validate)\n",
    "end = time.time()\n",
    "testing_time = end  - start\n",
    "\n",
    "print(\"Model Testing Time is : \", testing_time)"
   ]
  },
  {
   "cell_type": "code",
   "execution_count": 110,
   "metadata": {},
   "outputs": [
    {
     "name": "stdout",
     "output_type": "stream",
     "text": [
      "Plotting Confusion Matrix of Random Forest classifier on multi-class Labels \n"
     ]
    },
    {
     "data": {
      "image/png": "[encoded data removed]",
      "text/plain": [
       "<Figure size 432x288 with 2 Axes>"
      ]
     },
     "metadata": {
      "needs_background": "light"
     },
     "output_type": "display_data"
    },
    {
     "data": {
      "text/html": [
       "<div>\n",
       "<style scoped>\n",
       "    .dataframe tbody tr th:only-of-type {\n",
       "        vertical-align: middle;\n",
       "    }\n",
       "\n",
       "    .dataframe tbody tr th {\n",
       "        vertical-align: top;\n",
       "    }\n",
       "\n",
       "    .dataframe thead th {\n",
       "        text-align: right;\n",
       "    }\n",
       "</style>\n",
       "<table border=\"1\" class=\"dataframe\">\n",
       "  <thead>\n",
       "    <tr style=\"text-align: right;\">\n",
       "      <th>Predicted attacks</th>\n",
       "      <th>benign</th>\n",
       "      <th>botnet</th>\n",
       "      <th>brute_force</th>\n",
       "      <th>ddos</th>\n",
       "      <th>dos</th>\n",
       "      <th>probe</th>\n",
       "      <th>web_attack</th>\n",
       "    </tr>\n",
       "    <tr>\n",
       "      <th>Actual Attacks</th>\n",
       "      <th></th>\n",
       "      <th></th>\n",
       "      <th></th>\n",
       "      <th></th>\n",
       "      <th></th>\n",
       "      <th></th>\n",
       "      <th></th>\n",
       "    </tr>\n",
       "  </thead>\n",
       "  <tbody>\n",
       "    <tr>\n",
       "      <th>benign</th>\n",
       "      <td>454139</td>\n",
       "      <td>3</td>\n",
       "      <td>0</td>\n",
       "      <td>1</td>\n",
       "      <td>117</td>\n",
       "      <td>5</td>\n",
       "      <td>0</td>\n",
       "    </tr>\n",
       "    <tr>\n",
       "      <th>botnet</th>\n",
       "      <td>19</td>\n",
       "      <td>372</td>\n",
       "      <td>0</td>\n",
       "      <td>0</td>\n",
       "      <td>0</td>\n",
       "      <td>0</td>\n",
       "      <td>0</td>\n",
       "    </tr>\n",
       "    <tr>\n",
       "      <th>brute_force</th>\n",
       "      <td>3</td>\n",
       "      <td>0</td>\n",
       "      <td>2764</td>\n",
       "      <td>0</td>\n",
       "      <td>0</td>\n",
       "      <td>0</td>\n",
       "      <td>0</td>\n",
       "    </tr>\n",
       "    <tr>\n",
       "      <th>ddos</th>\n",
       "      <td>8</td>\n",
       "      <td>0</td>\n",
       "      <td>0</td>\n",
       "      <td>25597</td>\n",
       "      <td>0</td>\n",
       "      <td>0</td>\n",
       "      <td>0</td>\n",
       "    </tr>\n",
       "    <tr>\n",
       "      <th>dos</th>\n",
       "      <td>16</td>\n",
       "      <td>0</td>\n",
       "      <td>0</td>\n",
       "      <td>0</td>\n",
       "      <td>50325</td>\n",
       "      <td>0</td>\n",
       "      <td>1</td>\n",
       "    </tr>\n",
       "    <tr>\n",
       "      <th>probe</th>\n",
       "      <td>2</td>\n",
       "      <td>0</td>\n",
       "      <td>0</td>\n",
       "      <td>0</td>\n",
       "      <td>3</td>\n",
       "      <td>31754</td>\n",
       "      <td>2</td>\n",
       "    </tr>\n",
       "    <tr>\n",
       "      <th>web_attack</th>\n",
       "      <td>7</td>\n",
       "      <td>0</td>\n",
       "      <td>0</td>\n",
       "      <td>0</td>\n",
       "      <td>0</td>\n",
       "      <td>0</td>\n",
       "      <td>424</td>\n",
       "    </tr>\n",
       "  </tbody>\n",
       "</table>\n",
       "</div>"
      ],
      "text/plain": [
       "Predicted attacks  benign  botnet  brute_force   ddos    dos  probe  \\\n",
       "Actual Attacks                                                        \n",
       "benign             454139       3            0      1    117      5   \n",
       "botnet                 19     372            0      0      0      0   \n",
       "brute_force             3       0         2764      0      0      0   \n",
       "ddos                    8       0            0  25597      0      0   \n",
       "dos                    16       0            0      0  50325      0   \n",
       "probe                   2       0            0      0      3  31754   \n",
       "web_attack              7       0            0      0      0      0   \n",
       "\n",
       "Predicted attacks  web_attack  \n",
       "Actual Attacks                 \n",
       "benign                      0  \n",
       "botnet                      0  \n",
       "brute_force                 0  \n",
       "ddos                        0  \n",
       "dos                         1  \n",
       "probe                       2  \n",
       "web_attack                424  "
      ]
     },
     "execution_count": 110,
     "metadata": {},
     "output_type": "execute_result"
    }
   ],
   "source": [
    "# Creating confusion matrix for Random Forest classifier on multi-class labels.\n",
    "\n",
    "confusion_rf_3 = pd.crosstab(y_validate.Label_Category, y_predict, rownames=['Actual Attacks'], colnames=['Predicted attacks'])\n",
    "\n",
    "print(\"Plotting Confusion Matrix of Random Forest classifier on multi-class Labels \")\n",
    "\n",
    "sn.heatmap(confusion_rf_3, annot=True, cmap= 'Blues', fmt='d')\n",
    "plt.show()\n",
    "confusion_rf_3"
   ]
  },
  {
   "cell_type": "code",
   "execution_count": 111,
   "metadata": {},
   "outputs": [
    {
     "data": {
      "text/html": [
       "<div>\n",
       "<style scoped>\n",
       "    .dataframe tbody tr th:only-of-type {\n",
       "        vertical-align: middle;\n",
       "    }\n",
       "\n",
       "    .dataframe tbody tr th {\n",
       "        vertical-align: top;\n",
       "    }\n",
       "\n",
       "    .dataframe thead th {\n",
       "        text-align: right;\n",
       "    }\n",
       "</style>\n",
       "<table border=\"1\" class=\"dataframe\">\n",
       "  <thead>\n",
       "    <tr style=\"text-align: right;\">\n",
       "      <th></th>\n",
       "      <th>attack</th>\n",
       "      <th>precision</th>\n",
       "      <th>recall</th>\n",
       "      <th>fscore</th>\n",
       "    </tr>\n",
       "  </thead>\n",
       "  <tbody>\n",
       "    <tr>\n",
       "      <th>0</th>\n",
       "      <td>benign</td>\n",
       "      <td>0.999879</td>\n",
       "      <td>0.999723</td>\n",
       "      <td>0.999801</td>\n",
       "    </tr>\n",
       "    <tr>\n",
       "      <th>1</th>\n",
       "      <td>botnet</td>\n",
       "      <td>0.992000</td>\n",
       "      <td>0.951407</td>\n",
       "      <td>0.971279</td>\n",
       "    </tr>\n",
       "    <tr>\n",
       "      <th>2</th>\n",
       "      <td>brute_force</td>\n",
       "      <td>1.000000</td>\n",
       "      <td>0.998916</td>\n",
       "      <td>0.999458</td>\n",
       "    </tr>\n",
       "    <tr>\n",
       "      <th>3</th>\n",
       "      <td>ddos</td>\n",
       "      <td>0.999961</td>\n",
       "      <td>0.999688</td>\n",
       "      <td>0.999824</td>\n",
       "    </tr>\n",
       "    <tr>\n",
       "      <th>4</th>\n",
       "      <td>dos</td>\n",
       "      <td>0.997621</td>\n",
       "      <td>0.999662</td>\n",
       "      <td>0.998641</td>\n",
       "    </tr>\n",
       "    <tr>\n",
       "      <th>5</th>\n",
       "      <td>probe</td>\n",
       "      <td>0.999843</td>\n",
       "      <td>0.999780</td>\n",
       "      <td>0.999811</td>\n",
       "    </tr>\n",
       "    <tr>\n",
       "      <th>6</th>\n",
       "      <td>web_attack</td>\n",
       "      <td>0.992974</td>\n",
       "      <td>0.983759</td>\n",
       "      <td>0.988345</td>\n",
       "    </tr>\n",
       "  </tbody>\n",
       "</table>\n",
       "</div>"
      ],
      "text/plain": [
       "        attack  precision    recall    fscore\n",
       "0       benign   0.999879  0.999723  0.999801\n",
       "1       botnet   0.992000  0.951407  0.971279\n",
       "2  brute_force   1.000000  0.998916  0.999458\n",
       "3         ddos   0.999961  0.999688  0.999824\n",
       "4          dos   0.997621  0.999662  0.998641\n",
       "5        probe   0.999843  0.999780  0.999811\n",
       "6   web_attack   0.992974  0.983759  0.988345"
      ]
     },
     "execution_count": 111,
     "metadata": {},
     "output_type": "execute_result"
    }
   ],
   "source": [
    "# Precision,Recall,F1-score for Random Forest classifier on multi-class labels.\n",
    "\n",
    "precision, recall, fscore, support = score(y_validate.Label_Category, y_predict)\n",
    "d = {'attack': attack_groups, 'precision': precision, 'recall' : recall, 'fscore': fscore}\n",
    "results = pd.DataFrame(data=d)\n",
    "results"
   ]
  },
  {
   "cell_type": "code",
   "execution_count": 112,
   "metadata": {},
   "outputs": [
    {
     "name": "stdout",
     "output_type": "stream",
     "text": [
      "Accuracy of Random Forest classifier on multi-class labels :  0.9996693554376002\n"
     ]
    }
   ],
   "source": [
    "# Average Accuracy,Precision,Recall,F1-score for Random Forest classifier on multi-class labels.\n",
    "\n",
    "precision_rf_3, recall_rf_3, fscore_rf_3, n = score(y_validate.Label_Category, y_predict, average='macro')\n",
    "accuracy_rf_3 = accuracy_score(y_validate.Label_Category, y_predict)\n",
    "print(\"Accuracy of Random Forest classifier on multi-class labels : \", accuracy_rf_3)"
   ]
  },
  {
   "cell_type": "code",
   "execution_count": 113,
   "metadata": {},
   "outputs": [],
   "source": [
    "### Results for Random Forest:"
   ]
  },
  {
   "cell_type": "code",
   "execution_count": 114,
   "metadata": {},
   "outputs": [
    {
     "name": "stdout",
     "output_type": "stream",
     "text": [
      "Random Forest Classifier : Precision / Recall / Fscore / Accuracy\n",
      "All Labels: 0.9970527078650818 0.9898274730682263 0.9933773851343433 0.9996693554376002\n",
      "Binary Labels: 0.9995463745382478 0.9996819078387745 0.9996141240892522 0.9997559949218653\n",
      "Multi-class Labels: 0.997468259368538 0.990419035313329 0.9938798193867859 0.9996693554376002\n"
     ]
    }
   ],
   "source": [
    "print('Random Forest Classifier : Precision / Recall / Fscore / Accuracy')\n",
    "\n",
    "print('All Labels:', precision_rf_1, recall_rf_1, fscore_rf_1,  accuracy_rf_1)\n",
    "print('Binary Labels:', precision_rf_2, recall_rf_2, fscore_rf_2, accuracy_rf_2)\n",
    "print('Multi-class Labels:', precision_rf_3, recall_rf_3, fscore_rf_3, accuracy_rf_3)"
   ]
  },
  {
   "cell_type": "code",
   "execution_count": null,
   "metadata": {},
   "outputs": [],
   "source": []
  }
 ],
 "metadata": {
  "kernelspec": {
   "display_name": "Python 3",
   "language": "python",
   "name": "python3"
  },
  "language_info": {
   "codemirror_mode": {
    "name": "ipython",
    "version": 3
   },
   "file_extension": ".py",
   "mimetype": "text/x-python",
   "name": "python",
   "nbconvert_exporter": "python",
   "pygments_lexer": "ipython3",
   "version": "3.8.8"
  }
 },
 "nbformat": 4,
 "nbformat_minor": 4
}
