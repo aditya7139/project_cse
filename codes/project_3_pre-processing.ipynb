{
 "cells": [
  {
   "cell_type": "markdown",
   "metadata": {},
   "source": [
    "# Machine Learning for the Detection of Network Attacks\n",
    "\n",
    "\n",
    "Analyse the machine learning algorithms on the [CICIDS 2017 Dataset] for clasification of network attacks.\n",
    "(https://www.unb.ca/cic/datasets/ids-2017.html): \n",
    "\n",
    "- Support Vector Machine (SVM)\n",
    "- Decision Tree\n",
    "- Naive Bayes\n",
    "- K Means Clustering \n",
    "- K Nearest Neighbours\n"
   ]
  },
  {
   "cell_type": "markdown",
   "metadata": {},
   "source": [
    "# Import required libraries."
   ]
  },
  {
   "cell_type": "code",
   "execution_count": 1,
   "metadata": {},
   "outputs": [],
   "source": [
    "import glob\n",
    "import matplotlib.pyplot as plt\n",
    "import numpy as np\n",
    "import pandas as pd \n",
    "import seaborn\n",
    "import time\n",
    "\n",
    "from numpy import array\n",
    "\n",
    "from sklearn import preprocessing\n",
    "from sklearn.preprocessing import StandardScaler\n",
    "from sklearn.preprocessing import MinMaxScaler\n",
    "from sklearn.preprocessing import RobustScaler\n",
    "\n",
    "from sklearn.tree import DecisionTreeClassifier\n",
    "from sklearn.svm import LinearSVC\n",
    "from sklearn.naive_bayes import MultinomialNB\n",
    "from sklearn.neighbors import NearestNeighbors\n",
    "from sklearn.neighbors import KNeighborsClassifier\n",
    "from sklearn.cluster import KMeans\n",
    "from sklearn.decomposition import PCA\n",
    "from sklearn.ensemble import RandomForestRegressor\n",
    "from sklearn.ensemble import RandomForestClassifier\n",
    "\n",
    "from sklearn.feature_selection import SelectKBest\n",
    "from sklearn.feature_selection import chi2\n",
    "from sklearn.feature_selection import mutual_info_classif\n",
    "\n",
    "from sklearn import metrics\n",
    "from sklearn.metrics import accuracy_score\n",
    "from sklearn.metrics import confusion_matrix\n",
    "from sklearn.metrics import precision_recall_fscore_support as score\n",
    "from sklearn.metrics import completeness_score, homogeneity_score, v_measure_score\n",
    "\n",
    "from sklearn.model_selection import train_test_split"
   ]
  },
  {
   "cell_type": "markdown",
   "metadata": {},
   "source": [
    "# Loading the dataset"
   ]
  },
  {
   "cell_type": "markdown",
   "metadata": {},
   "source": [
    "The implemented attacks include Brute Force FTP, Brute Force SSH, DoS, Heartbleed, Web Attack, Infiltration, Botnet and DDoS. \n",
    "\n",
    "Datasets is available in 8 different csv files.\n",
    "\n",
    "- Monday-WorkingHours.pcap_ISCX.csv\n",
    "- Tuesday-WorkingHours.pcap_ISCX.csv\n",
    "- Wednesday-workingHours.pcap_ISCX.csv\n",
    "- Thursday-WorkingHours-Morning-WebAttacks.pcap_ISCX.csv\n",
    "- Thursday-WorkingHours-Afternoon-Infilteration.pcap_ISCX.csv\n",
    "- Friday-WorkingHours-Morning.pcap_ISCX.csv\n",
    "- Friday-WorkingHours-Afternoon-PortScan.pcap_ISCX.csv\n",
    "- Friday-WorkingHours-Afternoon-DDos.pcap_ISCX.csv\n",
    "\n",
    "8 different csv files of cicids dataset needs to be concatenated into a single csv file."
   ]
  },
  {
   "cell_type": "code",
   "execution_count": 2,
   "metadata": {},
   "outputs": [],
   "source": [
    "# # path to the all 8 files of CICIDS dataset.\n",
    "# path = './datasets'\n",
    "# all_files = glob.glob(path + \"/*.csv\")\n",
    "\n",
    "# # concatenate the 8 files into 1.\n",
    "# dataset = pd.concat((pd.read_csv(f) for f in all_files))"
   ]
  },
  {
   "cell_type": "code",
   "execution_count": 3,
   "metadata": {},
   "outputs": [],
   "source": [
    "# # saving the combined dataset to disk named cicids.csv\n",
    "# dataset.to_csv('cicids')"
   ]
  },
  {
   "cell_type": "code",
   "execution_count": 4,
   "metadata": {},
   "outputs": [],
   "source": [
    "dataset=pd.read_csv('cicids.csv')"
   ]
  },
  {
   "cell_type": "code",
   "execution_count": 5,
   "metadata": {},
   "outputs": [
    {
     "name": "stdout",
     "output_type": "stream",
     "text": [
      "(2827876, 79)\n"
     ]
    }
   ],
   "source": [
    "# Dimenions of dataset.\n",
    "print(dataset.shape)"
   ]
  },
  {
   "cell_type": "code",
   "execution_count": 6,
   "metadata": {},
   "outputs": [],
   "source": [
    "# column names as per dataset.\n",
    "\n",
    "col_names = [\"Destination_Port\",\n",
    "             \"Flow_Duration\", \n",
    "             \"Total_Fwd_Packets\",\n",
    "             \"Total_Backward_Packets\",\n",
    "             \"Total_Length_of_Fwd_Packets\", \n",
    "             \"Total_Length_of_Bwd_Packets\", \n",
    "             \"Fwd_Packet_Length_Max\", \n",
    "             \"Fwd_Packet_Length_Min\", \n",
    "             \"Fwd_Packet_Length_Mean\", \n",
    "             \"Fwd_Packet_Length_Std\",\n",
    "             \"Bwd_Packet_Length_Max\", \n",
    "             \"Bwd_Packet_Length_Min\", \n",
    "             \"Bwd_Packet_Length_Mean\", \n",
    "             \"Bwd_Packet_Length_Std\",\n",
    "             \"Flow_Bytes_s\", \n",
    "             \"Flow_Packets_s\", \n",
    "             \"Flow_IAT_Mean\", \n",
    "             \"Flow_IAT_Std\", \n",
    "             \"Flow_IAT_Max\", \n",
    "             \"Flow_IAT_Min\",\n",
    "             \"Fwd_IAT_Total\", \n",
    "             \"Fwd_IAT_Mean\", \n",
    "             \"Fwd_IAT_Std\", \n",
    "             \"Fwd_IAT_Max\", \n",
    "             \"Fwd_IAT_Min\",\n",
    "             \"Bwd_IAT_Total\", \n",
    "             \"Bwd_IAT_Mean\", \n",
    "             \"Bwd_IAT_Std\", \n",
    "             \"Bwd_IAT_Max\", \n",
    "             \"Bwd_IAT_Min\",\n",
    "             \"Fwd_PSH_Flags\", \n",
    "             \"Bwd_PSH_Flags\", \n",
    "             \"Fwd_URG_Flags\", \n",
    "             \"Bwd_URG_Flags\", \n",
    "             \"Fwd_Header_Length\", \n",
    "             \"Bwd_Header_Length\",\n",
    "             \"Fwd_Packets_s\", \n",
    "             \"Bwd_Packets_s\", \n",
    "             \"Min_Packet_Length\", \n",
    "             \"Max_Packet_Length\", \n",
    "             \"Packet_Length_Mean\", \n",
    "             \"Packet_Length_Std\", \n",
    "             \"Packet_Length_Variance\",\n",
    "             \"FIN_Flag_Count\", \n",
    "             \"SYN_Flag_Count\", \n",
    "             \"RST_Flag_Count\", \n",
    "             \"PSH_Flag_Count\", \n",
    "             \"ACK_Flag_Count\", \n",
    "             \"URG_Flag_Count\", \n",
    "             \"CWE_Flag_Count\", \n",
    "             \"ECE_Flag_Count\", \n",
    "             \"Down_Up_Ratio\", \n",
    "             \"Average_Packet_Size\", \n",
    "             \"Avg_Fwd_Segment_Size\", \n",
    "             \"Avg_Bwd_Segment_Size\", \n",
    "             \"Fwd_Header_Length\",\n",
    "             \"Fwd_Avg_Bytes_Bulk\", \n",
    "             \"Fwd_Avg_Packets_Bulk\", \n",
    "             \"Fwd_Avg_Bulk_Rate\", \n",
    "             \"Bwd_Avg_Bytes_Bulk\", \n",
    "             \"Bwd_Avg_Packets_Bulk\",\n",
    "             \"Bwd_Avg_Bulk_Rate\",\n",
    "             \"Subflow_Fwd_Packets\", \n",
    "             \"Subflow_Fwd_Bytes\", \n",
    "             \"Subflow_Bwd_Packets\", \n",
    "             \"Subflow_Bwd_Bytes\",\n",
    "             \"Init_Win_bytes_forward\", \n",
    "             \"Init_Win_bytes_backward\", \n",
    "             \"act_data_pkt_fwd\", \n",
    "             \"min_seg_size_forward\",\n",
    "             \"Active_Mean\", \n",
    "             \"Active_Std\", \n",
    "             \"Active_Max\", \n",
    "             \"Active_Min\",\n",
    "             \"Idle_Mean\", \n",
    "             \"Idle_Std\", \n",
    "             \"Idle_Max\", \n",
    "             \"Idle_Min\", \n",
    "             \"Label\"\n",
    "            ]"
   ]
  },
  {
   "cell_type": "code",
   "execution_count": 7,
   "metadata": {},
   "outputs": [],
   "source": [
    "# Max rows and colummns to be shown in print console\n",
    "\n",
    "pd.options.display.max_columns= 200\n",
    "pd.options.display.max_rows= 200"
   ]
  },
  {
   "cell_type": "code",
   "execution_count": 8,
   "metadata": {},
   "outputs": [
    {
     "data": {
      "text/html": [
       "<div>\n",
       "<style scoped>\n",
       "    .dataframe tbody tr th:only-of-type {\n",
       "        vertical-align: middle;\n",
       "    }\n",
       "\n",
       "    .dataframe tbody tr th {\n",
       "        vertical-align: top;\n",
       "    }\n",
       "\n",
       "    .dataframe thead th {\n",
       "        text-align: right;\n",
       "    }\n",
       "</style>\n",
       "<table border=\"1\" class=\"dataframe\">\n",
       "  <thead>\n",
       "    <tr style=\"text-align: right;\">\n",
       "      <th></th>\n",
       "      <th>Destination_Port</th>\n",
       "      <th>Flow_Duration</th>\n",
       "      <th>Total_Fwd_Packets</th>\n",
       "      <th>Total_Backward_Packets</th>\n",
       "      <th>Total_Length_of_Fwd_Packets</th>\n",
       "      <th>Total_Length_of_Bwd_Packets</th>\n",
       "      <th>Fwd_Packet_Length_Max</th>\n",
       "      <th>Fwd_Packet_Length_Min</th>\n",
       "      <th>Fwd_Packet_Length_Mean</th>\n",
       "      <th>Fwd_Packet_Length_Std</th>\n",
       "      <th>Bwd_Packet_Length_Max</th>\n",
       "      <th>Bwd_Packet_Length_Min</th>\n",
       "      <th>Bwd_Packet_Length_Mean</th>\n",
       "      <th>Bwd_Packet_Length_Std</th>\n",
       "      <th>Flow_Bytes_s</th>\n",
       "      <th>Flow_Packets_s</th>\n",
       "      <th>Flow_IAT_Mean</th>\n",
       "      <th>Flow_IAT_Std</th>\n",
       "      <th>Flow_IAT_Max</th>\n",
       "      <th>Flow_IAT_Min</th>\n",
       "      <th>Fwd_IAT_Total</th>\n",
       "      <th>Fwd_IAT_Mean</th>\n",
       "      <th>Fwd_IAT_Std</th>\n",
       "      <th>Fwd_IAT_Max</th>\n",
       "      <th>Fwd_IAT_Min</th>\n",
       "      <th>Bwd_IAT_Total</th>\n",
       "      <th>Bwd_IAT_Mean</th>\n",
       "      <th>Bwd_IAT_Std</th>\n",
       "      <th>Bwd_IAT_Max</th>\n",
       "      <th>Bwd_IAT_Min</th>\n",
       "      <th>Fwd_PSH_Flags</th>\n",
       "      <th>Bwd_PSH_Flags</th>\n",
       "      <th>Fwd_URG_Flags</th>\n",
       "      <th>Bwd_URG_Flags</th>\n",
       "      <th>Fwd_Header_Length</th>\n",
       "      <th>Bwd_Header_Length</th>\n",
       "      <th>Fwd_Packets_s</th>\n",
       "      <th>Bwd_Packets_s</th>\n",
       "      <th>Min_Packet_Length</th>\n",
       "      <th>Max_Packet_Length</th>\n",
       "      <th>Packet_Length_Mean</th>\n",
       "      <th>Packet_Length_Std</th>\n",
       "      <th>Packet_Length_Variance</th>\n",
       "      <th>FIN_Flag_Count</th>\n",
       "      <th>SYN_Flag_Count</th>\n",
       "      <th>RST_Flag_Count</th>\n",
       "      <th>PSH_Flag_Count</th>\n",
       "      <th>ACK_Flag_Count</th>\n",
       "      <th>URG_Flag_Count</th>\n",
       "      <th>CWE_Flag_Count</th>\n",
       "      <th>ECE_Flag_Count</th>\n",
       "      <th>Down_Up_Ratio</th>\n",
       "      <th>Average_Packet_Size</th>\n",
       "      <th>Avg_Fwd_Segment_Size</th>\n",
       "      <th>Avg_Bwd_Segment_Size</th>\n",
       "      <th>Fwd_Header_Length</th>\n",
       "      <th>Fwd_Avg_Bytes_Bulk</th>\n",
       "      <th>Fwd_Avg_Packets_Bulk</th>\n",
       "      <th>Fwd_Avg_Bulk_Rate</th>\n",
       "      <th>Bwd_Avg_Bytes_Bulk</th>\n",
       "      <th>Bwd_Avg_Packets_Bulk</th>\n",
       "      <th>Bwd_Avg_Bulk_Rate</th>\n",
       "      <th>Subflow_Fwd_Packets</th>\n",
       "      <th>Subflow_Fwd_Bytes</th>\n",
       "      <th>Subflow_Bwd_Packets</th>\n",
       "      <th>Subflow_Bwd_Bytes</th>\n",
       "      <th>Init_Win_bytes_forward</th>\n",
       "      <th>Init_Win_bytes_backward</th>\n",
       "      <th>act_data_pkt_fwd</th>\n",
       "      <th>min_seg_size_forward</th>\n",
       "      <th>Active_Mean</th>\n",
       "      <th>Active_Std</th>\n",
       "      <th>Active_Max</th>\n",
       "      <th>Active_Min</th>\n",
       "      <th>Idle_Mean</th>\n",
       "      <th>Idle_Std</th>\n",
       "      <th>Idle_Max</th>\n",
       "      <th>Idle_Min</th>\n",
       "      <th>Label</th>\n",
       "    </tr>\n",
       "  </thead>\n",
       "  <tbody>\n",
       "    <tr>\n",
       "      <th>0</th>\n",
       "      <td>0</td>\n",
       "      <td>54865</td>\n",
       "      <td>3</td>\n",
       "      <td>2</td>\n",
       "      <td>0</td>\n",
       "      <td>12</td>\n",
       "      <td>0</td>\n",
       "      <td>6</td>\n",
       "      <td>6</td>\n",
       "      <td>6.0</td>\n",
       "      <td>0.0</td>\n",
       "      <td>0</td>\n",
       "      <td>0</td>\n",
       "      <td>0.0</td>\n",
       "      <td>0.0</td>\n",
       "      <td>4.000000e+06</td>\n",
       "      <td>666666.66670</td>\n",
       "      <td>3.0</td>\n",
       "      <td>0.0</td>\n",
       "      <td>3</td>\n",
       "      <td>3</td>\n",
       "      <td>3</td>\n",
       "      <td>3.0</td>\n",
       "      <td>0.0</td>\n",
       "      <td>3</td>\n",
       "      <td>3</td>\n",
       "      <td>0</td>\n",
       "      <td>0.0</td>\n",
       "      <td>0.0</td>\n",
       "      <td>0</td>\n",
       "      <td>0</td>\n",
       "      <td>0</td>\n",
       "      <td>0</td>\n",
       "      <td>0</td>\n",
       "      <td>0</td>\n",
       "      <td>40</td>\n",
       "      <td>0</td>\n",
       "      <td>666666.666700</td>\n",
       "      <td>0.000000</td>\n",
       "      <td>6</td>\n",
       "      <td>6</td>\n",
       "      <td>6.0</td>\n",
       "      <td>0.0</td>\n",
       "      <td>0.0</td>\n",
       "      <td>0</td>\n",
       "      <td>0</td>\n",
       "      <td>0</td>\n",
       "      <td>0</td>\n",
       "      <td>1</td>\n",
       "      <td>0</td>\n",
       "      <td>0</td>\n",
       "      <td>0</td>\n",
       "      <td>0</td>\n",
       "      <td>9.0</td>\n",
       "      <td>6.0</td>\n",
       "      <td>0.0</td>\n",
       "      <td>0</td>\n",
       "      <td>0</td>\n",
       "      <td>0</td>\n",
       "      <td>0</td>\n",
       "      <td>0</td>\n",
       "      <td>0</td>\n",
       "      <td>2</td>\n",
       "      <td>12</td>\n",
       "      <td>0</td>\n",
       "      <td>0</td>\n",
       "      <td>33</td>\n",
       "      <td>-1</td>\n",
       "      <td>1</td>\n",
       "      <td>20</td>\n",
       "      <td>0.0</td>\n",
       "      <td>0.0</td>\n",
       "      <td>0</td>\n",
       "      <td>0</td>\n",
       "      <td>0.0</td>\n",
       "      <td>0.0</td>\n",
       "      <td>0</td>\n",
       "      <td>0</td>\n",
       "      <td>BENIGN</td>\n",
       "    </tr>\n",
       "    <tr>\n",
       "      <th>1</th>\n",
       "      <td>1</td>\n",
       "      <td>55054</td>\n",
       "      <td>109</td>\n",
       "      <td>1</td>\n",
       "      <td>1</td>\n",
       "      <td>6</td>\n",
       "      <td>6</td>\n",
       "      <td>6</td>\n",
       "      <td>6</td>\n",
       "      <td>6.0</td>\n",
       "      <td>0.0</td>\n",
       "      <td>6</td>\n",
       "      <td>6</td>\n",
       "      <td>6.0</td>\n",
       "      <td>0.0</td>\n",
       "      <td>1.100917e+05</td>\n",
       "      <td>18348.62385</td>\n",
       "      <td>109.0</td>\n",
       "      <td>0.0</td>\n",
       "      <td>109</td>\n",
       "      <td>109</td>\n",
       "      <td>0</td>\n",
       "      <td>0.0</td>\n",
       "      <td>0.0</td>\n",
       "      <td>0</td>\n",
       "      <td>0</td>\n",
       "      <td>0</td>\n",
       "      <td>0.0</td>\n",
       "      <td>0.0</td>\n",
       "      <td>0</td>\n",
       "      <td>0</td>\n",
       "      <td>0</td>\n",
       "      <td>0</td>\n",
       "      <td>0</td>\n",
       "      <td>0</td>\n",
       "      <td>20</td>\n",
       "      <td>20</td>\n",
       "      <td>9174.311927</td>\n",
       "      <td>9174.311927</td>\n",
       "      <td>6</td>\n",
       "      <td>6</td>\n",
       "      <td>6.0</td>\n",
       "      <td>0.0</td>\n",
       "      <td>0.0</td>\n",
       "      <td>0</td>\n",
       "      <td>0</td>\n",
       "      <td>0</td>\n",
       "      <td>0</td>\n",
       "      <td>1</td>\n",
       "      <td>1</td>\n",
       "      <td>0</td>\n",
       "      <td>0</td>\n",
       "      <td>1</td>\n",
       "      <td>9.0</td>\n",
       "      <td>6.0</td>\n",
       "      <td>6.0</td>\n",
       "      <td>0</td>\n",
       "      <td>0</td>\n",
       "      <td>0</td>\n",
       "      <td>0</td>\n",
       "      <td>0</td>\n",
       "      <td>0</td>\n",
       "      <td>1</td>\n",
       "      <td>6</td>\n",
       "      <td>1</td>\n",
       "      <td>6</td>\n",
       "      <td>29</td>\n",
       "      <td>256</td>\n",
       "      <td>0</td>\n",
       "      <td>20</td>\n",
       "      <td>0.0</td>\n",
       "      <td>0.0</td>\n",
       "      <td>0</td>\n",
       "      <td>0</td>\n",
       "      <td>0.0</td>\n",
       "      <td>0.0</td>\n",
       "      <td>0</td>\n",
       "      <td>0</td>\n",
       "      <td>BENIGN</td>\n",
       "    </tr>\n",
       "    <tr>\n",
       "      <th>2</th>\n",
       "      <td>2</td>\n",
       "      <td>55055</td>\n",
       "      <td>52</td>\n",
       "      <td>1</td>\n",
       "      <td>1</td>\n",
       "      <td>6</td>\n",
       "      <td>6</td>\n",
       "      <td>6</td>\n",
       "      <td>6</td>\n",
       "      <td>6.0</td>\n",
       "      <td>0.0</td>\n",
       "      <td>6</td>\n",
       "      <td>6</td>\n",
       "      <td>6.0</td>\n",
       "      <td>0.0</td>\n",
       "      <td>2.307692e+05</td>\n",
       "      <td>38461.53846</td>\n",
       "      <td>52.0</td>\n",
       "      <td>0.0</td>\n",
       "      <td>52</td>\n",
       "      <td>52</td>\n",
       "      <td>0</td>\n",
       "      <td>0.0</td>\n",
       "      <td>0.0</td>\n",
       "      <td>0</td>\n",
       "      <td>0</td>\n",
       "      <td>0</td>\n",
       "      <td>0.0</td>\n",
       "      <td>0.0</td>\n",
       "      <td>0</td>\n",
       "      <td>0</td>\n",
       "      <td>0</td>\n",
       "      <td>0</td>\n",
       "      <td>0</td>\n",
       "      <td>0</td>\n",
       "      <td>20</td>\n",
       "      <td>20</td>\n",
       "      <td>19230.769230</td>\n",
       "      <td>19230.769230</td>\n",
       "      <td>6</td>\n",
       "      <td>6</td>\n",
       "      <td>6.0</td>\n",
       "      <td>0.0</td>\n",
       "      <td>0.0</td>\n",
       "      <td>0</td>\n",
       "      <td>0</td>\n",
       "      <td>0</td>\n",
       "      <td>0</td>\n",
       "      <td>1</td>\n",
       "      <td>1</td>\n",
       "      <td>0</td>\n",
       "      <td>0</td>\n",
       "      <td>1</td>\n",
       "      <td>9.0</td>\n",
       "      <td>6.0</td>\n",
       "      <td>6.0</td>\n",
       "      <td>0</td>\n",
       "      <td>0</td>\n",
       "      <td>0</td>\n",
       "      <td>0</td>\n",
       "      <td>0</td>\n",
       "      <td>0</td>\n",
       "      <td>1</td>\n",
       "      <td>6</td>\n",
       "      <td>1</td>\n",
       "      <td>6</td>\n",
       "      <td>29</td>\n",
       "      <td>256</td>\n",
       "      <td>0</td>\n",
       "      <td>20</td>\n",
       "      <td>0.0</td>\n",
       "      <td>0.0</td>\n",
       "      <td>0</td>\n",
       "      <td>0</td>\n",
       "      <td>0.0</td>\n",
       "      <td>0.0</td>\n",
       "      <td>0</td>\n",
       "      <td>0</td>\n",
       "      <td>BENIGN</td>\n",
       "    </tr>\n",
       "    <tr>\n",
       "      <th>3</th>\n",
       "      <td>3</td>\n",
       "      <td>46236</td>\n",
       "      <td>34</td>\n",
       "      <td>1</td>\n",
       "      <td>1</td>\n",
       "      <td>6</td>\n",
       "      <td>6</td>\n",
       "      <td>6</td>\n",
       "      <td>6</td>\n",
       "      <td>6.0</td>\n",
       "      <td>0.0</td>\n",
       "      <td>6</td>\n",
       "      <td>6</td>\n",
       "      <td>6.0</td>\n",
       "      <td>0.0</td>\n",
       "      <td>3.529412e+05</td>\n",
       "      <td>58823.52941</td>\n",
       "      <td>34.0</td>\n",
       "      <td>0.0</td>\n",
       "      <td>34</td>\n",
       "      <td>34</td>\n",
       "      <td>0</td>\n",
       "      <td>0.0</td>\n",
       "      <td>0.0</td>\n",
       "      <td>0</td>\n",
       "      <td>0</td>\n",
       "      <td>0</td>\n",
       "      <td>0.0</td>\n",
       "      <td>0.0</td>\n",
       "      <td>0</td>\n",
       "      <td>0</td>\n",
       "      <td>0</td>\n",
       "      <td>0</td>\n",
       "      <td>0</td>\n",
       "      <td>0</td>\n",
       "      <td>20</td>\n",
       "      <td>20</td>\n",
       "      <td>29411.764710</td>\n",
       "      <td>29411.764710</td>\n",
       "      <td>6</td>\n",
       "      <td>6</td>\n",
       "      <td>6.0</td>\n",
       "      <td>0.0</td>\n",
       "      <td>0.0</td>\n",
       "      <td>0</td>\n",
       "      <td>0</td>\n",
       "      <td>0</td>\n",
       "      <td>0</td>\n",
       "      <td>1</td>\n",
       "      <td>1</td>\n",
       "      <td>0</td>\n",
       "      <td>0</td>\n",
       "      <td>1</td>\n",
       "      <td>9.0</td>\n",
       "      <td>6.0</td>\n",
       "      <td>6.0</td>\n",
       "      <td>0</td>\n",
       "      <td>0</td>\n",
       "      <td>0</td>\n",
       "      <td>0</td>\n",
       "      <td>0</td>\n",
       "      <td>0</td>\n",
       "      <td>1</td>\n",
       "      <td>6</td>\n",
       "      <td>1</td>\n",
       "      <td>6</td>\n",
       "      <td>31</td>\n",
       "      <td>329</td>\n",
       "      <td>0</td>\n",
       "      <td>20</td>\n",
       "      <td>0.0</td>\n",
       "      <td>0.0</td>\n",
       "      <td>0</td>\n",
       "      <td>0</td>\n",
       "      <td>0.0</td>\n",
       "      <td>0.0</td>\n",
       "      <td>0</td>\n",
       "      <td>0</td>\n",
       "      <td>BENIGN</td>\n",
       "    </tr>\n",
       "    <tr>\n",
       "      <th>4</th>\n",
       "      <td>4</td>\n",
       "      <td>54863</td>\n",
       "      <td>3</td>\n",
       "      <td>2</td>\n",
       "      <td>0</td>\n",
       "      <td>12</td>\n",
       "      <td>0</td>\n",
       "      <td>6</td>\n",
       "      <td>6</td>\n",
       "      <td>6.0</td>\n",
       "      <td>0.0</td>\n",
       "      <td>0</td>\n",
       "      <td>0</td>\n",
       "      <td>0.0</td>\n",
       "      <td>0.0</td>\n",
       "      <td>4.000000e+06</td>\n",
       "      <td>666666.66670</td>\n",
       "      <td>3.0</td>\n",
       "      <td>0.0</td>\n",
       "      <td>3</td>\n",
       "      <td>3</td>\n",
       "      <td>3</td>\n",
       "      <td>3.0</td>\n",
       "      <td>0.0</td>\n",
       "      <td>3</td>\n",
       "      <td>3</td>\n",
       "      <td>0</td>\n",
       "      <td>0.0</td>\n",
       "      <td>0.0</td>\n",
       "      <td>0</td>\n",
       "      <td>0</td>\n",
       "      <td>0</td>\n",
       "      <td>0</td>\n",
       "      <td>0</td>\n",
       "      <td>0</td>\n",
       "      <td>40</td>\n",
       "      <td>0</td>\n",
       "      <td>666666.666700</td>\n",
       "      <td>0.000000</td>\n",
       "      <td>6</td>\n",
       "      <td>6</td>\n",
       "      <td>6.0</td>\n",
       "      <td>0.0</td>\n",
       "      <td>0.0</td>\n",
       "      <td>0</td>\n",
       "      <td>0</td>\n",
       "      <td>0</td>\n",
       "      <td>0</td>\n",
       "      <td>1</td>\n",
       "      <td>0</td>\n",
       "      <td>0</td>\n",
       "      <td>0</td>\n",
       "      <td>0</td>\n",
       "      <td>9.0</td>\n",
       "      <td>6.0</td>\n",
       "      <td>0.0</td>\n",
       "      <td>0</td>\n",
       "      <td>0</td>\n",
       "      <td>0</td>\n",
       "      <td>0</td>\n",
       "      <td>0</td>\n",
       "      <td>0</td>\n",
       "      <td>2</td>\n",
       "      <td>12</td>\n",
       "      <td>0</td>\n",
       "      <td>0</td>\n",
       "      <td>32</td>\n",
       "      <td>-1</td>\n",
       "      <td>1</td>\n",
       "      <td>20</td>\n",
       "      <td>0.0</td>\n",
       "      <td>0.0</td>\n",
       "      <td>0</td>\n",
       "      <td>0</td>\n",
       "      <td>0.0</td>\n",
       "      <td>0.0</td>\n",
       "      <td>0</td>\n",
       "      <td>0</td>\n",
       "      <td>BENIGN</td>\n",
       "    </tr>\n",
       "  </tbody>\n",
       "</table>\n",
       "</div>"
      ],
      "text/plain": [
       "   Destination_Port  Flow_Duration  Total_Fwd_Packets  Total_Backward_Packets  \\\n",
       "0                 0          54865                  3                       2   \n",
       "1                 1          55054                109                       1   \n",
       "2                 2          55055                 52                       1   \n",
       "3                 3          46236                 34                       1   \n",
       "4                 4          54863                  3                       2   \n",
       "\n",
       "   Total_Length_of_Fwd_Packets  Total_Length_of_Bwd_Packets  \\\n",
       "0                            0                           12   \n",
       "1                            1                            6   \n",
       "2                            1                            6   \n",
       "3                            1                            6   \n",
       "4                            0                           12   \n",
       "\n",
       "   Fwd_Packet_Length_Max  Fwd_Packet_Length_Min  Fwd_Packet_Length_Mean  \\\n",
       "0                      0                      6                       6   \n",
       "1                      6                      6                       6   \n",
       "2                      6                      6                       6   \n",
       "3                      6                      6                       6   \n",
       "4                      0                      6                       6   \n",
       "\n",
       "   Fwd_Packet_Length_Std  Bwd_Packet_Length_Max  Bwd_Packet_Length_Min  \\\n",
       "0                    6.0                    0.0                      0   \n",
       "1                    6.0                    0.0                      6   \n",
       "2                    6.0                    0.0                      6   \n",
       "3                    6.0                    0.0                      6   \n",
       "4                    6.0                    0.0                      0   \n",
       "\n",
       "   Bwd_Packet_Length_Mean  Bwd_Packet_Length_Std  Flow_Bytes_s  \\\n",
       "0                       0                    0.0           0.0   \n",
       "1                       6                    6.0           0.0   \n",
       "2                       6                    6.0           0.0   \n",
       "3                       6                    6.0           0.0   \n",
       "4                       0                    0.0           0.0   \n",
       "\n",
       "   Flow_Packets_s  Flow_IAT_Mean  Flow_IAT_Std  Flow_IAT_Max  Flow_IAT_Min  \\\n",
       "0    4.000000e+06   666666.66670           3.0           0.0             3   \n",
       "1    1.100917e+05    18348.62385         109.0           0.0           109   \n",
       "2    2.307692e+05    38461.53846          52.0           0.0            52   \n",
       "3    3.529412e+05    58823.52941          34.0           0.0            34   \n",
       "4    4.000000e+06   666666.66670           3.0           0.0             3   \n",
       "\n",
       "   Fwd_IAT_Total  Fwd_IAT_Mean  Fwd_IAT_Std  Fwd_IAT_Max  Fwd_IAT_Min  \\\n",
       "0              3             3          3.0          0.0            3   \n",
       "1            109             0          0.0          0.0            0   \n",
       "2             52             0          0.0          0.0            0   \n",
       "3             34             0          0.0          0.0            0   \n",
       "4              3             3          3.0          0.0            3   \n",
       "\n",
       "   Bwd_IAT_Total  Bwd_IAT_Mean  Bwd_IAT_Std  Bwd_IAT_Max  Bwd_IAT_Min  \\\n",
       "0              3             0          0.0          0.0            0   \n",
       "1              0             0          0.0          0.0            0   \n",
       "2              0             0          0.0          0.0            0   \n",
       "3              0             0          0.0          0.0            0   \n",
       "4              3             0          0.0          0.0            0   \n",
       "\n",
       "   Fwd_PSH_Flags  Bwd_PSH_Flags  Fwd_URG_Flags  Bwd_URG_Flags  \\\n",
       "0              0              0              0              0   \n",
       "1              0              0              0              0   \n",
       "2              0              0              0              0   \n",
       "3              0              0              0              0   \n",
       "4              0              0              0              0   \n",
       "\n",
       "   Fwd_Header_Length  Bwd_Header_Length  Fwd_Packets_s  Bwd_Packets_s  \\\n",
       "0                  0                 40              0  666666.666700   \n",
       "1                  0                 20             20    9174.311927   \n",
       "2                  0                 20             20   19230.769230   \n",
       "3                  0                 20             20   29411.764710   \n",
       "4                  0                 40              0  666666.666700   \n",
       "\n",
       "   Min_Packet_Length  Max_Packet_Length  Packet_Length_Mean  \\\n",
       "0           0.000000                  6                   6   \n",
       "1        9174.311927                  6                   6   \n",
       "2       19230.769230                  6                   6   \n",
       "3       29411.764710                  6                   6   \n",
       "4           0.000000                  6                   6   \n",
       "\n",
       "   Packet_Length_Std  Packet_Length_Variance  FIN_Flag_Count  SYN_Flag_Count  \\\n",
       "0                6.0                     0.0             0.0               0   \n",
       "1                6.0                     0.0             0.0               0   \n",
       "2                6.0                     0.0             0.0               0   \n",
       "3                6.0                     0.0             0.0               0   \n",
       "4                6.0                     0.0             0.0               0   \n",
       "\n",
       "   RST_Flag_Count  PSH_Flag_Count  ACK_Flag_Count  URG_Flag_Count  \\\n",
       "0               0               0               0               1   \n",
       "1               0               0               0               1   \n",
       "2               0               0               0               1   \n",
       "3               0               0               0               1   \n",
       "4               0               0               0               1   \n",
       "\n",
       "   CWE_Flag_Count  ECE_Flag_Count  Down_Up_Ratio  Average_Packet_Size  \\\n",
       "0               0               0              0                    0   \n",
       "1               1               0              0                    1   \n",
       "2               1               0              0                    1   \n",
       "3               1               0              0                    1   \n",
       "4               0               0              0                    0   \n",
       "\n",
       "   Avg_Fwd_Segment_Size  Avg_Bwd_Segment_Size  Fwd_Header_Length  \\\n",
       "0                   9.0                   6.0                0.0   \n",
       "1                   9.0                   6.0                6.0   \n",
       "2                   9.0                   6.0                6.0   \n",
       "3                   9.0                   6.0                6.0   \n",
       "4                   9.0                   6.0                0.0   \n",
       "\n",
       "   Fwd_Avg_Bytes_Bulk  Fwd_Avg_Packets_Bulk  Fwd_Avg_Bulk_Rate  \\\n",
       "0                   0                     0                  0   \n",
       "1                   0                     0                  0   \n",
       "2                   0                     0                  0   \n",
       "3                   0                     0                  0   \n",
       "4                   0                     0                  0   \n",
       "\n",
       "   Bwd_Avg_Bytes_Bulk  Bwd_Avg_Packets_Bulk  Bwd_Avg_Bulk_Rate  \\\n",
       "0                   0                     0                  0   \n",
       "1                   0                     0                  0   \n",
       "2                   0                     0                  0   \n",
       "3                   0                     0                  0   \n",
       "4                   0                     0                  0   \n",
       "\n",
       "   Subflow_Fwd_Packets  Subflow_Fwd_Bytes  Subflow_Bwd_Packets  \\\n",
       "0                    2                 12                    0   \n",
       "1                    1                  6                    1   \n",
       "2                    1                  6                    1   \n",
       "3                    1                  6                    1   \n",
       "4                    2                 12                    0   \n",
       "\n",
       "   Subflow_Bwd_Bytes  Init_Win_bytes_forward  Init_Win_bytes_backward  \\\n",
       "0                  0                      33                       -1   \n",
       "1                  6                      29                      256   \n",
       "2                  6                      29                      256   \n",
       "3                  6                      31                      329   \n",
       "4                  0                      32                       -1   \n",
       "\n",
       "   act_data_pkt_fwd  min_seg_size_forward  Active_Mean  Active_Std  \\\n",
       "0                 1                    20          0.0         0.0   \n",
       "1                 0                    20          0.0         0.0   \n",
       "2                 0                    20          0.0         0.0   \n",
       "3                 0                    20          0.0         0.0   \n",
       "4                 1                    20          0.0         0.0   \n",
       "\n",
       "   Active_Max  Active_Min  Idle_Mean  Idle_Std  Idle_Max  Idle_Min   Label  \n",
       "0           0           0        0.0       0.0         0         0  BENIGN  \n",
       "1           0           0        0.0       0.0         0         0  BENIGN  \n",
       "2           0           0        0.0       0.0         0         0  BENIGN  \n",
       "3           0           0        0.0       0.0         0         0  BENIGN  \n",
       "4           0           0        0.0       0.0         0         0  BENIGN  "
      ]
     },
     "execution_count": 8,
     "metadata": {},
     "output_type": "execute_result"
    }
   ],
   "source": [
    "# Assigning the column names.\n",
    "dataset.columns = col_names\n",
    "\n",
    "# first 5 records in the dataset.\n",
    "dataset.head(5)"
   ]
  },
  {
   "cell_type": "code",
   "execution_count": 9,
   "metadata": {},
   "outputs": [
    {
     "data": {
      "text/plain": [
       "Destination_Port                 int64\n",
       "Flow_Duration                    int64\n",
       "Total_Fwd_Packets                int64\n",
       "Total_Backward_Packets           int64\n",
       "Total_Length_of_Fwd_Packets      int64\n",
       "Total_Length_of_Bwd_Packets      int64\n",
       "Fwd_Packet_Length_Max            int64\n",
       "Fwd_Packet_Length_Min            int64\n",
       "Fwd_Packet_Length_Mean           int64\n",
       "Fwd_Packet_Length_Std          float64\n",
       "Bwd_Packet_Length_Max          float64\n",
       "Bwd_Packet_Length_Min            int64\n",
       "Bwd_Packet_Length_Mean           int64\n",
       "Bwd_Packet_Length_Std          float64\n",
       "Flow_Bytes_s                   float64\n",
       "Flow_Packets_s                 float64\n",
       "Flow_IAT_Mean                  float64\n",
       "Flow_IAT_Std                   float64\n",
       "Flow_IAT_Max                   float64\n",
       "Flow_IAT_Min                     int64\n",
       "Fwd_IAT_Total                    int64\n",
       "Fwd_IAT_Mean                     int64\n",
       "Fwd_IAT_Std                    float64\n",
       "Fwd_IAT_Max                    float64\n",
       "Fwd_IAT_Min                      int64\n",
       "Bwd_IAT_Total                    int64\n",
       "Bwd_IAT_Mean                     int64\n",
       "Bwd_IAT_Std                    float64\n",
       "Bwd_IAT_Max                    float64\n",
       "Bwd_IAT_Min                      int64\n",
       "Fwd_PSH_Flags                    int64\n",
       "Bwd_PSH_Flags                    int64\n",
       "Fwd_URG_Flags                    int64\n",
       "Bwd_URG_Flags                    int64\n",
       "Fwd_Header_Length                int64\n",
       "Bwd_Header_Length                int64\n",
       "Fwd_Packets_s                    int64\n",
       "Bwd_Packets_s                  float64\n",
       "Min_Packet_Length              float64\n",
       "Max_Packet_Length                int64\n",
       "Packet_Length_Mean               int64\n",
       "Packet_Length_Std              float64\n",
       "Packet_Length_Variance         float64\n",
       "FIN_Flag_Count                 float64\n",
       "SYN_Flag_Count                   int64\n",
       "RST_Flag_Count                   int64\n",
       "PSH_Flag_Count                   int64\n",
       "ACK_Flag_Count                   int64\n",
       "URG_Flag_Count                   int64\n",
       "CWE_Flag_Count                   int64\n",
       "ECE_Flag_Count                   int64\n",
       "Down_Up_Ratio                    int64\n",
       "Average_Packet_Size              int64\n",
       "Avg_Fwd_Segment_Size           float64\n",
       "Avg_Bwd_Segment_Size           float64\n",
       "Fwd_Header_Length              float64\n",
       "Fwd_Avg_Bytes_Bulk               int64\n",
       "Fwd_Avg_Packets_Bulk             int64\n",
       "Fwd_Avg_Bulk_Rate                int64\n",
       "Bwd_Avg_Bytes_Bulk               int64\n",
       "Bwd_Avg_Packets_Bulk             int64\n",
       "Bwd_Avg_Bulk_Rate                int64\n",
       "Subflow_Fwd_Packets              int64\n",
       "Subflow_Fwd_Bytes                int64\n",
       "Subflow_Bwd_Packets              int64\n",
       "Subflow_Bwd_Bytes                int64\n",
       "Init_Win_bytes_forward           int64\n",
       "Init_Win_bytes_backward          int64\n",
       "act_data_pkt_fwd                 int64\n",
       "min_seg_size_forward             int64\n",
       "Active_Mean                    float64\n",
       "Active_Std                     float64\n",
       "Active_Max                       int64\n",
       "Active_Min                       int64\n",
       "Idle_Mean                      float64\n",
       "Idle_Std                       float64\n",
       "Idle_Max                         int64\n",
       "Idle_Min                         int64\n",
       "Label                           object\n",
       "dtype: object"
      ]
     },
     "execution_count": 9,
     "metadata": {},
     "output_type": "execute_result"
    }
   ],
   "source": [
    "# check whether there is any categorical column are not if it is there it is to be encoded.\n",
    "dataset.dtypes"
   ]
  },
  {
   "cell_type": "markdown",
   "metadata": {},
   "source": [
    "# Remove repeated columns, (NaN,Null,Infinite) values."
   ]
  },
  {
   "cell_type": "code",
   "execution_count": 10,
   "metadata": {},
   "outputs": [
    {
     "data": {
      "text/plain": [
       "(2827876, 78)"
      ]
     },
     "execution_count": 10,
     "metadata": {},
     "output_type": "execute_result"
    }
   ],
   "source": [
    "# Removing the duplicate columns (Header_length is repeated)\n",
    "dataset = dataset.loc[:, ~dataset.columns.duplicated()]\n",
    "dataset.shape"
   ]
  },
  {
   "cell_type": "code",
   "execution_count": 11,
   "metadata": {},
   "outputs": [
    {
     "data": {
      "text/plain": [
       "False"
      ]
     },
     "execution_count": 11,
     "metadata": {},
     "output_type": "execute_result"
    }
   ],
   "source": [
    "# check if there are any Null values\n",
    "dataset.isnull().any().any()"
   ]
  },
  {
   "cell_type": "code",
   "execution_count": 12,
   "metadata": {},
   "outputs": [
    {
     "data": {
      "text/plain": [
       "Destination_Port               False\n",
       "Flow_Duration                  False\n",
       "Total_Fwd_Packets              False\n",
       "Total_Backward_Packets         False\n",
       "Total_Length_of_Fwd_Packets    False\n",
       "Total_Length_of_Bwd_Packets    False\n",
       "Fwd_Packet_Length_Max          False\n",
       "Fwd_Packet_Length_Min          False\n",
       "Fwd_Packet_Length_Mean         False\n",
       "Fwd_Packet_Length_Std          False\n",
       "Bwd_Packet_Length_Max          False\n",
       "Bwd_Packet_Length_Min          False\n",
       "Bwd_Packet_Length_Mean         False\n",
       "Bwd_Packet_Length_Std          False\n",
       "Flow_Bytes_s                   False\n",
       "Flow_Packets_s                 False\n",
       "Flow_IAT_Mean                  False\n",
       "Flow_IAT_Std                   False\n",
       "Flow_IAT_Max                   False\n",
       "Flow_IAT_Min                   False\n",
       "Fwd_IAT_Total                  False\n",
       "Fwd_IAT_Mean                   False\n",
       "Fwd_IAT_Std                    False\n",
       "Fwd_IAT_Max                    False\n",
       "Fwd_IAT_Min                    False\n",
       "Bwd_IAT_Total                  False\n",
       "Bwd_IAT_Mean                   False\n",
       "Bwd_IAT_Std                    False\n",
       "Bwd_IAT_Max                    False\n",
       "Bwd_IAT_Min                    False\n",
       "Fwd_PSH_Flags                  False\n",
       "Bwd_PSH_Flags                  False\n",
       "Fwd_URG_Flags                  False\n",
       "Bwd_URG_Flags                  False\n",
       "Fwd_Header_Length              False\n",
       "Bwd_Header_Length              False\n",
       "Fwd_Packets_s                  False\n",
       "Bwd_Packets_s                  False\n",
       "Min_Packet_Length              False\n",
       "Max_Packet_Length              False\n",
       "Packet_Length_Mean             False\n",
       "Packet_Length_Std              False\n",
       "Packet_Length_Variance         False\n",
       "FIN_Flag_Count                 False\n",
       "SYN_Flag_Count                 False\n",
       "RST_Flag_Count                 False\n",
       "PSH_Flag_Count                 False\n",
       "ACK_Flag_Count                 False\n",
       "URG_Flag_Count                 False\n",
       "CWE_Flag_Count                 False\n",
       "ECE_Flag_Count                 False\n",
       "Down_Up_Ratio                  False\n",
       "Average_Packet_Size            False\n",
       "Avg_Fwd_Segment_Size           False\n",
       "Avg_Bwd_Segment_Size           False\n",
       "Fwd_Avg_Bytes_Bulk             False\n",
       "Fwd_Avg_Packets_Bulk           False\n",
       "Fwd_Avg_Bulk_Rate              False\n",
       "Bwd_Avg_Bytes_Bulk             False\n",
       "Bwd_Avg_Packets_Bulk           False\n",
       "Bwd_Avg_Bulk_Rate              False\n",
       "Subflow_Fwd_Packets            False\n",
       "Subflow_Fwd_Bytes              False\n",
       "Subflow_Bwd_Packets            False\n",
       "Subflow_Bwd_Bytes              False\n",
       "Init_Win_bytes_forward         False\n",
       "Init_Win_bytes_backward        False\n",
       "act_data_pkt_fwd               False\n",
       "min_seg_size_forward           False\n",
       "Active_Mean                    False\n",
       "Active_Std                     False\n",
       "Active_Max                     False\n",
       "Active_Min                     False\n",
       "Idle_Mean                      False\n",
       "Idle_Std                       False\n",
       "Idle_Max                       False\n",
       "Idle_Min                       False\n",
       "Label                          False\n",
       "dtype: bool"
      ]
     },
     "execution_count": 12,
     "metadata": {},
     "output_type": "execute_result"
    }
   ],
   "source": [
    "# Replace Inf values with NaN\n",
    "dataset = dataset.replace([np.inf, -np.inf], np.nan)\n",
    "\n",
    "# Drop all occurences of NaN\n",
    "dataset = dataset.dropna()\n",
    "\n",
    "# Double check these are all gone\n",
    "dataset.isnull().any()"
   ]
  },
  {
   "cell_type": "markdown",
   "metadata": {},
   "source": [
    "# Analysing the attacks in dataset"
   ]
  },
  {
   "cell_type": "code",
   "execution_count": 13,
   "metadata": {},
   "outputs": [
    {
     "data": {
      "text/plain": [
       "BENIGN                        2271320\n",
       "DoS Hulk                       230124\n",
       "PortScan                       158804\n",
       "DDoS                           128025\n",
       "DoS GoldenEye                   10293\n",
       "FTP-Patator                      7935\n",
       "SSH-Patator                      5897\n",
       "DoS slowloris                    5796\n",
       "DoS Slowhttptest                 5499\n",
       "Bot                              1956\n",
       "Web Attack � Brute Force         1507\n",
       "Web Attack � XSS                  652\n",
       "Infiltration                       36\n",
       "Web Attack � Sql Injection         21\n",
       "Heartbleed                         11\n",
       "Name: Label, dtype: int64"
      ]
     },
     "execution_count": 13,
     "metadata": {},
     "output_type": "execute_result"
    }
   ],
   "source": [
    "# Distribution of Dataset\n",
    "dataset['Label'].value_counts()"
   ]
  },
  {
   "cell_type": "code",
   "execution_count": 14,
   "metadata": {},
   "outputs": [
    {
     "data": {
      "image/png": "[encoded data removed]",
      "text/plain": [
       "<Figure size 1080x720 with 1 Axes>"
      ]
     },
     "metadata": {
      "needs_background": "light"
     },
     "output_type": "display_data"
    }
   ],
   "source": [
    "# Plotting the distribution of attacks in the dataset\n",
    "\n",
    "plt.figure(figsize=(15,10))\n",
    "\n",
    "attack = ('DoS Hulk', 'PortScan', 'DDoS', 'DoS GoldenEye', 'FTP-Patator', 'SSH-Patator', 'DoS Slowloris',\n",
    "          'DoS Slowhttptest', 'Bot', 'Web Attack: Brute Force', 'Web Attack: XSS', 'Infiltration', 'Web Attack: SQL Injection', 'Heartbleed')\n",
    "y_pos = np.arange(len(attack)) \n",
    "amount = dataset['Label'].value_counts()[1:]\n",
    "plt.barh(y_pos, amount, align='center', color='#a3c1ad' )\n",
    "plt.yticks(y_pos, attack)\n",
    "plt.title('Distribution of different types of attacks in the dataset')\n",
    "plt.xlabel('Number of occurences')\n",
    "plt.ylabel('Attack types')\n",
    "for i, v in enumerate(amount):\n",
    "    plt.text(v + 3, i-0.1 , str(v))\n",
    "    \n",
    "plt.show()"
   ]
  },
  {
   "cell_type": "code",
   "execution_count": 15,
   "metadata": {},
   "outputs": [
    {
     "data": {
      "text/plain": [
       "BENIGN                      2271320\n",
       "DoS Hulk                     230124\n",
       "PortScan                     158804\n",
       "DDoS                         128025\n",
       "DoS GoldenEye                 10293\n",
       "FTP-Patator                    7935\n",
       "SSH-Patator                    5897\n",
       "DoS slowloris                  5796\n",
       "DoS Slowhttptest               5499\n",
       "Bot                            1956\n",
       "Web Attack � Brute Force       1507\n",
       "Web Attack � XSS                652\n",
       "Name: Label, dtype: int64"
      ]
     },
     "execution_count": 15,
     "metadata": {},
     "output_type": "execute_result"
    }
   ],
   "source": [
    "# There are only 11, 21, and 36 instances of Heartbleed, SQL injection and infiltration respectively. \n",
    "# Remove 'Heartbleed', 'Web attack Sql Injection', 'Infiltration' as it's negligible.\n",
    "\n",
    "dataset = dataset.replace(['Heartbleed', 'Web Attack � Sql Injection', 'Infiltration'], np.nan)\n",
    "dataset = dataset.dropna()\n",
    "dataset['Label'].value_counts()"
   ]
  },
  {
   "cell_type": "code",
   "execution_count": 16,
   "metadata": {},
   "outputs": [],
   "source": [
    "# Labelling Web Attack � Brute Force as Brute Force\n",
    "# labelling Web Attack � XSS as XSS\n",
    "\n",
    "dataset.loc[dataset.Label == 'Web Attack � Brute Force', ['Label']] = 'Brute Force'\n",
    "dataset.loc[dataset.Label == 'Web Attack � XSS', ['Label']] = 'XSS'"
   ]
  },
  {
   "cell_type": "code",
   "execution_count": 17,
   "metadata": {},
   "outputs": [],
   "source": [
    "# Creating a attack column, containing binary labels for normal and attack to apply binary classsifier\n",
    "\n",
    "dataset['Attack'] = np.where(dataset['Label'] == 'BENIGN','Normal' , 'Attack')"
   ]
  },
  {
   "cell_type": "code",
   "execution_count": 18,
   "metadata": {},
   "outputs": [
    {
     "data": {
      "text/plain": [
       "benign         2271320\n",
       "dos             251712\n",
       "probe           158804\n",
       "ddos            128025\n",
       "brute_force      13832\n",
       "web_attack        2159\n",
       "botnet            1956\n",
       "Name: Label_Category, dtype: int64"
      ]
     },
     "execution_count": 18,
     "metadata": {},
     "output_type": "execute_result"
    }
   ],
   "source": [
    "# Grouping attack labels in attack category as in dataset description for multi-class classifier\n",
    "\n",
    "attack_group = {'BENIGN': 'benign', \n",
    "                'DoS Hulk': 'dos',\n",
    "                'PortScan': 'probe', \n",
    "                'DDoS': 'ddos',\n",
    "                'DoS GoldenEye': 'dos', \n",
    "                'FTP-Patator': 'brute_force',\n",
    "                'SSH-Patator': 'brute_force', \n",
    "                'DoS slowloris': 'dos', \n",
    "                'DoS Slowhttptest': 'dos',\n",
    "                'Bot': 'botnet',\n",
    "                'Brute Force': 'web_attack', \n",
    "                'XSS': 'web_attack'}\n",
    "\n",
    "# Create grouped label column\n",
    "\n",
    "dataset['Label_Category'] = dataset['Label'].map(lambda x: attack_group[x])\n",
    "dataset['Label_Category'].value_counts()"
   ]
  },
  {
   "cell_type": "code",
   "execution_count": 19,
   "metadata": {},
   "outputs": [
    {
     "data": {
      "text/plain": [
       "Text(0.5, 1.0, 'Distribution of Attack Categories (Grouped)')"
      ]
     },
     "execution_count": 19,
     "metadata": {},
     "output_type": "execute_result"
    },
    {
     "data": {
      "image/png": "[encoded data removed]",
      "text/plain": [
       "<Figure size 432x288 with 1 Axes>"
      ]
     },
     "metadata": {
      "needs_background": "light"
     },
     "output_type": "display_data"
    }
   ],
   "source": [
    "# Plotting binary grouped column Attack\n",
    "\n",
    "train_attacks = dataset['Attack'].value_counts()\n",
    "train_attacks.plot(kind='barh', color='#a3c1ad')\n",
    "plt.title('Distribution of Attack Categories (Grouped)')"
   ]
  },
  {
   "cell_type": "code",
   "execution_count": 20,
   "metadata": {},
   "outputs": [
    {
     "data": {
      "text/plain": [
       "Text(0.5, 1.0, 'Distribution of Attack Categories (Grouped)')"
      ]
     },
     "execution_count": 20,
     "metadata": {},
     "output_type": "execute_result"
    },
    {
     "data": {
      "image/png": "[encoded data removed]",
      "text/plain": [
       "<Figure size 432x288 with 1 Axes>"
      ]
     },
     "metadata": {
      "needs_background": "light"
     },
     "output_type": "display_data"
    }
   ],
   "source": [
    "# Plotting multi-class grouped column Label_Category\n",
    "\n",
    "train_attacks = dataset['Label_Category'].value_counts()\n",
    "train_attacks.plot(kind='barh', color='#a3c1ad')\n",
    "plt.title('Distribution of Attack Categories (Grouped)')"
   ]
  },
  {
   "cell_type": "code",
   "execution_count": 21,
   "metadata": {},
   "outputs": [
    {
     "data": {
      "text/plain": [
       "Text(0.5, 1.0, 'Distribution of Attack Categories')"
      ]
     },
     "execution_count": 21,
     "metadata": {},
     "output_type": "execute_result"
    },
    {
     "data": {
      "image/png": "[encoded data removed]",
      "text/plain": [
       "<Figure size 432x288 with 1 Axes>"
      ]
     },
     "metadata": {
      "needs_background": "light"
     },
     "output_type": "display_data"
    }
   ],
   "source": [
    "# Plotting multi-label column Label\n",
    "\n",
    "train_attacks = dataset['Label'].value_counts()\n",
    "train_attacks.plot(kind='barh', color='#a3c1ad')\n",
    "plt.title('Distribution of Attack Categories')"
   ]
  },
  {
   "cell_type": "code",
   "execution_count": 22,
   "metadata": {},
   "outputs": [
    {
     "name": "stdout",
     "output_type": "stream",
     "text": [
      "Total number of all attack classes : 12\n",
      "Total number of attack categories : 7\n"
     ]
    }
   ],
   "source": [
    "print('Total number of all attack classes :',len(dataset.Label.unique()))\n",
    "print('Total number of attack categories :',len(dataset.Label_Category.unique()))"
   ]
  },
  {
   "cell_type": "markdown",
   "metadata": {},
   "source": [
    "# Splitting the dataset"
   ]
  },
  {
   "cell_type": "markdown",
   "metadata": {},
   "source": [
    "Splitting dataset in 60:20:20 ratio, for training, testing and validation dataset. \n",
    "By stratifying with y label proportions of attacks remain the same throughout the 3 sets. "
   ]
  },
  {
   "cell_type": "code",
   "execution_count": 23,
   "metadata": {},
   "outputs": [],
   "source": [
    "# 3 Different labeling options\n",
    "attacks = ['Label', 'Label_Category', 'Attack']\n",
    "\n",
    "# xs=feature vectors, ys=labels\n",
    "xs = dataset.drop(attacks, axis=1)\n",
    "ys = dataset[attacks]\n",
    "\n",
    "# split dataset - stratified\n",
    "x_train, x_temp, y_train, y_temp = train_test_split(xs, ys, test_size=0.4, random_state=0, stratify=ys['Label'])\n",
    "x_test, x_validate, y_test, y_validate = train_test_split(x_temp, y_temp, test_size=0.5, random_state=0, stratify=y_temp['Label'])"
   ]
  },
  {
   "cell_type": "markdown",
   "metadata": {},
   "source": [
    "# Removing the columns with single unique values as it has no contribution in classification"
   ]
  },
  {
   "cell_type": "code",
   "execution_count": 24,
   "metadata": {},
   "outputs": [
    {
     "data": {
      "text/plain": [
       "['Fwd_URG_Flags',\n",
       " 'Fwd_Header_Length',\n",
       " 'Fwd_Avg_Bytes_Bulk',\n",
       " 'Fwd_Avg_Packets_Bulk',\n",
       " 'Fwd_Avg_Bulk_Rate',\n",
       " 'Bwd_Avg_Bytes_Bulk',\n",
       " 'Bwd_Avg_Packets_Bulk',\n",
       " 'Bwd_Avg_Bulk_Rate']"
      ]
     },
     "execution_count": 24,
     "metadata": {},
     "output_type": "execute_result"
    }
   ],
   "source": [
    "column_names = np.array(list(x_train))\n",
    "to_drop = []\n",
    "for x in column_names:\n",
    "    size = x_train.groupby([x]).size()\n",
    "    # check for columns that only take one value\n",
    "    if (len(size.unique()) == 1):\n",
    "        to_drop.append(x)\n",
    "to_drop"
   ]
  },
  {
   "cell_type": "code",
   "execution_count": 25,
   "metadata": {},
   "outputs": [],
   "source": [
    "x_train = x_train.drop(to_drop, axis=1)\n",
    "x_validate = x_validate.drop(to_drop, axis=1)\n",
    "x_test = x_test.drop(to_drop, axis=1)\n",
    "dataset_copy = dataset.drop(to_drop, axis=1)"
   ]
  },
  {
   "cell_type": "code",
   "execution_count": 26,
   "metadata": {},
   "outputs": [
    {
     "data": {
      "text/plain": [
       "(1696684, 69)"
      ]
     },
     "execution_count": 26,
     "metadata": {},
     "output_type": "execute_result"
    }
   ],
   "source": [
    "x_train.shape"
   ]
  },
  {
   "cell_type": "markdown",
   "metadata": {},
   "source": [
    "# Data Normalization"
   ]
  },
  {
   "cell_type": "markdown",
   "metadata": {},
   "source": [
    "Min-max normalization technique is used to normalize the numerical values in dataset."
   ]
  },
  {
   "cell_type": "code",
   "execution_count": 27,
   "metadata": {},
   "outputs": [],
   "source": [
    "# Normalise\n",
    "min_max_scaler = MinMaxScaler().fit(x_train)\n",
    "\n",
    "# Apply normalisation to dataset\n",
    "x_train = min_max_scaler.transform(x_train)\n",
    "x_validate = min_max_scaler.transform(x_validate)\n",
    "x_test = min_max_scaler.transform(x_test)"
   ]
  },
  {
   "cell_type": "markdown",
   "metadata": {},
   "source": [
    "#  Feature Selection"
   ]
  },
  {
   "cell_type": "markdown",
   "metadata": {},
   "source": [
    "Selecting K-best features by using chi2 scoring function for features"
   ]
  },
  {
   "cell_type": "code",
   "execution_count": 28,
   "metadata": {},
   "outputs": [],
   "source": [
    "features = SelectKBest(score_func=chi2, k=x_train.shape[1])\n",
    "\n",
    "#fit features to the training dataset\n",
    "fit = features.fit(x_train, y_train.Label)"
   ]
  },
  {
   "cell_type": "code",
   "execution_count": 29,
   "metadata": {},
   "outputs": [],
   "source": [
    "# perform selectkbest with k=40\n",
    "\n",
    "features = SelectKBest(score_func=chi2, k=40)\n",
    "fit = features.fit(x_train, y_train.Label)\n",
    "\n",
    "x_train = fit.transform(x_train)\n",
    "x_test = fit.transform(x_test)\n",
    "x_validate = fit.transform(x_validate)"
   ]
  },
  {
   "cell_type": "code",
   "execution_count": 30,
   "metadata": {},
   "outputs": [],
   "source": [
    "new_features = dataset_copy.columns[features.get_support(indices=True)]"
   ]
  },
  {
   "cell_type": "code",
   "execution_count": 31,
   "metadata": {},
   "outputs": [
    {
     "name": "stdout",
     "output_type": "stream",
     "text": [
      "Number of features selected : 40\n"
     ]
    },
    {
     "data": {
      "text/plain": [
       "Index(['Destination_Port', 'Flow_Duration', 'Total_Fwd_Packets',\n",
       "       'Bwd_Packet_Length_Min', 'Bwd_Packet_Length_Mean',\n",
       "       'Bwd_Packet_Length_Std', 'Flow_Bytes_s', 'Flow_IAT_Std', 'Flow_IAT_Max',\n",
       "       'Flow_IAT_Min', 'Fwd_IAT_Total', 'Fwd_IAT_Mean', 'Fwd_IAT_Std',\n",
       "       'Fwd_IAT_Max', 'Fwd_IAT_Min', 'Bwd_IAT_Total', 'Bwd_IAT_Mean',\n",
       "       'Bwd_IAT_Std', 'Bwd_IAT_Max', 'Bwd_IAT_Min', 'Fwd_PSH_Flags',\n",
       "       'Bwd_PSH_Flags', 'Bwd_Packets_s', 'Packet_Length_Mean',\n",
       "       'Packet_Length_Std', 'Packet_Length_Variance', 'FIN_Flag_Count',\n",
       "       'SYN_Flag_Count', 'RST_Flag_Count', 'ACK_Flag_Count', 'URG_Flag_Count',\n",
       "       'CWE_Flag_Count', 'Avg_Fwd_Segment_Size', 'Init_Win_bytes_forward',\n",
       "       'Init_Win_bytes_backward', 'Active_Min', 'Idle_Mean', 'Idle_Std',\n",
       "       'Idle_Max', 'Idle_Min'],\n",
       "      dtype='object')"
      ]
     },
     "execution_count": 31,
     "metadata": {},
     "output_type": "execute_result"
    }
   ],
   "source": [
    "print('Number of features selected :',len(new_features))\n",
    "new_features"
   ]
  },
  {
   "cell_type": "code",
   "execution_count": 32,
   "metadata": {},
   "outputs": [],
   "source": [
    "attack = np.array(['BENIGN', 'Bot', 'Brute Force', 'DDoS', 'DoS GoldenEye', 'DoS Hulk', 'DoS Slowhttptest',\n",
    "                   'DoS slowloris', 'FTP-Patator', 'PortScan', 'SSH-Patator', 'XSS'])\n",
    "attack_groups = np.array(['benign', 'botnet', 'brute_force', 'ddos', 'dos', 'probe', 'web_attack'])"
   ]
  },
  {
   "cell_type": "code",
   "execution_count": null,
   "metadata": {},
   "outputs": [],
   "source": []
  },
  {
   "cell_type": "code",
   "execution_count": null,
   "metadata": {},
   "outputs": [],
   "source": []
  },
  {
   "cell_type": "code",
   "execution_count": null,
   "metadata": {},
   "outputs": [],
   "source": []
  }
 ],
 "metadata": {
  "kernelspec": {
   "display_name": "Python 3",
   "language": "python",
   "name": "python3"
  },
  "language_info": {
   "codemirror_mode": {
    "name": "ipython",
    "version": 3
   },
   "file_extension": ".py",
   "mimetype": "text/x-python",
   "name": "python",
   "nbconvert_exporter": "python",
   "pygments_lexer": "ipython3",
   "version": "3.8.8"
  }
 },
 "nbformat": 4,
 "nbformat_minor": 4
}
